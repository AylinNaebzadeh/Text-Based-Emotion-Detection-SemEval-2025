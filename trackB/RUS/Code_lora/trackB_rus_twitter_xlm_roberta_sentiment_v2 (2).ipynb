{
 "cells": [
  {
   "cell_type": "code",
   "execution_count": 1,
   "metadata": {
    "_cell_guid": "b1076dfc-b9ad-4769-8c92-a6c4dae69d19",
    "_uuid": "8f2839f25d086af736a60e9eeb907d3b93b6e0e5",
    "execution": {
     "iopub.execute_input": "2025-02-19T07:52:32.348361Z",
     "iopub.status.busy": "2025-02-19T07:52:32.347940Z",
     "iopub.status.idle": "2025-02-19T07:52:32.670094Z",
     "shell.execute_reply": "2025-02-19T07:52:32.669217Z",
     "shell.execute_reply.started": "2025-02-19T07:52:32.348328Z"
    },
    "trusted": true
   },
   "outputs": [],
   "source": [
    "import numpy as np # linear algebra\n",
    "import pandas as pd # data processing, CSV file I/O (e.g. pd.read_csv)"
   ]
  },
  {
   "cell_type": "markdown",
   "metadata": {},
   "source": [
    "# Install Libraries and Modules"
   ]
  },
  {
   "cell_type": "code",
   "execution_count": 2,
   "metadata": {
    "execution": {
     "iopub.execute_input": "2025-02-19T07:52:32.671401Z",
     "iopub.status.busy": "2025-02-19T07:52:32.670968Z",
     "iopub.status.idle": "2025-02-19T07:52:32.674995Z",
     "shell.execute_reply": "2025-02-19T07:52:32.674223Z",
     "shell.execute_reply.started": "2025-02-19T07:52:32.671371Z"
    },
    "trusted": true
   },
   "outputs": [],
   "source": [
    "import warnings\n",
    "warnings.filterwarnings('ignore') "
   ]
  },
  {
   "cell_type": "code",
   "execution_count": 3,
   "metadata": {
    "execution": {
     "iopub.execute_input": "2025-02-19T07:52:32.676011Z",
     "iopub.status.busy": "2025-02-19T07:52:32.675741Z",
     "iopub.status.idle": "2025-02-19T07:52:46.281771Z",
     "shell.execute_reply": "2025-02-19T07:52:46.280955Z",
     "shell.execute_reply.started": "2025-02-19T07:52:32.675985Z"
    },
    "trusted": true
   },
   "outputs": [
    {
     "name": "stdout",
     "output_type": "stream",
     "text": [
      "Found existing installation: wandb 0.19.1\n",
      "Uninstalling wandb-0.19.1:\n",
      "  Successfully uninstalled wandb-0.19.1\n"
     ]
    }
   ],
   "source": [
    "!pip uninstall -y wandb"
   ]
  },
  {
   "cell_type": "code",
   "execution_count": 4,
   "metadata": {
    "execution": {
     "iopub.execute_input": "2025-02-19T07:52:46.282835Z",
     "iopub.status.busy": "2025-02-19T07:52:46.282547Z",
     "iopub.status.idle": "2025-02-19T07:52:52.208242Z",
     "shell.execute_reply": "2025-02-19T07:52:52.207275Z",
     "shell.execute_reply.started": "2025-02-19T07:52:46.282814Z"
    },
    "trusted": true
   },
   "outputs": [
    {
     "name": "stdout",
     "output_type": "stream",
     "text": [
      "Collecting wandb==0.17.5\n",
      "  Downloading wandb-0.17.5-py3-none-manylinux_2_5_x86_64.manylinux1_x86_64.manylinux_2_17_x86_64.manylinux2014_x86_64.whl.metadata (10 kB)\n",
      "Requirement already satisfied: click!=8.0.0,>=7.1 in /usr/local/lib/python3.10/dist-packages (from wandb==0.17.5) (8.1.7)\n",
      "Requirement already satisfied: docker-pycreds>=0.4.0 in /usr/local/lib/python3.10/dist-packages (from wandb==0.17.5) (0.4.0)\n",
      "Requirement already satisfied: gitpython!=3.1.29,>=1.0.0 in /usr/local/lib/python3.10/dist-packages (from wandb==0.17.5) (3.1.43)\n",
      "Requirement already satisfied: platformdirs in /usr/local/lib/python3.10/dist-packages (from wandb==0.17.5) (4.3.6)\n",
      "Requirement already satisfied: protobuf!=4.21.0,<6,>=3.19.0 in /usr/local/lib/python3.10/dist-packages (from wandb==0.17.5) (3.20.3)\n",
      "Requirement already satisfied: psutil>=5.0.0 in /usr/local/lib/python3.10/dist-packages (from wandb==0.17.5) (5.9.5)\n",
      "Requirement already satisfied: pyyaml in /usr/local/lib/python3.10/dist-packages (from wandb==0.17.5) (6.0.2)\n",
      "Requirement already satisfied: requests<3,>=2.0.0 in /usr/local/lib/python3.10/dist-packages (from wandb==0.17.5) (2.32.3)\n",
      "Requirement already satisfied: sentry-sdk>=1.0.0 in /usr/local/lib/python3.10/dist-packages (from wandb==0.17.5) (2.19.2)\n",
      "Requirement already satisfied: setproctitle in /usr/local/lib/python3.10/dist-packages (from wandb==0.17.5) (1.3.4)\n",
      "Requirement already satisfied: setuptools in /usr/local/lib/python3.10/dist-packages (from wandb==0.17.5) (75.1.0)\n",
      "Requirement already satisfied: six>=1.4.0 in /usr/local/lib/python3.10/dist-packages (from docker-pycreds>=0.4.0->wandb==0.17.5) (1.17.0)\n",
      "Requirement already satisfied: gitdb<5,>=4.0.1 in /usr/local/lib/python3.10/dist-packages (from gitpython!=3.1.29,>=1.0.0->wandb==0.17.5) (4.0.11)\n",
      "Requirement already satisfied: charset-normalizer<4,>=2 in /usr/local/lib/python3.10/dist-packages (from requests<3,>=2.0.0->wandb==0.17.5) (3.4.1)\n",
      "Requirement already satisfied: idna<4,>=2.5 in /usr/local/lib/python3.10/dist-packages (from requests<3,>=2.0.0->wandb==0.17.5) (3.10)\n",
      "Requirement already satisfied: urllib3<3,>=1.21.1 in /usr/local/lib/python3.10/dist-packages (from requests<3,>=2.0.0->wandb==0.17.5) (2.3.0)\n",
      "Requirement already satisfied: certifi>=2017.4.17 in /usr/local/lib/python3.10/dist-packages (from requests<3,>=2.0.0->wandb==0.17.5) (2025.1.31)\n",
      "Requirement already satisfied: smmap<6,>=3.0.1 in /usr/local/lib/python3.10/dist-packages (from gitdb<5,>=4.0.1->gitpython!=3.1.29,>=1.0.0->wandb==0.17.5) (5.0.1)\n",
      "Downloading wandb-0.17.5-py3-none-manylinux_2_5_x86_64.manylinux1_x86_64.manylinux_2_17_x86_64.manylinux2014_x86_64.whl (6.8 MB)\n",
      "\u001b[2K   \u001b[90m━━━━━━━━━━━━━━━━━━━━━━━━━━━━━━━━━━━━━━━━\u001b[0m \u001b[32m6.8/6.8 MB\u001b[0m \u001b[31m46.0 MB/s\u001b[0m eta \u001b[36m0:00:00\u001b[0m00:01\u001b[0m00:01\u001b[0m\n",
      "\u001b[?25hInstalling collected packages: wandb\n",
      "Successfully installed wandb-0.17.5\n"
     ]
    }
   ],
   "source": [
    "!pip install wandb==0.17.5 "
   ]
  },
  {
   "cell_type": "code",
   "execution_count": 5,
   "metadata": {
    "execution": {
     "iopub.execute_input": "2025-02-19T07:52:52.209726Z",
     "iopub.status.busy": "2025-02-19T07:52:52.209372Z",
     "iopub.status.idle": "2025-02-19T07:52:53.205902Z",
     "shell.execute_reply": "2025-02-19T07:52:53.205277Z",
     "shell.execute_reply.started": "2025-02-19T07:52:52.209696Z"
    },
    "trusted": true
   },
   "outputs": [],
   "source": [
    "import wandb"
   ]
  },
  {
   "cell_type": "code",
   "execution_count": 6,
   "metadata": {
    "execution": {
     "iopub.execute_input": "2025-02-19T07:52:53.208886Z",
     "iopub.status.busy": "2025-02-19T07:52:53.208691Z",
     "iopub.status.idle": "2025-02-19T07:52:55.042058Z",
     "shell.execute_reply": "2025-02-19T07:52:55.041010Z",
     "shell.execute_reply.started": "2025-02-19T07:52:53.208869Z"
    },
    "trusted": true
   },
   "outputs": [
    {
     "name": "stdout",
     "output_type": "stream",
     "text": [
      "W&B offline. Running your script from this directory will only write metadata locally. Use wandb disabled to completely turn off W&B.\n",
      "W&B disabled.\n"
     ]
    }
   ],
   "source": [
    "!wandb offline\n",
    "!wandb disabled"
   ]
  },
  {
   "cell_type": "code",
   "execution_count": 7,
   "metadata": {
    "execution": {
     "iopub.execute_input": "2025-02-19T07:52:55.044252Z",
     "iopub.status.busy": "2025-02-19T07:52:55.043932Z",
     "iopub.status.idle": "2025-02-19T07:52:55.047928Z",
     "shell.execute_reply": "2025-02-19T07:52:55.047156Z",
     "shell.execute_reply.started": "2025-02-19T07:52:55.044215Z"
    },
    "trusted": true
   },
   "outputs": [],
   "source": [
    "import os\n",
    "os.environ[\"WANDB_DISABLED\"] = \"true\""
   ]
  },
  {
   "cell_type": "code",
   "execution_count": 8,
   "metadata": {
    "execution": {
     "iopub.execute_input": "2025-02-19T07:52:55.048890Z",
     "iopub.status.busy": "2025-02-19T07:52:55.048698Z",
     "iopub.status.idle": "2025-02-19T07:52:58.773858Z",
     "shell.execute_reply": "2025-02-19T07:52:58.772757Z",
     "shell.execute_reply.started": "2025-02-19T07:52:55.048873Z"
    },
    "trusted": true
   },
   "outputs": [
    {
     "name": "stdout",
     "output_type": "stream",
     "text": [
      "Requirement already satisfied: datasets in /usr/local/lib/python3.10/dist-packages (3.2.0)\n",
      "Requirement already satisfied: transformers in /usr/local/lib/python3.10/dist-packages (4.47.0)\n",
      "Collecting evaluate\n",
      "  Downloading evaluate-0.4.3-py3-none-any.whl.metadata (9.2 kB)\n",
      "Requirement already satisfied: sentencepiece in /usr/local/lib/python3.10/dist-packages (0.2.0)\n",
      "Requirement already satisfied: accelerate in /usr/local/lib/python3.10/dist-packages (1.2.1)\n",
      "Requirement already satisfied: filelock in /usr/local/lib/python3.10/dist-packages (from datasets) (3.17.0)\n",
      "Requirement already satisfied: numpy>=1.17 in /usr/local/lib/python3.10/dist-packages (from datasets) (1.26.4)\n",
      "Requirement already satisfied: pyarrow>=15.0.0 in /usr/local/lib/python3.10/dist-packages (from datasets) (19.0.0)\n",
      "Requirement already satisfied: dill<0.3.9,>=0.3.0 in /usr/local/lib/python3.10/dist-packages (from datasets) (0.3.8)\n",
      "Requirement already satisfied: pandas in /usr/local/lib/python3.10/dist-packages (from datasets) (2.2.3)\n",
      "Requirement already satisfied: requests>=2.32.2 in /usr/local/lib/python3.10/dist-packages (from datasets) (2.32.3)\n",
      "Requirement already satisfied: tqdm>=4.66.3 in /usr/local/lib/python3.10/dist-packages (from datasets) (4.67.1)\n",
      "Requirement already satisfied: xxhash in /usr/local/lib/python3.10/dist-packages (from datasets) (3.5.0)\n",
      "Requirement already satisfied: multiprocess<0.70.17 in /usr/local/lib/python3.10/dist-packages (from datasets) (0.70.16)\n",
      "Requirement already satisfied: fsspec<=2024.9.0,>=2023.1.0 in /usr/local/lib/python3.10/dist-packages (from fsspec[http]<=2024.9.0,>=2023.1.0->datasets) (2024.9.0)\n",
      "Requirement already satisfied: aiohttp in /usr/local/lib/python3.10/dist-packages (from datasets) (3.11.11)\n",
      "Requirement already satisfied: huggingface-hub>=0.23.0 in /usr/local/lib/python3.10/dist-packages (from datasets) (0.28.1)\n",
      "Requirement already satisfied: packaging in /usr/local/lib/python3.10/dist-packages (from datasets) (24.2)\n",
      "Requirement already satisfied: pyyaml>=5.1 in /usr/local/lib/python3.10/dist-packages (from datasets) (6.0.2)\n",
      "Requirement already satisfied: regex!=2019.12.17 in /usr/local/lib/python3.10/dist-packages (from transformers) (2024.11.6)\n",
      "Requirement already satisfied: tokenizers<0.22,>=0.21 in /usr/local/lib/python3.10/dist-packages (from transformers) (0.21.0)\n",
      "Requirement already satisfied: safetensors>=0.4.1 in /usr/local/lib/python3.10/dist-packages (from transformers) (0.4.5)\n",
      "Requirement already satisfied: psutil in /usr/local/lib/python3.10/dist-packages (from accelerate) (5.9.5)\n",
      "Requirement already satisfied: torch>=1.10.0 in /usr/local/lib/python3.10/dist-packages (from accelerate) (2.5.1+cu121)\n",
      "Requirement already satisfied: aiohappyeyeballs>=2.3.0 in /usr/local/lib/python3.10/dist-packages (from aiohttp->datasets) (2.4.4)\n",
      "Requirement already satisfied: aiosignal>=1.1.2 in /usr/local/lib/python3.10/dist-packages (from aiohttp->datasets) (1.3.2)\n",
      "Requirement already satisfied: async-timeout<6.0,>=4.0 in /usr/local/lib/python3.10/dist-packages (from aiohttp->datasets) (5.0.1)\n",
      "Requirement already satisfied: attrs>=17.3.0 in /usr/local/lib/python3.10/dist-packages (from aiohttp->datasets) (25.1.0)\n",
      "Requirement already satisfied: frozenlist>=1.1.1 in /usr/local/lib/python3.10/dist-packages (from aiohttp->datasets) (1.5.0)\n",
      "Requirement already satisfied: multidict<7.0,>=4.5 in /usr/local/lib/python3.10/dist-packages (from aiohttp->datasets) (6.1.0)\n",
      "Requirement already satisfied: propcache>=0.2.0 in /usr/local/lib/python3.10/dist-packages (from aiohttp->datasets) (0.2.1)\n",
      "Requirement already satisfied: yarl<2.0,>=1.17.0 in /usr/local/lib/python3.10/dist-packages (from aiohttp->datasets) (1.18.3)\n",
      "Requirement already satisfied: typing-extensions>=3.7.4.3 in /usr/local/lib/python3.10/dist-packages (from huggingface-hub>=0.23.0->datasets) (4.12.2)\n",
      "Requirement already satisfied: mkl_fft in /usr/local/lib/python3.10/dist-packages (from numpy>=1.17->datasets) (1.3.8)\n",
      "Requirement already satisfied: mkl_random in /usr/local/lib/python3.10/dist-packages (from numpy>=1.17->datasets) (1.2.4)\n",
      "Requirement already satisfied: mkl_umath in /usr/local/lib/python3.10/dist-packages (from numpy>=1.17->datasets) (0.1.1)\n",
      "Requirement already satisfied: mkl in /usr/local/lib/python3.10/dist-packages (from numpy>=1.17->datasets) (2025.0.1)\n",
      "Requirement already satisfied: tbb4py in /usr/local/lib/python3.10/dist-packages (from numpy>=1.17->datasets) (2022.0.0)\n",
      "Requirement already satisfied: mkl-service in /usr/local/lib/python3.10/dist-packages (from numpy>=1.17->datasets) (2.4.1)\n",
      "Requirement already satisfied: charset-normalizer<4,>=2 in /usr/local/lib/python3.10/dist-packages (from requests>=2.32.2->datasets) (3.4.1)\n",
      "Requirement already satisfied: idna<4,>=2.5 in /usr/local/lib/python3.10/dist-packages (from requests>=2.32.2->datasets) (3.10)\n",
      "Requirement already satisfied: urllib3<3,>=1.21.1 in /usr/local/lib/python3.10/dist-packages (from requests>=2.32.2->datasets) (2.3.0)\n",
      "Requirement already satisfied: certifi>=2017.4.17 in /usr/local/lib/python3.10/dist-packages (from requests>=2.32.2->datasets) (2025.1.31)\n",
      "Requirement already satisfied: networkx in /usr/local/lib/python3.10/dist-packages (from torch>=1.10.0->accelerate) (3.4.2)\n",
      "Requirement already satisfied: jinja2 in /usr/local/lib/python3.10/dist-packages (from torch>=1.10.0->accelerate) (3.1.4)\n",
      "Requirement already satisfied: sympy==1.13.1 in /usr/local/lib/python3.10/dist-packages (from torch>=1.10.0->accelerate) (1.13.1)\n",
      "Requirement already satisfied: mpmath<1.4,>=1.1.0 in /usr/local/lib/python3.10/dist-packages (from sympy==1.13.1->torch>=1.10.0->accelerate) (1.3.0)\n",
      "Requirement already satisfied: python-dateutil>=2.8.2 in /usr/local/lib/python3.10/dist-packages (from pandas->datasets) (2.9.0.post0)\n",
      "Requirement already satisfied: pytz>=2020.1 in /usr/local/lib/python3.10/dist-packages (from pandas->datasets) (2025.1)\n",
      "Requirement already satisfied: tzdata>=2022.7 in /usr/local/lib/python3.10/dist-packages (from pandas->datasets) (2025.1)\n",
      "Requirement already satisfied: six>=1.5 in /usr/local/lib/python3.10/dist-packages (from python-dateutil>=2.8.2->pandas->datasets) (1.17.0)\n",
      "Requirement already satisfied: MarkupSafe>=2.0 in /usr/local/lib/python3.10/dist-packages (from jinja2->torch>=1.10.0->accelerate) (3.0.2)\n",
      "Requirement already satisfied: intel-openmp>=2024 in /usr/local/lib/python3.10/dist-packages (from mkl->numpy>=1.17->datasets) (2024.2.0)\n",
      "Requirement already satisfied: tbb==2022.* in /usr/local/lib/python3.10/dist-packages (from mkl->numpy>=1.17->datasets) (2022.0.0)\n",
      "Requirement already satisfied: tcmlib==1.* in /usr/local/lib/python3.10/dist-packages (from tbb==2022.*->mkl->numpy>=1.17->datasets) (1.2.0)\n",
      "Requirement already satisfied: intel-cmplr-lib-rt in /usr/local/lib/python3.10/dist-packages (from mkl_umath->numpy>=1.17->datasets) (2024.2.0)\n",
      "Requirement already satisfied: intel-cmplr-lib-ur==2024.2.0 in /usr/local/lib/python3.10/dist-packages (from intel-openmp>=2024->mkl->numpy>=1.17->datasets) (2024.2.0)\n",
      "Downloading evaluate-0.4.3-py3-none-any.whl (84 kB)\n",
      "\u001b[2K   \u001b[90m━━━━━━━━━━━━━━━━━━━━━━━━━━━━━━━━━━━━━━━━\u001b[0m \u001b[32m84.0/84.0 kB\u001b[0m \u001b[31m2.8 MB/s\u001b[0m eta \u001b[36m0:00:00\u001b[0m\n",
      "\u001b[?25hInstalling collected packages: evaluate\n",
      "Successfully installed evaluate-0.4.3\n"
     ]
    }
   ],
   "source": [
    "!pip install datasets transformers evaluate sentencepiece accelerate"
   ]
  },
  {
   "cell_type": "code",
   "execution_count": 9,
   "metadata": {
    "execution": {
     "iopub.execute_input": "2025-02-19T07:52:58.775345Z",
     "iopub.status.busy": "2025-02-19T07:52:58.775024Z",
     "iopub.status.idle": "2025-02-19T07:53:20.510654Z",
     "shell.execute_reply": "2025-02-19T07:53:20.510007Z",
     "shell.execute_reply.started": "2025-02-19T07:52:58.775314Z"
    },
    "trusted": true
   },
   "outputs": [],
   "source": [
    "import matplotlib.pyplot as plt\n",
    "import seaborn as sns\n",
    "\n",
    "from datasets import Dataset\n",
    "from transformers import AutoTokenizer\n",
    "from transformers import AutoModelForSequenceClassification\n",
    "from transformers import TrainingArguments, Trainer\n",
    "\n",
    "import torch\n",
    "from sklearn.metrics import roc_auc_score\n",
    "from sklearn.metrics import roc_curve, auc\n",
    "from sklearn.metrics import confusion_matrix, ConfusionMatrixDisplay\n",
    "from sklearn.metrics import precision_recall_fscore_support, accuracy_score"
   ]
  },
  {
   "cell_type": "code",
   "execution_count": 10,
   "metadata": {
    "execution": {
     "iopub.execute_input": "2025-02-19T07:53:20.512014Z",
     "iopub.status.busy": "2025-02-19T07:53:20.511408Z",
     "iopub.status.idle": "2025-02-19T07:53:20.519404Z",
     "shell.execute_reply": "2025-02-19T07:53:20.518821Z",
     "shell.execute_reply.started": "2025-02-19T07:53:20.511980Z"
    },
    "trusted": true
   },
   "outputs": [
    {
     "name": "stdout",
     "output_type": "stream",
     "text": [
      "['public_data_test']\n"
     ]
    }
   ],
   "source": [
    "import os\n",
    "\n",
    "path = '/kaggle/input'\n",
    "print(os.listdir(path))\n"
   ]
  },
  {
   "cell_type": "code",
   "execution_count": 11,
   "metadata": {
    "execution": {
     "iopub.execute_input": "2025-02-19T07:53:20.520255Z",
     "iopub.status.busy": "2025-02-19T07:53:20.520046Z",
     "iopub.status.idle": "2025-02-19T07:53:20.593259Z",
     "shell.execute_reply": "2025-02-19T07:53:20.592685Z",
     "shell.execute_reply.started": "2025-02-19T07:53:20.520230Z"
    },
    "trusted": true
   },
   "outputs": [],
   "source": [
    "train_rus = pd.read_csv(\"/kaggle/input/public_data_test/track_b/train/rus.csv\")\n",
    "train_rus = pd.read_csv(\"/kaggle/input/public_data_test/track_b/train/rus.csv\")\n",
    "\n",
    "\n",
    "dev_rus = pd.read_csv(\"/kaggle/input/public_data_test/track_b/dev/rus.csv\")\n",
    "dev_rus = pd.read_csv(\"/kaggle/input/public_data_test/track_b/dev/rus.csv\")\n",
    "\n",
    "\n",
    "test_rus = pd.read_csv(\"/kaggle/input/public_data_test/track_b/test/rus.csv\")\n",
    "test_rus = pd.read_csv(\"/kaggle/input/public_data_test/track_b/test/rus.csv\")"
   ]
  },
  {
   "cell_type": "markdown",
   "metadata": {},
   "source": [
    "# RUSSIAN"
   ]
  },
  {
   "cell_type": "code",
   "execution_count": 12,
   "metadata": {
    "execution": {
     "iopub.execute_input": "2025-02-19T07:53:20.594242Z",
     "iopub.status.busy": "2025-02-19T07:53:20.594057Z",
     "iopub.status.idle": "2025-02-19T07:53:20.615724Z",
     "shell.execute_reply": "2025-02-19T07:53:20.615039Z",
     "shell.execute_reply.started": "2025-02-19T07:53:20.594225Z"
    },
    "trusted": true
   },
   "outputs": [
    {
     "data": {
      "text/html": [
       "<div>\n",
       "<style scoped>\n",
       "    .dataframe tbody tr th:only-of-type {\n",
       "        vertical-align: middle;\n",
       "    }\n",
       "\n",
       "    .dataframe tbody tr th {\n",
       "        vertical-align: top;\n",
       "    }\n",
       "\n",
       "    .dataframe thead th {\n",
       "        text-align: right;\n",
       "    }\n",
       "</style>\n",
       "<table border=\"1\" class=\"dataframe\">\n",
       "  <thead>\n",
       "    <tr style=\"text-align: right;\">\n",
       "      <th></th>\n",
       "      <th>id</th>\n",
       "      <th>text</th>\n",
       "      <th>anger</th>\n",
       "      <th>disgust</th>\n",
       "      <th>fear</th>\n",
       "      <th>joy</th>\n",
       "      <th>sadness</th>\n",
       "      <th>surprise</th>\n",
       "    </tr>\n",
       "  </thead>\n",
       "  <tbody>\n",
       "    <tr>\n",
       "      <th>0</th>\n",
       "      <td>rus_train_track_b_00001</td>\n",
       "      <td>Я в душ боюсь идти из-за носа :с</td>\n",
       "      <td>0</td>\n",
       "      <td>0</td>\n",
       "      <td>2</td>\n",
       "      <td>0</td>\n",
       "      <td>0</td>\n",
       "      <td>0</td>\n",
       "    </tr>\n",
       "    <tr>\n",
       "      <th>1</th>\n",
       "      <td>rus_train_track_b_00002</td>\n",
       "      <td>Аааа тишина грёбаная!! почему ты не можешь ход...</td>\n",
       "      <td>3</td>\n",
       "      <td>0</td>\n",
       "      <td>0</td>\n",
       "      <td>0</td>\n",
       "      <td>0</td>\n",
       "      <td>0</td>\n",
       "    </tr>\n",
       "    <tr>\n",
       "      <th>2</th>\n",
       "      <td>rus_train_track_b_00003</td>\n",
       "      <td>МАЛФОЙ, У ТЯ ПРЕКРАСНЫЙ ГОЛОС!!!!!!!!!!!!!!!!!...</td>\n",
       "      <td>0</td>\n",
       "      <td>0</td>\n",
       "      <td>0</td>\n",
       "      <td>3</td>\n",
       "      <td>0</td>\n",
       "      <td>0</td>\n",
       "    </tr>\n",
       "    <tr>\n",
       "      <th>3</th>\n",
       "      <td>rus_train_track_b_00004</td>\n",
       "      <td>иди в жопу</td>\n",
       "      <td>2</td>\n",
       "      <td>0</td>\n",
       "      <td>0</td>\n",
       "      <td>0</td>\n",
       "      <td>0</td>\n",
       "      <td>0</td>\n",
       "    </tr>\n",
       "    <tr>\n",
       "      <th>4</th>\n",
       "      <td>rus_train_track_b_00005</td>\n",
       "      <td>Прежде, чем подумать, подумай — стоит ли думать.</td>\n",
       "      <td>0</td>\n",
       "      <td>0</td>\n",
       "      <td>0</td>\n",
       "      <td>0</td>\n",
       "      <td>0</td>\n",
       "      <td>0</td>\n",
       "    </tr>\n",
       "  </tbody>\n",
       "</table>\n",
       "</div>"
      ],
      "text/plain": [
       "                        id                                               text  \\\n",
       "0  rus_train_track_b_00001                   Я в душ боюсь идти из-за носа :с   \n",
       "1  rus_train_track_b_00002  Аааа тишина грёбаная!! почему ты не можешь ход...   \n",
       "2  rus_train_track_b_00003  МАЛФОЙ, У ТЯ ПРЕКРАСНЫЙ ГОЛОС!!!!!!!!!!!!!!!!!...   \n",
       "3  rus_train_track_b_00004                                         иди в жопу   \n",
       "4  rus_train_track_b_00005   Прежде, чем подумать, подумай — стоит ли думать.   \n",
       "\n",
       "   anger  disgust  fear  joy  sadness  surprise  \n",
       "0      0        0     2    0        0         0  \n",
       "1      3        0     0    0        0         0  \n",
       "2      0        0     0    3        0         0  \n",
       "3      2        0     0    0        0         0  \n",
       "4      0        0     0    0        0         0  "
      ]
     },
     "execution_count": 12,
     "metadata": {},
     "output_type": "execute_result"
    }
   ],
   "source": [
    "train_rus.head()"
   ]
  },
  {
   "cell_type": "code",
   "execution_count": 13,
   "metadata": {
    "execution": {
     "iopub.execute_input": "2025-02-19T07:53:20.616709Z",
     "iopub.status.busy": "2025-02-19T07:53:20.616386Z",
     "iopub.status.idle": "2025-02-19T07:53:20.637023Z",
     "shell.execute_reply": "2025-02-19T07:53:20.636383Z",
     "shell.execute_reply.started": "2025-02-19T07:53:20.616677Z"
    },
    "trusted": true
   },
   "outputs": [
    {
     "name": "stdout",
     "output_type": "stream",
     "text": [
      "<class 'pandas.core.frame.DataFrame'>\n",
      "RangeIndex: 2220 entries, 0 to 2219\n",
      "Data columns (total 8 columns):\n",
      " #   Column    Non-Null Count  Dtype \n",
      "---  ------    --------------  ----- \n",
      " 0   id        2220 non-null   object\n",
      " 1   text      2220 non-null   object\n",
      " 2   anger     2220 non-null   int64 \n",
      " 3   disgust   2220 non-null   int64 \n",
      " 4   fear      2220 non-null   int64 \n",
      " 5   joy       2220 non-null   int64 \n",
      " 6   sadness   2220 non-null   int64 \n",
      " 7   surprise  2220 non-null   int64 \n",
      "dtypes: int64(6), object(2)\n",
      "memory usage: 138.9+ KB\n"
     ]
    }
   ],
   "source": [
    "train_rus.info()"
   ]
  },
  {
   "cell_type": "code",
   "execution_count": 14,
   "metadata": {
    "execution": {
     "iopub.execute_input": "2025-02-19T07:53:20.637942Z",
     "iopub.status.busy": "2025-02-19T07:53:20.637754Z",
     "iopub.status.idle": "2025-02-19T07:53:20.646268Z",
     "shell.execute_reply": "2025-02-19T07:53:20.645173Z",
     "shell.execute_reply.started": "2025-02-19T07:53:20.637924Z"
    },
    "trusted": true
   },
   "outputs": [
    {
     "name": "stdout",
     "output_type": "stream",
     "text": [
      "<class 'pandas.core.frame.DataFrame'>\n",
      "RangeIndex: 343 entries, 0 to 342\n",
      "Data columns (total 8 columns):\n",
      " #   Column    Non-Null Count  Dtype \n",
      "---  ------    --------------  ----- \n",
      " 0   id        343 non-null    object\n",
      " 1   text      343 non-null    object\n",
      " 2   anger     343 non-null    int64 \n",
      " 3   disgust   343 non-null    int64 \n",
      " 4   fear      343 non-null    int64 \n",
      " 5   joy       343 non-null    int64 \n",
      " 6   sadness   343 non-null    int64 \n",
      " 7   surprise  343 non-null    int64 \n",
      "dtypes: int64(6), object(2)\n",
      "memory usage: 21.6+ KB\n"
     ]
    }
   ],
   "source": [
    "dev_rus.info()"
   ]
  },
  {
   "cell_type": "code",
   "execution_count": 15,
   "metadata": {
    "execution": {
     "iopub.execute_input": "2025-02-19T07:53:20.647539Z",
     "iopub.status.busy": "2025-02-19T07:53:20.647248Z",
     "iopub.status.idle": "2025-02-19T07:53:20.927753Z",
     "shell.execute_reply": "2025-02-19T07:53:20.926811Z",
     "shell.execute_reply.started": "2025-02-19T07:53:20.647496Z"
    },
    "trusted": true
   },
   "outputs": [
    {
     "data": {
      "text/plain": [
       "<Axes: >"
      ]
     },
     "execution_count": 15,
     "metadata": {},
     "output_type": "execute_result"
    },
    {
     "data": {
      "image/png": "[encoded data removed]",
      "text/plain": [
       "<Figure size 640x480 with 1 Axes>"
      ]
     },
     "metadata": {},
     "output_type": "display_data"
    }
   ],
   "source": [
    "attributes = ['anger', 'fear', 'joy', 'sadness', 'disgust','surprise']\n",
    "train_rus[attributes].sum().plot.bar()"
   ]
  },
  {
   "cell_type": "code",
   "execution_count": 16,
   "metadata": {
    "execution": {
     "iopub.execute_input": "2025-02-19T07:53:20.928807Z",
     "iopub.status.busy": "2025-02-19T07:53:20.928506Z",
     "iopub.status.idle": "2025-02-19T07:53:21.097190Z",
     "shell.execute_reply": "2025-02-19T07:53:21.096282Z",
     "shell.execute_reply.started": "2025-02-19T07:53:20.928780Z"
    },
    "trusted": true
   },
   "outputs": [
    {
     "data": {
      "text/plain": [
       "<Axes: >"
      ]
     },
     "execution_count": 16,
     "metadata": {},
     "output_type": "execute_result"
    },
    {
     "data": {
      "image/png": "[encoded data removed]",
      "text/plain": [
       "<Figure size 640x480 with 1 Axes>"
      ]
     },
     "metadata": {},
     "output_type": "display_data"
    }
   ],
   "source": [
    "dev_rus[attributes].sum().plot.bar()"
   ]
  },
  {
   "cell_type": "code",
   "execution_count": 17,
   "metadata": {
    "execution": {
     "iopub.execute_input": "2025-02-19T07:53:21.098373Z",
     "iopub.status.busy": "2025-02-19T07:53:21.098072Z",
     "iopub.status.idle": "2025-02-19T07:53:21.107634Z",
     "shell.execute_reply": "2025-02-19T07:53:21.106769Z",
     "shell.execute_reply.started": "2025-02-19T07:53:21.098351Z"
    },
    "trusted": true
   },
   "outputs": [
    {
     "name": "stdout",
     "output_type": "stream",
     "text": [
      "<class 'pandas.core.frame.DataFrame'>\n",
      "RangeIndex: 650 entries, 0 to 649\n",
      "Data columns (total 8 columns):\n",
      " #   Column    Non-Null Count  Dtype  \n",
      "---  ------    --------------  -----  \n",
      " 0   id        650 non-null    object \n",
      " 1   text      650 non-null    object \n",
      " 2   anger     0 non-null      float64\n",
      " 3   disgust   0 non-null      float64\n",
      " 4   fear      0 non-null      float64\n",
      " 5   joy       0 non-null      float64\n",
      " 6   sadness   0 non-null      float64\n",
      " 7   surprise  0 non-null      float64\n",
      "dtypes: float64(6), object(2)\n",
      "memory usage: 40.8+ KB\n"
     ]
    }
   ],
   "source": [
    "test_rus.info()"
   ]
  },
  {
   "cell_type": "code",
   "execution_count": 18,
   "metadata": {
    "execution": {
     "iopub.execute_input": "2025-02-19T07:53:21.109082Z",
     "iopub.status.busy": "2025-02-19T07:53:21.108811Z",
     "iopub.status.idle": "2025-02-19T07:53:21.126573Z",
     "shell.execute_reply": "2025-02-19T07:53:21.125668Z",
     "shell.execute_reply.started": "2025-02-19T07:53:21.109049Z"
    },
    "trusted": true
   },
   "outputs": [
    {
     "data": {
      "text/html": [
       "<div>\n",
       "<style scoped>\n",
       "    .dataframe tbody tr th:only-of-type {\n",
       "        vertical-align: middle;\n",
       "    }\n",
       "\n",
       "    .dataframe tbody tr th {\n",
       "        vertical-align: top;\n",
       "    }\n",
       "\n",
       "    .dataframe thead th {\n",
       "        text-align: right;\n",
       "    }\n",
       "</style>\n",
       "<table border=\"1\" class=\"dataframe\">\n",
       "  <thead>\n",
       "    <tr style=\"text-align: right;\">\n",
       "      <th></th>\n",
       "      <th>id</th>\n",
       "      <th>text</th>\n",
       "      <th>anger</th>\n",
       "      <th>disgust</th>\n",
       "      <th>fear</th>\n",
       "      <th>joy</th>\n",
       "      <th>sadness</th>\n",
       "      <th>surprise</th>\n",
       "    </tr>\n",
       "  </thead>\n",
       "  <tbody>\n",
       "    <tr>\n",
       "      <th>0</th>\n",
       "      <td>rus_test_track_b_00001</td>\n",
       "      <td>Ну что, нового года дождались, теперь все буду...</td>\n",
       "      <td>NaN</td>\n",
       "      <td>NaN</td>\n",
       "      <td>NaN</td>\n",
       "      <td>NaN</td>\n",
       "      <td>NaN</td>\n",
       "      <td>NaN</td>\n",
       "    </tr>\n",
       "    <tr>\n",
       "      <th>1</th>\n",
       "      <td>rus_test_track_b_00002</td>\n",
       "      <td>ненавижу когда мне говорят о том, что хотят со...</td>\n",
       "      <td>NaN</td>\n",
       "      <td>NaN</td>\n",
       "      <td>NaN</td>\n",
       "      <td>NaN</td>\n",
       "      <td>NaN</td>\n",
       "      <td>NaN</td>\n",
       "    </tr>\n",
       "    <tr>\n",
       "      <th>2</th>\n",
       "      <td>rus_test_track_b_00003</td>\n",
       "      <td>Девушка предложила встречаться,я соврал,что у ...</td>\n",
       "      <td>NaN</td>\n",
       "      <td>NaN</td>\n",
       "      <td>NaN</td>\n",
       "      <td>NaN</td>\n",
       "      <td>NaN</td>\n",
       "      <td>NaN</td>\n",
       "    </tr>\n",
       "    <tr>\n",
       "      <th>3</th>\n",
       "      <td>rus_test_track_b_00004</td>\n",
       "      <td>Нужно с легкостью воспринимать все,учиться и с...</td>\n",
       "      <td>NaN</td>\n",
       "      <td>NaN</td>\n",
       "      <td>NaN</td>\n",
       "      <td>NaN</td>\n",
       "      <td>NaN</td>\n",
       "      <td>NaN</td>\n",
       "    </tr>\n",
       "    <tr>\n",
       "      <th>4</th>\n",
       "      <td>rus_test_track_b_00005</td>\n",
       "      <td>#ЕЛФИМОВ, ТЫ ЛУЧШИЙ!! #Голос</td>\n",
       "      <td>NaN</td>\n",
       "      <td>NaN</td>\n",
       "      <td>NaN</td>\n",
       "      <td>NaN</td>\n",
       "      <td>NaN</td>\n",
       "      <td>NaN</td>\n",
       "    </tr>\n",
       "  </tbody>\n",
       "</table>\n",
       "</div>"
      ],
      "text/plain": [
       "                       id                                               text  \\\n",
       "0  rus_test_track_b_00001  Ну что, нового года дождались, теперь все буду...   \n",
       "1  rus_test_track_b_00002  ненавижу когда мне говорят о том, что хотят со...   \n",
       "2  rus_test_track_b_00003  Девушка предложила встречаться,я соврал,что у ...   \n",
       "3  rus_test_track_b_00004  Нужно с легкостью воспринимать все,учиться и с...   \n",
       "4  rus_test_track_b_00005                       #ЕЛФИМОВ, ТЫ ЛУЧШИЙ!! #Голос   \n",
       "\n",
       "   anger  disgust  fear  joy  sadness  surprise  \n",
       "0    NaN      NaN   NaN  NaN      NaN       NaN  \n",
       "1    NaN      NaN   NaN  NaN      NaN       NaN  \n",
       "2    NaN      NaN   NaN  NaN      NaN       NaN  \n",
       "3    NaN      NaN   NaN  NaN      NaN       NaN  \n",
       "4    NaN      NaN   NaN  NaN      NaN       NaN  "
      ]
     },
     "execution_count": 18,
     "metadata": {},
     "output_type": "execute_result"
    }
   ],
   "source": [
    "test_rus.head()"
   ]
  },
  {
   "cell_type": "code",
   "execution_count": 19,
   "metadata": {
    "execution": {
     "iopub.execute_input": "2025-02-19T07:53:21.128135Z",
     "iopub.status.busy": "2025-02-19T07:53:21.127870Z",
     "iopub.status.idle": "2025-02-19T07:53:21.138490Z",
     "shell.execute_reply": "2025-02-19T07:53:21.137696Z",
     "shell.execute_reply.started": "2025-02-19T07:53:21.128111Z"
    },
    "trusted": true
   },
   "outputs": [],
   "source": [
    "emotion_labels = [\"anger\", \"disgust\", \"fear\", \"joy\", \"sadness\",\"surprise\"]"
   ]
  },
  {
   "cell_type": "code",
   "execution_count": 20,
   "metadata": {
    "execution": {
     "iopub.execute_input": "2025-02-19T07:53:21.144602Z",
     "iopub.status.busy": "2025-02-19T07:53:21.144312Z",
     "iopub.status.idle": "2025-02-19T07:53:21.153470Z",
     "shell.execute_reply": "2025-02-19T07:53:21.152700Z",
     "shell.execute_reply.started": "2025-02-19T07:53:21.144577Z"
    },
    "trusted": true
   },
   "outputs": [],
   "source": [
    "from peft import get_peft_model, LoraConfig, TaskType\n",
    "lora_config = LoraConfig(\n",
    "    task_type=TaskType.SEQ_CLS,  \n",
    "    r=16, \n",
    "    lora_alpha=64,  \n",
    "    lora_dropout=0.1,  \n",
    "    bias=\"none\"  \n",
    ")\n"
   ]
  },
  {
   "cell_type": "code",
   "execution_count": 21,
   "metadata": {
    "execution": {
     "iopub.execute_input": "2025-02-19T07:53:21.155718Z",
     "iopub.status.busy": "2025-02-19T07:53:21.155488Z",
     "iopub.status.idle": "2025-02-19T07:53:38.814615Z",
     "shell.execute_reply": "2025-02-19T07:53:38.813696Z",
     "shell.execute_reply.started": "2025-02-19T07:53:21.155699Z"
    },
    "trusted": true
   },
   "outputs": [
    {
     "data": {
      "application/vnd.jupyter.widget-view+json": {
       "model_id": "0c6523dcb30c422da6a6cd0d96682576",
       "version_major": 2,
       "version_minor": 0
      },
      "text/plain": [
       "config.json:   0%|          | 0.00/841 [00:00<?, ?B/s]"
      ]
     },
     "metadata": {},
     "output_type": "display_data"
    },
    {
     "data": {
      "application/vnd.jupyter.widget-view+json": {
       "model_id": "c1f9bd181c4d42bbbb09679417838e1b",
       "version_major": 2,
       "version_minor": 0
      },
      "text/plain": [
       "sentencepiece.bpe.model:   0%|          | 0.00/5.07M [00:00<?, ?B/s]"
      ]
     },
     "metadata": {},
     "output_type": "display_data"
    },
    {
     "data": {
      "application/vnd.jupyter.widget-view+json": {
       "model_id": "df6b357552e44ef9bb6f9f925516312f",
       "version_major": 2,
       "version_minor": 0
      },
      "text/plain": [
       "special_tokens_map.json:   0%|          | 0.00/150 [00:00<?, ?B/s]"
      ]
     },
     "metadata": {},
     "output_type": "display_data"
    },
    {
     "data": {
      "application/vnd.jupyter.widget-view+json": {
       "model_id": "b932cd13ce7d4388aadee796640fda56",
       "version_major": 2,
       "version_minor": 0
      },
      "text/plain": [
       "pytorch_model.bin:   0%|          | 0.00/1.11G [00:00<?, ?B/s]"
      ]
     },
     "metadata": {},
     "output_type": "display_data"
    },
    {
     "name": "stderr",
     "output_type": "stream",
     "text": [
      "Some weights of XLMRobertaForSequenceClassification were not initialized from the model checkpoint at cardiffnlp/twitter-xlm-roberta-base-sentiment and are newly initialized because the shapes did not match:\n",
      "- classifier.out_proj.weight: found shape torch.Size([3, 768]) in the checkpoint and torch.Size([6, 768]) in the model instantiated\n",
      "- classifier.out_proj.bias: found shape torch.Size([3]) in the checkpoint and torch.Size([6]) in the model instantiated\n",
      "You should probably TRAIN this model on a down-stream task to be able to use it for predictions and inference.\n"
     ]
    }
   ],
   "source": [
    "tokenizer = AutoTokenizer.from_pretrained('cardiffnlp/twitter-xlm-roberta-base-sentiment')\n",
    "model = AutoModelForSequenceClassification.from_pretrained('cardiffnlp/twitter-xlm-roberta-base-sentiment',\n",
    "                                                           problem_type=\"multi_label_classification\",\n",
    "                                                           ignore_mismatched_sizes=True,\n",
    "                                                           num_labels=len(emotion_labels))"
   ]
  },
  {
   "cell_type": "code",
   "execution_count": 22,
   "metadata": {
    "execution": {
     "iopub.execute_input": "2025-02-19T07:53:38.816701Z",
     "iopub.status.busy": "2025-02-19T07:53:38.816283Z",
     "iopub.status.idle": "2025-02-19T07:53:38.872035Z",
     "shell.execute_reply": "2025-02-19T07:53:38.871185Z",
     "shell.execute_reply.started": "2025-02-19T07:53:38.816673Z"
    },
    "trusted": true
   },
   "outputs": [
    {
     "name": "stdout",
     "output_type": "stream",
     "text": [
      "trainable params: 1,185,030 || all params: 279,233,292 || trainable%: 0.4244\n",
      "None\n"
     ]
    }
   ],
   "source": [
    "model = get_peft_model(model, lora_config)\n",
    "print(model.print_trainable_parameters())"
   ]
  },
  {
   "cell_type": "code",
   "execution_count": 23,
   "metadata": {
    "execution": {
     "iopub.execute_input": "2025-02-19T07:53:38.873301Z",
     "iopub.status.busy": "2025-02-19T07:53:38.872915Z",
     "iopub.status.idle": "2025-02-19T07:53:38.877365Z",
     "shell.execute_reply": "2025-02-19T07:53:38.876671Z",
     "shell.execute_reply.started": "2025-02-19T07:53:38.873280Z"
    },
    "trusted": true
   },
   "outputs": [],
   "source": [
    "def tokenize_with_emotions(batch):\n",
    "    emotions = \"anger, disgust, fear, joy, sadness, or surprise?\"  \n",
    "    return tokenizer(emotions, batch['text'], padding=True, truncation=True, max_length=128)\n"
   ]
  },
  {
   "cell_type": "code",
   "execution_count": 24,
   "metadata": {
    "execution": {
     "iopub.execute_input": "2025-02-19T07:53:38.878474Z",
     "iopub.status.busy": "2025-02-19T07:53:38.878175Z",
     "iopub.status.idle": "2025-02-19T07:53:38.891682Z",
     "shell.execute_reply": "2025-02-19T07:53:38.890913Z",
     "shell.execute_reply.started": "2025-02-19T07:53:38.878447Z"
    },
    "trusted": true
   },
   "outputs": [],
   "source": [
    "def encode_data_with_demux(df, tokenizer):\n",
    "    emotions = [\"anger\", \"disgust\", \"fear\", \"joy\", \"sadness\",\"surprise\"]\n",
    "    text_with_emotions = [\", \".join(emotions) + \"?\" + \" \" + t for t in df['text']]\n",
    "    encodings = tokenizer(text_with_emotions, truncation=True, padding=True, max_length=128)\n",
    "    labels = df[['anger', 'disgust', 'fear', 'joy', 'sadness',\"surprise\"]].fillna(0).values\n",
    "    return encodings, labels"
   ]
  },
  {
   "cell_type": "code",
   "execution_count": 25,
   "metadata": {
    "execution": {
     "iopub.execute_input": "2025-02-19T07:53:38.892557Z",
     "iopub.status.busy": "2025-02-19T07:53:38.892300Z",
     "iopub.status.idle": "2025-02-19T07:53:39.076106Z",
     "shell.execute_reply": "2025-02-19T07:53:39.075374Z",
     "shell.execute_reply.started": "2025-02-19T07:53:38.892538Z"
    },
    "trusted": true
   },
   "outputs": [],
   "source": [
    "train_encodings, train_labels = encode_data_with_demux(train_rus, tokenizer)\n",
    "dev_encodings, dev_labels = encode_data_with_demux(dev_rus, tokenizer)"
   ]
  },
  {
   "cell_type": "code",
   "execution_count": 26,
   "metadata": {
    "execution": {
     "iopub.execute_input": "2025-02-19T07:53:39.077293Z",
     "iopub.status.busy": "2025-02-19T07:53:39.076985Z",
     "iopub.status.idle": "2025-02-19T07:53:39.082651Z",
     "shell.execute_reply": "2025-02-19T07:53:39.081792Z",
     "shell.execute_reply.started": "2025-02-19T07:53:39.077263Z"
    },
    "trusted": true
   },
   "outputs": [],
   "source": [
    "class CustomDataset(torch.utils.data.Dataset):\n",
    "    def __init__(self, encodings, labels):\n",
    "        self.encodings = encodings\n",
    "        self.labels = torch.tensor(labels, dtype=torch.float)\n",
    "\n",
    "    def __len__(self):\n",
    "        return len(self.labels)\n",
    "\n",
    "    def __getitem__(self, idx):\n",
    "        item = {key: torch.tensor(val[idx]) for key, val in self.encodings.items()}\n",
    "        item['labels'] = self.labels[idx]\n",
    "        return item"
   ]
  },
  {
   "cell_type": "code",
   "execution_count": 27,
   "metadata": {
    "execution": {
     "iopub.execute_input": "2025-02-19T07:53:39.083733Z",
     "iopub.status.busy": "2025-02-19T07:53:39.083409Z",
     "iopub.status.idle": "2025-02-19T07:53:39.099068Z",
     "shell.execute_reply": "2025-02-19T07:53:39.098480Z",
     "shell.execute_reply.started": "2025-02-19T07:53:39.083684Z"
    },
    "trusted": true
   },
   "outputs": [],
   "source": [
    "train_dataset = CustomDataset(train_encodings, train_labels)\n",
    "dev_dataset = CustomDataset(dev_encodings, dev_labels)"
   ]
  },
  {
   "cell_type": "code",
   "execution_count": 28,
   "metadata": {
    "execution": {
     "iopub.execute_input": "2025-02-19T07:53:39.100000Z",
     "iopub.status.busy": "2025-02-19T07:53:39.099816Z",
     "iopub.status.idle": "2025-02-19T07:53:39.388340Z",
     "shell.execute_reply": "2025-02-19T07:53:39.387763Z",
     "shell.execute_reply.started": "2025-02-19T07:53:39.099984Z"
    },
    "trusted": true
   },
   "outputs": [],
   "source": [
    "def calculate_token_lengths(texts, tokenizer):\n",
    "    token_lengths = [len(tokenizer.encode(text, truncation=False)) for text in texts]\n",
    "    return token_lengths\n",
    "\n",
    "train_lengths = calculate_token_lengths(train_rus['text'], tokenizer)\n",
    "dev_lengths = calculate_token_lengths(dev_rus['text'], tokenizer)\n",
    "test_lengths = calculate_token_lengths(test_rus['text'], tokenizer)"
   ]
  },
  {
   "cell_type": "code",
   "execution_count": 29,
   "metadata": {
    "execution": {
     "iopub.execute_input": "2025-02-19T07:53:39.389436Z",
     "iopub.status.busy": "2025-02-19T07:53:39.389175Z",
     "iopub.status.idle": "2025-02-19T07:53:39.719943Z",
     "shell.execute_reply": "2025-02-19T07:53:39.719040Z",
     "shell.execute_reply.started": "2025-02-19T07:53:39.389412Z"
    },
    "trusted": true
   },
   "outputs": [
    {
     "data": {
      "image/png": "[encoded data removed]",
      "text/plain": [
       "<Figure size 1000x600 with 1 Axes>"
      ]
     },
     "metadata": {},
     "output_type": "display_data"
    }
   ],
   "source": [
    "all_lengths = train_lengths + dev_lengths + test_lengths\n",
    "\n",
    "plt.figure(figsize=(10, 6))\n",
    "sns.histplot(all_lengths, bins=50, kde=True, color='blue', alpha=0.7)\n",
    "plt.axvline(x=np.percentile(all_lengths, 90), color='red', linestyle='--', label='90th Percentile')\n",
    "plt.axvline(x=np.percentile(all_lengths, 95), color='green', linestyle='--', label='95th Percentile')\n",
    "plt.title('Token Length Distribution')\n",
    "plt.xlabel('Number of Tokens')\n",
    "plt.ylabel('Frequency')\n",
    "plt.legend()\n",
    "plt.show()"
   ]
  },
  {
   "cell_type": "code",
   "execution_count": 30,
   "metadata": {
    "execution": {
     "iopub.execute_input": "2025-02-19T07:53:39.721006Z",
     "iopub.status.busy": "2025-02-19T07:53:39.720765Z",
     "iopub.status.idle": "2025-02-19T07:53:39.724855Z",
     "shell.execute_reply": "2025-02-19T07:53:39.723965Z",
     "shell.execute_reply.started": "2025-02-19T07:53:39.720985Z"
    },
    "trusted": true
   },
   "outputs": [],
   "source": [
    "from transformers import EarlyStoppingCallback"
   ]
  },
  {
   "cell_type": "code",
   "execution_count": 31,
   "metadata": {
    "execution": {
     "iopub.execute_input": "2025-02-19T07:53:39.725952Z",
     "iopub.status.busy": "2025-02-19T07:53:39.725713Z",
     "iopub.status.idle": "2025-02-19T07:53:39.738215Z",
     "shell.execute_reply": "2025-02-19T07:53:39.737453Z",
     "shell.execute_reply.started": "2025-02-19T07:53:39.725934Z"
    },
    "trusted": true
   },
   "outputs": [],
   "source": [
    "import torch\n",
    "import torch.nn as nn\n",
    "\n",
    "class custom_loss(nn.Module):\n",
    "    def __init__(self):\n",
    "        super().__init__()\n",
    "        self.mse_loss = nn.MSELoss()\n",
    "\n",
    "    def forward(self, outputs, labels):\n",
    "        return self.mse_loss(outputs, labels)"
   ]
  },
  {
   "cell_type": "code",
   "execution_count": 32,
   "metadata": {
    "execution": {
     "iopub.execute_input": "2025-02-19T07:53:39.739491Z",
     "iopub.status.busy": "2025-02-19T07:53:39.739186Z",
     "iopub.status.idle": "2025-02-19T07:53:39.750748Z",
     "shell.execute_reply": "2025-02-19T07:53:39.750063Z",
     "shell.execute_reply.started": "2025-02-19T07:53:39.739462Z"
    },
    "trusted": true
   },
   "outputs": [],
   "source": [
    "from scipy.stats import pearsonr\n",
    "\n",
    "def compute_pearson_corr(predictions, labels):\n",
    "    \"\"\"\n",
    "    Compute Pearson Correlation between predictions and labels.\n",
    "    \"\"\"\n",
    "    if isinstance(predictions, torch.Tensor):\n",
    "        predictions = predictions.detach().cpu().numpy()\n",
    "    if isinstance(labels, torch.Tensor):\n",
    "        labels = labels.detach().cpu().numpy()\n",
    "    \n",
    "    corr, _ = pearsonr(predictions.flatten(), labels.flatten())\n",
    "    return corr\n"
   ]
  },
  {
   "cell_type": "code",
   "execution_count": 33,
   "metadata": {
    "execution": {
     "iopub.execute_input": "2025-02-19T07:53:39.751717Z",
     "iopub.status.busy": "2025-02-19T07:53:39.751409Z",
     "iopub.status.idle": "2025-02-19T07:53:39.764089Z",
     "shell.execute_reply": "2025-02-19T07:53:39.763429Z",
     "shell.execute_reply.started": "2025-02-19T07:53:39.751690Z"
    },
    "trusted": true
   },
   "outputs": [],
   "source": [
    "class CustomTrainer(Trainer):\n",
    "    def __init__(self, *args, **kwargs):\n",
    "        super().__init__(*args, **kwargs)\n",
    "        self.loss_fn = custom_loss()\n",
    "\n",
    "    def compute_loss(self, model, inputs, num_items_in_batch=None, return_outputs=False):\n",
    "        \"\"\"\n",
    "        Custom loss function for the Hugging Face Trainer.\n",
    "        \"\"\"\n",
    "        labels = inputs.pop(\"labels\")  # Extract labels\n",
    "        outputs = model(**inputs)      # Forward pass\n",
    "        logits = outputs.logits        # Extract logits\n",
    "\n",
    "        loss = self.loss_fn(logits, labels) \n",
    "\n",
    "        return (loss, outputs) if return_outputs else loss"
   ]
  },
  {
   "cell_type": "code",
   "execution_count": 34,
   "metadata": {
    "execution": {
     "iopub.execute_input": "2025-02-19T07:53:39.765016Z",
     "iopub.status.busy": "2025-02-19T07:53:39.764790Z",
     "iopub.status.idle": "2025-02-19T07:53:39.775765Z",
     "shell.execute_reply": "2025-02-19T07:53:39.774902Z",
     "shell.execute_reply.started": "2025-02-19T07:53:39.764998Z"
    },
    "trusted": true
   },
   "outputs": [],
   "source": [
    "from transformers import EvalPrediction\n",
    "from sklearn.metrics import accuracy_score\n",
    "from sklearn.metrics import precision_score, recall_score, f1_score\n",
    "\n",
    "def compute_metrics(p: EvalPrediction):\n",
    "    \"\"\"\n",
    "    Compute metrics for evaluation, including Pearson Correlation, Accuracy, Precision, Recall, and F1 score.\n",
    "    \"\"\"\n",
    "    predictions, labels = p.predictions, p.label_ids\n",
    "    \n",
    "    predictions_rounded = np.round(predictions).astype(int)\n",
    "    \n",
    "    labels_flattened = labels.flatten()\n",
    "    predictions_flattened = predictions_rounded.flatten()\n",
    "    \n",
    "    pearson_corr = compute_pearson_corr(predictions, labels)\n",
    "    overall_accuracy = accuracy_score(labels_flattened, predictions_flattened)\n",
    "    precision = precision_score(labels_flattened, predictions_flattened, average='macro')\n",
    "    recall = recall_score(labels_flattened, predictions_flattened, average='macro')\n",
    "    f1 = f1_score(labels_flattened, predictions_flattened, average='macro')\n",
    "    \n",
    "    return {\n",
    "        \"pearson_corr\": pearson_corr,\n",
    "        \"overall_accuracy\": overall_accuracy,\n",
    "        \"precision\": precision,\n",
    "        \"recall\": recall,\n",
    "        \"f1_score\": f1\n",
    "    }\n"
   ]
  },
  {
   "cell_type": "code",
   "execution_count": 35,
   "metadata": {
    "execution": {
     "iopub.execute_input": "2025-02-19T07:53:39.776877Z",
     "iopub.status.busy": "2025-02-19T07:53:39.776567Z",
     "iopub.status.idle": "2025-02-19T07:53:39.935225Z",
     "shell.execute_reply": "2025-02-19T07:53:39.934385Z",
     "shell.execute_reply.started": "2025-02-19T07:53:39.776850Z"
    },
    "trusted": true
   },
   "outputs": [
    {
     "name": "stderr",
     "output_type": "stream",
     "text": [
      "Using the `WANDB_DISABLED` environment variable is deprecated and will be removed in v5. Use the --report_to flag to control the integrations used for logging result (for instance --report_to none).\n"
     ]
    }
   ],
   "source": [
    "training_args = TrainingArguments(\n",
    "    output_dir='./results/rus/twitter-xlm-roberta-sentiment-v1',\n",
    "    report_to=None,\n",
    "    evaluation_strategy=\"steps\",\n",
    "    save_total_limit = 1,\n",
    "    logging_strategy=\"epoch\",\n",
    "    load_best_model_at_end=True,\n",
    "    learning_rate=1e-5,\n",
    "    per_device_train_batch_size=8,\n",
    "    per_device_eval_batch_size=8,\n",
    "    num_train_epochs=50,\n",
    "    weight_decay=0.01,\n",
    "    metric_for_best_model=\"pearson_corr\",\n",
    ")"
   ]
  },
  {
   "cell_type": "code",
   "execution_count": 36,
   "metadata": {
    "execution": {
     "iopub.execute_input": "2025-02-19T07:53:39.936555Z",
     "iopub.status.busy": "2025-02-19T07:53:39.936234Z",
     "iopub.status.idle": "2025-02-19T07:53:39.940286Z",
     "shell.execute_reply": "2025-02-19T07:53:39.939459Z",
     "shell.execute_reply.started": "2025-02-19T07:53:39.936524Z"
    },
    "trusted": true
   },
   "outputs": [],
   "source": [
    "early_stopping_callback = EarlyStoppingCallback(\n",
    "    early_stopping_patience=2,  \n",
    "    early_stopping_threshold=0.01  \n",
    ")"
   ]
  },
  {
   "cell_type": "code",
   "execution_count": 37,
   "metadata": {
    "execution": {
     "iopub.execute_input": "2025-02-19T07:53:39.941253Z",
     "iopub.status.busy": "2025-02-19T07:53:39.941061Z",
     "iopub.status.idle": "2025-02-19T07:53:40.662350Z",
     "shell.execute_reply": "2025-02-19T07:53:40.661679Z",
     "shell.execute_reply.started": "2025-02-19T07:53:39.941236Z"
    },
    "trusted": true
   },
   "outputs": [],
   "source": [
    "trainer = CustomTrainer(\n",
    "    model=model,\n",
    "    args=training_args,\n",
    "    train_dataset=train_dataset,\n",
    "    eval_dataset=dev_dataset,\n",
    "    tokenizer=tokenizer,\n",
    "    compute_metrics=compute_metrics,\n",
    "    callbacks=[early_stopping_callback]\n",
    ")"
   ]
  },
  {
   "cell_type": "code",
   "execution_count": 38,
   "metadata": {
    "execution": {
     "iopub.execute_input": "2025-02-19T07:53:40.663301Z",
     "iopub.status.busy": "2025-02-19T07:53:40.663104Z",
     "iopub.status.idle": "2025-02-19T07:53:40.667490Z",
     "shell.execute_reply": "2025-02-19T07:53:40.666608Z",
     "shell.execute_reply.started": "2025-02-19T07:53:40.663284Z"
    },
    "trusted": true
   },
   "outputs": [],
   "source": [
    "from unittest import mock\n",
    "from unittest.mock import Mock\n",
    "class Dummy:\n",
    "    def __enter__(self):\n",
    "        return Mock()\n",
    "\n",
    "    def __exit__(self, *args):\n",
    "        pass"
   ]
  },
  {
   "cell_type": "code",
   "execution_count": 39,
   "metadata": {
    "execution": {
     "iopub.execute_input": "2025-02-19T07:53:40.668843Z",
     "iopub.status.busy": "2025-02-19T07:53:40.668508Z",
     "iopub.status.idle": "2025-02-19T08:17:57.676353Z",
     "shell.execute_reply": "2025-02-19T08:17:57.675637Z",
     "shell.execute_reply.started": "2025-02-19T07:53:40.668811Z"
    },
    "trusted": true
   },
   "outputs": [
    {
     "data": {
      "text/html": [
       "\n",
       "    <div>\n",
       "      \n",
       "      <progress value='4000' max='6950' style='width:300px; height:20px; vertical-align: middle;'></progress>\n",
       "      [4000/6950 24:14 < 17:53, 2.75 it/s, Epoch 28/50]\n",
       "    </div>\n",
       "    <table border=\"1\" class=\"dataframe\">\n",
       "  <thead>\n",
       " <tr style=\"text-align: left;\">\n",
       "      <th>Step</th>\n",
       "      <th>Training Loss</th>\n",
       "      <th>Validation Loss</th>\n",
       "      <th>Pearson Corr</th>\n",
       "      <th>Overall Accuracy</th>\n",
       "      <th>Precision</th>\n",
       "      <th>Recall</th>\n",
       "      <th>F1 Score</th>\n",
       "    </tr>\n",
       "  </thead>\n",
       "  <tbody>\n",
       "    <tr>\n",
       "      <td>500</td>\n",
       "      <td>0.391500</td>\n",
       "      <td>0.335120</td>\n",
       "      <td>0.649219</td>\n",
       "      <td>0.762877</td>\n",
       "      <td>0.437756</td>\n",
       "      <td>0.353017</td>\n",
       "      <td>0.271929</td>\n",
       "    </tr>\n",
       "    <tr>\n",
       "      <td>1000</td>\n",
       "      <td>0.290300</td>\n",
       "      <td>0.252664</td>\n",
       "      <td>0.751335</td>\n",
       "      <td>0.830904</td>\n",
       "      <td>0.439437</td>\n",
       "      <td>0.395022</td>\n",
       "      <td>0.355163</td>\n",
       "    </tr>\n",
       "    <tr>\n",
       "      <td>1500</td>\n",
       "      <td>0.256400</td>\n",
       "      <td>0.223723</td>\n",
       "      <td>0.786238</td>\n",
       "      <td>0.850826</td>\n",
       "      <td>0.463385</td>\n",
       "      <td>0.413769</td>\n",
       "      <td>0.377146</td>\n",
       "    </tr>\n",
       "    <tr>\n",
       "      <td>2000</td>\n",
       "      <td>0.230600</td>\n",
       "      <td>0.205713</td>\n",
       "      <td>0.806518</td>\n",
       "      <td>0.862488</td>\n",
       "      <td>0.434622</td>\n",
       "      <td>0.414074</td>\n",
       "      <td>0.390668</td>\n",
       "    </tr>\n",
       "    <tr>\n",
       "      <td>2500</td>\n",
       "      <td>0.215700</td>\n",
       "      <td>0.198199</td>\n",
       "      <td>0.816752</td>\n",
       "      <td>0.864431</td>\n",
       "      <td>0.420216</td>\n",
       "      <td>0.427925</td>\n",
       "      <td>0.398474</td>\n",
       "    </tr>\n",
       "    <tr>\n",
       "      <td>3000</td>\n",
       "      <td>0.199800</td>\n",
       "      <td>0.187424</td>\n",
       "      <td>0.827208</td>\n",
       "      <td>0.869291</td>\n",
       "      <td>0.412905</td>\n",
       "      <td>0.427916</td>\n",
       "      <td>0.397122</td>\n",
       "    </tr>\n",
       "    <tr>\n",
       "      <td>3500</td>\n",
       "      <td>0.187800</td>\n",
       "      <td>0.183631</td>\n",
       "      <td>0.833430</td>\n",
       "      <td>0.877551</td>\n",
       "      <td>0.431430</td>\n",
       "      <td>0.445355</td>\n",
       "      <td>0.417950</td>\n",
       "    </tr>\n",
       "    <tr>\n",
       "      <td>4000</td>\n",
       "      <td>0.184000</td>\n",
       "      <td>0.177363</td>\n",
       "      <td>0.839975</td>\n",
       "      <td>0.877551</td>\n",
       "      <td>0.423924</td>\n",
       "      <td>0.443094</td>\n",
       "      <td>0.414054</td>\n",
       "    </tr>\n",
       "  </tbody>\n",
       "</table><p>"
      ],
      "text/plain": [
       "<IPython.core.display.HTML object>"
      ]
     },
     "metadata": {},
     "output_type": "display_data"
    }
   ],
   "source": [
    "with mock.patch('wandb.init', return_value=Dummy()):\n",
    "    trainer.train()"
   ]
  },
  {
   "cell_type": "code",
   "execution_count": 40,
   "metadata": {
    "execution": {
     "iopub.execute_input": "2025-02-19T08:17:57.677313Z",
     "iopub.status.busy": "2025-02-19T08:17:57.677111Z",
     "iopub.status.idle": "2025-02-19T08:17:58.135562Z",
     "shell.execute_reply": "2025-02-19T08:17:58.134818Z",
     "shell.execute_reply.started": "2025-02-19T08:17:57.677295Z"
    },
    "trusted": true
   },
   "outputs": [
    {
     "name": "stdout",
     "output_type": "stream",
     "text": [
      "Model and tokenizer saved to /kaggle/working/\n"
     ]
    }
   ],
   "source": [
    "output_dir = \"/kaggle/working/\" \n",
    "\n",
    "model.save_pretrained(output_dir)\n",
    "\n",
    "tokenizer.save_pretrained(output_dir)\n",
    "\n",
    "print(f\"Model and tokenizer saved to {output_dir}\")"
   ]
  },
  {
   "cell_type": "code",
   "execution_count": 41,
   "metadata": {
    "execution": {
     "iopub.execute_input": "2025-02-19T08:17:58.136600Z",
     "iopub.status.busy": "2025-02-19T08:17:58.136331Z",
     "iopub.status.idle": "2025-02-19T08:18:01.174102Z",
     "shell.execute_reply": "2025-02-19T08:18:01.173397Z",
     "shell.execute_reply.started": "2025-02-19T08:17:58.136567Z"
    },
    "trusted": true
   },
   "outputs": [
    {
     "data": {
      "text/html": [],
      "text/plain": [
       "<IPython.core.display.HTML object>"
      ]
     },
     "metadata": {},
     "output_type": "display_data"
    },
    {
     "name": "stdout",
     "output_type": "stream",
     "text": [
      "Discrete predictions (0-3): [[0 0 0 0 0 0]\n",
      " [3 0 0 0 0 0]\n",
      " [3 0 0 0 0 0]\n",
      " ...\n",
      " [3 0 0 0 0 0]\n",
      " [0 0 0 0 0 2]\n",
      " [2 1 0 0 0 0]]\n"
     ]
    }
   ],
   "source": [
    "\n",
    "predictions, labels, _ = trainer.predict(dev_dataset)  \n",
    "clipped_predictions = np.clip(predictions, 0, 3)\n",
    "\n",
    "discrete_predictions = np.round(clipped_predictions).astype(int)\n",
    "\n",
    "print(\"Discrete predictions (0-3):\", discrete_predictions)\n"
   ]
  },
  {
   "cell_type": "code",
   "execution_count": 42,
   "metadata": {
    "execution": {
     "iopub.execute_input": "2025-02-19T08:18:01.175012Z",
     "iopub.status.busy": "2025-02-19T08:18:01.174804Z",
     "iopub.status.idle": "2025-02-19T08:18:01.421199Z",
     "shell.execute_reply": "2025-02-19T08:18:01.420297Z",
     "shell.execute_reply.started": "2025-02-19T08:18:01.174986Z"
    },
    "trusted": true
   },
   "outputs": [
    {
     "data": {
      "image/png": "[encoded data removed]",
      "text/plain": [
       "<Figure size 640x480 with 2 Axes>"
      ]
     },
     "metadata": {},
     "output_type": "display_data"
    }
   ],
   "source": [
    "predictions_flattened = discrete_predictions.ravel()\n",
    "labels_flattened = labels.ravel()\n",
    "\n",
    "conf_matrix = confusion_matrix(labels_flattened, predictions_flattened)\n",
    "\n",
    "disp = ConfusionMatrixDisplay(confusion_matrix=conf_matrix, display_labels=np.unique(labels_flattened))\n",
    "disp.plot(cmap=plt.cm.Blues)\n",
    "plt.title(\"Confusion Matrix\")\n",
    "plt.show()"
   ]
  },
  {
   "cell_type": "code",
   "execution_count": 43,
   "metadata": {
    "execution": {
     "iopub.execute_input": "2025-02-19T08:18:01.422655Z",
     "iopub.status.busy": "2025-02-19T08:18:01.422166Z",
     "iopub.status.idle": "2025-02-19T08:18:01.426491Z",
     "shell.execute_reply": "2025-02-19T08:18:01.425714Z",
     "shell.execute_reply.started": "2025-02-19T08:18:01.422597Z"
    },
    "trusted": true
   },
   "outputs": [],
   "source": [
    "pre=np.round(predictions).astype(int)"
   ]
  },
  {
   "cell_type": "code",
   "execution_count": 44,
   "metadata": {
    "execution": {
     "iopub.execute_input": "2025-02-19T08:18:01.427678Z",
     "iopub.status.busy": "2025-02-19T08:18:01.427407Z",
     "iopub.status.idle": "2025-02-19T08:18:01.445419Z",
     "shell.execute_reply": "2025-02-19T08:18:01.444705Z",
     "shell.execute_reply.started": "2025-02-19T08:18:01.427646Z"
    },
    "trusted": true
   },
   "outputs": [
    {
     "name": "stdout",
     "output_type": "stream",
     "text": [
      "Accuracy: 0.88\n"
     ]
    }
   ],
   "source": [
    "predictions = np.array(pre)\n",
    "labels = np.array(labels)\n",
    "\n",
    "\n",
    "if predictions.ndim > 1 and labels.ndim > 1:\n",
    "    accuracies = []\n",
    "    for i in range(predictions.shape[1]):  \n",
    "        acc = accuracy_score(labels[:, i], predictions[:, i])\n",
    "        accuracies.append(acc)\n",
    "    overall_accuracy = np.mean(accuracies)\n",
    "else:\n",
    "    overall_accuracy = accuracy_score(labels, predictions)\n",
    "\n",
    "print(f\"Accuracy: {overall_accuracy:.2f}\")"
   ]
  },
  {
   "cell_type": "code",
   "execution_count": 45,
   "metadata": {
    "execution": {
     "iopub.execute_input": "2025-02-19T08:18:01.446586Z",
     "iopub.status.busy": "2025-02-19T08:18:01.446334Z",
     "iopub.status.idle": "2025-02-19T08:18:07.456691Z",
     "shell.execute_reply": "2025-02-19T08:18:07.456021Z",
     "shell.execute_reply.started": "2025-02-19T08:18:01.446554Z"
    },
    "trusted": true
   },
   "outputs": [
    {
     "data": {
      "text/html": [],
      "text/plain": [
       "<IPython.core.display.HTML object>"
      ]
     },
     "metadata": {},
     "output_type": "display_data"
    }
   ],
   "source": [
    "test_encodings = tokenizer(list(test_rus['text']), truncation=True, padding=True, max_length=128, return_tensors=\"pt\")\n",
    "test_dataset = CustomDataset(test_encodings, np.zeros((len(test_rus), 6)))\n",
    "test_results = trainer.predict(test_dataset)\n",
    "predicts=np.round(test_results.predictions).astype(int)"
   ]
  },
  {
   "cell_type": "code",
   "execution_count": 46,
   "metadata": {
    "execution": {
     "iopub.execute_input": "2025-02-19T08:18:07.457589Z",
     "iopub.status.busy": "2025-02-19T08:18:07.457386Z",
     "iopub.status.idle": "2025-02-19T08:18:07.470329Z",
     "shell.execute_reply": "2025-02-19T08:18:07.469654Z",
     "shell.execute_reply.started": "2025-02-19T08:18:07.457571Z"
    },
    "trusted": true
   },
   "outputs": [],
   "source": [
    "test_rus[['anger', 'disgust', 'fear', 'joy', 'sadness','surprise']] = predicts\n",
    "test_rus.to_csv('test_predictions_rus_sentiment_xlm_roberta_v2.csv', index=False)"
   ]
  }
 ],
 "metadata": {
  "kaggle": {
   "accelerator": "nvidiaTeslaT4",
   "dataSources": [
    {
     "datasetId": 6347818,
     "sourceId": 10498281,
     "sourceType": "datasetVersion"
    }
   ],
   "dockerImageVersionId": 30887,
   "isGpuEnabled": true,
   "isInternetEnabled": true,
   "language": "python",
   "sourceType": "notebook"
  },
  "kernelspec": {
   "display_name": "Python 3",
   "language": "python",
   "name": "python3"
  },
  "language_info": {
   "codemirror_mode": {
    "name": "ipython",
    "version": 3
   },
   "file_extension": ".py",
   "mimetype": "text/x-python",
   "name": "python",
   "nbconvert_exporter": "python",
   "pygments_lexer": "ipython3",
   "version": "3.10.12"
  }
 },
 "nbformat": 4,
 "nbformat_minor": 4
}
