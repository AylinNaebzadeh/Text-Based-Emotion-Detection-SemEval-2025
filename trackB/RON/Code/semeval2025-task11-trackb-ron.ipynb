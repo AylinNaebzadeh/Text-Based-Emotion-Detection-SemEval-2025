{
 "cells": [
  {
   "cell_type": "code",
   "execution_count": 1,
   "metadata": {
    "_cell_guid": "b1076dfc-b9ad-4769-8c92-a6c4dae69d19",
    "_uuid": "8f2839f25d086af736a60e9eeb907d3b93b6e0e5",
    "execution": {
     "iopub.execute_input": "2025-01-29T14:53:14.298596Z",
     "iopub.status.busy": "2025-01-29T14:53:14.298278Z",
     "iopub.status.idle": "2025-01-29T14:53:14.597082Z",
     "shell.execute_reply": "2025-01-29T14:53:14.596363Z",
     "shell.execute_reply.started": "2025-01-29T14:53:14.298569Z"
    },
    "trusted": true
   },
   "outputs": [],
   "source": [
    "# This Python 3 environment comes with many helpful analytics libraries installed\n",
    "# It is defined by the kaggle/python Docker image: https://github.com/kaggle/docker-python\n",
    "# For example, here's several helpful packages to load\n",
    "\n",
    "import numpy as np # linear algebra\n",
    "import pandas as pd # data processing, CSV file I/O (e.g. pd.read_csv)\n",
    "\n",
    "# Input data files are available in the read-only \"../input/\" directory\n",
    "# For example, running this (by clicking run or pressing Shift+Enter) will list all files under the input directory\n",
    "\n",
    "import os\n",
    "# for dirname, _, filenames in os.walk('/kaggle/input'):\n",
    "#     for filename in filenames:\n",
    "#         print(os.path.join(dirname, filename))\n",
    "\n",
    "# You can write up to 20GB to the current directory (/kaggle/working/) that gets preserved as output when you create a version using \"Save & Run All\" \n",
    "# You can also write temporary files to /kaggle/temp/, but they won't be saved outside of the current session"
   ]
  },
  {
   "cell_type": "code",
   "execution_count": 2,
   "metadata": {
    "execution": {
     "iopub.execute_input": "2025-01-29T14:53:30.441995Z",
     "iopub.status.busy": "2025-01-29T14:53:30.441543Z",
     "iopub.status.idle": "2025-01-29T14:53:30.445891Z",
     "shell.execute_reply": "2025-01-29T14:53:30.444989Z",
     "shell.execute_reply.started": "2025-01-29T14:53:30.441966Z"
    },
    "trusted": true
   },
   "outputs": [],
   "source": [
    "import warnings\n",
    "warnings.filterwarnings('ignore') "
   ]
  },
  {
   "cell_type": "markdown",
   "metadata": {},
   "source": [
    "# Sources:\n",
    "- https://huggingface.co/cardiffnlp/twitter-xlm-roberta-base-sentiment\n",
    "- https://huggingface.co/DGurgurov/xlm-r_romanian_sentiment\n",
    "- https://huggingface.co/dumitrescustefan/bert-base-romanian-cased-v1"
   ]
  },
  {
   "cell_type": "code",
   "execution_count": 3,
   "metadata": {
    "execution": {
     "iopub.execute_input": "2025-01-29T14:53:34.288938Z",
     "iopub.status.busy": "2025-01-29T14:53:34.288625Z",
     "iopub.status.idle": "2025-01-29T14:54:15.797581Z",
     "shell.execute_reply": "2025-01-29T14:54:15.796701Z",
     "shell.execute_reply.started": "2025-01-29T14:53:34.288913Z"
    },
    "trusted": true
   },
   "outputs": [
    {
     "name": "stdout",
     "output_type": "stream",
     "text": [
      "Found existing installation: wandb 0.19.1\n",
      "Uninstalling wandb-0.19.1:\n",
      "  Successfully uninstalled wandb-0.19.1\n",
      "Collecting wandb==0.17.5\n",
      "  Downloading wandb-0.17.5-py3-none-manylinux_2_5_x86_64.manylinux1_x86_64.manylinux_2_17_x86_64.manylinux2014_x86_64.whl.metadata (10 kB)\n",
      "Requirement already satisfied: click!=8.0.0,>=7.1 in /usr/local/lib/python3.10/dist-packages (from wandb==0.17.5) (8.1.7)\n",
      "Requirement already satisfied: docker-pycreds>=0.4.0 in /usr/local/lib/python3.10/dist-packages (from wandb==0.17.5) (0.4.0)\n",
      "Requirement already satisfied: gitpython!=3.1.29,>=1.0.0 in /usr/local/lib/python3.10/dist-packages (from wandb==0.17.5) (3.1.43)\n",
      "Requirement already satisfied: platformdirs in /usr/local/lib/python3.10/dist-packages (from wandb==0.17.5) (4.3.6)\n",
      "Requirement already satisfied: protobuf!=4.21.0,<6,>=3.19.0 in /usr/local/lib/python3.10/dist-packages (from wandb==0.17.5) (3.20.3)\n",
      "Requirement already satisfied: psutil>=5.0.0 in /usr/local/lib/python3.10/dist-packages (from wandb==0.17.5) (5.9.5)\n",
      "Requirement already satisfied: pyyaml in /usr/local/lib/python3.10/dist-packages (from wandb==0.17.5) (6.0.2)\n",
      "Requirement already satisfied: requests<3,>=2.0.0 in /usr/local/lib/python3.10/dist-packages (from wandb==0.17.5) (2.32.3)\n",
      "Requirement already satisfied: sentry-sdk>=1.0.0 in /usr/local/lib/python3.10/dist-packages (from wandb==0.17.5) (2.19.2)\n",
      "Requirement already satisfied: setproctitle in /usr/local/lib/python3.10/dist-packages (from wandb==0.17.5) (1.3.4)\n",
      "Requirement already satisfied: setuptools in /usr/local/lib/python3.10/dist-packages (from wandb==0.17.5) (75.1.0)\n",
      "Requirement already satisfied: six>=1.4.0 in /usr/local/lib/python3.10/dist-packages (from docker-pycreds>=0.4.0->wandb==0.17.5) (1.17.0)\n",
      "Requirement already satisfied: gitdb<5,>=4.0.1 in /usr/local/lib/python3.10/dist-packages (from gitpython!=3.1.29,>=1.0.0->wandb==0.17.5) (4.0.11)\n",
      "Requirement already satisfied: charset-normalizer<4,>=2 in /usr/local/lib/python3.10/dist-packages (from requests<3,>=2.0.0->wandb==0.17.5) (3.4.0)\n",
      "Requirement already satisfied: idna<4,>=2.5 in /usr/local/lib/python3.10/dist-packages (from requests<3,>=2.0.0->wandb==0.17.5) (3.10)\n",
      "Requirement already satisfied: urllib3<3,>=1.21.1 in /usr/local/lib/python3.10/dist-packages (from requests<3,>=2.0.0->wandb==0.17.5) (2.2.3)\n",
      "Requirement already satisfied: certifi>=2017.4.17 in /usr/local/lib/python3.10/dist-packages (from requests<3,>=2.0.0->wandb==0.17.5) (2024.12.14)\n",
      "Requirement already satisfied: smmap<6,>=3.0.1 in /usr/local/lib/python3.10/dist-packages (from gitdb<5,>=4.0.1->gitpython!=3.1.29,>=1.0.0->wandb==0.17.5) (5.0.1)\n",
      "Downloading wandb-0.17.5-py3-none-manylinux_2_5_x86_64.manylinux1_x86_64.manylinux_2_17_x86_64.manylinux2014_x86_64.whl (6.8 MB)\n",
      "\u001b[2K   \u001b[90m━━━━━━━━━━━━━━━━━━━━━━━━━━━━━━━━━━━━━━━━\u001b[0m \u001b[32m6.8/6.8 MB\u001b[0m \u001b[31m54.9 MB/s\u001b[0m eta \u001b[36m0:00:00\u001b[0m00:01\u001b[0m00:01\u001b[0m\n",
      "\u001b[?25hInstalling collected packages: wandb\n",
      "Successfully installed wandb-0.17.5\n",
      "W&B offline. Running your script from this directory will only write metadata locally. Use wandb disabled to completely turn off W&B.\n",
      "W&B disabled.\n"
     ]
    }
   ],
   "source": [
    "!pip uninstall -y wandb\n",
    "!pip install wandb==0.17.5 \n",
    "import wandb\n",
    "!wandb offline\n",
    "!wandb disabled\n",
    "import os\n",
    "os.environ[\"WANDB_DISABLED\"] = \"true\""
   ]
  },
  {
   "cell_type": "markdown",
   "metadata": {},
   "source": [
    "# Install Libraries and Modules"
   ]
  },
  {
   "cell_type": "code",
   "execution_count": 4,
   "metadata": {
    "execution": {
     "iopub.execute_input": "2025-01-29T15:00:52.805108Z",
     "iopub.status.busy": "2025-01-29T15:00:52.804730Z",
     "iopub.status.idle": "2025-01-29T15:00:56.550443Z",
     "shell.execute_reply": "2025-01-29T15:00:56.549386Z",
     "shell.execute_reply.started": "2025-01-29T15:00:52.805070Z"
    },
    "trusted": true
   },
   "outputs": [
    {
     "name": "stdout",
     "output_type": "stream",
     "text": [
      "\u001b[2K   \u001b[90m━━━━━━━━━━━━━━━━━━━━━━━━━━━━━━━━━━━━━━━━\u001b[0m \u001b[32m84.0/84.0 kB\u001b[0m \u001b[31m1.7 MB/s\u001b[0m eta \u001b[36m0:00:00\u001b[0m00:01\u001b[0m\n",
      "\u001b[?25h"
     ]
    }
   ],
   "source": [
    "!pip install -q datasets transformers evaluate sentencepiece accelerate"
   ]
  },
  {
   "cell_type": "code",
   "execution_count": 5,
   "metadata": {
    "execution": {
     "iopub.execute_input": "2025-01-29T15:00:56.551995Z",
     "iopub.status.busy": "2025-01-29T15:00:56.551705Z",
     "iopub.status.idle": "2025-01-29T15:01:28.385107Z",
     "shell.execute_reply": "2025-01-29T15:01:28.384371Z",
     "shell.execute_reply.started": "2025-01-29T15:00:56.551957Z"
    },
    "trusted": true
   },
   "outputs": [],
   "source": [
    "import matplotlib.pyplot as plt\n",
    "import seaborn as sns\n",
    "\n",
    "from datasets import Dataset\n",
    "from transformers import AutoTokenizer\n",
    "from transformers import AutoModelForSequenceClassification\n",
    "from transformers import TrainingArguments, Trainer\n",
    "\n",
    "import torch\n",
    "from sklearn.metrics import roc_auc_score\n",
    "from sklearn.metrics import roc_curve, auc\n",
    "from sklearn.metrics import confusion_matrix, ConfusionMatrixDisplay\n",
    "from sklearn.metrics import precision_recall_fscore_support, accuracy_score"
   ]
  },
  {
   "cell_type": "code",
   "execution_count": 6,
   "metadata": {
    "execution": {
     "iopub.execute_input": "2025-01-29T15:01:28.386933Z",
     "iopub.status.busy": "2025-01-29T15:01:28.386324Z",
     "iopub.status.idle": "2025-01-29T15:01:28.513640Z",
     "shell.execute_reply": "2025-01-29T15:01:28.512706Z",
     "shell.execute_reply.started": "2025-01-29T15:01:28.386908Z"
    },
    "trusted": true
   },
   "outputs": [],
   "source": [
    "train_ron = pd.read_csv(\"/kaggle/input/semeval-2025-task-11-emotion/public_data_test/track_b/train/ron.csv\")\n",
    "\n",
    "dev_ron = pd.read_csv(\"/kaggle/input/semeval-2025-task-11-emotion/public_data_test/track_b/dev/ron.csv\")\n",
    "\n",
    "test_ron = pd.read_csv(\"/kaggle/input/semeval-2025-task-11-emotion/public_data_test/track_b/test/ron.csv\")"
   ]
  },
  {
   "cell_type": "markdown",
   "metadata": {},
   "source": [
    "# ROMANIAN"
   ]
  },
  {
   "cell_type": "code",
   "execution_count": 9,
   "metadata": {
    "execution": {
     "iopub.execute_input": "2025-01-27T16:01:54.789309Z",
     "iopub.status.busy": "2025-01-27T16:01:54.788882Z",
     "iopub.status.idle": "2025-01-27T16:01:54.811771Z",
     "shell.execute_reply": "2025-01-27T16:01:54.810939Z",
     "shell.execute_reply.started": "2025-01-27T16:01:54.789273Z"
    },
    "trusted": true
   },
   "outputs": [
    {
     "data": {
      "text/html": [
       "<div>\n",
       "<style scoped>\n",
       "    .dataframe tbody tr th:only-of-type {\n",
       "        vertical-align: middle;\n",
       "    }\n",
       "\n",
       "    .dataframe tbody tr th {\n",
       "        vertical-align: top;\n",
       "    }\n",
       "\n",
       "    .dataframe thead th {\n",
       "        text-align: right;\n",
       "    }\n",
       "</style>\n",
       "<table border=\"1\" class=\"dataframe\">\n",
       "  <thead>\n",
       "    <tr style=\"text-align: right;\">\n",
       "      <th></th>\n",
       "      <th>id</th>\n",
       "      <th>text</th>\n",
       "      <th>anger</th>\n",
       "      <th>disgust</th>\n",
       "      <th>fear</th>\n",
       "      <th>joy</th>\n",
       "      <th>sadness</th>\n",
       "      <th>surprise</th>\n",
       "    </tr>\n",
       "  </thead>\n",
       "  <tbody>\n",
       "    <tr>\n",
       "      <th>0</th>\n",
       "      <td>ron_train_track_b_00001</td>\n",
       "      <td>Ce surpriza Miai inseninat ziua Ce invitata mi...</td>\n",
       "      <td>0</td>\n",
       "      <td>0</td>\n",
       "      <td>0</td>\n",
       "      <td>3</td>\n",
       "      <td>0</td>\n",
       "      <td>3</td>\n",
       "    </tr>\n",
       "    <tr>\n",
       "      <th>1</th>\n",
       "      <td>ron_train_track_b_00002</td>\n",
       "      <td>Parlamentarii vor închisoare pentru cine nu pa...</td>\n",
       "      <td>0</td>\n",
       "      <td>0</td>\n",
       "      <td>0</td>\n",
       "      <td>0</td>\n",
       "      <td>0</td>\n",
       "      <td>0</td>\n",
       "    </tr>\n",
       "    <tr>\n",
       "      <th>2</th>\n",
       "      <td>ron_train_track_b_00003</td>\n",
       "      <td>&lt;|PERSON|&gt; declarații de presă la 2230 Prima i...</td>\n",
       "      <td>0</td>\n",
       "      <td>0</td>\n",
       "      <td>0</td>\n",
       "      <td>0</td>\n",
       "      <td>0</td>\n",
       "      <td>1</td>\n",
       "    </tr>\n",
       "    <tr>\n",
       "      <th>3</th>\n",
       "      <td>ron_train_track_b_00004</td>\n",
       "      <td>O ador pe &lt;|PERSON|&gt; O urmaresc de multi ani p...</td>\n",
       "      <td>0</td>\n",
       "      <td>0</td>\n",
       "      <td>0</td>\n",
       "      <td>2</td>\n",
       "      <td>0</td>\n",
       "      <td>0</td>\n",
       "    </tr>\n",
       "    <tr>\n",
       "      <th>4</th>\n",
       "      <td>ron_train_track_b_00005</td>\n",
       "      <td>am visat niste chestii ciudate pe care efectiv...</td>\n",
       "      <td>0</td>\n",
       "      <td>0</td>\n",
       "      <td>3</td>\n",
       "      <td>0</td>\n",
       "      <td>0</td>\n",
       "      <td>1</td>\n",
       "    </tr>\n",
       "  </tbody>\n",
       "</table>\n",
       "</div>"
      ],
      "text/plain": [
       "                        id                                               text  \\\n",
       "0  ron_train_track_b_00001  Ce surpriza Miai inseninat ziua Ce invitata mi...   \n",
       "1  ron_train_track_b_00002  Parlamentarii vor închisoare pentru cine nu pa...   \n",
       "2  ron_train_track_b_00003  <|PERSON|> declarații de presă la 2230 Prima i...   \n",
       "3  ron_train_track_b_00004  O ador pe <|PERSON|> O urmaresc de multi ani p...   \n",
       "4  ron_train_track_b_00005  am visat niste chestii ciudate pe care efectiv...   \n",
       "\n",
       "   anger  disgust  fear  joy  sadness  surprise  \n",
       "0      0        0     0    3        0         3  \n",
       "1      0        0     0    0        0         0  \n",
       "2      0        0     0    0        0         1  \n",
       "3      0        0     0    2        0         0  \n",
       "4      0        0     3    0        0         1  "
      ]
     },
     "execution_count": 9,
     "metadata": {},
     "output_type": "execute_result"
    }
   ],
   "source": [
    "train_ron.head()"
   ]
  },
  {
   "cell_type": "code",
   "execution_count": 10,
   "metadata": {
    "execution": {
     "iopub.execute_input": "2025-01-27T16:02:11.739823Z",
     "iopub.status.busy": "2025-01-27T16:02:11.739499Z",
     "iopub.status.idle": "2025-01-27T16:02:11.763416Z",
     "shell.execute_reply": "2025-01-27T16:02:11.762780Z",
     "shell.execute_reply.started": "2025-01-27T16:02:11.739796Z"
    },
    "trusted": true
   },
   "outputs": [
    {
     "name": "stdout",
     "output_type": "stream",
     "text": [
      "<class 'pandas.core.frame.DataFrame'>\n",
      "RangeIndex: 1241 entries, 0 to 1240\n",
      "Data columns (total 8 columns):\n",
      " #   Column    Non-Null Count  Dtype \n",
      "---  ------    --------------  ----- \n",
      " 0   id        1241 non-null   object\n",
      " 1   text      1241 non-null   object\n",
      " 2   anger     1241 non-null   int64 \n",
      " 3   disgust   1241 non-null   int64 \n",
      " 4   fear      1241 non-null   int64 \n",
      " 5   joy       1241 non-null   int64 \n",
      " 6   sadness   1241 non-null   int64 \n",
      " 7   surprise  1241 non-null   int64 \n",
      "dtypes: int64(6), object(2)\n",
      "memory usage: 77.7+ KB\n"
     ]
    }
   ],
   "source": [
    "train_ron.info()"
   ]
  },
  {
   "cell_type": "code",
   "execution_count": 15,
   "metadata": {
    "execution": {
     "iopub.execute_input": "2025-01-27T16:09:54.375678Z",
     "iopub.status.busy": "2025-01-27T16:09:54.375356Z",
     "iopub.status.idle": "2025-01-27T16:09:54.633456Z",
     "shell.execute_reply": "2025-01-27T16:09:54.632756Z",
     "shell.execute_reply.started": "2025-01-27T16:09:54.375653Z"
    },
    "trusted": true
   },
   "outputs": [
    {
     "data": {
      "text/plain": [
       "<Axes: >"
      ]
     },
     "execution_count": 15,
     "metadata": {},
     "output_type": "execute_result"
    },
    {
     "data": {
      "image/png": "[encoded data removed]",
      "text/plain": [
       "<Figure size 640x480 with 1 Axes>"
      ]
     },
     "metadata": {},
     "output_type": "display_data"
    }
   ],
   "source": [
    "attributes = ['anger', 'fear', 'joy', 'sadness', 'disgust','surprise']\n",
    "train_ron[attributes].sum().plot.bar()"
   ]
  },
  {
   "cell_type": "code",
   "execution_count": 11,
   "metadata": {
    "execution": {
     "iopub.execute_input": "2025-01-27T16:02:32.733195Z",
     "iopub.status.busy": "2025-01-27T16:02:32.732872Z",
     "iopub.status.idle": "2025-01-27T16:02:32.742548Z",
     "shell.execute_reply": "2025-01-27T16:02:32.741724Z",
     "shell.execute_reply.started": "2025-01-27T16:02:32.733165Z"
    },
    "trusted": true
   },
   "outputs": [
    {
     "name": "stdout",
     "output_type": "stream",
     "text": [
      "<class 'pandas.core.frame.DataFrame'>\n",
      "RangeIndex: 123 entries, 0 to 122\n",
      "Data columns (total 8 columns):\n",
      " #   Column    Non-Null Count  Dtype \n",
      "---  ------    --------------  ----- \n",
      " 0   id        123 non-null    object\n",
      " 1   text      123 non-null    object\n",
      " 2   anger     123 non-null    int64 \n",
      " 3   disgust   123 non-null    int64 \n",
      " 4   fear      123 non-null    int64 \n",
      " 5   joy       123 non-null    int64 \n",
      " 6   sadness   123 non-null    int64 \n",
      " 7   surprise  123 non-null    int64 \n",
      "dtypes: int64(6), object(2)\n",
      "memory usage: 7.8+ KB\n"
     ]
    }
   ],
   "source": [
    "dev_ron.info()"
   ]
  },
  {
   "cell_type": "code",
   "execution_count": 16,
   "metadata": {
    "execution": {
     "iopub.execute_input": "2025-01-27T16:10:06.384511Z",
     "iopub.status.busy": "2025-01-27T16:10:06.384217Z",
     "iopub.status.idle": "2025-01-27T16:10:06.528101Z",
     "shell.execute_reply": "2025-01-27T16:10:06.527442Z",
     "shell.execute_reply.started": "2025-01-27T16:10:06.384489Z"
    },
    "trusted": true
   },
   "outputs": [
    {
     "data": {
      "text/plain": [
       "<Axes: >"
      ]
     },
     "execution_count": 16,
     "metadata": {},
     "output_type": "execute_result"
    },
    {
     "data": {
      "image/png": "[encoded data removed]",
      "text/plain": [
       "<Figure size 640x480 with 1 Axes>"
      ]
     },
     "metadata": {},
     "output_type": "display_data"
    }
   ],
   "source": [
    "dev_ron[attributes].sum().plot.bar()"
   ]
  },
  {
   "cell_type": "code",
   "execution_count": 12,
   "metadata": {
    "execution": {
     "iopub.execute_input": "2025-01-27T16:02:42.424578Z",
     "iopub.status.busy": "2025-01-27T16:02:42.424200Z",
     "iopub.status.idle": "2025-01-27T16:02:42.436740Z",
     "shell.execute_reply": "2025-01-27T16:02:42.435926Z",
     "shell.execute_reply.started": "2025-01-27T16:02:42.424546Z"
    },
    "trusted": true
   },
   "outputs": [
    {
     "data": {
      "text/html": [
       "<div>\n",
       "<style scoped>\n",
       "    .dataframe tbody tr th:only-of-type {\n",
       "        vertical-align: middle;\n",
       "    }\n",
       "\n",
       "    .dataframe tbody tr th {\n",
       "        vertical-align: top;\n",
       "    }\n",
       "\n",
       "    .dataframe thead th {\n",
       "        text-align: right;\n",
       "    }\n",
       "</style>\n",
       "<table border=\"1\" class=\"dataframe\">\n",
       "  <thead>\n",
       "    <tr style=\"text-align: right;\">\n",
       "      <th></th>\n",
       "      <th>id</th>\n",
       "      <th>text</th>\n",
       "      <th>anger</th>\n",
       "      <th>disgust</th>\n",
       "      <th>fear</th>\n",
       "      <th>joy</th>\n",
       "      <th>sadness</th>\n",
       "      <th>surprise</th>\n",
       "    </tr>\n",
       "  </thead>\n",
       "  <tbody>\n",
       "    <tr>\n",
       "      <th>0</th>\n",
       "      <td>ron_dev_track_b_00001</td>\n",
       "      <td>Petarde de război folosite la miting DOVADA FOTO</td>\n",
       "      <td>0</td>\n",
       "      <td>0</td>\n",
       "      <td>1</td>\n",
       "      <td>0</td>\n",
       "      <td>0</td>\n",
       "      <td>1</td>\n",
       "    </tr>\n",
       "    <tr>\n",
       "      <th>1</th>\n",
       "      <td>ron_dev_track_b_00002</td>\n",
       "      <td>Mia placut cum a fost &lt;|PERSON|&gt; ca invitat la...</td>\n",
       "      <td>0</td>\n",
       "      <td>0</td>\n",
       "      <td>0</td>\n",
       "      <td>2</td>\n",
       "      <td>0</td>\n",
       "      <td>0</td>\n",
       "    </tr>\n",
       "    <tr>\n",
       "      <th>2</th>\n",
       "      <td>ron_dev_track_b_00003</td>\n",
       "      <td>Interviu în exclusivitate cu &lt;|PERSON|&gt; după p...</td>\n",
       "      <td>0</td>\n",
       "      <td>0</td>\n",
       "      <td>0</td>\n",
       "      <td>0</td>\n",
       "      <td>0</td>\n",
       "      <td>0</td>\n",
       "    </tr>\n",
       "    <tr>\n",
       "      <th>3</th>\n",
       "      <td>ron_dev_track_b_00004</td>\n",
       "      <td>SENZAȚIONAL VIRUSUL UCIGAȘ FĂCUT DE MASONI ACU...</td>\n",
       "      <td>1</td>\n",
       "      <td>2</td>\n",
       "      <td>2</td>\n",
       "      <td>0</td>\n",
       "      <td>1</td>\n",
       "      <td>2</td>\n",
       "    </tr>\n",
       "    <tr>\n",
       "      <th>4</th>\n",
       "      <td>ron_dev_track_b_00005</td>\n",
       "      <td>„Oamenii buni sunt foarte rari în ziua de azi ...</td>\n",
       "      <td>1</td>\n",
       "      <td>1</td>\n",
       "      <td>2</td>\n",
       "      <td>0</td>\n",
       "      <td>2</td>\n",
       "      <td>0</td>\n",
       "    </tr>\n",
       "  </tbody>\n",
       "</table>\n",
       "</div>"
      ],
      "text/plain": [
       "                      id                                               text  \\\n",
       "0  ron_dev_track_b_00001   Petarde de război folosite la miting DOVADA FOTO   \n",
       "1  ron_dev_track_b_00002  Mia placut cum a fost <|PERSON|> ca invitat la...   \n",
       "2  ron_dev_track_b_00003  Interviu în exclusivitate cu <|PERSON|> după p...   \n",
       "3  ron_dev_track_b_00004  SENZAȚIONAL VIRUSUL UCIGAȘ FĂCUT DE MASONI ACU...   \n",
       "4  ron_dev_track_b_00005  „Oamenii buni sunt foarte rari în ziua de azi ...   \n",
       "\n",
       "   anger  disgust  fear  joy  sadness  surprise  \n",
       "0      0        0     1    0        0         1  \n",
       "1      0        0     0    2        0         0  \n",
       "2      0        0     0    0        0         0  \n",
       "3      1        2     2    0        1         2  \n",
       "4      1        1     2    0        2         0  "
      ]
     },
     "execution_count": 12,
     "metadata": {},
     "output_type": "execute_result"
    }
   ],
   "source": [
    "dev_ron.head()"
   ]
  },
  {
   "cell_type": "code",
   "execution_count": 13,
   "metadata": {
    "execution": {
     "iopub.execute_input": "2025-01-27T16:02:57.757563Z",
     "iopub.status.busy": "2025-01-27T16:02:57.757240Z",
     "iopub.status.idle": "2025-01-27T16:02:57.768629Z",
     "shell.execute_reply": "2025-01-27T16:02:57.767772Z",
     "shell.execute_reply.started": "2025-01-27T16:02:57.757531Z"
    },
    "trusted": true
   },
   "outputs": [
    {
     "data": {
      "text/html": [
       "<div>\n",
       "<style scoped>\n",
       "    .dataframe tbody tr th:only-of-type {\n",
       "        vertical-align: middle;\n",
       "    }\n",
       "\n",
       "    .dataframe tbody tr th {\n",
       "        vertical-align: top;\n",
       "    }\n",
       "\n",
       "    .dataframe thead th {\n",
       "        text-align: right;\n",
       "    }\n",
       "</style>\n",
       "<table border=\"1\" class=\"dataframe\">\n",
       "  <thead>\n",
       "    <tr style=\"text-align: right;\">\n",
       "      <th></th>\n",
       "      <th>id</th>\n",
       "      <th>text</th>\n",
       "      <th>anger</th>\n",
       "      <th>disgust</th>\n",
       "      <th>fear</th>\n",
       "      <th>joy</th>\n",
       "      <th>sadness</th>\n",
       "      <th>surprise</th>\n",
       "    </tr>\n",
       "  </thead>\n",
       "  <tbody>\n",
       "    <tr>\n",
       "      <th>0</th>\n",
       "      <td>ron_test_track_b_00001</td>\n",
       "      <td>Bărbat amendat după o postare injurioasă pe o ...</td>\n",
       "      <td>NaN</td>\n",
       "      <td>NaN</td>\n",
       "      <td>NaN</td>\n",
       "      <td>NaN</td>\n",
       "      <td>NaN</td>\n",
       "      <td>NaN</td>\n",
       "    </tr>\n",
       "    <tr>\n",
       "      <th>1</th>\n",
       "      <td>ron_test_track_b_00002</td>\n",
       "      <td>Respect Dl &lt;|PERSON|&gt; Mă bucur să aud că în sf...</td>\n",
       "      <td>NaN</td>\n",
       "      <td>NaN</td>\n",
       "      <td>NaN</td>\n",
       "      <td>NaN</td>\n",
       "      <td>NaN</td>\n",
       "      <td>NaN</td>\n",
       "    </tr>\n",
       "    <tr>\n",
       "      <th>2</th>\n",
       "      <td>ron_test_track_b_00003</td>\n",
       "      <td>Radiografia unui eșec Metroul din Drumul 16 mi...</td>\n",
       "      <td>NaN</td>\n",
       "      <td>NaN</td>\n",
       "      <td>NaN</td>\n",
       "      <td>NaN</td>\n",
       "      <td>NaN</td>\n",
       "      <td>NaN</td>\n",
       "    </tr>\n",
       "    <tr>\n",
       "      <th>3</th>\n",
       "      <td>ron_test_track_b_00004</td>\n",
       "      <td>povestea românului emigrat în SUA care din tur...</td>\n",
       "      <td>NaN</td>\n",
       "      <td>NaN</td>\n",
       "      <td>NaN</td>\n",
       "      <td>NaN</td>\n",
       "      <td>NaN</td>\n",
       "      <td>NaN</td>\n",
       "    </tr>\n",
       "    <tr>\n",
       "      <th>4</th>\n",
       "      <td>ron_test_track_b_00005</td>\n",
       "      <td>Să ne trăiți întru mulți ani binecuvântațiPERS...</td>\n",
       "      <td>NaN</td>\n",
       "      <td>NaN</td>\n",
       "      <td>NaN</td>\n",
       "      <td>NaN</td>\n",
       "      <td>NaN</td>\n",
       "      <td>NaN</td>\n",
       "    </tr>\n",
       "  </tbody>\n",
       "</table>\n",
       "</div>"
      ],
      "text/plain": [
       "                       id                                               text  \\\n",
       "0  ron_test_track_b_00001  Bărbat amendat după o postare injurioasă pe o ...   \n",
       "1  ron_test_track_b_00002  Respect Dl <|PERSON|> Mă bucur să aud că în sf...   \n",
       "2  ron_test_track_b_00003  Radiografia unui eșec Metroul din Drumul 16 mi...   \n",
       "3  ron_test_track_b_00004  povestea românului emigrat în SUA care din tur...   \n",
       "4  ron_test_track_b_00005  Să ne trăiți întru mulți ani binecuvântațiPERS...   \n",
       "\n",
       "   anger  disgust  fear  joy  sadness  surprise  \n",
       "0    NaN      NaN   NaN  NaN      NaN       NaN  \n",
       "1    NaN      NaN   NaN  NaN      NaN       NaN  \n",
       "2    NaN      NaN   NaN  NaN      NaN       NaN  \n",
       "3    NaN      NaN   NaN  NaN      NaN       NaN  \n",
       "4    NaN      NaN   NaN  NaN      NaN       NaN  "
      ]
     },
     "execution_count": 13,
     "metadata": {},
     "output_type": "execute_result"
    }
   ],
   "source": [
    "test_ron.head()"
   ]
  },
  {
   "cell_type": "code",
   "execution_count": 14,
   "metadata": {
    "execution": {
     "iopub.execute_input": "2025-01-27T16:03:08.695048Z",
     "iopub.status.busy": "2025-01-27T16:03:08.694677Z",
     "iopub.status.idle": "2025-01-27T16:03:08.704083Z",
     "shell.execute_reply": "2025-01-27T16:03:08.703245Z",
     "shell.execute_reply.started": "2025-01-27T16:03:08.695021Z"
    },
    "trusted": true
   },
   "outputs": [
    {
     "name": "stdout",
     "output_type": "stream",
     "text": [
      "<class 'pandas.core.frame.DataFrame'>\n",
      "RangeIndex: 1119 entries, 0 to 1118\n",
      "Data columns (total 8 columns):\n",
      " #   Column    Non-Null Count  Dtype  \n",
      "---  ------    --------------  -----  \n",
      " 0   id        1119 non-null   object \n",
      " 1   text      1119 non-null   object \n",
      " 2   anger     0 non-null      float64\n",
      " 3   disgust   0 non-null      float64\n",
      " 4   fear      0 non-null      float64\n",
      " 5   joy       0 non-null      float64\n",
      " 6   sadness   0 non-null      float64\n",
      " 7   surprise  0 non-null      float64\n",
      "dtypes: float64(6), object(2)\n",
      "memory usage: 70.1+ KB\n"
     ]
    }
   ],
   "source": [
    "test_ron.info()"
   ]
  },
  {
   "cell_type": "code",
   "execution_count": 7,
   "metadata": {
    "execution": {
     "iopub.execute_input": "2025-01-29T15:01:28.515076Z",
     "iopub.status.busy": "2025-01-29T15:01:28.514738Z",
     "iopub.status.idle": "2025-01-29T15:01:28.518701Z",
     "shell.execute_reply": "2025-01-29T15:01:28.517937Z",
     "shell.execute_reply.started": "2025-01-29T15:01:28.515047Z"
    },
    "trusted": true
   },
   "outputs": [],
   "source": [
    "emotion_labels = [\"anger\", \"disgust\", \"fear\", \"joy\", \"sadness\",\"surprise\"]"
   ]
  },
  {
   "cell_type": "code",
   "execution_count": 8,
   "metadata": {
    "execution": {
     "iopub.execute_input": "2025-01-29T15:01:48.591577Z",
     "iopub.status.busy": "2025-01-29T15:01:48.591265Z",
     "iopub.status.idle": "2025-01-29T15:01:48.595590Z",
     "shell.execute_reply": "2025-01-29T15:01:48.594856Z",
     "shell.execute_reply.started": "2025-01-29T15:01:48.591557Z"
    },
    "trusted": true
   },
   "outputs": [],
   "source": [
    "from peft import get_peft_model, LoraConfig, TaskType\n",
    "\n",
    "\n",
    "lora_config = LoraConfig(\n",
    "    task_type=TaskType.SEQ_CLS,  \n",
    "    r=16, \n",
    "    lora_alpha=64,  \n",
    "    lora_dropout=0.1,  \n",
    "    bias=\"none\"  \n",
    ")"
   ]
  },
  {
   "cell_type": "markdown",
   "metadata": {},
   "source": [
    "# Twitter XLM RoBERTa Base Sentiment"
   ]
  },
  {
   "cell_type": "code",
   "execution_count": null,
   "metadata": {
    "execution": {
     "iopub.execute_input": "2025-01-27T16:10:58.251158Z",
     "iopub.status.busy": "2025-01-27T16:10:58.250856Z",
     "iopub.status.idle": "2025-01-27T16:11:11.105433Z",
     "shell.execute_reply": "2025-01-27T16:11:11.104533Z",
     "shell.execute_reply.started": "2025-01-27T16:10:58.251133Z"
    },
    "trusted": true
   },
   "outputs": [
    {
     "data": {
      "application/vnd.jupyter.widget-view+json": {
       "model_id": "77aed5148c5a44f7b33f28739944208a",
       "version_major": 2,
       "version_minor": 0
      },
      "text/plain": [
       "config.json:   0%|          | 0.00/841 [00:00<?, ?B/s]"
      ]
     },
     "metadata": {},
     "output_type": "display_data"
    },
    {
     "data": {
      "application/vnd.jupyter.widget-view+json": {
       "model_id": "6aec7e41074a4ef7b82456b810103042",
       "version_major": 2,
       "version_minor": 0
      },
      "text/plain": [
       "sentencepiece.bpe.model:   0%|          | 0.00/5.07M [00:00<?, ?B/s]"
      ]
     },
     "metadata": {},
     "output_type": "display_data"
    },
    {
     "data": {
      "application/vnd.jupyter.widget-view+json": {
       "model_id": "c1c303350efe436eb80c50b3d6425bc6",
       "version_major": 2,
       "version_minor": 0
      },
      "text/plain": [
       "special_tokens_map.json:   0%|          | 0.00/150 [00:00<?, ?B/s]"
      ]
     },
     "metadata": {},
     "output_type": "display_data"
    },
    {
     "data": {
      "application/vnd.jupyter.widget-view+json": {
       "model_id": "273c70b1a850490092457dae53b581b5",
       "version_major": 2,
       "version_minor": 0
      },
      "text/plain": [
       "pytorch_model.bin:   0%|          | 0.00/1.11G [00:00<?, ?B/s]"
      ]
     },
     "metadata": {},
     "output_type": "display_data"
    },
    {
     "name": "stderr",
     "output_type": "stream",
     "text": [
      "Some weights of XLMRobertaForSequenceClassification were not initialized from the model checkpoint at cardiffnlp/twitter-xlm-roberta-base-sentiment and are newly initialized because the shapes did not match:\n",
      "- classifier.out_proj.weight: found shape torch.Size([3, 768]) in the checkpoint and torch.Size([6, 768]) in the model instantiated\n",
      "- classifier.out_proj.bias: found shape torch.Size([3]) in the checkpoint and torch.Size([6]) in the model instantiated\n",
      "You should probably TRAIN this model on a down-stream task to be able to use it for predictions and inference.\n"
     ]
    }
   ],
   "source": [
    "tokenizer = AutoTokenizer.from_pretrained('cardiffnlp/twitter-xlm-roberta-base-sentiment')\n",
    "model = AutoModelForSequenceClassification.from_pretrained('cardiffnlp/twitter-xlm-roberta-base-sentiment',\n",
    "                                                           problem_type=\"multi_label_classification\",\n",
    "                                                           ignore_mismatched_sizes=True,\n",
    "                                                           num_labels=len(emotion_labels))"
   ]
  },
  {
   "cell_type": "code",
   "execution_count": 20,
   "metadata": {
    "execution": {
     "iopub.execute_input": "2025-01-27T16:11:20.050048Z",
     "iopub.status.busy": "2025-01-27T16:11:20.049666Z",
     "iopub.status.idle": "2025-01-27T16:11:20.108800Z",
     "shell.execute_reply": "2025-01-27T16:11:20.107921Z",
     "shell.execute_reply.started": "2025-01-27T16:11:20.050019Z"
    },
    "trusted": true
   },
   "outputs": [
    {
     "name": "stdout",
     "output_type": "stream",
     "text": [
      "trainable params: 1,185,030 || all params: 279,233,292 || trainable%: 0.4244\n",
      "None\n"
     ]
    }
   ],
   "source": [
    "model = get_peft_model(model, lora_config)\n",
    "print(model.print_trainable_parameters())"
   ]
  },
  {
   "cell_type": "code",
   "execution_count": null,
   "metadata": {
    "execution": {
     "iopub.execute_input": "2025-01-27T18:47:42.163814Z",
     "iopub.status.busy": "2025-01-27T18:47:42.163517Z",
     "iopub.status.idle": "2025-01-27T18:47:42.167885Z",
     "shell.execute_reply": "2025-01-27T18:47:42.167044Z",
     "shell.execute_reply.started": "2025-01-27T18:47:42.163792Z"
    },
    "trusted": true
   },
   "outputs": [],
   "source": [
    "def tokenize_with_emotions(batch):\n",
    "    emotions = \"anger, disgust, fear, joy, sadness, or surprise?\"  \n",
    "    return tokenizer(emotions, batch['text'], padding=True, truncation=True, max_length=128)"
   ]
  },
  {
   "cell_type": "code",
   "execution_count": 21,
   "metadata": {
    "execution": {
     "iopub.execute_input": "2025-01-27T18:47:43.211159Z",
     "iopub.status.busy": "2025-01-27T18:47:43.210870Z",
     "iopub.status.idle": "2025-01-27T18:47:43.215921Z",
     "shell.execute_reply": "2025-01-27T18:47:43.215154Z",
     "shell.execute_reply.started": "2025-01-27T18:47:43.211137Z"
    },
    "trusted": true
   },
   "outputs": [],
   "source": [
    "def encode_data_with_demux(df, tokenizer):\n",
    "    emotions = [\"anger\", \"disgust\", \"fear\", \"joy\", \"sadness\",\"surprise\"]\n",
    "    text_with_emotions = [\", \".join(emotions) + \"?\" + \" \" + t for t in df['text']]\n",
    "    encodings = tokenizer(text_with_emotions, truncation=True, padding=True, max_length=128)\n",
    "    labels = df[['anger', 'disgust', 'fear', 'joy', 'sadness',\"surprise\"]].fillna(0).values\n",
    "    return encodings, labels"
   ]
  },
  {
   "cell_type": "code",
   "execution_count": 22,
   "metadata": {
    "execution": {
     "iopub.execute_input": "2025-01-27T18:47:44.905825Z",
     "iopub.status.busy": "2025-01-27T18:47:44.905535Z",
     "iopub.status.idle": "2025-01-27T18:47:45.025071Z",
     "shell.execute_reply": "2025-01-27T18:47:45.024127Z",
     "shell.execute_reply.started": "2025-01-27T18:47:44.905803Z"
    },
    "trusted": true
   },
   "outputs": [],
   "source": [
    "train_encodings, train_labels = encode_data_with_demux(train_ron, tokenizer)\n",
    "dev_encodings, dev_labels = encode_data_with_demux(dev_ron, tokenizer)"
   ]
  },
  {
   "cell_type": "code",
   "execution_count": 23,
   "metadata": {
    "execution": {
     "iopub.execute_input": "2025-01-27T18:47:46.525232Z",
     "iopub.status.busy": "2025-01-27T18:47:46.524904Z",
     "iopub.status.idle": "2025-01-27T18:47:46.530184Z",
     "shell.execute_reply": "2025-01-27T18:47:46.529442Z",
     "shell.execute_reply.started": "2025-01-27T18:47:46.525203Z"
    },
    "trusted": true
   },
   "outputs": [],
   "source": [
    "class CustomDataset(torch.utils.data.Dataset):\n",
    "    def __init__(self, encodings, labels):\n",
    "        self.encodings = encodings\n",
    "        self.labels = torch.tensor(labels, dtype=torch.float)\n",
    "\n",
    "    def __len__(self):\n",
    "        return len(self.labels)\n",
    "\n",
    "    def __getitem__(self, idx):\n",
    "        item = {key: torch.tensor(val[idx]) for key, val in self.encodings.items()}\n",
    "        item['labels'] = self.labels[idx]\n",
    "        return item"
   ]
  },
  {
   "cell_type": "code",
   "execution_count": 24,
   "metadata": {
    "execution": {
     "iopub.execute_input": "2025-01-27T18:47:48.129648Z",
     "iopub.status.busy": "2025-01-27T18:47:48.129351Z",
     "iopub.status.idle": "2025-01-27T18:47:48.136686Z",
     "shell.execute_reply": "2025-01-27T18:47:48.135721Z",
     "shell.execute_reply.started": "2025-01-27T18:47:48.129626Z"
    },
    "trusted": true
   },
   "outputs": [],
   "source": [
    "train_dataset = CustomDataset(train_encodings, train_labels)\n",
    "dev_dataset = CustomDataset(dev_encodings, dev_labels)"
   ]
  },
  {
   "cell_type": "code",
   "execution_count": null,
   "metadata": {
    "execution": {
     "iopub.execute_input": "2025-01-27T16:11:56.600236Z",
     "iopub.status.busy": "2025-01-27T16:11:56.599870Z",
     "iopub.status.idle": "2025-01-27T16:11:56.915782Z",
     "shell.execute_reply": "2025-01-27T16:11:56.915077Z",
     "shell.execute_reply.started": "2025-01-27T16:11:56.600201Z"
    },
    "trusted": true
   },
   "outputs": [],
   "source": [
    "def calculate_token_lengths(texts, tokenizer):\n",
    "    token_lengths = [len(tokenizer.encode(text, truncation=False)) for text in texts]\n",
    "    return token_lengths\n",
    "\n",
    "train_lengths = calculate_token_lengths(train_ron['text'], tokenizer)\n",
    "dev_lengths = calculate_token_lengths(dev_ron['text'], tokenizer)\n",
    "test_lengths = calculate_token_lengths(test_ron['text'], tokenizer)"
   ]
  },
  {
   "cell_type": "code",
   "execution_count": null,
   "metadata": {
    "execution": {
     "iopub.execute_input": "2025-01-27T16:12:03.635461Z",
     "iopub.status.busy": "2025-01-27T16:12:03.635172Z",
     "iopub.status.idle": "2025-01-27T16:12:03.962700Z",
     "shell.execute_reply": "2025-01-27T16:12:03.961838Z",
     "shell.execute_reply.started": "2025-01-27T16:12:03.635438Z"
    },
    "trusted": true
   },
   "outputs": [
    {
     "data": {
      "image/png": "[encoded data removed]",
      "text/plain": [
       "<Figure size 1000x600 with 1 Axes>"
      ]
     },
     "metadata": {},
     "output_type": "display_data"
    }
   ],
   "source": [
    "all_lengths = train_lengths + dev_lengths + test_lengths\n",
    "\n",
    "plt.figure(figsize=(10, 6))\n",
    "sns.histplot(all_lengths, bins=50, kde=True, color='blue', alpha=0.7)\n",
    "plt.axvline(x=np.percentile(all_lengths, 90), color='red', linestyle='--', label='90th Percentile')\n",
    "plt.axvline(x=np.percentile(all_lengths, 95), color='green', linestyle='--', label='95th Percentile')\n",
    "plt.title('Token Length Distribution')\n",
    "plt.xlabel('Number of Tokens')\n",
    "plt.ylabel('Frequency')\n",
    "plt.legend()\n",
    "plt.show()"
   ]
  },
  {
   "cell_type": "code",
   "execution_count": 25,
   "metadata": {
    "execution": {
     "iopub.execute_input": "2025-01-27T18:47:54.200079Z",
     "iopub.status.busy": "2025-01-27T18:47:54.199782Z",
     "iopub.status.idle": "2025-01-27T18:47:54.204042Z",
     "shell.execute_reply": "2025-01-27T18:47:54.203099Z",
     "shell.execute_reply.started": "2025-01-27T18:47:54.200055Z"
    },
    "trusted": true
   },
   "outputs": [],
   "source": [
    "from transformers import EarlyStoppingCallback"
   ]
  },
  {
   "cell_type": "code",
   "execution_count": 27,
   "metadata": {
    "execution": {
     "iopub.execute_input": "2025-01-27T18:47:56.939862Z",
     "iopub.status.busy": "2025-01-27T18:47:56.939550Z",
     "iopub.status.idle": "2025-01-27T18:47:56.944357Z",
     "shell.execute_reply": "2025-01-27T18:47:56.943475Z",
     "shell.execute_reply.started": "2025-01-27T18:47:56.939836Z"
    },
    "trusted": true
   },
   "outputs": [],
   "source": [
    "import torch\n",
    "import torch.nn as nn\n",
    "\n",
    "class custom_loss(nn.Module):\n",
    "    def __init__(self):\n",
    "        super().__init__()\n",
    "        self.mse_loss = nn.MSELoss()\n",
    "\n",
    "    def forward(self, outputs, labels):\n",
    "        return self.mse_loss(outputs, labels)"
   ]
  },
  {
   "cell_type": "code",
   "execution_count": null,
   "metadata": {
    "execution": {
     "iopub.execute_input": "2025-01-27T18:47:58.191847Z",
     "iopub.status.busy": "2025-01-27T18:47:58.191500Z",
     "iopub.status.idle": "2025-01-27T18:47:58.197193Z",
     "shell.execute_reply": "2025-01-27T18:47:58.196152Z",
     "shell.execute_reply.started": "2025-01-27T18:47:58.191822Z"
    },
    "trusted": true
   },
   "outputs": [],
   "source": [
    "from scipy.stats import pearsonr\n",
    "\n",
    "def compute_pearson_corr(predictions, labels):\n",
    "    \"\"\"\n",
    "    Compute Pearson Correlation between predictions and labels.\n",
    "    \"\"\"\n",
    "    if isinstance(predictions, torch.Tensor):\n",
    "        predictions = predictions.detach().cpu().numpy()\n",
    "    if isinstance(labels, torch.Tensor):\n",
    "        labels = labels.detach().cpu().numpy()\n",
    "    \n",
    "    corr, _ = pearsonr(predictions.flatten(), labels.flatten())\n",
    "    return corr"
   ]
  },
  {
   "cell_type": "code",
   "execution_count": null,
   "metadata": {
    "execution": {
     "iopub.execute_input": "2025-01-27T18:47:59.503906Z",
     "iopub.status.busy": "2025-01-27T18:47:59.503594Z",
     "iopub.status.idle": "2025-01-27T18:47:59.508962Z",
     "shell.execute_reply": "2025-01-27T18:47:59.507865Z",
     "shell.execute_reply.started": "2025-01-27T18:47:59.503878Z"
    },
    "trusted": true
   },
   "outputs": [],
   "source": [
    "class CustomTrainer(Trainer):\n",
    "    def __init__(self, *args, **kwargs):\n",
    "        super().__init__(*args, **kwargs)\n",
    "        self.loss_fn = custom_loss()\n",
    "\n",
    "    def compute_loss(self, model, inputs, num_items_in_batch=None, return_outputs=False):\n",
    "        \"\"\"\n",
    "        Custom loss function for the Hugging Face Trainer.\n",
    "        \"\"\"\n",
    "        labels = inputs.pop(\"labels\")  # Extract labels\n",
    "        outputs = model(**inputs)      # Forward pass\n",
    "        logits = outputs.logits        # Extract logits\n",
    "\n",
    "        loss = self.loss_fn(logits, labels) \n",
    "\n",
    "        return (loss, outputs) if return_outputs else loss"
   ]
  },
  {
   "cell_type": "code",
   "execution_count": null,
   "metadata": {
    "execution": {
     "iopub.execute_input": "2025-01-27T18:48:01.199128Z",
     "iopub.status.busy": "2025-01-27T18:48:01.198659Z",
     "iopub.status.idle": "2025-01-27T18:48:01.204756Z",
     "shell.execute_reply": "2025-01-27T18:48:01.203875Z",
     "shell.execute_reply.started": "2025-01-27T18:48:01.199081Z"
    },
    "trusted": true
   },
   "outputs": [],
   "source": [
    "from transformers import EvalPrediction\n",
    "from sklearn.metrics import accuracy_score\n",
    "from sklearn.metrics import precision_score, recall_score, f1_score\n",
    "\n",
    "def compute_metrics(p: EvalPrediction):\n",
    "    \"\"\"\n",
    "    Compute metrics for evaluation, including Pearson Correlation, Accuracy, Precision, Recall, and F1 score.\n",
    "    \"\"\"\n",
    "    predictions, labels = p.predictions, p.label_ids\n",
    "    \n",
    "    predictions_rounded = np.round(predictions).astype(int)\n",
    "    \n",
    "    labels_flattened = labels.flatten()\n",
    "    predictions_flattened = predictions_rounded.flatten()\n",
    "    \n",
    "    pearson_corr = compute_pearson_corr(predictions, labels)\n",
    "    overall_accuracy = accuracy_score(labels_flattened, predictions_flattened)\n",
    "    precision = precision_score(labels_flattened, predictions_flattened, average='macro')\n",
    "    recall = recall_score(labels_flattened, predictions_flattened, average='macro')\n",
    "    f1 = f1_score(labels_flattened, predictions_flattened, average='macro')\n",
    "    \n",
    "    return {\n",
    "        \"pearson_corr\": pearson_corr,\n",
    "        \"overall_accuracy\": overall_accuracy,\n",
    "        \"precision\": precision,\n",
    "        \"recall\": recall,\n",
    "        \"f1_score\": f1\n",
    "    }"
   ]
  },
  {
   "cell_type": "code",
   "execution_count": 34,
   "metadata": {
    "execution": {
     "iopub.execute_input": "2025-01-27T16:14:24.732372Z",
     "iopub.status.busy": "2025-01-27T16:14:24.732060Z",
     "iopub.status.idle": "2025-01-27T16:14:24.895421Z",
     "shell.execute_reply": "2025-01-27T16:14:24.894772Z",
     "shell.execute_reply.started": "2025-01-27T16:14:24.732347Z"
    },
    "trusted": true
   },
   "outputs": [
    {
     "name": "stderr",
     "output_type": "stream",
     "text": [
      "Using the `WANDB_DISABLED` environment variable is deprecated and will be removed in v5. Use the --report_to flag to control the integrations used for logging result (for instance --report_to none).\n"
     ]
    }
   ],
   "source": [
    "training_args = TrainingArguments(\n",
    "    output_dir='./results/ron/xlm-roberta-sentiment-v1',\n",
    "    report_to=None,\n",
    "    evaluation_strategy=\"steps\",\n",
    "    save_total_limit = 1,\n",
    "    logging_strategy=\"epoch\",\n",
    "    load_best_model_at_end=True,\n",
    "    learning_rate=1e-5,\n",
    "    per_device_train_batch_size=8,\n",
    "    per_device_eval_batch_size=8,\n",
    "    num_train_epochs=100,\n",
    "    weight_decay=0.01,\n",
    "    metric_for_best_model=\"pearson_corr\",\n",
    ")"
   ]
  },
  {
   "cell_type": "code",
   "execution_count": 31,
   "metadata": {
    "execution": {
     "iopub.execute_input": "2025-01-27T18:48:06.269680Z",
     "iopub.status.busy": "2025-01-27T18:48:06.269338Z",
     "iopub.status.idle": "2025-01-27T18:48:06.273353Z",
     "shell.execute_reply": "2025-01-27T18:48:06.272291Z",
     "shell.execute_reply.started": "2025-01-27T18:48:06.269654Z"
    },
    "trusted": true
   },
   "outputs": [],
   "source": [
    "early_stopping_callback = EarlyStoppingCallback(\n",
    "    early_stopping_patience=3,  \n",
    "    early_stopping_threshold=0.00001  \n",
    ")"
   ]
  },
  {
   "cell_type": "code",
   "execution_count": 36,
   "metadata": {
    "execution": {
     "iopub.execute_input": "2025-01-27T16:14:41.957224Z",
     "iopub.status.busy": "2025-01-27T16:14:41.956891Z",
     "iopub.status.idle": "2025-01-27T16:14:42.697579Z",
     "shell.execute_reply": "2025-01-27T16:14:42.696923Z",
     "shell.execute_reply.started": "2025-01-27T16:14:41.957195Z"
    },
    "trusted": true
   },
   "outputs": [],
   "source": [
    "trainer = CustomTrainer(\n",
    "    model=model,\n",
    "    args=training_args,\n",
    "    train_dataset=train_dataset,\n",
    "    eval_dataset=dev_dataset,\n",
    "    tokenizer=tokenizer,\n",
    "    compute_metrics=compute_metrics,\n",
    "    callbacks=[early_stopping_callback]\n",
    ")"
   ]
  },
  {
   "cell_type": "code",
   "execution_count": 32,
   "metadata": {
    "execution": {
     "iopub.execute_input": "2025-01-27T18:48:08.057544Z",
     "iopub.status.busy": "2025-01-27T18:48:08.057183Z",
     "iopub.status.idle": "2025-01-27T18:48:08.062433Z",
     "shell.execute_reply": "2025-01-27T18:48:08.061372Z",
     "shell.execute_reply.started": "2025-01-27T18:48:08.057519Z"
    },
    "trusted": true
   },
   "outputs": [],
   "source": [
    "from unittest import mock\n",
    "from unittest.mock import Mock\n",
    "class Dummy:\n",
    "    def __enter__(self):\n",
    "        return Mock()\n",
    "\n",
    "    def __exit__(self, *args):\n",
    "        pass"
   ]
  },
  {
   "cell_type": "code",
   "execution_count": 38,
   "metadata": {
    "execution": {
     "iopub.execute_input": "2025-01-27T16:14:55.730314Z",
     "iopub.status.busy": "2025-01-27T16:14:55.729971Z",
     "iopub.status.idle": "2025-01-27T16:53:26.425836Z",
     "shell.execute_reply": "2025-01-27T16:53:26.424957Z",
     "shell.execute_reply.started": "2025-01-27T16:14:55.730286Z"
    },
    "trusted": true
   },
   "outputs": [
    {
     "data": {
      "text/html": [
       "\n",
       "    <div>\n",
       "      \n",
       "      <progress value='7000' max='7800' style='width:300px; height:20px; vertical-align: middle;'></progress>\n",
       "      [7000/7800 38:28 < 04:23, 3.03 it/s, Epoch 89/100]\n",
       "    </div>\n",
       "    <table border=\"1\" class=\"dataframe\">\n",
       "  <thead>\n",
       " <tr style=\"text-align: left;\">\n",
       "      <th>Step</th>\n",
       "      <th>Training Loss</th>\n",
       "      <th>Validation Loss</th>\n",
       "      <th>Pearson Corr</th>\n",
       "      <th>Overall Accuracy</th>\n",
       "      <th>Precision</th>\n",
       "      <th>Recall</th>\n",
       "      <th>F1 Score</th>\n",
       "    </tr>\n",
       "  </thead>\n",
       "  <tbody>\n",
       "    <tr>\n",
       "      <td>500</td>\n",
       "      <td>0.293800</td>\n",
       "      <td>0.317352</td>\n",
       "      <td>0.691473</td>\n",
       "      <td>0.714092</td>\n",
       "      <td>0.463994</td>\n",
       "      <td>0.423402</td>\n",
       "      <td>0.423732</td>\n",
       "    </tr>\n",
       "    <tr>\n",
       "      <td>1000</td>\n",
       "      <td>0.267000</td>\n",
       "      <td>0.294364</td>\n",
       "      <td>0.719686</td>\n",
       "      <td>0.718157</td>\n",
       "      <td>0.464687</td>\n",
       "      <td>0.449023</td>\n",
       "      <td>0.440892</td>\n",
       "    </tr>\n",
       "    <tr>\n",
       "      <td>1500</td>\n",
       "      <td>0.245800</td>\n",
       "      <td>0.287122</td>\n",
       "      <td>0.730719</td>\n",
       "      <td>0.719512</td>\n",
       "      <td>0.560468</td>\n",
       "      <td>0.491125</td>\n",
       "      <td>0.496543</td>\n",
       "    </tr>\n",
       "    <tr>\n",
       "      <td>2000</td>\n",
       "      <td>0.234900</td>\n",
       "      <td>0.274417</td>\n",
       "      <td>0.744485</td>\n",
       "      <td>0.731707</td>\n",
       "      <td>0.467872</td>\n",
       "      <td>0.464585</td>\n",
       "      <td>0.454394</td>\n",
       "    </tr>\n",
       "    <tr>\n",
       "      <td>2500</td>\n",
       "      <td>0.225400</td>\n",
       "      <td>0.270737</td>\n",
       "      <td>0.749972</td>\n",
       "      <td>0.760163</td>\n",
       "      <td>0.565127</td>\n",
       "      <td>0.528596</td>\n",
       "      <td>0.534799</td>\n",
       "    </tr>\n",
       "    <tr>\n",
       "      <td>3000</td>\n",
       "      <td>0.219500</td>\n",
       "      <td>0.262593</td>\n",
       "      <td>0.756221</td>\n",
       "      <td>0.758808</td>\n",
       "      <td>0.483218</td>\n",
       "      <td>0.487067</td>\n",
       "      <td>0.479210</td>\n",
       "    </tr>\n",
       "    <tr>\n",
       "      <td>3500</td>\n",
       "      <td>0.211400</td>\n",
       "      <td>0.261813</td>\n",
       "      <td>0.759787</td>\n",
       "      <td>0.761518</td>\n",
       "      <td>0.568370</td>\n",
       "      <td>0.537231</td>\n",
       "      <td>0.543238</td>\n",
       "    </tr>\n",
       "    <tr>\n",
       "      <td>4000</td>\n",
       "      <td>0.207100</td>\n",
       "      <td>0.261128</td>\n",
       "      <td>0.761579</td>\n",
       "      <td>0.761518</td>\n",
       "      <td>0.580684</td>\n",
       "      <td>0.553420</td>\n",
       "      <td>0.557745</td>\n",
       "    </tr>\n",
       "    <tr>\n",
       "      <td>4500</td>\n",
       "      <td>0.202800</td>\n",
       "      <td>0.256649</td>\n",
       "      <td>0.764598</td>\n",
       "      <td>0.752033</td>\n",
       "      <td>0.579208</td>\n",
       "      <td>0.550841</td>\n",
       "      <td>0.554752</td>\n",
       "    </tr>\n",
       "    <tr>\n",
       "      <td>5000</td>\n",
       "      <td>0.197000</td>\n",
       "      <td>0.257161</td>\n",
       "      <td>0.764638</td>\n",
       "      <td>0.758808</td>\n",
       "      <td>0.570605</td>\n",
       "      <td>0.529939</td>\n",
       "      <td>0.539060</td>\n",
       "    </tr>\n",
       "    <tr>\n",
       "      <td>5500</td>\n",
       "      <td>0.195700</td>\n",
       "      <td>0.253791</td>\n",
       "      <td>0.767470</td>\n",
       "      <td>0.760163</td>\n",
       "      <td>0.559523</td>\n",
       "      <td>0.526258</td>\n",
       "      <td>0.533971</td>\n",
       "    </tr>\n",
       "    <tr>\n",
       "      <td>6000</td>\n",
       "      <td>0.193300</td>\n",
       "      <td>0.256176</td>\n",
       "      <td>0.766459</td>\n",
       "      <td>0.758808</td>\n",
       "      <td>0.574575</td>\n",
       "      <td>0.543664</td>\n",
       "      <td>0.550105</td>\n",
       "    </tr>\n",
       "    <tr>\n",
       "      <td>6500</td>\n",
       "      <td>0.186800</td>\n",
       "      <td>0.255364</td>\n",
       "      <td>0.766998</td>\n",
       "      <td>0.756098</td>\n",
       "      <td>0.568374</td>\n",
       "      <td>0.540084</td>\n",
       "      <td>0.547253</td>\n",
       "    </tr>\n",
       "    <tr>\n",
       "      <td>7000</td>\n",
       "      <td>0.188600</td>\n",
       "      <td>0.255122</td>\n",
       "      <td>0.767397</td>\n",
       "      <td>0.758808</td>\n",
       "      <td>0.564783</td>\n",
       "      <td>0.542736</td>\n",
       "      <td>0.547831</td>\n",
       "    </tr>\n",
       "  </tbody>\n",
       "</table><p>"
      ],
      "text/plain": [
       "<IPython.core.display.HTML object>"
      ]
     },
     "metadata": {},
     "output_type": "display_data"
    }
   ],
   "source": [
    "with mock.patch('wandb.init', return_value=Dummy()):\n",
    "    trainer.train()"
   ]
  },
  {
   "cell_type": "code",
   "execution_count": null,
   "metadata": {
    "execution": {
     "iopub.execute_input": "2025-01-27T16:54:42.049493Z",
     "iopub.status.busy": "2025-01-27T16:54:42.049157Z",
     "iopub.status.idle": "2025-01-27T16:54:42.303188Z",
     "shell.execute_reply": "2025-01-27T16:54:42.302291Z",
     "shell.execute_reply.started": "2025-01-27T16:54:42.049464Z"
    },
    "trusted": true
   },
   "outputs": [
    {
     "name": "stdout",
     "output_type": "stream",
     "text": [
      "Model and tokenizer saved to /kaggle/working/\n"
     ]
    }
   ],
   "source": [
    "output_dir = \"/kaggle/working/\" \n",
    "\n",
    "model.save_pretrained(output_dir)\n",
    "\n",
    "tokenizer.save_pretrained(output_dir)\n",
    "\n",
    "print(f\"Model and tokenizer saved to {output_dir}\")"
   ]
  },
  {
   "cell_type": "code",
   "execution_count": null,
   "metadata": {
    "execution": {
     "iopub.execute_input": "2025-01-27T16:54:50.611234Z",
     "iopub.status.busy": "2025-01-27T16:54:50.610931Z",
     "iopub.status.idle": "2025-01-27T16:54:51.826705Z",
     "shell.execute_reply": "2025-01-27T16:54:51.825595Z",
     "shell.execute_reply.started": "2025-01-27T16:54:50.611211Z"
    },
    "trusted": true
   },
   "outputs": [
    {
     "data": {
      "text/html": [],
      "text/plain": [
       "<IPython.core.display.HTML object>"
      ]
     },
     "metadata": {},
     "output_type": "display_data"
    },
    {
     "name": "stdout",
     "output_type": "stream",
     "text": [
      "Discrete predictions (0-3): [[0 0 0 0 0 1]\n",
      " [0 0 0 2 0 0]\n",
      " [0 0 0 0 0 0]\n",
      " [0 0 2 0 1 1]\n",
      " [0 0 2 0 2 0]\n",
      " [0 0 2 0 1 0]\n",
      " [0 0 0 1 0 0]\n",
      " [0 0 1 0 1 0]\n",
      " [0 0 0 2 0 0]\n",
      " [0 0 1 0 0 0]\n",
      " [0 0 0 2 0 1]\n",
      " [1 2 0 0 1 0]\n",
      " [0 0 0 0 0 0]\n",
      " [0 1 0 0 1 1]\n",
      " [0 0 2 0 0 0]\n",
      " [1 1 1 0 1 0]\n",
      " [0 0 0 2 0 1]\n",
      " [0 0 0 3 0 0]\n",
      " [1 1 2 0 0 0]\n",
      " [0 1 0 0 1 1]\n",
      " [0 0 0 0 0 0]\n",
      " [0 0 0 2 0 0]\n",
      " [0 0 1 0 0 0]\n",
      " [0 0 0 0 0 0]\n",
      " [0 0 1 0 0 1]\n",
      " [0 0 0 2 0 0]\n",
      " [0 0 0 2 0 1]\n",
      " [0 0 0 2 0 0]\n",
      " [1 1 1 0 1 0]\n",
      " [0 0 0 2 0 1]\n",
      " [0 0 0 3 0 1]\n",
      " [1 1 1 0 1 0]\n",
      " [0 0 0 0 0 0]\n",
      " [0 0 2 0 1 0]\n",
      " [0 0 0 3 0 0]\n",
      " [0 0 0 2 0 0]\n",
      " [0 0 0 3 0 0]\n",
      " [1 1 0 0 1 0]\n",
      " [0 0 1 0 1 1]\n",
      " [0 0 2 0 1 0]\n",
      " [0 0 2 0 1 0]\n",
      " [0 0 0 2 0 0]\n",
      " [0 0 0 2 0 0]\n",
      " [0 0 2 0 0 0]\n",
      " [0 0 0 2 0 0]\n",
      " [0 1 1 0 1 0]\n",
      " [0 0 0 2 0 0]\n",
      " [0 0 0 2 0 1]\n",
      " [0 0 0 3 0 1]\n",
      " [0 0 1 0 0 0]\n",
      " [0 0 0 0 0 0]\n",
      " [0 0 0 2 0 0]\n",
      " [0 0 0 2 0 0]\n",
      " [0 0 0 3 0 1]\n",
      " [0 0 2 0 1 1]\n",
      " [1 1 1 0 1 1]\n",
      " [1 1 0 0 1 1]\n",
      " [1 1 0 0 0 0]\n",
      " [1 1 1 0 1 0]\n",
      " [0 0 1 0 2 1]\n",
      " [1 1 0 0 1 0]\n",
      " [0 0 0 2 0 0]\n",
      " [0 0 0 0 0 0]\n",
      " [0 0 1 0 2 1]\n",
      " [1 1 1 0 1 0]\n",
      " [0 0 0 2 0 0]\n",
      " [0 0 1 0 2 1]\n",
      " [0 0 1 0 1 0]\n",
      " [0 0 0 3 0 1]\n",
      " [0 0 0 2 0 0]\n",
      " [0 0 2 0 0 1]\n",
      " [0 0 1 0 1 0]\n",
      " [0 0 0 3 0 1]\n",
      " [0 0 0 2 0 1]\n",
      " [0 0 1 0 0 1]\n",
      " [0 0 2 0 1 1]\n",
      " [0 0 0 2 0 0]\n",
      " [0 0 0 0 0 0]\n",
      " [0 0 0 2 0 1]\n",
      " [0 0 0 2 0 0]\n",
      " [0 0 0 0 0 0]\n",
      " [0 0 0 2 0 0]\n",
      " [0 0 2 0 1 0]\n",
      " [1 1 1 0 2 0]\n",
      " [1 1 1 0 1 1]\n",
      " [1 1 0 0 1 0]\n",
      " [0 0 0 0 1 1]\n",
      " [1 1 0 0 1 0]\n",
      " [0 0 2 0 1 1]\n",
      " [1 0 2 0 2 0]\n",
      " [0 0 0 3 0 1]\n",
      " [0 0 1 0 2 1]\n",
      " [1 1 0 0 0 0]\n",
      " [0 1 1 0 0 0]\n",
      " [0 0 0 2 0 0]\n",
      " [1 1 0 0 1 1]\n",
      " [0 0 0 0 0 0]\n",
      " [0 0 0 2 0 0]\n",
      " [0 0 0 0 0 0]\n",
      " [0 0 1 0 0 1]\n",
      " [0 0 0 0 0 0]\n",
      " [0 0 0 2 0 0]\n",
      " [0 0 0 0 0 0]\n",
      " [0 0 1 0 1 0]\n",
      " [0 0 0 2 0 0]\n",
      " [0 0 0 2 0 0]\n",
      " [1 0 1 0 1 0]\n",
      " [2 2 1 0 1 0]\n",
      " [0 0 0 3 0 1]\n",
      " [0 0 1 0 0 0]\n",
      " [1 0 1 0 1 1]\n",
      " [0 0 0 3 0 1]\n",
      " [1 2 0 0 0 0]\n",
      " [1 1 1 0 1 0]\n",
      " [0 0 2 0 1 0]\n",
      " [0 0 1 0 1 1]\n",
      " [0 0 1 0 1 0]\n",
      " [0 0 0 2 0 1]\n",
      " [0 0 0 2 0 1]\n",
      " [0 1 1 0 0 1]\n",
      " [0 0 1 0 2 0]\n",
      " [0 0 0 2 0 1]\n",
      " [0 0 0 1 0 0]]\n"
     ]
    }
   ],
   "source": [
    "predictions, labels, _ = trainer.predict(dev_dataset) \n",
    "\n",
    "clipped_predictions = np.clip(predictions, 0, 3)\n",
    "\n",
    "discrete_predictions = np.round(clipped_predictions).astype(int)\n",
    "\n",
    "print(\"Discrete predictions (0-3):\", discrete_predictions)"
   ]
  },
  {
   "cell_type": "code",
   "execution_count": null,
   "metadata": {
    "execution": {
     "iopub.execute_input": "2025-01-27T16:55:04.458424Z",
     "iopub.status.busy": "2025-01-27T16:55:04.458124Z",
     "iopub.status.idle": "2025-01-27T16:55:04.678708Z",
     "shell.execute_reply": "2025-01-27T16:55:04.677671Z",
     "shell.execute_reply.started": "2025-01-27T16:55:04.458402Z"
    },
    "trusted": true
   },
   "outputs": [
    {
     "data": {
      "image/png": "[encoded data removed]",
      "text/plain": [
       "<Figure size 640x480 with 2 Axes>"
      ]
     },
     "metadata": {},
     "output_type": "display_data"
    }
   ],
   "source": [
    "predictions_flattened = discrete_predictions.ravel()\n",
    "labels_flattened = labels.ravel()\n",
    "\n",
    "conf_matrix = confusion_matrix(labels_flattened, predictions_flattened)\n",
    "\n",
    "disp = ConfusionMatrixDisplay(confusion_matrix=conf_matrix, display_labels=np.unique(labels_flattened))\n",
    "disp.plot(cmap=plt.cm.Blues)\n",
    "plt.title(\"Confusion Matrix\")\n",
    "plt.show()"
   ]
  },
  {
   "cell_type": "code",
   "execution_count": 42,
   "metadata": {
    "execution": {
     "iopub.execute_input": "2025-01-27T16:55:16.378650Z",
     "iopub.status.busy": "2025-01-27T16:55:16.378358Z",
     "iopub.status.idle": "2025-01-27T16:55:16.382497Z",
     "shell.execute_reply": "2025-01-27T16:55:16.381722Z",
     "shell.execute_reply.started": "2025-01-27T16:55:16.378628Z"
    },
    "trusted": true
   },
   "outputs": [],
   "source": [
    "pre=np.round(predictions).astype(int)"
   ]
  },
  {
   "cell_type": "code",
   "execution_count": null,
   "metadata": {
    "execution": {
     "iopub.execute_input": "2025-01-27T16:55:43.239296Z",
     "iopub.status.busy": "2025-01-27T16:55:43.238988Z",
     "iopub.status.idle": "2025-01-27T16:55:53.729783Z",
     "shell.execute_reply": "2025-01-27T16:55:53.728762Z",
     "shell.execute_reply.started": "2025-01-27T16:55:43.239264Z"
    },
    "trusted": true
   },
   "outputs": [
    {
     "data": {
      "text/html": [],
      "text/plain": [
       "<IPython.core.display.HTML object>"
      ]
     },
     "metadata": {},
     "output_type": "display_data"
    }
   ],
   "source": [
    "test_encodings = tokenizer(list(test_ron['text']), truncation=True, padding=True, max_length=128, return_tensors=\"pt\")\n",
    "test_dataset = CustomDataset(test_encodings, np.zeros((len(test_ron), 6))) \n",
    "test_results = trainer.predict(test_dataset)\n",
    "predicts = np.round(test_results.predictions).astype(int)"
   ]
  },
  {
   "cell_type": "code",
   "execution_count": 45,
   "metadata": {
    "execution": {
     "iopub.execute_input": "2025-01-27T16:57:25.459836Z",
     "iopub.status.busy": "2025-01-27T16:57:25.459531Z",
     "iopub.status.idle": "2025-01-27T16:57:25.475964Z",
     "shell.execute_reply": "2025-01-27T16:57:25.475111Z",
     "shell.execute_reply.started": "2025-01-27T16:57:25.459813Z"
    },
    "trusted": true
   },
   "outputs": [],
   "source": [
    "test_ron[['anger', 'disgust', 'fear', 'joy', 'sadness','surprise']] = predicts\n",
    "test_ron.to_csv('test_predictions_ron_xlm_roberta_sentiment_v1.csv', index=False)"
   ]
  },
  {
   "cell_type": "markdown",
   "metadata": {},
   "source": [
    "# BERT Base Multilingual Cased"
   ]
  },
  {
   "cell_type": "code",
   "execution_count": 9,
   "metadata": {
    "execution": {
     "iopub.execute_input": "2025-01-27T17:03:37.171762Z",
     "iopub.status.busy": "2025-01-27T17:03:37.171502Z",
     "iopub.status.idle": "2025-01-27T17:03:43.548710Z",
     "shell.execute_reply": "2025-01-27T17:03:43.547849Z",
     "shell.execute_reply.started": "2025-01-27T17:03:37.171734Z"
    },
    "trusted": true
   },
   "outputs": [
    {
     "data": {
      "application/vnd.jupyter.widget-view+json": {
       "model_id": "441d53043b5f4c669a983bc67d1e695a",
       "version_major": 2,
       "version_minor": 0
      },
      "text/plain": [
       "tokenizer_config.json:   0%|          | 0.00/49.0 [00:00<?, ?B/s]"
      ]
     },
     "metadata": {},
     "output_type": "display_data"
    },
    {
     "data": {
      "application/vnd.jupyter.widget-view+json": {
       "model_id": "0262558b4d6d4fd785938df352258ab6",
       "version_major": 2,
       "version_minor": 0
      },
      "text/plain": [
       "config.json:   0%|          | 0.00/625 [00:00<?, ?B/s]"
      ]
     },
     "metadata": {},
     "output_type": "display_data"
    },
    {
     "data": {
      "application/vnd.jupyter.widget-view+json": {
       "model_id": "7f8e033c2aec4ce7a0530f020123e432",
       "version_major": 2,
       "version_minor": 0
      },
      "text/plain": [
       "vocab.txt:   0%|          | 0.00/996k [00:00<?, ?B/s]"
      ]
     },
     "metadata": {},
     "output_type": "display_data"
    },
    {
     "data": {
      "application/vnd.jupyter.widget-view+json": {
       "model_id": "9d896a90bf0141caac028faea5c30181",
       "version_major": 2,
       "version_minor": 0
      },
      "text/plain": [
       "tokenizer.json:   0%|          | 0.00/1.96M [00:00<?, ?B/s]"
      ]
     },
     "metadata": {},
     "output_type": "display_data"
    },
    {
     "data": {
      "application/vnd.jupyter.widget-view+json": {
       "model_id": "fe65f31dbeeb4bcebdd2e89abf6d9195",
       "version_major": 2,
       "version_minor": 0
      },
      "text/plain": [
       "model.safetensors:   0%|          | 0.00/714M [00:00<?, ?B/s]"
      ]
     },
     "metadata": {},
     "output_type": "display_data"
    },
    {
     "name": "stderr",
     "output_type": "stream",
     "text": [
      "Some weights of BertForSequenceClassification were not initialized from the model checkpoint at google-bert/bert-base-multilingual-cased and are newly initialized: ['classifier.bias', 'classifier.weight']\n",
      "You should probably TRAIN this model on a down-stream task to be able to use it for predictions and inference.\n"
     ]
    }
   ],
   "source": [
    "tokenizer = AutoTokenizer.from_pretrained('google-bert/bert-base-multilingual-cased')\n",
    "model = AutoModelForSequenceClassification.from_pretrained('google-bert/bert-base-multilingual-cased',\n",
    "                                                           problem_type=\"multi_label_classification\",\n",
    "                                                           ignore_mismatched_sizes=True,\n",
    "                                                           num_labels=len(emotion_labels))"
   ]
  },
  {
   "cell_type": "code",
   "execution_count": 10,
   "metadata": {
    "execution": {
     "iopub.execute_input": "2025-01-27T17:03:43.550773Z",
     "iopub.status.busy": "2025-01-27T17:03:43.550511Z",
     "iopub.status.idle": "2025-01-27T17:03:43.607906Z",
     "shell.execute_reply": "2025-01-27T17:03:43.607213Z",
     "shell.execute_reply.started": "2025-01-27T17:03:43.550742Z"
    },
    "trusted": true
   },
   "outputs": [
    {
     "name": "stdout",
     "output_type": "stream",
     "text": [
      "trainable params: 594,438 || all params: 178,452,492 || trainable%: 0.3331\n",
      "None\n"
     ]
    }
   ],
   "source": [
    "model = get_peft_model(model, lora_config)\n",
    "print(model.print_trainable_parameters())"
   ]
  },
  {
   "cell_type": "code",
   "execution_count": 24,
   "metadata": {
    "execution": {
     "iopub.execute_input": "2025-01-27T17:05:04.869275Z",
     "iopub.status.busy": "2025-01-27T17:05:04.868974Z",
     "iopub.status.idle": "2025-01-27T17:05:05.024484Z",
     "shell.execute_reply": "2025-01-27T17:05:05.023838Z",
     "shell.execute_reply.started": "2025-01-27T17:05:04.869252Z"
    },
    "trusted": true
   },
   "outputs": [
    {
     "name": "stderr",
     "output_type": "stream",
     "text": [
      "Using the `WANDB_DISABLED` environment variable is deprecated and will be removed in v5. Use the --report_to flag to control the integrations used for logging result (for instance --report_to none).\n"
     ]
    }
   ],
   "source": [
    "training_args = TrainingArguments(\n",
    "    output_dir='./results/ron/bert-base-multi-case-v1',\n",
    "    report_to=None,\n",
    "    evaluation_strategy=\"steps\",\n",
    "    save_total_limit = 1,\n",
    "    logging_strategy=\"epoch\",\n",
    "    load_best_model_at_end=True,\n",
    "    learning_rate=1e-5,\n",
    "    per_device_train_batch_size=8,\n",
    "    per_device_eval_batch_size=8,\n",
    "    num_train_epochs=100,\n",
    "    weight_decay=0.01,\n",
    "    metric_for_best_model=\"pearson_corr\",\n",
    ")"
   ]
  },
  {
   "cell_type": "code",
   "execution_count": 25,
   "metadata": {
    "execution": {
     "iopub.execute_input": "2025-01-27T17:05:14.358419Z",
     "iopub.status.busy": "2025-01-27T17:05:14.358134Z",
     "iopub.status.idle": "2025-01-27T17:05:14.950207Z",
     "shell.execute_reply": "2025-01-27T17:05:14.949555Z",
     "shell.execute_reply.started": "2025-01-27T17:05:14.358396Z"
    },
    "trusted": true
   },
   "outputs": [],
   "source": [
    "trainer = CustomTrainer(\n",
    "    model=model,\n",
    "    args=training_args,\n",
    "    train_dataset=train_dataset,\n",
    "    eval_dataset=dev_dataset,\n",
    "    tokenizer=tokenizer,\n",
    "    compute_metrics=compute_metrics,\n",
    "    callbacks=[early_stopping_callback]\n",
    ")"
   ]
  },
  {
   "cell_type": "code",
   "execution_count": 26,
   "metadata": {
    "execution": {
     "iopub.execute_input": "2025-01-27T17:05:23.021264Z",
     "iopub.status.busy": "2025-01-27T17:05:23.020965Z",
     "iopub.status.idle": "2025-01-27T17:40:56.598439Z",
     "shell.execute_reply": "2025-01-27T17:40:56.597720Z",
     "shell.execute_reply.started": "2025-01-27T17:05:23.021241Z"
    },
    "trusted": true
   },
   "outputs": [
    {
     "data": {
      "text/html": [
       "\n",
       "    <div>\n",
       "      \n",
       "      <progress value='7800' max='7800' style='width:300px; height:20px; vertical-align: middle;'></progress>\n",
       "      [7800/7800 35:31, Epoch 100/100]\n",
       "    </div>\n",
       "    <table border=\"1\" class=\"dataframe\">\n",
       "  <thead>\n",
       " <tr style=\"text-align: left;\">\n",
       "      <th>Step</th>\n",
       "      <th>Training Loss</th>\n",
       "      <th>Validation Loss</th>\n",
       "      <th>Pearson Corr</th>\n",
       "      <th>Overall Accuracy</th>\n",
       "      <th>Precision</th>\n",
       "      <th>Recall</th>\n",
       "      <th>F1 Score</th>\n",
       "    </tr>\n",
       "  </thead>\n",
       "  <tbody>\n",
       "    <tr>\n",
       "      <td>500</td>\n",
       "      <td>0.478000</td>\n",
       "      <td>0.478626</td>\n",
       "      <td>0.478103</td>\n",
       "      <td>0.608401</td>\n",
       "      <td>0.247323</td>\n",
       "      <td>0.289247</td>\n",
       "      <td>0.260186</td>\n",
       "    </tr>\n",
       "    <tr>\n",
       "      <td>1000</td>\n",
       "      <td>0.382200</td>\n",
       "      <td>0.392852</td>\n",
       "      <td>0.587473</td>\n",
       "      <td>0.658537</td>\n",
       "      <td>0.408915</td>\n",
       "      <td>0.357125</td>\n",
       "      <td>0.358661</td>\n",
       "    </tr>\n",
       "    <tr>\n",
       "      <td>1500</td>\n",
       "      <td>0.346000</td>\n",
       "      <td>0.374358</td>\n",
       "      <td>0.613689</td>\n",
       "      <td>0.681572</td>\n",
       "      <td>0.422146</td>\n",
       "      <td>0.374337</td>\n",
       "      <td>0.377751</td>\n",
       "    </tr>\n",
       "    <tr>\n",
       "      <td>2000</td>\n",
       "      <td>0.322000</td>\n",
       "      <td>0.369398</td>\n",
       "      <td>0.620538</td>\n",
       "      <td>0.682927</td>\n",
       "      <td>0.419314</td>\n",
       "      <td>0.362338</td>\n",
       "      <td>0.366460</td>\n",
       "    </tr>\n",
       "    <tr>\n",
       "      <td>2500</td>\n",
       "      <td>0.320700</td>\n",
       "      <td>0.361152</td>\n",
       "      <td>0.633084</td>\n",
       "      <td>0.689702</td>\n",
       "      <td>0.419524</td>\n",
       "      <td>0.362870</td>\n",
       "      <td>0.370754</td>\n",
       "    </tr>\n",
       "    <tr>\n",
       "      <td>3000</td>\n",
       "      <td>0.307400</td>\n",
       "      <td>0.360505</td>\n",
       "      <td>0.634606</td>\n",
       "      <td>0.701897</td>\n",
       "      <td>0.507344</td>\n",
       "      <td>0.383361</td>\n",
       "      <td>0.403326</td>\n",
       "    </tr>\n",
       "    <tr>\n",
       "      <td>3500</td>\n",
       "      <td>0.301000</td>\n",
       "      <td>0.355928</td>\n",
       "      <td>0.641927</td>\n",
       "      <td>0.705962</td>\n",
       "      <td>0.544954</td>\n",
       "      <td>0.425491</td>\n",
       "      <td>0.454860</td>\n",
       "    </tr>\n",
       "    <tr>\n",
       "      <td>4000</td>\n",
       "      <td>0.294800</td>\n",
       "      <td>0.355763</td>\n",
       "      <td>0.641631</td>\n",
       "      <td>0.714092</td>\n",
       "      <td>0.549915</td>\n",
       "      <td>0.425896</td>\n",
       "      <td>0.455570</td>\n",
       "    </tr>\n",
       "    <tr>\n",
       "      <td>4500</td>\n",
       "      <td>0.291400</td>\n",
       "      <td>0.352300</td>\n",
       "      <td>0.645671</td>\n",
       "      <td>0.705962</td>\n",
       "      <td>0.482397</td>\n",
       "      <td>0.392346</td>\n",
       "      <td>0.409658</td>\n",
       "    </tr>\n",
       "    <tr>\n",
       "      <td>5000</td>\n",
       "      <td>0.285300</td>\n",
       "      <td>0.351683</td>\n",
       "      <td>0.647266</td>\n",
       "      <td>0.710027</td>\n",
       "      <td>0.524148</td>\n",
       "      <td>0.411503</td>\n",
       "      <td>0.437995</td>\n",
       "    </tr>\n",
       "    <tr>\n",
       "      <td>5500</td>\n",
       "      <td>0.284500</td>\n",
       "      <td>0.350473</td>\n",
       "      <td>0.649103</td>\n",
       "      <td>0.714092</td>\n",
       "      <td>0.526039</td>\n",
       "      <td>0.412009</td>\n",
       "      <td>0.440163</td>\n",
       "    </tr>\n",
       "    <tr>\n",
       "      <td>6000</td>\n",
       "      <td>0.283200</td>\n",
       "      <td>0.351428</td>\n",
       "      <td>0.647916</td>\n",
       "      <td>0.718157</td>\n",
       "      <td>0.554620</td>\n",
       "      <td>0.427935</td>\n",
       "      <td>0.461505</td>\n",
       "    </tr>\n",
       "    <tr>\n",
       "      <td>6500</td>\n",
       "      <td>0.274800</td>\n",
       "      <td>0.349309</td>\n",
       "      <td>0.651084</td>\n",
       "      <td>0.719512</td>\n",
       "      <td>0.528335</td>\n",
       "      <td>0.413921</td>\n",
       "      <td>0.442357</td>\n",
       "    </tr>\n",
       "    <tr>\n",
       "      <td>7000</td>\n",
       "      <td>0.275700</td>\n",
       "      <td>0.349669</td>\n",
       "      <td>0.650483</td>\n",
       "      <td>0.720867</td>\n",
       "      <td>0.525517</td>\n",
       "      <td>0.414399</td>\n",
       "      <td>0.442566</td>\n",
       "    </tr>\n",
       "    <tr>\n",
       "      <td>7500</td>\n",
       "      <td>0.274900</td>\n",
       "      <td>0.349799</td>\n",
       "      <td>0.650591</td>\n",
       "      <td>0.719512</td>\n",
       "      <td>0.520362</td>\n",
       "      <td>0.412225</td>\n",
       "      <td>0.440160</td>\n",
       "    </tr>\n",
       "  </tbody>\n",
       "</table><p>"
      ],
      "text/plain": [
       "<IPython.core.display.HTML object>"
      ]
     },
     "metadata": {},
     "output_type": "display_data"
    }
   ],
   "source": [
    "with mock.patch('wandb.init', return_value=Dummy()):\n",
    "    trainer.train()"
   ]
  },
  {
   "cell_type": "code",
   "execution_count": null,
   "metadata": {
    "execution": {
     "iopub.execute_input": "2025-01-27T17:42:50.595826Z",
     "iopub.status.busy": "2025-01-27T17:42:50.595436Z",
     "iopub.status.idle": "2025-01-27T17:42:50.798144Z",
     "shell.execute_reply": "2025-01-27T17:42:50.797330Z",
     "shell.execute_reply.started": "2025-01-27T17:42:50.595786Z"
    },
    "trusted": true
   },
   "outputs": [
    {
     "name": "stdout",
     "output_type": "stream",
     "text": [
      "Model and tokenizer saved to /kaggle/working/\n"
     ]
    }
   ],
   "source": [
    "output_dir = \"/kaggle/working/\" \n",
    "\n",
    "model.save_pretrained(output_dir)\n",
    "\n",
    "tokenizer.save_pretrained(output_dir)\n",
    "\n",
    "print(f\"Model and tokenizer saved to {output_dir}\")"
   ]
  },
  {
   "cell_type": "code",
   "execution_count": null,
   "metadata": {
    "execution": {
     "iopub.execute_input": "2025-01-27T17:43:04.695358Z",
     "iopub.status.busy": "2025-01-27T17:43:04.695024Z",
     "iopub.status.idle": "2025-01-27T17:43:05.659069Z",
     "shell.execute_reply": "2025-01-27T17:43:05.658271Z",
     "shell.execute_reply.started": "2025-01-27T17:43:04.695329Z"
    },
    "trusted": true
   },
   "outputs": [
    {
     "data": {
      "text/html": [],
      "text/plain": [
       "<IPython.core.display.HTML object>"
      ]
     },
     "metadata": {},
     "output_type": "display_data"
    },
    {
     "name": "stdout",
     "output_type": "stream",
     "text": [
      "Discrete predictions (0-3): [[0 0 0 0 0 0]\n",
      " [0 0 0 2 0 0]\n",
      " [0 0 0 0 0 0]\n",
      " [0 0 1 1 1 1]\n",
      " [1 1 2 0 1 1]\n",
      " [0 0 1 0 1 0]\n",
      " [0 0 0 1 0 0]\n",
      " [0 0 1 0 1 0]\n",
      " [0 0 0 2 0 0]\n",
      " [0 0 0 0 0 0]\n",
      " [0 0 1 0 0 0]\n",
      " [0 1 1 0 1 0]\n",
      " [0 0 0 0 0 0]\n",
      " [0 1 1 0 1 0]\n",
      " [0 0 0 0 0 0]\n",
      " [0 0 0 0 0 0]\n",
      " [0 0 0 2 0 0]\n",
      " [0 0 0 2 0 0]\n",
      " [0 0 0 0 0 0]\n",
      " [0 0 1 0 1 0]\n",
      " [0 1 1 0 1 0]\n",
      " [0 0 0 3 0 1]\n",
      " [0 0 1 0 1 0]\n",
      " [0 0 0 0 0 0]\n",
      " [0 0 1 0 1 0]\n",
      " [0 0 0 2 0 1]\n",
      " [0 0 0 1 0 0]\n",
      " [0 0 0 2 0 0]\n",
      " [0 1 1 0 1 0]\n",
      " [0 0 0 2 0 0]\n",
      " [0 0 0 2 0 1]\n",
      " [0 1 1 0 1 0]\n",
      " [0 0 0 0 0 0]\n",
      " [0 0 0 0 0 0]\n",
      " [0 0 0 2 0 0]\n",
      " [0 0 0 2 0 0]\n",
      " [0 0 0 2 0 0]\n",
      " [0 0 0 1 0 0]\n",
      " [0 1 1 0 1 0]\n",
      " [0 0 1 1 0 0]\n",
      " [0 0 1 0 1 0]\n",
      " [0 0 0 3 0 0]\n",
      " [0 0 0 2 0 0]\n",
      " [0 0 1 0 1 0]\n",
      " [0 0 0 1 0 0]\n",
      " [0 1 1 0 1 0]\n",
      " [0 0 0 2 0 1]\n",
      " [0 0 0 0 0 0]\n",
      " [0 0 0 2 0 0]\n",
      " [0 0 1 0 1 0]\n",
      " [0 0 0 0 0 0]\n",
      " [0 0 0 3 0 0]\n",
      " [0 0 0 2 0 0]\n",
      " [0 0 1 1 1 0]\n",
      " [0 0 0 0 0 0]\n",
      " [0 0 0 0 0 0]\n",
      " [0 0 0 2 0 0]\n",
      " [0 0 1 0 0 0]\n",
      " [0 1 1 0 1 0]\n",
      " [0 0 1 0 1 1]\n",
      " [0 0 1 0 1 0]\n",
      " [0 0 0 2 0 0]\n",
      " [0 0 0 0 0 0]\n",
      " [1 0 2 0 2 1]\n",
      " [1 1 2 0 1 1]\n",
      " [0 0 0 2 0 0]\n",
      " [0 0 2 0 2 1]\n",
      " [0 0 1 0 1 0]\n",
      " [0 0 0 2 0 0]\n",
      " [0 0 0 2 0 0]\n",
      " [0 0 1 0 1 0]\n",
      " [0 1 1 0 1 0]\n",
      " [0 0 0 3 0 0]\n",
      " [0 0 0 1 0 0]\n",
      " [0 0 0 1 0 0]\n",
      " [0 0 1 0 0 0]\n",
      " [0 0 0 2 0 0]\n",
      " [0 0 0 0 0 0]\n",
      " [0 0 0 2 0 0]\n",
      " [0 0 0 2 0 0]\n",
      " [0 0 0 1 0 0]\n",
      " [0 0 0 1 0 0]\n",
      " [0 0 1 0 1 0]\n",
      " [0 0 0 1 0 0]\n",
      " [0 1 1 0 1 0]\n",
      " [0 0 1 0 1 0]\n",
      " [0 1 1 0 1 0]\n",
      " [0 0 0 0 0 0]\n",
      " [0 0 1 0 1 0]\n",
      " [0 1 2 0 1 1]\n",
      " [0 0 0 2 0 0]\n",
      " [0 1 1 0 1 0]\n",
      " [0 0 0 0 0 0]\n",
      " [0 0 0 0 0 0]\n",
      " [0 0 0 2 0 0]\n",
      " [0 0 1 0 1 0]\n",
      " [0 0 0 0 0 0]\n",
      " [0 0 0 1 0 0]\n",
      " [0 0 0 0 0 0]\n",
      " [0 0 1 0 0 0]\n",
      " [0 0 0 0 0 0]\n",
      " [0 0 0 2 0 0]\n",
      " [0 0 0 0 0 0]\n",
      " [0 1 1 0 1 0]\n",
      " [0 0 0 3 0 0]\n",
      " [0 0 0 2 0 0]\n",
      " [0 0 0 0 0 0]\n",
      " [0 1 1 0 1 1]\n",
      " [0 0 0 3 0 0]\n",
      " [0 0 0 1 0 0]\n",
      " [0 1 1 0 1 0]\n",
      " [0 0 0 2 0 0]\n",
      " [0 0 0 0 0 0]\n",
      " [0 0 1 0 0 0]\n",
      " [0 0 1 0 1 0]\n",
      " [0 0 1 0 1 0]\n",
      " [0 1 1 0 1 0]\n",
      " [0 0 0 2 0 0]\n",
      " [0 0 0 1 0 0]\n",
      " [0 0 0 0 0 0]\n",
      " [0 1 1 0 1 0]\n",
      " [0 0 0 2 0 0]\n",
      " [0 0 0 2 0 0]]\n"
     ]
    }
   ],
   "source": [
    "predictions, labels, _ = trainer.predict(dev_dataset)  \n",
    "\n",
    "clipped_predictions = np.clip(predictions, 0, 3)\n",
    "\n",
    "discrete_predictions = np.round(clipped_predictions).astype(int)\n",
    "\n",
    "print(\"Discrete predictions (0-3):\", discrete_predictions)"
   ]
  },
  {
   "cell_type": "code",
   "execution_count": null,
   "metadata": {
    "execution": {
     "iopub.execute_input": "2025-01-27T17:43:21.323124Z",
     "iopub.status.busy": "2025-01-27T17:43:21.322817Z",
     "iopub.status.idle": "2025-01-27T17:43:21.980446Z",
     "shell.execute_reply": "2025-01-27T17:43:21.979583Z",
     "shell.execute_reply.started": "2025-01-27T17:43:21.323101Z"
    },
    "trusted": true
   },
   "outputs": [
    {
     "data": {
      "image/png": "[encoded data removed]",
      "text/plain": [
       "<Figure size 640x480 with 2 Axes>"
      ]
     },
     "metadata": {},
     "output_type": "display_data"
    }
   ],
   "source": [
    "predictions_flattened = discrete_predictions.ravel()\n",
    "labels_flattened = labels.ravel()\n",
    "\n",
    "conf_matrix = confusion_matrix(labels_flattened, predictions_flattened)\n",
    "\n",
    "disp = ConfusionMatrixDisplay(confusion_matrix=conf_matrix, display_labels=np.unique(labels_flattened))\n",
    "disp.plot(cmap=plt.cm.Blues)\n",
    "plt.title(\"Confusion Matrix\")\n",
    "plt.show()"
   ]
  },
  {
   "cell_type": "code",
   "execution_count": 30,
   "metadata": {
    "execution": {
     "iopub.execute_input": "2025-01-27T17:43:43.844166Z",
     "iopub.status.busy": "2025-01-27T17:43:43.843876Z",
     "iopub.status.idle": "2025-01-27T17:43:51.901214Z",
     "shell.execute_reply": "2025-01-27T17:43:51.900310Z",
     "shell.execute_reply.started": "2025-01-27T17:43:43.844144Z"
    },
    "trusted": true
   },
   "outputs": [
    {
     "data": {
      "text/html": [],
      "text/plain": [
       "<IPython.core.display.HTML object>"
      ]
     },
     "metadata": {},
     "output_type": "display_data"
    }
   ],
   "source": [
    "test_encodings = tokenizer(list(test_ron['text']), truncation=True, padding=True, max_length=128, return_tensors=\"pt\")\n",
    "test_dataset = CustomDataset(test_encodings, np.zeros((len(test_ron), 6)))  # Dummy labels for test\n",
    "test_results = trainer.predict(test_dataset)\n",
    "predicts = np.round(test_results.predictions).astype(int)"
   ]
  },
  {
   "cell_type": "code",
   "execution_count": 32,
   "metadata": {
    "execution": {
     "iopub.execute_input": "2025-01-27T17:44:24.960029Z",
     "iopub.status.busy": "2025-01-27T17:44:24.959726Z",
     "iopub.status.idle": "2025-01-27T17:44:24.976158Z",
     "shell.execute_reply": "2025-01-27T17:44:24.975187Z",
     "shell.execute_reply.started": "2025-01-27T17:44:24.960008Z"
    },
    "trusted": true
   },
   "outputs": [],
   "source": [
    "test_ron[['anger', 'disgust', 'fear', 'joy', 'sadness','surprise']] = predicts\n",
    "test_ron.to_csv('test_predictions_ron_bert_base_multiling_cased_v1.csv', index=False)"
   ]
  },
  {
   "cell_type": "markdown",
   "metadata": {},
   "source": [
    "# XLM RoBERTa Base"
   ]
  },
  {
   "cell_type": "code",
   "execution_count": 18,
   "metadata": {
    "execution": {
     "iopub.execute_input": "2025-01-27T18:47:26.702721Z",
     "iopub.status.busy": "2025-01-27T18:47:26.702351Z",
     "iopub.status.idle": "2025-01-27T18:47:31.159277Z",
     "shell.execute_reply": "2025-01-27T18:47:31.158499Z",
     "shell.execute_reply.started": "2025-01-27T18:47:26.702694Z"
    },
    "trusted": true
   },
   "outputs": [
    {
     "name": "stderr",
     "output_type": "stream",
     "text": [
      "Some weights of XLMRobertaForSequenceClassification were not initialized from the model checkpoint at FacebookAI/xlm-roberta-base and are newly initialized: ['classifier.dense.bias', 'classifier.dense.weight', 'classifier.out_proj.bias', 'classifier.out_proj.weight']\n",
      "You should probably TRAIN this model on a down-stream task to be able to use it for predictions and inference.\n"
     ]
    }
   ],
   "source": [
    "tokenizer = AutoTokenizer.from_pretrained('FacebookAI/xlm-roberta-base')\n",
    "model = AutoModelForSequenceClassification.from_pretrained('FacebookAI/xlm-roberta-base',\n",
    "                                                           problem_type=\"multi_label_classification\",\n",
    "                                                           ignore_mismatched_sizes=True,\n",
    "                                                           num_labels=len(emotion_labels))"
   ]
  },
  {
   "cell_type": "code",
   "execution_count": 19,
   "metadata": {
    "execution": {
     "iopub.execute_input": "2025-01-27T18:47:31.160977Z",
     "iopub.status.busy": "2025-01-27T18:47:31.160644Z",
     "iopub.status.idle": "2025-01-27T18:47:31.208491Z",
     "shell.execute_reply": "2025-01-27T18:47:31.207665Z",
     "shell.execute_reply.started": "2025-01-27T18:47:31.160939Z"
    },
    "trusted": true
   },
   "outputs": [
    {
     "name": "stdout",
     "output_type": "stream",
     "text": [
      "trainable params: 1,185,030 || all params: 279,233,292 || trainable%: 0.4244\n",
      "None\n"
     ]
    }
   ],
   "source": [
    "model = get_peft_model(model, lora_config)\n",
    "print(model.print_trainable_parameters())"
   ]
  },
  {
   "cell_type": "code",
   "execution_count": 33,
   "metadata": {
    "execution": {
     "iopub.execute_input": "2025-01-27T18:48:39.607846Z",
     "iopub.status.busy": "2025-01-27T18:48:39.607497Z",
     "iopub.status.idle": "2025-01-27T18:48:39.769227Z",
     "shell.execute_reply": "2025-01-27T18:48:39.768614Z",
     "shell.execute_reply.started": "2025-01-27T18:48:39.607814Z"
    },
    "trusted": true
   },
   "outputs": [
    {
     "name": "stderr",
     "output_type": "stream",
     "text": [
      "Using the `WANDB_DISABLED` environment variable is deprecated and will be removed in v5. Use the --report_to flag to control the integrations used for logging result (for instance --report_to none).\n"
     ]
    }
   ],
   "source": [
    "training_args = TrainingArguments(\n",
    "    output_dir='./results/ron/xlm-roberta-base-v1',\n",
    "    report_to=None,\n",
    "    evaluation_strategy=\"steps\",\n",
    "    save_total_limit = 1,\n",
    "    logging_strategy=\"epoch\",\n",
    "    load_best_model_at_end=True,\n",
    "    learning_rate=1e-5,\n",
    "    per_device_train_batch_size=8,\n",
    "    per_device_eval_batch_size=8,\n",
    "    num_train_epochs=100,\n",
    "    weight_decay=0.01,\n",
    "    metric_for_best_model=\"pearson_corr\",\n",
    ")"
   ]
  },
  {
   "cell_type": "code",
   "execution_count": 34,
   "metadata": {
    "execution": {
     "iopub.execute_input": "2025-01-27T18:48:56.421743Z",
     "iopub.status.busy": "2025-01-27T18:48:56.421399Z",
     "iopub.status.idle": "2025-01-27T18:48:57.188882Z",
     "shell.execute_reply": "2025-01-27T18:48:57.188192Z",
     "shell.execute_reply.started": "2025-01-27T18:48:56.421716Z"
    },
    "trusted": true
   },
   "outputs": [],
   "source": [
    "trainer = CustomTrainer(\n",
    "    model=model,\n",
    "    args=training_args,\n",
    "    train_dataset=train_dataset,\n",
    "    eval_dataset=dev_dataset,\n",
    "    tokenizer=tokenizer,\n",
    "    compute_metrics=compute_metrics,\n",
    "    callbacks=[early_stopping_callback]\n",
    ")"
   ]
  },
  {
   "cell_type": "code",
   "execution_count": 35,
   "metadata": {
    "execution": {
     "iopub.execute_input": "2025-01-27T18:49:05.992969Z",
     "iopub.status.busy": "2025-01-27T18:49:05.992675Z",
     "iopub.status.idle": "2025-01-27T19:32:38.524436Z",
     "shell.execute_reply": "2025-01-27T19:32:38.523630Z",
     "shell.execute_reply.started": "2025-01-27T18:49:05.992946Z"
    },
    "trusted": true
   },
   "outputs": [
    {
     "data": {
      "text/html": [
       "\n",
       "    <div>\n",
       "      \n",
       "      <progress value='7800' max='7800' style='width:300px; height:20px; vertical-align: middle;'></progress>\n",
       "      [7800/7800 43:30, Epoch 100/100]\n",
       "    </div>\n",
       "    <table border=\"1\" class=\"dataframe\">\n",
       "  <thead>\n",
       " <tr style=\"text-align: left;\">\n",
       "      <th>Step</th>\n",
       "      <th>Training Loss</th>\n",
       "      <th>Validation Loss</th>\n",
       "      <th>Pearson Corr</th>\n",
       "      <th>Overall Accuracy</th>\n",
       "      <th>Precision</th>\n",
       "      <th>Recall</th>\n",
       "      <th>F1 Score</th>\n",
       "    </tr>\n",
       "  </thead>\n",
       "  <tbody>\n",
       "    <tr>\n",
       "      <td>500</td>\n",
       "      <td>0.433500</td>\n",
       "      <td>0.383290</td>\n",
       "      <td>0.609391</td>\n",
       "      <td>0.674797</td>\n",
       "      <td>0.433816</td>\n",
       "      <td>0.361004</td>\n",
       "      <td>0.369039</td>\n",
       "    </tr>\n",
       "    <tr>\n",
       "      <td>1000</td>\n",
       "      <td>0.302700</td>\n",
       "      <td>0.312443</td>\n",
       "      <td>0.697305</td>\n",
       "      <td>0.703252</td>\n",
       "      <td>0.517409</td>\n",
       "      <td>0.457844</td>\n",
       "      <td>0.460838</td>\n",
       "    </tr>\n",
       "    <tr>\n",
       "      <td>1500</td>\n",
       "      <td>0.279300</td>\n",
       "      <td>0.294733</td>\n",
       "      <td>0.721198</td>\n",
       "      <td>0.710027</td>\n",
       "      <td>0.525744</td>\n",
       "      <td>0.493506</td>\n",
       "      <td>0.492634</td>\n",
       "    </tr>\n",
       "    <tr>\n",
       "      <td>2000</td>\n",
       "      <td>0.259600</td>\n",
       "      <td>0.277583</td>\n",
       "      <td>0.740328</td>\n",
       "      <td>0.743902</td>\n",
       "      <td>0.563069</td>\n",
       "      <td>0.529035</td>\n",
       "      <td>0.530424</td>\n",
       "    </tr>\n",
       "    <tr>\n",
       "      <td>2500</td>\n",
       "      <td>0.246600</td>\n",
       "      <td>0.267467</td>\n",
       "      <td>0.750893</td>\n",
       "      <td>0.754743</td>\n",
       "      <td>0.581197</td>\n",
       "      <td>0.548119</td>\n",
       "      <td>0.549817</td>\n",
       "    </tr>\n",
       "    <tr>\n",
       "      <td>3000</td>\n",
       "      <td>0.240300</td>\n",
       "      <td>0.252270</td>\n",
       "      <td>0.766657</td>\n",
       "      <td>0.758808</td>\n",
       "      <td>0.596035</td>\n",
       "      <td>0.565422</td>\n",
       "      <td>0.566578</td>\n",
       "    </tr>\n",
       "    <tr>\n",
       "      <td>3500</td>\n",
       "      <td>0.226700</td>\n",
       "      <td>0.249923</td>\n",
       "      <td>0.768331</td>\n",
       "      <td>0.762873</td>\n",
       "      <td>0.601105</td>\n",
       "      <td>0.578118</td>\n",
       "      <td>0.575253</td>\n",
       "    </tr>\n",
       "    <tr>\n",
       "      <td>4000</td>\n",
       "      <td>0.226400</td>\n",
       "      <td>0.251595</td>\n",
       "      <td>0.770407</td>\n",
       "      <td>0.762873</td>\n",
       "      <td>0.591079</td>\n",
       "      <td>0.607265</td>\n",
       "      <td>0.570921</td>\n",
       "    </tr>\n",
       "    <tr>\n",
       "      <td>4500</td>\n",
       "      <td>0.221500</td>\n",
       "      <td>0.248349</td>\n",
       "      <td>0.773269</td>\n",
       "      <td>0.762873</td>\n",
       "      <td>0.584826</td>\n",
       "      <td>0.582439</td>\n",
       "      <td>0.563814</td>\n",
       "    </tr>\n",
       "    <tr>\n",
       "      <td>5000</td>\n",
       "      <td>0.221500</td>\n",
       "      <td>0.247699</td>\n",
       "      <td>0.773003</td>\n",
       "      <td>0.765583</td>\n",
       "      <td>0.597934</td>\n",
       "      <td>0.583233</td>\n",
       "      <td>0.574971</td>\n",
       "    </tr>\n",
       "    <tr>\n",
       "      <td>5500</td>\n",
       "      <td>0.222400</td>\n",
       "      <td>0.246303</td>\n",
       "      <td>0.775525</td>\n",
       "      <td>0.769648</td>\n",
       "      <td>0.618776</td>\n",
       "      <td>0.621204</td>\n",
       "      <td>0.599908</td>\n",
       "    </tr>\n",
       "    <tr>\n",
       "      <td>6000</td>\n",
       "      <td>0.207400</td>\n",
       "      <td>0.244295</td>\n",
       "      <td>0.776382</td>\n",
       "      <td>0.768293</td>\n",
       "      <td>0.602198</td>\n",
       "      <td>0.582780</td>\n",
       "      <td>0.583628</td>\n",
       "    </tr>\n",
       "    <tr>\n",
       "      <td>6500</td>\n",
       "      <td>0.206300</td>\n",
       "      <td>0.243782</td>\n",
       "      <td>0.777256</td>\n",
       "      <td>0.776423</td>\n",
       "      <td>0.636441</td>\n",
       "      <td>0.610922</td>\n",
       "      <td>0.615352</td>\n",
       "    </tr>\n",
       "    <tr>\n",
       "      <td>7000</td>\n",
       "      <td>0.209800</td>\n",
       "      <td>0.245039</td>\n",
       "      <td>0.777502</td>\n",
       "      <td>0.773713</td>\n",
       "      <td>0.608753</td>\n",
       "      <td>0.615534</td>\n",
       "      <td>0.597434</td>\n",
       "    </tr>\n",
       "    <tr>\n",
       "      <td>7500</td>\n",
       "      <td>0.209000</td>\n",
       "      <td>0.244011</td>\n",
       "      <td>0.778535</td>\n",
       "      <td>0.775068</td>\n",
       "      <td>0.614113</td>\n",
       "      <td>0.616780</td>\n",
       "      <td>0.602319</td>\n",
       "    </tr>\n",
       "  </tbody>\n",
       "</table><p>"
      ],
      "text/plain": [
       "<IPython.core.display.HTML object>"
      ]
     },
     "metadata": {},
     "output_type": "display_data"
    }
   ],
   "source": [
    "with mock.patch('wandb.init', return_value=Dummy()):\n",
    "\n",
    "\n",
    "    \n",
    "    trainer.train()"
   ]
  },
  {
   "cell_type": "code",
   "execution_count": null,
   "metadata": {
    "execution": {
     "iopub.execute_input": "2025-01-27T19:34:10.547204Z",
     "iopub.status.busy": "2025-01-27T19:34:10.546848Z",
     "iopub.status.idle": "2025-01-27T19:34:10.722831Z",
     "shell.execute_reply": "2025-01-27T19:34:10.721942Z",
     "shell.execute_reply.started": "2025-01-27T19:34:10.547174Z"
    },
    "trusted": true
   },
   "outputs": [
    {
     "name": "stdout",
     "output_type": "stream",
     "text": [
      "Model and tokenizer saved to /kaggle/working/\n"
     ]
    }
   ],
   "source": [
    "output_dir = \"/kaggle/working/\" \n",
    "\n",
    "model.save_pretrained(output_dir)\n",
    "\n",
    "tokenizer.save_pretrained(output_dir)\n",
    "\n",
    "print(f\"Model and tokenizer saved to {output_dir}\")"
   ]
  },
  {
   "cell_type": "code",
   "execution_count": null,
   "metadata": {
    "execution": {
     "iopub.execute_input": "2025-01-27T19:34:39.946413Z",
     "iopub.status.busy": "2025-01-27T19:34:39.946058Z",
     "iopub.status.idle": "2025-01-27T19:34:41.148340Z",
     "shell.execute_reply": "2025-01-27T19:34:41.147613Z",
     "shell.execute_reply.started": "2025-01-27T19:34:39.946381Z"
    },
    "trusted": true
   },
   "outputs": [
    {
     "data": {
      "text/html": [],
      "text/plain": [
       "<IPython.core.display.HTML object>"
      ]
     },
     "metadata": {},
     "output_type": "display_data"
    },
    {
     "name": "stdout",
     "output_type": "stream",
     "text": [
      "Discrete predictions (0-3): [[0 1 0 0 0 1]\n",
      " [0 0 0 2 0 0]\n",
      " [0 0 0 0 0 0]\n",
      " [0 1 1 0 1 1]\n",
      " [1 0 2 0 2 0]\n",
      " [0 0 2 0 0 0]\n",
      " [0 0 0 1 0 1]\n",
      " [0 0 1 0 1 0]\n",
      " [0 0 0 2 0 0]\n",
      " [0 0 1 0 0 0]\n",
      " [0 0 0 1 0 0]\n",
      " [1 1 0 0 1 0]\n",
      " [0 0 0 0 0 0]\n",
      " [0 1 1 0 1 1]\n",
      " [0 0 1 0 0 0]\n",
      " [1 1 1 0 1 0]\n",
      " [0 0 0 2 0 1]\n",
      " [0 0 0 3 0 0]\n",
      " [1 1 1 0 1 0]\n",
      " [0 1 0 0 1 1]\n",
      " [0 0 0 0 0 1]\n",
      " [0 0 0 3 0 0]\n",
      " [0 0 1 0 1 0]\n",
      " [0 0 1 0 1 0]\n",
      " [0 0 2 0 0 0]\n",
      " [0 0 0 3 0 0]\n",
      " [0 0 0 2 0 1]\n",
      " [0 0 0 2 0 0]\n",
      " [0 0 1 0 1 0]\n",
      " [0 0 0 2 0 1]\n",
      " [0 0 0 3 0 1]\n",
      " [1 1 2 0 1 0]\n",
      " [0 0 0 0 0 0]\n",
      " [0 0 1 0 0 0]\n",
      " [0 0 0 3 0 1]\n",
      " [0 0 0 2 0 0]\n",
      " [0 0 0 3 0 0]\n",
      " [1 1 1 0 1 0]\n",
      " [0 0 2 0 1 1]\n",
      " [0 0 2 0 1 0]\n",
      " [0 0 2 0 1 0]\n",
      " [0 0 0 2 0 0]\n",
      " [0 0 0 2 0 0]\n",
      " [0 0 2 0 1 1]\n",
      " [0 0 0 3 0 0]\n",
      " [1 1 2 0 1 0]\n",
      " [0 0 0 2 0 0]\n",
      " [0 0 0 2 0 0]\n",
      " [0 0 0 2 0 1]\n",
      " [0 0 1 0 1 0]\n",
      " [0 0 0 1 0 0]\n",
      " [0 0 0 2 0 0]\n",
      " [0 0 0 3 0 0]\n",
      " [0 0 0 3 0 1]\n",
      " [0 0 2 0 1 1]\n",
      " [0 0 1 0 0 0]\n",
      " [1 2 0 0 1 0]\n",
      " [0 0 0 0 0 0]\n",
      " [1 1 0 0 1 0]\n",
      " [0 0 2 0 2 1]\n",
      " [1 1 0 0 1 0]\n",
      " [0 0 0 2 0 1]\n",
      " [0 0 0 1 0 0]\n",
      " [0 0 2 0 2 1]\n",
      " [1 1 2 0 2 0]\n",
      " [0 0 0 2 0 0]\n",
      " [0 0 1 0 2 1]\n",
      " [0 0 1 0 1 0]\n",
      " [0 0 0 3 0 1]\n",
      " [0 0 0 1 1 0]\n",
      " [0 0 2 0 0 1]\n",
      " [1 1 1 0 1 0]\n",
      " [0 0 0 3 0 1]\n",
      " [0 0 0 3 0 1]\n",
      " [0 0 1 0 0 0]\n",
      " [0 0 2 0 1 1]\n",
      " [0 0 0 2 0 0]\n",
      " [0 0 0 0 0 0]\n",
      " [0 0 0 3 0 0]\n",
      " [0 0 0 3 0 1]\n",
      " [0 0 0 0 0 1]\n",
      " [0 0 0 2 0 1]\n",
      " [0 0 2 0 1 0]\n",
      " [0 1 1 0 1 0]\n",
      " [1 1 1 0 1 0]\n",
      " [0 0 2 0 1 0]\n",
      " [0 1 1 0 2 1]\n",
      " [0 1 0 0 1 0]\n",
      " [0 0 1 0 1 1]\n",
      " [0 0 2 0 2 0]\n",
      " [0 0 0 3 0 1]\n",
      " [0 0 1 0 1 1]\n",
      " [1 1 0 0 0 0]\n",
      " [0 0 1 0 0 0]\n",
      " [0 0 0 3 0 1]\n",
      " [1 1 0 0 1 1]\n",
      " [0 0 0 1 0 0]\n",
      " [0 0 0 2 0 0]\n",
      " [0 0 1 0 0 0]\n",
      " [0 0 1 0 0 0]\n",
      " [0 0 0 0 0 0]\n",
      " [0 0 0 3 0 0]\n",
      " [0 0 0 0 0 0]\n",
      " [0 0 1 0 1 0]\n",
      " [0 0 0 3 0 0]\n",
      " [0 0 0 2 0 0]\n",
      " [0 0 1 0 0 0]\n",
      " [2 2 1 0 2 0]\n",
      " [0 0 0 3 0 1]\n",
      " [0 0 1 0 0 0]\n",
      " [0 0 2 0 1 1]\n",
      " [0 0 0 2 0 1]\n",
      " [1 2 0 0 1 0]\n",
      " [1 1 1 0 1 0]\n",
      " [0 0 2 0 1 0]\n",
      " [0 0 1 0 2 1]\n",
      " [0 0 1 0 1 0]\n",
      " [0 0 0 3 0 1]\n",
      " [0 0 0 2 0 0]\n",
      " [0 1 0 0 0 1]\n",
      " [1 1 1 0 1 0]\n",
      " [0 0 0 2 0 0]\n",
      " [0 0 1 0 0 0]]\n"
     ]
    }
   ],
   "source": [
    "predictions, labels, _ = trainer.predict(dev_dataset) \n",
    "\n",
    "clipped_predictions = np.clip(predictions, 0, 3)\n",
    "\n",
    "discrete_predictions = np.round(clipped_predictions).astype(int)\n",
    "\n",
    "print(\"Discrete predictions (0-3):\", discrete_predictions)"
   ]
  },
  {
   "cell_type": "code",
   "execution_count": null,
   "metadata": {
    "execution": {
     "iopub.execute_input": "2025-01-27T19:35:02.787776Z",
     "iopub.status.busy": "2025-01-27T19:35:02.787443Z",
     "iopub.status.idle": "2025-01-27T19:35:03.109680Z",
     "shell.execute_reply": "2025-01-27T19:35:03.108881Z",
     "shell.execute_reply.started": "2025-01-27T19:35:02.787752Z"
    },
    "trusted": true
   },
   "outputs": [
    {
     "data": {
      "image/png": "[encoded data removed]",
      "text/plain": [
       "<Figure size 640x480 with 2 Axes>"
      ]
     },
     "metadata": {},
     "output_type": "display_data"
    }
   ],
   "source": [
    "predictions_flattened = discrete_predictions.ravel()\n",
    "labels_flattened = labels.ravel()\n",
    "\n",
    "conf_matrix = confusion_matrix(labels_flattened, predictions_flattened)\n",
    "\n",
    "disp = ConfusionMatrixDisplay(confusion_matrix=conf_matrix, display_labels=np.unique(labels_flattened))\n",
    "disp.plot(cmap=plt.cm.Blues)\n",
    "plt.title(\"Confusion Matrix\")\n",
    "plt.show()"
   ]
  },
  {
   "cell_type": "code",
   "execution_count": null,
   "metadata": {
    "execution": {
     "iopub.execute_input": "2025-01-27T19:35:55.752901Z",
     "iopub.status.busy": "2025-01-27T19:35:55.752571Z",
     "iopub.status.idle": "2025-01-27T19:36:06.003626Z",
     "shell.execute_reply": "2025-01-27T19:36:06.002910Z",
     "shell.execute_reply.started": "2025-01-27T19:35:55.752872Z"
    },
    "trusted": true
   },
   "outputs": [
    {
     "data": {
      "text/html": [],
      "text/plain": [
       "<IPython.core.display.HTML object>"
      ]
     },
     "metadata": {},
     "output_type": "display_data"
    }
   ],
   "source": [
    "test_encodings = tokenizer(list(test_ron['text']), truncation=True, padding=True, max_length=128, return_tensors=\"pt\")\n",
    "test_dataset = CustomDataset(test_encodings, np.zeros((len(test_ron), 6)))  \n",
    "test_results = trainer.predict(test_dataset)\n",
    "predicts=np.round(test_results.predictions).astype(int)"
   ]
  },
  {
   "cell_type": "code",
   "execution_count": 40,
   "metadata": {
    "execution": {
     "iopub.execute_input": "2025-01-27T19:36:32.492104Z",
     "iopub.status.busy": "2025-01-27T19:36:32.491787Z",
     "iopub.status.idle": "2025-01-27T19:36:32.508946Z",
     "shell.execute_reply": "2025-01-27T19:36:32.508076Z",
     "shell.execute_reply.started": "2025-01-27T19:36:32.492076Z"
    },
    "trusted": true
   },
   "outputs": [],
   "source": [
    "test_ron[['anger', 'disgust', 'fear', 'joy', 'sadness','surprise']] = predicts\n",
    "test_ron.to_csv('test_predictions_ron_xlmroberta_base_v1.csv', index=False)"
   ]
  }
 ],
 "metadata": {
  "kaggle": {
   "accelerator": "nvidiaTeslaT4",
   "dataSources": [
    {
     "datasetId": 6347818,
     "sourceId": 10498281,
     "sourceType": "datasetVersion"
    }
   ],
   "dockerImageVersionId": 30840,
   "isGpuEnabled": true,
   "isInternetEnabled": true,
   "language": "python",
   "sourceType": "notebook"
  },
  "kernelspec": {
   "display_name": "Python 3",
   "language": "python",
   "name": "python3"
  },
  "language_info": {
   "codemirror_mode": {
    "name": "ipython",
    "version": 3
   },
   "file_extension": ".py",
   "mimetype": "text/x-python",
   "name": "python",
   "nbconvert_exporter": "python",
   "pygments_lexer": "ipython3",
   "version": "3.10.12"
  }
 },
 "nbformat": 4,
 "nbformat_minor": 4
}
