{
 "cells": [
  {
   "cell_type": "code",
   "execution_count": 1,
   "metadata": {
    "_cell_guid": "b1076dfc-b9ad-4769-8c92-a6c4dae69d19",
    "_uuid": "8f2839f25d086af736a60e9eeb907d3b93b6e0e5",
    "execution": {
     "iopub.execute_input": "2025-01-29T04:01:27.452781Z",
     "iopub.status.busy": "2025-01-29T04:01:27.452541Z",
     "iopub.status.idle": "2025-01-29T04:01:28.560392Z",
     "shell.execute_reply": "2025-01-29T04:01:28.559335Z",
     "shell.execute_reply.started": "2025-01-29T04:01:27.452758Z"
    },
    "trusted": true
   },
   "outputs": [],
   "source": [
    "import numpy as np # linear algebra\n",
    "import pandas as pd # data processing, CSV file I/O (e.g. pd.read_csv)"
   ]
  },
  {
   "cell_type": "markdown",
   "metadata": {},
   "source": [
    "# Install Libraries and Modules"
   ]
  },
  {
   "cell_type": "code",
   "execution_count": 2,
   "metadata": {
    "execution": {
     "iopub.execute_input": "2025-01-29T04:01:28.562379Z",
     "iopub.status.busy": "2025-01-29T04:01:28.561808Z",
     "iopub.status.idle": "2025-01-29T04:01:28.566513Z",
     "shell.execute_reply": "2025-01-29T04:01:28.565690Z",
     "shell.execute_reply.started": "2025-01-29T04:01:28.562342Z"
    },
    "trusted": true
   },
   "outputs": [],
   "source": [
    "import warnings\n",
    "warnings.filterwarnings('ignore') "
   ]
  },
  {
   "cell_type": "code",
   "execution_count": 3,
   "metadata": {
    "execution": {
     "iopub.execute_input": "2025-01-29T04:01:28.568541Z",
     "iopub.status.busy": "2025-01-29T04:01:28.568271Z",
     "iopub.status.idle": "2025-01-29T04:01:46.594006Z",
     "shell.execute_reply": "2025-01-29T04:01:46.593020Z",
     "shell.execute_reply.started": "2025-01-29T04:01:28.568519Z"
    },
    "trusted": true
   },
   "outputs": [
    {
     "name": "stdout",
     "output_type": "stream",
     "text": [
      "Found existing installation: wandb 0.19.1\n",
      "Uninstalling wandb-0.19.1:\n",
      "  Successfully uninstalled wandb-0.19.1\n"
     ]
    }
   ],
   "source": [
    "!pip uninstall -y wandb"
   ]
  },
  {
   "cell_type": "code",
   "execution_count": 4,
   "metadata": {
    "execution": {
     "iopub.execute_input": "2025-01-29T04:01:46.595967Z",
     "iopub.status.busy": "2025-01-29T04:01:46.595591Z",
     "iopub.status.idle": "2025-01-29T04:01:53.942034Z",
     "shell.execute_reply": "2025-01-29T04:01:53.941096Z",
     "shell.execute_reply.started": "2025-01-29T04:01:46.595938Z"
    },
    "trusted": true
   },
   "outputs": [
    {
     "name": "stdout",
     "output_type": "stream",
     "text": [
      "Collecting wandb==0.17.5\n",
      "  Downloading wandb-0.17.5-py3-none-manylinux_2_5_x86_64.manylinux1_x86_64.manylinux_2_17_x86_64.manylinux2014_x86_64.whl.metadata (10 kB)\n",
      "Requirement already satisfied: click!=8.0.0,>=7.1 in /usr/local/lib/python3.10/dist-packages (from wandb==0.17.5) (8.1.7)\n",
      "Requirement already satisfied: docker-pycreds>=0.4.0 in /usr/local/lib/python3.10/dist-packages (from wandb==0.17.5) (0.4.0)\n",
      "Requirement already satisfied: gitpython!=3.1.29,>=1.0.0 in /usr/local/lib/python3.10/dist-packages (from wandb==0.17.5) (3.1.43)\n",
      "Requirement already satisfied: platformdirs in /usr/local/lib/python3.10/dist-packages (from wandb==0.17.5) (4.3.6)\n",
      "Requirement already satisfied: protobuf!=4.21.0,<6,>=3.19.0 in /usr/local/lib/python3.10/dist-packages (from wandb==0.17.5) (3.20.3)\n",
      "Requirement already satisfied: psutil>=5.0.0 in /usr/local/lib/python3.10/dist-packages (from wandb==0.17.5) (5.9.5)\n",
      "Requirement already satisfied: pyyaml in /usr/local/lib/python3.10/dist-packages (from wandb==0.17.5) (6.0.2)\n",
      "Requirement already satisfied: requests<3,>=2.0.0 in /usr/local/lib/python3.10/dist-packages (from wandb==0.17.5) (2.32.3)\n",
      "Requirement already satisfied: sentry-sdk>=1.0.0 in /usr/local/lib/python3.10/dist-packages (from wandb==0.17.5) (2.19.2)\n",
      "Requirement already satisfied: setproctitle in /usr/local/lib/python3.10/dist-packages (from wandb==0.17.5) (1.3.4)\n",
      "Requirement already satisfied: setuptools in /usr/local/lib/python3.10/dist-packages (from wandb==0.17.5) (75.1.0)\n",
      "Requirement already satisfied: six>=1.4.0 in /usr/local/lib/python3.10/dist-packages (from docker-pycreds>=0.4.0->wandb==0.17.5) (1.17.0)\n",
      "Requirement already satisfied: gitdb<5,>=4.0.1 in /usr/local/lib/python3.10/dist-packages (from gitpython!=3.1.29,>=1.0.0->wandb==0.17.5) (4.0.11)\n",
      "Requirement already satisfied: charset-normalizer<4,>=2 in /usr/local/lib/python3.10/dist-packages (from requests<3,>=2.0.0->wandb==0.17.5) (3.4.0)\n",
      "Requirement already satisfied: idna<4,>=2.5 in /usr/local/lib/python3.10/dist-packages (from requests<3,>=2.0.0->wandb==0.17.5) (3.10)\n",
      "Requirement already satisfied: urllib3<3,>=1.21.1 in /usr/local/lib/python3.10/dist-packages (from requests<3,>=2.0.0->wandb==0.17.5) (2.2.3)\n",
      "Requirement already satisfied: certifi>=2017.4.17 in /usr/local/lib/python3.10/dist-packages (from requests<3,>=2.0.0->wandb==0.17.5) (2024.12.14)\n",
      "Requirement already satisfied: smmap<6,>=3.0.1 in /usr/local/lib/python3.10/dist-packages (from gitdb<5,>=4.0.1->gitpython!=3.1.29,>=1.0.0->wandb==0.17.5) (5.0.1)\n",
      "Downloading wandb-0.17.5-py3-none-manylinux_2_5_x86_64.manylinux1_x86_64.manylinux_2_17_x86_64.manylinux2014_x86_64.whl (6.8 MB)\n",
      "\u001b[2K   \u001b[90m━━━━━━━━━━━━━━━━━━━━━━━━━━━━━━━━━━━━━━━━\u001b[0m \u001b[32m6.8/6.8 MB\u001b[0m \u001b[31m52.7 MB/s\u001b[0m eta \u001b[36m0:00:00\u001b[0m00:01\u001b[0m00:01\u001b[0m\n",
      "\u001b[?25hInstalling collected packages: wandb\n",
      "Successfully installed wandb-0.17.5\n"
     ]
    }
   ],
   "source": [
    "!pip install wandb==0.17.5 "
   ]
  },
  {
   "cell_type": "code",
   "execution_count": 5,
   "metadata": {
    "execution": {
     "iopub.execute_input": "2025-01-29T04:01:53.943462Z",
     "iopub.status.busy": "2025-01-29T04:01:53.943168Z",
     "iopub.status.idle": "2025-01-29T04:01:55.031017Z",
     "shell.execute_reply": "2025-01-29T04:01:55.030305Z",
     "shell.execute_reply.started": "2025-01-29T04:01:53.943435Z"
    },
    "trusted": true
   },
   "outputs": [],
   "source": [
    "import wandb"
   ]
  },
  {
   "cell_type": "code",
   "execution_count": 6,
   "metadata": {
    "execution": {
     "iopub.execute_input": "2025-01-29T04:01:55.032169Z",
     "iopub.status.busy": "2025-01-29T04:01:55.031910Z",
     "iopub.status.idle": "2025-01-29T04:01:57.273461Z",
     "shell.execute_reply": "2025-01-29T04:01:57.272370Z",
     "shell.execute_reply.started": "2025-01-29T04:01:55.032145Z"
    },
    "trusted": true
   },
   "outputs": [
    {
     "name": "stdout",
     "output_type": "stream",
     "text": [
      "W&B offline. Running your script from this directory will only write metadata locally. Use wandb disabled to completely turn off W&B.\n",
      "W&B disabled.\n"
     ]
    }
   ],
   "source": [
    "!wandb offline\n",
    "!wandb disabled"
   ]
  },
  {
   "cell_type": "code",
   "execution_count": 7,
   "metadata": {
    "execution": {
     "iopub.execute_input": "2025-01-29T04:01:57.274977Z",
     "iopub.status.busy": "2025-01-29T04:01:57.274640Z",
     "iopub.status.idle": "2025-01-29T04:01:57.279853Z",
     "shell.execute_reply": "2025-01-29T04:01:57.278984Z",
     "shell.execute_reply.started": "2025-01-29T04:01:57.274935Z"
    },
    "trusted": true
   },
   "outputs": [],
   "source": [
    "import os\n",
    "os.environ[\"WANDB_DISABLED\"] = \"true\""
   ]
  },
  {
   "cell_type": "code",
   "execution_count": 8,
   "metadata": {
    "execution": {
     "iopub.execute_input": "2025-01-29T04:01:57.283028Z",
     "iopub.status.busy": "2025-01-29T04:01:57.282727Z",
     "iopub.status.idle": "2025-01-29T04:02:01.861450Z",
     "shell.execute_reply": "2025-01-29T04:02:01.860414Z",
     "shell.execute_reply.started": "2025-01-29T04:01:57.283004Z"
    },
    "trusted": true
   },
   "outputs": [
    {
     "name": "stdout",
     "output_type": "stream",
     "text": [
      "Requirement already satisfied: datasets in /usr/local/lib/python3.10/dist-packages (3.2.0)\n",
      "Requirement already satisfied: transformers in /usr/local/lib/python3.10/dist-packages (4.47.0)\n",
      "Collecting evaluate\n",
      "  Downloading evaluate-0.4.3-py3-none-any.whl.metadata (9.2 kB)\n",
      "Requirement already satisfied: sentencepiece in /usr/local/lib/python3.10/dist-packages (0.2.0)\n",
      "Requirement already satisfied: accelerate in /usr/local/lib/python3.10/dist-packages (1.2.1)\n",
      "Requirement already satisfied: filelock in /usr/local/lib/python3.10/dist-packages (from datasets) (3.16.1)\n",
      "Requirement already satisfied: numpy>=1.17 in /usr/local/lib/python3.10/dist-packages (from datasets) (1.26.4)\n",
      "Requirement already satisfied: pyarrow>=15.0.0 in /usr/local/lib/python3.10/dist-packages (from datasets) (17.0.0)\n",
      "Requirement already satisfied: dill<0.3.9,>=0.3.0 in /usr/local/lib/python3.10/dist-packages (from datasets) (0.3.8)\n",
      "Requirement already satisfied: pandas in /usr/local/lib/python3.10/dist-packages (from datasets) (2.2.2)\n",
      "Requirement already satisfied: requests>=2.32.2 in /usr/local/lib/python3.10/dist-packages (from datasets) (2.32.3)\n",
      "Requirement already satisfied: tqdm>=4.66.3 in /usr/local/lib/python3.10/dist-packages (from datasets) (4.67.1)\n",
      "Requirement already satisfied: xxhash in /usr/local/lib/python3.10/dist-packages (from datasets) (3.5.0)\n",
      "Requirement already satisfied: multiprocess<0.70.17 in /usr/local/lib/python3.10/dist-packages (from datasets) (0.70.16)\n",
      "Requirement already satisfied: fsspec<=2024.9.0,>=2023.1.0 in /usr/local/lib/python3.10/dist-packages (from fsspec[http]<=2024.9.0,>=2023.1.0->datasets) (2024.9.0)\n",
      "Requirement already satisfied: aiohttp in /usr/local/lib/python3.10/dist-packages (from datasets) (3.11.10)\n",
      "Requirement already satisfied: huggingface-hub>=0.23.0 in /usr/local/lib/python3.10/dist-packages (from datasets) (0.27.0)\n",
      "Requirement already satisfied: packaging in /usr/local/lib/python3.10/dist-packages (from datasets) (24.2)\n",
      "Requirement already satisfied: pyyaml>=5.1 in /usr/local/lib/python3.10/dist-packages (from datasets) (6.0.2)\n",
      "Requirement already satisfied: regex!=2019.12.17 in /usr/local/lib/python3.10/dist-packages (from transformers) (2024.11.6)\n",
      "Requirement already satisfied: tokenizers<0.22,>=0.21 in /usr/local/lib/python3.10/dist-packages (from transformers) (0.21.0)\n",
      "Requirement already satisfied: safetensors>=0.4.1 in /usr/local/lib/python3.10/dist-packages (from transformers) (0.4.5)\n",
      "Requirement already satisfied: psutil in /usr/local/lib/python3.10/dist-packages (from accelerate) (5.9.5)\n",
      "Requirement already satisfied: torch>=1.10.0 in /usr/local/lib/python3.10/dist-packages (from accelerate) (2.5.1+cu121)\n",
      "Requirement already satisfied: aiohappyeyeballs>=2.3.0 in /usr/local/lib/python3.10/dist-packages (from aiohttp->datasets) (2.4.4)\n",
      "Requirement already satisfied: aiosignal>=1.1.2 in /usr/local/lib/python3.10/dist-packages (from aiohttp->datasets) (1.3.2)\n",
      "Requirement already satisfied: async-timeout<6.0,>=4.0 in /usr/local/lib/python3.10/dist-packages (from aiohttp->datasets) (4.0.3)\n",
      "Requirement already satisfied: attrs>=17.3.0 in /usr/local/lib/python3.10/dist-packages (from aiohttp->datasets) (24.3.0)\n",
      "Requirement already satisfied: frozenlist>=1.1.1 in /usr/local/lib/python3.10/dist-packages (from aiohttp->datasets) (1.5.0)\n",
      "Requirement already satisfied: multidict<7.0,>=4.5 in /usr/local/lib/python3.10/dist-packages (from aiohttp->datasets) (6.1.0)\n",
      "Requirement already satisfied: propcache>=0.2.0 in /usr/local/lib/python3.10/dist-packages (from aiohttp->datasets) (0.2.1)\n",
      "Requirement already satisfied: yarl<2.0,>=1.17.0 in /usr/local/lib/python3.10/dist-packages (from aiohttp->datasets) (1.18.3)\n",
      "Requirement already satisfied: typing-extensions>=3.7.4.3 in /usr/local/lib/python3.10/dist-packages (from huggingface-hub>=0.23.0->datasets) (4.12.2)\n",
      "Requirement already satisfied: mkl_fft in /usr/local/lib/python3.10/dist-packages (from numpy>=1.17->datasets) (1.3.8)\n",
      "Requirement already satisfied: mkl_random in /usr/local/lib/python3.10/dist-packages (from numpy>=1.17->datasets) (1.2.4)\n",
      "Requirement already satisfied: mkl_umath in /usr/local/lib/python3.10/dist-packages (from numpy>=1.17->datasets) (0.1.1)\n",
      "Requirement already satisfied: mkl in /usr/local/lib/python3.10/dist-packages (from numpy>=1.17->datasets) (2025.0.1)\n",
      "Requirement already satisfied: tbb4py in /usr/local/lib/python3.10/dist-packages (from numpy>=1.17->datasets) (2022.0.0)\n",
      "Requirement already satisfied: mkl-service in /usr/local/lib/python3.10/dist-packages (from numpy>=1.17->datasets) (2.4.1)\n",
      "Requirement already satisfied: charset-normalizer<4,>=2 in /usr/local/lib/python3.10/dist-packages (from requests>=2.32.2->datasets) (3.4.0)\n",
      "Requirement already satisfied: idna<4,>=2.5 in /usr/local/lib/python3.10/dist-packages (from requests>=2.32.2->datasets) (3.10)\n",
      "Requirement already satisfied: urllib3<3,>=1.21.1 in /usr/local/lib/python3.10/dist-packages (from requests>=2.32.2->datasets) (2.2.3)\n",
      "Requirement already satisfied: certifi>=2017.4.17 in /usr/local/lib/python3.10/dist-packages (from requests>=2.32.2->datasets) (2024.12.14)\n",
      "Requirement already satisfied: networkx in /usr/local/lib/python3.10/dist-packages (from torch>=1.10.0->accelerate) (3.4.2)\n",
      "Requirement already satisfied: jinja2 in /usr/local/lib/python3.10/dist-packages (from torch>=1.10.0->accelerate) (3.1.4)\n",
      "Requirement already satisfied: sympy==1.13.1 in /usr/local/lib/python3.10/dist-packages (from torch>=1.10.0->accelerate) (1.13.1)\n",
      "Requirement already satisfied: mpmath<1.4,>=1.1.0 in /usr/local/lib/python3.10/dist-packages (from sympy==1.13.1->torch>=1.10.0->accelerate) (1.3.0)\n",
      "Requirement already satisfied: python-dateutil>=2.8.2 in /usr/local/lib/python3.10/dist-packages (from pandas->datasets) (2.8.2)\n",
      "Requirement already satisfied: pytz>=2020.1 in /usr/local/lib/python3.10/dist-packages (from pandas->datasets) (2024.2)\n",
      "Requirement already satisfied: tzdata>=2022.7 in /usr/local/lib/python3.10/dist-packages (from pandas->datasets) (2024.2)\n",
      "Requirement already satisfied: six>=1.5 in /usr/local/lib/python3.10/dist-packages (from python-dateutil>=2.8.2->pandas->datasets) (1.17.0)\n",
      "Requirement already satisfied: MarkupSafe>=2.0 in /usr/local/lib/python3.10/dist-packages (from jinja2->torch>=1.10.0->accelerate) (3.0.2)\n",
      "Requirement already satisfied: intel-openmp>=2024 in /usr/local/lib/python3.10/dist-packages (from mkl->numpy>=1.17->datasets) (2024.2.0)\n",
      "Requirement already satisfied: tbb==2022.* in /usr/local/lib/python3.10/dist-packages (from mkl->numpy>=1.17->datasets) (2022.0.0)\n",
      "Requirement already satisfied: tcmlib==1.* in /usr/local/lib/python3.10/dist-packages (from tbb==2022.*->mkl->numpy>=1.17->datasets) (1.2.0)\n",
      "Requirement already satisfied: intel-cmplr-lib-rt in /usr/local/lib/python3.10/dist-packages (from mkl_umath->numpy>=1.17->datasets) (2024.2.0)\n",
      "Requirement already satisfied: intel-cmplr-lib-ur==2024.2.0 in /usr/local/lib/python3.10/dist-packages (from intel-openmp>=2024->mkl->numpy>=1.17->datasets) (2024.2.0)\n",
      "Downloading evaluate-0.4.3-py3-none-any.whl (84 kB)\n",
      "\u001b[2K   \u001b[90m━━━━━━━━━━━━━━━━━━━━━━━━━━━━━━━━━━━━━━━━\u001b[0m \u001b[32m84.0/84.0 kB\u001b[0m \u001b[31m2.7 MB/s\u001b[0m eta \u001b[36m0:00:00\u001b[0m\n",
      "\u001b[?25hInstalling collected packages: evaluate\n",
      "Successfully installed evaluate-0.4.3\n"
     ]
    }
   ],
   "source": [
    "!pip install datasets transformers evaluate sentencepiece accelerate"
   ]
  },
  {
   "cell_type": "code",
   "execution_count": 9,
   "metadata": {
    "execution": {
     "iopub.execute_input": "2025-01-29T04:02:01.863992Z",
     "iopub.status.busy": "2025-01-29T04:02:01.863705Z",
     "iopub.status.idle": "2025-01-29T04:02:28.817943Z",
     "shell.execute_reply": "2025-01-29T04:02:28.816824Z",
     "shell.execute_reply.started": "2025-01-29T04:02:01.863968Z"
    },
    "trusted": true
   },
   "outputs": [],
   "source": [
    "import matplotlib.pyplot as plt\n",
    "import seaborn as sns\n",
    "\n",
    "from datasets import Dataset\n",
    "from transformers import AutoTokenizer\n",
    "from transformers import AutoModelForSequenceClassification\n",
    "from transformers import TrainingArguments, Trainer\n",
    "\n",
    "import torch\n",
    "from sklearn.metrics import roc_auc_score\n",
    "from sklearn.metrics import roc_curve, auc\n",
    "from sklearn.metrics import confusion_matrix, ConfusionMatrixDisplay\n",
    "from sklearn.metrics import precision_recall_fscore_support, accuracy_score"
   ]
  },
  {
   "cell_type": "code",
   "execution_count": 10,
   "metadata": {
    "execution": {
     "iopub.execute_input": "2025-01-29T04:02:28.819807Z",
     "iopub.status.busy": "2025-01-29T04:02:28.819069Z",
     "iopub.status.idle": "2025-01-29T04:02:28.825807Z",
     "shell.execute_reply": "2025-01-29T04:02:28.824917Z",
     "shell.execute_reply.started": "2025-01-29T04:02:28.819773Z"
    },
    "trusted": true
   },
   "outputs": [
    {
     "name": "stdout",
     "output_type": "stream",
     "text": [
      "['public_data_test']\n"
     ]
    }
   ],
   "source": [
    "import os\n",
    "\n",
    "path = '/kaggle/input'\n",
    "print(os.listdir(path))\n"
   ]
  },
  {
   "cell_type": "code",
   "execution_count": 11,
   "metadata": {
    "execution": {
     "iopub.execute_input": "2025-01-29T04:02:28.827279Z",
     "iopub.status.busy": "2025-01-29T04:02:28.826805Z",
     "iopub.status.idle": "2025-01-29T04:02:28.928621Z",
     "shell.execute_reply": "2025-01-29T04:02:28.927411Z",
     "shell.execute_reply.started": "2025-01-29T04:02:28.827242Z"
    },
    "trusted": true
   },
   "outputs": [],
   "source": [
    "train_ptbr = pd.read_csv(\"/kaggle/input/public_data_test/track_b/train/ptbr.csv\")\n",
    "train_ptbr = pd.read_csv(\"/kaggle/input/public_data_test/track_b/train/ptbr.csv\")\n",
    "\n",
    "\n",
    "dev_ptbr = pd.read_csv(\"/kaggle/input/public_data_test/track_b/dev/ptbr.csv\")\n",
    "dev_ptbr = pd.read_csv(\"/kaggle/input/public_data_test/track_b/dev/ptbr.csv\")\n",
    "\n",
    "\n",
    "test_ptbr = pd.read_csv(\"/kaggle/input/public_data_test/track_b/test/ptbr.csv\")\n",
    "test_ptbr = pd.read_csv(\"/kaggle/input/public_data_test/track_b/test/ptbr.csv\")"
   ]
  },
  {
   "cell_type": "markdown",
   "metadata": {},
   "source": [
    "# BRAZILIAN PORTUGUESE"
   ]
  },
  {
   "cell_type": "markdown",
   "metadata": {},
   "source": [
    "## Sources:\n",
    "- https://huggingface.co/cardiffnlp/twitter-xlm-roberta-base-sentiment"
   ]
  },
  {
   "cell_type": "code",
   "execution_count": 12,
   "metadata": {
    "execution": {
     "iopub.execute_input": "2025-01-29T04:02:28.930167Z",
     "iopub.status.busy": "2025-01-29T04:02:28.929774Z",
     "iopub.status.idle": "2025-01-29T04:02:28.953421Z",
     "shell.execute_reply": "2025-01-29T04:02:28.952596Z",
     "shell.execute_reply.started": "2025-01-29T04:02:28.930128Z"
    },
    "trusted": true
   },
   "outputs": [
    {
     "data": {
      "text/html": [
       "<div>\n",
       "<style scoped>\n",
       "    .dataframe tbody tr th:only-of-type {\n",
       "        vertical-align: middle;\n",
       "    }\n",
       "\n",
       "    .dataframe tbody tr th {\n",
       "        vertical-align: top;\n",
       "    }\n",
       "\n",
       "    .dataframe thead th {\n",
       "        text-align: right;\n",
       "    }\n",
       "</style>\n",
       "<table border=\"1\" class=\"dataframe\">\n",
       "  <thead>\n",
       "    <tr style=\"text-align: right;\">\n",
       "      <th></th>\n",
       "      <th>id</th>\n",
       "      <th>text</th>\n",
       "      <th>anger</th>\n",
       "      <th>disgust</th>\n",
       "      <th>fear</th>\n",
       "      <th>joy</th>\n",
       "      <th>sadness</th>\n",
       "      <th>surprise</th>\n",
       "    </tr>\n",
       "  </thead>\n",
       "  <tbody>\n",
       "    <tr>\n",
       "      <th>0</th>\n",
       "      <td>ptbr_train_track_b_00001</td>\n",
       "      <td>Moça eu fiz uma análise com o Tinder uma vez e...</td>\n",
       "      <td>0</td>\n",
       "      <td>0</td>\n",
       "      <td>0</td>\n",
       "      <td>0</td>\n",
       "      <td>0</td>\n",
       "      <td>0</td>\n",
       "    </tr>\n",
       "    <tr>\n",
       "      <th>1</th>\n",
       "      <td>ptbr_train_track_b_00002</td>\n",
       "      <td>eles sempre mostram a míseria, em como tudo er...</td>\n",
       "      <td>1</td>\n",
       "      <td>2</td>\n",
       "      <td>0</td>\n",
       "      <td>0</td>\n",
       "      <td>0</td>\n",
       "      <td>0</td>\n",
       "    </tr>\n",
       "    <tr>\n",
       "      <th>2</th>\n",
       "      <td>ptbr_train_track_b_00003</td>\n",
       "      <td>eu nunca quis tanto algo como quero você. jama...</td>\n",
       "      <td>0</td>\n",
       "      <td>0</td>\n",
       "      <td>0</td>\n",
       "      <td>1</td>\n",
       "      <td>1</td>\n",
       "      <td>0</td>\n",
       "    </tr>\n",
       "    <tr>\n",
       "      <th>3</th>\n",
       "      <td>ptbr_train_track_b_00004</td>\n",
       "      <td>esperando aqui o stf vim me emparedar do eu ex...</td>\n",
       "      <td>1</td>\n",
       "      <td>0</td>\n",
       "      <td>0</td>\n",
       "      <td>0</td>\n",
       "      <td>0</td>\n",
       "      <td>0</td>\n",
       "    </tr>\n",
       "    <tr>\n",
       "      <th>4</th>\n",
       "      <td>ptbr_train_track_b_00005</td>\n",
       "      <td>e no final o PS vai pagar o pato, ja é o 4° tr...</td>\n",
       "      <td>1</td>\n",
       "      <td>0</td>\n",
       "      <td>0</td>\n",
       "      <td>0</td>\n",
       "      <td>0</td>\n",
       "      <td>0</td>\n",
       "    </tr>\n",
       "  </tbody>\n",
       "</table>\n",
       "</div>"
      ],
      "text/plain": [
       "                         id  \\\n",
       "0  ptbr_train_track_b_00001   \n",
       "1  ptbr_train_track_b_00002   \n",
       "2  ptbr_train_track_b_00003   \n",
       "3  ptbr_train_track_b_00004   \n",
       "4  ptbr_train_track_b_00005   \n",
       "\n",
       "                                                text  anger  disgust  fear  \\\n",
       "0  Moça eu fiz uma análise com o Tinder uma vez e...      0        0     0   \n",
       "1  eles sempre mostram a míseria, em como tudo er...      1        2     0   \n",
       "2  eu nunca quis tanto algo como quero você. jama...      0        0     0   \n",
       "3  esperando aqui o stf vim me emparedar do eu ex...      1        0     0   \n",
       "4  e no final o PS vai pagar o pato, ja é o 4° tr...      1        0     0   \n",
       "\n",
       "   joy  sadness  surprise  \n",
       "0    0        0         0  \n",
       "1    0        0         0  \n",
       "2    1        1         0  \n",
       "3    0        0         0  \n",
       "4    0        0         0  "
      ]
     },
     "execution_count": 12,
     "metadata": {},
     "output_type": "execute_result"
    }
   ],
   "source": [
    "train_ptbr.head()"
   ]
  },
  {
   "cell_type": "code",
   "execution_count": 13,
   "metadata": {
    "execution": {
     "iopub.execute_input": "2025-01-29T04:02:28.954633Z",
     "iopub.status.busy": "2025-01-29T04:02:28.954298Z",
     "iopub.status.idle": "2025-01-29T04:02:28.990363Z",
     "shell.execute_reply": "2025-01-29T04:02:28.989403Z",
     "shell.execute_reply.started": "2025-01-29T04:02:28.954593Z"
    },
    "trusted": true
   },
   "outputs": [
    {
     "name": "stdout",
     "output_type": "stream",
     "text": [
      "<class 'pandas.core.frame.DataFrame'>\n",
      "RangeIndex: 2226 entries, 0 to 2225\n",
      "Data columns (total 8 columns):\n",
      " #   Column    Non-Null Count  Dtype \n",
      "---  ------    --------------  ----- \n",
      " 0   id        2226 non-null   object\n",
      " 1   text      2226 non-null   object\n",
      " 2   anger     2226 non-null   int64 \n",
      " 3   disgust   2226 non-null   int64 \n",
      " 4   fear      2226 non-null   int64 \n",
      " 5   joy       2226 non-null   int64 \n",
      " 6   sadness   2226 non-null   int64 \n",
      " 7   surprise  2226 non-null   int64 \n",
      "dtypes: int64(6), object(2)\n",
      "memory usage: 139.2+ KB\n"
     ]
    }
   ],
   "source": [
    "train_ptbr.info()"
   ]
  },
  {
   "cell_type": "code",
   "execution_count": 14,
   "metadata": {
    "execution": {
     "iopub.execute_input": "2025-01-29T04:02:28.991557Z",
     "iopub.status.busy": "2025-01-29T04:02:28.991267Z",
     "iopub.status.idle": "2025-01-29T04:02:29.002127Z",
     "shell.execute_reply": "2025-01-29T04:02:29.000971Z",
     "shell.execute_reply.started": "2025-01-29T04:02:28.991531Z"
    },
    "trusted": true
   },
   "outputs": [
    {
     "name": "stdout",
     "output_type": "stream",
     "text": [
      "<class 'pandas.core.frame.DataFrame'>\n",
      "RangeIndex: 200 entries, 0 to 199\n",
      "Data columns (total 8 columns):\n",
      " #   Column    Non-Null Count  Dtype \n",
      "---  ------    --------------  ----- \n",
      " 0   id        200 non-null    object\n",
      " 1   text      200 non-null    object\n",
      " 2   anger     200 non-null    int64 \n",
      " 3   disgust   200 non-null    int64 \n",
      " 4   fear      200 non-null    int64 \n",
      " 5   joy       200 non-null    int64 \n",
      " 6   sadness   200 non-null    int64 \n",
      " 7   surprise  200 non-null    int64 \n",
      "dtypes: int64(6), object(2)\n",
      "memory usage: 12.6+ KB\n"
     ]
    }
   ],
   "source": [
    "dev_ptbr.info()"
   ]
  },
  {
   "cell_type": "code",
   "execution_count": 15,
   "metadata": {
    "execution": {
     "iopub.execute_input": "2025-01-29T04:02:29.003437Z",
     "iopub.status.busy": "2025-01-29T04:02:29.003163Z",
     "iopub.status.idle": "2025-01-29T04:02:29.335089Z",
     "shell.execute_reply": "2025-01-29T04:02:29.334183Z",
     "shell.execute_reply.started": "2025-01-29T04:02:29.003382Z"
    },
    "trusted": true
   },
   "outputs": [
    {
     "data": {
      "text/plain": [
       "<Axes: >"
      ]
     },
     "execution_count": 15,
     "metadata": {},
     "output_type": "execute_result"
    },
    {
     "data": {
      "image/png": "[encoded data removed]",
      "text/plain": [
       "<Figure size 640x480 with 1 Axes>"
      ]
     },
     "metadata": {},
     "output_type": "display_data"
    }
   ],
   "source": [
    "attributes = ['anger', 'fear', 'joy', 'sadness', 'disgust','surprise']\n",
    "train_ptbr[attributes].sum().plot.bar()"
   ]
  },
  {
   "cell_type": "code",
   "execution_count": null,
   "metadata": {
    "execution": {
     "iopub.execute_input": "2025-01-29T04:02:29.336218Z",
     "iopub.status.busy": "2025-01-29T04:02:29.335978Z",
     "iopub.status.idle": "2025-01-29T04:02:29.518399Z",
     "shell.execute_reply": "2025-01-29T04:02:29.517305Z",
     "shell.execute_reply.started": "2025-01-29T04:02:29.336197Z"
    },
    "trusted": true
   },
   "outputs": [
    {
     "data": {
      "text/plain": [
       "<Axes: >"
      ]
     },
     "execution_count": 16,
     "metadata": {},
     "output_type": "execute_result"
    },
    {
     "data": {
      "image/png": "[encoded data removed]",
      "text/plain": [
       "<Figure size 640x480 with 1 Axes>"
      ]
     },
     "metadata": {},
     "output_type": "display_data"
    }
   ],
   "source": [
    "dev_ptbr[attributes].sum().plot.bar()"
   ]
  },
  {
   "cell_type": "code",
   "execution_count": 17,
   "metadata": {
    "execution": {
     "iopub.execute_input": "2025-01-29T04:02:29.519806Z",
     "iopub.status.busy": "2025-01-29T04:02:29.519485Z",
     "iopub.status.idle": "2025-01-29T04:02:29.531423Z",
     "shell.execute_reply": "2025-01-29T04:02:29.530387Z",
     "shell.execute_reply.started": "2025-01-29T04:02:29.519769Z"
    },
    "trusted": true
   },
   "outputs": [
    {
     "name": "stdout",
     "output_type": "stream",
     "text": [
      "<class 'pandas.core.frame.DataFrame'>\n",
      "RangeIndex: 2226 entries, 0 to 2225\n",
      "Data columns (total 8 columns):\n",
      " #   Column    Non-Null Count  Dtype  \n",
      "---  ------    --------------  -----  \n",
      " 0   id        2226 non-null   object \n",
      " 1   text      2226 non-null   object \n",
      " 2   anger     0 non-null      float64\n",
      " 3   disgust   0 non-null      float64\n",
      " 4   fear      0 non-null      float64\n",
      " 5   joy       0 non-null      float64\n",
      " 6   sadness   0 non-null      float64\n",
      " 7   surprise  0 non-null      float64\n",
      "dtypes: float64(6), object(2)\n",
      "memory usage: 139.2+ KB\n"
     ]
    }
   ],
   "source": [
    "test_ptbr.info()"
   ]
  },
  {
   "cell_type": "code",
   "execution_count": 18,
   "metadata": {
    "execution": {
     "iopub.execute_input": "2025-01-29T04:02:29.532766Z",
     "iopub.status.busy": "2025-01-29T04:02:29.532421Z",
     "iopub.status.idle": "2025-01-29T04:02:29.557550Z",
     "shell.execute_reply": "2025-01-29T04:02:29.556417Z",
     "shell.execute_reply.started": "2025-01-29T04:02:29.532728Z"
    },
    "trusted": true
   },
   "outputs": [
    {
     "data": {
      "text/html": [
       "<div>\n",
       "<style scoped>\n",
       "    .dataframe tbody tr th:only-of-type {\n",
       "        vertical-align: middle;\n",
       "    }\n",
       "\n",
       "    .dataframe tbody tr th {\n",
       "        vertical-align: top;\n",
       "    }\n",
       "\n",
       "    .dataframe thead th {\n",
       "        text-align: right;\n",
       "    }\n",
       "</style>\n",
       "<table border=\"1\" class=\"dataframe\">\n",
       "  <thead>\n",
       "    <tr style=\"text-align: right;\">\n",
       "      <th></th>\n",
       "      <th>id</th>\n",
       "      <th>text</th>\n",
       "      <th>anger</th>\n",
       "      <th>disgust</th>\n",
       "      <th>fear</th>\n",
       "      <th>joy</th>\n",
       "      <th>sadness</th>\n",
       "      <th>surprise</th>\n",
       "    </tr>\n",
       "  </thead>\n",
       "  <tbody>\n",
       "    <tr>\n",
       "      <th>0</th>\n",
       "      <td>ptbr_test_track_b_00001</td>\n",
       "      <td>me recuso a sair de casa nesse frio do caralho...</td>\n",
       "      <td>NaN</td>\n",
       "      <td>NaN</td>\n",
       "      <td>NaN</td>\n",
       "      <td>NaN</td>\n",
       "      <td>NaN</td>\n",
       "      <td>NaN</td>\n",
       "    </tr>\n",
       "    <tr>\n",
       "      <th>1</th>\n",
       "      <td>ptbr_test_track_b_00002</td>\n",
       "      <td>tenho desde camisola nova até vestido de festa...</td>\n",
       "      <td>NaN</td>\n",
       "      <td>NaN</td>\n",
       "      <td>NaN</td>\n",
       "      <td>NaN</td>\n",
       "      <td>NaN</td>\n",
       "      <td>NaN</td>\n",
       "    </tr>\n",
       "    <tr>\n",
       "      <th>2</th>\n",
       "      <td>ptbr_test_track_b_00003</td>\n",
       "      <td>minha playlist de descobertas veio com trap, r...</td>\n",
       "      <td>NaN</td>\n",
       "      <td>NaN</td>\n",
       "      <td>NaN</td>\n",
       "      <td>NaN</td>\n",
       "      <td>NaN</td>\n",
       "      <td>NaN</td>\n",
       "    </tr>\n",
       "    <tr>\n",
       "      <th>3</th>\n",
       "      <td>ptbr_test_track_b_00004</td>\n",
       "      <td>Então, acho que ele gosta de homem e nem sabe ...</td>\n",
       "      <td>NaN</td>\n",
       "      <td>NaN</td>\n",
       "      <td>NaN</td>\n",
       "      <td>NaN</td>\n",
       "      <td>NaN</td>\n",
       "      <td>NaN</td>\n",
       "    </tr>\n",
       "    <tr>\n",
       "      <th>4</th>\n",
       "      <td>ptbr_test_track_b_00005</td>\n",
       "      <td>Parabéns, Prof. Fernando. Parabéns às educador...</td>\n",
       "      <td>NaN</td>\n",
       "      <td>NaN</td>\n",
       "      <td>NaN</td>\n",
       "      <td>NaN</td>\n",
       "      <td>NaN</td>\n",
       "      <td>NaN</td>\n",
       "    </tr>\n",
       "  </tbody>\n",
       "</table>\n",
       "</div>"
      ],
      "text/plain": [
       "                        id                                               text  \\\n",
       "0  ptbr_test_track_b_00001  me recuso a sair de casa nesse frio do caralho...   \n",
       "1  ptbr_test_track_b_00002  tenho desde camisola nova até vestido de festa...   \n",
       "2  ptbr_test_track_b_00003  minha playlist de descobertas veio com trap, r...   \n",
       "3  ptbr_test_track_b_00004  Então, acho que ele gosta de homem e nem sabe ...   \n",
       "4  ptbr_test_track_b_00005  Parabéns, Prof. Fernando. Parabéns às educador...   \n",
       "\n",
       "   anger  disgust  fear  joy  sadness  surprise  \n",
       "0    NaN      NaN   NaN  NaN      NaN       NaN  \n",
       "1    NaN      NaN   NaN  NaN      NaN       NaN  \n",
       "2    NaN      NaN   NaN  NaN      NaN       NaN  \n",
       "3    NaN      NaN   NaN  NaN      NaN       NaN  \n",
       "4    NaN      NaN   NaN  NaN      NaN       NaN  "
      ]
     },
     "execution_count": 18,
     "metadata": {},
     "output_type": "execute_result"
    }
   ],
   "source": [
    "test_ptbr.head()"
   ]
  },
  {
   "cell_type": "markdown",
   "metadata": {},
   "source": [
    "https://huggingface.co/FacebookAI/xlm-roberta-base"
   ]
  },
  {
   "cell_type": "code",
   "execution_count": 19,
   "metadata": {
    "execution": {
     "iopub.execute_input": "2025-01-29T04:02:29.559164Z",
     "iopub.status.busy": "2025-01-29T04:02:29.558768Z",
     "iopub.status.idle": "2025-01-29T04:02:29.572698Z",
     "shell.execute_reply": "2025-01-29T04:02:29.571673Z",
     "shell.execute_reply.started": "2025-01-29T04:02:29.559139Z"
    },
    "trusted": true
   },
   "outputs": [],
   "source": [
    "emotion_labels = [\"anger\", \"disgust\", \"fear\", \"joy\", \"sadness\",\"surprise\"]"
   ]
  },
  {
   "cell_type": "code",
   "execution_count": 49,
   "metadata": {
    "execution": {
     "iopub.execute_input": "2025-01-29T04:45:53.524358Z",
     "iopub.status.busy": "2025-01-29T04:45:53.523978Z",
     "iopub.status.idle": "2025-01-29T04:45:53.528919Z",
     "shell.execute_reply": "2025-01-29T04:45:53.528017Z",
     "shell.execute_reply.started": "2025-01-29T04:45:53.524330Z"
    },
    "trusted": true
   },
   "outputs": [],
   "source": [
    "from peft import get_peft_model, LoraConfig, TaskType\n",
    "lora_config = LoraConfig(\n",
    "    task_type=TaskType.SEQ_CLS,  \n",
    "    r=16, \n",
    "    lora_alpha=64,  \n",
    "    lora_dropout=0.1,  \n",
    "    bias=\"none\"  \n",
    ")\n"
   ]
  },
  {
   "cell_type": "code",
   "execution_count": 50,
   "metadata": {
    "execution": {
     "iopub.execute_input": "2025-01-29T04:45:53.542791Z",
     "iopub.status.busy": "2025-01-29T04:45:53.542481Z",
     "iopub.status.idle": "2025-01-29T04:46:02.379103Z",
     "shell.execute_reply": "2025-01-29T04:46:02.378273Z",
     "shell.execute_reply.started": "2025-01-29T04:45:53.542767Z"
    },
    "trusted": true
   },
   "outputs": [
    {
     "data": {
      "application/vnd.jupyter.widget-view+json": {
       "model_id": "5162c0d31c8d43b2bf028cab1e98c3fd",
       "version_major": 2,
       "version_minor": 0
      },
      "text/plain": [
       "tokenizer_config.json:   0%|          | 0.00/25.0 [00:00<?, ?B/s]"
      ]
     },
     "metadata": {},
     "output_type": "display_data"
    },
    {
     "data": {
      "application/vnd.jupyter.widget-view+json": {
       "model_id": "cb8f09ba9d6447f4923b3535a8526e57",
       "version_major": 2,
       "version_minor": 0
      },
      "text/plain": [
       "config.json:   0%|          | 0.00/615 [00:00<?, ?B/s]"
      ]
     },
     "metadata": {},
     "output_type": "display_data"
    },
    {
     "data": {
      "application/vnd.jupyter.widget-view+json": {
       "model_id": "70ff32ac5dfd47a291d793673f726b4c",
       "version_major": 2,
       "version_minor": 0
      },
      "text/plain": [
       "sentencepiece.bpe.model:   0%|          | 0.00/5.07M [00:00<?, ?B/s]"
      ]
     },
     "metadata": {},
     "output_type": "display_data"
    },
    {
     "data": {
      "application/vnd.jupyter.widget-view+json": {
       "model_id": "28c24b3960624379b8408822d7177685",
       "version_major": 2,
       "version_minor": 0
      },
      "text/plain": [
       "tokenizer.json:   0%|          | 0.00/9.10M [00:00<?, ?B/s]"
      ]
     },
     "metadata": {},
     "output_type": "display_data"
    },
    {
     "data": {
      "application/vnd.jupyter.widget-view+json": {
       "model_id": "a5377210d688436a8f9ae98db0cef269",
       "version_major": 2,
       "version_minor": 0
      },
      "text/plain": [
       "model.safetensors:   0%|          | 0.00/1.12G [00:00<?, ?B/s]"
      ]
     },
     "metadata": {},
     "output_type": "display_data"
    },
    {
     "name": "stderr",
     "output_type": "stream",
     "text": [
      "Some weights of XLMRobertaForSequenceClassification were not initialized from the model checkpoint at FacebookAI/xlm-roberta-base and are newly initialized: ['classifier.dense.bias', 'classifier.dense.weight', 'classifier.out_proj.bias', 'classifier.out_proj.weight']\n",
      "You should probably TRAIN this model on a down-stream task to be able to use it for predictions and inference.\n"
     ]
    }
   ],
   "source": [
    "tokenizer = AutoTokenizer.from_pretrained('FacebookAI/xlm-roberta-base')\n",
    "model = AutoModelForSequenceClassification.from_pretrained('FacebookAI/xlm-roberta-base',\n",
    "                                                           problem_type=\"multi_label_classification\",\n",
    "                                                           num_labels=len(emotion_labels))"
   ]
  },
  {
   "cell_type": "code",
   "execution_count": 51,
   "metadata": {
    "execution": {
     "iopub.execute_input": "2025-01-29T04:46:02.380778Z",
     "iopub.status.busy": "2025-01-29T04:46:02.380435Z",
     "iopub.status.idle": "2025-01-29T04:46:02.429771Z",
     "shell.execute_reply": "2025-01-29T04:46:02.428833Z",
     "shell.execute_reply.started": "2025-01-29T04:46:02.380749Z"
    },
    "trusted": true
   },
   "outputs": [
    {
     "name": "stdout",
     "output_type": "stream",
     "text": [
      "trainable params: 1,185,030 || all params: 279,233,292 || trainable%: 0.4244\n",
      "None\n"
     ]
    }
   ],
   "source": [
    "model = get_peft_model(model, lora_config)\n",
    "print(model.print_trainable_parameters())"
   ]
  },
  {
   "cell_type": "code",
   "execution_count": null,
   "metadata": {
    "execution": {
     "iopub.execute_input": "2025-01-29T04:51:08.139124Z",
     "iopub.status.busy": "2025-01-29T04:51:08.138739Z",
     "iopub.status.idle": "2025-01-29T04:51:08.143707Z",
     "shell.execute_reply": "2025-01-29T04:51:08.142742Z",
     "shell.execute_reply.started": "2025-01-29T04:51:08.139097Z"
    },
    "trusted": true
   },
   "outputs": [],
   "source": [
    "def tokenize_with_emotions(batch):\n",
    "    emotions = \"anger, disgust, fear, joy, sadness, or surprise?\" \n",
    "    return tokenizer(emotions, batch['text'], padding=True, truncation=True, max_length=128)\n"
   ]
  },
  {
   "cell_type": "code",
   "execution_count": null,
   "metadata": {
    "execution": {
     "iopub.execute_input": "2025-01-29T04:51:08.151734Z",
     "iopub.status.busy": "2025-01-29T04:51:08.151454Z",
     "iopub.status.idle": "2025-01-29T04:51:08.165615Z",
     "shell.execute_reply": "2025-01-29T04:51:08.164693Z",
     "shell.execute_reply.started": "2025-01-29T04:51:08.151710Z"
    },
    "trusted": true
   },
   "outputs": [],
   "source": [
    "def encode_data_with_demux(df, tokenizer):\n",
    "    emotions = [\"anger\", \"disgust\", \"fear\", \"joy\", \"sadness\",\"surprise\"]\n",
    "    text_with_emotions = [\", \".join(emotions) + \"?\" + \" \" + t for t in df['text']]\n",
    "    encodings = tokenizer(text_with_emotions, truncation=True, padding=True, max_length=128)\n",
    "    labels = df[['anger', 'disgust', 'fear', 'joy', 'sadness',\"surprise\"]].fillna(0).values\n",
    "    return encodings, labels"
   ]
  },
  {
   "cell_type": "code",
   "execution_count": 65,
   "metadata": {
    "execution": {
     "iopub.execute_input": "2025-01-29T04:51:08.167114Z",
     "iopub.status.busy": "2025-01-29T04:51:08.166740Z",
     "iopub.status.idle": "2025-01-29T04:51:08.400555Z",
     "shell.execute_reply": "2025-01-29T04:51:08.399640Z",
     "shell.execute_reply.started": "2025-01-29T04:51:08.167073Z"
    },
    "trusted": true
   },
   "outputs": [],
   "source": [
    "train_encodings, train_labels = encode_data_with_demux(train_ptbr, tokenizer)\n",
    "dev_encodings, dev_labels = encode_data_with_demux(dev_ptbr, tokenizer)"
   ]
  },
  {
   "cell_type": "code",
   "execution_count": null,
   "metadata": {
    "execution": {
     "iopub.execute_input": "2025-01-29T04:51:08.402393Z",
     "iopub.status.busy": "2025-01-29T04:51:08.402097Z",
     "iopub.status.idle": "2025-01-29T04:51:08.408288Z",
     "shell.execute_reply": "2025-01-29T04:51:08.407179Z",
     "shell.execute_reply.started": "2025-01-29T04:51:08.402354Z"
    },
    "trusted": true
   },
   "outputs": [],
   "source": [
    "class CustomDataset(torch.utils.data.Dataset):\n",
    "    def __init__(self, encodings, labels):\n",
    "        self.encodings = encodings\n",
    "        self.labels = torch.tensor(labels, dtype=torch.float)\n",
    "\n",
    "    def __len__(self):\n",
    "        return len(self.labels)\n",
    "\n",
    "    def __getitem__(self, idx):\n",
    "        item = {key: torch.tensor(val[idx]) for key, val in self.encodings.items()}\n",
    "        item['labels'] = self.labels[idx]\n",
    "        return item"
   ]
  },
  {
   "cell_type": "code",
   "execution_count": 67,
   "metadata": {
    "execution": {
     "iopub.execute_input": "2025-01-29T04:51:08.410035Z",
     "iopub.status.busy": "2025-01-29T04:51:08.409626Z",
     "iopub.status.idle": "2025-01-29T04:51:08.454172Z",
     "shell.execute_reply": "2025-01-29T04:51:08.453114Z",
     "shell.execute_reply.started": "2025-01-29T04:51:08.410007Z"
    },
    "trusted": true
   },
   "outputs": [],
   "source": [
    "train_dataset = CustomDataset(train_encodings, train_labels)\n",
    "dev_dataset = CustomDataset(dev_encodings, dev_labels)"
   ]
  },
  {
   "cell_type": "code",
   "execution_count": null,
   "metadata": {
    "execution": {
     "iopub.execute_input": "2025-01-29T04:51:08.455487Z",
     "iopub.status.busy": "2025-01-29T04:51:08.455219Z",
     "iopub.status.idle": "2025-01-29T04:51:09.187871Z",
     "shell.execute_reply": "2025-01-29T04:51:09.187153Z",
     "shell.execute_reply.started": "2025-01-29T04:51:08.455464Z"
    },
    "trusted": true
   },
   "outputs": [],
   "source": [
    "def calculate_token_lengths(texts, tokenizer):\n",
    "    token_lengths = [len(tokenizer.encode(text, truncation=False)) for text in texts]\n",
    "    return token_lengths\n",
    "\n",
    "train_lengths = calculate_token_lengths(train_ptbr['text'], tokenizer)\n",
    "dev_lengths = calculate_token_lengths(dev_ptbr['text'], tokenizer)\n",
    "test_lengths = calculate_token_lengths(test_ptbr['text'], tokenizer)"
   ]
  },
  {
   "cell_type": "code",
   "execution_count": null,
   "metadata": {
    "execution": {
     "iopub.execute_input": "2025-01-29T04:51:09.188952Z",
     "iopub.status.busy": "2025-01-29T04:51:09.188692Z",
     "iopub.status.idle": "2025-01-29T04:51:09.574482Z",
     "shell.execute_reply": "2025-01-29T04:51:09.573267Z",
     "shell.execute_reply.started": "2025-01-29T04:51:09.188931Z"
    },
    "trusted": true
   },
   "outputs": [
    {
     "data": {
      "image/png": "[encoded data removed]",
      "text/plain": [
       "<Figure size 1000x600 with 1 Axes>"
      ]
     },
     "metadata": {},
     "output_type": "display_data"
    }
   ],
   "source": [
    "all_lengths = train_lengths + dev_lengths + test_lengths\n",
    "\n",
    "plt.figure(figsize=(10, 6))\n",
    "sns.histplot(all_lengths, bins=50, kde=True, color='blue', alpha=0.7)\n",
    "plt.axvline(x=np.percentile(all_lengths, 90), color='red', linestyle='--', label='90th Percentile')\n",
    "plt.axvline(x=np.percentile(all_lengths, 95), color='green', linestyle='--', label='95th Percentile')\n",
    "plt.title('Token Length Distribution')\n",
    "plt.xlabel('Number of Tokens')\n",
    "plt.ylabel('Frequency')\n",
    "plt.legend()\n",
    "plt.show()"
   ]
  },
  {
   "cell_type": "code",
   "execution_count": 70,
   "metadata": {
    "execution": {
     "iopub.execute_input": "2025-01-29T04:51:09.576892Z",
     "iopub.status.busy": "2025-01-29T04:51:09.576603Z",
     "iopub.status.idle": "2025-01-29T04:51:09.580638Z",
     "shell.execute_reply": "2025-01-29T04:51:09.579873Z",
     "shell.execute_reply.started": "2025-01-29T04:51:09.576851Z"
    },
    "trusted": true
   },
   "outputs": [],
   "source": [
    "from transformers import EarlyStoppingCallback"
   ]
  },
  {
   "cell_type": "code",
   "execution_count": null,
   "metadata": {
    "execution": {
     "iopub.execute_input": "2025-01-29T04:51:09.622146Z",
     "iopub.status.busy": "2025-01-29T04:51:09.621843Z",
     "iopub.status.idle": "2025-01-29T04:51:09.643486Z",
     "shell.execute_reply": "2025-01-29T04:51:09.642410Z",
     "shell.execute_reply.started": "2025-01-29T04:51:09.622124Z"
    },
    "trusted": true
   },
   "outputs": [],
   "source": [
    "from scipy.stats import pearsonr\n",
    "\n",
    "def compute_pearson_corr(predictions, labels):\n",
    "    \"\"\"\n",
    "    Compute Pearson Correlation between predictions and labels.\n",
    "    \"\"\"\n",
    "    if isinstance(predictions, torch.Tensor):\n",
    "        predictions = predictions.detach().cpu().numpy()\n",
    "    if isinstance(labels, torch.Tensor):\n",
    "        labels = labels.detach().cpu().numpy()\n",
    "    \n",
    "    corr, _ = pearsonr(predictions.flatten(), labels.flatten())\n",
    "    return corr\n"
   ]
  },
  {
   "cell_type": "code",
   "execution_count": null,
   "metadata": {},
   "outputs": [],
   "source": [
    "import torch\n",
    "import torch.nn as nn\n",
    "\n",
    "class custom_loss(nn.Module):\n",
    "    def __init__(self):\n",
    "        super().__init__()\n",
    "        self.mse_loss = nn.MSELoss()\n",
    "\n",
    "    def forward(self, outputs, labels):\n",
    "        return self.mse_loss(outputs, labels)"
   ]
  },
  {
   "cell_type": "code",
   "execution_count": null,
   "metadata": {
    "execution": {
     "iopub.execute_input": "2025-01-29T04:51:09.644945Z",
     "iopub.status.busy": "2025-01-29T04:51:09.644542Z",
     "iopub.status.idle": "2025-01-29T04:51:09.665869Z",
     "shell.execute_reply": "2025-01-29T04:51:09.665012Z",
     "shell.execute_reply.started": "2025-01-29T04:51:09.644908Z"
    },
    "trusted": true
   },
   "outputs": [],
   "source": [
    "class CustomTrainer(Trainer):\n",
    "    def __init__(self, *args, **kwargs):\n",
    "        super().__init__(*args, **kwargs)\n",
    "        self.loss_fn = custom_loss()\n",
    "\n",
    "    def compute_loss(self, model, inputs, num_items_in_batch=None, return_outputs=False):\n",
    "        \"\"\"\n",
    "        Custom loss function for the Hugging Face Trainer.\n",
    "        \"\"\"\n",
    "        labels = inputs.pop(\"labels\")  # Extract labels\n",
    "        outputs = model(**inputs)      # Forward pass\n",
    "        logits = outputs.logits        # Extract logits\n",
    "\n",
    "        loss = self.loss_fn(logits, labels) \n",
    "\n",
    "        return (loss, outputs) if return_outputs else loss\n"
   ]
  },
  {
   "cell_type": "code",
   "execution_count": null,
   "metadata": {
    "execution": {
     "iopub.execute_input": "2025-01-29T04:51:09.667187Z",
     "iopub.status.busy": "2025-01-29T04:51:09.666847Z",
     "iopub.status.idle": "2025-01-29T04:51:09.685597Z",
     "shell.execute_reply": "2025-01-29T04:51:09.684518Z",
     "shell.execute_reply.started": "2025-01-29T04:51:09.667162Z"
    },
    "trusted": true
   },
   "outputs": [],
   "source": [
    "\n",
    "from transformers import EvalPrediction\n",
    "from sklearn.metrics import accuracy_score\n",
    "from sklearn.metrics import precision_score, recall_score, f1_score\n",
    "\n",
    "def compute_metrics(p: EvalPrediction):\n",
    "    \"\"\"\n",
    "    Compute metrics for evaluation, including Pearson Correlation, Accuracy, Precision, Recall, and F1 score.\n",
    "    \"\"\"\n",
    "    predictions, labels = p.predictions, p.label_ids\n",
    "    \n",
    "    predictions_rounded = np.round(predictions).astype(int)\n",
    "    \n",
    "    labels_flattened = labels.flatten()\n",
    "    predictions_flattened = predictions_rounded.flatten()\n",
    "    \n",
    "    pearson_corr = compute_pearson_corr(predictions, labels)\n",
    "    overall_accuracy = accuracy_score(labels_flattened, predictions_flattened)\n",
    "    precision = precision_score(labels_flattened, predictions_flattened, average='macro')\n",
    "    recall = recall_score(labels_flattened, predictions_flattened, average='macro')\n",
    "    f1 = f1_score(labels_flattened, predictions_flattened, average='macro')\n",
    "    \n",
    "    return {\n",
    "        \"pearson_corr\": pearson_corr,\n",
    "        \"overall_accuracy\": overall_accuracy,\n",
    "        \"precision\": precision,\n",
    "        \"recall\": recall,\n",
    "        \"f1_score\": f1\n",
    "    }\n"
   ]
  },
  {
   "cell_type": "code",
   "execution_count": null,
   "metadata": {
    "execution": {
     "iopub.execute_input": "2025-01-29T04:51:09.687067Z",
     "iopub.status.busy": "2025-01-29T04:51:09.686632Z",
     "iopub.status.idle": "2025-01-29T04:51:09.745337Z",
     "shell.execute_reply": "2025-01-29T04:51:09.744417Z",
     "shell.execute_reply.started": "2025-01-29T04:51:09.687034Z"
    },
    "trusted": true
   },
   "outputs": [
    {
     "name": "stderr",
     "output_type": "stream",
     "text": [
      "Using the `WANDB_DISABLED` environment variable is deprecated and will be removed in v5. Use the --report_to flag to control the integrations used for logging result (for instance --report_to none).\n"
     ]
    }
   ],
   "source": [
    "training_args = TrainingArguments(\n",
    "    output_dir='./results/ptbr/xlm-roberta-base-v1',\n",
    "    report_to=None,\n",
    "    evaluation_strategy=\"steps\",\n",
    "    save_total_limit = 1,\n",
    "    logging_strategy=\"epoch\",\n",
    "    load_best_model_at_end=True,\n",
    "    learning_rate=1e-5,\n",
    "    per_device_train_batch_size=8,\n",
    "    per_device_eval_batch_size=8,\n",
    "    num_train_epochs=50,\n",
    "    weight_decay=0.01,\n",
    "    metric_for_best_model=\"pearson_corr\",\n",
    ")"
   ]
  },
  {
   "cell_type": "code",
   "execution_count": 77,
   "metadata": {
    "execution": {
     "iopub.execute_input": "2025-01-29T04:51:09.746748Z",
     "iopub.status.busy": "2025-01-29T04:51:09.746351Z",
     "iopub.status.idle": "2025-01-29T04:51:09.751201Z",
     "shell.execute_reply": "2025-01-29T04:51:09.750190Z",
     "shell.execute_reply.started": "2025-01-29T04:51:09.746711Z"
    },
    "trusted": true
   },
   "outputs": [],
   "source": [
    "early_stopping_callback = EarlyStoppingCallback(\n",
    "    early_stopping_patience=2,  \n",
    "    early_stopping_threshold=0.01  \n",
    ")"
   ]
  },
  {
   "cell_type": "code",
   "execution_count": null,
   "metadata": {
    "execution": {
     "iopub.execute_input": "2025-01-29T04:51:09.752404Z",
     "iopub.status.busy": "2025-01-29T04:51:09.752104Z",
     "iopub.status.idle": "2025-01-29T04:51:10.178467Z",
     "shell.execute_reply": "2025-01-29T04:51:10.177266Z",
     "shell.execute_reply.started": "2025-01-29T04:51:09.752380Z"
    },
    "trusted": true
   },
   "outputs": [],
   "source": [
    "trainer = CustomTrainer(\n",
    "    model=model,\n",
    "    args=training_args,\n",
    "    train_dataset=train_dataset,\n",
    "    eval_dataset=dev_dataset,\n",
    "    tokenizer=tokenizer,\n",
    "    compute_metrics=compute_metrics,\n",
    "    callbacks=[early_stopping_callback]\n",
    ")"
   ]
  },
  {
   "cell_type": "code",
   "execution_count": 79,
   "metadata": {
    "execution": {
     "iopub.execute_input": "2025-01-29T04:51:10.180191Z",
     "iopub.status.busy": "2025-01-29T04:51:10.179786Z",
     "iopub.status.idle": "2025-01-29T04:51:10.185304Z",
     "shell.execute_reply": "2025-01-29T04:51:10.184360Z",
     "shell.execute_reply.started": "2025-01-29T04:51:10.180136Z"
    },
    "trusted": true
   },
   "outputs": [],
   "source": [
    "from unittest import mock\n",
    "from unittest.mock import Mock\n",
    "class Dummy:\n",
    "    def __enter__(self):\n",
    "        return Mock()\n",
    "\n",
    "    def __exit__(self, *args):\n",
    "        pass"
   ]
  },
  {
   "cell_type": "code",
   "execution_count": 80,
   "metadata": {
    "execution": {
     "iopub.execute_input": "2025-01-29T04:51:10.186648Z",
     "iopub.status.busy": "2025-01-29T04:51:10.186407Z",
     "iopub.status.idle": "2025-01-29T05:11:10.502604Z",
     "shell.execute_reply": "2025-01-29T05:11:10.501667Z",
     "shell.execute_reply.started": "2025-01-29T04:51:10.186627Z"
    },
    "trusted": true
   },
   "outputs": [
    {
     "data": {
      "text/html": [
       "\n",
       "    <div>\n",
       "      \n",
       "      <progress value='3500' max='7000' style='width:300px; height:20px; vertical-align: middle;'></progress>\n",
       "      [3500/7000 19:59 < 20:00, 2.92 it/s, Epoch 25/50]\n",
       "    </div>\n",
       "    <table border=\"1\" class=\"dataframe\">\n",
       "  <thead>\n",
       " <tr style=\"text-align: left;\">\n",
       "      <th>Step</th>\n",
       "      <th>Training Loss</th>\n",
       "      <th>Validation Loss</th>\n",
       "      <th>Pearson Corr</th>\n",
       "      <th>Overall Accuracy</th>\n",
       "      <th>Precision</th>\n",
       "      <th>Recall</th>\n",
       "      <th>F1 Score</th>\n",
       "    </tr>\n",
       "  </thead>\n",
       "  <tbody>\n",
       "    <tr>\n",
       "      <td>500</td>\n",
       "      <td>0.276600</td>\n",
       "      <td>0.284724</td>\n",
       "      <td>0.315927</td>\n",
       "      <td>0.839167</td>\n",
       "      <td>0.280156</td>\n",
       "      <td>0.265731</td>\n",
       "      <td>0.259948</td>\n",
       "    </tr>\n",
       "    <tr>\n",
       "      <td>1000</td>\n",
       "      <td>0.239400</td>\n",
       "      <td>0.230344</td>\n",
       "      <td>0.521520</td>\n",
       "      <td>0.835833</td>\n",
       "      <td>0.498173</td>\n",
       "      <td>0.367535</td>\n",
       "      <td>0.350325</td>\n",
       "    </tr>\n",
       "    <tr>\n",
       "      <td>1500</td>\n",
       "      <td>0.224500</td>\n",
       "      <td>0.218533</td>\n",
       "      <td>0.557244</td>\n",
       "      <td>0.835000</td>\n",
       "      <td>0.457704</td>\n",
       "      <td>0.390038</td>\n",
       "      <td>0.387317</td>\n",
       "    </tr>\n",
       "    <tr>\n",
       "      <td>2000</td>\n",
       "      <td>0.206300</td>\n",
       "      <td>0.215265</td>\n",
       "      <td>0.566613</td>\n",
       "      <td>0.842500</td>\n",
       "      <td>0.471520</td>\n",
       "      <td>0.396177</td>\n",
       "      <td>0.405384</td>\n",
       "    </tr>\n",
       "    <tr>\n",
       "      <td>2500</td>\n",
       "      <td>0.206400</td>\n",
       "      <td>0.212257</td>\n",
       "      <td>0.584490</td>\n",
       "      <td>0.840833</td>\n",
       "      <td>0.458473</td>\n",
       "      <td>0.413010</td>\n",
       "      <td>0.415657</td>\n",
       "    </tr>\n",
       "    <tr>\n",
       "      <td>3000</td>\n",
       "      <td>0.195700</td>\n",
       "      <td>0.209002</td>\n",
       "      <td>0.594089</td>\n",
       "      <td>0.847500</td>\n",
       "      <td>0.464995</td>\n",
       "      <td>0.412373</td>\n",
       "      <td>0.420840</td>\n",
       "    </tr>\n",
       "    <tr>\n",
       "      <td>3500</td>\n",
       "      <td>0.196100</td>\n",
       "      <td>0.205770</td>\n",
       "      <td>0.602085</td>\n",
       "      <td>0.850000</td>\n",
       "      <td>0.467342</td>\n",
       "      <td>0.413110</td>\n",
       "      <td>0.422719</td>\n",
       "    </tr>\n",
       "  </tbody>\n",
       "</table><p>"
      ],
      "text/plain": [
       "<IPython.core.display.HTML object>"
      ]
     },
     "metadata": {},
     "output_type": "display_data"
    }
   ],
   "source": [
    "with mock.patch('wandb.init', return_value=Dummy()):\n",
    "    trainer.train()"
   ]
  },
  {
   "cell_type": "code",
   "execution_count": null,
   "metadata": {
    "execution": {
     "iopub.execute_input": "2025-01-29T05:11:10.503828Z",
     "iopub.status.busy": "2025-01-29T05:11:10.503511Z",
     "iopub.status.idle": "2025-01-29T05:11:10.733635Z",
     "shell.execute_reply": "2025-01-29T05:11:10.732577Z",
     "shell.execute_reply.started": "2025-01-29T05:11:10.503801Z"
    },
    "trusted": true
   },
   "outputs": [
    {
     "name": "stdout",
     "output_type": "stream",
     "text": [
      "Model and tokenizer saved to /kaggle/working/\n"
     ]
    }
   ],
   "source": [
    "output_dir = \"/kaggle/working/\" \n",
    "\n",
    "model.save_pretrained(output_dir)\n",
    "\n",
    "tokenizer.save_pretrained(output_dir)\n",
    "\n",
    "print(f\"Model and tokenizer saved to {output_dir}\")"
   ]
  },
  {
   "cell_type": "code",
   "execution_count": null,
   "metadata": {
    "execution": {
     "iopub.execute_input": "2025-01-29T05:11:10.737195Z",
     "iopub.status.busy": "2025-01-29T05:11:10.736873Z",
     "iopub.status.idle": "2025-01-29T05:11:12.648565Z",
     "shell.execute_reply": "2025-01-29T05:11:12.647667Z",
     "shell.execute_reply.started": "2025-01-29T05:11:10.737169Z"
    },
    "trusted": true
   },
   "outputs": [
    {
     "data": {
      "text/html": [],
      "text/plain": [
       "<IPython.core.display.HTML object>"
      ]
     },
     "metadata": {},
     "output_type": "display_data"
    },
    {
     "name": "stdout",
     "output_type": "stream",
     "text": [
      "Discrete predictions (0-3): [[1 0 0 0 0 0]\n",
      " [1 0 0 0 0 0]\n",
      " [0 0 0 0 0 0]\n",
      " ...\n",
      " [0 0 0 2 0 0]\n",
      " [0 0 0 2 0 0]\n",
      " [1 0 0 0 0 0]]\n"
     ]
    }
   ],
   "source": [
    "import numpy as np\n",
    "\n",
    "predictions, labels, _ = trainer.predict(dev_dataset)  \n",
    "\n",
    "clipped_predictions = np.clip(predictions, 0, 3)\n",
    "\n",
    "discrete_predictions = np.round(clipped_predictions).astype(int)\n",
    "\n",
    "print(\"Discrete predictions (0-3):\", discrete_predictions)\n"
   ]
  },
  {
   "cell_type": "code",
   "execution_count": null,
   "metadata": {
    "execution": {
     "iopub.execute_input": "2025-01-29T05:11:12.650393Z",
     "iopub.status.busy": "2025-01-29T05:11:12.650004Z",
     "iopub.status.idle": "2025-01-29T05:11:12.902775Z",
     "shell.execute_reply": "2025-01-29T05:11:12.901808Z",
     "shell.execute_reply.started": "2025-01-29T05:11:12.650363Z"
    },
    "trusted": true
   },
   "outputs": [
    {
     "data": {
      "image/png": "[encoded data removed]",
      "text/plain": [
       "<Figure size 640x480 with 2 Axes>"
      ]
     },
     "metadata": {},
     "output_type": "display_data"
    }
   ],
   "source": [
    "predictions_flattened = discrete_predictions.ravel()\n",
    "labels_flattened = labels.ravel()\n",
    "\n",
    "conf_matrix = confusion_matrix(labels_flattened, predictions_flattened)\n",
    "\n",
    "disp = ConfusionMatrixDisplay(confusion_matrix=conf_matrix, display_labels=np.unique(labels_flattened))\n",
    "disp.plot(cmap=plt.cm.Blues)\n",
    "plt.title(\"Confusion Matrix\")\n",
    "plt.show()"
   ]
  },
  {
   "cell_type": "code",
   "execution_count": 85,
   "metadata": {
    "execution": {
     "iopub.execute_input": "2025-01-29T05:11:12.916995Z",
     "iopub.status.busy": "2025-01-29T05:11:12.916551Z",
     "iopub.status.idle": "2025-01-29T05:11:12.935153Z",
     "shell.execute_reply": "2025-01-29T05:11:12.933834Z",
     "shell.execute_reply.started": "2025-01-29T05:11:12.916949Z"
    },
    "trusted": true
   },
   "outputs": [],
   "source": [
    "pre=np.round(predictions).astype(int)"
   ]
  },
  {
   "cell_type": "code",
   "execution_count": 84,
   "metadata": {
    "execution": {
     "iopub.execute_input": "2025-01-29T05:11:12.904032Z",
     "iopub.status.busy": "2025-01-29T05:11:12.903699Z",
     "iopub.status.idle": "2025-01-29T05:11:12.915409Z",
     "shell.execute_reply": "2025-01-29T05:11:12.914586Z",
     "shell.execute_reply.started": "2025-01-29T05:11:12.903994Z"
    },
    "trusted": true
   },
   "outputs": [
    {
     "name": "stdout",
     "output_type": "stream",
     "text": [
      "Accuracy: 0.86\n"
     ]
    }
   ],
   "source": [
    "\n",
    "predictions = np.array(pre)\n",
    "labels = np.array(labels)\n",
    "\n",
    "\n",
    "if predictions.ndim > 1 and labels.ndim > 1:\n",
    "    accuracies = []\n",
    "    for i in range(predictions.shape[1]):  \n",
    "        acc = accuracy_score(labels[:, i], predictions[:, i])\n",
    "        accuracies.append(acc)\n",
    "    overall_accuracy = np.mean(accuracies)\n",
    "else:\n",
    "    overall_accuracy = accuracy_score(labels, predictions)\n",
    "\n",
    "print(f\"Accuracy: {overall_accuracy:.2f}\")"
   ]
  },
  {
   "cell_type": "code",
   "execution_count": null,
   "metadata": {
    "execution": {
     "iopub.execute_input": "2025-01-29T05:11:12.936436Z",
     "iopub.status.busy": "2025-01-29T05:11:12.936093Z",
     "iopub.status.idle": "2025-01-29T05:11:34.423333Z",
     "shell.execute_reply": "2025-01-29T05:11:34.422298Z",
     "shell.execute_reply.started": "2025-01-29T05:11:12.936399Z"
    },
    "trusted": true
   },
   "outputs": [
    {
     "data": {
      "text/html": [],
      "text/plain": [
       "<IPython.core.display.HTML object>"
      ]
     },
     "metadata": {},
     "output_type": "display_data"
    }
   ],
   "source": [
    "test_encodings = tokenizer(list(test_ptbr['text']), truncation=True, padding=True, max_length=128, return_tensors=\"pt\")\n",
    "test_dataset = CustomDataset(test_encodings, np.zeros((len(test_ptbr), 6))) \n",
    "test_results = trainer.predict(test_dataset)\n",
    "predicts=np.round(test_results.predictions).astype(int)"
   ]
  },
  {
   "cell_type": "code",
   "execution_count": null,
   "metadata": {
    "execution": {
     "iopub.execute_input": "2025-01-29T05:11:34.424709Z",
     "iopub.status.busy": "2025-01-29T05:11:34.424393Z",
     "iopub.status.idle": "2025-01-29T05:11:34.446263Z",
     "shell.execute_reply": "2025-01-29T05:11:34.445248Z",
     "shell.execute_reply.started": "2025-01-29T05:11:34.424662Z"
    },
    "trusted": true
   },
   "outputs": [],
   "source": [
    "test_ptbr[['anger', 'disgust', 'fear', 'joy', 'sadness','surprise']] = predicts\n",
    "test_ptbr.to_csv('test_predictions_ptbr_xlm_roberta_v2.csv', index=False)"
   ]
  }
 ],
 "metadata": {
  "kaggle": {
   "accelerator": "nvidiaTeslaT4",
   "dataSources": [
    {
     "datasetId": 6347818,
     "sourceId": 10498281,
     "sourceType": "datasetVersion"
    }
   ],
   "dockerImageVersionId": 30840,
   "isGpuEnabled": true,
   "isInternetEnabled": true,
   "language": "python",
   "sourceType": "notebook"
  },
  "kernelspec": {
   "display_name": "Python 3",
   "language": "python",
   "name": "python3"
  },
  "language_info": {
   "codemirror_mode": {
    "name": "ipython",
    "version": 3
   },
   "file_extension": ".py",
   "mimetype": "text/x-python",
   "name": "python",
   "nbconvert_exporter": "python",
   "pygments_lexer": "ipython3",
   "version": "3.10.12"
  }
 },
 "nbformat": 4,
 "nbformat_minor": 4
}
