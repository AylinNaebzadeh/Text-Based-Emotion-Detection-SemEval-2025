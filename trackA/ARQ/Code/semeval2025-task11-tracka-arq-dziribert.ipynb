{
 "cells": [
  {
   "cell_type": "code",
   "execution_count": 1,
   "metadata": {
    "_cell_guid": "b1076dfc-b9ad-4769-8c92-a6c4dae69d19",
    "_uuid": "8f2839f25d086af736a60e9eeb907d3b93b6e0e5",
    "execution": {
     "iopub.execute_input": "2025-01-19T10:26:55.654896Z",
     "iopub.status.busy": "2025-01-19T10:26:55.654607Z",
     "iopub.status.idle": "2025-01-19T10:26:56.280115Z",
     "shell.execute_reply": "2025-01-19T10:26:56.279239Z",
     "shell.execute_reply.started": "2025-01-19T10:26:55.654872Z"
    },
    "trusted": true
   },
   "outputs": [
    {
     "name": "stdout",
     "output_type": "stream",
     "text": [
      "/kaggle/input/public_data_test/track_c/test/ind.csv\n",
      "/kaggle/input/public_data_test/track_c/test/tat.csv\n",
      "/kaggle/input/public_data_test/track_c/test/swe.csv\n",
      "/kaggle/input/public_data_test/track_c/test/afr.csv\n",
      "/kaggle/input/public_data_test/track_c/test/xho.csv\n",
      "/kaggle/input/public_data_test/track_c/test/amh.csv\n",
      "/kaggle/input/public_data_test/track_c/test/ptbr.csv\n",
      "/kaggle/input/public_data_test/track_c/test/mar.csv\n",
      "/kaggle/input/public_data_test/track_c/test/eng.csv\n",
      "/kaggle/input/public_data_test/track_c/test/yor.csv\n",
      "/kaggle/input/public_data_test/track_c/test/hau.csv\n",
      "/kaggle/input/public_data_test/track_c/test/som.csv\n",
      "/kaggle/input/public_data_test/track_c/test/ron.csv\n",
      "/kaggle/input/public_data_test/track_c/test/zul.csv\n",
      "/kaggle/input/public_data_test/track_c/test/sun.csv\n",
      "/kaggle/input/public_data_test/track_c/test/arq.csv\n",
      "/kaggle/input/public_data_test/track_c/test/hin.csv\n",
      "/kaggle/input/public_data_test/track_c/test/ibo.csv\n",
      "/kaggle/input/public_data_test/track_c/test/chn.csv\n",
      "/kaggle/input/public_data_test/track_c/test/ukr.csv\n",
      "/kaggle/input/public_data_test/track_c/test/esp.csv\n",
      "/kaggle/input/public_data_test/track_c/test/orm.csv\n",
      "/kaggle/input/public_data_test/track_c/test/vmw.csv\n",
      "/kaggle/input/public_data_test/track_c/test/jav.csv\n",
      "/kaggle/input/public_data_test/track_c/test/tir.csv\n",
      "/kaggle/input/public_data_test/track_c/test/pcm.csv\n",
      "/kaggle/input/public_data_test/track_c/test/rus.csv\n",
      "/kaggle/input/public_data_test/track_c/test/swa.csv\n",
      "/kaggle/input/public_data_test/track_c/test/deu.csv\n",
      "/kaggle/input/public_data_test/track_c/test/ary.csv\n",
      "/kaggle/input/public_data_test/track_c/test/kin.csv\n",
      "/kaggle/input/public_data_test/track_c/test/ptmz.csv\n",
      "/kaggle/input/public_data_test/track_c/dev/ind.csv\n",
      "/kaggle/input/public_data_test/track_c/dev/tat.csv\n",
      "/kaggle/input/public_data_test/track_c/dev/swe.csv\n",
      "/kaggle/input/public_data_test/track_c/dev/afr.csv\n",
      "/kaggle/input/public_data_test/track_c/dev/xho.csv\n",
      "/kaggle/input/public_data_test/track_c/dev/amh.csv\n",
      "/kaggle/input/public_data_test/track_c/dev/ptbr.csv\n",
      "/kaggle/input/public_data_test/track_c/dev/mar.csv\n",
      "/kaggle/input/public_data_test/track_c/dev/eng.csv\n",
      "/kaggle/input/public_data_test/track_c/dev/yor.csv\n",
      "/kaggle/input/public_data_test/track_c/dev/hau.csv\n",
      "/kaggle/input/public_data_test/track_c/dev/som.csv\n",
      "/kaggle/input/public_data_test/track_c/dev/ron.csv\n",
      "/kaggle/input/public_data_test/track_c/dev/zul.csv\n",
      "/kaggle/input/public_data_test/track_c/dev/sun.csv\n",
      "/kaggle/input/public_data_test/track_c/dev/arq.csv\n",
      "/kaggle/input/public_data_test/track_c/dev/hin.csv\n",
      "/kaggle/input/public_data_test/track_c/dev/ibo.csv\n",
      "/kaggle/input/public_data_test/track_c/dev/chn.csv\n",
      "/kaggle/input/public_data_test/track_c/dev/ukr.csv\n",
      "/kaggle/input/public_data_test/track_c/dev/esp.csv\n",
      "/kaggle/input/public_data_test/track_c/dev/orm.csv\n",
      "/kaggle/input/public_data_test/track_c/dev/vmw.csv\n",
      "/kaggle/input/public_data_test/track_c/dev/jav.csv\n",
      "/kaggle/input/public_data_test/track_c/dev/tir.csv\n",
      "/kaggle/input/public_data_test/track_c/dev/pcm.csv\n",
      "/kaggle/input/public_data_test/track_c/dev/rus.csv\n",
      "/kaggle/input/public_data_test/track_c/dev/swa.csv\n",
      "/kaggle/input/public_data_test/track_c/dev/deu.csv\n",
      "/kaggle/input/public_data_test/track_c/dev/ary.csv\n",
      "/kaggle/input/public_data_test/track_c/dev/kin.csv\n",
      "/kaggle/input/public_data_test/track_c/dev/ptmz.csv\n",
      "/kaggle/input/public_data_test/track_b/test/amh.csv\n",
      "/kaggle/input/public_data_test/track_b/test/ptbr.csv\n",
      "/kaggle/input/public_data_test/track_b/test/eng.csv\n",
      "/kaggle/input/public_data_test/track_b/test/hau.csv\n",
      "/kaggle/input/public_data_test/track_b/test/ron.csv\n",
      "/kaggle/input/public_data_test/track_b/test/arq.csv\n",
      "/kaggle/input/public_data_test/track_b/test/chn.csv\n",
      "/kaggle/input/public_data_test/track_b/test/ukr.csv\n",
      "/kaggle/input/public_data_test/track_b/test/esp.csv\n",
      "/kaggle/input/public_data_test/track_b/test/rus.csv\n",
      "/kaggle/input/public_data_test/track_b/test/deu.csv\n",
      "/kaggle/input/public_data_test/track_b/train/amh.csv\n",
      "/kaggle/input/public_data_test/track_b/train/ptbr.csv\n",
      "/kaggle/input/public_data_test/track_b/train/eng.csv\n",
      "/kaggle/input/public_data_test/track_b/train/hau.csv\n",
      "/kaggle/input/public_data_test/track_b/train/ron.csv\n",
      "/kaggle/input/public_data_test/track_b/train/arq.csv\n",
      "/kaggle/input/public_data_test/track_b/train/chn.csv\n",
      "/kaggle/input/public_data_test/track_b/train/ukr.csv\n",
      "/kaggle/input/public_data_test/track_b/train/esp.csv\n",
      "/kaggle/input/public_data_test/track_b/train/rus.csv\n",
      "/kaggle/input/public_data_test/track_b/train/deu.csv\n",
      "/kaggle/input/public_data_test/track_b/dev/amh.csv\n",
      "/kaggle/input/public_data_test/track_b/dev/ptbr.csv\n",
      "/kaggle/input/public_data_test/track_b/dev/eng.csv\n",
      "/kaggle/input/public_data_test/track_b/dev/hau.csv\n",
      "/kaggle/input/public_data_test/track_b/dev/ron.csv\n",
      "/kaggle/input/public_data_test/track_b/dev/arq.csv\n",
      "/kaggle/input/public_data_test/track_b/dev/chn.csv\n",
      "/kaggle/input/public_data_test/track_b/dev/ukr.csv\n",
      "/kaggle/input/public_data_test/track_b/dev/esp.csv\n",
      "/kaggle/input/public_data_test/track_b/dev/rus.csv\n",
      "/kaggle/input/public_data_test/track_b/dev/deu.csv\n",
      "/kaggle/input/public_data_test/track_a/test/tat.csv\n",
      "/kaggle/input/public_data_test/track_a/test/swe.csv\n",
      "/kaggle/input/public_data_test/track_a/test/afr.csv\n",
      "/kaggle/input/public_data_test/track_a/test/amh.csv\n",
      "/kaggle/input/public_data_test/track_a/test/ptbr.csv\n",
      "/kaggle/input/public_data_test/track_a/test/mar.csv\n",
      "/kaggle/input/public_data_test/track_a/test/eng.csv\n",
      "/kaggle/input/public_data_test/track_a/test/yor.csv\n",
      "/kaggle/input/public_data_test/track_a/test/hau.csv\n",
      "/kaggle/input/public_data_test/track_a/test/som.csv\n",
      "/kaggle/input/public_data_test/track_a/test/ron.csv\n",
      "/kaggle/input/public_data_test/track_a/test/sun.csv\n",
      "/kaggle/input/public_data_test/track_a/test/arq.csv\n",
      "/kaggle/input/public_data_test/track_a/test/hin.csv\n",
      "/kaggle/input/public_data_test/track_a/test/ibo.csv\n",
      "/kaggle/input/public_data_test/track_a/test/chn.csv\n",
      "/kaggle/input/public_data_test/track_a/test/ukr.csv\n",
      "/kaggle/input/public_data_test/track_a/test/esp.csv\n",
      "/kaggle/input/public_data_test/track_a/test/orm.csv\n",
      "/kaggle/input/public_data_test/track_a/test/vmw.csv\n",
      "/kaggle/input/public_data_test/track_a/test/tir.csv\n",
      "/kaggle/input/public_data_test/track_a/test/pcm.csv\n",
      "/kaggle/input/public_data_test/track_a/test/rus.csv\n",
      "/kaggle/input/public_data_test/track_a/test/swa.csv\n",
      "/kaggle/input/public_data_test/track_a/test/deu.csv\n",
      "/kaggle/input/public_data_test/track_a/test/ary.csv\n",
      "/kaggle/input/public_data_test/track_a/test/kin.csv\n",
      "/kaggle/input/public_data_test/track_a/test/ptmz.csv\n",
      "/kaggle/input/public_data_test/track_a/train/tat.csv\n",
      "/kaggle/input/public_data_test/track_a/train/swe.csv\n",
      "/kaggle/input/public_data_test/track_a/train/afr.csv\n",
      "/kaggle/input/public_data_test/track_a/train/amh.csv\n",
      "/kaggle/input/public_data_test/track_a/train/ptbr.csv\n",
      "/kaggle/input/public_data_test/track_a/train/mar.csv\n",
      "/kaggle/input/public_data_test/track_a/train/eng.csv\n",
      "/kaggle/input/public_data_test/track_a/train/yor.csv\n",
      "/kaggle/input/public_data_test/track_a/train/hau.csv\n",
      "/kaggle/input/public_data_test/track_a/train/som.csv\n",
      "/kaggle/input/public_data_test/track_a/train/ron.csv\n",
      "/kaggle/input/public_data_test/track_a/train/sun.csv\n",
      "/kaggle/input/public_data_test/track_a/train/arq.csv\n",
      "/kaggle/input/public_data_test/track_a/train/hin.csv\n",
      "/kaggle/input/public_data_test/track_a/train/ibo.csv\n",
      "/kaggle/input/public_data_test/track_a/train/chn.csv\n",
      "/kaggle/input/public_data_test/track_a/train/ukr.csv\n",
      "/kaggle/input/public_data_test/track_a/train/esp.csv\n",
      "/kaggle/input/public_data_test/track_a/train/orm.csv\n",
      "/kaggle/input/public_data_test/track_a/train/vmw.csv\n",
      "/kaggle/input/public_data_test/track_a/train/tir.csv\n",
      "/kaggle/input/public_data_test/track_a/train/pcm.csv\n",
      "/kaggle/input/public_data_test/track_a/train/rus.csv\n",
      "/kaggle/input/public_data_test/track_a/train/swa.csv\n",
      "/kaggle/input/public_data_test/track_a/train/deu.csv\n",
      "/kaggle/input/public_data_test/track_a/train/ary.csv\n",
      "/kaggle/input/public_data_test/track_a/train/kin.csv\n",
      "/kaggle/input/public_data_test/track_a/train/ptmz.csv\n",
      "/kaggle/input/public_data_test/track_a/dev/tat.csv\n",
      "/kaggle/input/public_data_test/track_a/dev/swe.csv\n",
      "/kaggle/input/public_data_test/track_a/dev/afr.csv\n",
      "/kaggle/input/public_data_test/track_a/dev/amh.csv\n",
      "/kaggle/input/public_data_test/track_a/dev/ptbr.csv\n",
      "/kaggle/input/public_data_test/track_a/dev/mar.csv\n",
      "/kaggle/input/public_data_test/track_a/dev/eng.csv\n",
      "/kaggle/input/public_data_test/track_a/dev/yor.csv\n",
      "/kaggle/input/public_data_test/track_a/dev/hau.csv\n",
      "/kaggle/input/public_data_test/track_a/dev/som.csv\n",
      "/kaggle/input/public_data_test/track_a/dev/ron.csv\n",
      "/kaggle/input/public_data_test/track_a/dev/sun.csv\n",
      "/kaggle/input/public_data_test/track_a/dev/arq.csv\n",
      "/kaggle/input/public_data_test/track_a/dev/hin.csv\n",
      "/kaggle/input/public_data_test/track_a/dev/ibo.csv\n",
      "/kaggle/input/public_data_test/track_a/dev/chn.csv\n",
      "/kaggle/input/public_data_test/track_a/dev/ukr.csv\n",
      "/kaggle/input/public_data_test/track_a/dev/esp.csv\n",
      "/kaggle/input/public_data_test/track_a/dev/orm.csv\n",
      "/kaggle/input/public_data_test/track_a/dev/vmw.csv\n",
      "/kaggle/input/public_data_test/track_a/dev/tir.csv\n",
      "/kaggle/input/public_data_test/track_a/dev/pcm.csv\n",
      "/kaggle/input/public_data_test/track_a/dev/rus.csv\n",
      "/kaggle/input/public_data_test/track_a/dev/swa.csv\n",
      "/kaggle/input/public_data_test/track_a/dev/deu.csv\n",
      "/kaggle/input/public_data_test/track_a/dev/ary.csv\n",
      "/kaggle/input/public_data_test/track_a/dev/kin.csv\n",
      "/kaggle/input/public_data_test/track_a/dev/ptmz.csv\n"
     ]
    }
   ],
   "source": [
    "# This Python 3 environment comes with many helpful analytics libraries installed\n",
    "# It is defined by the kaggle/python Docker image: https://github.com/kaggle/docker-python\n",
    "# For example, here's several helpful packages to load\n",
    "\n",
    "import numpy as np # linear algebra\n",
    "import pandas as pd # data processing, CSV file I/O (e.g. pd.read_csv)\n",
    "\n",
    "# Input data files are available in the read-only \"../input/\" directory\n",
    "# For example, running this (by clicking run or pressing Shift+Enter) will list all files under the input directory\n",
    "\n",
    "import os\n",
    "for dirname, _, filenames in os.walk('/kaggle/input'):\n",
    "    for filename in filenames:\n",
    "        print(os.path.join(dirname, filename))\n",
    "\n",
    "# You can write up to 20GB to the current directory (/kaggle/working/) that gets preserved as output when you create a version using \"Save & Run All\" \n",
    "# You can also write temporary files to /kaggle/temp/, but they won't be saved outside of the current session"
   ]
  },
  {
   "cell_type": "markdown",
   "metadata": {},
   "source": [
    "# Install Libraries and Modules"
   ]
  },
  {
   "cell_type": "code",
   "execution_count": 2,
   "metadata": {
    "execution": {
     "iopub.execute_input": "2025-01-19T10:27:07.923329Z",
     "iopub.status.busy": "2025-01-19T10:27:07.922860Z",
     "iopub.status.idle": "2025-01-19T10:27:07.926877Z",
     "shell.execute_reply": "2025-01-19T10:27:07.926003Z",
     "shell.execute_reply.started": "2025-01-19T10:27:07.923297Z"
    },
    "trusted": true
   },
   "outputs": [],
   "source": [
    "import warnings\n",
    "warnings.filterwarnings('ignore') "
   ]
  },
  {
   "cell_type": "code",
   "execution_count": 3,
   "metadata": {
    "execution": {
     "iopub.execute_input": "2025-01-19T10:27:12.322650Z",
     "iopub.status.busy": "2025-01-19T10:27:12.322368Z",
     "iopub.status.idle": "2025-01-19T10:27:45.405700Z",
     "shell.execute_reply": "2025-01-19T10:27:45.404813Z",
     "shell.execute_reply.started": "2025-01-19T10:27:12.322628Z"
    },
    "trusted": true
   },
   "outputs": [
    {
     "name": "stdout",
     "output_type": "stream",
     "text": [
      "Found existing installation: wandb 0.19.1\n",
      "Uninstalling wandb-0.19.1:\n",
      "  Successfully uninstalled wandb-0.19.1\n"
     ]
    }
   ],
   "source": [
    "!pip uninstall -y wandb"
   ]
  },
  {
   "cell_type": "code",
   "execution_count": 4,
   "metadata": {
    "execution": {
     "iopub.execute_input": "2025-01-19T10:28:10.722718Z",
     "iopub.status.busy": "2025-01-19T10:28:10.722417Z",
     "iopub.status.idle": "2025-01-19T10:28:17.574559Z",
     "shell.execute_reply": "2025-01-19T10:28:17.573740Z",
     "shell.execute_reply.started": "2025-01-19T10:28:10.722694Z"
    },
    "trusted": true
   },
   "outputs": [
    {
     "name": "stdout",
     "output_type": "stream",
     "text": [
      "Collecting wandb==0.17.5\n",
      "  Downloading wandb-0.17.5-py3-none-manylinux_2_5_x86_64.manylinux1_x86_64.manylinux_2_17_x86_64.manylinux2014_x86_64.whl.metadata (10 kB)\n",
      "Requirement already satisfied: click!=8.0.0,>=7.1 in /usr/local/lib/python3.10/dist-packages (from wandb==0.17.5) (8.1.7)\n",
      "Requirement already satisfied: docker-pycreds>=0.4.0 in /usr/local/lib/python3.10/dist-packages (from wandb==0.17.5) (0.4.0)\n",
      "Requirement already satisfied: gitpython!=3.1.29,>=1.0.0 in /usr/local/lib/python3.10/dist-packages (from wandb==0.17.5) (3.1.43)\n",
      "Requirement already satisfied: platformdirs in /usr/local/lib/python3.10/dist-packages (from wandb==0.17.5) (4.3.6)\n",
      "Requirement already satisfied: protobuf!=4.21.0,<6,>=3.19.0 in /usr/local/lib/python3.10/dist-packages (from wandb==0.17.5) (3.20.3)\n",
      "Requirement already satisfied: psutil>=5.0.0 in /usr/local/lib/python3.10/dist-packages (from wandb==0.17.5) (5.9.5)\n",
      "Requirement already satisfied: pyyaml in /usr/local/lib/python3.10/dist-packages (from wandb==0.17.5) (6.0.2)\n",
      "Requirement already satisfied: requests<3,>=2.0.0 in /usr/local/lib/python3.10/dist-packages (from wandb==0.17.5) (2.32.3)\n",
      "Requirement already satisfied: sentry-sdk>=1.0.0 in /usr/local/lib/python3.10/dist-packages (from wandb==0.17.5) (2.19.2)\n",
      "Requirement already satisfied: setproctitle in /usr/local/lib/python3.10/dist-packages (from wandb==0.17.5) (1.3.4)\n",
      "Requirement already satisfied: setuptools in /usr/local/lib/python3.10/dist-packages (from wandb==0.17.5) (75.1.0)\n",
      "Requirement already satisfied: six>=1.4.0 in /usr/local/lib/python3.10/dist-packages (from docker-pycreds>=0.4.0->wandb==0.17.5) (1.17.0)\n",
      "Requirement already satisfied: gitdb<5,>=4.0.1 in /usr/local/lib/python3.10/dist-packages (from gitpython!=3.1.29,>=1.0.0->wandb==0.17.5) (4.0.11)\n",
      "Requirement already satisfied: charset-normalizer<4,>=2 in /usr/local/lib/python3.10/dist-packages (from requests<3,>=2.0.0->wandb==0.17.5) (3.4.0)\n",
      "Requirement already satisfied: idna<4,>=2.5 in /usr/local/lib/python3.10/dist-packages (from requests<3,>=2.0.0->wandb==0.17.5) (3.10)\n",
      "Requirement already satisfied: urllib3<3,>=1.21.1 in /usr/local/lib/python3.10/dist-packages (from requests<3,>=2.0.0->wandb==0.17.5) (2.2.3)\n",
      "Requirement already satisfied: certifi>=2017.4.17 in /usr/local/lib/python3.10/dist-packages (from requests<3,>=2.0.0->wandb==0.17.5) (2024.12.14)\n",
      "Requirement already satisfied: smmap<6,>=3.0.1 in /usr/local/lib/python3.10/dist-packages (from gitdb<5,>=4.0.1->gitpython!=3.1.29,>=1.0.0->wandb==0.17.5) (5.0.1)\n",
      "Downloading wandb-0.17.5-py3-none-manylinux_2_5_x86_64.manylinux1_x86_64.manylinux_2_17_x86_64.manylinux2014_x86_64.whl (6.8 MB)\n",
      "\u001b[2K   \u001b[90m━━━━━━━━━━━━━━━━━━━━━━━━━━━━━━━━━━━━━━━━\u001b[0m \u001b[32m6.8/6.8 MB\u001b[0m \u001b[31m52.3 MB/s\u001b[0m eta \u001b[36m0:00:00\u001b[0m00:01\u001b[0m00:01\u001b[0m\n",
      "\u001b[?25hInstalling collected packages: wandb\n",
      "Successfully installed wandb-0.17.5\n"
     ]
    }
   ],
   "source": [
    "!pip install wandb==0.17.5 "
   ]
  },
  {
   "cell_type": "code",
   "execution_count": 5,
   "metadata": {
    "execution": {
     "iopub.execute_input": "2025-01-19T10:28:17.575927Z",
     "iopub.status.busy": "2025-01-19T10:28:17.575712Z",
     "iopub.status.idle": "2025-01-19T10:28:18.673463Z",
     "shell.execute_reply": "2025-01-19T10:28:18.672780Z",
     "shell.execute_reply.started": "2025-01-19T10:28:17.575907Z"
    },
    "trusted": true
   },
   "outputs": [],
   "source": [
    "import wandb"
   ]
  },
  {
   "cell_type": "code",
   "execution_count": 6,
   "metadata": {
    "execution": {
     "iopub.execute_input": "2025-01-19T10:28:18.674801Z",
     "iopub.status.busy": "2025-01-19T10:28:18.674573Z",
     "iopub.status.idle": "2025-01-19T10:28:20.583963Z",
     "shell.execute_reply": "2025-01-19T10:28:20.583002Z",
     "shell.execute_reply.started": "2025-01-19T10:28:18.674780Z"
    },
    "trusted": true
   },
   "outputs": [
    {
     "name": "stdout",
     "output_type": "stream",
     "text": [
      "W&B offline. Running your script from this directory will only write metadata locally. Use wandb disabled to completely turn off W&B.\n",
      "W&B disabled.\n"
     ]
    }
   ],
   "source": [
    "!wandb offline\n",
    "!wandb disabled"
   ]
  },
  {
   "cell_type": "code",
   "execution_count": 7,
   "metadata": {
    "execution": {
     "iopub.execute_input": "2025-01-19T10:28:22.227517Z",
     "iopub.status.busy": "2025-01-19T10:28:22.227204Z",
     "iopub.status.idle": "2025-01-19T10:28:22.231462Z",
     "shell.execute_reply": "2025-01-19T10:28:22.230795Z",
     "shell.execute_reply.started": "2025-01-19T10:28:22.227491Z"
    },
    "trusted": true
   },
   "outputs": [],
   "source": [
    "import os\n",
    "os.environ[\"WANDB_DISABLED\"] = \"true\""
   ]
  },
  {
   "cell_type": "code",
   "execution_count": 8,
   "metadata": {
    "execution": {
     "iopub.execute_input": "2025-01-19T10:28:24.148513Z",
     "iopub.status.busy": "2025-01-19T10:28:24.148226Z",
     "iopub.status.idle": "2025-01-19T10:28:27.916659Z",
     "shell.execute_reply": "2025-01-19T10:28:27.915832Z",
     "shell.execute_reply.started": "2025-01-19T10:28:24.148487Z"
    },
    "trusted": true
   },
   "outputs": [
    {
     "name": "stdout",
     "output_type": "stream",
     "text": [
      "Requirement already satisfied: datasets in /usr/local/lib/python3.10/dist-packages (3.2.0)\n",
      "Requirement already satisfied: transformers in /usr/local/lib/python3.10/dist-packages (4.47.0)\n",
      "Collecting evaluate\n",
      "  Downloading evaluate-0.4.3-py3-none-any.whl.metadata (9.2 kB)\n",
      "Requirement already satisfied: sentencepiece in /usr/local/lib/python3.10/dist-packages (0.2.0)\n",
      "Requirement already satisfied: accelerate in /usr/local/lib/python3.10/dist-packages (1.2.1)\n",
      "Requirement already satisfied: filelock in /usr/local/lib/python3.10/dist-packages (from datasets) (3.16.1)\n",
      "Requirement already satisfied: numpy>=1.17 in /usr/local/lib/python3.10/dist-packages (from datasets) (1.26.4)\n",
      "Requirement already satisfied: pyarrow>=15.0.0 in /usr/local/lib/python3.10/dist-packages (from datasets) (17.0.0)\n",
      "Requirement already satisfied: dill<0.3.9,>=0.3.0 in /usr/local/lib/python3.10/dist-packages (from datasets) (0.3.8)\n",
      "Requirement already satisfied: pandas in /usr/local/lib/python3.10/dist-packages (from datasets) (2.2.2)\n",
      "Requirement already satisfied: requests>=2.32.2 in /usr/local/lib/python3.10/dist-packages (from datasets) (2.32.3)\n",
      "Requirement already satisfied: tqdm>=4.66.3 in /usr/local/lib/python3.10/dist-packages (from datasets) (4.67.1)\n",
      "Requirement already satisfied: xxhash in /usr/local/lib/python3.10/dist-packages (from datasets) (3.5.0)\n",
      "Requirement already satisfied: multiprocess<0.70.17 in /usr/local/lib/python3.10/dist-packages (from datasets) (0.70.16)\n",
      "Requirement already satisfied: fsspec<=2024.9.0,>=2023.1.0 in /usr/local/lib/python3.10/dist-packages (from fsspec[http]<=2024.9.0,>=2023.1.0->datasets) (2024.9.0)\n",
      "Requirement already satisfied: aiohttp in /usr/local/lib/python3.10/dist-packages (from datasets) (3.11.10)\n",
      "Requirement already satisfied: huggingface-hub>=0.23.0 in /usr/local/lib/python3.10/dist-packages (from datasets) (0.27.0)\n",
      "Requirement already satisfied: packaging in /usr/local/lib/python3.10/dist-packages (from datasets) (24.2)\n",
      "Requirement already satisfied: pyyaml>=5.1 in /usr/local/lib/python3.10/dist-packages (from datasets) (6.0.2)\n",
      "Requirement already satisfied: regex!=2019.12.17 in /usr/local/lib/python3.10/dist-packages (from transformers) (2024.11.6)\n",
      "Requirement already satisfied: tokenizers<0.22,>=0.21 in /usr/local/lib/python3.10/dist-packages (from transformers) (0.21.0)\n",
      "Requirement already satisfied: safetensors>=0.4.1 in /usr/local/lib/python3.10/dist-packages (from transformers) (0.4.5)\n",
      "Requirement already satisfied: psutil in /usr/local/lib/python3.10/dist-packages (from accelerate) (5.9.5)\n",
      "Requirement already satisfied: torch>=1.10.0 in /usr/local/lib/python3.10/dist-packages (from accelerate) (2.5.1+cu121)\n",
      "Requirement already satisfied: aiohappyeyeballs>=2.3.0 in /usr/local/lib/python3.10/dist-packages (from aiohttp->datasets) (2.4.4)\n",
      "Requirement already satisfied: aiosignal>=1.1.2 in /usr/local/lib/python3.10/dist-packages (from aiohttp->datasets) (1.3.2)\n",
      "Requirement already satisfied: async-timeout<6.0,>=4.0 in /usr/local/lib/python3.10/dist-packages (from aiohttp->datasets) (4.0.3)\n",
      "Requirement already satisfied: attrs>=17.3.0 in /usr/local/lib/python3.10/dist-packages (from aiohttp->datasets) (24.3.0)\n",
      "Requirement already satisfied: frozenlist>=1.1.1 in /usr/local/lib/python3.10/dist-packages (from aiohttp->datasets) (1.5.0)\n",
      "Requirement already satisfied: multidict<7.0,>=4.5 in /usr/local/lib/python3.10/dist-packages (from aiohttp->datasets) (6.1.0)\n",
      "Requirement already satisfied: propcache>=0.2.0 in /usr/local/lib/python3.10/dist-packages (from aiohttp->datasets) (0.2.1)\n",
      "Requirement already satisfied: yarl<2.0,>=1.17.0 in /usr/local/lib/python3.10/dist-packages (from aiohttp->datasets) (1.18.3)\n",
      "Requirement already satisfied: typing-extensions>=3.7.4.3 in /usr/local/lib/python3.10/dist-packages (from huggingface-hub>=0.23.0->datasets) (4.12.2)\n",
      "Requirement already satisfied: mkl_fft in /usr/local/lib/python3.10/dist-packages (from numpy>=1.17->datasets) (1.3.8)\n",
      "Requirement already satisfied: mkl_random in /usr/local/lib/python3.10/dist-packages (from numpy>=1.17->datasets) (1.2.4)\n",
      "Requirement already satisfied: mkl_umath in /usr/local/lib/python3.10/dist-packages (from numpy>=1.17->datasets) (0.1.1)\n",
      "Requirement already satisfied: mkl in /usr/local/lib/python3.10/dist-packages (from numpy>=1.17->datasets) (2025.0.1)\n",
      "Requirement already satisfied: tbb4py in /usr/local/lib/python3.10/dist-packages (from numpy>=1.17->datasets) (2022.0.0)\n",
      "Requirement already satisfied: mkl-service in /usr/local/lib/python3.10/dist-packages (from numpy>=1.17->datasets) (2.4.1)\n",
      "Requirement already satisfied: charset-normalizer<4,>=2 in /usr/local/lib/python3.10/dist-packages (from requests>=2.32.2->datasets) (3.4.0)\n",
      "Requirement already satisfied: idna<4,>=2.5 in /usr/local/lib/python3.10/dist-packages (from requests>=2.32.2->datasets) (3.10)\n",
      "Requirement already satisfied: urllib3<3,>=1.21.1 in /usr/local/lib/python3.10/dist-packages (from requests>=2.32.2->datasets) (2.2.3)\n",
      "Requirement already satisfied: certifi>=2017.4.17 in /usr/local/lib/python3.10/dist-packages (from requests>=2.32.2->datasets) (2024.12.14)\n",
      "Requirement already satisfied: networkx in /usr/local/lib/python3.10/dist-packages (from torch>=1.10.0->accelerate) (3.4.2)\n",
      "Requirement already satisfied: jinja2 in /usr/local/lib/python3.10/dist-packages (from torch>=1.10.0->accelerate) (3.1.4)\n",
      "Requirement already satisfied: sympy==1.13.1 in /usr/local/lib/python3.10/dist-packages (from torch>=1.10.0->accelerate) (1.13.1)\n",
      "Requirement already satisfied: mpmath<1.4,>=1.1.0 in /usr/local/lib/python3.10/dist-packages (from sympy==1.13.1->torch>=1.10.0->accelerate) (1.3.0)\n",
      "Requirement already satisfied: python-dateutil>=2.8.2 in /usr/local/lib/python3.10/dist-packages (from pandas->datasets) (2.8.2)\n",
      "Requirement already satisfied: pytz>=2020.1 in /usr/local/lib/python3.10/dist-packages (from pandas->datasets) (2024.2)\n",
      "Requirement already satisfied: tzdata>=2022.7 in /usr/local/lib/python3.10/dist-packages (from pandas->datasets) (2024.2)\n",
      "Requirement already satisfied: six>=1.5 in /usr/local/lib/python3.10/dist-packages (from python-dateutil>=2.8.2->pandas->datasets) (1.17.0)\n",
      "Requirement already satisfied: MarkupSafe>=2.0 in /usr/local/lib/python3.10/dist-packages (from jinja2->torch>=1.10.0->accelerate) (3.0.2)\n",
      "Requirement already satisfied: intel-openmp>=2024 in /usr/local/lib/python3.10/dist-packages (from mkl->numpy>=1.17->datasets) (2024.2.0)\n",
      "Requirement already satisfied: tbb==2022.* in /usr/local/lib/python3.10/dist-packages (from mkl->numpy>=1.17->datasets) (2022.0.0)\n",
      "Requirement already satisfied: tcmlib==1.* in /usr/local/lib/python3.10/dist-packages (from tbb==2022.*->mkl->numpy>=1.17->datasets) (1.2.0)\n",
      "Requirement already satisfied: intel-cmplr-lib-rt in /usr/local/lib/python3.10/dist-packages (from mkl_umath->numpy>=1.17->datasets) (2024.2.0)\n",
      "Requirement already satisfied: intel-cmplr-lib-ur==2024.2.0 in /usr/local/lib/python3.10/dist-packages (from intel-openmp>=2024->mkl->numpy>=1.17->datasets) (2024.2.0)\n",
      "Downloading evaluate-0.4.3-py3-none-any.whl (84 kB)\n",
      "\u001b[2K   \u001b[90m━━━━━━━━━━━━━━━━━━━━━━━━━━━━━━━━━━━━━━━━\u001b[0m \u001b[32m84.0/84.0 kB\u001b[0m \u001b[31m2.4 MB/s\u001b[0m eta \u001b[36m0:00:00\u001b[0m\n",
      "\u001b[?25hInstalling collected packages: evaluate\n",
      "Successfully installed evaluate-0.4.3\n"
     ]
    }
   ],
   "source": [
    "!pip install datasets transformers evaluate sentencepiece accelerate"
   ]
  },
  {
   "cell_type": "code",
   "execution_count": 9,
   "metadata": {
    "execution": {
     "iopub.execute_input": "2025-01-19T10:28:31.527578Z",
     "iopub.status.busy": "2025-01-19T10:28:31.527285Z",
     "iopub.status.idle": "2025-01-19T10:29:02.436426Z",
     "shell.execute_reply": "2025-01-19T10:29:02.435507Z",
     "shell.execute_reply.started": "2025-01-19T10:28:31.527554Z"
    },
    "trusted": true
   },
   "outputs": [],
   "source": [
    "import matplotlib.pyplot as plt\n",
    "import seaborn as sns\n",
    "\n",
    "from datasets import Dataset\n",
    "from transformers import AutoTokenizer\n",
    "from transformers import AutoModelForSequenceClassification\n",
    "from transformers import TrainingArguments, Trainer\n",
    "\n",
    "import torch\n",
    "from sklearn.metrics import roc_auc_score\n",
    "from sklearn.metrics import roc_curve, auc\n",
    "from sklearn.metrics import confusion_matrix, ConfusionMatrixDisplay\n",
    "from sklearn.metrics import precision_recall_fscore_support, accuracy_score"
   ]
  },
  {
   "cell_type": "code",
   "execution_count": 10,
   "metadata": {
    "execution": {
     "iopub.execute_input": "2025-01-19T10:29:02.438277Z",
     "iopub.status.busy": "2025-01-19T10:29:02.437622Z",
     "iopub.status.idle": "2025-01-19T10:29:02.590175Z",
     "shell.execute_reply": "2025-01-19T10:29:02.589143Z",
     "shell.execute_reply.started": "2025-01-19T10:29:02.438248Z"
    },
    "trusted": true
   },
   "outputs": [],
   "source": [
    "train_arq = pd.read_csv(\"/kaggle/input/public_data_test/track_a/train/arq.csv\")\n",
    "train_hin = pd.read_csv(\"/kaggle/input/public_data_test/track_a/train/hin.csv\")\n",
    "train_swe = pd.read_csv(\"/kaggle/input/public_data_test/track_a/train/swe.csv\")\n",
    "\n",
    "\n",
    "dev_arq = pd.read_csv(\"/kaggle/input/public_data_test/track_a/dev/arq.csv\")\n",
    "dev_hin = pd.read_csv(\"/kaggle/input/public_data_test/track_a/dev/hin.csv\")\n",
    "dev_swe = pd.read_csv(\"/kaggle/input/public_data_test/track_a/dev/swe.csv\")\n",
    "\n",
    "\n",
    "test_arq = pd.read_csv(\"/kaggle/input/public_data_test/track_a/test/arq.csv\")\n",
    "test_hin = pd.read_csv(\"/kaggle/input/public_data_test/track_a/test/hin.csv\")\n",
    "test_swe = pd.read_csv(\"/kaggle/input/public_data_test/track_a/test/swe.csv\")"
   ]
  },
  {
   "cell_type": "markdown",
   "metadata": {},
   "source": [
    "# ALGERIAN ARABIC"
   ]
  },
  {
   "cell_type": "markdown",
   "metadata": {},
   "source": [
    "## Sources:\n",
    "- https://huggingface.co/cardiffnlp/twitter-xlm-roberta-base-sentiment\n",
    "- https://huggingface.co/alger-ia\n",
    "- https://huggingface.co/aubmindlab\n",
    "- https://huggingface.co/Abdou"
   ]
  },
  {
   "cell_type": "code",
   "execution_count": 12,
   "metadata": {
    "execution": {
     "iopub.execute_input": "2025-01-19T10:14:19.521813Z",
     "iopub.status.busy": "2025-01-19T10:14:19.521476Z",
     "iopub.status.idle": "2025-01-19T10:14:19.542434Z",
     "shell.execute_reply": "2025-01-19T10:14:19.541716Z",
     "shell.execute_reply.started": "2025-01-19T10:14:19.521785Z"
    },
    "trusted": true
   },
   "outputs": [
    {
     "data": {
      "text/html": [
       "<div>\n",
       "<style scoped>\n",
       "    .dataframe tbody tr th:only-of-type {\n",
       "        vertical-align: middle;\n",
       "    }\n",
       "\n",
       "    .dataframe tbody tr th {\n",
       "        vertical-align: top;\n",
       "    }\n",
       "\n",
       "    .dataframe thead th {\n",
       "        text-align: right;\n",
       "    }\n",
       "</style>\n",
       "<table border=\"1\" class=\"dataframe\">\n",
       "  <thead>\n",
       "    <tr style=\"text-align: right;\">\n",
       "      <th></th>\n",
       "      <th>id</th>\n",
       "      <th>text</th>\n",
       "      <th>anger</th>\n",
       "      <th>disgust</th>\n",
       "      <th>fear</th>\n",
       "      <th>joy</th>\n",
       "      <th>sadness</th>\n",
       "      <th>surprise</th>\n",
       "    </tr>\n",
       "  </thead>\n",
       "  <tbody>\n",
       "    <tr>\n",
       "      <th>0</th>\n",
       "      <td>arq_train_track_a_00001</td>\n",
       "      <td>عيني: عمر! رد بالك، تطلب السماح. ارواح هنا خير...</td>\n",
       "      <td>1</td>\n",
       "      <td>0</td>\n",
       "      <td>0</td>\n",
       "      <td>0</td>\n",
       "      <td>0</td>\n",
       "      <td>0</td>\n",
       "    </tr>\n",
       "    <tr>\n",
       "      <th>1</th>\n",
       "      <td>arq_train_track_a_00002</td>\n",
       "      <td>عيني:\"هو درّق وجهه تحت التراب و الهم طاح عليا!\"</td>\n",
       "      <td>1</td>\n",
       "      <td>0</td>\n",
       "      <td>0</td>\n",
       "      <td>0</td>\n",
       "      <td>1</td>\n",
       "      <td>0</td>\n",
       "    </tr>\n",
       "    <tr>\n",
       "      <th>2</th>\n",
       "      <td>arq_train_track_a_00003</td>\n",
       "      <td>الراوي: في السحين طلعت الشمس و ريحة القهوة كان...</td>\n",
       "      <td>0</td>\n",
       "      <td>0</td>\n",
       "      <td>0</td>\n",
       "      <td>1</td>\n",
       "      <td>0</td>\n",
       "      <td>1</td>\n",
       "    </tr>\n",
       "    <tr>\n",
       "      <th>3</th>\n",
       "      <td>arq_train_track_a_00004</td>\n",
       "      <td>عيني: أنا يا عجوزة الڨاراڨوز؟ أنا نحسدك؟ أنا!؟</td>\n",
       "      <td>1</td>\n",
       "      <td>1</td>\n",
       "      <td>0</td>\n",
       "      <td>0</td>\n",
       "      <td>0</td>\n",
       "      <td>1</td>\n",
       "    </tr>\n",
       "    <tr>\n",
       "      <th>4</th>\n",
       "      <td>arq_train_track_a_00005</td>\n",
       "      <td>الراوي: كان حاس النجوم يشوفوا فيه و كلّ مرّة ن...</td>\n",
       "      <td>0</td>\n",
       "      <td>0</td>\n",
       "      <td>1</td>\n",
       "      <td>0</td>\n",
       "      <td>0</td>\n",
       "      <td>1</td>\n",
       "    </tr>\n",
       "  </tbody>\n",
       "</table>\n",
       "</div>"
      ],
      "text/plain": [
       "                        id                                               text  \\\n",
       "0  arq_train_track_a_00001  عيني: عمر! رد بالك، تطلب السماح. ارواح هنا خير...   \n",
       "1  arq_train_track_a_00002    عيني:\"هو درّق وجهه تحت التراب و الهم طاح عليا!\"   \n",
       "2  arq_train_track_a_00003  الراوي: في السحين طلعت الشمس و ريحة القهوة كان...   \n",
       "3  arq_train_track_a_00004     عيني: أنا يا عجوزة الڨاراڨوز؟ أنا نحسدك؟ أنا!؟   \n",
       "4  arq_train_track_a_00005  الراوي: كان حاس النجوم يشوفوا فيه و كلّ مرّة ن...   \n",
       "\n",
       "   anger  disgust  fear  joy  sadness  surprise  \n",
       "0      1        0     0    0        0         0  \n",
       "1      1        0     0    0        1         0  \n",
       "2      0        0     0    1        0         1  \n",
       "3      1        1     0    0        0         1  \n",
       "4      0        0     1    0        0         1  "
      ]
     },
     "execution_count": 12,
     "metadata": {},
     "output_type": "execute_result"
    }
   ],
   "source": [
    "train_arq.head()"
   ]
  },
  {
   "cell_type": "code",
   "execution_count": 13,
   "metadata": {
    "execution": {
     "iopub.execute_input": "2025-01-19T10:14:28.320976Z",
     "iopub.status.busy": "2025-01-19T10:14:28.320670Z",
     "iopub.status.idle": "2025-01-19T10:14:28.342457Z",
     "shell.execute_reply": "2025-01-19T10:14:28.341775Z",
     "shell.execute_reply.started": "2025-01-19T10:14:28.320952Z"
    },
    "trusted": true
   },
   "outputs": [
    {
     "name": "stdout",
     "output_type": "stream",
     "text": [
      "<class 'pandas.core.frame.DataFrame'>\n",
      "RangeIndex: 901 entries, 0 to 900\n",
      "Data columns (total 8 columns):\n",
      " #   Column    Non-Null Count  Dtype \n",
      "---  ------    --------------  ----- \n",
      " 0   id        901 non-null    object\n",
      " 1   text      901 non-null    object\n",
      " 2   anger     901 non-null    int64 \n",
      " 3   disgust   901 non-null    int64 \n",
      " 4   fear      901 non-null    int64 \n",
      " 5   joy       901 non-null    int64 \n",
      " 6   sadness   901 non-null    int64 \n",
      " 7   surprise  901 non-null    int64 \n",
      "dtypes: int64(6), object(2)\n",
      "memory usage: 56.4+ KB\n"
     ]
    }
   ],
   "source": [
    "train_arq.info()"
   ]
  },
  {
   "cell_type": "code",
   "execution_count": 14,
   "metadata": {
    "execution": {
     "iopub.execute_input": "2025-01-19T10:14:36.574345Z",
     "iopub.status.busy": "2025-01-19T10:14:36.574064Z",
     "iopub.status.idle": "2025-01-19T10:14:36.583118Z",
     "shell.execute_reply": "2025-01-19T10:14:36.582202Z",
     "shell.execute_reply.started": "2025-01-19T10:14:36.574324Z"
    },
    "trusted": true
   },
   "outputs": [
    {
     "name": "stdout",
     "output_type": "stream",
     "text": [
      "<class 'pandas.core.frame.DataFrame'>\n",
      "RangeIndex: 100 entries, 0 to 99\n",
      "Data columns (total 8 columns):\n",
      " #   Column    Non-Null Count  Dtype \n",
      "---  ------    --------------  ----- \n",
      " 0   id        100 non-null    object\n",
      " 1   text      100 non-null    object\n",
      " 2   anger     100 non-null    int64 \n",
      " 3   disgust   100 non-null    int64 \n",
      " 4   fear      100 non-null    int64 \n",
      " 5   joy       100 non-null    int64 \n",
      " 6   sadness   100 non-null    int64 \n",
      " 7   surprise  100 non-null    int64 \n",
      "dtypes: int64(6), object(2)\n",
      "memory usage: 6.4+ KB\n"
     ]
    }
   ],
   "source": [
    "dev_arq.info()"
   ]
  },
  {
   "cell_type": "code",
   "execution_count": 16,
   "metadata": {
    "execution": {
     "iopub.execute_input": "2025-01-19T10:15:20.521755Z",
     "iopub.status.busy": "2025-01-19T10:15:20.521462Z",
     "iopub.status.idle": "2025-01-19T10:15:20.673433Z",
     "shell.execute_reply": "2025-01-19T10:15:20.672732Z",
     "shell.execute_reply.started": "2025-01-19T10:15:20.521731Z"
    },
    "trusted": true
   },
   "outputs": [
    {
     "data": {
      "text/plain": [
       "<Axes: >"
      ]
     },
     "execution_count": 16,
     "metadata": {},
     "output_type": "execute_result"
    },
    {
     "data": {
      "image/png": "[encoded data removed]",
      "text/plain": [
       "<Figure size 640x480 with 1 Axes>"
      ]
     },
     "metadata": {},
     "output_type": "display_data"
    }
   ],
   "source": [
    "attributes = ['anger', 'fear', 'joy', 'sadness', 'disgust', 'surprise']\n",
    "train_arq[attributes].sum().plot.bar()"
   ]
  },
  {
   "cell_type": "code",
   "execution_count": 17,
   "metadata": {
    "execution": {
     "iopub.execute_input": "2025-01-19T10:15:28.419241Z",
     "iopub.status.busy": "2025-01-19T10:15:28.418930Z",
     "iopub.status.idle": "2025-01-19T10:15:28.582312Z",
     "shell.execute_reply": "2025-01-19T10:15:28.581630Z",
     "shell.execute_reply.started": "2025-01-19T10:15:28.419215Z"
    },
    "trusted": true
   },
   "outputs": [
    {
     "data": {
      "text/plain": [
       "<Axes: >"
      ]
     },
     "execution_count": 17,
     "metadata": {},
     "output_type": "execute_result"
    },
    {
     "data": {
      "image/png": "[encoded data removed]",
      "text/plain": [
       "<Figure size 640x480 with 1 Axes>"
      ]
     },
     "metadata": {},
     "output_type": "display_data"
    }
   ],
   "source": [
    "dev_arq[attributes].sum().plot.bar()"
   ]
  },
  {
   "cell_type": "code",
   "execution_count": 18,
   "metadata": {
    "execution": {
     "iopub.execute_input": "2025-01-19T10:15:38.546015Z",
     "iopub.status.busy": "2025-01-19T10:15:38.545650Z",
     "iopub.status.idle": "2025-01-19T10:15:38.554934Z",
     "shell.execute_reply": "2025-01-19T10:15:38.554037Z",
     "shell.execute_reply.started": "2025-01-19T10:15:38.545984Z"
    },
    "trusted": true
   },
   "outputs": [
    {
     "name": "stdout",
     "output_type": "stream",
     "text": [
      "<class 'pandas.core.frame.DataFrame'>\n",
      "RangeIndex: 902 entries, 0 to 901\n",
      "Data columns (total 8 columns):\n",
      " #   Column    Non-Null Count  Dtype  \n",
      "---  ------    --------------  -----  \n",
      " 0   id        902 non-null    object \n",
      " 1   text      902 non-null    object \n",
      " 2   anger     0 non-null      float64\n",
      " 3   disgust   0 non-null      float64\n",
      " 4   fear      0 non-null      float64\n",
      " 5   joy       0 non-null      float64\n",
      " 6   sadness   0 non-null      float64\n",
      " 7   surprise  0 non-null      float64\n",
      "dtypes: float64(6), object(2)\n",
      "memory usage: 56.5+ KB\n"
     ]
    }
   ],
   "source": [
    "test_arq.info()"
   ]
  },
  {
   "cell_type": "code",
   "execution_count": 19,
   "metadata": {
    "execution": {
     "iopub.execute_input": "2025-01-19T10:15:44.481163Z",
     "iopub.status.busy": "2025-01-19T10:15:44.480861Z",
     "iopub.status.idle": "2025-01-19T10:15:44.493386Z",
     "shell.execute_reply": "2025-01-19T10:15:44.492531Z",
     "shell.execute_reply.started": "2025-01-19T10:15:44.481141Z"
    },
    "trusted": true
   },
   "outputs": [
    {
     "data": {
      "text/html": [
       "<div>\n",
       "<style scoped>\n",
       "    .dataframe tbody tr th:only-of-type {\n",
       "        vertical-align: middle;\n",
       "    }\n",
       "\n",
       "    .dataframe tbody tr th {\n",
       "        vertical-align: top;\n",
       "    }\n",
       "\n",
       "    .dataframe thead th {\n",
       "        text-align: right;\n",
       "    }\n",
       "</style>\n",
       "<table border=\"1\" class=\"dataframe\">\n",
       "  <thead>\n",
       "    <tr style=\"text-align: right;\">\n",
       "      <th></th>\n",
       "      <th>id</th>\n",
       "      <th>text</th>\n",
       "      <th>anger</th>\n",
       "      <th>disgust</th>\n",
       "      <th>fear</th>\n",
       "      <th>joy</th>\n",
       "      <th>sadness</th>\n",
       "      <th>surprise</th>\n",
       "    </tr>\n",
       "  </thead>\n",
       "  <tbody>\n",
       "    <tr>\n",
       "      <th>0</th>\n",
       "      <td>arq_test_track_a_00001</td>\n",
       "      <td>الراوي: كانت تدي حفنة لوبيا يابسة، تزربع الحبا...</td>\n",
       "      <td>NaN</td>\n",
       "      <td>NaN</td>\n",
       "      <td>NaN</td>\n",
       "      <td>NaN</td>\n",
       "      <td>NaN</td>\n",
       "      <td>NaN</td>\n",
       "    </tr>\n",
       "    <tr>\n",
       "      <th>1</th>\n",
       "      <td>arq_test_track_a_00002</td>\n",
       "      <td>بصّح عمر خمم: يمّاه زعمة تقدر تهرب للدّيوانة؟</td>\n",
       "      <td>NaN</td>\n",
       "      <td>NaN</td>\n",
       "      <td>NaN</td>\n",
       "      <td>NaN</td>\n",
       "      <td>NaN</td>\n",
       "      <td>NaN</td>\n",
       "    </tr>\n",
       "    <tr>\n",
       "      <th>2</th>\n",
       "      <td>arq_test_track_a_00003</td>\n",
       "      <td>امالا كان لازم على عمر يكدب و يكمل: \"النار شاع...</td>\n",
       "      <td>NaN</td>\n",
       "      <td>NaN</td>\n",
       "      <td>NaN</td>\n",
       "      <td>NaN</td>\n",
       "      <td>NaN</td>\n",
       "      <td>NaN</td>\n",
       "    </tr>\n",
       "    <tr>\n",
       "      <th>3</th>\n",
       "      <td>arq_test_track_a_00004</td>\n",
       "      <td>الراوي: الحالة كانت مهوّلة اليوم، وعلاه كان ال...</td>\n",
       "      <td>NaN</td>\n",
       "      <td>NaN</td>\n",
       "      <td>NaN</td>\n",
       "      <td>NaN</td>\n",
       "      <td>NaN</td>\n",
       "      <td>NaN</td>\n",
       "    </tr>\n",
       "    <tr>\n",
       "      <th>4</th>\n",
       "      <td>arq_test_track_a_00005</td>\n",
       "      <td>الراوي: و كان هاذ الشي محيّر الناس لا خاطرش كا...</td>\n",
       "      <td>NaN</td>\n",
       "      <td>NaN</td>\n",
       "      <td>NaN</td>\n",
       "      <td>NaN</td>\n",
       "      <td>NaN</td>\n",
       "      <td>NaN</td>\n",
       "    </tr>\n",
       "  </tbody>\n",
       "</table>\n",
       "</div>"
      ],
      "text/plain": [
       "                       id                                               text  \\\n",
       "0  arq_test_track_a_00001  الراوي: كانت تدي حفنة لوبيا يابسة، تزربع الحبا...   \n",
       "1  arq_test_track_a_00002      بصّح عمر خمم: يمّاه زعمة تقدر تهرب للدّيوانة؟   \n",
       "2  arq_test_track_a_00003  امالا كان لازم على عمر يكدب و يكمل: \"النار شاع...   \n",
       "3  arq_test_track_a_00004  الراوي: الحالة كانت مهوّلة اليوم، وعلاه كان ال...   \n",
       "4  arq_test_track_a_00005  الراوي: و كان هاذ الشي محيّر الناس لا خاطرش كا...   \n",
       "\n",
       "   anger  disgust  fear  joy  sadness  surprise  \n",
       "0    NaN      NaN   NaN  NaN      NaN       NaN  \n",
       "1    NaN      NaN   NaN  NaN      NaN       NaN  \n",
       "2    NaN      NaN   NaN  NaN      NaN       NaN  \n",
       "3    NaN      NaN   NaN  NaN      NaN       NaN  \n",
       "4    NaN      NaN   NaN  NaN      NaN       NaN  "
      ]
     },
     "execution_count": 19,
     "metadata": {},
     "output_type": "execute_result"
    }
   ],
   "source": [
    "test_arq.head()"
   ]
  },
  {
   "cell_type": "code",
   "execution_count": 11,
   "metadata": {
    "execution": {
     "iopub.execute_input": "2025-01-19T10:29:02.592225Z",
     "iopub.status.busy": "2025-01-19T10:29:02.591857Z",
     "iopub.status.idle": "2025-01-19T10:29:02.595743Z",
     "shell.execute_reply": "2025-01-19T10:29:02.595021Z",
     "shell.execute_reply.started": "2025-01-19T10:29:02.592190Z"
    },
    "trusted": true
   },
   "outputs": [],
   "source": [
    "emotion_labels = [\"anger\", \"disgust\", \"fear\", \"joy\", \"sadness\", \"surprise\"]"
   ]
  },
  {
   "cell_type": "code",
   "execution_count": null,
   "metadata": {
    "execution": {
     "iopub.execute_input": "2025-01-19T10:29:02.597015Z",
     "iopub.status.busy": "2025-01-19T10:29:02.596731Z",
     "iopub.status.idle": "2025-01-19T10:29:12.155917Z",
     "shell.execute_reply": "2025-01-19T10:29:12.155185Z",
     "shell.execute_reply.started": "2025-01-19T10:29:02.596986Z"
    },
    "trusted": true
   },
   "outputs": [
    {
     "data": {
      "application/vnd.jupyter.widget-view+json": {
       "model_id": "29f85b1969fb4b2db3f9acb6a01d0ad8",
       "version_major": 2,
       "version_minor": 0
      },
      "text/plain": [
       "tokenizer_config.json:   0%|          | 0.00/350 [00:00<?, ?B/s]"
      ]
     },
     "metadata": {},
     "output_type": "display_data"
    },
    {
     "data": {
      "application/vnd.jupyter.widget-view+json": {
       "model_id": "a48d81bb0ce74bf894aa1bbaaaba9f7a",
       "version_major": 2,
       "version_minor": 0
      },
      "text/plain": [
       "config.json:   0%|          | 0.00/810 [00:00<?, ?B/s]"
      ]
     },
     "metadata": {},
     "output_type": "display_data"
    },
    {
     "data": {
      "application/vnd.jupyter.widget-view+json": {
       "model_id": "4139bd6f871542f5b37a2321ae30d49d",
       "version_major": 2,
       "version_minor": 0
      },
      "text/plain": [
       "vocab.txt:   0%|          | 0.00/446k [00:00<?, ?B/s]"
      ]
     },
     "metadata": {},
     "output_type": "display_data"
    },
    {
     "data": {
      "application/vnd.jupyter.widget-view+json": {
       "model_id": "d9c9135c5b6940f08a858873dfe8d968",
       "version_major": 2,
       "version_minor": 0
      },
      "text/plain": [
       "special_tokens_map.json:   0%|          | 0.00/112 [00:00<?, ?B/s]"
      ]
     },
     "metadata": {},
     "output_type": "display_data"
    },
    {
     "data": {
      "application/vnd.jupyter.widget-view+json": {
       "model_id": "ee0dc5ae7e9141899d7d0705b6216f6a",
       "version_major": 2,
       "version_minor": 0
      },
      "text/plain": [
       "model.safetensors:   0%|          | 0.00/498M [00:00<?, ?B/s]"
      ]
     },
     "metadata": {},
     "output_type": "display_data"
    },
    {
     "name": "stderr",
     "output_type": "stream",
     "text": [
      "Some weights of BertForSequenceClassification were not initialized from the model checkpoint at alger-ia/dziribert_sentiment and are newly initialized because the shapes did not match:\n",
      "- classifier.bias: found shape torch.Size([3]) in the checkpoint and torch.Size([6]) in the model instantiated\n",
      "- classifier.weight: found shape torch.Size([3, 768]) in the checkpoint and torch.Size([6, 768]) in the model instantiated\n",
      "You should probably TRAIN this model on a down-stream task to be able to use it for predictions and inference.\n"
     ]
    }
   ],
   "source": [
    "tokenizer = AutoTokenizer.from_pretrained('alger-ia/dziribert_sentiment')\n",
    "model = AutoModelForSequenceClassification.from_pretrained('alger-ia/dziribert_sentiment',\n",
    "                                                           problem_type=\"multi_label_classification\",\n",
    "                                                           ignore_mismatched_sizes=True,\n",
    "                                                           num_labels=len(emotion_labels))"
   ]
  },
  {
   "cell_type": "code",
   "execution_count": null,
   "metadata": {
    "execution": {
     "iopub.execute_input": "2025-01-19T10:29:24.905285Z",
     "iopub.status.busy": "2025-01-19T10:29:24.904920Z",
     "iopub.status.idle": "2025-01-19T10:29:24.909304Z",
     "shell.execute_reply": "2025-01-19T10:29:24.908524Z",
     "shell.execute_reply.started": "2025-01-19T10:29:24.905255Z"
    },
    "trusted": true
   },
   "outputs": [],
   "source": [
    "def tokenize(batch):\n",
    "    return tokenizer(batch['text'], padding=True, truncation=True, max_length=128)"
   ]
  },
  {
   "cell_type": "code",
   "execution_count": null,
   "metadata": {
    "execution": {
     "iopub.execute_input": "2025-01-19T10:29:26.869742Z",
     "iopub.status.busy": "2025-01-19T10:29:26.869341Z",
     "iopub.status.idle": "2025-01-19T10:29:26.875034Z",
     "shell.execute_reply": "2025-01-19T10:29:26.874213Z",
     "shell.execute_reply.started": "2025-01-19T10:29:26.869706Z"
    },
    "trusted": true
   },
   "outputs": [],
   "source": [
    "def encode_data(df, tokenizer):\n",
    "    encodings = tokenizer(list(df['text']), truncation=True, padding=True, max_length=128)\n",
    "    labels = df[emotion_labels].fillna(0).values\n",
    "    return encodings, labels"
   ]
  },
  {
   "cell_type": "code",
   "execution_count": 15,
   "metadata": {
    "execution": {
     "iopub.execute_input": "2025-01-19T10:29:28.708329Z",
     "iopub.status.busy": "2025-01-19T10:29:28.707838Z",
     "iopub.status.idle": "2025-01-19T10:29:28.821372Z",
     "shell.execute_reply": "2025-01-19T10:29:28.820475Z",
     "shell.execute_reply.started": "2025-01-19T10:29:28.708286Z"
    },
    "trusted": true
   },
   "outputs": [],
   "source": [
    "train_encodings, train_labels = encode_data(train_arq, tokenizer)\n",
    "dev_encodings, dev_labels = encode_data(dev_arq, tokenizer)"
   ]
  },
  {
   "cell_type": "code",
   "execution_count": null,
   "metadata": {
    "execution": {
     "iopub.execute_input": "2025-01-19T10:29:30.423379Z",
     "iopub.status.busy": "2025-01-19T10:29:30.423040Z",
     "iopub.status.idle": "2025-01-19T10:29:30.428306Z",
     "shell.execute_reply": "2025-01-19T10:29:30.427380Z",
     "shell.execute_reply.started": "2025-01-19T10:29:30.423349Z"
    },
    "trusted": true
   },
   "outputs": [],
   "source": [
    "class CustomDataset(torch.utils.data.Dataset):\n",
    "    def __init__(self, encodings, labels):\n",
    "        self.encodings = encodings\n",
    "        self.labels = torch.tensor(labels, dtype=torch.float)\n",
    "\n",
    "    def __len__(self):\n",
    "        return len(self.labels)\n",
    "\n",
    "    def __getitem__(self, idx):\n",
    "        item = {key: torch.tensor(val[idx]) for key, val in self.encodings.items()}\n",
    "        item['labels'] = self.labels[idx]\n",
    "        return item"
   ]
  },
  {
   "cell_type": "code",
   "execution_count": 17,
   "metadata": {
    "execution": {
     "iopub.execute_input": "2025-01-19T10:29:32.781662Z",
     "iopub.status.busy": "2025-01-19T10:29:32.781315Z",
     "iopub.status.idle": "2025-01-19T10:29:32.797337Z",
     "shell.execute_reply": "2025-01-19T10:29:32.796367Z",
     "shell.execute_reply.started": "2025-01-19T10:29:32.781631Z"
    },
    "trusted": true
   },
   "outputs": [],
   "source": [
    "train_dataset = CustomDataset(train_encodings, train_labels)\n",
    "dev_dataset = CustomDataset(dev_encodings, dev_labels)"
   ]
  },
  {
   "cell_type": "code",
   "execution_count": 21,
   "metadata": {
    "execution": {
     "iopub.execute_input": "2025-01-19T08:20:25.806283Z",
     "iopub.status.busy": "2025-01-19T08:20:25.805977Z",
     "iopub.status.idle": "2025-01-19T08:20:25.811969Z",
     "shell.execute_reply": "2025-01-19T08:20:25.811133Z",
     "shell.execute_reply.started": "2025-01-19T08:20:25.806259Z"
    },
    "trusted": true
   },
   "outputs": [
    {
     "data": {
      "text/plain": [
       "<__main__.CustomDataset at 0x792643da6320>"
      ]
     },
     "execution_count": 21,
     "metadata": {},
     "output_type": "execute_result"
    }
   ],
   "source": [
    "train_dataset"
   ]
  },
  {
   "cell_type": "code",
   "execution_count": null,
   "metadata": {
    "trusted": true
   },
   "outputs": [],
   "source": [
    "train_dataset.encodings"
   ]
  },
  {
   "cell_type": "code",
   "execution_count": null,
   "metadata": {
    "execution": {
     "iopub.execute_input": "2025-01-19T10:21:27.940521Z",
     "iopub.status.busy": "2025-01-19T10:21:27.940239Z",
     "iopub.status.idle": "2025-01-19T10:21:28.159002Z",
     "shell.execute_reply": "2025-01-19T10:21:28.158345Z",
     "shell.execute_reply.started": "2025-01-19T10:21:27.940499Z"
    },
    "trusted": true
   },
   "outputs": [],
   "source": [
    "def calculate_token_lengths(texts, tokenizer):\n",
    "    token_lengths = [len(tokenizer.encode(text, truncation=False)) for text in texts]\n",
    "    return token_lengths\n",
    "\n",
    "train_lengths = calculate_token_lengths(train_arq['text'], tokenizer)\n",
    "dev_lengths = calculate_token_lengths(dev_arq['text'], tokenizer)\n",
    "test_lengths = calculate_token_lengths(test_arq['text'], tokenizer)"
   ]
  },
  {
   "cell_type": "code",
   "execution_count": null,
   "metadata": {
    "execution": {
     "iopub.execute_input": "2025-01-19T10:21:34.587049Z",
     "iopub.status.busy": "2025-01-19T10:21:34.586667Z",
     "iopub.status.idle": "2025-01-19T10:21:34.892649Z",
     "shell.execute_reply": "2025-01-19T10:21:34.891786Z",
     "shell.execute_reply.started": "2025-01-19T10:21:34.587014Z"
    },
    "trusted": true
   },
   "outputs": [
    {
     "data": {
      "image/png": "[encoded data removed]",
      "text/plain": [
       "<Figure size 1000x600 with 1 Axes>"
      ]
     },
     "metadata": {},
     "output_type": "display_data"
    }
   ],
   "source": [
    "all_lengths = train_lengths + dev_lengths + test_lengths\n",
    "\n",
    "plt.figure(figsize=(10, 6))\n",
    "sns.histplot(all_lengths, bins=50, kde=True, color='blue', alpha=0.7)\n",
    "plt.axvline(x=np.percentile(all_lengths, 90), color='red', linestyle='--', label='90th Percentile')\n",
    "plt.axvline(x=np.percentile(all_lengths, 95), color='green', linestyle='--', label='95th Percentile')\n",
    "plt.title('Token Length Distribution')\n",
    "plt.xlabel('Number of Tokens')\n",
    "plt.ylabel('Frequency')\n",
    "plt.legend()\n",
    "plt.show()"
   ]
  },
  {
   "cell_type": "code",
   "execution_count": null,
   "metadata": {
    "execution": {
     "iopub.execute_input": "2025-01-19T10:29:39.427768Z",
     "iopub.status.busy": "2025-01-19T10:29:39.427473Z",
     "iopub.status.idle": "2025-01-19T10:29:39.432442Z",
     "shell.execute_reply": "2025-01-19T10:29:39.431562Z",
     "shell.execute_reply.started": "2025-01-19T10:29:39.427744Z"
    },
    "trusted": true
   },
   "outputs": [],
   "source": [
    "def compute_metrics(pred, threshold=0.3):\n",
    "    logits, labels = pred\n",
    "    predictions = (torch.sigmoid(torch.tensor(logits)) > threshold).numpy()\n",
    "    labels = labels.astype(int)\n",
    "\n",
    "    precision, recall, f1, _ = precision_recall_fscore_support(labels, predictions, average=\"weighted\")\n",
    "    accuracy = accuracy_score(labels, predictions)\n",
    "\n",
    "    return {\n",
    "        'accuracy': accuracy,\n",
    "        'f1': np.mean(f1),\n",
    "        'precision': np.mean(precision),\n",
    "        'recall': np.mean(recall),\n",
    "    }\n"
   ]
  },
  {
   "cell_type": "code",
   "execution_count": null,
   "metadata": {
    "execution": {
     "iopub.execute_input": "2025-01-19T10:29:44.463184Z",
     "iopub.status.busy": "2025-01-19T10:29:44.462845Z",
     "iopub.status.idle": "2025-01-19T10:29:44.620916Z",
     "shell.execute_reply": "2025-01-19T10:29:44.620065Z",
     "shell.execute_reply.started": "2025-01-19T10:29:44.463154Z"
    },
    "trusted": true
   },
   "outputs": [
    {
     "name": "stderr",
     "output_type": "stream",
     "text": [
      "Using the `WANDB_DISABLED` environment variable is deprecated and will be removed in v5. Use the --report_to flag to control the integrations used for logging result (for instance --report_to none).\n"
     ]
    }
   ],
   "source": [
    "training_args = TrainingArguments(\n",
    "    output_dir='./results/arq/dziribert-sentiment-v1',\n",
    "    report_to=None,\n",
    "    evaluation_strategy=\"steps\",\n",
    "    save_total_limit = 1,\n",
    "    logging_strategy=\"epoch\",\n",
    "    load_best_model_at_end=True,\n",
    "    learning_rate=1e-5,\n",
    "    per_device_train_batch_size=8,\n",
    "    per_device_eval_batch_size=8,\n",
    "    num_train_epochs=100,\n",
    "    weight_decay=0.01,\n",
    ")"
   ]
  },
  {
   "cell_type": "code",
   "execution_count": null,
   "metadata": {
    "execution": {
     "iopub.execute_input": "2025-01-19T10:29:48.611873Z",
     "iopub.status.busy": "2025-01-19T10:29:48.611576Z",
     "iopub.status.idle": "2025-01-19T10:29:49.249100Z",
     "shell.execute_reply": "2025-01-19T10:29:49.248415Z",
     "shell.execute_reply.started": "2025-01-19T10:29:48.611848Z"
    },
    "trusted": true
   },
   "outputs": [],
   "source": [
    "trainer = Trainer(\n",
    "    model=model,\n",
    "    args=training_args,\n",
    "    train_dataset=train_dataset,\n",
    "    eval_dataset=dev_dataset,\n",
    "    tokenizer=tokenizer,\n",
    "    compute_metrics=compute_metrics\n",
    ")"
   ]
  },
  {
   "cell_type": "code",
   "execution_count": 21,
   "metadata": {
    "execution": {
     "iopub.execute_input": "2025-01-19T10:29:50.363898Z",
     "iopub.status.busy": "2025-01-19T10:29:50.363614Z",
     "iopub.status.idle": "2025-01-19T10:29:50.368040Z",
     "shell.execute_reply": "2025-01-19T10:29:50.367188Z",
     "shell.execute_reply.started": "2025-01-19T10:29:50.363874Z"
    },
    "trusted": true
   },
   "outputs": [],
   "source": [
    "from unittest import mock\n",
    "from unittest.mock import Mock\n",
    "class Dummy:\n",
    "    def __enter__(self):\n",
    "        return Mock()\n",
    "\n",
    "    def __exit__(self, *args):\n",
    "        pass"
   ]
  },
  {
   "cell_type": "code",
   "execution_count": 22,
   "metadata": {
    "execution": {
     "iopub.execute_input": "2025-01-19T10:29:52.727465Z",
     "iopub.status.busy": "2025-01-19T10:29:52.727105Z",
     "iopub.status.idle": "2025-01-19T10:53:40.253772Z",
     "shell.execute_reply": "2025-01-19T10:53:40.252869Z",
     "shell.execute_reply.started": "2025-01-19T10:29:52.727438Z"
    },
    "trusted": true
   },
   "outputs": [
    {
     "data": {
      "text/html": [
       "\n",
       "    <div>\n",
       "      \n",
       "      <progress value='5700' max='5700' style='width:300px; height:20px; vertical-align: middle;'></progress>\n",
       "      [5700/5700 23:44, Epoch 100/100]\n",
       "    </div>\n",
       "    <table border=\"1\" class=\"dataframe\">\n",
       "  <thead>\n",
       " <tr style=\"text-align: left;\">\n",
       "      <th>Step</th>\n",
       "      <th>Training Loss</th>\n",
       "      <th>Validation Loss</th>\n",
       "      <th>Accuracy</th>\n",
       "      <th>F1</th>\n",
       "      <th>Precision</th>\n",
       "      <th>Recall</th>\n",
       "    </tr>\n",
       "  </thead>\n",
       "  <tbody>\n",
       "    <tr>\n",
       "      <td>500</td>\n",
       "      <td>0.243800</td>\n",
       "      <td>0.534864</td>\n",
       "      <td>0.160000</td>\n",
       "      <td>0.574186</td>\n",
       "      <td>0.515568</td>\n",
       "      <td>0.682353</td>\n",
       "    </tr>\n",
       "    <tr>\n",
       "      <td>1000</td>\n",
       "      <td>0.066500</td>\n",
       "      <td>0.666178</td>\n",
       "      <td>0.230000</td>\n",
       "      <td>0.590023</td>\n",
       "      <td>0.595097</td>\n",
       "      <td>0.629412</td>\n",
       "    </tr>\n",
       "    <tr>\n",
       "      <td>1500</td>\n",
       "      <td>0.024600</td>\n",
       "      <td>0.780978</td>\n",
       "      <td>0.230000</td>\n",
       "      <td>0.566835</td>\n",
       "      <td>0.589083</td>\n",
       "      <td>0.605882</td>\n",
       "    </tr>\n",
       "    <tr>\n",
       "      <td>2000</td>\n",
       "      <td>0.013600</td>\n",
       "      <td>0.850280</td>\n",
       "      <td>0.210000</td>\n",
       "      <td>0.579477</td>\n",
       "      <td>0.586587</td>\n",
       "      <td>0.617647</td>\n",
       "    </tr>\n",
       "    <tr>\n",
       "      <td>2500</td>\n",
       "      <td>0.010000</td>\n",
       "      <td>0.909857</td>\n",
       "      <td>0.240000</td>\n",
       "      <td>0.570387</td>\n",
       "      <td>0.582247</td>\n",
       "      <td>0.600000</td>\n",
       "    </tr>\n",
       "    <tr>\n",
       "      <td>3000</td>\n",
       "      <td>0.007300</td>\n",
       "      <td>0.944938</td>\n",
       "      <td>0.260000</td>\n",
       "      <td>0.583604</td>\n",
       "      <td>0.607937</td>\n",
       "      <td>0.605882</td>\n",
       "    </tr>\n",
       "    <tr>\n",
       "      <td>3500</td>\n",
       "      <td>0.005800</td>\n",
       "      <td>0.973439</td>\n",
       "      <td>0.240000</td>\n",
       "      <td>0.567253</td>\n",
       "      <td>0.588206</td>\n",
       "      <td>0.582353</td>\n",
       "    </tr>\n",
       "    <tr>\n",
       "      <td>4000</td>\n",
       "      <td>0.004800</td>\n",
       "      <td>0.993785</td>\n",
       "      <td>0.240000</td>\n",
       "      <td>0.580065</td>\n",
       "      <td>0.587231</td>\n",
       "      <td>0.611765</td>\n",
       "    </tr>\n",
       "    <tr>\n",
       "      <td>4500</td>\n",
       "      <td>0.004300</td>\n",
       "      <td>1.020504</td>\n",
       "      <td>0.240000</td>\n",
       "      <td>0.574638</td>\n",
       "      <td>0.592722</td>\n",
       "      <td>0.600000</td>\n",
       "    </tr>\n",
       "    <tr>\n",
       "      <td>5000</td>\n",
       "      <td>0.003900</td>\n",
       "      <td>1.034210</td>\n",
       "      <td>0.240000</td>\n",
       "      <td>0.567671</td>\n",
       "      <td>0.604549</td>\n",
       "      <td>0.576471</td>\n",
       "    </tr>\n",
       "    <tr>\n",
       "      <td>5500</td>\n",
       "      <td>0.003700</td>\n",
       "      <td>1.036810</td>\n",
       "      <td>0.240000</td>\n",
       "      <td>0.574035</td>\n",
       "      <td>0.604642</td>\n",
       "      <td>0.588235</td>\n",
       "    </tr>\n",
       "  </tbody>\n",
       "</table><p>"
      ],
      "text/plain": [
       "<IPython.core.display.HTML object>"
      ]
     },
     "metadata": {},
     "output_type": "display_data"
    }
   ],
   "source": [
    "with mock.patch('wandb.init', return_value=Dummy()):\n",
    "    trainer.train()"
   ]
  },
  {
   "cell_type": "code",
   "execution_count": null,
   "metadata": {
    "execution": {
     "iopub.execute_input": "2025-01-19T10:53:40.255518Z",
     "iopub.status.busy": "2025-01-19T10:53:40.255201Z",
     "iopub.status.idle": "2025-01-19T10:53:40.259629Z",
     "shell.execute_reply": "2025-01-19T10:53:40.259028Z",
     "shell.execute_reply.started": "2025-01-19T10:53:40.255492Z"
    },
    "trusted": true
   },
   "outputs": [],
   "source": [
    "def find_best_threshold(pred, thresholds):\n",
    "    best_threshold = 0.5\n",
    "    best_f1 = 0\n",
    "    \n",
    "    for t in thresholds:\n",
    "        metrics = compute_metrics(pred, threshold=t)\n",
    "        print(f\"metrics: {metrics}\")\n",
    "        if metrics['f1'] > best_f1:\n",
    "            best_f1 = metrics['f1']\n",
    "            best_threshold = t\n",
    "\n",
    "    return best_threshold, best_f1"
   ]
  },
  {
   "cell_type": "code",
   "execution_count": null,
   "metadata": {
    "execution": {
     "iopub.execute_input": "2025-01-19T10:53:40.261213Z",
     "iopub.status.busy": "2025-01-19T10:53:40.261002Z",
     "iopub.status.idle": "2025-01-19T10:53:40.280851Z",
     "shell.execute_reply": "2025-01-19T10:53:40.280034Z",
     "shell.execute_reply.started": "2025-01-19T10:53:40.261195Z"
    },
    "trusted": true
   },
   "outputs": [],
   "source": [
    "def evaluate_on_validation_set(trainer, threshold_range=np.linspace(0.1, 0.9, 9)):\n",
    "    predictions, labels, _ = trainer.predict(dev_dataset)  \n",
    "    pred = (predictions, labels)\n",
    "\n",
    "    best_threshold, best_f1 = find_best_threshold(pred, thresholds=threshold_range)\n",
    "    print(\"----------------------------------------------\")\n",
    "    print(f\"Best Threshold: {best_threshold}, Best F1-Score: {best_f1:.4f}\")\n",
    "    print(\"***********************************************\")\n",
    "    final_metrics = compute_metrics(pred, threshold=best_threshold)\n",
    "    print(f\"Metrics with Best Threshold: {final_metrics}\")\n",
    "\n",
    "    return best_threshold, final_metrics"
   ]
  },
  {
   "cell_type": "code",
   "execution_count": 25,
   "metadata": {
    "execution": {
     "iopub.execute_input": "2025-01-19T10:53:40.282113Z",
     "iopub.status.busy": "2025-01-19T10:53:40.281837Z",
     "iopub.status.idle": "2025-01-19T10:53:41.171116Z",
     "shell.execute_reply": "2025-01-19T10:53:41.170100Z",
     "shell.execute_reply.started": "2025-01-19T10:53:40.282085Z"
    },
    "trusted": true
   },
   "outputs": [
    {
     "data": {
      "text/html": [],
      "text/plain": [
       "<IPython.core.display.HTML object>"
      ]
     },
     "metadata": {},
     "output_type": "display_data"
    },
    {
     "name": "stdout",
     "output_type": "stream",
     "text": [
      "metrics: {'accuracy': 0.04, 'f1': 0.5726025863729849, 'precision': 0.42353009879726367, 'recall': 0.8941176470588236}\n",
      "metrics: {'accuracy': 0.15, 'f1': 0.5811849530977418, 'precision': 0.4965305436296073, 'recall': 0.7352941176470589}\n",
      "metrics: {'accuracy': 0.16, 'f1': 0.5741856480531462, 'precision': 0.5155681732152321, 'recall': 0.6823529411764706}\n",
      "metrics: {'accuracy': 0.2, 'f1': 0.5588846641334566, 'precision': 0.5467187922124194, 'recall': 0.611764705882353}\n",
      "metrics: {'accuracy': 0.21, 'f1': 0.5463531489760998, 'precision': 0.575020903675528, 'recall': 0.5647058823529412}\n",
      "metrics: {'accuracy': 0.25, 'f1': 0.5343938474160655, 'precision': 0.6340539852304559, 'recall': 0.5}\n",
      "metrics: {'accuracy': 0.22, 'f1': 0.4780380583534375, 'precision': 0.6591926751217007, 'recall': 0.4117647058823529}\n",
      "metrics: {'accuracy': 0.22, 'f1': 0.42907923565357203, 'precision': 0.7021060569976978, 'recall': 0.3411764705882353}\n",
      "metrics: {'accuracy': 0.15, 'f1': 0.3201072183397356, 'precision': 0.7198158051099227, 'recall': 0.21764705882352942}\n",
      "----------------------------------------------\n",
      "Best Threshold: 0.2, Best F1-Score: 0.5812\n",
      "***********************************************\n",
      "Metrics with Best Threshold: {'accuracy': 0.15, 'f1': 0.5811849530977418, 'precision': 0.4965305436296073, 'recall': 0.7352941176470589}\n",
      "Optimal Threshold: 0.2\n",
      "Final Metrics: {'accuracy': 0.15, 'f1': 0.5811849530977418, 'precision': 0.4965305436296073, 'recall': 0.7352941176470589}\n"
     ]
    }
   ],
   "source": [
    "best_threshold, final_metrics = evaluate_on_validation_set(trainer)\n",
    "print(f\"Optimal Threshold: {best_threshold}\")\n",
    "print(f\"Final Metrics: {final_metrics}\")"
   ]
  },
  {
   "cell_type": "code",
   "execution_count": null,
   "metadata": {
    "execution": {
     "iopub.execute_input": "2025-01-19T10:54:03.151819Z",
     "iopub.status.busy": "2025-01-19T10:54:03.151527Z",
     "iopub.status.idle": "2025-01-19T10:54:03.693007Z",
     "shell.execute_reply": "2025-01-19T10:54:03.692384Z",
     "shell.execute_reply.started": "2025-01-19T10:54:03.151794Z"
    },
    "trusted": true
   },
   "outputs": [
    {
     "data": {
      "text/html": [],
      "text/plain": [
       "<IPython.core.display.HTML object>"
      ]
     },
     "metadata": {},
     "output_type": "display_data"
    }
   ],
   "source": [
    "dev_results = trainer.predict(dev_dataset)\n",
    "\n",
    "predictions = (torch.sigmoid(torch.tensor(dev_results.predictions)) > 0.2).numpy()\n",
    "conf_matrix = confusion_matrix(dev_labels.ravel(), predictions.ravel())"
   ]
  },
  {
   "cell_type": "code",
   "execution_count": 27,
   "metadata": {
    "execution": {
     "iopub.execute_input": "2025-01-19T10:54:05.500574Z",
     "iopub.status.busy": "2025-01-19T10:54:05.500283Z",
     "iopub.status.idle": "2025-01-19T10:54:05.904604Z",
     "shell.execute_reply": "2025-01-19T10:54:05.903897Z",
     "shell.execute_reply.started": "2025-01-19T10:54:05.500549Z"
    },
    "trusted": true
   },
   "outputs": [
    {
     "data": {
      "image/png": "[encoded data removed]",
      "text/plain": [
       "<Figure size 640x480 with 2 Axes>"
      ]
     },
     "metadata": {},
     "output_type": "display_data"
    }
   ],
   "source": [
    "disp = ConfusionMatrixDisplay(confusion_matrix=conf_matrix)\n",
    "disp.plot(cmap=plt.cm.Blues)\n",
    "plt.title('Confusion Matrix')\n",
    "plt.show()"
   ]
  },
  {
   "cell_type": "code",
   "execution_count": null,
   "metadata": {
    "execution": {
     "iopub.execute_input": "2025-01-19T10:54:13.733907Z",
     "iopub.status.busy": "2025-01-19T10:54:13.733584Z",
     "iopub.status.idle": "2025-01-19T10:54:13.909391Z",
     "shell.execute_reply": "2025-01-19T10:54:13.908490Z",
     "shell.execute_reply.started": "2025-01-19T10:54:13.733881Z"
    },
    "trusted": true
   },
   "outputs": [
    {
     "data": {
      "image/png": "[encoded data removed]",
      "text/plain": [
       "<Figure size 640x480 with 1 Axes>"
      ]
     },
     "metadata": {},
     "output_type": "display_data"
    }
   ],
   "source": [
    "fpr, tpr, _ = roc_curve(dev_labels.ravel(), dev_results.predictions.ravel())\n",
    "roc_auc = auc(fpr, tpr)\n",
    "\n",
    "plt.figure()\n",
    "plt.plot(fpr, tpr, color='blue', lw=2, label=f'ROC curve (AUC = {roc_auc:.2f})')\n",
    "plt.plot([0, 1], [0, 1], color='gray', lw=2, linestyle='--')\n",
    "plt.xlabel('False Positive Rate')\n",
    "plt.ylabel('True Positive Rate')\n",
    "plt.title('Receiver Operating Characteristic')\n",
    "plt.legend(loc='lower right')\n",
    "plt.show()"
   ]
  },
  {
   "cell_type": "code",
   "execution_count": null,
   "metadata": {
    "execution": {
     "iopub.execute_input": "2025-01-19T10:54:18.249880Z",
     "iopub.status.busy": "2025-01-19T10:54:18.249580Z",
     "iopub.status.idle": "2025-01-19T10:54:18.259448Z",
     "shell.execute_reply": "2025-01-19T10:54:18.258243Z",
     "shell.execute_reply.started": "2025-01-19T10:54:18.249854Z"
    },
    "trusted": true
   },
   "outputs": [
    {
     "name": "stdout",
     "output_type": "stream",
     "text": [
      "Accuracy: 0.1500\n",
      "anger: Precision=0.4681, Recall=0.7097, F1=0.5641\n",
      "disgust: Precision=0.5667, Recall=0.6071, F1=0.5862\n",
      "fear: Precision=0.4255, Recall=0.7692, F1=0.5479\n",
      "joy: Precision=0.5556, Recall=0.3846, F1=0.4545\n",
      "sadness: Precision=0.4937, Recall=0.9750, F1=0.6555\n",
      "surprise: Precision=0.5000, Recall=0.6875, F1=0.5789\n"
     ]
    }
   ],
   "source": [
    "precision, recall, f1, _ = precision_recall_fscore_support(\n",
    "    dev_labels, predictions, average=None\n",
    ")\n",
    "accuracy = accuracy_score(dev_labels, predictions)\n",
    "\n",
    "print(f'Accuracy: {accuracy:.4f}')\n",
    "for i, label in enumerate(emotion_labels):\n",
    "    print(f\"{label}: Precision={precision[i]:.4f}, Recall={recall[i]:.4f}, F1={f1[i]:.4f}\")"
   ]
  },
  {
   "cell_type": "code",
   "execution_count": null,
   "metadata": {
    "trusted": true
   },
   "outputs": [],
   "source": [
    "test_encodings = tokenizer(list(test_arq['text']), truncation=True, padding=True, max_length=128, return_tensors=\"pt\")\n",
    "test_dataset = CustomDataset(test_encodings, np.zeros((len(test_arq), 6)))  # Dummy labels for test\n",
    "test_results = trainer.predict(test_dataset)\n",
    "test_predictions = (torch.sigmoid(torch.tensor(test_results.predictions)) > 0.2).numpy()"
   ]
  },
  {
   "cell_type": "code",
   "execution_count": null,
   "metadata": {
    "execution": {
     "iopub.execute_input": "2025-01-19T10:55:38.103644Z",
     "iopub.status.busy": "2025-01-19T10:55:38.103322Z",
     "iopub.status.idle": "2025-01-19T10:55:38.124908Z",
     "shell.execute_reply": "2025-01-19T10:55:38.124039Z",
     "shell.execute_reply.started": "2025-01-19T10:55:38.103619Z"
    },
    "trusted": true
   },
   "outputs": [],
   "source": [
    "test_arq[emotion_labels] = test_predictions\n",
    "test_arq.to_csv('test_predictions_arq_dziribert_sentiment_v1.csv', index=False)"
   ]
  },
  {
   "cell_type": "code",
   "execution_count": 34,
   "metadata": {
    "execution": {
     "iopub.execute_input": "2025-01-19T10:56:02.953092Z",
     "iopub.status.busy": "2025-01-19T10:56:02.952782Z",
     "iopub.status.idle": "2025-01-19T10:56:02.973173Z",
     "shell.execute_reply": "2025-01-19T10:56:02.972228Z",
     "shell.execute_reply.started": "2025-01-19T10:56:02.953065Z"
    },
    "trusted": true
   },
   "outputs": [
    {
     "data": {
      "text/html": [
       "<div>\n",
       "<style scoped>\n",
       "    .dataframe tbody tr th:only-of-type {\n",
       "        vertical-align: middle;\n",
       "    }\n",
       "\n",
       "    .dataframe tbody tr th {\n",
       "        vertical-align: top;\n",
       "    }\n",
       "\n",
       "    .dataframe thead th {\n",
       "        text-align: right;\n",
       "    }\n",
       "</style>\n",
       "<table border=\"1\" class=\"dataframe\">\n",
       "  <thead>\n",
       "    <tr style=\"text-align: right;\">\n",
       "      <th></th>\n",
       "      <th>id</th>\n",
       "      <th>text</th>\n",
       "      <th>anger</th>\n",
       "      <th>disgust</th>\n",
       "      <th>fear</th>\n",
       "      <th>joy</th>\n",
       "      <th>sadness</th>\n",
       "      <th>surprise</th>\n",
       "    </tr>\n",
       "  </thead>\n",
       "  <tbody>\n",
       "    <tr>\n",
       "      <th>0</th>\n",
       "      <td>arq_test_track_a_00001</td>\n",
       "      <td>الراوي: كانت تدي حفنة لوبيا يابسة، تزربع الحبا...</td>\n",
       "      <td>False</td>\n",
       "      <td>False</td>\n",
       "      <td>False</td>\n",
       "      <td>False</td>\n",
       "      <td>True</td>\n",
       "      <td>False</td>\n",
       "    </tr>\n",
       "    <tr>\n",
       "      <th>1</th>\n",
       "      <td>arq_test_track_a_00002</td>\n",
       "      <td>بصّح عمر خمم: يمّاه زعمة تقدر تهرب للدّيوانة؟</td>\n",
       "      <td>True</td>\n",
       "      <td>True</td>\n",
       "      <td>True</td>\n",
       "      <td>False</td>\n",
       "      <td>True</td>\n",
       "      <td>True</td>\n",
       "    </tr>\n",
       "    <tr>\n",
       "      <th>2</th>\n",
       "      <td>arq_test_track_a_00003</td>\n",
       "      <td>امالا كان لازم على عمر يكدب و يكمل: \"النار شاع...</td>\n",
       "      <td>True</td>\n",
       "      <td>True</td>\n",
       "      <td>False</td>\n",
       "      <td>False</td>\n",
       "      <td>True</td>\n",
       "      <td>False</td>\n",
       "    </tr>\n",
       "    <tr>\n",
       "      <th>3</th>\n",
       "      <td>arq_test_track_a_00004</td>\n",
       "      <td>الراوي: الحالة كانت مهوّلة اليوم، وعلاه كان ال...</td>\n",
       "      <td>False</td>\n",
       "      <td>False</td>\n",
       "      <td>True</td>\n",
       "      <td>False</td>\n",
       "      <td>True</td>\n",
       "      <td>True</td>\n",
       "    </tr>\n",
       "    <tr>\n",
       "      <th>4</th>\n",
       "      <td>arq_test_track_a_00005</td>\n",
       "      <td>الراوي: و كان هاذ الشي محيّر الناس لا خاطرش كا...</td>\n",
       "      <td>False</td>\n",
       "      <td>False</td>\n",
       "      <td>False</td>\n",
       "      <td>True</td>\n",
       "      <td>False</td>\n",
       "      <td>True</td>\n",
       "    </tr>\n",
       "  </tbody>\n",
       "</table>\n",
       "</div>"
      ],
      "text/plain": [
       "                       id                                               text  \\\n",
       "0  arq_test_track_a_00001  الراوي: كانت تدي حفنة لوبيا يابسة، تزربع الحبا...   \n",
       "1  arq_test_track_a_00002      بصّح عمر خمم: يمّاه زعمة تقدر تهرب للدّيوانة؟   \n",
       "2  arq_test_track_a_00003  امالا كان لازم على عمر يكدب و يكمل: \"النار شاع...   \n",
       "3  arq_test_track_a_00004  الراوي: الحالة كانت مهوّلة اليوم، وعلاه كان ال...   \n",
       "4  arq_test_track_a_00005  الراوي: و كان هاذ الشي محيّر الناس لا خاطرش كا...   \n",
       "\n",
       "   anger  disgust   fear    joy  sadness  surprise  \n",
       "0  False    False  False  False     True     False  \n",
       "1   True     True   True  False     True      True  \n",
       "2   True     True  False  False     True     False  \n",
       "3  False    False   True  False     True      True  \n",
       "4  False    False  False   True    False      True  "
      ]
     },
     "execution_count": 34,
     "metadata": {},
     "output_type": "execute_result"
    }
   ],
   "source": [
    "test_arq.head()"
   ]
  }
 ],
 "metadata": {
  "kaggle": {
   "accelerator": "nvidiaTeslaT4",
   "dataSources": [
    {
     "datasetId": 6347818,
     "sourceId": 10498281,
     "sourceType": "datasetVersion"
    }
   ],
   "dockerImageVersionId": 30840,
   "isGpuEnabled": true,
   "isInternetEnabled": true,
   "language": "python",
   "sourceType": "notebook"
  },
  "kernelspec": {
   "display_name": "Python 3",
   "language": "python",
   "name": "python3"
  },
  "language_info": {
   "codemirror_mode": {
    "name": "ipython",
    "version": 3
   },
   "file_extension": ".py",
   "mimetype": "text/x-python",
   "name": "python",
   "nbconvert_exporter": "python",
   "pygments_lexer": "ipython3",
   "version": "3.10.12"
  }
 },
 "nbformat": 4,
 "nbformat_minor": 4
}
