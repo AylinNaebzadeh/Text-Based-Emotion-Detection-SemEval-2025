{
 "cells": [
  {
   "cell_type": "code",
   "execution_count": 1,
   "metadata": {
    "_cell_guid": "b1076dfc-b9ad-4769-8c92-a6c4dae69d19",
    "_uuid": "8f2839f25d086af736a60e9eeb907d3b93b6e0e5",
    "execution": {
     "iopub.execute_input": "2025-01-20T10:39:01.138530Z",
     "iopub.status.busy": "2025-01-20T10:39:01.138232Z",
     "iopub.status.idle": "2025-01-20T10:39:01.757944Z",
     "shell.execute_reply": "2025-01-20T10:39:01.756976Z",
     "shell.execute_reply.started": "2025-01-20T10:39:01.138507Z"
    },
    "trusted": true
   },
   "outputs": [
    {
     "name": "stdout",
     "output_type": "stream",
     "text": [
      "/kaggle/input/public_data_test/track_c/test/ind.csv\n",
      "/kaggle/input/public_data_test/track_c/test/tat.csv\n",
      "/kaggle/input/public_data_test/track_c/test/swe.csv\n",
      "/kaggle/input/public_data_test/track_c/test/afr.csv\n",
      "/kaggle/input/public_data_test/track_c/test/xho.csv\n",
      "/kaggle/input/public_data_test/track_c/test/amh.csv\n",
      "/kaggle/input/public_data_test/track_c/test/ptbr.csv\n",
      "/kaggle/input/public_data_test/track_c/test/mar.csv\n",
      "/kaggle/input/public_data_test/track_c/test/eng.csv\n",
      "/kaggle/input/public_data_test/track_c/test/yor.csv\n",
      "/kaggle/input/public_data_test/track_c/test/hau.csv\n",
      "/kaggle/input/public_data_test/track_c/test/som.csv\n",
      "/kaggle/input/public_data_test/track_c/test/ron.csv\n",
      "/kaggle/input/public_data_test/track_c/test/zul.csv\n",
      "/kaggle/input/public_data_test/track_c/test/sun.csv\n",
      "/kaggle/input/public_data_test/track_c/test/arq.csv\n",
      "/kaggle/input/public_data_test/track_c/test/hin.csv\n",
      "/kaggle/input/public_data_test/track_c/test/ibo.csv\n",
      "/kaggle/input/public_data_test/track_c/test/chn.csv\n",
      "/kaggle/input/public_data_test/track_c/test/ukr.csv\n",
      "/kaggle/input/public_data_test/track_c/test/esp.csv\n",
      "/kaggle/input/public_data_test/track_c/test/orm.csv\n",
      "/kaggle/input/public_data_test/track_c/test/vmw.csv\n",
      "/kaggle/input/public_data_test/track_c/test/jav.csv\n",
      "/kaggle/input/public_data_test/track_c/test/tir.csv\n",
      "/kaggle/input/public_data_test/track_c/test/pcm.csv\n",
      "/kaggle/input/public_data_test/track_c/test/rus.csv\n",
      "/kaggle/input/public_data_test/track_c/test/swa.csv\n",
      "/kaggle/input/public_data_test/track_c/test/deu.csv\n",
      "/kaggle/input/public_data_test/track_c/test/ary.csv\n",
      "/kaggle/input/public_data_test/track_c/test/kin.csv\n",
      "/kaggle/input/public_data_test/track_c/test/ptmz.csv\n",
      "/kaggle/input/public_data_test/track_c/dev/ind.csv\n",
      "/kaggle/input/public_data_test/track_c/dev/tat.csv\n",
      "/kaggle/input/public_data_test/track_c/dev/swe.csv\n",
      "/kaggle/input/public_data_test/track_c/dev/afr.csv\n",
      "/kaggle/input/public_data_test/track_c/dev/xho.csv\n",
      "/kaggle/input/public_data_test/track_c/dev/amh.csv\n",
      "/kaggle/input/public_data_test/track_c/dev/ptbr.csv\n",
      "/kaggle/input/public_data_test/track_c/dev/mar.csv\n",
      "/kaggle/input/public_data_test/track_c/dev/eng.csv\n",
      "/kaggle/input/public_data_test/track_c/dev/yor.csv\n",
      "/kaggle/input/public_data_test/track_c/dev/hau.csv\n",
      "/kaggle/input/public_data_test/track_c/dev/som.csv\n",
      "/kaggle/input/public_data_test/track_c/dev/ron.csv\n",
      "/kaggle/input/public_data_test/track_c/dev/zul.csv\n",
      "/kaggle/input/public_data_test/track_c/dev/sun.csv\n",
      "/kaggle/input/public_data_test/track_c/dev/arq.csv\n",
      "/kaggle/input/public_data_test/track_c/dev/hin.csv\n",
      "/kaggle/input/public_data_test/track_c/dev/ibo.csv\n",
      "/kaggle/input/public_data_test/track_c/dev/chn.csv\n",
      "/kaggle/input/public_data_test/track_c/dev/ukr.csv\n",
      "/kaggle/input/public_data_test/track_c/dev/esp.csv\n",
      "/kaggle/input/public_data_test/track_c/dev/orm.csv\n",
      "/kaggle/input/public_data_test/track_c/dev/vmw.csv\n",
      "/kaggle/input/public_data_test/track_c/dev/jav.csv\n",
      "/kaggle/input/public_data_test/track_c/dev/tir.csv\n",
      "/kaggle/input/public_data_test/track_c/dev/pcm.csv\n",
      "/kaggle/input/public_data_test/track_c/dev/rus.csv\n",
      "/kaggle/input/public_data_test/track_c/dev/swa.csv\n",
      "/kaggle/input/public_data_test/track_c/dev/deu.csv\n",
      "/kaggle/input/public_data_test/track_c/dev/ary.csv\n",
      "/kaggle/input/public_data_test/track_c/dev/kin.csv\n",
      "/kaggle/input/public_data_test/track_c/dev/ptmz.csv\n",
      "/kaggle/input/public_data_test/track_b/test/amh.csv\n",
      "/kaggle/input/public_data_test/track_b/test/ptbr.csv\n",
      "/kaggle/input/public_data_test/track_b/test/eng.csv\n",
      "/kaggle/input/public_data_test/track_b/test/hau.csv\n",
      "/kaggle/input/public_data_test/track_b/test/ron.csv\n",
      "/kaggle/input/public_data_test/track_b/test/arq.csv\n",
      "/kaggle/input/public_data_test/track_b/test/chn.csv\n",
      "/kaggle/input/public_data_test/track_b/test/ukr.csv\n",
      "/kaggle/input/public_data_test/track_b/test/esp.csv\n",
      "/kaggle/input/public_data_test/track_b/test/rus.csv\n",
      "/kaggle/input/public_data_test/track_b/test/deu.csv\n",
      "/kaggle/input/public_data_test/track_b/train/amh.csv\n",
      "/kaggle/input/public_data_test/track_b/train/ptbr.csv\n",
      "/kaggle/input/public_data_test/track_b/train/eng.csv\n",
      "/kaggle/input/public_data_test/track_b/train/hau.csv\n",
      "/kaggle/input/public_data_test/track_b/train/ron.csv\n",
      "/kaggle/input/public_data_test/track_b/train/arq.csv\n",
      "/kaggle/input/public_data_test/track_b/train/chn.csv\n",
      "/kaggle/input/public_data_test/track_b/train/ukr.csv\n",
      "/kaggle/input/public_data_test/track_b/train/esp.csv\n",
      "/kaggle/input/public_data_test/track_b/train/rus.csv\n",
      "/kaggle/input/public_data_test/track_b/train/deu.csv\n",
      "/kaggle/input/public_data_test/track_b/dev/amh.csv\n",
      "/kaggle/input/public_data_test/track_b/dev/ptbr.csv\n",
      "/kaggle/input/public_data_test/track_b/dev/eng.csv\n",
      "/kaggle/input/public_data_test/track_b/dev/hau.csv\n",
      "/kaggle/input/public_data_test/track_b/dev/ron.csv\n",
      "/kaggle/input/public_data_test/track_b/dev/arq.csv\n",
      "/kaggle/input/public_data_test/track_b/dev/chn.csv\n",
      "/kaggle/input/public_data_test/track_b/dev/ukr.csv\n",
      "/kaggle/input/public_data_test/track_b/dev/esp.csv\n",
      "/kaggle/input/public_data_test/track_b/dev/rus.csv\n",
      "/kaggle/input/public_data_test/track_b/dev/deu.csv\n",
      "/kaggle/input/public_data_test/track_a/test/tat.csv\n",
      "/kaggle/input/public_data_test/track_a/test/swe.csv\n",
      "/kaggle/input/public_data_test/track_a/test/afr.csv\n",
      "/kaggle/input/public_data_test/track_a/test/amh.csv\n",
      "/kaggle/input/public_data_test/track_a/test/ptbr.csv\n",
      "/kaggle/input/public_data_test/track_a/test/mar.csv\n",
      "/kaggle/input/public_data_test/track_a/test/eng.csv\n",
      "/kaggle/input/public_data_test/track_a/test/yor.csv\n",
      "/kaggle/input/public_data_test/track_a/test/hau.csv\n",
      "/kaggle/input/public_data_test/track_a/test/som.csv\n",
      "/kaggle/input/public_data_test/track_a/test/ron.csv\n",
      "/kaggle/input/public_data_test/track_a/test/sun.csv\n",
      "/kaggle/input/public_data_test/track_a/test/arq.csv\n",
      "/kaggle/input/public_data_test/track_a/test/hin.csv\n",
      "/kaggle/input/public_data_test/track_a/test/ibo.csv\n",
      "/kaggle/input/public_data_test/track_a/test/chn.csv\n",
      "/kaggle/input/public_data_test/track_a/test/ukr.csv\n",
      "/kaggle/input/public_data_test/track_a/test/esp.csv\n",
      "/kaggle/input/public_data_test/track_a/test/orm.csv\n",
      "/kaggle/input/public_data_test/track_a/test/vmw.csv\n",
      "/kaggle/input/public_data_test/track_a/test/tir.csv\n",
      "/kaggle/input/public_data_test/track_a/test/pcm.csv\n",
      "/kaggle/input/public_data_test/track_a/test/rus.csv\n",
      "/kaggle/input/public_data_test/track_a/test/swa.csv\n",
      "/kaggle/input/public_data_test/track_a/test/deu.csv\n",
      "/kaggle/input/public_data_test/track_a/test/ary.csv\n",
      "/kaggle/input/public_data_test/track_a/test/kin.csv\n",
      "/kaggle/input/public_data_test/track_a/test/ptmz.csv\n",
      "/kaggle/input/public_data_test/track_a/train/tat.csv\n",
      "/kaggle/input/public_data_test/track_a/train/swe.csv\n",
      "/kaggle/input/public_data_test/track_a/train/afr.csv\n",
      "/kaggle/input/public_data_test/track_a/train/amh.csv\n",
      "/kaggle/input/public_data_test/track_a/train/ptbr.csv\n",
      "/kaggle/input/public_data_test/track_a/train/mar.csv\n",
      "/kaggle/input/public_data_test/track_a/train/eng.csv\n",
      "/kaggle/input/public_data_test/track_a/train/yor.csv\n",
      "/kaggle/input/public_data_test/track_a/train/hau.csv\n",
      "/kaggle/input/public_data_test/track_a/train/som.csv\n",
      "/kaggle/input/public_data_test/track_a/train/ron.csv\n",
      "/kaggle/input/public_data_test/track_a/train/sun.csv\n",
      "/kaggle/input/public_data_test/track_a/train/arq.csv\n",
      "/kaggle/input/public_data_test/track_a/train/hin.csv\n",
      "/kaggle/input/public_data_test/track_a/train/ibo.csv\n",
      "/kaggle/input/public_data_test/track_a/train/chn.csv\n",
      "/kaggle/input/public_data_test/track_a/train/ukr.csv\n",
      "/kaggle/input/public_data_test/track_a/train/esp.csv\n",
      "/kaggle/input/public_data_test/track_a/train/orm.csv\n",
      "/kaggle/input/public_data_test/track_a/train/vmw.csv\n",
      "/kaggle/input/public_data_test/track_a/train/tir.csv\n",
      "/kaggle/input/public_data_test/track_a/train/pcm.csv\n",
      "/kaggle/input/public_data_test/track_a/train/rus.csv\n",
      "/kaggle/input/public_data_test/track_a/train/swa.csv\n",
      "/kaggle/input/public_data_test/track_a/train/deu.csv\n",
      "/kaggle/input/public_data_test/track_a/train/ary.csv\n",
      "/kaggle/input/public_data_test/track_a/train/kin.csv\n",
      "/kaggle/input/public_data_test/track_a/train/ptmz.csv\n",
      "/kaggle/input/public_data_test/track_a/dev/tat.csv\n",
      "/kaggle/input/public_data_test/track_a/dev/swe.csv\n",
      "/kaggle/input/public_data_test/track_a/dev/afr.csv\n",
      "/kaggle/input/public_data_test/track_a/dev/amh.csv\n",
      "/kaggle/input/public_data_test/track_a/dev/ptbr.csv\n",
      "/kaggle/input/public_data_test/track_a/dev/mar.csv\n",
      "/kaggle/input/public_data_test/track_a/dev/eng.csv\n",
      "/kaggle/input/public_data_test/track_a/dev/yor.csv\n",
      "/kaggle/input/public_data_test/track_a/dev/hau.csv\n",
      "/kaggle/input/public_data_test/track_a/dev/som.csv\n",
      "/kaggle/input/public_data_test/track_a/dev/ron.csv\n",
      "/kaggle/input/public_data_test/track_a/dev/sun.csv\n",
      "/kaggle/input/public_data_test/track_a/dev/arq.csv\n",
      "/kaggle/input/public_data_test/track_a/dev/hin.csv\n",
      "/kaggle/input/public_data_test/track_a/dev/ibo.csv\n",
      "/kaggle/input/public_data_test/track_a/dev/chn.csv\n",
      "/kaggle/input/public_data_test/track_a/dev/ukr.csv\n",
      "/kaggle/input/public_data_test/track_a/dev/esp.csv\n",
      "/kaggle/input/public_data_test/track_a/dev/orm.csv\n",
      "/kaggle/input/public_data_test/track_a/dev/vmw.csv\n",
      "/kaggle/input/public_data_test/track_a/dev/tir.csv\n",
      "/kaggle/input/public_data_test/track_a/dev/pcm.csv\n",
      "/kaggle/input/public_data_test/track_a/dev/rus.csv\n",
      "/kaggle/input/public_data_test/track_a/dev/swa.csv\n",
      "/kaggle/input/public_data_test/track_a/dev/deu.csv\n",
      "/kaggle/input/public_data_test/track_a/dev/ary.csv\n",
      "/kaggle/input/public_data_test/track_a/dev/kin.csv\n",
      "/kaggle/input/public_data_test/track_a/dev/ptmz.csv\n"
     ]
    }
   ],
   "source": [
    "# This Python 3 environment comes with many helpful analytics libraries installed\n",
    "# It is defined by the kaggle/python Docker image: https://github.com/kaggle/docker-python\n",
    "# For example, here's several helpful packages to load\n",
    "\n",
    "import numpy as np # linear algebra\n",
    "import pandas as pd # data processing, CSV file I/O (e.g. pd.read_csv)\n",
    "\n",
    "# Input data files are available in the read-only \"../input/\" directory\n",
    "# For example, running this (by clicking run or pressing Shift+Enter) will list all files under the input directory\n",
    "\n",
    "import os\n",
    "for dirname, _, filenames in os.walk('/kaggle/input'):\n",
    "    for filename in filenames:\n",
    "        print(os.path.join(dirname, filename))\n",
    "\n",
    "# You can write up to 20GB to the current directory (/kaggle/working/) that gets preserved as output when you create a version using \"Save & Run All\" \n",
    "# You can also write temporary files to /kaggle/temp/, but they won't be saved outside of the current session"
   ]
  },
  {
   "cell_type": "markdown",
   "metadata": {},
   "source": [
    "# Install Libraries and Modules"
   ]
  },
  {
   "cell_type": "code",
   "execution_count": 2,
   "metadata": {
    "execution": {
     "iopub.execute_input": "2025-01-20T10:39:11.935522Z",
     "iopub.status.busy": "2025-01-20T10:39:11.935073Z",
     "iopub.status.idle": "2025-01-20T10:39:11.939301Z",
     "shell.execute_reply": "2025-01-20T10:39:11.938515Z",
     "shell.execute_reply.started": "2025-01-20T10:39:11.935495Z"
    },
    "trusted": true
   },
   "outputs": [],
   "source": [
    "import warnings\n",
    "warnings.filterwarnings('ignore') "
   ]
  },
  {
   "cell_type": "code",
   "execution_count": 3,
   "metadata": {
    "execution": {
     "iopub.execute_input": "2025-01-20T10:39:14.176466Z",
     "iopub.status.busy": "2025-01-20T10:39:14.176143Z",
     "iopub.status.idle": "2025-01-20T10:39:28.780835Z",
     "shell.execute_reply": "2025-01-20T10:39:28.779729Z",
     "shell.execute_reply.started": "2025-01-20T10:39:14.176439Z"
    },
    "trusted": true
   },
   "outputs": [
    {
     "name": "stdout",
     "output_type": "stream",
     "text": [
      "Found existing installation: wandb 0.19.1\n",
      "Uninstalling wandb-0.19.1:\n",
      "  Successfully uninstalled wandb-0.19.1\n"
     ]
    }
   ],
   "source": [
    "!pip uninstall -y wandb"
   ]
  },
  {
   "cell_type": "code",
   "execution_count": 4,
   "metadata": {
    "execution": {
     "iopub.execute_input": "2025-01-20T10:39:30.658468Z",
     "iopub.status.busy": "2025-01-20T10:39:30.658149Z",
     "iopub.status.idle": "2025-01-20T10:39:37.304610Z",
     "shell.execute_reply": "2025-01-20T10:39:37.303539Z",
     "shell.execute_reply.started": "2025-01-20T10:39:30.658443Z"
    },
    "trusted": true
   },
   "outputs": [
    {
     "name": "stdout",
     "output_type": "stream",
     "text": [
      "Collecting wandb==0.17.5\n",
      "  Downloading wandb-0.17.5-py3-none-manylinux_2_5_x86_64.manylinux1_x86_64.manylinux_2_17_x86_64.manylinux2014_x86_64.whl.metadata (10 kB)\n",
      "Requirement already satisfied: click!=8.0.0,>=7.1 in /usr/local/lib/python3.10/dist-packages (from wandb==0.17.5) (8.1.7)\n",
      "Requirement already satisfied: docker-pycreds>=0.4.0 in /usr/local/lib/python3.10/dist-packages (from wandb==0.17.5) (0.4.0)\n",
      "Requirement already satisfied: gitpython!=3.1.29,>=1.0.0 in /usr/local/lib/python3.10/dist-packages (from wandb==0.17.5) (3.1.43)\n",
      "Requirement already satisfied: platformdirs in /usr/local/lib/python3.10/dist-packages (from wandb==0.17.5) (4.3.6)\n",
      "Requirement already satisfied: protobuf!=4.21.0,<6,>=3.19.0 in /usr/local/lib/python3.10/dist-packages (from wandb==0.17.5) (3.20.3)\n",
      "Requirement already satisfied: psutil>=5.0.0 in /usr/local/lib/python3.10/dist-packages (from wandb==0.17.5) (5.9.5)\n",
      "Requirement already satisfied: pyyaml in /usr/local/lib/python3.10/dist-packages (from wandb==0.17.5) (6.0.2)\n",
      "Requirement already satisfied: requests<3,>=2.0.0 in /usr/local/lib/python3.10/dist-packages (from wandb==0.17.5) (2.32.3)\n",
      "Requirement already satisfied: sentry-sdk>=1.0.0 in /usr/local/lib/python3.10/dist-packages (from wandb==0.17.5) (2.19.2)\n",
      "Requirement already satisfied: setproctitle in /usr/local/lib/python3.10/dist-packages (from wandb==0.17.5) (1.3.4)\n",
      "Requirement already satisfied: setuptools in /usr/local/lib/python3.10/dist-packages (from wandb==0.17.5) (75.1.0)\n",
      "Requirement already satisfied: six>=1.4.0 in /usr/local/lib/python3.10/dist-packages (from docker-pycreds>=0.4.0->wandb==0.17.5) (1.17.0)\n",
      "Requirement already satisfied: gitdb<5,>=4.0.1 in /usr/local/lib/python3.10/dist-packages (from gitpython!=3.1.29,>=1.0.0->wandb==0.17.5) (4.0.11)\n",
      "Requirement already satisfied: charset-normalizer<4,>=2 in /usr/local/lib/python3.10/dist-packages (from requests<3,>=2.0.0->wandb==0.17.5) (3.4.0)\n",
      "Requirement already satisfied: idna<4,>=2.5 in /usr/local/lib/python3.10/dist-packages (from requests<3,>=2.0.0->wandb==0.17.5) (3.10)\n",
      "Requirement already satisfied: urllib3<3,>=1.21.1 in /usr/local/lib/python3.10/dist-packages (from requests<3,>=2.0.0->wandb==0.17.5) (2.2.3)\n",
      "Requirement already satisfied: certifi>=2017.4.17 in /usr/local/lib/python3.10/dist-packages (from requests<3,>=2.0.0->wandb==0.17.5) (2024.12.14)\n",
      "Requirement already satisfied: smmap<6,>=3.0.1 in /usr/local/lib/python3.10/dist-packages (from gitdb<5,>=4.0.1->gitpython!=3.1.29,>=1.0.0->wandb==0.17.5) (5.0.1)\n",
      "Downloading wandb-0.17.5-py3-none-manylinux_2_5_x86_64.manylinux1_x86_64.manylinux_2_17_x86_64.manylinux2014_x86_64.whl (6.8 MB)\n",
      "\u001b[2K   \u001b[90m━━━━━━━━━━━━━━━━━━━━━━━━━━━━━━━━━━━━━━━━\u001b[0m \u001b[32m6.8/6.8 MB\u001b[0m \u001b[31m10.8 MB/s\u001b[0m eta \u001b[36m0:00:00\u001b[0m00:01\u001b[0m00:01\u001b[0m\n",
      "\u001b[?25hInstalling collected packages: wandb\n",
      "Successfully installed wandb-0.17.5\n"
     ]
    }
   ],
   "source": [
    "!pip install wandb==0.17.5 "
   ]
  },
  {
   "cell_type": "code",
   "execution_count": 5,
   "metadata": {
    "execution": {
     "iopub.execute_input": "2025-01-20T10:39:40.404749Z",
     "iopub.status.busy": "2025-01-20T10:39:40.404467Z",
     "iopub.status.idle": "2025-01-20T10:39:41.360806Z",
     "shell.execute_reply": "2025-01-20T10:39:41.360147Z",
     "shell.execute_reply.started": "2025-01-20T10:39:40.404727Z"
    },
    "trusted": true
   },
   "outputs": [],
   "source": [
    "import wandb"
   ]
  },
  {
   "cell_type": "code",
   "execution_count": 6,
   "metadata": {
    "execution": {
     "iopub.execute_input": "2025-01-20T10:39:41.880662Z",
     "iopub.status.busy": "2025-01-20T10:39:41.880373Z",
     "iopub.status.idle": "2025-01-20T10:39:43.751790Z",
     "shell.execute_reply": "2025-01-20T10:39:43.750502Z",
     "shell.execute_reply.started": "2025-01-20T10:39:41.880639Z"
    },
    "trusted": true
   },
   "outputs": [
    {
     "name": "stdout",
     "output_type": "stream",
     "text": [
      "W&B offline. Running your script from this directory will only write metadata locally. Use wandb disabled to completely turn off W&B.\n",
      "W&B disabled.\n"
     ]
    }
   ],
   "source": [
    "!wandb offline\n",
    "!wandb disabled"
   ]
  },
  {
   "cell_type": "code",
   "execution_count": 7,
   "metadata": {
    "execution": {
     "iopub.execute_input": "2025-01-20T10:39:45.835128Z",
     "iopub.status.busy": "2025-01-20T10:39:45.834747Z",
     "iopub.status.idle": "2025-01-20T10:39:45.839366Z",
     "shell.execute_reply": "2025-01-20T10:39:45.838402Z",
     "shell.execute_reply.started": "2025-01-20T10:39:45.835097Z"
    },
    "trusted": true
   },
   "outputs": [],
   "source": [
    "import os\n",
    "os.environ[\"WANDB_DISABLED\"] = \"true\""
   ]
  },
  {
   "cell_type": "code",
   "execution_count": 8,
   "metadata": {
    "execution": {
     "iopub.execute_input": "2025-01-20T10:39:47.524752Z",
     "iopub.status.busy": "2025-01-20T10:39:47.524390Z",
     "iopub.status.idle": "2025-01-20T10:39:51.379535Z",
     "shell.execute_reply": "2025-01-20T10:39:51.378390Z",
     "shell.execute_reply.started": "2025-01-20T10:39:47.524722Z"
    },
    "trusted": true
   },
   "outputs": [
    {
     "name": "stdout",
     "output_type": "stream",
     "text": [
      "Requirement already satisfied: datasets in /usr/local/lib/python3.10/dist-packages (3.2.0)\n",
      "Requirement already satisfied: transformers in /usr/local/lib/python3.10/dist-packages (4.47.0)\n",
      "Collecting evaluate\n",
      "  Downloading evaluate-0.4.3-py3-none-any.whl.metadata (9.2 kB)\n",
      "Requirement already satisfied: sentencepiece in /usr/local/lib/python3.10/dist-packages (0.2.0)\n",
      "Requirement already satisfied: accelerate in /usr/local/lib/python3.10/dist-packages (1.2.1)\n",
      "Requirement already satisfied: filelock in /usr/local/lib/python3.10/dist-packages (from datasets) (3.16.1)\n",
      "Requirement already satisfied: numpy>=1.17 in /usr/local/lib/python3.10/dist-packages (from datasets) (1.26.4)\n",
      "Requirement already satisfied: pyarrow>=15.0.0 in /usr/local/lib/python3.10/dist-packages (from datasets) (17.0.0)\n",
      "Requirement already satisfied: dill<0.3.9,>=0.3.0 in /usr/local/lib/python3.10/dist-packages (from datasets) (0.3.8)\n",
      "Requirement already satisfied: pandas in /usr/local/lib/python3.10/dist-packages (from datasets) (2.2.2)\n",
      "Requirement already satisfied: requests>=2.32.2 in /usr/local/lib/python3.10/dist-packages (from datasets) (2.32.3)\n",
      "Requirement already satisfied: tqdm>=4.66.3 in /usr/local/lib/python3.10/dist-packages (from datasets) (4.67.1)\n",
      "Requirement already satisfied: xxhash in /usr/local/lib/python3.10/dist-packages (from datasets) (3.5.0)\n",
      "Requirement already satisfied: multiprocess<0.70.17 in /usr/local/lib/python3.10/dist-packages (from datasets) (0.70.16)\n",
      "Requirement already satisfied: fsspec<=2024.9.0,>=2023.1.0 in /usr/local/lib/python3.10/dist-packages (from fsspec[http]<=2024.9.0,>=2023.1.0->datasets) (2024.9.0)\n",
      "Requirement already satisfied: aiohttp in /usr/local/lib/python3.10/dist-packages (from datasets) (3.11.10)\n",
      "Requirement already satisfied: huggingface-hub>=0.23.0 in /usr/local/lib/python3.10/dist-packages (from datasets) (0.27.0)\n",
      "Requirement already satisfied: packaging in /usr/local/lib/python3.10/dist-packages (from datasets) (24.2)\n",
      "Requirement already satisfied: pyyaml>=5.1 in /usr/local/lib/python3.10/dist-packages (from datasets) (6.0.2)\n",
      "Requirement already satisfied: regex!=2019.12.17 in /usr/local/lib/python3.10/dist-packages (from transformers) (2024.11.6)\n",
      "Requirement already satisfied: tokenizers<0.22,>=0.21 in /usr/local/lib/python3.10/dist-packages (from transformers) (0.21.0)\n",
      "Requirement already satisfied: safetensors>=0.4.1 in /usr/local/lib/python3.10/dist-packages (from transformers) (0.4.5)\n",
      "Requirement already satisfied: psutil in /usr/local/lib/python3.10/dist-packages (from accelerate) (5.9.5)\n",
      "Requirement already satisfied: torch>=1.10.0 in /usr/local/lib/python3.10/dist-packages (from accelerate) (2.5.1+cu121)\n",
      "Requirement already satisfied: aiohappyeyeballs>=2.3.0 in /usr/local/lib/python3.10/dist-packages (from aiohttp->datasets) (2.4.4)\n",
      "Requirement already satisfied: aiosignal>=1.1.2 in /usr/local/lib/python3.10/dist-packages (from aiohttp->datasets) (1.3.2)\n",
      "Requirement already satisfied: async-timeout<6.0,>=4.0 in /usr/local/lib/python3.10/dist-packages (from aiohttp->datasets) (4.0.3)\n",
      "Requirement already satisfied: attrs>=17.3.0 in /usr/local/lib/python3.10/dist-packages (from aiohttp->datasets) (24.3.0)\n",
      "Requirement already satisfied: frozenlist>=1.1.1 in /usr/local/lib/python3.10/dist-packages (from aiohttp->datasets) (1.5.0)\n",
      "Requirement already satisfied: multidict<7.0,>=4.5 in /usr/local/lib/python3.10/dist-packages (from aiohttp->datasets) (6.1.0)\n",
      "Requirement already satisfied: propcache>=0.2.0 in /usr/local/lib/python3.10/dist-packages (from aiohttp->datasets) (0.2.1)\n",
      "Requirement already satisfied: yarl<2.0,>=1.17.0 in /usr/local/lib/python3.10/dist-packages (from aiohttp->datasets) (1.18.3)\n",
      "Requirement already satisfied: typing-extensions>=3.7.4.3 in /usr/local/lib/python3.10/dist-packages (from huggingface-hub>=0.23.0->datasets) (4.12.2)\n",
      "Requirement already satisfied: mkl_fft in /usr/local/lib/python3.10/dist-packages (from numpy>=1.17->datasets) (1.3.8)\n",
      "Requirement already satisfied: mkl_random in /usr/local/lib/python3.10/dist-packages (from numpy>=1.17->datasets) (1.2.4)\n",
      "Requirement already satisfied: mkl_umath in /usr/local/lib/python3.10/dist-packages (from numpy>=1.17->datasets) (0.1.1)\n",
      "Requirement already satisfied: mkl in /usr/local/lib/python3.10/dist-packages (from numpy>=1.17->datasets) (2025.0.1)\n",
      "Requirement already satisfied: tbb4py in /usr/local/lib/python3.10/dist-packages (from numpy>=1.17->datasets) (2022.0.0)\n",
      "Requirement already satisfied: mkl-service in /usr/local/lib/python3.10/dist-packages (from numpy>=1.17->datasets) (2.4.1)\n",
      "Requirement already satisfied: charset-normalizer<4,>=2 in /usr/local/lib/python3.10/dist-packages (from requests>=2.32.2->datasets) (3.4.0)\n",
      "Requirement already satisfied: idna<4,>=2.5 in /usr/local/lib/python3.10/dist-packages (from requests>=2.32.2->datasets) (3.10)\n",
      "Requirement already satisfied: urllib3<3,>=1.21.1 in /usr/local/lib/python3.10/dist-packages (from requests>=2.32.2->datasets) (2.2.3)\n",
      "Requirement already satisfied: certifi>=2017.4.17 in /usr/local/lib/python3.10/dist-packages (from requests>=2.32.2->datasets) (2024.12.14)\n",
      "Requirement already satisfied: networkx in /usr/local/lib/python3.10/dist-packages (from torch>=1.10.0->accelerate) (3.4.2)\n",
      "Requirement already satisfied: jinja2 in /usr/local/lib/python3.10/dist-packages (from torch>=1.10.0->accelerate) (3.1.4)\n",
      "Requirement already satisfied: sympy==1.13.1 in /usr/local/lib/python3.10/dist-packages (from torch>=1.10.0->accelerate) (1.13.1)\n",
      "Requirement already satisfied: mpmath<1.4,>=1.1.0 in /usr/local/lib/python3.10/dist-packages (from sympy==1.13.1->torch>=1.10.0->accelerate) (1.3.0)\n",
      "Requirement already satisfied: python-dateutil>=2.8.2 in /usr/local/lib/python3.10/dist-packages (from pandas->datasets) (2.8.2)\n",
      "Requirement already satisfied: pytz>=2020.1 in /usr/local/lib/python3.10/dist-packages (from pandas->datasets) (2024.2)\n",
      "Requirement already satisfied: tzdata>=2022.7 in /usr/local/lib/python3.10/dist-packages (from pandas->datasets) (2024.2)\n",
      "Requirement already satisfied: six>=1.5 in /usr/local/lib/python3.10/dist-packages (from python-dateutil>=2.8.2->pandas->datasets) (1.17.0)\n",
      "Requirement already satisfied: MarkupSafe>=2.0 in /usr/local/lib/python3.10/dist-packages (from jinja2->torch>=1.10.0->accelerate) (3.0.2)\n",
      "Requirement already satisfied: intel-openmp>=2024 in /usr/local/lib/python3.10/dist-packages (from mkl->numpy>=1.17->datasets) (2024.2.0)\n",
      "Requirement already satisfied: tbb==2022.* in /usr/local/lib/python3.10/dist-packages (from mkl->numpy>=1.17->datasets) (2022.0.0)\n",
      "Requirement already satisfied: tcmlib==1.* in /usr/local/lib/python3.10/dist-packages (from tbb==2022.*->mkl->numpy>=1.17->datasets) (1.2.0)\n",
      "Requirement already satisfied: intel-cmplr-lib-rt in /usr/local/lib/python3.10/dist-packages (from mkl_umath->numpy>=1.17->datasets) (2024.2.0)\n",
      "Requirement already satisfied: intel-cmplr-lib-ur==2024.2.0 in /usr/local/lib/python3.10/dist-packages (from intel-openmp>=2024->mkl->numpy>=1.17->datasets) (2024.2.0)\n",
      "Downloading evaluate-0.4.3-py3-none-any.whl (84 kB)\n",
      "\u001b[2K   \u001b[90m━━━━━━━━━━━━━━━━━━━━━━━━━━━━━━━━━━━━━━━━\u001b[0m \u001b[32m84.0/84.0 kB\u001b[0m \u001b[31m2.7 MB/s\u001b[0m eta \u001b[36m0:00:00\u001b[0m\n",
      "\u001b[?25hInstalling collected packages: evaluate\n",
      "Successfully installed evaluate-0.4.3\n"
     ]
    }
   ],
   "source": [
    "!pip install datasets transformers evaluate sentencepiece accelerate"
   ]
  },
  {
   "cell_type": "code",
   "execution_count": 9,
   "metadata": {
    "execution": {
     "iopub.execute_input": "2025-01-20T10:39:58.378212Z",
     "iopub.status.busy": "2025-01-20T10:39:58.377909Z",
     "iopub.status.idle": "2025-01-20T10:40:22.494090Z",
     "shell.execute_reply": "2025-01-20T10:40:22.493283Z",
     "shell.execute_reply.started": "2025-01-20T10:39:58.378187Z"
    },
    "trusted": true
   },
   "outputs": [],
   "source": [
    "import matplotlib.pyplot as plt\n",
    "import seaborn as sns\n",
    "\n",
    "from datasets import Dataset\n",
    "from transformers import AutoTokenizer\n",
    "from transformers import AutoModelForSequenceClassification\n",
    "from transformers import TrainingArguments, Trainer\n",
    "\n",
    "import torch\n",
    "from sklearn.metrics import roc_auc_score\n",
    "from sklearn.metrics import roc_curve, auc\n",
    "from sklearn.metrics import confusion_matrix, ConfusionMatrixDisplay\n",
    "from sklearn.metrics import precision_recall_fscore_support, accuracy_score"
   ]
  },
  {
   "cell_type": "code",
   "execution_count": 10,
   "metadata": {
    "execution": {
     "iopub.execute_input": "2025-01-20T10:40:22.496005Z",
     "iopub.status.busy": "2025-01-20T10:40:22.495194Z",
     "iopub.status.idle": "2025-01-20T10:40:22.652699Z",
     "shell.execute_reply": "2025-01-20T10:40:22.651958Z",
     "shell.execute_reply.started": "2025-01-20T10:40:22.495977Z"
    },
    "trusted": true
   },
   "outputs": [],
   "source": [
    "train_arq = pd.read_csv(\"/kaggle/input/public_data_test/track_a/train/arq.csv\")\n",
    "train_hin = pd.read_csv(\"/kaggle/input/public_data_test/track_a/train/hin.csv\")\n",
    "train_swe = pd.read_csv(\"/kaggle/input/public_data_test/track_a/train/swe.csv\")\n",
    "\n",
    "\n",
    "dev_arq = pd.read_csv(\"/kaggle/input/public_data_test/track_a/dev/arq.csv\")\n",
    "dev_hin = pd.read_csv(\"/kaggle/input/public_data_test/track_a/dev/hin.csv\")\n",
    "dev_swe = pd.read_csv(\"/kaggle/input/public_data_test/track_a/dev/swe.csv\")\n",
    "\n",
    "\n",
    "test_arq = pd.read_csv(\"/kaggle/input/public_data_test/track_a/test/arq.csv\")\n",
    "test_hin = pd.read_csv(\"/kaggle/input/public_data_test/track_a/test/hin.csv\")\n",
    "test_swe = pd.read_csv(\"/kaggle/input/public_data_test/track_a/test/swe.csv\")"
   ]
  },
  {
   "cell_type": "markdown",
   "metadata": {},
   "source": [
    "# ALGERIAN ARABIC"
   ]
  },
  {
   "cell_type": "markdown",
   "metadata": {},
   "source": [
    "## Sources:\n",
    "- https://huggingface.co/cardiffnlp/twitter-xlm-roberta-base-sentiment\n",
    "- https://huggingface.co/alger-ia\n",
    "- https://huggingface.co/Abdou"
   ]
  },
  {
   "cell_type": "code",
   "execution_count": 12,
   "metadata": {
    "execution": {
     "iopub.execute_input": "2025-01-19T10:14:19.521813Z",
     "iopub.status.busy": "2025-01-19T10:14:19.521476Z",
     "iopub.status.idle": "2025-01-19T10:14:19.542434Z",
     "shell.execute_reply": "2025-01-19T10:14:19.541716Z",
     "shell.execute_reply.started": "2025-01-19T10:14:19.521785Z"
    },
    "trusted": true
   },
   "outputs": [
    {
     "data": {
      "text/html": [
       "<div>\n",
       "<style scoped>\n",
       "    .dataframe tbody tr th:only-of-type {\n",
       "        vertical-align: middle;\n",
       "    }\n",
       "\n",
       "    .dataframe tbody tr th {\n",
       "        vertical-align: top;\n",
       "    }\n",
       "\n",
       "    .dataframe thead th {\n",
       "        text-align: right;\n",
       "    }\n",
       "</style>\n",
       "<table border=\"1\" class=\"dataframe\">\n",
       "  <thead>\n",
       "    <tr style=\"text-align: right;\">\n",
       "      <th></th>\n",
       "      <th>id</th>\n",
       "      <th>text</th>\n",
       "      <th>anger</th>\n",
       "      <th>disgust</th>\n",
       "      <th>fear</th>\n",
       "      <th>joy</th>\n",
       "      <th>sadness</th>\n",
       "      <th>surprise</th>\n",
       "    </tr>\n",
       "  </thead>\n",
       "  <tbody>\n",
       "    <tr>\n",
       "      <th>0</th>\n",
       "      <td>arq_train_track_a_00001</td>\n",
       "      <td>عيني: عمر! رد بالك، تطلب السماح. ارواح هنا خير...</td>\n",
       "      <td>1</td>\n",
       "      <td>0</td>\n",
       "      <td>0</td>\n",
       "      <td>0</td>\n",
       "      <td>0</td>\n",
       "      <td>0</td>\n",
       "    </tr>\n",
       "    <tr>\n",
       "      <th>1</th>\n",
       "      <td>arq_train_track_a_00002</td>\n",
       "      <td>عيني:\"هو درّق وجهه تحت التراب و الهم طاح عليا!\"</td>\n",
       "      <td>1</td>\n",
       "      <td>0</td>\n",
       "      <td>0</td>\n",
       "      <td>0</td>\n",
       "      <td>1</td>\n",
       "      <td>0</td>\n",
       "    </tr>\n",
       "    <tr>\n",
       "      <th>2</th>\n",
       "      <td>arq_train_track_a_00003</td>\n",
       "      <td>الراوي: في السحين طلعت الشمس و ريحة القهوة كان...</td>\n",
       "      <td>0</td>\n",
       "      <td>0</td>\n",
       "      <td>0</td>\n",
       "      <td>1</td>\n",
       "      <td>0</td>\n",
       "      <td>1</td>\n",
       "    </tr>\n",
       "    <tr>\n",
       "      <th>3</th>\n",
       "      <td>arq_train_track_a_00004</td>\n",
       "      <td>عيني: أنا يا عجوزة الڨاراڨوز؟ أنا نحسدك؟ أنا!؟</td>\n",
       "      <td>1</td>\n",
       "      <td>1</td>\n",
       "      <td>0</td>\n",
       "      <td>0</td>\n",
       "      <td>0</td>\n",
       "      <td>1</td>\n",
       "    </tr>\n",
       "    <tr>\n",
       "      <th>4</th>\n",
       "      <td>arq_train_track_a_00005</td>\n",
       "      <td>الراوي: كان حاس النجوم يشوفوا فيه و كلّ مرّة ن...</td>\n",
       "      <td>0</td>\n",
       "      <td>0</td>\n",
       "      <td>1</td>\n",
       "      <td>0</td>\n",
       "      <td>0</td>\n",
       "      <td>1</td>\n",
       "    </tr>\n",
       "  </tbody>\n",
       "</table>\n",
       "</div>"
      ],
      "text/plain": [
       "                        id                                               text  \\\n",
       "0  arq_train_track_a_00001  عيني: عمر! رد بالك، تطلب السماح. ارواح هنا خير...   \n",
       "1  arq_train_track_a_00002    عيني:\"هو درّق وجهه تحت التراب و الهم طاح عليا!\"   \n",
       "2  arq_train_track_a_00003  الراوي: في السحين طلعت الشمس و ريحة القهوة كان...   \n",
       "3  arq_train_track_a_00004     عيني: أنا يا عجوزة الڨاراڨوز؟ أنا نحسدك؟ أنا!؟   \n",
       "4  arq_train_track_a_00005  الراوي: كان حاس النجوم يشوفوا فيه و كلّ مرّة ن...   \n",
       "\n",
       "   anger  disgust  fear  joy  sadness  surprise  \n",
       "0      1        0     0    0        0         0  \n",
       "1      1        0     0    0        1         0  \n",
       "2      0        0     0    1        0         1  \n",
       "3      1        1     0    0        0         1  \n",
       "4      0        0     1    0        0         1  "
      ]
     },
     "execution_count": 12,
     "metadata": {},
     "output_type": "execute_result"
    }
   ],
   "source": [
    "train_arq.head()"
   ]
  },
  {
   "cell_type": "code",
   "execution_count": 13,
   "metadata": {
    "execution": {
     "iopub.execute_input": "2025-01-19T10:14:28.320976Z",
     "iopub.status.busy": "2025-01-19T10:14:28.320670Z",
     "iopub.status.idle": "2025-01-19T10:14:28.342457Z",
     "shell.execute_reply": "2025-01-19T10:14:28.341775Z",
     "shell.execute_reply.started": "2025-01-19T10:14:28.320952Z"
    },
    "trusted": true
   },
   "outputs": [
    {
     "name": "stdout",
     "output_type": "stream",
     "text": [
      "<class 'pandas.core.frame.DataFrame'>\n",
      "RangeIndex: 901 entries, 0 to 900\n",
      "Data columns (total 8 columns):\n",
      " #   Column    Non-Null Count  Dtype \n",
      "---  ------    --------------  ----- \n",
      " 0   id        901 non-null    object\n",
      " 1   text      901 non-null    object\n",
      " 2   anger     901 non-null    int64 \n",
      " 3   disgust   901 non-null    int64 \n",
      " 4   fear      901 non-null    int64 \n",
      " 5   joy       901 non-null    int64 \n",
      " 6   sadness   901 non-null    int64 \n",
      " 7   surprise  901 non-null    int64 \n",
      "dtypes: int64(6), object(2)\n",
      "memory usage: 56.4+ KB\n"
     ]
    }
   ],
   "source": [
    "train_arq.info()"
   ]
  },
  {
   "cell_type": "code",
   "execution_count": 14,
   "metadata": {
    "execution": {
     "iopub.execute_input": "2025-01-19T10:14:36.574345Z",
     "iopub.status.busy": "2025-01-19T10:14:36.574064Z",
     "iopub.status.idle": "2025-01-19T10:14:36.583118Z",
     "shell.execute_reply": "2025-01-19T10:14:36.582202Z",
     "shell.execute_reply.started": "2025-01-19T10:14:36.574324Z"
    },
    "trusted": true
   },
   "outputs": [
    {
     "name": "stdout",
     "output_type": "stream",
     "text": [
      "<class 'pandas.core.frame.DataFrame'>\n",
      "RangeIndex: 100 entries, 0 to 99\n",
      "Data columns (total 8 columns):\n",
      " #   Column    Non-Null Count  Dtype \n",
      "---  ------    --------------  ----- \n",
      " 0   id        100 non-null    object\n",
      " 1   text      100 non-null    object\n",
      " 2   anger     100 non-null    int64 \n",
      " 3   disgust   100 non-null    int64 \n",
      " 4   fear      100 non-null    int64 \n",
      " 5   joy       100 non-null    int64 \n",
      " 6   sadness   100 non-null    int64 \n",
      " 7   surprise  100 non-null    int64 \n",
      "dtypes: int64(6), object(2)\n",
      "memory usage: 6.4+ KB\n"
     ]
    }
   ],
   "source": [
    "dev_arq.info()"
   ]
  },
  {
   "cell_type": "code",
   "execution_count": 16,
   "metadata": {
    "execution": {
     "iopub.execute_input": "2025-01-19T10:15:20.521755Z",
     "iopub.status.busy": "2025-01-19T10:15:20.521462Z",
     "iopub.status.idle": "2025-01-19T10:15:20.673433Z",
     "shell.execute_reply": "2025-01-19T10:15:20.672732Z",
     "shell.execute_reply.started": "2025-01-19T10:15:20.521731Z"
    },
    "trusted": true
   },
   "outputs": [
    {
     "data": {
      "text/plain": [
       "<Axes: >"
      ]
     },
     "execution_count": 16,
     "metadata": {},
     "output_type": "execute_result"
    },
    {
     "data": {
      "image/png": "[encoded data removed]",
      "text/plain": [
       "<Figure size 640x480 with 1 Axes>"
      ]
     },
     "metadata": {},
     "output_type": "display_data"
    }
   ],
   "source": [
    "attributes = ['anger', 'fear', 'joy', 'sadness', 'disgust', 'surprise']\n",
    "train_arq[attributes].sum().plot.bar()"
   ]
  },
  {
   "cell_type": "code",
   "execution_count": 17,
   "metadata": {
    "execution": {
     "iopub.execute_input": "2025-01-19T10:15:28.419241Z",
     "iopub.status.busy": "2025-01-19T10:15:28.418930Z",
     "iopub.status.idle": "2025-01-19T10:15:28.582312Z",
     "shell.execute_reply": "2025-01-19T10:15:28.581630Z",
     "shell.execute_reply.started": "2025-01-19T10:15:28.419215Z"
    },
    "trusted": true
   },
   "outputs": [
    {
     "data": {
      "text/plain": [
       "<Axes: >"
      ]
     },
     "execution_count": 17,
     "metadata": {},
     "output_type": "execute_result"
    },
    {
     "data": {
      "image/png": "[encoded data removed]",
      "text/plain": [
       "<Figure size 640x480 with 1 Axes>"
      ]
     },
     "metadata": {},
     "output_type": "display_data"
    }
   ],
   "source": [
    "dev_arq[attributes].sum().plot.bar()"
   ]
  },
  {
   "cell_type": "code",
   "execution_count": 18,
   "metadata": {
    "execution": {
     "iopub.execute_input": "2025-01-19T10:15:38.546015Z",
     "iopub.status.busy": "2025-01-19T10:15:38.545650Z",
     "iopub.status.idle": "2025-01-19T10:15:38.554934Z",
     "shell.execute_reply": "2025-01-19T10:15:38.554037Z",
     "shell.execute_reply.started": "2025-01-19T10:15:38.545984Z"
    },
    "trusted": true
   },
   "outputs": [
    {
     "name": "stdout",
     "output_type": "stream",
     "text": [
      "<class 'pandas.core.frame.DataFrame'>\n",
      "RangeIndex: 902 entries, 0 to 901\n",
      "Data columns (total 8 columns):\n",
      " #   Column    Non-Null Count  Dtype  \n",
      "---  ------    --------------  -----  \n",
      " 0   id        902 non-null    object \n",
      " 1   text      902 non-null    object \n",
      " 2   anger     0 non-null      float64\n",
      " 3   disgust   0 non-null      float64\n",
      " 4   fear      0 non-null      float64\n",
      " 5   joy       0 non-null      float64\n",
      " 6   sadness   0 non-null      float64\n",
      " 7   surprise  0 non-null      float64\n",
      "dtypes: float64(6), object(2)\n",
      "memory usage: 56.5+ KB\n"
     ]
    }
   ],
   "source": [
    "test_arq.info()"
   ]
  },
  {
   "cell_type": "code",
   "execution_count": 19,
   "metadata": {
    "execution": {
     "iopub.execute_input": "2025-01-19T10:15:44.481163Z",
     "iopub.status.busy": "2025-01-19T10:15:44.480861Z",
     "iopub.status.idle": "2025-01-19T10:15:44.493386Z",
     "shell.execute_reply": "2025-01-19T10:15:44.492531Z",
     "shell.execute_reply.started": "2025-01-19T10:15:44.481141Z"
    },
    "trusted": true
   },
   "outputs": [
    {
     "data": {
      "text/html": [
       "<div>\n",
       "<style scoped>\n",
       "    .dataframe tbody tr th:only-of-type {\n",
       "        vertical-align: middle;\n",
       "    }\n",
       "\n",
       "    .dataframe tbody tr th {\n",
       "        vertical-align: top;\n",
       "    }\n",
       "\n",
       "    .dataframe thead th {\n",
       "        text-align: right;\n",
       "    }\n",
       "</style>\n",
       "<table border=\"1\" class=\"dataframe\">\n",
       "  <thead>\n",
       "    <tr style=\"text-align: right;\">\n",
       "      <th></th>\n",
       "      <th>id</th>\n",
       "      <th>text</th>\n",
       "      <th>anger</th>\n",
       "      <th>disgust</th>\n",
       "      <th>fear</th>\n",
       "      <th>joy</th>\n",
       "      <th>sadness</th>\n",
       "      <th>surprise</th>\n",
       "    </tr>\n",
       "  </thead>\n",
       "  <tbody>\n",
       "    <tr>\n",
       "      <th>0</th>\n",
       "      <td>arq_test_track_a_00001</td>\n",
       "      <td>الراوي: كانت تدي حفنة لوبيا يابسة، تزربع الحبا...</td>\n",
       "      <td>NaN</td>\n",
       "      <td>NaN</td>\n",
       "      <td>NaN</td>\n",
       "      <td>NaN</td>\n",
       "      <td>NaN</td>\n",
       "      <td>NaN</td>\n",
       "    </tr>\n",
       "    <tr>\n",
       "      <th>1</th>\n",
       "      <td>arq_test_track_a_00002</td>\n",
       "      <td>بصّح عمر خمم: يمّاه زعمة تقدر تهرب للدّيوانة؟</td>\n",
       "      <td>NaN</td>\n",
       "      <td>NaN</td>\n",
       "      <td>NaN</td>\n",
       "      <td>NaN</td>\n",
       "      <td>NaN</td>\n",
       "      <td>NaN</td>\n",
       "    </tr>\n",
       "    <tr>\n",
       "      <th>2</th>\n",
       "      <td>arq_test_track_a_00003</td>\n",
       "      <td>امالا كان لازم على عمر يكدب و يكمل: \"النار شاع...</td>\n",
       "      <td>NaN</td>\n",
       "      <td>NaN</td>\n",
       "      <td>NaN</td>\n",
       "      <td>NaN</td>\n",
       "      <td>NaN</td>\n",
       "      <td>NaN</td>\n",
       "    </tr>\n",
       "    <tr>\n",
       "      <th>3</th>\n",
       "      <td>arq_test_track_a_00004</td>\n",
       "      <td>الراوي: الحالة كانت مهوّلة اليوم، وعلاه كان ال...</td>\n",
       "      <td>NaN</td>\n",
       "      <td>NaN</td>\n",
       "      <td>NaN</td>\n",
       "      <td>NaN</td>\n",
       "      <td>NaN</td>\n",
       "      <td>NaN</td>\n",
       "    </tr>\n",
       "    <tr>\n",
       "      <th>4</th>\n",
       "      <td>arq_test_track_a_00005</td>\n",
       "      <td>الراوي: و كان هاذ الشي محيّر الناس لا خاطرش كا...</td>\n",
       "      <td>NaN</td>\n",
       "      <td>NaN</td>\n",
       "      <td>NaN</td>\n",
       "      <td>NaN</td>\n",
       "      <td>NaN</td>\n",
       "      <td>NaN</td>\n",
       "    </tr>\n",
       "  </tbody>\n",
       "</table>\n",
       "</div>"
      ],
      "text/plain": [
       "                       id                                               text  \\\n",
       "0  arq_test_track_a_00001  الراوي: كانت تدي حفنة لوبيا يابسة، تزربع الحبا...   \n",
       "1  arq_test_track_a_00002      بصّح عمر خمم: يمّاه زعمة تقدر تهرب للدّيوانة؟   \n",
       "2  arq_test_track_a_00003  امالا كان لازم على عمر يكدب و يكمل: \"النار شاع...   \n",
       "3  arq_test_track_a_00004  الراوي: الحالة كانت مهوّلة اليوم، وعلاه كان ال...   \n",
       "4  arq_test_track_a_00005  الراوي: و كان هاذ الشي محيّر الناس لا خاطرش كا...   \n",
       "\n",
       "   anger  disgust  fear  joy  sadness  surprise  \n",
       "0    NaN      NaN   NaN  NaN      NaN       NaN  \n",
       "1    NaN      NaN   NaN  NaN      NaN       NaN  \n",
       "2    NaN      NaN   NaN  NaN      NaN       NaN  \n",
       "3    NaN      NaN   NaN  NaN      NaN       NaN  \n",
       "4    NaN      NaN   NaN  NaN      NaN       NaN  "
      ]
     },
     "execution_count": 19,
     "metadata": {},
     "output_type": "execute_result"
    }
   ],
   "source": [
    "test_arq.head()"
   ]
  },
  {
   "cell_type": "code",
   "execution_count": 11,
   "metadata": {
    "execution": {
     "iopub.execute_input": "2025-01-20T10:40:22.654379Z",
     "iopub.status.busy": "2025-01-20T10:40:22.654065Z",
     "iopub.status.idle": "2025-01-20T10:40:22.658069Z",
     "shell.execute_reply": "2025-01-20T10:40:22.657225Z",
     "shell.execute_reply.started": "2025-01-20T10:40:22.654330Z"
    },
    "trusted": true
   },
   "outputs": [],
   "source": [
    "emotion_labels = [\"anger\", \"disgust\", \"fear\", \"joy\", \"sadness\", \"surprise\"]"
   ]
  },
  {
   "cell_type": "markdown",
   "metadata": {},
   "source": [
    "# Ara BERT Mini Algerian"
   ]
  },
  {
   "cell_type": "code",
   "execution_count": null,
   "metadata": {
    "execution": {
     "iopub.execute_input": "2025-01-19T17:24:00.196128Z",
     "iopub.status.busy": "2025-01-19T17:24:00.195637Z",
     "iopub.status.idle": "2025-01-19T17:24:02.411036Z",
     "shell.execute_reply": "2025-01-19T17:24:02.409980Z",
     "shell.execute_reply.started": "2025-01-19T17:24:00.196095Z"
    },
    "trusted": true
   },
   "outputs": [
    {
     "data": {
      "application/vnd.jupyter.widget-view+json": {
       "model_id": "5d570c24cdbc40bf97bf3642f34ed6a4",
       "version_major": 2,
       "version_minor": 0
      },
      "text/plain": [
       "tokenizer_config.json:   0%|          | 0.00/344 [00:00<?, ?B/s]"
      ]
     },
     "metadata": {},
     "output_type": "display_data"
    },
    {
     "data": {
      "application/vnd.jupyter.widget-view+json": {
       "model_id": "7669a7a7f0974ef69af49681fc21be01",
       "version_major": 2,
       "version_minor": 0
      },
      "text/plain": [
       "config.json:   0%|          | 0.00/874 [00:00<?, ?B/s]"
      ]
     },
     "metadata": {},
     "output_type": "display_data"
    },
    {
     "data": {
      "application/vnd.jupyter.widget-view+json": {
       "model_id": "44b3834494c742ccbc482c46ca4c4213",
       "version_major": 2,
       "version_minor": 0
      },
      "text/plain": [
       "vocab.txt:   0%|          | 0.00/334k [00:00<?, ?B/s]"
      ]
     },
     "metadata": {},
     "output_type": "display_data"
    },
    {
     "data": {
      "application/vnd.jupyter.widget-view+json": {
       "model_id": "4b5706098eb74bd0a2358f6bde1fa81f",
       "version_major": 2,
       "version_minor": 0
      },
      "text/plain": [
       "tokenizer.json:   0%|          | 0.00/580k [00:00<?, ?B/s]"
      ]
     },
     "metadata": {},
     "output_type": "display_data"
    },
    {
     "data": {
      "application/vnd.jupyter.widget-view+json": {
       "model_id": "4a42fb7f1d0c4da2a57a931725ce58f4",
       "version_major": 2,
       "version_minor": 0
      },
      "text/plain": [
       "special_tokens_map.json:   0%|          | 0.00/112 [00:00<?, ?B/s]"
      ]
     },
     "metadata": {},
     "output_type": "display_data"
    },
    {
     "data": {
      "application/vnd.jupyter.widget-view+json": {
       "model_id": "d3e43581d8134c55976935cde9505ed8",
       "version_major": 2,
       "version_minor": 0
      },
      "text/plain": [
       "pytorch_model.bin:   0%|          | 0.00/46.2M [00:00<?, ?B/s]"
      ]
     },
     "metadata": {},
     "output_type": "display_data"
    },
    {
     "name": "stderr",
     "output_type": "stream",
     "text": [
      "Some weights of BertForSequenceClassification were not initialized from the model checkpoint at Abdou/arabert-mini-algerian and are newly initialized because the shapes did not match:\n",
      "- classifier.weight: found shape torch.Size([3, 256]) in the checkpoint and torch.Size([6, 256]) in the model instantiated\n",
      "- classifier.bias: found shape torch.Size([3]) in the checkpoint and torch.Size([6]) in the model instantiated\n",
      "You should probably TRAIN this model on a down-stream task to be able to use it for predictions and inference.\n"
     ]
    }
   ],
   "source": [
    "tokenizer = AutoTokenizer.from_pretrained('Abdou/arabert-mini-algerian')\n",
    "model = AutoModelForSequenceClassification.from_pretrained('Abdou/arabert-mini-algerian',\n",
    "                                                           problem_type=\"multi_label_classification\",\n",
    "                                                           ignore_mismatched_sizes=True,\n",
    "                                                           num_labels=len(emotion_labels))"
   ]
  },
  {
   "cell_type": "code",
   "execution_count": null,
   "metadata": {
    "execution": {
     "iopub.execute_input": "2025-01-20T10:41:34.124730Z",
     "iopub.status.busy": "2025-01-20T10:41:34.124379Z",
     "iopub.status.idle": "2025-01-20T10:41:34.128924Z",
     "shell.execute_reply": "2025-01-20T10:41:34.128207Z",
     "shell.execute_reply.started": "2025-01-20T10:41:34.124699Z"
    },
    "trusted": true
   },
   "outputs": [],
   "source": [
    "def tokenize(batch):\n",
    "    return tokenizer(batch['text'], padding=True, truncation=True, max_length=128)"
   ]
  },
  {
   "cell_type": "code",
   "execution_count": null,
   "metadata": {
    "execution": {
     "iopub.execute_input": "2025-01-20T10:41:36.417957Z",
     "iopub.status.busy": "2025-01-20T10:41:36.417536Z",
     "iopub.status.idle": "2025-01-20T10:41:36.424038Z",
     "shell.execute_reply": "2025-01-20T10:41:36.422720Z",
     "shell.execute_reply.started": "2025-01-20T10:41:36.417922Z"
    },
    "trusted": true
   },
   "outputs": [],
   "source": [
    "def encode_data(df, tokenizer):\n",
    "    encodings = tokenizer(list(df['text']), truncation=True, padding=True, max_length=128)\n",
    "    labels = df[emotion_labels].fillna(0).values\n",
    "    return encodings, labels"
   ]
  },
  {
   "cell_type": "code",
   "execution_count": 15,
   "metadata": {
    "execution": {
     "iopub.execute_input": "2025-01-20T10:41:38.046609Z",
     "iopub.status.busy": "2025-01-20T10:41:38.046192Z",
     "iopub.status.idle": "2025-01-20T10:41:38.168729Z",
     "shell.execute_reply": "2025-01-20T10:41:38.167734Z",
     "shell.execute_reply.started": "2025-01-20T10:41:38.046576Z"
    },
    "trusted": true
   },
   "outputs": [],
   "source": [
    "train_encodings, train_labels = encode_data(train_arq, tokenizer)\n",
    "dev_encodings, dev_labels = encode_data(dev_arq, tokenizer)"
   ]
  },
  {
   "cell_type": "code",
   "execution_count": null,
   "metadata": {
    "execution": {
     "iopub.execute_input": "2025-01-20T10:41:39.074279Z",
     "iopub.status.busy": "2025-01-20T10:41:39.073767Z",
     "iopub.status.idle": "2025-01-20T10:41:39.083535Z",
     "shell.execute_reply": "2025-01-20T10:41:39.081399Z",
     "shell.execute_reply.started": "2025-01-20T10:41:39.074232Z"
    },
    "trusted": true
   },
   "outputs": [],
   "source": [
    "class CustomDataset(torch.utils.data.Dataset):\n",
    "    def __init__(self, encodings, labels):\n",
    "        self.encodings = encodings\n",
    "        self.labels = torch.tensor(labels, dtype=torch.float)\n",
    "\n",
    "    def __len__(self):\n",
    "        return len(self.labels)\n",
    "\n",
    "    def __getitem__(self, idx):\n",
    "        item = {key: torch.tensor(val[idx]) for key, val in self.encodings.items()}\n",
    "        item['labels'] = self.labels[idx]\n",
    "        return item"
   ]
  },
  {
   "cell_type": "code",
   "execution_count": 17,
   "metadata": {
    "execution": {
     "iopub.execute_input": "2025-01-20T10:41:40.492517Z",
     "iopub.status.busy": "2025-01-20T10:41:40.492203Z",
     "iopub.status.idle": "2025-01-20T10:41:40.503213Z",
     "shell.execute_reply": "2025-01-20T10:41:40.502184Z",
     "shell.execute_reply.started": "2025-01-20T10:41:40.492488Z"
    },
    "trusted": true
   },
   "outputs": [],
   "source": [
    "train_dataset = CustomDataset(train_encodings, train_labels)\n",
    "dev_dataset = CustomDataset(dev_encodings, dev_labels)"
   ]
  },
  {
   "cell_type": "code",
   "execution_count": 21,
   "metadata": {
    "execution": {
     "iopub.execute_input": "2025-01-19T08:20:25.806283Z",
     "iopub.status.busy": "2025-01-19T08:20:25.805977Z",
     "iopub.status.idle": "2025-01-19T08:20:25.811969Z",
     "shell.execute_reply": "2025-01-19T08:20:25.811133Z",
     "shell.execute_reply.started": "2025-01-19T08:20:25.806259Z"
    },
    "trusted": true
   },
   "outputs": [
    {
     "data": {
      "text/plain": [
       "<__main__.CustomDataset at 0x792643da6320>"
      ]
     },
     "execution_count": 21,
     "metadata": {},
     "output_type": "execute_result"
    }
   ],
   "source": [
    "train_dataset"
   ]
  },
  {
   "cell_type": "code",
   "execution_count": null,
   "metadata": {
    "trusted": true
   },
   "outputs": [],
   "source": [
    "train_dataset.encodings"
   ]
  },
  {
   "cell_type": "code",
   "execution_count": null,
   "metadata": {
    "execution": {
     "iopub.execute_input": "2025-01-19T10:21:27.940521Z",
     "iopub.status.busy": "2025-01-19T10:21:27.940239Z",
     "iopub.status.idle": "2025-01-19T10:21:28.159002Z",
     "shell.execute_reply": "2025-01-19T10:21:28.158345Z",
     "shell.execute_reply.started": "2025-01-19T10:21:27.940499Z"
    },
    "trusted": true
   },
   "outputs": [],
   "source": [
    "def calculate_token_lengths(texts, tokenizer):\n",
    "    token_lengths = [len(tokenizer.encode(text, truncation=False)) for text in texts]\n",
    "    return token_lengths\n",
    "\n",
    "train_lengths = calculate_token_lengths(train_arq['text'], tokenizer)\n",
    "dev_lengths = calculate_token_lengths(dev_arq['text'], tokenizer)\n",
    "test_lengths = calculate_token_lengths(test_arq['text'], tokenizer)"
   ]
  },
  {
   "cell_type": "code",
   "execution_count": null,
   "metadata": {
    "execution": {
     "iopub.execute_input": "2025-01-19T10:21:34.587049Z",
     "iopub.status.busy": "2025-01-19T10:21:34.586667Z",
     "iopub.status.idle": "2025-01-19T10:21:34.892649Z",
     "shell.execute_reply": "2025-01-19T10:21:34.891786Z",
     "shell.execute_reply.started": "2025-01-19T10:21:34.587014Z"
    },
    "trusted": true
   },
   "outputs": [
    {
     "data": {
      "image/png": "[encoded data removed]",
      "text/plain": [
       "<Figure size 1000x600 with 1 Axes>"
      ]
     },
     "metadata": {},
     "output_type": "display_data"
    }
   ],
   "source": [
    "all_lengths = train_lengths + dev_lengths + test_lengths\n",
    "\n",
    "plt.figure(figsize=(10, 6))\n",
    "sns.histplot(all_lengths, bins=50, kde=True, color='blue', alpha=0.7)\n",
    "plt.axvline(x=np.percentile(all_lengths, 90), color='red', linestyle='--', label='90th Percentile')\n",
    "plt.axvline(x=np.percentile(all_lengths, 95), color='green', linestyle='--', label='95th Percentile')\n",
    "plt.title('Token Length Distribution')\n",
    "plt.xlabel('Number of Tokens')\n",
    "plt.ylabel('Frequency')\n",
    "plt.legend()\n",
    "plt.show()"
   ]
  },
  {
   "cell_type": "code",
   "execution_count": null,
   "metadata": {
    "execution": {
     "iopub.execute_input": "2025-01-20T10:41:44.706199Z",
     "iopub.status.busy": "2025-01-20T10:41:44.705835Z",
     "iopub.status.idle": "2025-01-20T10:41:44.711973Z",
     "shell.execute_reply": "2025-01-20T10:41:44.710778Z",
     "shell.execute_reply.started": "2025-01-20T10:41:44.706173Z"
    },
    "trusted": true
   },
   "outputs": [],
   "source": [
    "def compute_metrics(pred, threshold=0.3):\n",
    "    logits, labels = pred\n",
    "    predictions = (torch.sigmoid(torch.tensor(logits)) > threshold).numpy()\n",
    "    labels = labels.astype(int)\n",
    "\n",
    "    precision, recall, f1, _ = precision_recall_fscore_support(labels, predictions, average=\"weighted\")\n",
    "    accuracy = accuracy_score(labels, predictions)\n",
    "\n",
    "    return {\n",
    "        'accuracy': accuracy,\n",
    "        'f1': np.mean(f1),\n",
    "        'precision': np.mean(precision),\n",
    "        'recall': np.mean(recall),\n",
    "    }\n"
   ]
  },
  {
   "cell_type": "code",
   "execution_count": null,
   "metadata": {
    "execution": {
     "iopub.execute_input": "2025-01-19T17:24:53.498065Z",
     "iopub.status.busy": "2025-01-19T17:24:53.497779Z",
     "iopub.status.idle": "2025-01-19T17:24:53.644745Z",
     "shell.execute_reply": "2025-01-19T17:24:53.643913Z",
     "shell.execute_reply.started": "2025-01-19T17:24:53.498045Z"
    },
    "trusted": true
   },
   "outputs": [
    {
     "name": "stderr",
     "output_type": "stream",
     "text": [
      "Using the `WANDB_DISABLED` environment variable is deprecated and will be removed in v5. Use the --report_to flag to control the integrations used for logging result (for instance --report_to none).\n"
     ]
    }
   ],
   "source": [
    "training_args = TrainingArguments(\n",
    "    output_dir='./results/arq/arabert-mini-v1',\n",
    "    report_to=None,\n",
    "    evaluation_strategy=\"steps\",\n",
    "    save_total_limit = 1,\n",
    "    logging_strategy=\"epoch\",\n",
    "    load_best_model_at_end=True,\n",
    "    learning_rate=1e-5,\n",
    "    per_device_train_batch_size=8,\n",
    "    per_device_eval_batch_size=8,\n",
    "    num_train_epochs=100,\n",
    "    weight_decay=0.01,\n",
    ")"
   ]
  },
  {
   "cell_type": "code",
   "execution_count": null,
   "metadata": {
    "execution": {
     "iopub.execute_input": "2025-01-19T17:24:57.297074Z",
     "iopub.status.busy": "2025-01-19T17:24:57.296792Z",
     "iopub.status.idle": "2025-01-19T17:24:57.665015Z",
     "shell.execute_reply": "2025-01-19T17:24:57.664130Z",
     "shell.execute_reply.started": "2025-01-19T17:24:57.297054Z"
    },
    "trusted": true
   },
   "outputs": [],
   "source": [
    "trainer = Trainer(\n",
    "    model=model,\n",
    "    args=training_args,\n",
    "    train_dataset=train_dataset,\n",
    "    eval_dataset=dev_dataset,\n",
    "    tokenizer=tokenizer,\n",
    "    compute_metrics=compute_metrics\n",
    ")"
   ]
  },
  {
   "cell_type": "code",
   "execution_count": 19,
   "metadata": {
    "execution": {
     "iopub.execute_input": "2025-01-20T10:41:49.218306Z",
     "iopub.status.busy": "2025-01-20T10:41:49.217848Z",
     "iopub.status.idle": "2025-01-20T10:41:49.222736Z",
     "shell.execute_reply": "2025-01-20T10:41:49.221778Z",
     "shell.execute_reply.started": "2025-01-20T10:41:49.218273Z"
    },
    "trusted": true
   },
   "outputs": [],
   "source": [
    "from unittest import mock\n",
    "from unittest.mock import Mock\n",
    "class Dummy:\n",
    "    def __enter__(self):\n",
    "        return Mock()\n",
    "\n",
    "    def __exit__(self, *args):\n",
    "        pass"
   ]
  },
  {
   "cell_type": "code",
   "execution_count": 22,
   "metadata": {
    "execution": {
     "iopub.execute_input": "2025-01-19T17:25:02.821621Z",
     "iopub.status.busy": "2025-01-19T17:25:02.821288Z",
     "iopub.status.idle": "2025-01-19T17:28:19.566940Z",
     "shell.execute_reply": "2025-01-19T17:28:19.566180Z",
     "shell.execute_reply.started": "2025-01-19T17:25:02.821594Z"
    },
    "trusted": true
   },
   "outputs": [
    {
     "data": {
      "text/html": [
       "\n",
       "    <div>\n",
       "      \n",
       "      <progress value='5700' max='5700' style='width:300px; height:20px; vertical-align: middle;'></progress>\n",
       "      [5700/5700 03:14, Epoch 100/100]\n",
       "    </div>\n",
       "    <table border=\"1\" class=\"dataframe\">\n",
       "  <thead>\n",
       " <tr style=\"text-align: left;\">\n",
       "      <th>Step</th>\n",
       "      <th>Training Loss</th>\n",
       "      <th>Validation Loss</th>\n",
       "      <th>Accuracy</th>\n",
       "      <th>F1</th>\n",
       "      <th>Precision</th>\n",
       "      <th>Recall</th>\n",
       "    </tr>\n",
       "  </thead>\n",
       "  <tbody>\n",
       "    <tr>\n",
       "      <td>500</td>\n",
       "      <td>0.559300</td>\n",
       "      <td>0.558584</td>\n",
       "      <td>0.070000</td>\n",
       "      <td>0.445701</td>\n",
       "      <td>0.399519</td>\n",
       "      <td>0.588235</td>\n",
       "    </tr>\n",
       "    <tr>\n",
       "      <td>1000</td>\n",
       "      <td>0.488200</td>\n",
       "      <td>0.533447</td>\n",
       "      <td>0.080000</td>\n",
       "      <td>0.506985</td>\n",
       "      <td>0.434155</td>\n",
       "      <td>0.647059</td>\n",
       "    </tr>\n",
       "    <tr>\n",
       "      <td>1500</td>\n",
       "      <td>0.431900</td>\n",
       "      <td>0.527934</td>\n",
       "      <td>0.060000</td>\n",
       "      <td>0.513906</td>\n",
       "      <td>0.437707</td>\n",
       "      <td>0.647059</td>\n",
       "    </tr>\n",
       "    <tr>\n",
       "      <td>2000</td>\n",
       "      <td>0.388500</td>\n",
       "      <td>0.524717</td>\n",
       "      <td>0.100000</td>\n",
       "      <td>0.537478</td>\n",
       "      <td>0.457194</td>\n",
       "      <td>0.664706</td>\n",
       "    </tr>\n",
       "    <tr>\n",
       "      <td>2500</td>\n",
       "      <td>0.356500</td>\n",
       "      <td>0.527283</td>\n",
       "      <td>0.100000</td>\n",
       "      <td>0.549484</td>\n",
       "      <td>0.485015</td>\n",
       "      <td>0.652941</td>\n",
       "    </tr>\n",
       "    <tr>\n",
       "      <td>3000</td>\n",
       "      <td>0.323300</td>\n",
       "      <td>0.532482</td>\n",
       "      <td>0.070000</td>\n",
       "      <td>0.534412</td>\n",
       "      <td>0.500065</td>\n",
       "      <td>0.594118</td>\n",
       "    </tr>\n",
       "    <tr>\n",
       "      <td>3500</td>\n",
       "      <td>0.297800</td>\n",
       "      <td>0.538046</td>\n",
       "      <td>0.120000</td>\n",
       "      <td>0.552506</td>\n",
       "      <td>0.525342</td>\n",
       "      <td>0.600000</td>\n",
       "    </tr>\n",
       "    <tr>\n",
       "      <td>4000</td>\n",
       "      <td>0.277600</td>\n",
       "      <td>0.544496</td>\n",
       "      <td>0.120000</td>\n",
       "      <td>0.548897</td>\n",
       "      <td>0.515640</td>\n",
       "      <td>0.600000</td>\n",
       "    </tr>\n",
       "    <tr>\n",
       "      <td>4500</td>\n",
       "      <td>0.264400</td>\n",
       "      <td>0.550277</td>\n",
       "      <td>0.120000</td>\n",
       "      <td>0.549397</td>\n",
       "      <td>0.514656</td>\n",
       "      <td>0.605882</td>\n",
       "    </tr>\n",
       "    <tr>\n",
       "      <td>5000</td>\n",
       "      <td>0.256500</td>\n",
       "      <td>0.555651</td>\n",
       "      <td>0.130000</td>\n",
       "      <td>0.556716</td>\n",
       "      <td>0.517845</td>\n",
       "      <td>0.611765</td>\n",
       "    </tr>\n",
       "    <tr>\n",
       "      <td>5500</td>\n",
       "      <td>0.250100</td>\n",
       "      <td>0.556353</td>\n",
       "      <td>0.130000</td>\n",
       "      <td>0.558774</td>\n",
       "      <td>0.518720</td>\n",
       "      <td>0.617647</td>\n",
       "    </tr>\n",
       "  </tbody>\n",
       "</table><p>"
      ],
      "text/plain": [
       "<IPython.core.display.HTML object>"
      ]
     },
     "metadata": {},
     "output_type": "display_data"
    }
   ],
   "source": [
    "with mock.patch('wandb.init', return_value=Dummy()):\n",
    "    trainer.train()"
   ]
  },
  {
   "cell_type": "code",
   "execution_count": null,
   "metadata": {
    "execution": {
     "iopub.execute_input": "2025-01-20T10:41:52.243468Z",
     "iopub.status.busy": "2025-01-20T10:41:52.243120Z",
     "iopub.status.idle": "2025-01-20T10:41:52.248325Z",
     "shell.execute_reply": "2025-01-20T10:41:52.247456Z",
     "shell.execute_reply.started": "2025-01-20T10:41:52.243439Z"
    },
    "trusted": true
   },
   "outputs": [],
   "source": [
    "def find_best_threshold(pred, thresholds):\n",
    "    best_threshold = 0.5\n",
    "    best_f1 = 0\n",
    "    \n",
    "    for t in thresholds:\n",
    "        metrics = compute_metrics(pred, threshold=t)\n",
    "        print(f\"metrics: {metrics}\")\n",
    "        if metrics['f1'] > best_f1:\n",
    "            best_f1 = metrics['f1']\n",
    "            best_threshold = t\n",
    "\n",
    "    return best_threshold, best_f1"
   ]
  },
  {
   "cell_type": "code",
   "execution_count": null,
   "metadata": {
    "execution": {
     "iopub.execute_input": "2025-01-20T10:41:53.565554Z",
     "iopub.status.busy": "2025-01-20T10:41:53.565193Z",
     "iopub.status.idle": "2025-01-20T10:41:53.570653Z",
     "shell.execute_reply": "2025-01-20T10:41:53.569812Z",
     "shell.execute_reply.started": "2025-01-20T10:41:53.565525Z"
    },
    "trusted": true
   },
   "outputs": [],
   "source": [
    "def evaluate_on_validation_set(trainer, threshold_range=np.linspace(0.1, 0.9, 9)):\n",
    "    predictions, labels, _ = trainer.predict(dev_dataset) \n",
    "    pred = (predictions, labels)\n",
    "\n",
    "    best_threshold, best_f1 = find_best_threshold(pred, thresholds=threshold_range)\n",
    "    print(\"----------------------------------------------\")\n",
    "    print(f\"Best Threshold: {best_threshold}, Best F1-Score: {best_f1:.4f}\")\n",
    "    print(\"***********************************************\")\n",
    "    final_metrics = compute_metrics(pred, threshold=best_threshold)\n",
    "    print(f\"Metrics with Best Threshold: {final_metrics}\")\n",
    "\n",
    "    return best_threshold, final_metrics"
   ]
  },
  {
   "cell_type": "code",
   "execution_count": 25,
   "metadata": {
    "execution": {
     "iopub.execute_input": "2025-01-19T17:28:43.976128Z",
     "iopub.status.busy": "2025-01-19T17:28:43.975851Z",
     "iopub.status.idle": "2025-01-19T17:28:44.174049Z",
     "shell.execute_reply": "2025-01-19T17:28:44.173244Z",
     "shell.execute_reply.started": "2025-01-19T17:28:43.976107Z"
    },
    "trusted": true
   },
   "outputs": [
    {
     "data": {
      "text/html": [],
      "text/plain": [
       "<IPython.core.display.HTML object>"
      ]
     },
     "metadata": {},
     "output_type": "display_data"
    },
    {
     "name": "stdout",
     "output_type": "stream",
     "text": [
      "metrics: {'accuracy': 0.01, 'f1': 0.48171622243913137, 'precision': 0.32266762405600696, 'recall': 0.9823529411764705}\n",
      "metrics: {'accuracy': 0.03, 'f1': 0.5254175110093129, 'precision': 0.3903664826336005, 'recall': 0.8117647058823529}\n",
      "metrics: {'accuracy': 0.1, 'f1': 0.5374784757142993, 'precision': 0.4571942868056314, 'recall': 0.6647058823529411}\n",
      "metrics: {'accuracy': 0.12, 'f1': 0.5372156661992213, 'precision': 0.5354130870849136, 'recall': 0.5588235294117647}\n",
      "metrics: {'accuracy': 0.18, 'f1': 0.4877776941677576, 'precision': 0.6322768799827624, 'recall': 0.43529411764705883}\n",
      "metrics: {'accuracy': 0.18, 'f1': 0.38088724575322724, 'precision': 0.7153047502892703, 'recall': 0.3}\n",
      "metrics: {'accuracy': 0.16, 'f1': 0.31203933955154495, 'precision': 0.6145151777288456, 'recall': 0.21764705882352942}\n",
      "metrics: {'accuracy': 0.14, 'f1': 0.16160844255565707, 'precision': 0.6661764705882353, 'recall': 0.1}\n",
      "metrics: {'accuracy': 0.12, 'f1': 0.0, 'precision': 0.0, 'recall': 0.0}\n",
      "----------------------------------------------\n",
      "Best Threshold: 0.30000000000000004, Best F1-Score: 0.5375\n",
      "***********************************************\n",
      "Metrics with Best Threshold: {'accuracy': 0.1, 'f1': 0.5374784757142993, 'precision': 0.4571942868056314, 'recall': 0.6647058823529411}\n",
      "Optimal Threshold: 0.30000000000000004\n",
      "Final Metrics: {'accuracy': 0.1, 'f1': 0.5374784757142993, 'precision': 0.4571942868056314, 'recall': 0.6647058823529411}\n"
     ]
    }
   ],
   "source": [
    "best_threshold, final_metrics = evaluate_on_validation_set(trainer)\n",
    "print(f\"Optimal Threshold: {best_threshold}\")\n",
    "print(f\"Final Metrics: {final_metrics}\")"
   ]
  },
  {
   "cell_type": "code",
   "execution_count": null,
   "metadata": {
    "execution": {
     "iopub.execute_input": "2025-01-19T17:28:52.156356Z",
     "iopub.status.busy": "2025-01-19T17:28:52.156047Z",
     "iopub.status.idle": "2025-01-19T17:28:52.290463Z",
     "shell.execute_reply": "2025-01-19T17:28:52.289812Z",
     "shell.execute_reply.started": "2025-01-19T17:28:52.156329Z"
    },
    "trusted": true
   },
   "outputs": [
    {
     "data": {
      "text/html": [],
      "text/plain": [
       "<IPython.core.display.HTML object>"
      ]
     },
     "metadata": {},
     "output_type": "display_data"
    }
   ],
   "source": [
    "dev_results = trainer.predict(dev_dataset)\n",
    "\n",
    "predictions = (torch.sigmoid(torch.tensor(dev_results.predictions)) > 0.3).numpy()\n",
    "conf_matrix = confusion_matrix(dev_labels.ravel(), predictions.ravel())"
   ]
  },
  {
   "cell_type": "code",
   "execution_count": 27,
   "metadata": {
    "execution": {
     "iopub.execute_input": "2025-01-19T17:28:55.197082Z",
     "iopub.status.busy": "2025-01-19T17:28:55.196793Z",
     "iopub.status.idle": "2025-01-19T17:28:55.484757Z",
     "shell.execute_reply": "2025-01-19T17:28:55.483879Z",
     "shell.execute_reply.started": "2025-01-19T17:28:55.197061Z"
    },
    "trusted": true
   },
   "outputs": [
    {
     "data": {
      "image/png": "[encoded data removed]",
      "text/plain": [
       "<Figure size 640x480 with 2 Axes>"
      ]
     },
     "metadata": {},
     "output_type": "display_data"
    }
   ],
   "source": [
    "disp = ConfusionMatrixDisplay(confusion_matrix=conf_matrix)\n",
    "disp.plot(cmap=plt.cm.Blues)\n",
    "plt.title('Confusion Matrix')\n",
    "plt.show()"
   ]
  },
  {
   "cell_type": "code",
   "execution_count": null,
   "metadata": {
    "execution": {
     "iopub.execute_input": "2025-01-19T17:29:49.578127Z",
     "iopub.status.busy": "2025-01-19T17:29:49.577801Z",
     "iopub.status.idle": "2025-01-19T17:29:49.751339Z",
     "shell.execute_reply": "2025-01-19T17:29:49.750518Z",
     "shell.execute_reply.started": "2025-01-19T17:29:49.578100Z"
    },
    "trusted": true
   },
   "outputs": [
    {
     "data": {
      "image/png": "[encoded data removed]",
      "text/plain": [
       "<Figure size 640x480 with 1 Axes>"
      ]
     },
     "metadata": {},
     "output_type": "display_data"
    }
   ],
   "source": [
    "fpr, tpr, _ = roc_curve(dev_labels.ravel(), dev_results.predictions.ravel())\n",
    "roc_auc = auc(fpr, tpr)\n",
    "\n",
    "plt.figure()\n",
    "plt.plot(fpr, tpr, color='blue', lw=2, label=f'ROC curve (AUC = {roc_auc:.2f})')\n",
    "plt.plot([0, 1], [0, 1], color='gray', lw=2, linestyle='--')\n",
    "plt.xlabel('False Positive Rate')\n",
    "plt.ylabel('True Positive Rate')\n",
    "plt.title('Receiver Operating Characteristic')\n",
    "plt.legend(loc='lower right')\n",
    "plt.show()"
   ]
  },
  {
   "cell_type": "code",
   "execution_count": null,
   "metadata": {
    "execution": {
     "iopub.execute_input": "2025-01-19T17:29:55.235180Z",
     "iopub.status.busy": "2025-01-19T17:29:55.234900Z",
     "iopub.status.idle": "2025-01-19T17:29:55.244563Z",
     "shell.execute_reply": "2025-01-19T17:29:55.243902Z",
     "shell.execute_reply.started": "2025-01-19T17:29:55.235159Z"
    },
    "trusted": true
   },
   "outputs": [
    {
     "name": "stdout",
     "output_type": "stream",
     "text": [
      "Accuracy: 0.1000\n",
      "anger: Precision=0.4583, Recall=0.7097, F1=0.5570\n",
      "disgust: Precision=0.5333, Recall=0.5714, F1=0.5517\n",
      "fear: Precision=0.4545, Recall=0.5769, F1=0.5085\n",
      "joy: Precision=0.3125, Recall=0.3846, F1=0.3448\n",
      "sadness: Precision=0.4583, Recall=0.8250, F1=0.5893\n",
      "surprise: Precision=0.4490, Recall=0.6875, F1=0.5432\n"
     ]
    }
   ],
   "source": [
    "precision, recall, f1, _ = precision_recall_fscore_support(\n",
    "    dev_labels, predictions, average=None\n",
    ")\n",
    "accuracy = accuracy_score(dev_labels, predictions)\n",
    "\n",
    "print(f'Accuracy: {accuracy:.4f}')\n",
    "for i, label in enumerate(emotion_labels):\n",
    "    print(f\"{label}: Precision={precision[i]:.4f}, Recall={recall[i]:.4f}, F1={f1[i]:.4f}\")"
   ]
  },
  {
   "cell_type": "code",
   "execution_count": null,
   "metadata": {
    "execution": {
     "iopub.execute_input": "2025-01-19T17:30:07.559431Z",
     "iopub.status.busy": "2025-01-19T17:30:07.559131Z",
     "iopub.status.idle": "2025-01-19T17:30:08.595177Z",
     "shell.execute_reply": "2025-01-19T17:30:08.594341Z",
     "shell.execute_reply.started": "2025-01-19T17:30:07.559389Z"
    },
    "trusted": true
   },
   "outputs": [
    {
     "data": {
      "text/html": [],
      "text/plain": [
       "<IPython.core.display.HTML object>"
      ]
     },
     "metadata": {},
     "output_type": "display_data"
    }
   ],
   "source": [
    "test_encodings = tokenizer(list(test_arq['text']), truncation=True, padding=True, max_length=128, return_tensors=\"pt\")\n",
    "test_dataset = CustomDataset(test_encodings, np.zeros((len(test_arq), 6)))  \n",
    "test_results = trainer.predict(test_dataset)\n",
    "test_predictions = (torch.sigmoid(torch.tensor(test_results.predictions)) > 0.3).numpy()"
   ]
  },
  {
   "cell_type": "code",
   "execution_count": null,
   "metadata": {
    "execution": {
     "iopub.execute_input": "2025-01-19T17:30:21.126258Z",
     "iopub.status.busy": "2025-01-19T17:30:21.125878Z",
     "iopub.status.idle": "2025-01-19T17:30:21.141858Z",
     "shell.execute_reply": "2025-01-19T17:30:21.141074Z",
     "shell.execute_reply.started": "2025-01-19T17:30:21.126218Z"
    },
    "trusted": true
   },
   "outputs": [],
   "source": [
    "test_arq[emotion_labels] = test_predictions\n",
    "test_arq.to_csv('test_predictions_arq_arabert_mini_v1.csv', index=False)"
   ]
  },
  {
   "cell_type": "code",
   "execution_count": 34,
   "metadata": {
    "execution": {
     "iopub.execute_input": "2025-01-19T10:56:02.953092Z",
     "iopub.status.busy": "2025-01-19T10:56:02.952782Z",
     "iopub.status.idle": "2025-01-19T10:56:02.973173Z",
     "shell.execute_reply": "2025-01-19T10:56:02.972228Z",
     "shell.execute_reply.started": "2025-01-19T10:56:02.953065Z"
    },
    "trusted": true
   },
   "outputs": [
    {
     "data": {
      "text/html": [
       "<div>\n",
       "<style scoped>\n",
       "    .dataframe tbody tr th:only-of-type {\n",
       "        vertical-align: middle;\n",
       "    }\n",
       "\n",
       "    .dataframe tbody tr th {\n",
       "        vertical-align: top;\n",
       "    }\n",
       "\n",
       "    .dataframe thead th {\n",
       "        text-align: right;\n",
       "    }\n",
       "</style>\n",
       "<table border=\"1\" class=\"dataframe\">\n",
       "  <thead>\n",
       "    <tr style=\"text-align: right;\">\n",
       "      <th></th>\n",
       "      <th>id</th>\n",
       "      <th>text</th>\n",
       "      <th>anger</th>\n",
       "      <th>disgust</th>\n",
       "      <th>fear</th>\n",
       "      <th>joy</th>\n",
       "      <th>sadness</th>\n",
       "      <th>surprise</th>\n",
       "    </tr>\n",
       "  </thead>\n",
       "  <tbody>\n",
       "    <tr>\n",
       "      <th>0</th>\n",
       "      <td>arq_test_track_a_00001</td>\n",
       "      <td>الراوي: كانت تدي حفنة لوبيا يابسة، تزربع الحبا...</td>\n",
       "      <td>False</td>\n",
       "      <td>False</td>\n",
       "      <td>False</td>\n",
       "      <td>False</td>\n",
       "      <td>True</td>\n",
       "      <td>False</td>\n",
       "    </tr>\n",
       "    <tr>\n",
       "      <th>1</th>\n",
       "      <td>arq_test_track_a_00002</td>\n",
       "      <td>بصّح عمر خمم: يمّاه زعمة تقدر تهرب للدّيوانة؟</td>\n",
       "      <td>True</td>\n",
       "      <td>True</td>\n",
       "      <td>True</td>\n",
       "      <td>False</td>\n",
       "      <td>True</td>\n",
       "      <td>True</td>\n",
       "    </tr>\n",
       "    <tr>\n",
       "      <th>2</th>\n",
       "      <td>arq_test_track_a_00003</td>\n",
       "      <td>امالا كان لازم على عمر يكدب و يكمل: \"النار شاع...</td>\n",
       "      <td>True</td>\n",
       "      <td>True</td>\n",
       "      <td>False</td>\n",
       "      <td>False</td>\n",
       "      <td>True</td>\n",
       "      <td>False</td>\n",
       "    </tr>\n",
       "    <tr>\n",
       "      <th>3</th>\n",
       "      <td>arq_test_track_a_00004</td>\n",
       "      <td>الراوي: الحالة كانت مهوّلة اليوم، وعلاه كان ال...</td>\n",
       "      <td>False</td>\n",
       "      <td>False</td>\n",
       "      <td>True</td>\n",
       "      <td>False</td>\n",
       "      <td>True</td>\n",
       "      <td>True</td>\n",
       "    </tr>\n",
       "    <tr>\n",
       "      <th>4</th>\n",
       "      <td>arq_test_track_a_00005</td>\n",
       "      <td>الراوي: و كان هاذ الشي محيّر الناس لا خاطرش كا...</td>\n",
       "      <td>False</td>\n",
       "      <td>False</td>\n",
       "      <td>False</td>\n",
       "      <td>True</td>\n",
       "      <td>False</td>\n",
       "      <td>True</td>\n",
       "    </tr>\n",
       "  </tbody>\n",
       "</table>\n",
       "</div>"
      ],
      "text/plain": [
       "                       id                                               text  \\\n",
       "0  arq_test_track_a_00001  الراوي: كانت تدي حفنة لوبيا يابسة، تزربع الحبا...   \n",
       "1  arq_test_track_a_00002      بصّح عمر خمم: يمّاه زعمة تقدر تهرب للدّيوانة؟   \n",
       "2  arq_test_track_a_00003  امالا كان لازم على عمر يكدب و يكمل: \"النار شاع...   \n",
       "3  arq_test_track_a_00004  الراوي: الحالة كانت مهوّلة اليوم، وعلاه كان ال...   \n",
       "4  arq_test_track_a_00005  الراوي: و كان هاذ الشي محيّر الناس لا خاطرش كا...   \n",
       "\n",
       "   anger  disgust   fear    joy  sadness  surprise  \n",
       "0  False    False  False  False     True     False  \n",
       "1   True     True   True  False     True      True  \n",
       "2   True     True  False  False     True     False  \n",
       "3  False    False   True  False     True      True  \n",
       "4  False    False  False   True    False      True  "
      ]
     },
     "execution_count": 34,
     "metadata": {},
     "output_type": "execute_result"
    }
   ],
   "source": [
    "test_arq.head()"
   ]
  },
  {
   "cell_type": "markdown",
   "metadata": {},
   "source": [
    "# Ara BERT Base Algerian"
   ]
  },
  {
   "cell_type": "code",
   "execution_count": null,
   "metadata": {
    "execution": {
     "iopub.execute_input": "2025-01-19T17:54:42.066870Z",
     "iopub.status.busy": "2025-01-19T17:54:42.066513Z",
     "iopub.status.idle": "2025-01-19T17:54:51.361764Z",
     "shell.execute_reply": "2025-01-19T17:54:51.360725Z",
     "shell.execute_reply.started": "2025-01-19T17:54:42.066844Z"
    },
    "trusted": true
   },
   "outputs": [
    {
     "data": {
      "application/vnd.jupyter.widget-view+json": {
       "model_id": "a2521a59dca64cbe81748b510b38f552",
       "version_major": 2,
       "version_minor": 0
      },
      "text/plain": [
       "tokenizer_config.json:   0%|          | 0.00/344 [00:00<?, ?B/s]"
      ]
     },
     "metadata": {},
     "output_type": "display_data"
    },
    {
     "data": {
      "application/vnd.jupyter.widget-view+json": {
       "model_id": "182413f900534e9f8cb6515bf7ff9a16",
       "version_major": 2,
       "version_minor": 0
      },
      "text/plain": [
       "config.json:   0%|          | 0.00/856 [00:00<?, ?B/s]"
      ]
     },
     "metadata": {},
     "output_type": "display_data"
    },
    {
     "data": {
      "application/vnd.jupyter.widget-view+json": {
       "model_id": "a17921fe989744c796b18f3dca47379f",
       "version_major": 2,
       "version_minor": 0
      },
      "text/plain": [
       "vocab.txt:   0%|          | 0.00/334k [00:00<?, ?B/s]"
      ]
     },
     "metadata": {},
     "output_type": "display_data"
    },
    {
     "data": {
      "application/vnd.jupyter.widget-view+json": {
       "model_id": "7f9e840826914080af675310dae1d65a",
       "version_major": 2,
       "version_minor": 0
      },
      "text/plain": [
       "tokenizer.json:   0%|          | 0.00/580k [00:00<?, ?B/s]"
      ]
     },
     "metadata": {},
     "output_type": "display_data"
    },
    {
     "data": {
      "application/vnd.jupyter.widget-view+json": {
       "model_id": "56c12b50d48644dd8a660e9dd38e8e9a",
       "version_major": 2,
       "version_minor": 0
      },
      "text/plain": [
       "special_tokens_map.json:   0%|          | 0.00/112 [00:00<?, ?B/s]"
      ]
     },
     "metadata": {},
     "output_type": "display_data"
    },
    {
     "data": {
      "application/vnd.jupyter.widget-view+json": {
       "model_id": "3b15feab32ac4d6fa5a48f16820c1992",
       "version_major": 2,
       "version_minor": 0
      },
      "text/plain": [
       "pytorch_model.bin:   0%|          | 0.00/443M [00:00<?, ?B/s]"
      ]
     },
     "metadata": {},
     "output_type": "display_data"
    },
    {
     "name": "stderr",
     "output_type": "stream",
     "text": [
      "Some weights of BertForSequenceClassification were not initialized from the model checkpoint at Abdou/arabert-base-algerian and are newly initialized because the shapes did not match:\n",
      "- classifier.weight: found shape torch.Size([3, 768]) in the checkpoint and torch.Size([6, 768]) in the model instantiated\n",
      "- classifier.bias: found shape torch.Size([3]) in the checkpoint and torch.Size([6]) in the model instantiated\n",
      "You should probably TRAIN this model on a down-stream task to be able to use it for predictions and inference.\n"
     ]
    }
   ],
   "source": [
    "tokenizer = AutoTokenizer.from_pretrained('Abdou/arabert-base-algerian')\n",
    "model = AutoModelForSequenceClassification.from_pretrained('Abdou/arabert-base-algerian',\n",
    "                                                           problem_type=\"multi_label_classification\",\n",
    "                                                           ignore_mismatched_sizes=True,\n",
    "                                                           num_labels=len(emotion_labels))"
   ]
  },
  {
   "cell_type": "code",
   "execution_count": null,
   "metadata": {
    "execution": {
     "iopub.execute_input": "2025-01-19T17:55:23.191912Z",
     "iopub.status.busy": "2025-01-19T17:55:23.191636Z",
     "iopub.status.idle": "2025-01-19T17:55:23.416124Z",
     "shell.execute_reply": "2025-01-19T17:55:23.415005Z",
     "shell.execute_reply.started": "2025-01-19T17:55:23.191891Z"
    },
    "trusted": true
   },
   "outputs": [
    {
     "name": "stderr",
     "output_type": "stream",
     "text": [
      "Using the `WANDB_DISABLED` environment variable is deprecated and will be removed in v5. Use the --report_to flag to control the integrations used for logging result (for instance --report_to none).\n"
     ]
    }
   ],
   "source": [
    "training_args = TrainingArguments(\n",
    "    output_dir='./results/arq/arabert-base-v1',\n",
    "    report_to=None,\n",
    "    evaluation_strategy=\"steps\",\n",
    "    save_total_limit = 1,\n",
    "    logging_strategy=\"epoch\",\n",
    "    load_best_model_at_end=True,\n",
    "    learning_rate=1e-5,\n",
    "    per_device_train_batch_size=8,\n",
    "    per_device_eval_batch_size=8,\n",
    "    num_train_epochs=100,\n",
    "    weight_decay=0.01,\n",
    ")"
   ]
  },
  {
   "cell_type": "code",
   "execution_count": null,
   "metadata": {
    "execution": {
     "iopub.execute_input": "2025-01-19T17:55:26.395890Z",
     "iopub.status.busy": "2025-01-19T17:55:26.395561Z",
     "iopub.status.idle": "2025-01-19T17:55:26.925224Z",
     "shell.execute_reply": "2025-01-19T17:55:26.924408Z",
     "shell.execute_reply.started": "2025-01-19T17:55:26.395866Z"
    },
    "trusted": true
   },
   "outputs": [],
   "source": [
    "trainer = Trainer(\n",
    "    model=model,\n",
    "    args=training_args,\n",
    "    train_dataset=train_dataset,\n",
    "    eval_dataset=dev_dataset,\n",
    "    tokenizer=tokenizer,\n",
    "    compute_metrics=compute_metrics\n",
    ")"
   ]
  },
  {
   "cell_type": "code",
   "execution_count": 26,
   "metadata": {
    "execution": {
     "iopub.execute_input": "2025-01-19T17:55:28.005965Z",
     "iopub.status.busy": "2025-01-19T17:55:28.005651Z",
     "iopub.status.idle": "2025-01-19T18:20:13.658211Z",
     "shell.execute_reply": "2025-01-19T18:20:13.657460Z",
     "shell.execute_reply.started": "2025-01-19T17:55:28.005942Z"
    },
    "trusted": true
   },
   "outputs": [
    {
     "data": {
      "text/html": [
       "\n",
       "    <div>\n",
       "      \n",
       "      <progress value='5700' max='5700' style='width:300px; height:20px; vertical-align: middle;'></progress>\n",
       "      [5700/5700 24:43, Epoch 100/100]\n",
       "    </div>\n",
       "    <table border=\"1\" class=\"dataframe\">\n",
       "  <thead>\n",
       " <tr style=\"text-align: left;\">\n",
       "      <th>Step</th>\n",
       "      <th>Training Loss</th>\n",
       "      <th>Validation Loss</th>\n",
       "      <th>Accuracy</th>\n",
       "      <th>F1</th>\n",
       "      <th>Precision</th>\n",
       "      <th>Recall</th>\n",
       "    </tr>\n",
       "  </thead>\n",
       "  <tbody>\n",
       "    <tr>\n",
       "      <td>500</td>\n",
       "      <td>0.247800</td>\n",
       "      <td>0.538129</td>\n",
       "      <td>0.130000</td>\n",
       "      <td>0.585913</td>\n",
       "      <td>0.548247</td>\n",
       "      <td>0.664706</td>\n",
       "    </tr>\n",
       "    <tr>\n",
       "      <td>1000</td>\n",
       "      <td>0.076200</td>\n",
       "      <td>0.680091</td>\n",
       "      <td>0.170000</td>\n",
       "      <td>0.565607</td>\n",
       "      <td>0.559346</td>\n",
       "      <td>0.617647</td>\n",
       "    </tr>\n",
       "    <tr>\n",
       "      <td>1500</td>\n",
       "      <td>0.026700</td>\n",
       "      <td>0.823390</td>\n",
       "      <td>0.190000</td>\n",
       "      <td>0.560431</td>\n",
       "      <td>0.565767</td>\n",
       "      <td>0.600000</td>\n",
       "    </tr>\n",
       "    <tr>\n",
       "      <td>2000</td>\n",
       "      <td>0.013600</td>\n",
       "      <td>0.894344</td>\n",
       "      <td>0.220000</td>\n",
       "      <td>0.562711</td>\n",
       "      <td>0.585063</td>\n",
       "      <td>0.600000</td>\n",
       "    </tr>\n",
       "    <tr>\n",
       "      <td>2500</td>\n",
       "      <td>0.009800</td>\n",
       "      <td>0.948275</td>\n",
       "      <td>0.200000</td>\n",
       "      <td>0.553147</td>\n",
       "      <td>0.601763</td>\n",
       "      <td>0.564706</td>\n",
       "    </tr>\n",
       "    <tr>\n",
       "      <td>3000</td>\n",
       "      <td>0.007200</td>\n",
       "      <td>0.994937</td>\n",
       "      <td>0.230000</td>\n",
       "      <td>0.571860</td>\n",
       "      <td>0.595374</td>\n",
       "      <td>0.605882</td>\n",
       "    </tr>\n",
       "    <tr>\n",
       "      <td>3500</td>\n",
       "      <td>0.005900</td>\n",
       "      <td>1.027510</td>\n",
       "      <td>0.250000</td>\n",
       "      <td>0.578200</td>\n",
       "      <td>0.604322</td>\n",
       "      <td>0.611765</td>\n",
       "    </tr>\n",
       "    <tr>\n",
       "      <td>4000</td>\n",
       "      <td>0.004800</td>\n",
       "      <td>1.052123</td>\n",
       "      <td>0.250000</td>\n",
       "      <td>0.566198</td>\n",
       "      <td>0.595133</td>\n",
       "      <td>0.594118</td>\n",
       "    </tr>\n",
       "    <tr>\n",
       "      <td>4500</td>\n",
       "      <td>0.004200</td>\n",
       "      <td>1.073887</td>\n",
       "      <td>0.220000</td>\n",
       "      <td>0.558395</td>\n",
       "      <td>0.589375</td>\n",
       "      <td>0.582353</td>\n",
       "    </tr>\n",
       "    <tr>\n",
       "      <td>5000</td>\n",
       "      <td>0.003800</td>\n",
       "      <td>1.095964</td>\n",
       "      <td>0.230000</td>\n",
       "      <td>0.556291</td>\n",
       "      <td>0.588708</td>\n",
       "      <td>0.582353</td>\n",
       "    </tr>\n",
       "    <tr>\n",
       "      <td>5500</td>\n",
       "      <td>0.003600</td>\n",
       "      <td>1.100379</td>\n",
       "      <td>0.230000</td>\n",
       "      <td>0.559931</td>\n",
       "      <td>0.597251</td>\n",
       "      <td>0.582353</td>\n",
       "    </tr>\n",
       "  </tbody>\n",
       "</table><p>"
      ],
      "text/plain": [
       "<IPython.core.display.HTML object>"
      ]
     },
     "metadata": {},
     "output_type": "display_data"
    }
   ],
   "source": [
    "with mock.patch('wandb.init', return_value=Dummy()):\n",
    "    trainer.train()"
   ]
  },
  {
   "cell_type": "code",
   "execution_count": 27,
   "metadata": {
    "execution": {
     "iopub.execute_input": "2025-01-19T18:25:34.634002Z",
     "iopub.status.busy": "2025-01-19T18:25:34.633665Z",
     "iopub.status.idle": "2025-01-19T18:25:35.233715Z",
     "shell.execute_reply": "2025-01-19T18:25:35.233070Z",
     "shell.execute_reply.started": "2025-01-19T18:25:34.633973Z"
    },
    "trusted": true
   },
   "outputs": [
    {
     "data": {
      "text/html": [],
      "text/plain": [
       "<IPython.core.display.HTML object>"
      ]
     },
     "metadata": {},
     "output_type": "display_data"
    },
    {
     "name": "stdout",
     "output_type": "stream",
     "text": [
      "metrics: {'accuracy': 0.03, 'f1': 0.5595615940343676, 'precision': 0.42138626452278705, 'recall': 0.8588235294117647}\n",
      "metrics: {'accuracy': 0.1, 'f1': 0.5621930461130213, 'precision': 0.4767102232723239, 'recall': 0.711764705882353}\n",
      "metrics: {'accuracy': 0.13, 'f1': 0.5859128073719593, 'precision': 0.5482466407418453, 'recall': 0.6647058823529411}\n",
      "metrics: {'accuracy': 0.14, 'f1': 0.5707537298693091, 'precision': 0.5731354963844492, 'recall': 0.6058823529411764}\n",
      "metrics: {'accuracy': 0.2, 'f1': 0.5575673359296719, 'precision': 0.6391724336793541, 'recall': 0.5352941176470588}\n",
      "metrics: {'accuracy': 0.17, 'f1': 0.5130623288160174, 'precision': 0.6581550802139037, 'recall': 0.4647058823529412}\n",
      "metrics: {'accuracy': 0.19, 'f1': 0.4934857588023081, 'precision': 0.715167272582792, 'recall': 0.4117647058823529}\n",
      "metrics: {'accuracy': 0.22, 'f1': 0.43039411108246434, 'precision': 0.7954266321913381, 'recall': 0.3235294117647059}\n",
      "metrics: {'accuracy': 0.21, 'f1': 0.30114770232417293, 'precision': 0.7109927923738665, 'recall': 0.20588235294117646}\n",
      "----------------------------------------------\n",
      "Best Threshold: 0.30000000000000004, Best F1-Score: 0.5859\n",
      "***********************************************\n",
      "Metrics with Best Threshold: {'accuracy': 0.13, 'f1': 0.5859128073719593, 'precision': 0.5482466407418453, 'recall': 0.6647058823529411}\n",
      "Optimal Threshold: 0.30000000000000004\n",
      "Final Metrics: {'accuracy': 0.13, 'f1': 0.5859128073719593, 'precision': 0.5482466407418453, 'recall': 0.6647058823529411}\n"
     ]
    }
   ],
   "source": [
    "best_threshold, final_metrics = evaluate_on_validation_set(trainer)\n",
    "print(f\"Optimal Threshold: {best_threshold}\")\n",
    "print(f\"Final Metrics: {final_metrics}\")"
   ]
  },
  {
   "cell_type": "code",
   "execution_count": null,
   "metadata": {
    "execution": {
     "iopub.execute_input": "2025-01-19T18:25:52.762587Z",
     "iopub.status.busy": "2025-01-19T18:25:52.762270Z",
     "iopub.status.idle": "2025-01-19T18:25:53.341841Z",
     "shell.execute_reply": "2025-01-19T18:25:53.340801Z",
     "shell.execute_reply.started": "2025-01-19T18:25:52.762554Z"
    },
    "trusted": true
   },
   "outputs": [
    {
     "data": {
      "text/html": [],
      "text/plain": [
       "<IPython.core.display.HTML object>"
      ]
     },
     "metadata": {},
     "output_type": "display_data"
    }
   ],
   "source": [
    "dev_results = trainer.predict(dev_dataset)\n",
    "\n",
    "predictions = (torch.sigmoid(torch.tensor(dev_results.predictions)) > 0.3).numpy()\n",
    "conf_matrix = confusion_matrix(dev_labels.ravel(), predictions.ravel())"
   ]
  },
  {
   "cell_type": "code",
   "execution_count": 29,
   "metadata": {
    "execution": {
     "iopub.execute_input": "2025-01-19T18:25:58.371398Z",
     "iopub.status.busy": "2025-01-19T18:25:58.370994Z",
     "iopub.status.idle": "2025-01-19T18:25:58.628731Z",
     "shell.execute_reply": "2025-01-19T18:25:58.628055Z",
     "shell.execute_reply.started": "2025-01-19T18:25:58.371369Z"
    },
    "trusted": true
   },
   "outputs": [
    {
     "data": {
      "image/png": "[encoded data removed]",
      "text/plain": [
       "<Figure size 640x480 with 2 Axes>"
      ]
     },
     "metadata": {},
     "output_type": "display_data"
    }
   ],
   "source": [
    "disp = ConfusionMatrixDisplay(confusion_matrix=conf_matrix)\n",
    "disp.plot(cmap=plt.cm.Blues)\n",
    "plt.title('Confusion Matrix')\n",
    "plt.show()"
   ]
  },
  {
   "cell_type": "code",
   "execution_count": null,
   "metadata": {
    "execution": {
     "iopub.execute_input": "2025-01-19T18:26:05.927551Z",
     "iopub.status.busy": "2025-01-19T18:26:05.927263Z",
     "iopub.status.idle": "2025-01-19T18:26:06.430573Z",
     "shell.execute_reply": "2025-01-19T18:26:06.429738Z",
     "shell.execute_reply.started": "2025-01-19T18:26:05.927529Z"
    },
    "trusted": true
   },
   "outputs": [
    {
     "data": {
      "image/png": "[encoded data removed]",
      "text/plain": [
       "<Figure size 640x480 with 1 Axes>"
      ]
     },
     "metadata": {},
     "output_type": "display_data"
    }
   ],
   "source": [
    "fpr, tpr, _ = roc_curve(dev_labels.ravel(), dev_results.predictions.ravel())\n",
    "roc_auc = auc(fpr, tpr)\n",
    "\n",
    "plt.figure()\n",
    "plt.plot(fpr, tpr, color='blue', lw=2, label=f'ROC curve (AUC = {roc_auc:.2f})')\n",
    "plt.plot([0, 1], [0, 1], color='gray', lw=2, linestyle='--')\n",
    "plt.xlabel('False Positive Rate')\n",
    "plt.ylabel('True Positive Rate')\n",
    "plt.title('Receiver Operating Characteristic')\n",
    "plt.legend(loc='lower right')\n",
    "plt.show()"
   ]
  },
  {
   "cell_type": "code",
   "execution_count": null,
   "metadata": {
    "execution": {
     "iopub.execute_input": "2025-01-19T18:26:23.764459Z",
     "iopub.status.busy": "2025-01-19T18:26:23.764176Z",
     "iopub.status.idle": "2025-01-19T18:26:23.774626Z",
     "shell.execute_reply": "2025-01-19T18:26:23.773948Z",
     "shell.execute_reply.started": "2025-01-19T18:26:23.764438Z"
    },
    "trusted": true
   },
   "outputs": [
    {
     "name": "stdout",
     "output_type": "stream",
     "text": [
      "Accuracy: 0.1300\n",
      "anger: Precision=0.5938, Recall=0.6129, F1=0.6032\n",
      "disgust: Precision=0.5652, Recall=0.4643, F1=0.5098\n",
      "fear: Precision=0.5152, Recall=0.6538, F1=0.5763\n",
      "joy: Precision=0.5556, Recall=0.3846, F1=0.4545\n",
      "sadness: Precision=0.4615, Recall=0.9000, F1=0.6102\n",
      "surprise: Precision=0.6216, Recall=0.7188, F1=0.6667\n"
     ]
    }
   ],
   "source": [
    "precision, recall, f1, _ = precision_recall_fscore_support(\n",
    "    dev_labels, predictions, average=None\n",
    ")\n",
    "accuracy = accuracy_score(dev_labels, predictions)\n",
    "\n",
    "print(f'Accuracy: {accuracy:.4f}')\n",
    "for i, label in enumerate(emotion_labels):\n",
    "    print(f\"{label}: Precision={precision[i]:.4f}, Recall={recall[i]:.4f}, F1={f1[i]:.4f}\")"
   ]
  },
  {
   "cell_type": "code",
   "execution_count": null,
   "metadata": {
    "execution": {
     "iopub.execute_input": "2025-01-19T18:26:41.491433Z",
     "iopub.status.busy": "2025-01-19T18:26:41.491107Z",
     "iopub.status.idle": "2025-01-19T18:26:46.482703Z",
     "shell.execute_reply": "2025-01-19T18:26:46.481998Z",
     "shell.execute_reply.started": "2025-01-19T18:26:41.491411Z"
    },
    "trusted": true
   },
   "outputs": [
    {
     "data": {
      "text/html": [],
      "text/plain": [
       "<IPython.core.display.HTML object>"
      ]
     },
     "metadata": {},
     "output_type": "display_data"
    }
   ],
   "source": [
    "test_encodings = tokenizer(list(test_arq['text']), truncation=True, padding=True, max_length=128, return_tensors=\"pt\")\n",
    "test_dataset = CustomDataset(test_encodings, np.zeros((len(test_arq), 6)))\n",
    "test_results = trainer.predict(test_dataset)\n",
    "test_predictions = (torch.sigmoid(torch.tensor(test_results.predictions)) > 0.3).numpy()"
   ]
  },
  {
   "cell_type": "code",
   "execution_count": null,
   "metadata": {
    "execution": {
     "iopub.execute_input": "2025-01-19T18:27:33.995154Z",
     "iopub.status.busy": "2025-01-19T18:27:33.994795Z",
     "iopub.status.idle": "2025-01-19T18:27:34.012384Z",
     "shell.execute_reply": "2025-01-19T18:27:34.011676Z",
     "shell.execute_reply.started": "2025-01-19T18:27:33.995125Z"
    },
    "trusted": true
   },
   "outputs": [],
   "source": [
    "test_arq[emotion_labels] = test_predictions\n",
    "test_arq.to_csv('test_predictions_arq_arabert_base_v1.csv', index=False)"
   ]
  },
  {
   "cell_type": "code",
   "execution_count": 34,
   "metadata": {
    "execution": {
     "iopub.execute_input": "2025-01-19T18:29:32.263441Z",
     "iopub.status.busy": "2025-01-19T18:29:32.263077Z",
     "iopub.status.idle": "2025-01-19T18:29:32.268747Z",
     "shell.execute_reply": "2025-01-19T18:29:32.268025Z",
     "shell.execute_reply.started": "2025-01-19T18:29:32.263409Z"
    },
    "trusted": true
   },
   "outputs": [
    {
     "name": "stdout",
     "output_type": "stream",
     "text": [
      "/kaggle/working\n"
     ]
    }
   ],
   "source": [
    "%cd /kaggle/working"
   ]
  },
  {
   "cell_type": "code",
   "execution_count": 35,
   "metadata": {
    "execution": {
     "iopub.execute_input": "2025-01-19T18:29:51.406703Z",
     "iopub.status.busy": "2025-01-19T18:29:51.406417Z",
     "iopub.status.idle": "2025-01-19T18:29:51.412075Z",
     "shell.execute_reply": "2025-01-19T18:29:51.411262Z",
     "shell.execute_reply.started": "2025-01-19T18:29:51.406681Z"
    },
    "trusted": true
   },
   "outputs": [
    {
     "data": {
      "text/html": [
       "<a href='test_predictions_arq_arabert_base_v1.csv' target='_blank'>test_predictions_arq_arabert_base_v1.csv</a><br>"
      ],
      "text/plain": [
       "/kaggle/working/test_predictions_arq_arabert_base_v1.csv"
      ]
     },
     "execution_count": 35,
     "metadata": {},
     "output_type": "execute_result"
    }
   ],
   "source": [
    "from IPython.display import FileLink \n",
    "FileLink(r'test_predictions_arq_arabert_base_v1.csv')"
   ]
  },
  {
   "cell_type": "markdown",
   "metadata": {},
   "source": [
    "# Ara BERT Medium Algerian"
   ]
  },
  {
   "cell_type": "code",
   "execution_count": null,
   "metadata": {
    "execution": {
     "iopub.execute_input": "2025-01-20T08:58:41.884565Z",
     "iopub.status.busy": "2025-01-20T08:58:41.884211Z",
     "iopub.status.idle": "2025-01-20T08:58:47.065769Z",
     "shell.execute_reply": "2025-01-20T08:58:47.064688Z",
     "shell.execute_reply.started": "2025-01-20T08:58:41.884542Z"
    },
    "trusted": true
   },
   "outputs": [
    {
     "data": {
      "application/vnd.jupyter.widget-view+json": {
       "model_id": "6cb02993fb6841999997f521e2550c2a",
       "version_major": 2,
       "version_minor": 0
      },
      "text/plain": [
       "tokenizer_config.json:   0%|          | 0.00/346 [00:00<?, ?B/s]"
      ]
     },
     "metadata": {},
     "output_type": "display_data"
    },
    {
     "data": {
      "application/vnd.jupyter.widget-view+json": {
       "model_id": "ee31f68d6bd84ebc9532ca541d259c48",
       "version_major": 2,
       "version_minor": 0
      },
      "text/plain": [
       "config.json:   0%|          | 0.00/876 [00:00<?, ?B/s]"
      ]
     },
     "metadata": {},
     "output_type": "display_data"
    },
    {
     "data": {
      "application/vnd.jupyter.widget-view+json": {
       "model_id": "2792a211b658401b8cd22cf3580559d6",
       "version_major": 2,
       "version_minor": 0
      },
      "text/plain": [
       "vocab.txt:   0%|          | 0.00/334k [00:00<?, ?B/s]"
      ]
     },
     "metadata": {},
     "output_type": "display_data"
    },
    {
     "data": {
      "application/vnd.jupyter.widget-view+json": {
       "model_id": "245f6dcbf28349c68594c11a5c3276b9",
       "version_major": 2,
       "version_minor": 0
      },
      "text/plain": [
       "tokenizer.json:   0%|          | 0.00/580k [00:00<?, ?B/s]"
      ]
     },
     "metadata": {},
     "output_type": "display_data"
    },
    {
     "data": {
      "application/vnd.jupyter.widget-view+json": {
       "model_id": "7ebccffef67a4e4483861e7c123847e1",
       "version_major": 2,
       "version_minor": 0
      },
      "text/plain": [
       "special_tokens_map.json:   0%|          | 0.00/112 [00:00<?, ?B/s]"
      ]
     },
     "metadata": {},
     "output_type": "display_data"
    },
    {
     "data": {
      "application/vnd.jupyter.widget-view+json": {
       "model_id": "e736bd5508eb41eb9a5754632f7e7360",
       "version_major": 2,
       "version_minor": 0
      },
      "text/plain": [
       "pytorch_model.bin:   0%|          | 0.00/169M [00:00<?, ?B/s]"
      ]
     },
     "metadata": {},
     "output_type": "display_data"
    },
    {
     "name": "stderr",
     "output_type": "stream",
     "text": [
      "Some weights of BertForSequenceClassification were not initialized from the model checkpoint at Abdou/arabert-medium-algerian and are newly initialized because the shapes did not match:\n",
      "- classifier.weight: found shape torch.Size([3, 512]) in the checkpoint and torch.Size([6, 512]) in the model instantiated\n",
      "- classifier.bias: found shape torch.Size([3]) in the checkpoint and torch.Size([6]) in the model instantiated\n",
      "You should probably TRAIN this model on a down-stream task to be able to use it for predictions and inference.\n"
     ]
    }
   ],
   "source": [
    "tokenizer = AutoTokenizer.from_pretrained('Abdou/arabert-medium-algerian')\n",
    "model = AutoModelForSequenceClassification.from_pretrained('Abdou/arabert-medium-algerian',\n",
    "                                                           problem_type=\"multi_label_classification\",\n",
    "                                                           ignore_mismatched_sizes=True,\n",
    "                                                           num_labels=len(emotion_labels))"
   ]
  },
  {
   "cell_type": "code",
   "execution_count": null,
   "metadata": {
    "execution": {
     "iopub.execute_input": "2025-01-20T08:59:39.635289Z",
     "iopub.status.busy": "2025-01-20T08:59:39.634966Z",
     "iopub.status.idle": "2025-01-20T08:59:39.780419Z",
     "shell.execute_reply": "2025-01-20T08:59:39.779775Z",
     "shell.execute_reply.started": "2025-01-20T08:59:39.635260Z"
    },
    "trusted": true
   },
   "outputs": [
    {
     "name": "stderr",
     "output_type": "stream",
     "text": [
      "Using the `WANDB_DISABLED` environment variable is deprecated and will be removed in v5. Use the --report_to flag to control the integrations used for logging result (for instance --report_to none).\n"
     ]
    }
   ],
   "source": [
    "training_args = TrainingArguments(\n",
    "    output_dir='./results/arq/arabert-medium-v1',\n",
    "    report_to=None,\n",
    "    evaluation_strategy=\"steps\",\n",
    "    save_total_limit = 1,\n",
    "    logging_strategy=\"epoch\",\n",
    "    load_best_model_at_end=True,\n",
    "    learning_rate=1e-5,\n",
    "    per_device_train_batch_size=8,\n",
    "    per_device_eval_batch_size=8,\n",
    "    num_train_epochs=100,\n",
    "    weight_decay=0.01,\n",
    ")"
   ]
  },
  {
   "cell_type": "code",
   "execution_count": null,
   "metadata": {
    "execution": {
     "iopub.execute_input": "2025-01-20T09:00:11.666111Z",
     "iopub.status.busy": "2025-01-20T09:00:11.665746Z",
     "iopub.status.idle": "2025-01-20T09:00:12.082607Z",
     "shell.execute_reply": "2025-01-20T09:00:12.081966Z",
     "shell.execute_reply.started": "2025-01-20T09:00:11.666079Z"
    },
    "trusted": true
   },
   "outputs": [],
   "source": [
    "trainer = Trainer(\n",
    "    model=model,\n",
    "    args=training_args,\n",
    "    train_dataset=train_dataset,\n",
    "    eval_dataset=dev_dataset,\n",
    "    tokenizer=tokenizer,\n",
    "    compute_metrics=compute_metrics\n",
    ")"
   ]
  },
  {
   "cell_type": "code",
   "execution_count": 22,
   "metadata": {
    "execution": {
     "iopub.execute_input": "2025-01-20T09:00:28.705224Z",
     "iopub.status.busy": "2025-01-20T09:00:28.704898Z",
     "iopub.status.idle": "2025-01-20T09:09:27.641170Z",
     "shell.execute_reply": "2025-01-20T09:09:27.640110Z",
     "shell.execute_reply.started": "2025-01-20T09:00:28.705200Z"
    },
    "trusted": true
   },
   "outputs": [
    {
     "data": {
      "text/html": [
       "\n",
       "    <div>\n",
       "      \n",
       "      <progress value='5700' max='5700' style='width:300px; height:20px; vertical-align: middle;'></progress>\n",
       "      [5700/5700 08:56, Epoch 100/100]\n",
       "    </div>\n",
       "    <table border=\"1\" class=\"dataframe\">\n",
       "  <thead>\n",
       " <tr style=\"text-align: left;\">\n",
       "      <th>Step</th>\n",
       "      <th>Training Loss</th>\n",
       "      <th>Validation Loss</th>\n",
       "      <th>Accuracy</th>\n",
       "      <th>F1</th>\n",
       "      <th>Precision</th>\n",
       "      <th>Recall</th>\n",
       "    </tr>\n",
       "  </thead>\n",
       "  <tbody>\n",
       "    <tr>\n",
       "      <td>500</td>\n",
       "      <td>0.412700</td>\n",
       "      <td>0.517951</td>\n",
       "      <td>0.050000</td>\n",
       "      <td>0.552102</td>\n",
       "      <td>0.461596</td>\n",
       "      <td>0.723529</td>\n",
       "    </tr>\n",
       "    <tr>\n",
       "      <td>1000</td>\n",
       "      <td>0.237900</td>\n",
       "      <td>0.550818</td>\n",
       "      <td>0.080000</td>\n",
       "      <td>0.539700</td>\n",
       "      <td>0.472928</td>\n",
       "      <td>0.658824</td>\n",
       "    </tr>\n",
       "    <tr>\n",
       "      <td>1500</td>\n",
       "      <td>0.147300</td>\n",
       "      <td>0.610284</td>\n",
       "      <td>0.070000</td>\n",
       "      <td>0.535050</td>\n",
       "      <td>0.478142</td>\n",
       "      <td>0.652941</td>\n",
       "    </tr>\n",
       "    <tr>\n",
       "      <td>2000</td>\n",
       "      <td>0.089100</td>\n",
       "      <td>0.636480</td>\n",
       "      <td>0.110000</td>\n",
       "      <td>0.538659</td>\n",
       "      <td>0.483512</td>\n",
       "      <td>0.623529</td>\n",
       "    </tr>\n",
       "    <tr>\n",
       "      <td>2500</td>\n",
       "      <td>0.059300</td>\n",
       "      <td>0.672995</td>\n",
       "      <td>0.170000</td>\n",
       "      <td>0.569093</td>\n",
       "      <td>0.541392</td>\n",
       "      <td>0.635294</td>\n",
       "    </tr>\n",
       "    <tr>\n",
       "      <td>3000</td>\n",
       "      <td>0.040300</td>\n",
       "      <td>0.721799</td>\n",
       "      <td>0.140000</td>\n",
       "      <td>0.564146</td>\n",
       "      <td>0.530244</td>\n",
       "      <td>0.629412</td>\n",
       "    </tr>\n",
       "    <tr>\n",
       "      <td>3500</td>\n",
       "      <td>0.030200</td>\n",
       "      <td>0.763055</td>\n",
       "      <td>0.150000</td>\n",
       "      <td>0.547596</td>\n",
       "      <td>0.540194</td>\n",
       "      <td>0.594118</td>\n",
       "    </tr>\n",
       "    <tr>\n",
       "      <td>4000</td>\n",
       "      <td>0.024500</td>\n",
       "      <td>0.792152</td>\n",
       "      <td>0.150000</td>\n",
       "      <td>0.568477</td>\n",
       "      <td>0.551160</td>\n",
       "      <td>0.623529</td>\n",
       "    </tr>\n",
       "    <tr>\n",
       "      <td>4500</td>\n",
       "      <td>0.021400</td>\n",
       "      <td>0.827992</td>\n",
       "      <td>0.150000</td>\n",
       "      <td>0.558796</td>\n",
       "      <td>0.537372</td>\n",
       "      <td>0.617647</td>\n",
       "    </tr>\n",
       "    <tr>\n",
       "      <td>5000</td>\n",
       "      <td>0.019500</td>\n",
       "      <td>0.831399</td>\n",
       "      <td>0.130000</td>\n",
       "      <td>0.547729</td>\n",
       "      <td>0.530838</td>\n",
       "      <td>0.600000</td>\n",
       "    </tr>\n",
       "    <tr>\n",
       "      <td>5500</td>\n",
       "      <td>0.018200</td>\n",
       "      <td>0.842690</td>\n",
       "      <td>0.140000</td>\n",
       "      <td>0.559079</td>\n",
       "      <td>0.547744</td>\n",
       "      <td>0.605882</td>\n",
       "    </tr>\n",
       "  </tbody>\n",
       "</table><p>"
      ],
      "text/plain": [
       "<IPython.core.display.HTML object>"
      ]
     },
     "metadata": {},
     "output_type": "display_data"
    }
   ],
   "source": [
    "with mock.patch('wandb.init', return_value=Dummy()):\n",
    "    trainer.train()"
   ]
  },
  {
   "cell_type": "code",
   "execution_count": 25,
   "metadata": {
    "execution": {
     "iopub.execute_input": "2025-01-20T09:09:59.084334Z",
     "iopub.status.busy": "2025-01-20T09:09:59.083995Z",
     "iopub.status.idle": "2025-01-20T09:09:59.390884Z",
     "shell.execute_reply": "2025-01-20T09:09:59.390192Z",
     "shell.execute_reply.started": "2025-01-20T09:09:59.084310Z"
    },
    "trusted": true
   },
   "outputs": [
    {
     "data": {
      "text/html": [],
      "text/plain": [
       "<IPython.core.display.HTML object>"
      ]
     },
     "metadata": {},
     "output_type": "display_data"
    },
    {
     "name": "stdout",
     "output_type": "stream",
     "text": [
      "metrics: {'accuracy': 0.01, 'f1': 0.49187958797973247, 'precision': 0.3312755180598681, 'recall': 0.9705882352941176}\n",
      "metrics: {'accuracy': 0.04, 'f1': 0.5420599771433617, 'precision': 0.4026578101529236, 'recall': 0.8529411764705882}\n",
      "metrics: {'accuracy': 0.05, 'f1': 0.5521020843809766, 'precision': 0.4615961006103322, 'recall': 0.7235294117647059}\n",
      "metrics: {'accuracy': 0.13, 'f1': 0.5320079064453345, 'precision': 0.5188635820181731, 'recall': 0.5882352941176471}\n",
      "metrics: {'accuracy': 0.21, 'f1': 0.4731940191776471, 'precision': 0.6095586910374745, 'recall': 0.45294117647058824}\n",
      "metrics: {'accuracy': 0.19, 'f1': 0.38948768922669136, 'precision': 0.6652296722884958, 'recall': 0.34705882352941175}\n",
      "metrics: {'accuracy': 0.18, 'f1': 0.3142582066457499, 'precision': 0.5807282913165267, 'recall': 0.23529411764705882}\n",
      "metrics: {'accuracy': 0.15, 'f1': 0.1484356752105231, 'precision': 0.7285067873303167, 'recall': 0.09411764705882353}\n",
      "metrics: {'accuracy': 0.12, 'f1': 0.022103386809269165, 'precision': 0.18235294117647058, 'recall': 0.011764705882352941}\n",
      "----------------------------------------------\n",
      "Best Threshold: 0.30000000000000004, Best F1-Score: 0.5521\n",
      "***********************************************\n",
      "Metrics with Best Threshold: {'accuracy': 0.05, 'f1': 0.5521020843809766, 'precision': 0.4615961006103322, 'recall': 0.7235294117647059}\n",
      "Optimal Threshold: 0.30000000000000004\n",
      "Final Metrics: {'accuracy': 0.05, 'f1': 0.5521020843809766, 'precision': 0.4615961006103322, 'recall': 0.7235294117647059}\n"
     ]
    }
   ],
   "source": [
    "best_threshold, final_metrics = evaluate_on_validation_set(trainer)\n",
    "print(f\"Optimal Threshold: {best_threshold}\")\n",
    "print(f\"Final Metrics: {final_metrics}\")"
   ]
  },
  {
   "cell_type": "code",
   "execution_count": null,
   "metadata": {
    "execution": {
     "iopub.execute_input": "2025-01-20T09:10:19.445537Z",
     "iopub.status.busy": "2025-01-20T09:10:19.445233Z",
     "iopub.status.idle": "2025-01-20T09:10:19.730198Z",
     "shell.execute_reply": "2025-01-20T09:10:19.729288Z",
     "shell.execute_reply.started": "2025-01-20T09:10:19.445514Z"
    },
    "trusted": true
   },
   "outputs": [
    {
     "data": {
      "text/html": [],
      "text/plain": [
       "<IPython.core.display.HTML object>"
      ]
     },
     "metadata": {},
     "output_type": "display_data"
    }
   ],
   "source": [
    "dev_results = trainer.predict(dev_dataset)\n",
    "\n",
    "predictions = (torch.sigmoid(torch.tensor(dev_results.predictions)) > 0.3).numpy()\n",
    "conf_matrix = confusion_matrix(dev_labels.ravel(), predictions.ravel())"
   ]
  },
  {
   "cell_type": "code",
   "execution_count": 27,
   "metadata": {
    "execution": {
     "iopub.execute_input": "2025-01-20T09:10:21.904120Z",
     "iopub.status.busy": "2025-01-20T09:10:21.903733Z",
     "iopub.status.idle": "2025-01-20T09:10:22.180184Z",
     "shell.execute_reply": "2025-01-20T09:10:22.179391Z",
     "shell.execute_reply.started": "2025-01-20T09:10:21.904091Z"
    },
    "trusted": true
   },
   "outputs": [
    {
     "data": {
      "image/png": "[encoded data removed]",
      "text/plain": [
       "<Figure size 640x480 with 2 Axes>"
      ]
     },
     "metadata": {},
     "output_type": "display_data"
    }
   ],
   "source": [
    "disp = ConfusionMatrixDisplay(confusion_matrix=conf_matrix)\n",
    "disp.plot(cmap=plt.cm.Blues)\n",
    "plt.title('Confusion Matrix')\n",
    "plt.show()"
   ]
  },
  {
   "cell_type": "code",
   "execution_count": null,
   "metadata": {
    "execution": {
     "iopub.execute_input": "2025-01-20T09:10:35.545893Z",
     "iopub.status.busy": "2025-01-20T09:10:35.545604Z",
     "iopub.status.idle": "2025-01-20T09:10:35.720182Z",
     "shell.execute_reply": "2025-01-20T09:10:35.719339Z",
     "shell.execute_reply.started": "2025-01-20T09:10:35.545871Z"
    },
    "trusted": true
   },
   "outputs": [
    {
     "data": {
      "image/png": "[encoded data removed]",
      "text/plain": [
       "<Figure size 640x480 with 1 Axes>"
      ]
     },
     "metadata": {},
     "output_type": "display_data"
    }
   ],
   "source": [
    "fpr, tpr, _ = roc_curve(dev_labels.ravel(), dev_results.predictions.ravel())\n",
    "roc_auc = auc(fpr, tpr)\n",
    "\n",
    "plt.figure()\n",
    "plt.plot(fpr, tpr, color='blue', lw=2, label=f'ROC curve (AUC = {roc_auc:.2f})')\n",
    "plt.plot([0, 1], [0, 1], color='gray', lw=2, linestyle='--')\n",
    "plt.xlabel('False Positive Rate')\n",
    "plt.ylabel('True Positive Rate')\n",
    "plt.title('Receiver Operating Characteristic')\n",
    "plt.legend(loc='lower right')\n",
    "plt.show()"
   ]
  },
  {
   "cell_type": "code",
   "execution_count": null,
   "metadata": {
    "execution": {
     "iopub.execute_input": "2025-01-20T09:10:39.606756Z",
     "iopub.status.busy": "2025-01-20T09:10:39.606415Z",
     "iopub.status.idle": "2025-01-20T09:10:39.618213Z",
     "shell.execute_reply": "2025-01-20T09:10:39.617173Z",
     "shell.execute_reply.started": "2025-01-20T09:10:39.606725Z"
    },
    "trusted": true
   },
   "outputs": [
    {
     "name": "stdout",
     "output_type": "stream",
     "text": [
      "Accuracy: 0.0500\n",
      "anger: Precision=0.5476, Recall=0.7419, F1=0.6301\n",
      "disgust: Precision=0.4062, Recall=0.4643, F1=0.4333\n",
      "fear: Precision=0.4200, Recall=0.8077, F1=0.5526\n",
      "joy: Precision=0.5833, Recall=0.5385, F1=0.5600\n",
      "sadness: Precision=0.4086, Recall=0.9500, F1=0.5714\n",
      "surprise: Precision=0.4773, Recall=0.6562, F1=0.5526\n"
     ]
    }
   ],
   "source": [
    "precision, recall, f1, _ = precision_recall_fscore_support(\n",
    "    dev_labels, predictions, average=None\n",
    ")\n",
    "accuracy = accuracy_score(dev_labels, predictions)\n",
    "\n",
    "print(f'Accuracy: {accuracy:.4f}')\n",
    "for i, label in enumerate(emotion_labels):\n",
    "    print(f\"{label}: Precision={precision[i]:.4f}, Recall={recall[i]:.4f}, F1={f1[i]:.4f}\")"
   ]
  },
  {
   "cell_type": "code",
   "execution_count": null,
   "metadata": {
    "execution": {
     "iopub.execute_input": "2025-01-20T09:10:42.365786Z",
     "iopub.status.busy": "2025-01-20T09:10:42.365489Z",
     "iopub.status.idle": "2025-01-20T09:10:44.499659Z",
     "shell.execute_reply": "2025-01-20T09:10:44.498793Z",
     "shell.execute_reply.started": "2025-01-20T09:10:42.365763Z"
    },
    "trusted": true
   },
   "outputs": [
    {
     "data": {
      "text/html": [],
      "text/plain": [
       "<IPython.core.display.HTML object>"
      ]
     },
     "metadata": {},
     "output_type": "display_data"
    }
   ],
   "source": [
    "test_encodings = tokenizer(list(test_arq['text']), truncation=True, padding=True, max_length=128, return_tensors=\"pt\")\n",
    "test_dataset = CustomDataset(test_encodings, np.zeros((len(test_arq), 6)))  \n",
    "test_results = trainer.predict(test_dataset)\n",
    "test_predictions = (torch.sigmoid(torch.tensor(test_results.predictions)) > 0.3).numpy()\n",
    "\n",
    "test_arq[emotion_labels] = test_predictions\n",
    "test_arq.to_csv('test_predictions_arq_arabert_medium_v1.csv', index=False)"
   ]
  },
  {
   "cell_type": "markdown",
   "metadata": {},
   "source": [
    "# Ara BERT Large Algerian"
   ]
  },
  {
   "cell_type": "code",
   "execution_count": null,
   "metadata": {
    "execution": {
     "iopub.execute_input": "2025-01-20T10:40:22.659219Z",
     "iopub.status.busy": "2025-01-20T10:40:22.658935Z",
     "iopub.status.idle": "2025-01-20T10:40:57.047600Z",
     "shell.execute_reply": "2025-01-20T10:40:57.046531Z",
     "shell.execute_reply.started": "2025-01-20T10:40:22.659199Z"
    },
    "trusted": true
   },
   "outputs": [
    {
     "data": {
      "application/vnd.jupyter.widget-view+json": {
       "model_id": "eee6bd315c3b4496a4b4787cd0da82b8",
       "version_major": 2,
       "version_minor": 0
      },
      "text/plain": [
       "tokenizer_config.json:   0%|          | 0.00/345 [00:00<?, ?B/s]"
      ]
     },
     "metadata": {},
     "output_type": "display_data"
    },
    {
     "data": {
      "application/vnd.jupyter.widget-view+json": {
       "model_id": "600a3e06124841199ed3708148b365fd",
       "version_major": 2,
       "version_minor": 0
      },
      "text/plain": [
       "config.json:   0%|          | 0.00/878 [00:00<?, ?B/s]"
      ]
     },
     "metadata": {},
     "output_type": "display_data"
    },
    {
     "data": {
      "application/vnd.jupyter.widget-view+json": {
       "model_id": "8b25a72f06a0427b9c45a550cd1b4260",
       "version_major": 2,
       "version_minor": 0
      },
      "text/plain": [
       "vocab.txt:   0%|          | 0.00/334k [00:00<?, ?B/s]"
      ]
     },
     "metadata": {},
     "output_type": "display_data"
    },
    {
     "data": {
      "application/vnd.jupyter.widget-view+json": {
       "model_id": "4558a478ec354e1eb27c54c886b8b78e",
       "version_major": 2,
       "version_minor": 0
      },
      "text/plain": [
       "tokenizer.json:   0%|          | 0.00/580k [00:00<?, ?B/s]"
      ]
     },
     "metadata": {},
     "output_type": "display_data"
    },
    {
     "data": {
      "application/vnd.jupyter.widget-view+json": {
       "model_id": "419b706bce4748b5b3834ec5e721d50d",
       "version_major": 2,
       "version_minor": 0
      },
      "text/plain": [
       "special_tokens_map.json:   0%|          | 0.00/112 [00:00<?, ?B/s]"
      ]
     },
     "metadata": {},
     "output_type": "display_data"
    },
    {
     "data": {
      "application/vnd.jupyter.widget-view+json": {
       "model_id": "4fc09b3cb52241878ca2984828de78e0",
       "version_major": 2,
       "version_minor": 0
      },
      "text/plain": [
       "pytorch_model.bin:   0%|          | 0.00/1.35G [00:00<?, ?B/s]"
      ]
     },
     "metadata": {},
     "output_type": "display_data"
    },
    {
     "name": "stderr",
     "output_type": "stream",
     "text": [
      "Some weights of BertForSequenceClassification were not initialized from the model checkpoint at Abdou/arabert-large-algerian and are newly initialized because the shapes did not match:\n",
      "- classifier.weight: found shape torch.Size([3, 1024]) in the checkpoint and torch.Size([6, 1024]) in the model instantiated\n",
      "- classifier.bias: found shape torch.Size([3]) in the checkpoint and torch.Size([6]) in the model instantiated\n",
      "You should probably TRAIN this model on a down-stream task to be able to use it for predictions and inference.\n"
     ]
    }
   ],
   "source": [
    "tokenizer = AutoTokenizer.from_pretrained('Abdou/arabert-large-algerian')\n",
    "model = AutoModelForSequenceClassification.from_pretrained('Abdou/arabert-large-algerian',\n",
    "                                                           problem_type=\"multi_label_classification\",\n",
    "                                                           ignore_mismatched_sizes=True,\n",
    "                                                           num_labels=len(emotion_labels))"
   ]
  },
  {
   "cell_type": "code",
   "execution_count": null,
   "metadata": {
    "execution": {
     "iopub.execute_input": "2025-01-20T10:42:06.649846Z",
     "iopub.status.busy": "2025-01-20T10:42:06.649531Z",
     "iopub.status.idle": "2025-01-20T10:42:06.827840Z",
     "shell.execute_reply": "2025-01-20T10:42:06.826915Z",
     "shell.execute_reply.started": "2025-01-20T10:42:06.649819Z"
    },
    "trusted": true
   },
   "outputs": [
    {
     "name": "stderr",
     "output_type": "stream",
     "text": [
      "Using the `WANDB_DISABLED` environment variable is deprecated and will be removed in v5. Use the --report_to flag to control the integrations used for logging result (for instance --report_to none).\n"
     ]
    }
   ],
   "source": [
    "training_args = TrainingArguments(\n",
    "    output_dir='./results/arq/arabert-large-v1',\n",
    "    report_to=None,\n",
    "    evaluation_strategy=\"steps\",\n",
    "    save_total_limit = 1,\n",
    "    logging_strategy=\"epoch\",\n",
    "    load_best_model_at_end=True,\n",
    "    learning_rate=1e-5,\n",
    "    per_device_train_batch_size=8,\n",
    "    per_device_eval_batch_size=8,\n",
    "    num_train_epochs=100,\n",
    "    weight_decay=0.01,\n",
    ")"
   ]
  },
  {
   "cell_type": "code",
   "execution_count": null,
   "metadata": {
    "execution": {
     "iopub.execute_input": "2025-01-20T10:42:08.306787Z",
     "iopub.status.busy": "2025-01-20T10:42:08.306420Z",
     "iopub.status.idle": "2025-01-20T10:42:09.198410Z",
     "shell.execute_reply": "2025-01-20T10:42:09.197743Z",
     "shell.execute_reply.started": "2025-01-20T10:42:08.306756Z"
    },
    "trusted": true
   },
   "outputs": [],
   "source": [
    "trainer = Trainer(\n",
    "    model=model,\n",
    "    args=training_args,\n",
    "    train_dataset=train_dataset,\n",
    "    eval_dataset=dev_dataset,\n",
    "    tokenizer=tokenizer,\n",
    "    compute_metrics=compute_metrics\n",
    ")"
   ]
  },
  {
   "cell_type": "code",
   "execution_count": 24,
   "metadata": {
    "execution": {
     "iopub.execute_input": "2025-01-20T10:42:10.422422Z",
     "iopub.status.busy": "2025-01-20T10:42:10.422105Z",
     "iopub.status.idle": "2025-01-20T12:00:42.321000Z",
     "shell.execute_reply": "2025-01-20T12:00:42.320079Z",
     "shell.execute_reply.started": "2025-01-20T10:42:10.422393Z"
    },
    "trusted": true
   },
   "outputs": [
    {
     "data": {
      "text/html": [
       "\n",
       "    <div>\n",
       "      \n",
       "      <progress value='5700' max='5700' style='width:300px; height:20px; vertical-align: middle;'></progress>\n",
       "      [5700/5700 1:18:29, Epoch 100/100]\n",
       "    </div>\n",
       "    <table border=\"1\" class=\"dataframe\">\n",
       "  <thead>\n",
       " <tr style=\"text-align: left;\">\n",
       "      <th>Step</th>\n",
       "      <th>Training Loss</th>\n",
       "      <th>Validation Loss</th>\n",
       "      <th>Accuracy</th>\n",
       "      <th>F1</th>\n",
       "      <th>Precision</th>\n",
       "      <th>Recall</th>\n",
       "    </tr>\n",
       "  </thead>\n",
       "  <tbody>\n",
       "    <tr>\n",
       "      <td>500</td>\n",
       "      <td>0.129400</td>\n",
       "      <td>0.594296</td>\n",
       "      <td>0.200000</td>\n",
       "      <td>0.584240</td>\n",
       "      <td>0.572979</td>\n",
       "      <td>0.623529</td>\n",
       "    </tr>\n",
       "    <tr>\n",
       "      <td>1000</td>\n",
       "      <td>0.016800</td>\n",
       "      <td>0.788068</td>\n",
       "      <td>0.210000</td>\n",
       "      <td>0.585948</td>\n",
       "      <td>0.613399</td>\n",
       "      <td>0.594118</td>\n",
       "    </tr>\n",
       "    <tr>\n",
       "      <td>1500</td>\n",
       "      <td>0.006100</td>\n",
       "      <td>0.851611</td>\n",
       "      <td>0.200000</td>\n",
       "      <td>0.580887</td>\n",
       "      <td>0.598050</td>\n",
       "      <td>0.594118</td>\n",
       "    </tr>\n",
       "    <tr>\n",
       "      <td>2000</td>\n",
       "      <td>0.003900</td>\n",
       "      <td>0.896191</td>\n",
       "      <td>0.200000</td>\n",
       "      <td>0.578996</td>\n",
       "      <td>0.628813</td>\n",
       "      <td>0.570588</td>\n",
       "    </tr>\n",
       "    <tr>\n",
       "      <td>2500</td>\n",
       "      <td>0.003000</td>\n",
       "      <td>0.941552</td>\n",
       "      <td>0.200000</td>\n",
       "      <td>0.590919</td>\n",
       "      <td>0.616319</td>\n",
       "      <td>0.605882</td>\n",
       "    </tr>\n",
       "    <tr>\n",
       "      <td>3000</td>\n",
       "      <td>0.002500</td>\n",
       "      <td>0.973684</td>\n",
       "      <td>0.190000</td>\n",
       "      <td>0.592271</td>\n",
       "      <td>0.618460</td>\n",
       "      <td>0.605882</td>\n",
       "    </tr>\n",
       "    <tr>\n",
       "      <td>3500</td>\n",
       "      <td>0.001800</td>\n",
       "      <td>1.005944</td>\n",
       "      <td>0.190000</td>\n",
       "      <td>0.580231</td>\n",
       "      <td>0.621477</td>\n",
       "      <td>0.582353</td>\n",
       "    </tr>\n",
       "    <tr>\n",
       "      <td>4000</td>\n",
       "      <td>0.001500</td>\n",
       "      <td>1.035031</td>\n",
       "      <td>0.190000</td>\n",
       "      <td>0.584544</td>\n",
       "      <td>0.621704</td>\n",
       "      <td>0.594118</td>\n",
       "    </tr>\n",
       "    <tr>\n",
       "      <td>4500</td>\n",
       "      <td>0.001300</td>\n",
       "      <td>1.063533</td>\n",
       "      <td>0.190000</td>\n",
       "      <td>0.579357</td>\n",
       "      <td>0.624346</td>\n",
       "      <td>0.582353</td>\n",
       "    </tr>\n",
       "    <tr>\n",
       "      <td>5000</td>\n",
       "      <td>0.001200</td>\n",
       "      <td>1.070719</td>\n",
       "      <td>0.200000</td>\n",
       "      <td>0.588206</td>\n",
       "      <td>0.624815</td>\n",
       "      <td>0.594118</td>\n",
       "    </tr>\n",
       "    <tr>\n",
       "      <td>5500</td>\n",
       "      <td>0.001100</td>\n",
       "      <td>1.074534</td>\n",
       "      <td>0.200000</td>\n",
       "      <td>0.590209</td>\n",
       "      <td>0.623652</td>\n",
       "      <td>0.600000</td>\n",
       "    </tr>\n",
       "  </tbody>\n",
       "</table><p>"
      ],
      "text/plain": [
       "<IPython.core.display.HTML object>"
      ]
     },
     "metadata": {},
     "output_type": "display_data"
    }
   ],
   "source": [
    "with mock.patch('wandb.init', return_value=Dummy()):\n",
    "    trainer.train()"
   ]
  },
  {
   "cell_type": "code",
   "execution_count": 25,
   "metadata": {
    "execution": {
     "iopub.execute_input": "2025-01-20T12:04:37.128847Z",
     "iopub.status.busy": "2025-01-20T12:04:37.128537Z",
     "iopub.status.idle": "2025-01-20T12:04:38.705714Z",
     "shell.execute_reply": "2025-01-20T12:04:38.704950Z",
     "shell.execute_reply.started": "2025-01-20T12:04:37.128824Z"
    },
    "trusted": true
   },
   "outputs": [
    {
     "data": {
      "text/html": [],
      "text/plain": [
       "<IPython.core.display.HTML object>"
      ]
     },
     "metadata": {},
     "output_type": "display_data"
    },
    {
     "name": "stdout",
     "output_type": "stream",
     "text": [
      "metrics: {'accuracy': 0.15, 'f1': 0.6070797191792143, 'precision': 0.5105153320397727, 'recall': 0.788235294117647}\n",
      "metrics: {'accuracy': 0.14, 'f1': 0.5872546713987601, 'precision': 0.5310936812908028, 'recall': 0.6882352941176471}\n",
      "metrics: {'accuracy': 0.2, 'f1': 0.5842397925956847, 'precision': 0.5729790622617947, 'recall': 0.6235294117647059}\n",
      "metrics: {'accuracy': 0.24, 'f1': 0.5703556978091657, 'precision': 0.6093129016312406, 'recall': 0.5764705882352941}\n",
      "metrics: {'accuracy': 0.2, 'f1': 0.5466758078522784, 'precision': 0.6294147676856132, 'recall': 0.5294117647058824}\n",
      "metrics: {'accuracy': 0.21, 'f1': 0.5213589069741774, 'precision': 0.6450898775669835, 'recall': 0.47058823529411764}\n",
      "metrics: {'accuracy': 0.25, 'f1': 0.5331391225180788, 'precision': 0.6849165793638411, 'recall': 0.4647058823529412}\n",
      "metrics: {'accuracy': 0.26, 'f1': 0.5135646603138863, 'precision': 0.7280633484162895, 'recall': 0.4176470588235294}\n",
      "metrics: {'accuracy': 0.23, 'f1': 0.47101792289913647, 'precision': 0.7792585742430943, 'recall': 0.34705882352941175}\n",
      "----------------------------------------------\n",
      "Best Threshold: 0.1, Best F1-Score: 0.6071\n",
      "***********************************************\n",
      "Metrics with Best Threshold: {'accuracy': 0.15, 'f1': 0.6070797191792143, 'precision': 0.5105153320397727, 'recall': 0.788235294117647}\n",
      "Optimal Threshold: 0.1\n",
      "Final Metrics: {'accuracy': 0.15, 'f1': 0.6070797191792143, 'precision': 0.5105153320397727, 'recall': 0.788235294117647}\n"
     ]
    }
   ],
   "source": [
    "best_threshold, final_metrics = evaluate_on_validation_set(trainer)\n",
    "print(f\"Optimal Threshold: {best_threshold}\")\n",
    "print(f\"Final Metrics: {final_metrics}\")"
   ]
  },
  {
   "cell_type": "code",
   "execution_count": null,
   "metadata": {
    "execution": {
     "iopub.execute_input": "2025-01-20T12:04:50.227381Z",
     "iopub.status.busy": "2025-01-20T12:04:50.227091Z",
     "iopub.status.idle": "2025-01-20T12:04:51.768228Z",
     "shell.execute_reply": "2025-01-20T12:04:51.767510Z",
     "shell.execute_reply.started": "2025-01-20T12:04:50.227359Z"
    },
    "trusted": true
   },
   "outputs": [
    {
     "data": {
      "text/html": [],
      "text/plain": [
       "<IPython.core.display.HTML object>"
      ]
     },
     "metadata": {},
     "output_type": "display_data"
    }
   ],
   "source": [
    "dev_results = trainer.predict(dev_dataset)\n",
    "\n",
    "predictions = (torch.sigmoid(torch.tensor(dev_results.predictions)) > 0.1).numpy()\n",
    "conf_matrix = confusion_matrix(dev_labels.ravel(), predictions.ravel())"
   ]
  },
  {
   "cell_type": "code",
   "execution_count": 27,
   "metadata": {
    "execution": {
     "iopub.execute_input": "2025-01-20T12:04:56.257897Z",
     "iopub.status.busy": "2025-01-20T12:04:56.257532Z",
     "iopub.status.idle": "2025-01-20T12:04:56.617492Z",
     "shell.execute_reply": "2025-01-20T12:04:56.616576Z",
     "shell.execute_reply.started": "2025-01-20T12:04:56.257841Z"
    },
    "trusted": true
   },
   "outputs": [
    {
     "data": {
      "image/png": "[encoded data removed]",
      "text/plain": [
       "<Figure size 640x480 with 2 Axes>"
      ]
     },
     "metadata": {},
     "output_type": "display_data"
    }
   ],
   "source": [
    "disp = ConfusionMatrixDisplay(confusion_matrix=conf_matrix)\n",
    "disp.plot(cmap=plt.cm.Blues)\n",
    "plt.title('Confusion Matrix')\n",
    "plt.show()"
   ]
  },
  {
   "cell_type": "code",
   "execution_count": null,
   "metadata": {
    "execution": {
     "iopub.execute_input": "2025-01-20T12:05:05.840005Z",
     "iopub.status.busy": "2025-01-20T12:05:05.839685Z",
     "iopub.status.idle": "2025-01-20T12:05:06.022360Z",
     "shell.execute_reply": "2025-01-20T12:05:06.021385Z",
     "shell.execute_reply.started": "2025-01-20T12:05:05.839981Z"
    },
    "trusted": true
   },
   "outputs": [
    {
     "data": {
      "image/png": "[encoded data removed]",
      "text/plain": [
       "<Figure size 640x480 with 1 Axes>"
      ]
     },
     "metadata": {},
     "output_type": "display_data"
    }
   ],
   "source": [
    "fpr, tpr, _ = roc_curve(dev_labels.ravel(), dev_results.predictions.ravel())\n",
    "roc_auc = auc(fpr, tpr)\n",
    "\n",
    "plt.figure()\n",
    "plt.plot(fpr, tpr, color='blue', lw=2, label=f'ROC curve (AUC = {roc_auc:.2f})')\n",
    "plt.plot([0, 1], [0, 1], color='gray', lw=2, linestyle='--')\n",
    "plt.xlabel('False Positive Rate')\n",
    "plt.ylabel('True Positive Rate')\n",
    "plt.title('Receiver Operating Characteristic')\n",
    "plt.legend(loc='lower right')\n",
    "plt.show()"
   ]
  },
  {
   "cell_type": "code",
   "execution_count": null,
   "metadata": {
    "execution": {
     "iopub.execute_input": "2025-01-20T12:05:12.319114Z",
     "iopub.status.busy": "2025-01-20T12:05:12.318747Z",
     "iopub.status.idle": "2025-01-20T12:05:12.330351Z",
     "shell.execute_reply": "2025-01-20T12:05:12.329469Z",
     "shell.execute_reply.started": "2025-01-20T12:05:12.319085Z"
    },
    "trusted": true
   },
   "outputs": [
    {
     "name": "stdout",
     "output_type": "stream",
     "text": [
      "Accuracy: 0.1500\n",
      "anger: Precision=0.5000, Recall=0.8065, F1=0.6173\n",
      "disgust: Precision=0.4750, Recall=0.6786, F1=0.5588\n",
      "fear: Precision=0.4889, Recall=0.8462, F1=0.6197\n",
      "joy: Precision=0.7143, Recall=0.3846, F1=0.5000\n",
      "sadness: Precision=0.5070, Recall=0.9000, F1=0.6486\n",
      "surprise: Precision=0.4909, Recall=0.8438, F1=0.6207\n"
     ]
    }
   ],
   "source": [
    "precision, recall, f1, _ = precision_recall_fscore_support(\n",
    "    dev_labels, predictions, average=None\n",
    ")\n",
    "accuracy = accuracy_score(dev_labels, predictions)\n",
    "\n",
    "print(f'Accuracy: {accuracy:.4f}')\n",
    "for i, label in enumerate(emotion_labels):\n",
    "    print(f\"{label}: Precision={precision[i]:.4f}, Recall={recall[i]:.4f}, F1={f1[i]:.4f}\")"
   ]
  },
  {
   "cell_type": "code",
   "execution_count": null,
   "metadata": {
    "execution": {
     "iopub.execute_input": "2025-01-20T12:05:19.818493Z",
     "iopub.status.busy": "2025-01-20T12:05:19.818195Z",
     "iopub.status.idle": "2025-01-20T12:05:37.184455Z",
     "shell.execute_reply": "2025-01-20T12:05:37.183711Z",
     "shell.execute_reply.started": "2025-01-20T12:05:19.818471Z"
    },
    "trusted": true
   },
   "outputs": [
    {
     "data": {
      "text/html": [],
      "text/plain": [
       "<IPython.core.display.HTML object>"
      ]
     },
     "metadata": {},
     "output_type": "display_data"
    }
   ],
   "source": [
    "test_encodings = tokenizer(list(test_arq['text']), truncation=True, padding=True, max_length=128, return_tensors=\"pt\")\n",
    "test_dataset = CustomDataset(test_encodings, np.zeros((len(test_arq), 6))) \n",
    "test_results = trainer.predict(test_dataset)\n",
    "test_predictions = (torch.sigmoid(torch.tensor(test_results.predictions)) > 0.1).numpy()\n",
    "\n",
    "test_arq[emotion_labels] = test_predictions\n",
    "test_arq.to_csv('test_predictions_arq_arabert_large_v1.csv', index=False)"
   ]
  }
 ],
 "metadata": {
  "kaggle": {
   "accelerator": "nvidiaTeslaT4",
   "dataSources": [
    {
     "datasetId": 6347818,
     "sourceId": 10498281,
     "sourceType": "datasetVersion"
    }
   ],
   "dockerImageVersionId": 30840,
   "isGpuEnabled": true,
   "isInternetEnabled": true,
   "language": "python",
   "sourceType": "notebook"
  },
  "kernelspec": {
   "display_name": "Python 3",
   "language": "python",
   "name": "python3"
  },
  "language_info": {
   "codemirror_mode": {
    "name": "ipython",
    "version": 3
   },
   "file_extension": ".py",
   "mimetype": "text/x-python",
   "name": "python",
   "nbconvert_exporter": "python",
   "pygments_lexer": "ipython3",
   "version": "3.10.12"
  }
 },
 "nbformat": 4,
 "nbformat_minor": 4
}
