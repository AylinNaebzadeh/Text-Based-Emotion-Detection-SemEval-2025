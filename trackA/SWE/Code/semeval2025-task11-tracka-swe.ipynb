{
 "cells": [
  {
   "cell_type": "code",
   "execution_count": 1,
   "metadata": {
    "_cell_guid": "b1076dfc-b9ad-4769-8c92-a6c4dae69d19",
    "_uuid": "8f2839f25d086af736a60e9eeb907d3b93b6e0e5",
    "execution": {
     "iopub.execute_input": "2025-01-23T14:23:54.431896Z",
     "iopub.status.busy": "2025-01-23T14:23:54.431707Z",
     "iopub.status.idle": "2025-01-23T14:23:54.986329Z",
     "shell.execute_reply": "2025-01-23T14:23:54.985462Z",
     "shell.execute_reply.started": "2025-01-23T14:23:54.431877Z"
    },
    "trusted": true
   },
   "outputs": [
    {
     "name": "stdout",
     "output_type": "stream",
     "text": [
      "/kaggle/input/public_data_test/track_c/test/ind.csv\n",
      "/kaggle/input/public_data_test/track_c/test/tat.csv\n",
      "/kaggle/input/public_data_test/track_c/test/swe.csv\n",
      "/kaggle/input/public_data_test/track_c/test/afr.csv\n",
      "/kaggle/input/public_data_test/track_c/test/xho.csv\n",
      "/kaggle/input/public_data_test/track_c/test/amh.csv\n",
      "/kaggle/input/public_data_test/track_c/test/ptbr.csv\n",
      "/kaggle/input/public_data_test/track_c/test/mar.csv\n",
      "/kaggle/input/public_data_test/track_c/test/eng.csv\n",
      "/kaggle/input/public_data_test/track_c/test/yor.csv\n",
      "/kaggle/input/public_data_test/track_c/test/hau.csv\n",
      "/kaggle/input/public_data_test/track_c/test/som.csv\n",
      "/kaggle/input/public_data_test/track_c/test/ron.csv\n",
      "/kaggle/input/public_data_test/track_c/test/zul.csv\n",
      "/kaggle/input/public_data_test/track_c/test/sun.csv\n",
      "/kaggle/input/public_data_test/track_c/test/arq.csv\n",
      "/kaggle/input/public_data_test/track_c/test/hin.csv\n",
      "/kaggle/input/public_data_test/track_c/test/ibo.csv\n",
      "/kaggle/input/public_data_test/track_c/test/chn.csv\n",
      "/kaggle/input/public_data_test/track_c/test/ukr.csv\n",
      "/kaggle/input/public_data_test/track_c/test/esp.csv\n",
      "/kaggle/input/public_data_test/track_c/test/orm.csv\n",
      "/kaggle/input/public_data_test/track_c/test/vmw.csv\n",
      "/kaggle/input/public_data_test/track_c/test/jav.csv\n",
      "/kaggle/input/public_data_test/track_c/test/tir.csv\n",
      "/kaggle/input/public_data_test/track_c/test/pcm.csv\n",
      "/kaggle/input/public_data_test/track_c/test/rus.csv\n",
      "/kaggle/input/public_data_test/track_c/test/swa.csv\n",
      "/kaggle/input/public_data_test/track_c/test/deu.csv\n",
      "/kaggle/input/public_data_test/track_c/test/ary.csv\n",
      "/kaggle/input/public_data_test/track_c/test/kin.csv\n",
      "/kaggle/input/public_data_test/track_c/test/ptmz.csv\n",
      "/kaggle/input/public_data_test/track_c/dev/ind.csv\n",
      "/kaggle/input/public_data_test/track_c/dev/tat.csv\n",
      "/kaggle/input/public_data_test/track_c/dev/swe.csv\n",
      "/kaggle/input/public_data_test/track_c/dev/afr.csv\n",
      "/kaggle/input/public_data_test/track_c/dev/xho.csv\n",
      "/kaggle/input/public_data_test/track_c/dev/amh.csv\n",
      "/kaggle/input/public_data_test/track_c/dev/ptbr.csv\n",
      "/kaggle/input/public_data_test/track_c/dev/mar.csv\n",
      "/kaggle/input/public_data_test/track_c/dev/eng.csv\n",
      "/kaggle/input/public_data_test/track_c/dev/yor.csv\n",
      "/kaggle/input/public_data_test/track_c/dev/hau.csv\n",
      "/kaggle/input/public_data_test/track_c/dev/som.csv\n",
      "/kaggle/input/public_data_test/track_c/dev/ron.csv\n",
      "/kaggle/input/public_data_test/track_c/dev/zul.csv\n",
      "/kaggle/input/public_data_test/track_c/dev/sun.csv\n",
      "/kaggle/input/public_data_test/track_c/dev/arq.csv\n",
      "/kaggle/input/public_data_test/track_c/dev/hin.csv\n",
      "/kaggle/input/public_data_test/track_c/dev/ibo.csv\n",
      "/kaggle/input/public_data_test/track_c/dev/chn.csv\n",
      "/kaggle/input/public_data_test/track_c/dev/ukr.csv\n",
      "/kaggle/input/public_data_test/track_c/dev/esp.csv\n",
      "/kaggle/input/public_data_test/track_c/dev/orm.csv\n",
      "/kaggle/input/public_data_test/track_c/dev/vmw.csv\n",
      "/kaggle/input/public_data_test/track_c/dev/jav.csv\n",
      "/kaggle/input/public_data_test/track_c/dev/tir.csv\n",
      "/kaggle/input/public_data_test/track_c/dev/pcm.csv\n",
      "/kaggle/input/public_data_test/track_c/dev/rus.csv\n",
      "/kaggle/input/public_data_test/track_c/dev/swa.csv\n",
      "/kaggle/input/public_data_test/track_c/dev/deu.csv\n",
      "/kaggle/input/public_data_test/track_c/dev/ary.csv\n",
      "/kaggle/input/public_data_test/track_c/dev/kin.csv\n",
      "/kaggle/input/public_data_test/track_c/dev/ptmz.csv\n",
      "/kaggle/input/public_data_test/track_b/test/amh.csv\n",
      "/kaggle/input/public_data_test/track_b/test/ptbr.csv\n",
      "/kaggle/input/public_data_test/track_b/test/eng.csv\n",
      "/kaggle/input/public_data_test/track_b/test/hau.csv\n",
      "/kaggle/input/public_data_test/track_b/test/ron.csv\n",
      "/kaggle/input/public_data_test/track_b/test/arq.csv\n",
      "/kaggle/input/public_data_test/track_b/test/chn.csv\n",
      "/kaggle/input/public_data_test/track_b/test/ukr.csv\n",
      "/kaggle/input/public_data_test/track_b/test/esp.csv\n",
      "/kaggle/input/public_data_test/track_b/test/rus.csv\n",
      "/kaggle/input/public_data_test/track_b/test/deu.csv\n",
      "/kaggle/input/public_data_test/track_b/train/amh.csv\n",
      "/kaggle/input/public_data_test/track_b/train/ptbr.csv\n",
      "/kaggle/input/public_data_test/track_b/train/eng.csv\n",
      "/kaggle/input/public_data_test/track_b/train/hau.csv\n",
      "/kaggle/input/public_data_test/track_b/train/ron.csv\n",
      "/kaggle/input/public_data_test/track_b/train/arq.csv\n",
      "/kaggle/input/public_data_test/track_b/train/chn.csv\n",
      "/kaggle/input/public_data_test/track_b/train/ukr.csv\n",
      "/kaggle/input/public_data_test/track_b/train/esp.csv\n",
      "/kaggle/input/public_data_test/track_b/train/rus.csv\n",
      "/kaggle/input/public_data_test/track_b/train/deu.csv\n",
      "/kaggle/input/public_data_test/track_b/dev/amh.csv\n",
      "/kaggle/input/public_data_test/track_b/dev/ptbr.csv\n",
      "/kaggle/input/public_data_test/track_b/dev/eng.csv\n",
      "/kaggle/input/public_data_test/track_b/dev/hau.csv\n",
      "/kaggle/input/public_data_test/track_b/dev/ron.csv\n",
      "/kaggle/input/public_data_test/track_b/dev/arq.csv\n",
      "/kaggle/input/public_data_test/track_b/dev/chn.csv\n",
      "/kaggle/input/public_data_test/track_b/dev/ukr.csv\n",
      "/kaggle/input/public_data_test/track_b/dev/esp.csv\n",
      "/kaggle/input/public_data_test/track_b/dev/rus.csv\n",
      "/kaggle/input/public_data_test/track_b/dev/deu.csv\n",
      "/kaggle/input/public_data_test/track_a/test/tat.csv\n",
      "/kaggle/input/public_data_test/track_a/test/swe.csv\n",
      "/kaggle/input/public_data_test/track_a/test/afr.csv\n",
      "/kaggle/input/public_data_test/track_a/test/amh.csv\n",
      "/kaggle/input/public_data_test/track_a/test/ptbr.csv\n",
      "/kaggle/input/public_data_test/track_a/test/mar.csv\n",
      "/kaggle/input/public_data_test/track_a/test/eng.csv\n",
      "/kaggle/input/public_data_test/track_a/test/yor.csv\n",
      "/kaggle/input/public_data_test/track_a/test/hau.csv\n",
      "/kaggle/input/public_data_test/track_a/test/som.csv\n",
      "/kaggle/input/public_data_test/track_a/test/ron.csv\n",
      "/kaggle/input/public_data_test/track_a/test/sun.csv\n",
      "/kaggle/input/public_data_test/track_a/test/arq.csv\n",
      "/kaggle/input/public_data_test/track_a/test/hin.csv\n",
      "/kaggle/input/public_data_test/track_a/test/ibo.csv\n",
      "/kaggle/input/public_data_test/track_a/test/chn.csv\n",
      "/kaggle/input/public_data_test/track_a/test/ukr.csv\n",
      "/kaggle/input/public_data_test/track_a/test/esp.csv\n",
      "/kaggle/input/public_data_test/track_a/test/orm.csv\n",
      "/kaggle/input/public_data_test/track_a/test/vmw.csv\n",
      "/kaggle/input/public_data_test/track_a/test/tir.csv\n",
      "/kaggle/input/public_data_test/track_a/test/pcm.csv\n",
      "/kaggle/input/public_data_test/track_a/test/rus.csv\n",
      "/kaggle/input/public_data_test/track_a/test/swa.csv\n",
      "/kaggle/input/public_data_test/track_a/test/deu.csv\n",
      "/kaggle/input/public_data_test/track_a/test/ary.csv\n",
      "/kaggle/input/public_data_test/track_a/test/kin.csv\n",
      "/kaggle/input/public_data_test/track_a/test/ptmz.csv\n",
      "/kaggle/input/public_data_test/track_a/train/tat.csv\n",
      "/kaggle/input/public_data_test/track_a/train/swe.csv\n",
      "/kaggle/input/public_data_test/track_a/train/afr.csv\n",
      "/kaggle/input/public_data_test/track_a/train/amh.csv\n",
      "/kaggle/input/public_data_test/track_a/train/ptbr.csv\n",
      "/kaggle/input/public_data_test/track_a/train/mar.csv\n",
      "/kaggle/input/public_data_test/track_a/train/eng.csv\n",
      "/kaggle/input/public_data_test/track_a/train/yor.csv\n",
      "/kaggle/input/public_data_test/track_a/train/hau.csv\n",
      "/kaggle/input/public_data_test/track_a/train/som.csv\n",
      "/kaggle/input/public_data_test/track_a/train/ron.csv\n",
      "/kaggle/input/public_data_test/track_a/train/sun.csv\n",
      "/kaggle/input/public_data_test/track_a/train/arq.csv\n",
      "/kaggle/input/public_data_test/track_a/train/hin.csv\n",
      "/kaggle/input/public_data_test/track_a/train/ibo.csv\n",
      "/kaggle/input/public_data_test/track_a/train/chn.csv\n",
      "/kaggle/input/public_data_test/track_a/train/ukr.csv\n",
      "/kaggle/input/public_data_test/track_a/train/esp.csv\n",
      "/kaggle/input/public_data_test/track_a/train/orm.csv\n",
      "/kaggle/input/public_data_test/track_a/train/vmw.csv\n",
      "/kaggle/input/public_data_test/track_a/train/tir.csv\n",
      "/kaggle/input/public_data_test/track_a/train/pcm.csv\n",
      "/kaggle/input/public_data_test/track_a/train/rus.csv\n",
      "/kaggle/input/public_data_test/track_a/train/swa.csv\n",
      "/kaggle/input/public_data_test/track_a/train/deu.csv\n",
      "/kaggle/input/public_data_test/track_a/train/ary.csv\n",
      "/kaggle/input/public_data_test/track_a/train/kin.csv\n",
      "/kaggle/input/public_data_test/track_a/train/ptmz.csv\n",
      "/kaggle/input/public_data_test/track_a/dev/tat.csv\n",
      "/kaggle/input/public_data_test/track_a/dev/swe.csv\n",
      "/kaggle/input/public_data_test/track_a/dev/afr.csv\n",
      "/kaggle/input/public_data_test/track_a/dev/amh.csv\n",
      "/kaggle/input/public_data_test/track_a/dev/ptbr.csv\n",
      "/kaggle/input/public_data_test/track_a/dev/mar.csv\n",
      "/kaggle/input/public_data_test/track_a/dev/eng.csv\n",
      "/kaggle/input/public_data_test/track_a/dev/yor.csv\n",
      "/kaggle/input/public_data_test/track_a/dev/hau.csv\n",
      "/kaggle/input/public_data_test/track_a/dev/som.csv\n",
      "/kaggle/input/public_data_test/track_a/dev/ron.csv\n",
      "/kaggle/input/public_data_test/track_a/dev/sun.csv\n",
      "/kaggle/input/public_data_test/track_a/dev/arq.csv\n",
      "/kaggle/input/public_data_test/track_a/dev/hin.csv\n",
      "/kaggle/input/public_data_test/track_a/dev/ibo.csv\n",
      "/kaggle/input/public_data_test/track_a/dev/chn.csv\n",
      "/kaggle/input/public_data_test/track_a/dev/ukr.csv\n",
      "/kaggle/input/public_data_test/track_a/dev/esp.csv\n",
      "/kaggle/input/public_data_test/track_a/dev/orm.csv\n",
      "/kaggle/input/public_data_test/track_a/dev/vmw.csv\n",
      "/kaggle/input/public_data_test/track_a/dev/tir.csv\n",
      "/kaggle/input/public_data_test/track_a/dev/pcm.csv\n",
      "/kaggle/input/public_data_test/track_a/dev/rus.csv\n",
      "/kaggle/input/public_data_test/track_a/dev/swa.csv\n",
      "/kaggle/input/public_data_test/track_a/dev/deu.csv\n",
      "/kaggle/input/public_data_test/track_a/dev/ary.csv\n",
      "/kaggle/input/public_data_test/track_a/dev/kin.csv\n",
      "/kaggle/input/public_data_test/track_a/dev/ptmz.csv\n"
     ]
    }
   ],
   "source": [
    "# This Python 3 environment comes with many helpful analytics libraries installed\n",
    "# It is defined by the kaggle/python Docker image: https://github.com/kaggle/docker-python\n",
    "# For example, here's several helpful packages to load\n",
    "\n",
    "import numpy as np # linear algebra\n",
    "import pandas as pd # data processing, CSV file I/O (e.g. pd.read_csv)\n",
    "\n",
    "# Input data files are available in the read-only \"../input/\" directory\n",
    "# For example, running this (by clicking run or pressing Shift+Enter) will list all files under the input directory\n",
    "\n",
    "import os\n",
    "for dirname, _, filenames in os.walk('/kaggle/input'):\n",
    "    for filename in filenames:\n",
    "        print(os.path.join(dirname, filename))\n",
    "\n",
    "# You can write up to 20GB to the current directory (/kaggle/working/) that gets preserved as output when you create a version using \"Save & Run All\" \n",
    "# You can also write temporary files to /kaggle/temp/, but they won't be saved outside of the current session"
   ]
  },
  {
   "cell_type": "markdown",
   "metadata": {},
   "source": [
    "# Install Libraries and Modules"
   ]
  },
  {
   "cell_type": "code",
   "execution_count": 2,
   "metadata": {
    "execution": {
     "iopub.execute_input": "2025-01-23T14:24:05.436321Z",
     "iopub.status.busy": "2025-01-23T14:24:05.436033Z",
     "iopub.status.idle": "2025-01-23T14:24:05.439929Z",
     "shell.execute_reply": "2025-01-23T14:24:05.438950Z",
     "shell.execute_reply.started": "2025-01-23T14:24:05.436297Z"
    },
    "trusted": true
   },
   "outputs": [],
   "source": [
    "import warnings\n",
    "warnings.filterwarnings('ignore') "
   ]
  },
  {
   "cell_type": "code",
   "execution_count": 3,
   "metadata": {
    "execution": {
     "iopub.execute_input": "2025-01-23T14:24:07.527540Z",
     "iopub.status.busy": "2025-01-23T14:24:07.527241Z",
     "iopub.status.idle": "2025-01-23T14:24:19.608318Z",
     "shell.execute_reply": "2025-01-23T14:24:19.607163Z",
     "shell.execute_reply.started": "2025-01-23T14:24:07.527515Z"
    },
    "trusted": true
   },
   "outputs": [
    {
     "name": "stdout",
     "output_type": "stream",
     "text": [
      "Found existing installation: wandb 0.19.1\n",
      "Uninstalling wandb-0.19.1:\n",
      "  Successfully uninstalled wandb-0.19.1\n"
     ]
    }
   ],
   "source": [
    "!pip uninstall -y wandb"
   ]
  },
  {
   "cell_type": "code",
   "execution_count": 4,
   "metadata": {
    "execution": {
     "iopub.execute_input": "2025-01-23T14:24:19.610134Z",
     "iopub.status.busy": "2025-01-23T14:24:19.609743Z",
     "iopub.status.idle": "2025-01-23T14:24:25.397400Z",
     "shell.execute_reply": "2025-01-23T14:24:25.396547Z",
     "shell.execute_reply.started": "2025-01-23T14:24:19.610103Z"
    },
    "trusted": true
   },
   "outputs": [
    {
     "name": "stdout",
     "output_type": "stream",
     "text": [
      "Collecting wandb==0.17.5\n",
      "  Downloading wandb-0.17.5-py3-none-manylinux_2_5_x86_64.manylinux1_x86_64.manylinux_2_17_x86_64.manylinux2014_x86_64.whl.metadata (10 kB)\n",
      "Requirement already satisfied: click!=8.0.0,>=7.1 in /usr/local/lib/python3.10/dist-packages (from wandb==0.17.5) (8.1.7)\n",
      "Requirement already satisfied: docker-pycreds>=0.4.0 in /usr/local/lib/python3.10/dist-packages (from wandb==0.17.5) (0.4.0)\n",
      "Requirement already satisfied: gitpython!=3.1.29,>=1.0.0 in /usr/local/lib/python3.10/dist-packages (from wandb==0.17.5) (3.1.43)\n",
      "Requirement already satisfied: platformdirs in /usr/local/lib/python3.10/dist-packages (from wandb==0.17.5) (4.3.6)\n",
      "Requirement already satisfied: protobuf!=4.21.0,<6,>=3.19.0 in /usr/local/lib/python3.10/dist-packages (from wandb==0.17.5) (3.20.3)\n",
      "Requirement already satisfied: psutil>=5.0.0 in /usr/local/lib/python3.10/dist-packages (from wandb==0.17.5) (5.9.5)\n",
      "Requirement already satisfied: pyyaml in /usr/local/lib/python3.10/dist-packages (from wandb==0.17.5) (6.0.2)\n",
      "Requirement already satisfied: requests<3,>=2.0.0 in /usr/local/lib/python3.10/dist-packages (from wandb==0.17.5) (2.32.3)\n",
      "Requirement already satisfied: sentry-sdk>=1.0.0 in /usr/local/lib/python3.10/dist-packages (from wandb==0.17.5) (2.19.2)\n",
      "Requirement already satisfied: setproctitle in /usr/local/lib/python3.10/dist-packages (from wandb==0.17.5) (1.3.4)\n",
      "Requirement already satisfied: setuptools in /usr/local/lib/python3.10/dist-packages (from wandb==0.17.5) (75.1.0)\n",
      "Requirement already satisfied: six>=1.4.0 in /usr/local/lib/python3.10/dist-packages (from docker-pycreds>=0.4.0->wandb==0.17.5) (1.17.0)\n",
      "Requirement already satisfied: gitdb<5,>=4.0.1 in /usr/local/lib/python3.10/dist-packages (from gitpython!=3.1.29,>=1.0.0->wandb==0.17.5) (4.0.11)\n",
      "Requirement already satisfied: charset-normalizer<4,>=2 in /usr/local/lib/python3.10/dist-packages (from requests<3,>=2.0.0->wandb==0.17.5) (3.4.0)\n",
      "Requirement already satisfied: idna<4,>=2.5 in /usr/local/lib/python3.10/dist-packages (from requests<3,>=2.0.0->wandb==0.17.5) (3.10)\n",
      "Requirement already satisfied: urllib3<3,>=1.21.1 in /usr/local/lib/python3.10/dist-packages (from requests<3,>=2.0.0->wandb==0.17.5) (2.2.3)\n",
      "Requirement already satisfied: certifi>=2017.4.17 in /usr/local/lib/python3.10/dist-packages (from requests<3,>=2.0.0->wandb==0.17.5) (2024.12.14)\n",
      "Requirement already satisfied: smmap<6,>=3.0.1 in /usr/local/lib/python3.10/dist-packages (from gitdb<5,>=4.0.1->gitpython!=3.1.29,>=1.0.0->wandb==0.17.5) (5.0.1)\n",
      "Downloading wandb-0.17.5-py3-none-manylinux_2_5_x86_64.manylinux1_x86_64.manylinux_2_17_x86_64.manylinux2014_x86_64.whl (6.8 MB)\n",
      "\u001b[2K   \u001b[90m━━━━━━━━━━━━━━━━━━━━━━━━━━━━━━━━━━━━━━━━\u001b[0m \u001b[32m6.8/6.8 MB\u001b[0m \u001b[31m52.3 MB/s\u001b[0m eta \u001b[36m0:00:00\u001b[0m00:01\u001b[0m00:01\u001b[0m\n",
      "\u001b[?25hInstalling collected packages: wandb\n",
      "Successfully installed wandb-0.17.5\n"
     ]
    }
   ],
   "source": [
    "!pip install wandb==0.17.5 "
   ]
  },
  {
   "cell_type": "code",
   "execution_count": 5,
   "metadata": {
    "execution": {
     "iopub.execute_input": "2025-01-23T14:24:26.759141Z",
     "iopub.status.busy": "2025-01-23T14:24:26.758829Z",
     "iopub.status.idle": "2025-01-23T14:24:27.618950Z",
     "shell.execute_reply": "2025-01-23T14:24:27.618098Z",
     "shell.execute_reply.started": "2025-01-23T14:24:26.759114Z"
    },
    "trusted": true
   },
   "outputs": [],
   "source": [
    "import wandb"
   ]
  },
  {
   "cell_type": "code",
   "execution_count": 6,
   "metadata": {
    "execution": {
     "iopub.execute_input": "2025-01-23T14:24:29.909150Z",
     "iopub.status.busy": "2025-01-23T14:24:29.908835Z",
     "iopub.status.idle": "2025-01-23T14:24:31.729890Z",
     "shell.execute_reply": "2025-01-23T14:24:31.728975Z",
     "shell.execute_reply.started": "2025-01-23T14:24:29.909106Z"
    },
    "trusted": true
   },
   "outputs": [
    {
     "name": "stdout",
     "output_type": "stream",
     "text": [
      "W&B offline. Running your script from this directory will only write metadata locally. Use wandb disabled to completely turn off W&B.\n",
      "W&B disabled.\n"
     ]
    }
   ],
   "source": [
    "!wandb offline\n",
    "!wandb disabled"
   ]
  },
  {
   "cell_type": "code",
   "execution_count": 7,
   "metadata": {
    "execution": {
     "iopub.execute_input": "2025-01-23T14:24:33.577635Z",
     "iopub.status.busy": "2025-01-23T14:24:33.577280Z",
     "iopub.status.idle": "2025-01-23T14:24:33.581692Z",
     "shell.execute_reply": "2025-01-23T14:24:33.580745Z",
     "shell.execute_reply.started": "2025-01-23T14:24:33.577570Z"
    },
    "trusted": true
   },
   "outputs": [],
   "source": [
    "import os\n",
    "os.environ[\"WANDB_DISABLED\"] = \"true\""
   ]
  },
  {
   "cell_type": "code",
   "execution_count": 8,
   "metadata": {
    "execution": {
     "iopub.execute_input": "2025-01-23T14:24:36.303762Z",
     "iopub.status.busy": "2025-01-23T14:24:36.303399Z",
     "iopub.status.idle": "2025-01-23T14:24:39.956896Z",
     "shell.execute_reply": "2025-01-23T14:24:39.955996Z",
     "shell.execute_reply.started": "2025-01-23T14:24:36.303732Z"
    },
    "trusted": true
   },
   "outputs": [
    {
     "name": "stdout",
     "output_type": "stream",
     "text": [
      "Requirement already satisfied: datasets in /usr/local/lib/python3.10/dist-packages (3.2.0)\n",
      "Requirement already satisfied: transformers in /usr/local/lib/python3.10/dist-packages (4.47.0)\n",
      "Collecting evaluate\n",
      "  Downloading evaluate-0.4.3-py3-none-any.whl.metadata (9.2 kB)\n",
      "Requirement already satisfied: sentencepiece in /usr/local/lib/python3.10/dist-packages (0.2.0)\n",
      "Requirement already satisfied: accelerate in /usr/local/lib/python3.10/dist-packages (1.2.1)\n",
      "Requirement already satisfied: filelock in /usr/local/lib/python3.10/dist-packages (from datasets) (3.16.1)\n",
      "Requirement already satisfied: numpy>=1.17 in /usr/local/lib/python3.10/dist-packages (from datasets) (1.26.4)\n",
      "Requirement already satisfied: pyarrow>=15.0.0 in /usr/local/lib/python3.10/dist-packages (from datasets) (17.0.0)\n",
      "Requirement already satisfied: dill<0.3.9,>=0.3.0 in /usr/local/lib/python3.10/dist-packages (from datasets) (0.3.8)\n",
      "Requirement already satisfied: pandas in /usr/local/lib/python3.10/dist-packages (from datasets) (2.2.2)\n",
      "Requirement already satisfied: requests>=2.32.2 in /usr/local/lib/python3.10/dist-packages (from datasets) (2.32.3)\n",
      "Requirement already satisfied: tqdm>=4.66.3 in /usr/local/lib/python3.10/dist-packages (from datasets) (4.67.1)\n",
      "Requirement already satisfied: xxhash in /usr/local/lib/python3.10/dist-packages (from datasets) (3.5.0)\n",
      "Requirement already satisfied: multiprocess<0.70.17 in /usr/local/lib/python3.10/dist-packages (from datasets) (0.70.16)\n",
      "Requirement already satisfied: fsspec<=2024.9.0,>=2023.1.0 in /usr/local/lib/python3.10/dist-packages (from fsspec[http]<=2024.9.0,>=2023.1.0->datasets) (2024.9.0)\n",
      "Requirement already satisfied: aiohttp in /usr/local/lib/python3.10/dist-packages (from datasets) (3.11.10)\n",
      "Requirement already satisfied: huggingface-hub>=0.23.0 in /usr/local/lib/python3.10/dist-packages (from datasets) (0.27.0)\n",
      "Requirement already satisfied: packaging in /usr/local/lib/python3.10/dist-packages (from datasets) (24.2)\n",
      "Requirement already satisfied: pyyaml>=5.1 in /usr/local/lib/python3.10/dist-packages (from datasets) (6.0.2)\n",
      "Requirement already satisfied: regex!=2019.12.17 in /usr/local/lib/python3.10/dist-packages (from transformers) (2024.11.6)\n",
      "Requirement already satisfied: tokenizers<0.22,>=0.21 in /usr/local/lib/python3.10/dist-packages (from transformers) (0.21.0)\n",
      "Requirement already satisfied: safetensors>=0.4.1 in /usr/local/lib/python3.10/dist-packages (from transformers) (0.4.5)\n",
      "Requirement already satisfied: psutil in /usr/local/lib/python3.10/dist-packages (from accelerate) (5.9.5)\n",
      "Requirement already satisfied: torch>=1.10.0 in /usr/local/lib/python3.10/dist-packages (from accelerate) (2.5.1+cu121)\n",
      "Requirement already satisfied: aiohappyeyeballs>=2.3.0 in /usr/local/lib/python3.10/dist-packages (from aiohttp->datasets) (2.4.4)\n",
      "Requirement already satisfied: aiosignal>=1.1.2 in /usr/local/lib/python3.10/dist-packages (from aiohttp->datasets) (1.3.2)\n",
      "Requirement already satisfied: async-timeout<6.0,>=4.0 in /usr/local/lib/python3.10/dist-packages (from aiohttp->datasets) (4.0.3)\n",
      "Requirement already satisfied: attrs>=17.3.0 in /usr/local/lib/python3.10/dist-packages (from aiohttp->datasets) (24.3.0)\n",
      "Requirement already satisfied: frozenlist>=1.1.1 in /usr/local/lib/python3.10/dist-packages (from aiohttp->datasets) (1.5.0)\n",
      "Requirement already satisfied: multidict<7.0,>=4.5 in /usr/local/lib/python3.10/dist-packages (from aiohttp->datasets) (6.1.0)\n",
      "Requirement already satisfied: propcache>=0.2.0 in /usr/local/lib/python3.10/dist-packages (from aiohttp->datasets) (0.2.1)\n",
      "Requirement already satisfied: yarl<2.0,>=1.17.0 in /usr/local/lib/python3.10/dist-packages (from aiohttp->datasets) (1.18.3)\n",
      "Requirement already satisfied: typing-extensions>=3.7.4.3 in /usr/local/lib/python3.10/dist-packages (from huggingface-hub>=0.23.0->datasets) (4.12.2)\n",
      "Requirement already satisfied: mkl_fft in /usr/local/lib/python3.10/dist-packages (from numpy>=1.17->datasets) (1.3.8)\n",
      "Requirement already satisfied: mkl_random in /usr/local/lib/python3.10/dist-packages (from numpy>=1.17->datasets) (1.2.4)\n",
      "Requirement already satisfied: mkl_umath in /usr/local/lib/python3.10/dist-packages (from numpy>=1.17->datasets) (0.1.1)\n",
      "Requirement already satisfied: mkl in /usr/local/lib/python3.10/dist-packages (from numpy>=1.17->datasets) (2025.0.1)\n",
      "Requirement already satisfied: tbb4py in /usr/local/lib/python3.10/dist-packages (from numpy>=1.17->datasets) (2022.0.0)\n",
      "Requirement already satisfied: mkl-service in /usr/local/lib/python3.10/dist-packages (from numpy>=1.17->datasets) (2.4.1)\n",
      "Requirement already satisfied: charset-normalizer<4,>=2 in /usr/local/lib/python3.10/dist-packages (from requests>=2.32.2->datasets) (3.4.0)\n",
      "Requirement already satisfied: idna<4,>=2.5 in /usr/local/lib/python3.10/dist-packages (from requests>=2.32.2->datasets) (3.10)\n",
      "Requirement already satisfied: urllib3<3,>=1.21.1 in /usr/local/lib/python3.10/dist-packages (from requests>=2.32.2->datasets) (2.2.3)\n",
      "Requirement already satisfied: certifi>=2017.4.17 in /usr/local/lib/python3.10/dist-packages (from requests>=2.32.2->datasets) (2024.12.14)\n",
      "Requirement already satisfied: networkx in /usr/local/lib/python3.10/dist-packages (from torch>=1.10.0->accelerate) (3.4.2)\n",
      "Requirement already satisfied: jinja2 in /usr/local/lib/python3.10/dist-packages (from torch>=1.10.0->accelerate) (3.1.4)\n",
      "Requirement already satisfied: sympy==1.13.1 in /usr/local/lib/python3.10/dist-packages (from torch>=1.10.0->accelerate) (1.13.1)\n",
      "Requirement already satisfied: mpmath<1.4,>=1.1.0 in /usr/local/lib/python3.10/dist-packages (from sympy==1.13.1->torch>=1.10.0->accelerate) (1.3.0)\n",
      "Requirement already satisfied: python-dateutil>=2.8.2 in /usr/local/lib/python3.10/dist-packages (from pandas->datasets) (2.8.2)\n",
      "Requirement already satisfied: pytz>=2020.1 in /usr/local/lib/python3.10/dist-packages (from pandas->datasets) (2024.2)\n",
      "Requirement already satisfied: tzdata>=2022.7 in /usr/local/lib/python3.10/dist-packages (from pandas->datasets) (2024.2)\n",
      "Requirement already satisfied: six>=1.5 in /usr/local/lib/python3.10/dist-packages (from python-dateutil>=2.8.2->pandas->datasets) (1.17.0)\n",
      "Requirement already satisfied: MarkupSafe>=2.0 in /usr/local/lib/python3.10/dist-packages (from jinja2->torch>=1.10.0->accelerate) (3.0.2)\n",
      "Requirement already satisfied: intel-openmp>=2024 in /usr/local/lib/python3.10/dist-packages (from mkl->numpy>=1.17->datasets) (2024.2.0)\n",
      "Requirement already satisfied: tbb==2022.* in /usr/local/lib/python3.10/dist-packages (from mkl->numpy>=1.17->datasets) (2022.0.0)\n",
      "Requirement already satisfied: tcmlib==1.* in /usr/local/lib/python3.10/dist-packages (from tbb==2022.*->mkl->numpy>=1.17->datasets) (1.2.0)\n",
      "Requirement already satisfied: intel-cmplr-lib-rt in /usr/local/lib/python3.10/dist-packages (from mkl_umath->numpy>=1.17->datasets) (2024.2.0)\n",
      "Requirement already satisfied: intel-cmplr-lib-ur==2024.2.0 in /usr/local/lib/python3.10/dist-packages (from intel-openmp>=2024->mkl->numpy>=1.17->datasets) (2024.2.0)\n",
      "Downloading evaluate-0.4.3-py3-none-any.whl (84 kB)\n",
      "\u001b[2K   \u001b[90m━━━━━━━━━━━━━━━━━━━━━━━━━━━━━━━━━━━━━━━━\u001b[0m \u001b[32m84.0/84.0 kB\u001b[0m \u001b[31m2.9 MB/s\u001b[0m eta \u001b[36m0:00:00\u001b[0m\n",
      "\u001b[?25hInstalling collected packages: evaluate\n",
      "Successfully installed evaluate-0.4.3\n"
     ]
    }
   ],
   "source": [
    "!pip install datasets transformers evaluate sentencepiece accelerate"
   ]
  },
  {
   "cell_type": "code",
   "execution_count": 25,
   "metadata": {
    "execution": {
     "iopub.execute_input": "2025-01-23T14:31:41.277975Z",
     "iopub.status.busy": "2025-01-23T14:31:41.277639Z",
     "iopub.status.idle": "2025-01-23T14:31:41.282904Z",
     "shell.execute_reply": "2025-01-23T14:31:41.282091Z",
     "shell.execute_reply.started": "2025-01-23T14:31:41.277947Z"
    },
    "trusted": true
   },
   "outputs": [],
   "source": [
    "import matplotlib.pyplot as plt\n",
    "import seaborn as sns\n",
    "\n",
    "from datasets import Dataset\n",
    "from transformers import AutoTokenizer, XLMRobertaTokenizer\n",
    "from transformers import AutoModelForSequenceClassification\n",
    "from transformers import TrainingArguments, Trainer\n",
    "from transformers import EarlyStoppingCallback, IntervalStrategy\n",
    "\n",
    "import torch\n",
    "from sklearn.metrics import roc_auc_score\n",
    "from sklearn.metrics import roc_curve, auc\n",
    "from sklearn.metrics import confusion_matrix, ConfusionMatrixDisplay\n",
    "from sklearn.metrics import precision_recall_fscore_support, accuracy_score"
   ]
  },
  {
   "cell_type": "code",
   "execution_count": 56,
   "metadata": {
    "execution": {
     "iopub.execute_input": "2025-01-23T16:38:17.129741Z",
     "iopub.status.busy": "2025-01-23T16:38:17.129385Z",
     "iopub.status.idle": "2025-01-23T16:38:17.184587Z",
     "shell.execute_reply": "2025-01-23T16:38:17.183737Z",
     "shell.execute_reply.started": "2025-01-23T16:38:17.129711Z"
    },
    "trusted": true
   },
   "outputs": [],
   "source": [
    "train_swe = pd.read_csv(\"/kaggle/input/public_data_test/track_a/train/swe.csv\")\n",
    "\n",
    "dev_swe = pd.read_csv(\"/kaggle/input/public_data_test/track_a/dev/swe.csv\")\n",
    "\n",
    "test_swe = pd.read_csv(\"/kaggle/input/public_data_test/track_a/test/swe.csv\")"
   ]
  },
  {
   "cell_type": "markdown",
   "metadata": {},
   "source": [
    "# SWEDISH"
   ]
  },
  {
   "cell_type": "markdown",
   "metadata": {},
   "source": [
    "## Sources:\n",
    "- https://huggingface.co/cardiffnlp/twitter-xlm-roberta-base-sentiment\n",
    "- https://huggingface.co/marma/bert-base-swedish-cased-sentiment\n",
    "- https://huggingface.co/google-bert/bert-base-multilingual-cased\n",
    "- https://huggingface.co/FacebookAI/xlm-roberta-base\n",
    "- https://huggingface.co/KBLab/robust-swedish-sentiment-multiclass"
   ]
  },
  {
   "cell_type": "code",
   "execution_count": 12,
   "metadata": {
    "execution": {
     "iopub.execute_input": "2025-01-22T14:44:33.390729Z",
     "iopub.status.busy": "2025-01-22T14:44:33.390361Z",
     "iopub.status.idle": "2025-01-22T14:44:33.417041Z",
     "shell.execute_reply": "2025-01-22T14:44:33.416246Z",
     "shell.execute_reply.started": "2025-01-22T14:44:33.390698Z"
    },
    "trusted": true
   },
   "outputs": [
    {
     "data": {
      "text/html": [
       "<div>\n",
       "<style scoped>\n",
       "    .dataframe tbody tr th:only-of-type {\n",
       "        vertical-align: middle;\n",
       "    }\n",
       "\n",
       "    .dataframe tbody tr th {\n",
       "        vertical-align: top;\n",
       "    }\n",
       "\n",
       "    .dataframe thead th {\n",
       "        text-align: right;\n",
       "    }\n",
       "</style>\n",
       "<table border=\"1\" class=\"dataframe\">\n",
       "  <thead>\n",
       "    <tr style=\"text-align: right;\">\n",
       "      <th></th>\n",
       "      <th>id</th>\n",
       "      <th>text</th>\n",
       "      <th>anger</th>\n",
       "      <th>disgust</th>\n",
       "      <th>fear</th>\n",
       "      <th>joy</th>\n",
       "      <th>sadness</th>\n",
       "      <th>surprise</th>\n",
       "    </tr>\n",
       "  </thead>\n",
       "  <tbody>\n",
       "    <tr>\n",
       "      <th>0</th>\n",
       "      <td>swe_train_track_a_00001</td>\n",
       "      <td>Riktigt usel service - fick serverat en hambur...</td>\n",
       "      <td>0</td>\n",
       "      <td>1</td>\n",
       "      <td>0</td>\n",
       "      <td>0</td>\n",
       "      <td>0</td>\n",
       "      <td>0</td>\n",
       "    </tr>\n",
       "    <tr>\n",
       "      <th>1</th>\n",
       "      <td>swe_train_track_a_00002</td>\n",
       "      <td>Vi fyttade från ett hus till mina föräldrars h...</td>\n",
       "      <td>1</td>\n",
       "      <td>1</td>\n",
       "      <td>0</td>\n",
       "      <td>0</td>\n",
       "      <td>0</td>\n",
       "      <td>0</td>\n",
       "    </tr>\n",
       "    <tr>\n",
       "      <th>2</th>\n",
       "      <td>swe_train_track_a_00003</td>\n",
       "      <td>Till slut vände hon sig mot fönstret omkring t...</td>\n",
       "      <td>0</td>\n",
       "      <td>0</td>\n",
       "      <td>0</td>\n",
       "      <td>0</td>\n",
       "      <td>0</td>\n",
       "      <td>0</td>\n",
       "    </tr>\n",
       "    <tr>\n",
       "      <th>3</th>\n",
       "      <td>swe_train_track_a_00004</td>\n",
       "      <td>Mycket pålitlig person. Ger trygghet. Förbered...</td>\n",
       "      <td>0</td>\n",
       "      <td>0</td>\n",
       "      <td>0</td>\n",
       "      <td>1</td>\n",
       "      <td>0</td>\n",
       "      <td>0</td>\n",
       "    </tr>\n",
       "    <tr>\n",
       "      <th>4</th>\n",
       "      <td>swe_train_track_a_00005</td>\n",
       "      <td>Funderar du på att hjälpa till?</td>\n",
       "      <td>0</td>\n",
       "      <td>0</td>\n",
       "      <td>0</td>\n",
       "      <td>0</td>\n",
       "      <td>0</td>\n",
       "      <td>0</td>\n",
       "    </tr>\n",
       "  </tbody>\n",
       "</table>\n",
       "</div>"
      ],
      "text/plain": [
       "                        id                                               text  \\\n",
       "0  swe_train_track_a_00001  Riktigt usel service - fick serverat en hambur...   \n",
       "1  swe_train_track_a_00002  Vi fyttade från ett hus till mina föräldrars h...   \n",
       "2  swe_train_track_a_00003  Till slut vände hon sig mot fönstret omkring t...   \n",
       "3  swe_train_track_a_00004  Mycket pålitlig person. Ger trygghet. Förbered...   \n",
       "4  swe_train_track_a_00005                    Funderar du på att hjälpa till?   \n",
       "\n",
       "   anger  disgust  fear  joy  sadness  surprise  \n",
       "0      0        1     0    0        0         0  \n",
       "1      1        1     0    0        0         0  \n",
       "2      0        0     0    0        0         0  \n",
       "3      0        0     0    1        0         0  \n",
       "4      0        0     0    0        0         0  "
      ]
     },
     "execution_count": 12,
     "metadata": {},
     "output_type": "execute_result"
    }
   ],
   "source": [
    "train_swe.head()"
   ]
  },
  {
   "cell_type": "code",
   "execution_count": 13,
   "metadata": {
    "execution": {
     "iopub.execute_input": "2025-01-22T14:44:42.830910Z",
     "iopub.status.busy": "2025-01-22T14:44:42.830605Z",
     "iopub.status.idle": "2025-01-22T14:44:42.860723Z",
     "shell.execute_reply": "2025-01-22T14:44:42.859828Z",
     "shell.execute_reply.started": "2025-01-22T14:44:42.830882Z"
    },
    "trusted": true
   },
   "outputs": [
    {
     "name": "stdout",
     "output_type": "stream",
     "text": [
      "<class 'pandas.core.frame.DataFrame'>\n",
      "RangeIndex: 1187 entries, 0 to 1186\n",
      "Data columns (total 8 columns):\n",
      " #   Column    Non-Null Count  Dtype \n",
      "---  ------    --------------  ----- \n",
      " 0   id        1187 non-null   object\n",
      " 1   text      1187 non-null   object\n",
      " 2   anger     1187 non-null   int64 \n",
      " 3   disgust   1187 non-null   int64 \n",
      " 4   fear      1187 non-null   int64 \n",
      " 5   joy       1187 non-null   int64 \n",
      " 6   sadness   1187 non-null   int64 \n",
      " 7   surprise  1187 non-null   int64 \n",
      "dtypes: int64(6), object(2)\n",
      "memory usage: 74.3+ KB\n"
     ]
    }
   ],
   "source": [
    "train_swe.info()"
   ]
  },
  {
   "cell_type": "code",
   "execution_count": 14,
   "metadata": {
    "execution": {
     "iopub.execute_input": "2025-01-22T14:44:49.071557Z",
     "iopub.status.busy": "2025-01-22T14:44:49.071254Z",
     "iopub.status.idle": "2025-01-22T14:44:49.081359Z",
     "shell.execute_reply": "2025-01-22T14:44:49.080268Z",
     "shell.execute_reply.started": "2025-01-22T14:44:49.071538Z"
    },
    "trusted": true
   },
   "outputs": [
    {
     "name": "stdout",
     "output_type": "stream",
     "text": [
      "<class 'pandas.core.frame.DataFrame'>\n",
      "RangeIndex: 200 entries, 0 to 199\n",
      "Data columns (total 8 columns):\n",
      " #   Column    Non-Null Count  Dtype \n",
      "---  ------    --------------  ----- \n",
      " 0   id        200 non-null    object\n",
      " 1   text      200 non-null    object\n",
      " 2   anger     200 non-null    int64 \n",
      " 3   disgust   200 non-null    int64 \n",
      " 4   fear      200 non-null    int64 \n",
      " 5   joy       200 non-null    int64 \n",
      " 6   sadness   200 non-null    int64 \n",
      " 7   surprise  200 non-null    int64 \n",
      "dtypes: int64(6), object(2)\n",
      "memory usage: 12.6+ KB\n"
     ]
    }
   ],
   "source": [
    "dev_swe.info()"
   ]
  },
  {
   "cell_type": "code",
   "execution_count": 15,
   "metadata": {
    "execution": {
     "iopub.execute_input": "2025-01-22T14:45:02.472640Z",
     "iopub.status.busy": "2025-01-22T14:45:02.472295Z",
     "iopub.status.idle": "2025-01-22T14:45:02.779504Z",
     "shell.execute_reply": "2025-01-22T14:45:02.778705Z",
     "shell.execute_reply.started": "2025-01-22T14:45:02.472611Z"
    },
    "trusted": true
   },
   "outputs": [
    {
     "data": {
      "text/plain": [
       "<Axes: >"
      ]
     },
     "execution_count": 15,
     "metadata": {},
     "output_type": "execute_result"
    },
    {
     "data": {
      "image/png": "[encoded data removed]",
      "text/plain": [
       "<Figure size 640x480 with 1 Axes>"
      ]
     },
     "metadata": {},
     "output_type": "display_data"
    }
   ],
   "source": [
    "attributes = ['anger', 'fear', 'joy', 'sadness', 'disgust', 'surprise']\n",
    "train_swe[attributes].sum().plot.bar()"
   ]
  },
  {
   "cell_type": "code",
   "execution_count": 16,
   "metadata": {
    "execution": {
     "iopub.execute_input": "2025-01-22T14:45:09.472025Z",
     "iopub.status.busy": "2025-01-22T14:45:09.471647Z",
     "iopub.status.idle": "2025-01-22T14:45:09.621690Z",
     "shell.execute_reply": "2025-01-22T14:45:09.620987Z",
     "shell.execute_reply.started": "2025-01-22T14:45:09.471991Z"
    },
    "trusted": true
   },
   "outputs": [
    {
     "data": {
      "text/plain": [
       "<Axes: >"
      ]
     },
     "execution_count": 16,
     "metadata": {},
     "output_type": "execute_result"
    },
    {
     "data": {
      "image/png": "[encoded data removed]",
      "text/plain": [
       "<Figure size 640x480 with 1 Axes>"
      ]
     },
     "metadata": {},
     "output_type": "display_data"
    }
   ],
   "source": [
    "dev_swe[attributes].sum().plot.bar()"
   ]
  },
  {
   "cell_type": "code",
   "execution_count": 17,
   "metadata": {
    "execution": {
     "iopub.execute_input": "2025-01-22T14:45:15.295412Z",
     "iopub.status.busy": "2025-01-22T14:45:15.295058Z",
     "iopub.status.idle": "2025-01-22T14:45:15.305735Z",
     "shell.execute_reply": "2025-01-22T14:45:15.304725Z",
     "shell.execute_reply.started": "2025-01-22T14:45:15.295380Z"
    },
    "trusted": true
   },
   "outputs": [
    {
     "name": "stdout",
     "output_type": "stream",
     "text": [
      "<class 'pandas.core.frame.DataFrame'>\n",
      "RangeIndex: 1188 entries, 0 to 1187\n",
      "Data columns (total 8 columns):\n",
      " #   Column    Non-Null Count  Dtype  \n",
      "---  ------    --------------  -----  \n",
      " 0   id        1188 non-null   object \n",
      " 1   text      1188 non-null   object \n",
      " 2   anger     0 non-null      float64\n",
      " 3   disgust   0 non-null      float64\n",
      " 4   fear      0 non-null      float64\n",
      " 5   joy       0 non-null      float64\n",
      " 6   sadness   0 non-null      float64\n",
      " 7   surprise  0 non-null      float64\n",
      "dtypes: float64(6), object(2)\n",
      "memory usage: 74.4+ KB\n"
     ]
    }
   ],
   "source": [
    "test_swe.info()"
   ]
  },
  {
   "cell_type": "code",
   "execution_count": 18,
   "metadata": {
    "execution": {
     "iopub.execute_input": "2025-01-22T14:45:23.371544Z",
     "iopub.status.busy": "2025-01-22T14:45:23.371233Z",
     "iopub.status.idle": "2025-01-22T14:45:23.383174Z",
     "shell.execute_reply": "2025-01-22T14:45:23.382261Z",
     "shell.execute_reply.started": "2025-01-22T14:45:23.371517Z"
    },
    "trusted": true
   },
   "outputs": [
    {
     "data": {
      "text/html": [
       "<div>\n",
       "<style scoped>\n",
       "    .dataframe tbody tr th:only-of-type {\n",
       "        vertical-align: middle;\n",
       "    }\n",
       "\n",
       "    .dataframe tbody tr th {\n",
       "        vertical-align: top;\n",
       "    }\n",
       "\n",
       "    .dataframe thead th {\n",
       "        text-align: right;\n",
       "    }\n",
       "</style>\n",
       "<table border=\"1\" class=\"dataframe\">\n",
       "  <thead>\n",
       "    <tr style=\"text-align: right;\">\n",
       "      <th></th>\n",
       "      <th>id</th>\n",
       "      <th>text</th>\n",
       "      <th>anger</th>\n",
       "      <th>disgust</th>\n",
       "      <th>fear</th>\n",
       "      <th>joy</th>\n",
       "      <th>sadness</th>\n",
       "      <th>surprise</th>\n",
       "    </tr>\n",
       "  </thead>\n",
       "  <tbody>\n",
       "    <tr>\n",
       "      <th>0</th>\n",
       "      <td>swe_test_track_a_00001</td>\n",
       "      <td>- Kom, ni kan raka er sen.</td>\n",
       "      <td>NaN</td>\n",
       "      <td>NaN</td>\n",
       "      <td>NaN</td>\n",
       "      <td>NaN</td>\n",
       "      <td>NaN</td>\n",
       "      <td>NaN</td>\n",
       "    </tr>\n",
       "    <tr>\n",
       "      <th>1</th>\n",
       "      <td>swe_test_track_a_00002</td>\n",
       "      <td>Gick väldigt smidigt att köpa bostad genom Vik...</td>\n",
       "      <td>NaN</td>\n",
       "      <td>NaN</td>\n",
       "      <td>NaN</td>\n",
       "      <td>NaN</td>\n",
       "      <td>NaN</td>\n",
       "      <td>NaN</td>\n",
       "    </tr>\n",
       "    <tr>\n",
       "      <th>2</th>\n",
       "      <td>swe_test_track_a_00003</td>\n",
       "      <td>Trevligt bemötta och hela afgäre gick smidigt.</td>\n",
       "      <td>NaN</td>\n",
       "      <td>NaN</td>\n",
       "      <td>NaN</td>\n",
       "      <td>NaN</td>\n",
       "      <td>NaN</td>\n",
       "      <td>NaN</td>\n",
       "    </tr>\n",
       "    <tr>\n",
       "      <th>3</th>\n",
       "      <td>swe_test_track_a_00004</td>\n",
       "      <td>Hej, jag tog med Livet är underbart om ni vill...</td>\n",
       "      <td>NaN</td>\n",
       "      <td>NaN</td>\n",
       "      <td>NaN</td>\n",
       "      <td>NaN</td>\n",
       "      <td>NaN</td>\n",
       "      <td>NaN</td>\n",
       "    </tr>\n",
       "    <tr>\n",
       "      <th>4</th>\n",
       "      <td>swe_test_track_a_00005</td>\n",
       "      <td>Nonchalant mäklare som har svårt för att lyssn...</td>\n",
       "      <td>NaN</td>\n",
       "      <td>NaN</td>\n",
       "      <td>NaN</td>\n",
       "      <td>NaN</td>\n",
       "      <td>NaN</td>\n",
       "      <td>NaN</td>\n",
       "    </tr>\n",
       "  </tbody>\n",
       "</table>\n",
       "</div>"
      ],
      "text/plain": [
       "                       id                                               text  \\\n",
       "0  swe_test_track_a_00001                         - Kom, ni kan raka er sen.   \n",
       "1  swe_test_track_a_00002  Gick väldigt smidigt att köpa bostad genom Vik...   \n",
       "2  swe_test_track_a_00003     Trevligt bemötta och hela afgäre gick smidigt.   \n",
       "3  swe_test_track_a_00004  Hej, jag tog med Livet är underbart om ni vill...   \n",
       "4  swe_test_track_a_00005  Nonchalant mäklare som har svårt för att lyssn...   \n",
       "\n",
       "   anger  disgust  fear  joy  sadness  surprise  \n",
       "0    NaN      NaN   NaN  NaN      NaN       NaN  \n",
       "1    NaN      NaN   NaN  NaN      NaN       NaN  \n",
       "2    NaN      NaN   NaN  NaN      NaN       NaN  \n",
       "3    NaN      NaN   NaN  NaN      NaN       NaN  \n",
       "4    NaN      NaN   NaN  NaN      NaN       NaN  "
      ]
     },
     "execution_count": 18,
     "metadata": {},
     "output_type": "execute_result"
    }
   ],
   "source": [
    "test_swe.head()"
   ]
  },
  {
   "cell_type": "code",
   "execution_count": 11,
   "metadata": {
    "execution": {
     "iopub.execute_input": "2025-01-23T14:25:01.947164Z",
     "iopub.status.busy": "2025-01-23T14:25:01.946956Z",
     "iopub.status.idle": "2025-01-23T14:25:01.950514Z",
     "shell.execute_reply": "2025-01-23T14:25:01.949786Z",
     "shell.execute_reply.started": "2025-01-23T14:25:01.947146Z"
    },
    "trusted": true
   },
   "outputs": [],
   "source": [
    "emotion_labels = [\"anger\", \"disgust\", \"fear\", \"joy\", \"sadness\", \"surprise\"]"
   ]
  },
  {
   "cell_type": "markdown",
   "metadata": {},
   "source": [
    "# BERT Based Swedish Cased Sentiment"
   ]
  },
  {
   "cell_type": "code",
   "execution_count": null,
   "metadata": {
    "execution": {
     "iopub.execute_input": "2025-01-22T14:46:50.491766Z",
     "iopub.status.busy": "2025-01-22T14:46:50.491442Z",
     "iopub.status.idle": "2025-01-22T14:46:58.314185Z",
     "shell.execute_reply": "2025-01-22T14:46:58.313155Z",
     "shell.execute_reply.started": "2025-01-22T14:46:50.491743Z"
    },
    "trusted": true
   },
   "outputs": [
    {
     "data": {
      "application/vnd.jupyter.widget-view+json": {
       "model_id": "bdc4ab4158be4525b934e7f598847cfc",
       "version_major": 2,
       "version_minor": 0
      },
      "text/plain": [
       "vocab.txt:   0%|          | 0.00/399k [00:00<?, ?B/s]"
      ]
     },
     "metadata": {},
     "output_type": "display_data"
    },
    {
     "data": {
      "application/vnd.jupyter.widget-view+json": {
       "model_id": "699e0637a1c743869c271a5eaa0af092",
       "version_major": 2,
       "version_minor": 0
      },
      "text/plain": [
       "pytorch_model.bin:   0%|          | 0.00/499M [00:00<?, ?B/s]"
      ]
     },
     "metadata": {},
     "output_type": "display_data"
    },
    {
     "name": "stderr",
     "output_type": "stream",
     "text": [
      "Some weights of BertForSequenceClassification were not initialized from the model checkpoint at marma/bert-base-swedish-cased-sentiment and are newly initialized because the shapes did not match:\n",
      "- classifier.weight: found shape torch.Size([2, 768]) in the checkpoint and torch.Size([6, 768]) in the model instantiated\n",
      "- classifier.bias: found shape torch.Size([2]) in the checkpoint and torch.Size([6]) in the model instantiated\n",
      "You should probably TRAIN this model on a down-stream task to be able to use it for predictions and inference.\n"
     ]
    }
   ],
   "source": [
    "tokenizer = AutoTokenizer.from_pretrained('marma/bert-base-swedish-cased-sentiment')\n",
    "model = AutoModelForSequenceClassification.from_pretrained('marma/bert-base-swedish-cased-sentiment',\n",
    "                                                           problem_type=\"multi_label_classification\",\n",
    "                                                           ignore_mismatched_sizes=True,\n",
    "                                                           num_labels=len(emotion_labels))"
   ]
  },
  {
   "cell_type": "code",
   "execution_count": null,
   "metadata": {
    "execution": {
     "iopub.execute_input": "2025-01-23T16:46:16.580137Z",
     "iopub.status.busy": "2025-01-23T16:46:16.579790Z",
     "iopub.status.idle": "2025-01-23T16:46:16.584045Z",
     "shell.execute_reply": "2025-01-23T16:46:16.583288Z",
     "shell.execute_reply.started": "2025-01-23T16:46:16.580108Z"
    },
    "trusted": true
   },
   "outputs": [],
   "source": [
    "def tokenize(batch):\n",
    "    return tokenizer(batch['text'], padding=True, truncation=True, max_length=512)"
   ]
  },
  {
   "cell_type": "code",
   "execution_count": null,
   "metadata": {
    "execution": {
     "iopub.execute_input": "2025-01-23T16:46:17.894308Z",
     "iopub.status.busy": "2025-01-23T16:46:17.894032Z",
     "iopub.status.idle": "2025-01-23T16:46:17.898736Z",
     "shell.execute_reply": "2025-01-23T16:46:17.897757Z",
     "shell.execute_reply.started": "2025-01-23T16:46:17.894286Z"
    },
    "trusted": true
   },
   "outputs": [],
   "source": [
    "def encode_data(df, tokenizer):\n",
    "    encodings = tokenizer(list(df['text']), truncation=True, padding=True, max_length=512)\n",
    "    labels = df[emotion_labels].fillna(0).values\n",
    "    return encodings, labels"
   ]
  },
  {
   "cell_type": "code",
   "execution_count": 62,
   "metadata": {
    "execution": {
     "iopub.execute_input": "2025-01-23T16:46:19.076106Z",
     "iopub.status.busy": "2025-01-23T16:46:19.075795Z",
     "iopub.status.idle": "2025-01-23T16:46:19.239398Z",
     "shell.execute_reply": "2025-01-23T16:46:19.238669Z",
     "shell.execute_reply.started": "2025-01-23T16:46:19.076081Z"
    },
    "trusted": true
   },
   "outputs": [],
   "source": [
    "train_encodings, train_labels = encode_data(train_swe, tokenizer)\n",
    "dev_encodings, dev_labels = encode_data(dev_swe, tokenizer)"
   ]
  },
  {
   "cell_type": "code",
   "execution_count": null,
   "metadata": {
    "execution": {
     "iopub.execute_input": "2025-01-23T16:46:19.925202Z",
     "iopub.status.busy": "2025-01-23T16:46:19.924922Z",
     "iopub.status.idle": "2025-01-23T16:46:19.930239Z",
     "shell.execute_reply": "2025-01-23T16:46:19.929392Z",
     "shell.execute_reply.started": "2025-01-23T16:46:19.925178Z"
    },
    "trusted": true
   },
   "outputs": [],
   "source": [
    "class CustomDataset(torch.utils.data.Dataset):\n",
    "    def __init__(self, encodings, labels):\n",
    "        self.encodings = encodings\n",
    "        self.labels = torch.tensor(labels, dtype=torch.float)\n",
    "\n",
    "    def __len__(self):\n",
    "        return len(self.labels)\n",
    "\n",
    "    def __getitem__(self, idx):\n",
    "        item = {key: torch.tensor(val[idx]) for key, val in self.encodings.items()}\n",
    "        item['labels'] = self.labels[idx]\n",
    "        return item"
   ]
  },
  {
   "cell_type": "code",
   "execution_count": 64,
   "metadata": {
    "execution": {
     "iopub.execute_input": "2025-01-23T16:46:22.890107Z",
     "iopub.status.busy": "2025-01-23T16:46:22.889813Z",
     "iopub.status.idle": "2025-01-23T16:46:22.894317Z",
     "shell.execute_reply": "2025-01-23T16:46:22.893519Z",
     "shell.execute_reply.started": "2025-01-23T16:46:22.890083Z"
    },
    "trusted": true
   },
   "outputs": [],
   "source": [
    "train_dataset = CustomDataset(train_encodings, train_labels)\n",
    "dev_dataset = CustomDataset(dev_encodings, dev_labels)"
   ]
  },
  {
   "cell_type": "code",
   "execution_count": 21,
   "metadata": {
    "execution": {
     "iopub.execute_input": "2025-01-19T08:20:25.806283Z",
     "iopub.status.busy": "2025-01-19T08:20:25.805977Z",
     "iopub.status.idle": "2025-01-19T08:20:25.811969Z",
     "shell.execute_reply": "2025-01-19T08:20:25.811133Z",
     "shell.execute_reply.started": "2025-01-19T08:20:25.806259Z"
    },
    "trusted": true
   },
   "outputs": [
    {
     "data": {
      "text/plain": [
       "<__main__.CustomDataset at 0x792643da6320>"
      ]
     },
     "execution_count": 21,
     "metadata": {},
     "output_type": "execute_result"
    }
   ],
   "source": [
    "train_dataset"
   ]
  },
  {
   "cell_type": "code",
   "execution_count": null,
   "metadata": {
    "trusted": true
   },
   "outputs": [],
   "source": [
    "train_dataset.encodings"
   ]
  },
  {
   "cell_type": "code",
   "execution_count": null,
   "metadata": {
    "execution": {
     "iopub.execute_input": "2025-01-22T14:48:36.689218Z",
     "iopub.status.busy": "2025-01-22T14:48:36.688843Z",
     "iopub.status.idle": "2025-01-22T14:48:37.104387Z",
     "shell.execute_reply": "2025-01-22T14:48:37.103658Z",
     "shell.execute_reply.started": "2025-01-22T14:48:36.689189Z"
    },
    "trusted": true
   },
   "outputs": [],
   "source": [
    "def calculate_token_lengths(texts, tokenizer):\n",
    "    token_lengths = [len(tokenizer.encode(text, truncation=False)) for text in texts]\n",
    "    return token_lengths\n",
    "\n",
    "train_lengths = calculate_token_lengths(train_swe['text'], tokenizer)\n",
    "dev_lengths = calculate_token_lengths(dev_swe['text'], tokenizer)\n",
    "test_lengths = calculate_token_lengths(test_swe['text'], tokenizer)"
   ]
  },
  {
   "cell_type": "code",
   "execution_count": null,
   "metadata": {
    "execution": {
     "iopub.execute_input": "2025-01-22T14:48:38.229814Z",
     "iopub.status.busy": "2025-01-22T14:48:38.229506Z",
     "iopub.status.idle": "2025-01-22T14:48:38.562519Z",
     "shell.execute_reply": "2025-01-22T14:48:38.561556Z",
     "shell.execute_reply.started": "2025-01-22T14:48:38.229791Z"
    },
    "trusted": true
   },
   "outputs": [
    {
     "data": {
      "image/png": "[encoded data removed]",
      "text/plain": [
       "<Figure size 1000x600 with 1 Axes>"
      ]
     },
     "metadata": {},
     "output_type": "display_data"
    }
   ],
   "source": [
    "all_lengths = train_lengths + dev_lengths + test_lengths\n",
    "\n",
    "plt.figure(figsize=(10, 6))\n",
    "sns.histplot(all_lengths, bins=50, kde=True, color='blue', alpha=0.7)\n",
    "plt.axvline(x=np.percentile(all_lengths, 90), color='red', linestyle='--', label='90th Percentile')\n",
    "plt.axvline(x=np.percentile(all_lengths, 95), color='green', linestyle='--', label='95th Percentile')\n",
    "plt.title('Token Length Distribution')\n",
    "plt.xlabel('Number of Tokens')\n",
    "plt.ylabel('Frequency')\n",
    "plt.legend()\n",
    "plt.show()"
   ]
  },
  {
   "cell_type": "code",
   "execution_count": null,
   "metadata": {
    "execution": {
     "iopub.execute_input": "2025-01-23T16:46:26.756045Z",
     "iopub.status.busy": "2025-01-23T16:46:26.755764Z",
     "iopub.status.idle": "2025-01-23T16:46:26.760755Z",
     "shell.execute_reply": "2025-01-23T16:46:26.759894Z",
     "shell.execute_reply.started": "2025-01-23T16:46:26.756022Z"
    },
    "trusted": true
   },
   "outputs": [],
   "source": [
    "def compute_metrics(pred, threshold=0.5):\n",
    "    logits, labels = pred\n",
    "    predictions = (torch.sigmoid(torch.tensor(logits)) > threshold).numpy()\n",
    "    labels = labels.astype(int)\n",
    "\n",
    "    precision, recall, f1, _ = precision_recall_fscore_support(labels, predictions, average=\"weighted\")\n",
    "    accuracy = accuracy_score(labels, predictions)\n",
    "\n",
    "    return {\n",
    "        'accuracy': accuracy,\n",
    "        'f1': np.mean(f1),\n",
    "        'precision': np.mean(precision),\n",
    "        'recall': np.mean(recall),\n",
    "    }\n"
   ]
  },
  {
   "cell_type": "code",
   "execution_count": null,
   "metadata": {
    "execution": {
     "iopub.execute_input": "2025-01-22T14:49:53.490155Z",
     "iopub.status.busy": "2025-01-22T14:49:53.489703Z",
     "iopub.status.idle": "2025-01-22T14:49:53.669951Z",
     "shell.execute_reply": "2025-01-22T14:49:53.669017Z",
     "shell.execute_reply.started": "2025-01-22T14:49:53.490118Z"
    },
    "trusted": true
   },
   "outputs": [
    {
     "name": "stderr",
     "output_type": "stream",
     "text": [
      "Using the `WANDB_DISABLED` environment variable is deprecated and will be removed in v5. Use the --report_to flag to control the integrations used for logging result (for instance --report_to none).\n"
     ]
    }
   ],
   "source": [
    "training_args = TrainingArguments(\n",
    "    output_dir='./results/swe/bert_based_swedish_cased_sentiment-v1',\n",
    "    report_to=None,\n",
    "    evaluation_strategy=\"steps\",\n",
    "    save_total_limit = 1,\n",
    "    logging_strategy=\"epoch\",\n",
    "    load_best_model_at_end=True,\n",
    "    learning_rate=1e-5,\n",
    "    per_device_train_batch_size=8,\n",
    "    per_device_eval_batch_size=8,\n",
    "    num_train_epochs=100,\n",
    "    weight_decay=0.01,\n",
    ")"
   ]
  },
  {
   "cell_type": "code",
   "execution_count": null,
   "metadata": {
    "execution": {
     "iopub.execute_input": "2025-01-22T14:49:56.370504Z",
     "iopub.status.busy": "2025-01-22T14:49:56.370185Z",
     "iopub.status.idle": "2025-01-22T14:49:57.014402Z",
     "shell.execute_reply": "2025-01-22T14:49:57.013712Z",
     "shell.execute_reply.started": "2025-01-22T14:49:56.370479Z"
    },
    "trusted": true
   },
   "outputs": [],
   "source": [
    "trainer = Trainer(\n",
    "    model=model,\n",
    "    args=training_args,\n",
    "    train_dataset=train_dataset,\n",
    "    eval_dataset=dev_dataset,\n",
    "    tokenizer=tokenizer,\n",
    "    compute_metrics=compute_metrics\n",
    ")"
   ]
  },
  {
   "cell_type": "code",
   "execution_count": 44,
   "metadata": {
    "execution": {
     "iopub.execute_input": "2025-01-23T15:27:25.539793Z",
     "iopub.status.busy": "2025-01-23T15:27:25.539479Z",
     "iopub.status.idle": "2025-01-23T15:27:25.544345Z",
     "shell.execute_reply": "2025-01-23T15:27:25.543420Z",
     "shell.execute_reply.started": "2025-01-23T15:27:25.539767Z"
    },
    "trusted": true
   },
   "outputs": [],
   "source": [
    "from unittest import mock\n",
    "from unittest.mock import Mock\n",
    "class Dummy:\n",
    "    def __enter__(self):\n",
    "        return Mock()\n",
    "\n",
    "    def __exit__(self, *args):\n",
    "        pass"
   ]
  },
  {
   "cell_type": "code",
   "execution_count": 42,
   "metadata": {
    "execution": {
     "iopub.execute_input": "2025-01-22T14:50:00.390769Z",
     "iopub.status.busy": "2025-01-22T14:50:00.390475Z",
     "iopub.status.idle": "2025-01-22T16:45:57.929060Z",
     "shell.execute_reply": "2025-01-22T16:45:57.928261Z",
     "shell.execute_reply.started": "2025-01-22T14:50:00.390747Z"
    },
    "trusted": true
   },
   "outputs": [
    {
     "data": {
      "text/html": [
       "\n",
       "    <div>\n",
       "      \n",
       "      <progress value='7500' max='7500' style='width:300px; height:20px; vertical-align: middle;'></progress>\n",
       "      [7500/7500 1:55:53, Epoch 100/100]\n",
       "    </div>\n",
       "    <table border=\"1\" class=\"dataframe\">\n",
       "  <thead>\n",
       " <tr style=\"text-align: left;\">\n",
       "      <th>Step</th>\n",
       "      <th>Training Loss</th>\n",
       "      <th>Validation Loss</th>\n",
       "      <th>Accuracy</th>\n",
       "      <th>F1</th>\n",
       "      <th>Precision</th>\n",
       "      <th>Recall</th>\n",
       "    </tr>\n",
       "  </thead>\n",
       "  <tbody>\n",
       "    <tr>\n",
       "      <td>500</td>\n",
       "      <td>0.164300</td>\n",
       "      <td>0.213308</td>\n",
       "      <td>0.615000</td>\n",
       "      <td>0.716675</td>\n",
       "      <td>0.667311</td>\n",
       "      <td>0.781726</td>\n",
       "    </tr>\n",
       "    <tr>\n",
       "      <td>1000</td>\n",
       "      <td>0.061600</td>\n",
       "      <td>0.230863</td>\n",
       "      <td>0.670000</td>\n",
       "      <td>0.749459</td>\n",
       "      <td>0.745850</td>\n",
       "      <td>0.756345</td>\n",
       "    </tr>\n",
       "    <tr>\n",
       "      <td>1500</td>\n",
       "      <td>0.030000</td>\n",
       "      <td>0.245389</td>\n",
       "      <td>0.675000</td>\n",
       "      <td>0.735506</td>\n",
       "      <td>0.755250</td>\n",
       "      <td>0.720812</td>\n",
       "    </tr>\n",
       "    <tr>\n",
       "      <td>2000</td>\n",
       "      <td>0.015600</td>\n",
       "      <td>0.260726</td>\n",
       "      <td>0.675000</td>\n",
       "      <td>0.762063</td>\n",
       "      <td>0.758677</td>\n",
       "      <td>0.766497</td>\n",
       "    </tr>\n",
       "    <tr>\n",
       "      <td>2500</td>\n",
       "      <td>0.009600</td>\n",
       "      <td>0.270255</td>\n",
       "      <td>0.680000</td>\n",
       "      <td>0.750354</td>\n",
       "      <td>0.751994</td>\n",
       "      <td>0.751269</td>\n",
       "    </tr>\n",
       "    <tr>\n",
       "      <td>3000</td>\n",
       "      <td>0.007100</td>\n",
       "      <td>0.283736</td>\n",
       "      <td>0.690000</td>\n",
       "      <td>0.754105</td>\n",
       "      <td>0.763558</td>\n",
       "      <td>0.746193</td>\n",
       "    </tr>\n",
       "    <tr>\n",
       "      <td>3500</td>\n",
       "      <td>0.005300</td>\n",
       "      <td>0.292964</td>\n",
       "      <td>0.690000</td>\n",
       "      <td>0.765342</td>\n",
       "      <td>0.771539</td>\n",
       "      <td>0.761421</td>\n",
       "    </tr>\n",
       "    <tr>\n",
       "      <td>4000</td>\n",
       "      <td>0.004300</td>\n",
       "      <td>0.305824</td>\n",
       "      <td>0.675000</td>\n",
       "      <td>0.745418</td>\n",
       "      <td>0.752065</td>\n",
       "      <td>0.741117</td>\n",
       "    </tr>\n",
       "    <tr>\n",
       "      <td>4500</td>\n",
       "      <td>0.003700</td>\n",
       "      <td>0.319262</td>\n",
       "      <td>0.670000</td>\n",
       "      <td>0.737997</td>\n",
       "      <td>0.746625</td>\n",
       "      <td>0.730964</td>\n",
       "    </tr>\n",
       "    <tr>\n",
       "      <td>5000</td>\n",
       "      <td>0.003100</td>\n",
       "      <td>0.320184</td>\n",
       "      <td>0.685000</td>\n",
       "      <td>0.742896</td>\n",
       "      <td>0.751506</td>\n",
       "      <td>0.736041</td>\n",
       "    </tr>\n",
       "    <tr>\n",
       "      <td>5500</td>\n",
       "      <td>0.002700</td>\n",
       "      <td>0.330952</td>\n",
       "      <td>0.680000</td>\n",
       "      <td>0.740831</td>\n",
       "      <td>0.753383</td>\n",
       "      <td>0.730964</td>\n",
       "    </tr>\n",
       "    <tr>\n",
       "      <td>6000</td>\n",
       "      <td>0.002500</td>\n",
       "      <td>0.331640</td>\n",
       "      <td>0.685000</td>\n",
       "      <td>0.753651</td>\n",
       "      <td>0.763528</td>\n",
       "      <td>0.746193</td>\n",
       "    </tr>\n",
       "    <tr>\n",
       "      <td>6500</td>\n",
       "      <td>0.002200</td>\n",
       "      <td>0.339236</td>\n",
       "      <td>0.685000</td>\n",
       "      <td>0.751557</td>\n",
       "      <td>0.758056</td>\n",
       "      <td>0.746193</td>\n",
       "    </tr>\n",
       "    <tr>\n",
       "      <td>7000</td>\n",
       "      <td>0.002000</td>\n",
       "      <td>0.343459</td>\n",
       "      <td>0.680000</td>\n",
       "      <td>0.745732</td>\n",
       "      <td>0.758710</td>\n",
       "      <td>0.736041</td>\n",
       "    </tr>\n",
       "    <tr>\n",
       "      <td>7500</td>\n",
       "      <td>0.002000</td>\n",
       "      <td>0.343082</td>\n",
       "      <td>0.685000</td>\n",
       "      <td>0.744237</td>\n",
       "      <td>0.754976</td>\n",
       "      <td>0.736041</td>\n",
       "    </tr>\n",
       "  </tbody>\n",
       "</table><p>"
      ],
      "text/plain": [
       "<IPython.core.display.HTML object>"
      ]
     },
     "metadata": {},
     "output_type": "display_data"
    }
   ],
   "source": [
    "with mock.patch('wandb.init', return_value=Dummy()):\n",
    "    trainer.train()"
   ]
  },
  {
   "cell_type": "code",
   "execution_count": null,
   "metadata": {
    "execution": {
     "iopub.execute_input": "2025-01-23T16:46:31.369996Z",
     "iopub.status.busy": "2025-01-23T16:46:31.369710Z",
     "iopub.status.idle": "2025-01-23T16:46:31.374474Z",
     "shell.execute_reply": "2025-01-23T16:46:31.373688Z",
     "shell.execute_reply.started": "2025-01-23T16:46:31.369973Z"
    },
    "trusted": true
   },
   "outputs": [],
   "source": [
    "def find_best_threshold(pred, thresholds):\n",
    "    best_threshold = 0.5\n",
    "    best_f1 = 0\n",
    "    \n",
    "    for t in thresholds:\n",
    "        metrics = compute_metrics(pred, threshold=t)\n",
    "        print(f\"metrics: {metrics}\")\n",
    "        if metrics['f1'] > best_f1:\n",
    "            best_f1 = metrics['f1']\n",
    "            best_threshold = t\n",
    "\n",
    "    return best_threshold, best_f1"
   ]
  },
  {
   "cell_type": "code",
   "execution_count": null,
   "metadata": {
    "execution": {
     "iopub.execute_input": "2025-01-23T16:46:32.754854Z",
     "iopub.status.busy": "2025-01-23T16:46:32.754500Z",
     "iopub.status.idle": "2025-01-23T16:46:32.759882Z",
     "shell.execute_reply": "2025-01-23T16:46:32.758877Z",
     "shell.execute_reply.started": "2025-01-23T16:46:32.754825Z"
    },
    "trusted": true
   },
   "outputs": [],
   "source": [
    "def evaluate_on_validation_set(trainer, threshold_range=np.linspace(0.1, 0.9, 9)):\n",
    "    predictions, labels, _ = trainer.predict(dev_dataset) \n",
    "    pred = (predictions, labels)\n",
    "\n",
    "    best_threshold, best_f1 = find_best_threshold(pred, thresholds=threshold_range)\n",
    "    print(\"----------------------------------------------\")\n",
    "    print(f\"Best Threshold: {best_threshold}, Best F1-Score: {best_f1:.4f}\")\n",
    "    print(\"***********************************************\")\n",
    "    final_metrics = compute_metrics(pred, threshold=best_threshold)\n",
    "    print(f\"Metrics with Best Threshold: {final_metrics}\")\n",
    "\n",
    "    return best_threshold, final_metrics"
   ]
  },
  {
   "cell_type": "code",
   "execution_count": 45,
   "metadata": {
    "execution": {
     "iopub.execute_input": "2025-01-22T16:49:31.041260Z",
     "iopub.status.busy": "2025-01-22T16:49:31.040964Z",
     "iopub.status.idle": "2025-01-22T16:49:34.686618Z",
     "shell.execute_reply": "2025-01-22T16:49:34.685896Z",
     "shell.execute_reply.started": "2025-01-22T16:49:31.041237Z"
    },
    "trusted": true
   },
   "outputs": [
    {
     "data": {
      "text/html": [],
      "text/plain": [
       "<IPython.core.display.HTML object>"
      ]
     },
     "metadata": {},
     "output_type": "display_data"
    },
    {
     "name": "stdout",
     "output_type": "stream",
     "text": [
      "metrics: {'accuracy': 0.48, 'f1': 0.6840620498849822, 'precision': 0.573285376726829, 'recall': 0.8781725888324873}\n",
      "metrics: {'accuracy': 0.575, 'f1': 0.7270457197468164, 'precision': 0.6497429295426251, 'recall': 0.8375634517766497}\n",
      "metrics: {'accuracy': 0.615, 'f1': 0.7166745849702938, 'precision': 0.667311296053391, 'recall': 0.7817258883248731}\n",
      "metrics: {'accuracy': 0.655, 'f1': 0.727475836652619, 'precision': 0.7185204278381608, 'recall': 0.751269035532995}\n",
      "metrics: {'accuracy': 0.66, 'f1': 0.7084301441010309, 'precision': 0.728099301548602, 'recall': 0.7106598984771574}\n",
      "metrics: {'accuracy': 0.66, 'f1': 0.6934406304873356, 'precision': 0.7703715557408041, 'recall': 0.6649746192893401}\n",
      "metrics: {'accuracy': 0.66, 'f1': 0.6670848824056845, 'precision': 0.8053715517363955, 'recall': 0.6142131979695431}\n",
      "metrics: {'accuracy': 0.645, 'f1': 0.5850643667173258, 'precision': 0.8578460456633046, 'recall': 0.5228426395939086}\n",
      "metrics: {'accuracy': 0.625, 'f1': 0.44689827938558907, 'precision': 0.5294663860344186, 'recall': 0.4213197969543147}\n",
      "----------------------------------------------\n",
      "Best Threshold: 0.4, Best F1-Score: 0.7275\n",
      "***********************************************\n",
      "Metrics with Best Threshold: {'accuracy': 0.655, 'f1': 0.727475836652619, 'precision': 0.7185204278381608, 'recall': 0.751269035532995}\n",
      "Optimal Threshold: 0.4\n",
      "Final Metrics: {'accuracy': 0.655, 'f1': 0.727475836652619, 'precision': 0.7185204278381608, 'recall': 0.751269035532995}\n"
     ]
    }
   ],
   "source": [
    "best_threshold, final_metrics = evaluate_on_validation_set(trainer)\n",
    "print(f\"Optimal Threshold: {best_threshold}\")\n",
    "print(f\"Final Metrics: {final_metrics}\")"
   ]
  },
  {
   "cell_type": "code",
   "execution_count": null,
   "metadata": {
    "execution": {
     "iopub.execute_input": "2025-01-22T16:49:43.032404Z",
     "iopub.status.busy": "2025-01-22T16:49:43.032104Z",
     "iopub.status.idle": "2025-01-22T16:49:46.678767Z",
     "shell.execute_reply": "2025-01-22T16:49:46.677977Z",
     "shell.execute_reply.started": "2025-01-22T16:49:43.032383Z"
    },
    "trusted": true
   },
   "outputs": [
    {
     "data": {
      "text/html": [],
      "text/plain": [
       "<IPython.core.display.HTML object>"
      ]
     },
     "metadata": {},
     "output_type": "display_data"
    }
   ],
   "source": [
    "dev_results = trainer.predict(dev_dataset)\n",
    "\n",
    "predictions = (torch.sigmoid(torch.tensor(dev_results.predictions)) > 0.4).numpy()\n",
    "conf_matrix = confusion_matrix(dev_labels.ravel(), predictions.ravel())"
   ]
  },
  {
   "cell_type": "code",
   "execution_count": 47,
   "metadata": {
    "execution": {
     "iopub.execute_input": "2025-01-22T16:49:46.680145Z",
     "iopub.status.busy": "2025-01-22T16:49:46.679870Z",
     "iopub.status.idle": "2025-01-22T16:49:46.898141Z",
     "shell.execute_reply": "2025-01-22T16:49:46.897061Z",
     "shell.execute_reply.started": "2025-01-22T16:49:46.680123Z"
    },
    "trusted": true
   },
   "outputs": [
    {
     "data": {
      "image/png": "[encoded data removed]",
      "text/plain": [
       "<Figure size 640x480 with 2 Axes>"
      ]
     },
     "metadata": {},
     "output_type": "display_data"
    }
   ],
   "source": [
    "disp = ConfusionMatrixDisplay(confusion_matrix=conf_matrix)\n",
    "disp.plot(cmap=plt.cm.Blues)\n",
    "plt.title('Confusion Matrix')\n",
    "plt.show()"
   ]
  },
  {
   "cell_type": "code",
   "execution_count": null,
   "metadata": {
    "execution": {
     "iopub.execute_input": "2025-01-22T16:49:56.062868Z",
     "iopub.status.busy": "2025-01-22T16:49:56.062574Z",
     "iopub.status.idle": "2025-01-22T16:49:56.247394Z",
     "shell.execute_reply": "2025-01-22T16:49:56.246454Z",
     "shell.execute_reply.started": "2025-01-22T16:49:56.062847Z"
    },
    "trusted": true
   },
   "outputs": [
    {
     "data": {
      "image/png": "[encoded data removed]",
      "text/plain": [
       "<Figure size 640x480 with 1 Axes>"
      ]
     },
     "metadata": {},
     "output_type": "display_data"
    }
   ],
   "source": [
    "fpr, tpr, _ = roc_curve(dev_labels.ravel(), dev_results.predictions.ravel())\n",
    "roc_auc = auc(fpr, tpr)\n",
    "\n",
    "plt.figure()\n",
    "plt.plot(fpr, tpr, color='blue', lw=2, label=f'ROC curve (AUC = {roc_auc:.2f})')\n",
    "plt.plot([0, 1], [0, 1], color='gray', lw=2, linestyle='--')\n",
    "plt.xlabel('False Positive Rate')\n",
    "plt.ylabel('True Positive Rate')\n",
    "plt.title('Receiver Operating Characteristic')\n",
    "plt.legend(loc='lower right')\n",
    "plt.show()"
   ]
  },
  {
   "cell_type": "code",
   "execution_count": null,
   "metadata": {
    "execution": {
     "iopub.execute_input": "2025-01-22T16:49:59.317773Z",
     "iopub.status.busy": "2025-01-22T16:49:59.317455Z",
     "iopub.status.idle": "2025-01-22T16:49:59.328793Z",
     "shell.execute_reply": "2025-01-22T16:49:59.327900Z",
     "shell.execute_reply.started": "2025-01-22T16:49:59.317750Z"
    },
    "trusted": true
   },
   "outputs": [
    {
     "name": "stdout",
     "output_type": "stream",
     "text": [
      "Accuracy: 0.6550\n",
      "anger: Precision=0.6739, Recall=0.8158, F1=0.7381\n",
      "disgust: Precision=0.6154, Recall=0.6667, F1=0.6400\n",
      "fear: Precision=0.0000, Recall=0.0000, F1=0.0000\n",
      "joy: Precision=0.8723, Recall=0.9535, F1=0.9111\n",
      "sadness: Precision=0.6471, Recall=0.3793, F1=0.4783\n",
      "surprise: Precision=0.0000, Recall=0.0000, F1=0.0000\n"
     ]
    }
   ],
   "source": [
    "precision, recall, f1, _ = precision_recall_fscore_support(\n",
    "    dev_labels, predictions, average=None\n",
    ")\n",
    "accuracy = accuracy_score(dev_labels, predictions)\n",
    "\n",
    "print(f'Accuracy: {accuracy:.4f}')\n",
    "for i, label in enumerate(emotion_labels):\n",
    "    print(f\"{label}: Precision={precision[i]:.4f}, Recall={recall[i]:.4f}, F1={f1[i]:.4f}\")"
   ]
  },
  {
   "cell_type": "code",
   "execution_count": null,
   "metadata": {
    "execution": {
     "iopub.execute_input": "2025-01-22T16:50:14.659652Z",
     "iopub.status.busy": "2025-01-22T16:50:14.659367Z",
     "iopub.status.idle": "2025-01-22T16:50:22.136589Z",
     "shell.execute_reply": "2025-01-22T16:50:22.135835Z",
     "shell.execute_reply.started": "2025-01-22T16:50:14.659630Z"
    },
    "trusted": true
   },
   "outputs": [
    {
     "data": {
      "text/html": [],
      "text/plain": [
       "<IPython.core.display.HTML object>"
      ]
     },
     "metadata": {},
     "output_type": "display_data"
    }
   ],
   "source": [
    "test_encodings = tokenizer(list(test_swe['text']), truncation=True, padding=True, max_length=512, return_tensors=\"pt\")\n",
    "test_dataset = CustomDataset(test_encodings, np.zeros((len(test_swe), 6)))\n",
    "test_results = trainer.predict(test_dataset)\n",
    "test_predictions = (torch.sigmoid(torch.tensor(test_results.predictions)) > 0.4).numpy()"
   ]
  },
  {
   "cell_type": "code",
   "execution_count": null,
   "metadata": {
    "execution": {
     "iopub.execute_input": "2025-01-22T16:50:59.454597Z",
     "iopub.status.busy": "2025-01-22T16:50:59.454299Z",
     "iopub.status.idle": "2025-01-22T16:50:59.480330Z",
     "shell.execute_reply": "2025-01-22T16:50:59.479386Z",
     "shell.execute_reply.started": "2025-01-22T16:50:59.454575Z"
    },
    "trusted": true
   },
   "outputs": [],
   "source": [
    "test_swe[emotion_labels] = test_predictions\n",
    "test_swe.to_csv('test_predictions_swe_bert_based_swedish_cased_sentiment_v1.csv', index=False)"
   ]
  },
  {
   "cell_type": "code",
   "execution_count": 52,
   "metadata": {
    "execution": {
     "iopub.execute_input": "2025-01-22T16:51:06.180415Z",
     "iopub.status.busy": "2025-01-22T16:51:06.180068Z",
     "iopub.status.idle": "2025-01-22T16:51:06.192398Z",
     "shell.execute_reply": "2025-01-22T16:51:06.191507Z",
     "shell.execute_reply.started": "2025-01-22T16:51:06.180388Z"
    },
    "trusted": true
   },
   "outputs": [
    {
     "data": {
      "text/html": [
       "<div>\n",
       "<style scoped>\n",
       "    .dataframe tbody tr th:only-of-type {\n",
       "        vertical-align: middle;\n",
       "    }\n",
       "\n",
       "    .dataframe tbody tr th {\n",
       "        vertical-align: top;\n",
       "    }\n",
       "\n",
       "    .dataframe thead th {\n",
       "        text-align: right;\n",
       "    }\n",
       "</style>\n",
       "<table border=\"1\" class=\"dataframe\">\n",
       "  <thead>\n",
       "    <tr style=\"text-align: right;\">\n",
       "      <th></th>\n",
       "      <th>id</th>\n",
       "      <th>text</th>\n",
       "      <th>anger</th>\n",
       "      <th>disgust</th>\n",
       "      <th>fear</th>\n",
       "      <th>joy</th>\n",
       "      <th>sadness</th>\n",
       "      <th>surprise</th>\n",
       "    </tr>\n",
       "  </thead>\n",
       "  <tbody>\n",
       "    <tr>\n",
       "      <th>0</th>\n",
       "      <td>swe_test_track_a_00001</td>\n",
       "      <td>- Kom, ni kan raka er sen.</td>\n",
       "      <td>False</td>\n",
       "      <td>False</td>\n",
       "      <td>False</td>\n",
       "      <td>False</td>\n",
       "      <td>False</td>\n",
       "      <td>False</td>\n",
       "    </tr>\n",
       "    <tr>\n",
       "      <th>1</th>\n",
       "      <td>swe_test_track_a_00002</td>\n",
       "      <td>Gick väldigt smidigt att köpa bostad genom Vik...</td>\n",
       "      <td>False</td>\n",
       "      <td>False</td>\n",
       "      <td>False</td>\n",
       "      <td>True</td>\n",
       "      <td>False</td>\n",
       "      <td>False</td>\n",
       "    </tr>\n",
       "    <tr>\n",
       "      <th>2</th>\n",
       "      <td>swe_test_track_a_00003</td>\n",
       "      <td>Trevligt bemötta och hela afgäre gick smidigt.</td>\n",
       "      <td>False</td>\n",
       "      <td>False</td>\n",
       "      <td>False</td>\n",
       "      <td>True</td>\n",
       "      <td>False</td>\n",
       "      <td>False</td>\n",
       "    </tr>\n",
       "    <tr>\n",
       "      <th>3</th>\n",
       "      <td>swe_test_track_a_00004</td>\n",
       "      <td>Hej, jag tog med Livet är underbart om ni vill...</td>\n",
       "      <td>False</td>\n",
       "      <td>False</td>\n",
       "      <td>False</td>\n",
       "      <td>True</td>\n",
       "      <td>False</td>\n",
       "      <td>False</td>\n",
       "    </tr>\n",
       "    <tr>\n",
       "      <th>4</th>\n",
       "      <td>swe_test_track_a_00005</td>\n",
       "      <td>Nonchalant mäklare som har svårt för att lyssn...</td>\n",
       "      <td>False</td>\n",
       "      <td>True</td>\n",
       "      <td>False</td>\n",
       "      <td>False</td>\n",
       "      <td>False</td>\n",
       "      <td>False</td>\n",
       "    </tr>\n",
       "  </tbody>\n",
       "</table>\n",
       "</div>"
      ],
      "text/plain": [
       "                       id                                               text  \\\n",
       "0  swe_test_track_a_00001                         - Kom, ni kan raka er sen.   \n",
       "1  swe_test_track_a_00002  Gick väldigt smidigt att köpa bostad genom Vik...   \n",
       "2  swe_test_track_a_00003     Trevligt bemötta och hela afgäre gick smidigt.   \n",
       "3  swe_test_track_a_00004  Hej, jag tog med Livet är underbart om ni vill...   \n",
       "4  swe_test_track_a_00005  Nonchalant mäklare som har svårt för att lyssn...   \n",
       "\n",
       "   anger  disgust   fear    joy  sadness  surprise  \n",
       "0  False    False  False  False    False     False  \n",
       "1  False    False  False   True    False     False  \n",
       "2  False    False  False   True    False     False  \n",
       "3  False    False  False   True    False     False  \n",
       "4  False     True  False  False    False     False  "
      ]
     },
     "execution_count": 52,
     "metadata": {},
     "output_type": "execute_result"
    }
   ],
   "source": [
    "test_swe.head()"
   ]
  },
  {
   "cell_type": "markdown",
   "metadata": {},
   "source": [
    "# BERT Base Multilingual Cased"
   ]
  },
  {
   "cell_type": "code",
   "execution_count": null,
   "metadata": {
    "execution": {
     "iopub.execute_input": "2025-01-22T16:51:36.361102Z",
     "iopub.status.busy": "2025-01-22T16:51:36.360699Z",
     "iopub.status.idle": "2025-01-22T16:51:47.975523Z",
     "shell.execute_reply": "2025-01-22T16:51:47.974435Z",
     "shell.execute_reply.started": "2025-01-22T16:51:36.361070Z"
    },
    "trusted": true
   },
   "outputs": [
    {
     "data": {
      "application/vnd.jupyter.widget-view+json": {
       "model_id": "5cca304dce4448bb8a10fff3c09aeced",
       "version_major": 2,
       "version_minor": 0
      },
      "text/plain": [
       "tokenizer_config.json:   0%|          | 0.00/49.0 [00:00<?, ?B/s]"
      ]
     },
     "metadata": {},
     "output_type": "display_data"
    },
    {
     "data": {
      "application/vnd.jupyter.widget-view+json": {
       "model_id": "376b693289b047f485679e92d2e813a9",
       "version_major": 2,
       "version_minor": 0
      },
      "text/plain": [
       "config.json:   0%|          | 0.00/625 [00:00<?, ?B/s]"
      ]
     },
     "metadata": {},
     "output_type": "display_data"
    },
    {
     "data": {
      "application/vnd.jupyter.widget-view+json": {
       "model_id": "624f9665e0444e1baec406e78bec2624",
       "version_major": 2,
       "version_minor": 0
      },
      "text/plain": [
       "vocab.txt:   0%|          | 0.00/996k [00:00<?, ?B/s]"
      ]
     },
     "metadata": {},
     "output_type": "display_data"
    },
    {
     "data": {
      "application/vnd.jupyter.widget-view+json": {
       "model_id": "37b7ea6578a2418fbd519959a7167fb6",
       "version_major": 2,
       "version_minor": 0
      },
      "text/plain": [
       "tokenizer.json:   0%|          | 0.00/1.96M [00:00<?, ?B/s]"
      ]
     },
     "metadata": {},
     "output_type": "display_data"
    },
    {
     "data": {
      "application/vnd.jupyter.widget-view+json": {
       "model_id": "de67503c7db742c4911cdee41255a7fc",
       "version_major": 2,
       "version_minor": 0
      },
      "text/plain": [
       "model.safetensors:   0%|          | 0.00/714M [00:00<?, ?B/s]"
      ]
     },
     "metadata": {},
     "output_type": "display_data"
    },
    {
     "name": "stderr",
     "output_type": "stream",
     "text": [
      "Some weights of BertForSequenceClassification were not initialized from the model checkpoint at google-bert/bert-base-multilingual-cased and are newly initialized: ['classifier.bias', 'classifier.weight']\n",
      "You should probably TRAIN this model on a down-stream task to be able to use it for predictions and inference.\n"
     ]
    }
   ],
   "source": [
    "tokenizer = AutoTokenizer.from_pretrained('google-bert/bert-base-multilingual-cased')\n",
    "model = AutoModelForSequenceClassification.from_pretrained('google-bert/bert-base-multilingual-cased',\n",
    "                                                           problem_type=\"multi_label_classification\",\n",
    "                                                           ignore_mismatched_sizes=True,\n",
    "                                                           num_labels=len(emotion_labels))"
   ]
  },
  {
   "cell_type": "code",
   "execution_count": null,
   "metadata": {
    "execution": {
     "iopub.execute_input": "2025-01-22T16:52:26.706486Z",
     "iopub.status.busy": "2025-01-22T16:52:26.706159Z",
     "iopub.status.idle": "2025-01-22T16:52:26.741963Z",
     "shell.execute_reply": "2025-01-22T16:52:26.741299Z",
     "shell.execute_reply.started": "2025-01-22T16:52:26.706458Z"
    },
    "trusted": true
   },
   "outputs": [
    {
     "name": "stderr",
     "output_type": "stream",
     "text": [
      "Using the `WANDB_DISABLED` environment variable is deprecated and will be removed in v5. Use the --report_to flag to control the integrations used for logging result (for instance --report_to none).\n"
     ]
    }
   ],
   "source": [
    "training_args = TrainingArguments(\n",
    "    output_dir='./results/swe/bert-base-multi-cased-v1',\n",
    "    report_to=None,\n",
    "    evaluation_strategy=\"steps\",\n",
    "    save_total_limit = 1,\n",
    "    logging_strategy=\"epoch\",\n",
    "    load_best_model_at_end=True,\n",
    "    learning_rate=1e-5,\n",
    "    per_device_train_batch_size=8,\n",
    "    per_device_eval_batch_size=8,\n",
    "    num_train_epochs=100,\n",
    "    weight_decay=0.01,\n",
    ")"
   ]
  },
  {
   "cell_type": "code",
   "execution_count": null,
   "metadata": {
    "execution": {
     "iopub.execute_input": "2025-01-22T16:52:29.640136Z",
     "iopub.status.busy": "2025-01-22T16:52:29.639793Z",
     "iopub.status.idle": "2025-01-22T16:52:29.900078Z",
     "shell.execute_reply": "2025-01-22T16:52:29.899384Z",
     "shell.execute_reply.started": "2025-01-22T16:52:29.640109Z"
    },
    "trusted": true
   },
   "outputs": [],
   "source": [
    "trainer = Trainer(\n",
    "    model=model,\n",
    "    args=training_args,\n",
    "    train_dataset=train_dataset,\n",
    "    eval_dataset=dev_dataset,\n",
    "    tokenizer=tokenizer,\n",
    "    compute_metrics=compute_metrics\n",
    ")"
   ]
  },
  {
   "cell_type": "code",
   "execution_count": 66,
   "metadata": {
    "execution": {
     "iopub.execute_input": "2025-01-22T16:52:30.812774Z",
     "iopub.status.busy": "2025-01-22T16:52:30.812433Z",
     "iopub.status.idle": "2025-01-22T18:57:00.340175Z",
     "shell.execute_reply": "2025-01-22T18:57:00.339303Z",
     "shell.execute_reply.started": "2025-01-22T16:52:30.812749Z"
    },
    "trusted": true
   },
   "outputs": [
    {
     "data": {
      "text/html": [
       "\n",
       "    <div>\n",
       "      \n",
       "      <progress value='7500' max='7500' style='width:300px; height:20px; vertical-align: middle;'></progress>\n",
       "      [7500/7500 2:04:27, Epoch 100/100]\n",
       "    </div>\n",
       "    <table border=\"1\" class=\"dataframe\">\n",
       "  <thead>\n",
       " <tr style=\"text-align: left;\">\n",
       "      <th>Step</th>\n",
       "      <th>Training Loss</th>\n",
       "      <th>Validation Loss</th>\n",
       "      <th>Accuracy</th>\n",
       "      <th>F1</th>\n",
       "      <th>Precision</th>\n",
       "      <th>Recall</th>\n",
       "    </tr>\n",
       "  </thead>\n",
       "  <tbody>\n",
       "    <tr>\n",
       "      <td>500</td>\n",
       "      <td>0.190900</td>\n",
       "      <td>0.245745</td>\n",
       "      <td>0.625000</td>\n",
       "      <td>0.670567</td>\n",
       "      <td>0.714185</td>\n",
       "      <td>0.639594</td>\n",
       "    </tr>\n",
       "    <tr>\n",
       "      <td>1000</td>\n",
       "      <td>0.091100</td>\n",
       "      <td>0.261610</td>\n",
       "      <td>0.610000</td>\n",
       "      <td>0.688629</td>\n",
       "      <td>0.681578</td>\n",
       "      <td>0.705584</td>\n",
       "    </tr>\n",
       "    <tr>\n",
       "      <td>1500</td>\n",
       "      <td>0.041000</td>\n",
       "      <td>0.310605</td>\n",
       "      <td>0.635000</td>\n",
       "      <td>0.665555</td>\n",
       "      <td>0.698073</td>\n",
       "      <td>0.649746</td>\n",
       "    </tr>\n",
       "    <tr>\n",
       "      <td>2000</td>\n",
       "      <td>0.017300</td>\n",
       "      <td>0.333055</td>\n",
       "      <td>0.615000</td>\n",
       "      <td>0.681275</td>\n",
       "      <td>0.699269</td>\n",
       "      <td>0.675127</td>\n",
       "    </tr>\n",
       "    <tr>\n",
       "      <td>2500</td>\n",
       "      <td>0.009700</td>\n",
       "      <td>0.344804</td>\n",
       "      <td>0.630000</td>\n",
       "      <td>0.694401</td>\n",
       "      <td>0.707765</td>\n",
       "      <td>0.690355</td>\n",
       "    </tr>\n",
       "    <tr>\n",
       "      <td>3000</td>\n",
       "      <td>0.006800</td>\n",
       "      <td>0.392068</td>\n",
       "      <td>0.620000</td>\n",
       "      <td>0.678118</td>\n",
       "      <td>0.714556</td>\n",
       "      <td>0.659898</td>\n",
       "    </tr>\n",
       "    <tr>\n",
       "      <td>3500</td>\n",
       "      <td>0.005000</td>\n",
       "      <td>0.389818</td>\n",
       "      <td>0.625000</td>\n",
       "      <td>0.674855</td>\n",
       "      <td>0.699366</td>\n",
       "      <td>0.664975</td>\n",
       "    </tr>\n",
       "    <tr>\n",
       "      <td>4000</td>\n",
       "      <td>0.003800</td>\n",
       "      <td>0.411090</td>\n",
       "      <td>0.620000</td>\n",
       "      <td>0.675996</td>\n",
       "      <td>0.733949</td>\n",
       "      <td>0.654822</td>\n",
       "    </tr>\n",
       "    <tr>\n",
       "      <td>4500</td>\n",
       "      <td>0.003300</td>\n",
       "      <td>0.440901</td>\n",
       "      <td>0.620000</td>\n",
       "      <td>0.666198</td>\n",
       "      <td>0.710939</td>\n",
       "      <td>0.644670</td>\n",
       "    </tr>\n",
       "    <tr>\n",
       "      <td>5000</td>\n",
       "      <td>0.002800</td>\n",
       "      <td>0.432518</td>\n",
       "      <td>0.615000</td>\n",
       "      <td>0.672921</td>\n",
       "      <td>0.701831</td>\n",
       "      <td>0.659898</td>\n",
       "    </tr>\n",
       "    <tr>\n",
       "      <td>5500</td>\n",
       "      <td>0.002400</td>\n",
       "      <td>0.445151</td>\n",
       "      <td>0.610000</td>\n",
       "      <td>0.663807</td>\n",
       "      <td>0.703263</td>\n",
       "      <td>0.644670</td>\n",
       "    </tr>\n",
       "    <tr>\n",
       "      <td>6000</td>\n",
       "      <td>0.002100</td>\n",
       "      <td>0.450911</td>\n",
       "      <td>0.630000</td>\n",
       "      <td>0.685501</td>\n",
       "      <td>0.737096</td>\n",
       "      <td>0.664975</td>\n",
       "    </tr>\n",
       "    <tr>\n",
       "      <td>6500</td>\n",
       "      <td>0.001900</td>\n",
       "      <td>0.456840</td>\n",
       "      <td>0.625000</td>\n",
       "      <td>0.679329</td>\n",
       "      <td>0.716531</td>\n",
       "      <td>0.659898</td>\n",
       "    </tr>\n",
       "    <tr>\n",
       "      <td>7000</td>\n",
       "      <td>0.001700</td>\n",
       "      <td>0.472849</td>\n",
       "      <td>0.630000</td>\n",
       "      <td>0.675697</td>\n",
       "      <td>0.719288</td>\n",
       "      <td>0.654822</td>\n",
       "    </tr>\n",
       "    <tr>\n",
       "      <td>7500</td>\n",
       "      <td>0.001700</td>\n",
       "      <td>0.465947</td>\n",
       "      <td>0.630000</td>\n",
       "      <td>0.687498</td>\n",
       "      <td>0.723260</td>\n",
       "      <td>0.670051</td>\n",
       "    </tr>\n",
       "  </tbody>\n",
       "</table><p>"
      ],
      "text/plain": [
       "<IPython.core.display.HTML object>"
      ]
     },
     "metadata": {},
     "output_type": "display_data"
    }
   ],
   "source": [
    "with mock.patch('wandb.init', return_value=Dummy()):\n",
    "    trainer.train()"
   ]
  },
  {
   "cell_type": "code",
   "execution_count": 67,
   "metadata": {
    "execution": {
     "iopub.execute_input": "2025-01-22T19:04:47.460670Z",
     "iopub.status.busy": "2025-01-22T19:04:47.460339Z",
     "iopub.status.idle": "2025-01-22T19:04:51.814429Z",
     "shell.execute_reply": "2025-01-22T19:04:51.813687Z",
     "shell.execute_reply.started": "2025-01-22T19:04:47.460645Z"
    },
    "trusted": true
   },
   "outputs": [
    {
     "data": {
      "text/html": [],
      "text/plain": [
       "<IPython.core.display.HTML object>"
      ]
     },
     "metadata": {},
     "output_type": "display_data"
    },
    {
     "name": "stdout",
     "output_type": "stream",
     "text": [
      "metrics: {'accuracy': 0.455, 'f1': 0.6812570449836791, 'precision': 0.5927080026222441, 'recall': 0.8375634517766497}\n",
      "metrics: {'accuracy': 0.62, 'f1': 0.7289128487392079, 'precision': 0.6964901406216252, 'recall': 0.766497461928934}\n",
      "metrics: {'accuracy': 0.625, 'f1': 0.6705665564535367, 'precision': 0.7141852601611821, 'recall': 0.6395939086294417}\n",
      "metrics: {'accuracy': 0.63, 'f1': 0.5762628232429018, 'precision': 0.6843250851433048, 'recall': 0.5279187817258884}\n",
      "metrics: {'accuracy': 0.62, 'f1': 0.5610277578727403, 'precision': 0.7123388404961397, 'recall': 0.5025380710659898}\n",
      "metrics: {'accuracy': 0.625, 'f1': 0.5281377266318559, 'precision': 0.6962531092777473, 'recall': 0.4720812182741117}\n",
      "metrics: {'accuracy': 0.615, 'f1': 0.4775817473103105, 'precision': 0.7189321300996427, 'recall': 0.43147208121827413}\n",
      "metrics: {'accuracy': 0.6, 'f1': 0.410881683548928, 'precision': 0.6007213465134918, 'recall': 0.3756345177664975}\n",
      "metrics: {'accuracy': 0.585, 'f1': 0.3749837303136796, 'precision': 0.41783901377810007, 'recall': 0.3401015228426396}\n",
      "----------------------------------------------\n",
      "Best Threshold: 0.2, Best F1-Score: 0.7289\n",
      "***********************************************\n",
      "Metrics with Best Threshold: {'accuracy': 0.62, 'f1': 0.7289128487392079, 'precision': 0.6964901406216252, 'recall': 0.766497461928934}\n",
      "Optimal Threshold: 0.2\n",
      "Final Metrics: {'accuracy': 0.62, 'f1': 0.7289128487392079, 'precision': 0.6964901406216252, 'recall': 0.766497461928934}\n"
     ]
    }
   ],
   "source": [
    "best_threshold, final_metrics = evaluate_on_validation_set(trainer)\n",
    "print(f\"Optimal Threshold: {best_threshold}\")\n",
    "print(f\"Final Metrics: {final_metrics}\")"
   ]
  },
  {
   "cell_type": "code",
   "execution_count": null,
   "metadata": {
    "execution": {
     "iopub.execute_input": "2025-01-22T19:04:58.805442Z",
     "iopub.status.busy": "2025-01-22T19:04:58.805136Z",
     "iopub.status.idle": "2025-01-22T19:05:03.141082Z",
     "shell.execute_reply": "2025-01-22T19:05:03.140417Z",
     "shell.execute_reply.started": "2025-01-22T19:04:58.805419Z"
    },
    "trusted": true
   },
   "outputs": [
    {
     "data": {
      "text/html": [],
      "text/plain": [
       "<IPython.core.display.HTML object>"
      ]
     },
     "metadata": {},
     "output_type": "display_data"
    }
   ],
   "source": [
    "dev_results = trainer.predict(dev_dataset)\n",
    "\n",
    "predictions = (torch.sigmoid(torch.tensor(dev_results.predictions)) > 0.2).numpy()\n",
    "conf_matrix = confusion_matrix(dev_labels.ravel(), predictions.ravel())"
   ]
  },
  {
   "cell_type": "code",
   "execution_count": 69,
   "metadata": {
    "execution": {
     "iopub.execute_input": "2025-01-22T19:05:03.142354Z",
     "iopub.status.busy": "2025-01-22T19:05:03.142040Z",
     "iopub.status.idle": "2025-01-22T19:05:03.709392Z",
     "shell.execute_reply": "2025-01-22T19:05:03.708429Z",
     "shell.execute_reply.started": "2025-01-22T19:05:03.142331Z"
    },
    "trusted": true
   },
   "outputs": [
    {
     "data": {
      "image/png": "[encoded data removed]",
      "text/plain": [
       "<Figure size 640x480 with 2 Axes>"
      ]
     },
     "metadata": {},
     "output_type": "display_data"
    }
   ],
   "source": [
    "disp = ConfusionMatrixDisplay(confusion_matrix=conf_matrix)\n",
    "disp.plot(cmap=plt.cm.Blues)\n",
    "plt.title('Confusion Matrix')\n",
    "plt.show()"
   ]
  },
  {
   "cell_type": "code",
   "execution_count": null,
   "metadata": {
    "execution": {
     "iopub.execute_input": "2025-01-22T19:05:10.700484Z",
     "iopub.status.busy": "2025-01-22T19:05:10.699935Z",
     "iopub.status.idle": "2025-01-22T19:05:10.878801Z",
     "shell.execute_reply": "2025-01-22T19:05:10.877894Z",
     "shell.execute_reply.started": "2025-01-22T19:05:10.700444Z"
    },
    "trusted": true
   },
   "outputs": [
    {
     "data": {
      "image/png": "[encoded data removed]",
      "text/plain": [
       "<Figure size 640x480 with 1 Axes>"
      ]
     },
     "metadata": {},
     "output_type": "display_data"
    }
   ],
   "source": [
    "fpr, tpr, _ = roc_curve(dev_labels.ravel(), dev_results.predictions.ravel())\n",
    "roc_auc = auc(fpr, tpr)\n",
    "\n",
    "plt.figure()\n",
    "plt.plot(fpr, tpr, color='blue', lw=2, label=f'ROC curve (AUC = {roc_auc:.2f})')\n",
    "plt.plot([0, 1], [0, 1], color='gray', lw=2, linestyle='--')\n",
    "plt.xlabel('False Positive Rate')\n",
    "plt.ylabel('True Positive Rate')\n",
    "plt.title('Receiver Operating Characteristic')\n",
    "plt.legend(loc='lower right')\n",
    "plt.show()"
   ]
  },
  {
   "cell_type": "code",
   "execution_count": null,
   "metadata": {
    "execution": {
     "iopub.execute_input": "2025-01-22T19:05:14.665588Z",
     "iopub.status.busy": "2025-01-22T19:05:14.665271Z",
     "iopub.status.idle": "2025-01-22T19:05:14.676126Z",
     "shell.execute_reply": "2025-01-22T19:05:14.675247Z",
     "shell.execute_reply.started": "2025-01-22T19:05:14.665563Z"
    },
    "trusted": true
   },
   "outputs": [
    {
     "name": "stdout",
     "output_type": "stream",
     "text": [
      "Accuracy: 0.6200\n",
      "anger: Precision=0.7317, Recall=0.7895, F1=0.7595\n",
      "disgust: Precision=0.5909, Recall=0.7222, F1=0.6500\n",
      "fear: Precision=0.0000, Recall=0.0000, F1=0.0000\n",
      "joy: Precision=0.8571, Recall=0.9070, F1=0.8814\n",
      "sadness: Precision=0.4167, Recall=0.5172, F1=0.4615\n",
      "surprise: Precision=0.3333, Recall=0.2857, F1=0.3077\n"
     ]
    }
   ],
   "source": [
    "precision, recall, f1, _ = precision_recall_fscore_support(\n",
    "    dev_labels, predictions, average=None\n",
    ")\n",
    "accuracy = accuracy_score(dev_labels, predictions)\n",
    "\n",
    "print(f'Accuracy: {accuracy:.4f}')\n",
    "for i, label in enumerate(emotion_labels):\n",
    "    print(f\"{label}: Precision={precision[i]:.4f}, Recall={recall[i]:.4f}, F1={f1[i]:.4f}\")"
   ]
  },
  {
   "cell_type": "code",
   "execution_count": null,
   "metadata": {
    "execution": {
     "iopub.execute_input": "2025-01-22T19:05:45.951102Z",
     "iopub.status.busy": "2025-01-22T19:05:45.950689Z",
     "iopub.status.idle": "2025-01-22T19:06:11.665386Z",
     "shell.execute_reply": "2025-01-22T19:06:11.664700Z",
     "shell.execute_reply.started": "2025-01-22T19:05:45.951069Z"
    },
    "trusted": true
   },
   "outputs": [
    {
     "data": {
      "text/html": [],
      "text/plain": [
       "<IPython.core.display.HTML object>"
      ]
     },
     "metadata": {},
     "output_type": "display_data"
    }
   ],
   "source": [
    "test_encodings = tokenizer(list(test_swe['text']), truncation=True, padding=True, max_length=512, return_tensors=\"pt\")\n",
    "test_dataset = CustomDataset(test_encodings, np.zeros((len(test_swe), 6)))  # Dummy labels for test\n",
    "test_results = trainer.predict(test_dataset)\n",
    "test_predictions = (torch.sigmoid(torch.tensor(test_results.predictions)) > 0.2).numpy()"
   ]
  },
  {
   "cell_type": "code",
   "execution_count": null,
   "metadata": {
    "execution": {
     "iopub.execute_input": "2025-01-22T19:06:34.818100Z",
     "iopub.status.busy": "2025-01-22T19:06:34.817761Z",
     "iopub.status.idle": "2025-01-22T19:06:34.833600Z",
     "shell.execute_reply": "2025-01-22T19:06:34.832704Z",
     "shell.execute_reply.started": "2025-01-22T19:06:34.818072Z"
    },
    "trusted": true
   },
   "outputs": [],
   "source": [
    "test_swe[emotion_labels] = test_predictions\n",
    "test_swe.to_csv('test_predictions_swe_mbert_base_cased_v1.csv', index=False)"
   ]
  },
  {
   "cell_type": "markdown",
   "metadata": {},
   "source": [
    "# Twitter XLM RoBERTa Base Sentiment"
   ]
  },
  {
   "cell_type": "code",
   "execution_count": null,
   "metadata": {
    "execution": {
     "iopub.execute_input": "2025-01-23T14:25:01.951739Z",
     "iopub.status.busy": "2025-01-23T14:25:01.951493Z",
     "iopub.status.idle": "2025-01-23T14:25:14.322372Z",
     "shell.execute_reply": "2025-01-23T14:25:14.321222Z",
     "shell.execute_reply.started": "2025-01-23T14:25:01.951719Z"
    },
    "trusted": true
   },
   "outputs": [
    {
     "data": {
      "application/vnd.jupyter.widget-view+json": {
       "model_id": "91e87b7713eb4dcba4f83530e1923fa8",
       "version_major": 2,
       "version_minor": 0
      },
      "text/plain": [
       "config.json:   0%|          | 0.00/841 [00:00<?, ?B/s]"
      ]
     },
     "metadata": {},
     "output_type": "display_data"
    },
    {
     "data": {
      "application/vnd.jupyter.widget-view+json": {
       "model_id": "2cf97b6989df4559a9d477893259553b",
       "version_major": 2,
       "version_minor": 0
      },
      "text/plain": [
       "sentencepiece.bpe.model:   0%|          | 0.00/5.07M [00:00<?, ?B/s]"
      ]
     },
     "metadata": {},
     "output_type": "display_data"
    },
    {
     "data": {
      "application/vnd.jupyter.widget-view+json": {
       "model_id": "d5c3f986bf074fdcba7243b5558de72a",
       "version_major": 2,
       "version_minor": 0
      },
      "text/plain": [
       "special_tokens_map.json:   0%|          | 0.00/150 [00:00<?, ?B/s]"
      ]
     },
     "metadata": {},
     "output_type": "display_data"
    },
    {
     "data": {
      "application/vnd.jupyter.widget-view+json": {
       "model_id": "a69feebeddfe47dc86d7b01f5cd82ff9",
       "version_major": 2,
       "version_minor": 0
      },
      "text/plain": [
       "pytorch_model.bin:   0%|          | 0.00/1.11G [00:00<?, ?B/s]"
      ]
     },
     "metadata": {},
     "output_type": "display_data"
    },
    {
     "name": "stderr",
     "output_type": "stream",
     "text": [
      "Some weights of XLMRobertaForSequenceClassification were not initialized from the model checkpoint at cardiffnlp/twitter-xlm-roberta-base-sentiment and are newly initialized because the shapes did not match:\n",
      "- classifier.out_proj.weight: found shape torch.Size([3, 768]) in the checkpoint and torch.Size([6, 768]) in the model instantiated\n",
      "- classifier.out_proj.bias: found shape torch.Size([3]) in the checkpoint and torch.Size([6]) in the model instantiated\n",
      "You should probably TRAIN this model on a down-stream task to be able to use it for predictions and inference.\n"
     ]
    }
   ],
   "source": [
    "tokenizer = AutoTokenizer.from_pretrained('cardiffnlp/twitter-xlm-roberta-base-sentiment')\n",
    "model = AutoModelForSequenceClassification.from_pretrained('cardiffnlp/twitter-xlm-roberta-base-sentiment',\n",
    "                                                           problem_type=\"multi_label_classification\",\n",
    "                                                           ignore_mismatched_sizes=True,\n",
    "                                                           num_labels=len(emotion_labels))"
   ]
  },
  {
   "cell_type": "code",
   "execution_count": null,
   "metadata": {
    "execution": {
     "iopub.execute_input": "2025-01-23T14:31:15.413166Z",
     "iopub.status.busy": "2025-01-23T14:31:15.412740Z",
     "iopub.status.idle": "2025-01-23T14:31:15.449624Z",
     "shell.execute_reply": "2025-01-23T14:31:15.448984Z",
     "shell.execute_reply.started": "2025-01-23T14:31:15.413129Z"
    },
    "trusted": true
   },
   "outputs": [
    {
     "name": "stderr",
     "output_type": "stream",
     "text": [
      "Using the `WANDB_DISABLED` environment variable is deprecated and will be removed in v5. Use the --report_to flag to control the integrations used for logging result (for instance --report_to none).\n"
     ]
    }
   ],
   "source": [
    "training_args = TrainingArguments(\n",
    "    output_dir='./results/swe/twitter-xlm-roberta-base-sentiment-v1',\n",
    "    report_to=None,\n",
    "    evaluation_strategy=\"steps\",\n",
    "    save_total_limit = 1,\n",
    "    logging_strategy=\"epoch\",\n",
    "    load_best_model_at_end=True,\n",
    "    learning_rate=1e-5,\n",
    "    per_device_train_batch_size=8,\n",
    "    per_device_eval_batch_size=8,\n",
    "    num_train_epochs=100,\n",
    "    weight_decay=0.01,\n",
    "    metric_for_best_model = 'f1',\n",
    ")"
   ]
  },
  {
   "cell_type": "code",
   "execution_count": null,
   "metadata": {
    "execution": {
     "iopub.execute_input": "2025-01-23T14:31:48.700256Z",
     "iopub.status.busy": "2025-01-23T14:31:48.699983Z",
     "iopub.status.idle": "2025-01-23T14:31:49.427219Z",
     "shell.execute_reply": "2025-01-23T14:31:49.426561Z",
     "shell.execute_reply.started": "2025-01-23T14:31:48.700234Z"
    },
    "trusted": true
   },
   "outputs": [],
   "source": [
    "trainer = Trainer(\n",
    "    model=model,\n",
    "    args=training_args,\n",
    "    train_dataset=train_dataset,\n",
    "    eval_dataset=dev_dataset,\n",
    "    tokenizer=tokenizer,\n",
    "    compute_metrics=compute_metrics,\n",
    "    callbacks = [EarlyStoppingCallback(early_stopping_patience=3)]\n",
    ")"
   ]
  },
  {
   "cell_type": "code",
   "execution_count": 27,
   "metadata": {
    "execution": {
     "iopub.execute_input": "2025-01-23T14:31:53.058826Z",
     "iopub.status.busy": "2025-01-23T14:31:53.058484Z",
     "iopub.status.idle": "2025-01-23T15:17:07.788619Z",
     "shell.execute_reply": "2025-01-23T15:17:07.787872Z",
     "shell.execute_reply.started": "2025-01-23T14:31:53.058800Z"
    },
    "trusted": true
   },
   "outputs": [
    {
     "data": {
      "text/html": [
       "\n",
       "    <div>\n",
       "      \n",
       "      <progress value='2500' max='7500' style='width:300px; height:20px; vertical-align: middle;'></progress>\n",
       "      [2500/7500 45:11 < 1:30:27, 0.92 it/s, Epoch 33/100]\n",
       "    </div>\n",
       "    <table border=\"1\" class=\"dataframe\">\n",
       "  <thead>\n",
       " <tr style=\"text-align: left;\">\n",
       "      <th>Step</th>\n",
       "      <th>Training Loss</th>\n",
       "      <th>Validation Loss</th>\n",
       "      <th>Accuracy</th>\n",
       "      <th>F1</th>\n",
       "      <th>Precision</th>\n",
       "      <th>Recall</th>\n",
       "    </tr>\n",
       "  </thead>\n",
       "  <tbody>\n",
       "    <tr>\n",
       "      <td>500</td>\n",
       "      <td>0.191800</td>\n",
       "      <td>0.213637</td>\n",
       "      <td>0.670000</td>\n",
       "      <td>0.671936</td>\n",
       "      <td>0.776857</td>\n",
       "      <td>0.644670</td>\n",
       "    </tr>\n",
       "    <tr>\n",
       "      <td>1000</td>\n",
       "      <td>0.122300</td>\n",
       "      <td>0.228418</td>\n",
       "      <td>0.670000</td>\n",
       "      <td>0.718133</td>\n",
       "      <td>0.757065</td>\n",
       "      <td>0.710660</td>\n",
       "    </tr>\n",
       "    <tr>\n",
       "      <td>1500</td>\n",
       "      <td>0.066600</td>\n",
       "      <td>0.252018</td>\n",
       "      <td>0.650000</td>\n",
       "      <td>0.691743</td>\n",
       "      <td>0.749962</td>\n",
       "      <td>0.654822</td>\n",
       "    </tr>\n",
       "    <tr>\n",
       "      <td>2000</td>\n",
       "      <td>0.032400</td>\n",
       "      <td>0.270998</td>\n",
       "      <td>0.665000</td>\n",
       "      <td>0.702710</td>\n",
       "      <td>0.762036</td>\n",
       "      <td>0.659898</td>\n",
       "    </tr>\n",
       "    <tr>\n",
       "      <td>2500</td>\n",
       "      <td>0.016600</td>\n",
       "      <td>0.282649</td>\n",
       "      <td>0.660000</td>\n",
       "      <td>0.702273</td>\n",
       "      <td>0.729671</td>\n",
       "      <td>0.680203</td>\n",
       "    </tr>\n",
       "  </tbody>\n",
       "</table><p>"
      ],
      "text/plain": [
       "<IPython.core.display.HTML object>"
      ]
     },
     "metadata": {},
     "output_type": "display_data"
    }
   ],
   "source": [
    "with mock.patch('wandb.init', return_value=Dummy()):\n",
    "    trainer.train()"
   ]
  },
  {
   "cell_type": "code",
   "execution_count": 28,
   "metadata": {
    "execution": {
     "iopub.execute_input": "2025-01-23T15:23:35.741052Z",
     "iopub.status.busy": "2025-01-23T15:23:35.740711Z",
     "iopub.status.idle": "2025-01-23T15:23:40.114102Z",
     "shell.execute_reply": "2025-01-23T15:23:40.113430Z",
     "shell.execute_reply.started": "2025-01-23T15:23:35.741021Z"
    },
    "trusted": true
   },
   "outputs": [
    {
     "data": {
      "text/html": [],
      "text/plain": [
       "<IPython.core.display.HTML object>"
      ]
     },
     "metadata": {},
     "output_type": "display_data"
    },
    {
     "name": "stdout",
     "output_type": "stream",
     "text": [
      "metrics: {'accuracy': 0.58, 'f1': 0.7377652501747065, 'precision': 0.671304256838146, 'recall': 0.8375634517766497}\n",
      "metrics: {'accuracy': 0.655, 'f1': 0.7278418971740445, 'precision': 0.7138110150446133, 'recall': 0.766497461928934}\n",
      "metrics: {'accuracy': 0.66, 'f1': 0.718026494985762, 'precision': 0.7171838446259103, 'recall': 0.7411167512690355}\n",
      "metrics: {'accuracy': 0.66, 'f1': 0.7159043716563134, 'precision': 0.7292400774634277, 'recall': 0.7258883248730964}\n",
      "metrics: {'accuracy': 0.67, 'f1': 0.7181332219002535, 'precision': 0.7570647179037744, 'recall': 0.7106598984771574}\n",
      "metrics: {'accuracy': 0.685, 'f1': 0.7050623940655012, 'precision': 0.7896660421294641, 'recall': 0.6852791878172588}\n",
      "metrics: {'accuracy': 0.67, 'f1': 0.6697408242030048, 'precision': 0.8171515061477068, 'recall': 0.6345177664974619}\n",
      "metrics: {'accuracy': 0.655, 'f1': 0.6550071121771629, 'precision': 0.8268708772726875, 'recall': 0.6040609137055838}\n",
      "metrics: {'accuracy': 0.61, 'f1': 0.5820215514939023, 'precision': 0.8572059389585438, 'recall': 0.49746192893401014}\n",
      "----------------------------------------------\n",
      "Best Threshold: 0.1, Best F1-Score: 0.7378\n",
      "***********************************************\n",
      "Metrics with Best Threshold: {'accuracy': 0.58, 'f1': 0.7377652501747065, 'precision': 0.671304256838146, 'recall': 0.8375634517766497}\n",
      "Optimal Threshold: 0.1\n",
      "Final Metrics: {'accuracy': 0.58, 'f1': 0.7377652501747065, 'precision': 0.671304256838146, 'recall': 0.8375634517766497}\n"
     ]
    }
   ],
   "source": [
    "best_threshold, final_metrics = evaluate_on_validation_set(trainer)\n",
    "print(f\"Optimal Threshold: {best_threshold}\")\n",
    "print(f\"Final Metrics: {final_metrics}\")"
   ]
  },
  {
   "cell_type": "code",
   "execution_count": null,
   "metadata": {
    "execution": {
     "iopub.execute_input": "2025-01-23T15:23:49.077358Z",
     "iopub.status.busy": "2025-01-23T15:23:49.077052Z",
     "iopub.status.idle": "2025-01-23T15:23:53.482496Z",
     "shell.execute_reply": "2025-01-23T15:23:53.481866Z",
     "shell.execute_reply.started": "2025-01-23T15:23:49.077334Z"
    },
    "trusted": true
   },
   "outputs": [
    {
     "data": {
      "text/html": [],
      "text/plain": [
       "<IPython.core.display.HTML object>"
      ]
     },
     "metadata": {},
     "output_type": "display_data"
    }
   ],
   "source": [
    "dev_results = trainer.predict(dev_dataset)\n",
    "\n",
    "predictions = (torch.sigmoid(torch.tensor(dev_results.predictions)) > 0.1).numpy()\n",
    "conf_matrix = confusion_matrix(dev_labels.ravel(), predictions.ravel())"
   ]
  },
  {
   "cell_type": "code",
   "execution_count": 30,
   "metadata": {
    "execution": {
     "iopub.execute_input": "2025-01-23T15:23:54.381829Z",
     "iopub.status.busy": "2025-01-23T15:23:54.381417Z",
     "iopub.status.idle": "2025-01-23T15:23:54.650824Z",
     "shell.execute_reply": "2025-01-23T15:23:54.650033Z",
     "shell.execute_reply.started": "2025-01-23T15:23:54.381793Z"
    },
    "trusted": true
   },
   "outputs": [
    {
     "data": {
      "image/png": "[encoded data removed]",
      "text/plain": [
       "<Figure size 640x480 with 2 Axes>"
      ]
     },
     "metadata": {},
     "output_type": "display_data"
    }
   ],
   "source": [
    "disp = ConfusionMatrixDisplay(confusion_matrix=conf_matrix)\n",
    "disp.plot(cmap=plt.cm.Blues)\n",
    "plt.title('Confusion Matrix')\n",
    "plt.show()"
   ]
  },
  {
   "cell_type": "code",
   "execution_count": null,
   "metadata": {
    "execution": {
     "iopub.execute_input": "2025-01-23T15:23:59.224306Z",
     "iopub.status.busy": "2025-01-23T15:23:59.224019Z",
     "iopub.status.idle": "2025-01-23T15:23:59.384882Z",
     "shell.execute_reply": "2025-01-23T15:23:59.383995Z",
     "shell.execute_reply.started": "2025-01-23T15:23:59.224282Z"
    },
    "trusted": true
   },
   "outputs": [
    {
     "data": {
      "image/png": "[encoded data removed]",
      "text/plain": [
       "<Figure size 640x480 with 1 Axes>"
      ]
     },
     "metadata": {},
     "output_type": "display_data"
    }
   ],
   "source": [
    "fpr, tpr, _ = roc_curve(dev_labels.ravel(), dev_results.predictions.ravel())\n",
    "roc_auc = auc(fpr, tpr)\n",
    "\n",
    "plt.figure()\n",
    "plt.plot(fpr, tpr, color='blue', lw=2, label=f'ROC curve (AUC = {roc_auc:.2f})')\n",
    "plt.plot([0, 1], [0, 1], color='gray', lw=2, linestyle='--')\n",
    "plt.xlabel('False Positive Rate')\n",
    "plt.ylabel('True Positive Rate')\n",
    "plt.title('Receiver Operating Characteristic')\n",
    "plt.legend(loc='lower right')\n",
    "plt.show()"
   ]
  },
  {
   "cell_type": "code",
   "execution_count": null,
   "metadata": {
    "execution": {
     "iopub.execute_input": "2025-01-23T15:24:02.599300Z",
     "iopub.status.busy": "2025-01-23T15:24:02.599008Z",
     "iopub.status.idle": "2025-01-23T15:24:02.608735Z",
     "shell.execute_reply": "2025-01-23T15:24:02.607934Z",
     "shell.execute_reply.started": "2025-01-23T15:24:02.599276Z"
    },
    "trusted": true
   },
   "outputs": [
    {
     "name": "stdout",
     "output_type": "stream",
     "text": [
      "Accuracy: 0.5800\n",
      "anger: Precision=0.5738, Recall=0.9211, F1=0.7071\n",
      "disgust: Precision=0.5094, Recall=0.7500, F1=0.6067\n",
      "fear: Precision=0.0000, Recall=0.0000, F1=0.0000\n",
      "joy: Precision=0.8696, Recall=0.9302, F1=0.8989\n",
      "sadness: Precision=0.5714, Recall=0.6897, F1=0.6250\n",
      "surprise: Precision=0.1071, Recall=0.4286, F1=0.1714\n"
     ]
    }
   ],
   "source": [
    "precision, recall, f1, _ = precision_recall_fscore_support(\n",
    "    dev_labels, predictions, average=None\n",
    ")\n",
    "accuracy = accuracy_score(dev_labels, predictions)\n",
    "\n",
    "print(f'Accuracy: {accuracy:.4f}')\n",
    "for i, label in enumerate(emotion_labels):\n",
    "    print(f\"{label}: Precision={precision[i]:.4f}, Recall={recall[i]:.4f}, F1={f1[i]:.4f}\")"
   ]
  },
  {
   "cell_type": "code",
   "execution_count": 35,
   "metadata": {
    "execution": {
     "iopub.execute_input": "2025-01-23T15:24:37.680106Z",
     "iopub.status.busy": "2025-01-23T15:24:37.679809Z",
     "iopub.status.idle": "2025-01-23T15:25:03.040954Z",
     "shell.execute_reply": "2025-01-23T15:25:03.040260Z",
     "shell.execute_reply.started": "2025-01-23T15:24:37.680081Z"
    },
    "trusted": true
   },
   "outputs": [
    {
     "data": {
      "text/html": [],
      "text/plain": [
       "<IPython.core.display.HTML object>"
      ]
     },
     "metadata": {},
     "output_type": "display_data"
    }
   ],
   "source": [
    "test_encodings = tokenizer(list(test_swe['text']), truncation=True, padding=True, max_length=512, return_tensors=\"pt\")\n",
    "test_dataset = CustomDataset(test_encodings, np.zeros((len(test_swe), 6)))  # Dummy labels for test\n",
    "test_results = trainer.predict(test_dataset)\n",
    "test_predictions = (torch.sigmoid(torch.tensor(test_results.predictions)) > 0.1).numpy()\n",
    "\n",
    "test_swe[emotion_labels] = test_predictions\n",
    "test_swe.to_csv('test_predictions_swe_twitter_xlm_roberta_base_sentiment_v1.csv', index=False)"
   ]
  },
  {
   "cell_type": "markdown",
   "metadata": {},
   "source": [
    "# XLM RoBERTa Base"
   ]
  },
  {
   "cell_type": "code",
   "execution_count": null,
   "metadata": {
    "execution": {
     "iopub.execute_input": "2025-01-23T15:26:44.189431Z",
     "iopub.status.busy": "2025-01-23T15:26:44.189135Z",
     "iopub.status.idle": "2025-01-23T15:26:53.955013Z",
     "shell.execute_reply": "2025-01-23T15:26:53.954373Z",
     "shell.execute_reply.started": "2025-01-23T15:26:44.189406Z"
    },
    "trusted": true
   },
   "outputs": [
    {
     "data": {
      "application/vnd.jupyter.widget-view+json": {
       "model_id": "124cfa33c4f64762a1388a76fe495b41",
       "version_major": 2,
       "version_minor": 0
      },
      "text/plain": [
       "tokenizer_config.json:   0%|          | 0.00/25.0 [00:00<?, ?B/s]"
      ]
     },
     "metadata": {},
     "output_type": "display_data"
    },
    {
     "data": {
      "application/vnd.jupyter.widget-view+json": {
       "model_id": "b1394713bef34e4799ce635f773f7e07",
       "version_major": 2,
       "version_minor": 0
      },
      "text/plain": [
       "config.json:   0%|          | 0.00/615 [00:00<?, ?B/s]"
      ]
     },
     "metadata": {},
     "output_type": "display_data"
    },
    {
     "data": {
      "application/vnd.jupyter.widget-view+json": {
       "model_id": "18837d070c3740cfa24b15982770fe55",
       "version_major": 2,
       "version_minor": 0
      },
      "text/plain": [
       "sentencepiece.bpe.model:   0%|          | 0.00/5.07M [00:00<?, ?B/s]"
      ]
     },
     "metadata": {},
     "output_type": "display_data"
    },
    {
     "data": {
      "application/vnd.jupyter.widget-view+json": {
       "model_id": "001a3f1976604d3a9c54be9e1122be64",
       "version_major": 2,
       "version_minor": 0
      },
      "text/plain": [
       "tokenizer.json:   0%|          | 0.00/9.10M [00:00<?, ?B/s]"
      ]
     },
     "metadata": {},
     "output_type": "display_data"
    },
    {
     "data": {
      "application/vnd.jupyter.widget-view+json": {
       "model_id": "76708463113f4ca1b513bac21b08be90",
       "version_major": 2,
       "version_minor": 0
      },
      "text/plain": [
       "model.safetensors:   0%|          | 0.00/1.12G [00:00<?, ?B/s]"
      ]
     },
     "metadata": {},
     "output_type": "display_data"
    },
    {
     "name": "stderr",
     "output_type": "stream",
     "text": [
      "Some weights of XLMRobertaForSequenceClassification were not initialized from the model checkpoint at FacebookAI/xlm-roberta-base and are newly initialized: ['classifier.dense.bias', 'classifier.dense.weight', 'classifier.out_proj.bias', 'classifier.out_proj.weight']\n",
      "You should probably TRAIN this model on a down-stream task to be able to use it for predictions and inference.\n"
     ]
    }
   ],
   "source": [
    "tokenizer = AutoTokenizer.from_pretrained('FacebookAI/xlm-roberta-base')\n",
    "model = AutoModelForSequenceClassification.from_pretrained('FacebookAI/xlm-roberta-base',\n",
    "                                                           problem_type=\"multi_label_classification\",\n",
    "                                                           ignore_mismatched_sizes=True,\n",
    "                                                           num_labels=len(emotion_labels))"
   ]
  },
  {
   "cell_type": "code",
   "execution_count": null,
   "metadata": {
    "execution": {
     "iopub.execute_input": "2025-01-23T15:28:20.641925Z",
     "iopub.status.busy": "2025-01-23T15:28:20.641553Z",
     "iopub.status.idle": "2025-01-23T15:28:20.680678Z",
     "shell.execute_reply": "2025-01-23T15:28:20.680015Z",
     "shell.execute_reply.started": "2025-01-23T15:28:20.641893Z"
    },
    "trusted": true
   },
   "outputs": [
    {
     "name": "stderr",
     "output_type": "stream",
     "text": [
      "Using the `WANDB_DISABLED` environment variable is deprecated and will be removed in v5. Use the --report_to flag to control the integrations used for logging result (for instance --report_to none).\n"
     ]
    }
   ],
   "source": [
    "training_args = TrainingArguments(\n",
    "    output_dir='./results/swe/xlm-roberta-base-v1',\n",
    "    report_to=None,\n",
    "    evaluation_strategy=\"steps\",\n",
    "    save_total_limit = 1,\n",
    "    logging_strategy=\"epoch\",\n",
    "    load_best_model_at_end=True,\n",
    "    learning_rate=1e-5,\n",
    "    per_device_train_batch_size=8,\n",
    "    per_device_eval_batch_size=8,\n",
    "    num_train_epochs=100,\n",
    "    weight_decay=0.01,\n",
    "    metric_for_best_model = 'f1',\n",
    ")"
   ]
  },
  {
   "cell_type": "code",
   "execution_count": null,
   "metadata": {
    "execution": {
     "iopub.execute_input": "2025-01-23T15:28:23.200287Z",
     "iopub.status.busy": "2025-01-23T15:28:23.199999Z",
     "iopub.status.idle": "2025-01-23T15:28:23.604993Z",
     "shell.execute_reply": "2025-01-23T15:28:23.604295Z",
     "shell.execute_reply.started": "2025-01-23T15:28:23.200264Z"
    },
    "trusted": true
   },
   "outputs": [],
   "source": [
    "trainer = Trainer(\n",
    "    model=model,\n",
    "    args=training_args,\n",
    "    train_dataset=train_dataset,\n",
    "    eval_dataset=dev_dataset,\n",
    "    tokenizer=tokenizer,\n",
    "    compute_metrics=compute_metrics,\n",
    "    callbacks = [EarlyStoppingCallback(early_stopping_patience=3)]\n",
    ")"
   ]
  },
  {
   "cell_type": "code",
   "execution_count": 49,
   "metadata": {
    "execution": {
     "iopub.execute_input": "2025-01-23T15:28:27.492462Z",
     "iopub.status.busy": "2025-01-23T15:28:27.492156Z",
     "iopub.status.idle": "2025-01-23T16:31:59.476856Z",
     "shell.execute_reply": "2025-01-23T16:31:59.476139Z",
     "shell.execute_reply.started": "2025-01-23T15:28:27.492437Z"
    },
    "trusted": true
   },
   "outputs": [
    {
     "data": {
      "text/html": [
       "\n",
       "    <div>\n",
       "      \n",
       "      <progress value='3500' max='7500' style='width:300px; height:20px; vertical-align: middle;'></progress>\n",
       "      [3500/7500 1:03:30 < 1:12:37, 0.92 it/s, Epoch 46/100]\n",
       "    </div>\n",
       "    <table border=\"1\" class=\"dataframe\">\n",
       "  <thead>\n",
       " <tr style=\"text-align: left;\">\n",
       "      <th>Step</th>\n",
       "      <th>Training Loss</th>\n",
       "      <th>Validation Loss</th>\n",
       "      <th>Accuracy</th>\n",
       "      <th>F1</th>\n",
       "      <th>Precision</th>\n",
       "      <th>Recall</th>\n",
       "    </tr>\n",
       "  </thead>\n",
       "  <tbody>\n",
       "    <tr>\n",
       "      <td>500</td>\n",
       "      <td>0.207200</td>\n",
       "      <td>0.203541</td>\n",
       "      <td>0.685000</td>\n",
       "      <td>0.690570</td>\n",
       "      <td>0.769571</td>\n",
       "      <td>0.685279</td>\n",
       "    </tr>\n",
       "    <tr>\n",
       "      <td>1000</td>\n",
       "      <td>0.140700</td>\n",
       "      <td>0.213158</td>\n",
       "      <td>0.660000</td>\n",
       "      <td>0.714179</td>\n",
       "      <td>0.706424</td>\n",
       "      <td>0.730964</td>\n",
       "    </tr>\n",
       "    <tr>\n",
       "      <td>1500</td>\n",
       "      <td>0.088300</td>\n",
       "      <td>0.251137</td>\n",
       "      <td>0.635000</td>\n",
       "      <td>0.730355</td>\n",
       "      <td>0.732236</td>\n",
       "      <td>0.736041</td>\n",
       "    </tr>\n",
       "    <tr>\n",
       "      <td>2000</td>\n",
       "      <td>0.046100</td>\n",
       "      <td>0.269860</td>\n",
       "      <td>0.655000</td>\n",
       "      <td>0.752695</td>\n",
       "      <td>0.765364</td>\n",
       "      <td>0.756345</td>\n",
       "    </tr>\n",
       "    <tr>\n",
       "      <td>2500</td>\n",
       "      <td>0.025900</td>\n",
       "      <td>0.281863</td>\n",
       "      <td>0.645000</td>\n",
       "      <td>0.730264</td>\n",
       "      <td>0.728229</td>\n",
       "      <td>0.736041</td>\n",
       "    </tr>\n",
       "    <tr>\n",
       "      <td>3000</td>\n",
       "      <td>0.015000</td>\n",
       "      <td>0.312101</td>\n",
       "      <td>0.645000</td>\n",
       "      <td>0.746780</td>\n",
       "      <td>0.735891</td>\n",
       "      <td>0.761421</td>\n",
       "    </tr>\n",
       "    <tr>\n",
       "      <td>3500</td>\n",
       "      <td>0.008600</td>\n",
       "      <td>0.324642</td>\n",
       "      <td>0.625000</td>\n",
       "      <td>0.732996</td>\n",
       "      <td>0.715599</td>\n",
       "      <td>0.756345</td>\n",
       "    </tr>\n",
       "  </tbody>\n",
       "</table><p>"
      ],
      "text/plain": [
       "<IPython.core.display.HTML object>"
      ]
     },
     "metadata": {},
     "output_type": "display_data"
    }
   ],
   "source": [
    "with mock.patch('wandb.init', return_value=Dummy()):\n",
    "    trainer.train()"
   ]
  },
  {
   "cell_type": "code",
   "execution_count": 50,
   "metadata": {
    "execution": {
     "iopub.execute_input": "2025-01-23T16:35:39.379868Z",
     "iopub.status.busy": "2025-01-23T16:35:39.379491Z",
     "iopub.status.idle": "2025-01-23T16:35:43.644396Z",
     "shell.execute_reply": "2025-01-23T16:35:43.643746Z",
     "shell.execute_reply.started": "2025-01-23T16:35:39.379836Z"
    },
    "trusted": true
   },
   "outputs": [
    {
     "data": {
      "text/html": [],
      "text/plain": [
       "<IPython.core.display.HTML object>"
      ]
     },
     "metadata": {},
     "output_type": "display_data"
    },
    {
     "name": "stdout",
     "output_type": "stream",
     "text": [
      "metrics: {'accuracy': 0.605, 'f1': 0.7531779083144279, 'precision': 0.6839985969413954, 'recall': 0.8527918781725888}\n",
      "metrics: {'accuracy': 0.625, 'f1': 0.7643525409534486, 'precision': 0.7237871488530336, 'recall': 0.8223350253807107}\n",
      "metrics: {'accuracy': 0.645, 'f1': 0.7524886588139856, 'precision': 0.7262420819846724, 'recall': 0.7918781725888325}\n",
      "metrics: {'accuracy': 0.645, 'f1': 0.7593499432933719, 'precision': 0.7505564232721593, 'recall': 0.7817258883248731}\n",
      "metrics: {'accuracy': 0.655, 'f1': 0.7526947685092945, 'precision': 0.765363707707134, 'recall': 0.7563451776649747}\n",
      "metrics: {'accuracy': 0.65, 'f1': 0.7355611957134799, 'precision': 0.767706067198453, 'recall': 0.7208121827411168}\n",
      "metrics: {'accuracy': 0.65, 'f1': 0.7168082672083361, 'precision': 0.7658601779131894, 'recall': 0.6802030456852792}\n",
      "metrics: {'accuracy': 0.64, 'f1': 0.6913299250539762, 'precision': 0.7597527071571468, 'recall': 0.6395939086294417}\n",
      "metrics: {'accuracy': 0.615, 'f1': 0.652830433480362, 'precision': 0.7645729532982363, 'recall': 0.583756345177665}\n",
      "----------------------------------------------\n",
      "Best Threshold: 0.2, Best F1-Score: 0.7644\n",
      "***********************************************\n",
      "Metrics with Best Threshold: {'accuracy': 0.625, 'f1': 0.7643525409534486, 'precision': 0.7237871488530336, 'recall': 0.8223350253807107}\n",
      "Optimal Threshold: 0.2\n",
      "Final Metrics: {'accuracy': 0.625, 'f1': 0.7643525409534486, 'precision': 0.7237871488530336, 'recall': 0.8223350253807107}\n"
     ]
    }
   ],
   "source": [
    "best_threshold, final_metrics = evaluate_on_validation_set(trainer)\n",
    "print(f\"Optimal Threshold: {best_threshold}\")\n",
    "print(f\"Final Metrics: {final_metrics}\")"
   ]
  },
  {
   "cell_type": "code",
   "execution_count": null,
   "metadata": {
    "execution": {
     "iopub.execute_input": "2025-01-23T16:35:52.894158Z",
     "iopub.status.busy": "2025-01-23T16:35:52.893876Z",
     "iopub.status.idle": "2025-01-23T16:35:57.194704Z",
     "shell.execute_reply": "2025-01-23T16:35:57.194047Z",
     "shell.execute_reply.started": "2025-01-23T16:35:52.894136Z"
    },
    "trusted": true
   },
   "outputs": [
    {
     "data": {
      "text/html": [],
      "text/plain": [
       "<IPython.core.display.HTML object>"
      ]
     },
     "metadata": {},
     "output_type": "display_data"
    }
   ],
   "source": [
    "dev_results = trainer.predict(dev_dataset)\n",
    "\n",
    "predictions = (torch.sigmoid(torch.tensor(dev_results.predictions)) > 0.2).numpy()\n",
    "conf_matrix = confusion_matrix(dev_labels.ravel(), predictions.ravel())"
   ]
  },
  {
   "cell_type": "code",
   "execution_count": 52,
   "metadata": {
    "execution": {
     "iopub.execute_input": "2025-01-23T16:35:58.999808Z",
     "iopub.status.busy": "2025-01-23T16:35:58.999490Z",
     "iopub.status.idle": "2025-01-23T16:35:59.172729Z",
     "shell.execute_reply": "2025-01-23T16:35:59.172004Z",
     "shell.execute_reply.started": "2025-01-23T16:35:58.999781Z"
    },
    "trusted": true
   },
   "outputs": [
    {
     "data": {
      "image/png": "[encoded data removed]",
      "text/plain": [
       "<Figure size 640x480 with 2 Axes>"
      ]
     },
     "metadata": {},
     "output_type": "display_data"
    }
   ],
   "source": [
    "disp = ConfusionMatrixDisplay(confusion_matrix=conf_matrix)\n",
    "disp.plot(cmap=plt.cm.Blues)\n",
    "plt.title('Confusion Matrix')\n",
    "plt.show()"
   ]
  },
  {
   "cell_type": "code",
   "execution_count": null,
   "metadata": {
    "execution": {
     "iopub.execute_input": "2025-01-23T16:36:03.964651Z",
     "iopub.status.busy": "2025-01-23T16:36:03.964281Z",
     "iopub.status.idle": "2025-01-23T16:36:04.141959Z",
     "shell.execute_reply": "2025-01-23T16:36:04.140941Z",
     "shell.execute_reply.started": "2025-01-23T16:36:03.964606Z"
    },
    "trusted": true
   },
   "outputs": [
    {
     "data": {
      "image/png": "[encoded data removed]",
      "text/plain": [
       "<Figure size 640x480 with 1 Axes>"
      ]
     },
     "metadata": {},
     "output_type": "display_data"
    }
   ],
   "source": [
    "fpr, tpr, _ = roc_curve(dev_labels.ravel(), dev_results.predictions.ravel())\n",
    "roc_auc = auc(fpr, tpr)\n",
    "\n",
    "plt.figure()\n",
    "plt.plot(fpr, tpr, color='blue', lw=2, label=f'ROC curve (AUC = {roc_auc:.2f})')\n",
    "plt.plot([0, 1], [0, 1], color='gray', lw=2, linestyle='--')\n",
    "plt.xlabel('False Positive Rate')\n",
    "plt.ylabel('True Positive Rate')\n",
    "plt.title('Receiver Operating Characteristic')\n",
    "plt.legend(loc='lower right')\n",
    "plt.show()"
   ]
  },
  {
   "cell_type": "code",
   "execution_count": null,
   "metadata": {
    "execution": {
     "iopub.execute_input": "2025-01-23T16:36:07.413662Z",
     "iopub.status.busy": "2025-01-23T16:36:07.413329Z",
     "iopub.status.idle": "2025-01-23T16:36:07.423630Z",
     "shell.execute_reply": "2025-01-23T16:36:07.422918Z",
     "shell.execute_reply.started": "2025-01-23T16:36:07.413630Z"
    },
    "trusted": true
   },
   "outputs": [
    {
     "name": "stdout",
     "output_type": "stream",
     "text": [
      "Accuracy: 0.6250\n",
      "anger: Precision=0.6604, Recall=0.9211, F1=0.7692\n",
      "disgust: Precision=0.7097, Recall=0.6111, F1=0.6567\n",
      "fear: Precision=0.0000, Recall=0.0000, F1=0.0000\n",
      "joy: Precision=0.8817, Recall=0.9535, F1=0.9162\n",
      "sadness: Precision=0.5000, Recall=0.6897, F1=0.5797\n",
      "surprise: Precision=0.2308, Recall=0.4286, F1=0.3000\n"
     ]
    }
   ],
   "source": [
    "precision, recall, f1, _ = precision_recall_fscore_support(\n",
    "    dev_labels, predictions, average=None\n",
    ")\n",
    "accuracy = accuracy_score(dev_labels, predictions)\n",
    "\n",
    "print(f'Accuracy: {accuracy:.4f}')\n",
    "for i, label in enumerate(emotion_labels):\n",
    "    print(f\"{label}: Precision={precision[i]:.4f}, Recall={recall[i]:.4f}, F1={f1[i]:.4f}\")"
   ]
  },
  {
   "cell_type": "code",
   "execution_count": 55,
   "metadata": {
    "execution": {
     "iopub.execute_input": "2025-01-23T16:36:33.836067Z",
     "iopub.status.busy": "2025-01-23T16:36:33.835778Z",
     "iopub.status.idle": "2025-01-23T16:36:59.589665Z",
     "shell.execute_reply": "2025-01-23T16:36:59.588843Z",
     "shell.execute_reply.started": "2025-01-23T16:36:33.836044Z"
    },
    "trusted": true
   },
   "outputs": [
    {
     "data": {
      "text/html": [],
      "text/plain": [
       "<IPython.core.display.HTML object>"
      ]
     },
     "metadata": {},
     "output_type": "display_data"
    }
   ],
   "source": [
    "test_encodings = tokenizer(list(test_swe['text']), truncation=True, padding=True, max_length=512, return_tensors=\"pt\")\n",
    "test_dataset = CustomDataset(test_encodings, np.zeros((len(test_swe), 6)))  # Dummy labels for test\n",
    "test_results = trainer.predict(test_dataset)\n",
    "test_predictions = (torch.sigmoid(torch.tensor(test_results.predictions)) > 0.2).numpy()\n",
    "\n",
    "test_swe[emotion_labels] = test_predictions\n",
    "test_swe.to_csv('test_predictions_swe_xlm_roberta_base_v1.csv', index=False)"
   ]
  },
  {
   "cell_type": "markdown",
   "metadata": {},
   "source": [
    "# Robust Swedish Sentiment Multiclass\n",
    "Out of Memory..."
   ]
  },
  {
   "cell_type": "code",
   "execution_count": null,
   "metadata": {
    "execution": {
     "iopub.execute_input": "2025-01-23T16:41:50.594416Z",
     "iopub.status.busy": "2025-01-23T16:41:50.594082Z",
     "iopub.status.idle": "2025-01-23T16:42:05.448686Z",
     "shell.execute_reply": "2025-01-23T16:42:05.447796Z",
     "shell.execute_reply.started": "2025-01-23T16:41:50.594386Z"
    },
    "trusted": true
   },
   "outputs": [
    {
     "data": {
      "application/vnd.jupyter.widget-view+json": {
       "model_id": "8e495ccf9f6a4f2da4192a58586bf875",
       "version_major": 2,
       "version_minor": 0
      },
      "text/plain": [
       "tokenizer_config.json:   0%|          | 0.00/231 [00:00<?, ?B/s]"
      ]
     },
     "metadata": {},
     "output_type": "display_data"
    },
    {
     "data": {
      "application/vnd.jupyter.widget-view+json": {
       "model_id": "99004f404a414086867c699a622f1dbb",
       "version_major": 2,
       "version_minor": 0
      },
      "text/plain": [
       "tokenizer.json:   0%|          | 0.00/1.42M [00:00<?, ?B/s]"
      ]
     },
     "metadata": {},
     "output_type": "display_data"
    },
    {
     "data": {
      "application/vnd.jupyter.widget-view+json": {
       "model_id": "201b70f8313348b7b43ad15bbdde5cf3",
       "version_major": 2,
       "version_minor": 0
      },
      "text/plain": [
       "special_tokens_map.json:   0%|          | 0.00/173 [00:00<?, ?B/s]"
      ]
     },
     "metadata": {},
     "output_type": "display_data"
    },
    {
     "data": {
      "application/vnd.jupyter.widget-view+json": {
       "model_id": "df022e3159404946b70eac49e9b82bf3",
       "version_major": 2,
       "version_minor": 0
      },
      "text/plain": [
       "config.json:   0%|          | 0.00/906 [00:00<?, ?B/s]"
      ]
     },
     "metadata": {},
     "output_type": "display_data"
    },
    {
     "data": {
      "application/vnd.jupyter.widget-view+json": {
       "model_id": "f44b5a9ee67a42758f3c06583343f7e7",
       "version_major": 2,
       "version_minor": 0
      },
      "text/plain": [
       "model.safetensors:   0%|          | 0.00/1.48G [00:00<?, ?B/s]"
      ]
     },
     "metadata": {},
     "output_type": "display_data"
    },
    {
     "name": "stderr",
     "output_type": "stream",
     "text": [
      "Some weights of MegatronBertForSequenceClassification were not initialized from the model checkpoint at KBLab/robust-swedish-sentiment-multiclass and are newly initialized because the shapes did not match:\n",
      "- classifier.bias: found shape torch.Size([3]) in the checkpoint and torch.Size([6]) in the model instantiated\n",
      "- classifier.weight: found shape torch.Size([3, 1024]) in the checkpoint and torch.Size([6, 1024]) in the model instantiated\n",
      "You should probably TRAIN this model on a down-stream task to be able to use it for predictions and inference.\n"
     ]
    }
   ],
   "source": [
    "tokenizer = AutoTokenizer.from_pretrained('KBLab/robust-swedish-sentiment-multiclass')\n",
    "model = AutoModelForSequenceClassification.from_pretrained('KBLab/robust-swedish-sentiment-multiclass',\n",
    "                                                           problem_type=\"multi_label_classification\",\n",
    "                                                           ignore_mismatched_sizes=True,\n",
    "                                                           num_labels=len(emotion_labels))"
   ]
  },
  {
   "cell_type": "code",
   "execution_count": 68,
   "metadata": {
    "execution": {
     "iopub.execute_input": "2025-01-23T16:46:39.700847Z",
     "iopub.status.busy": "2025-01-23T16:46:39.700487Z",
     "iopub.status.idle": "2025-01-23T16:46:39.747195Z",
     "shell.execute_reply": "2025-01-23T16:46:39.746319Z",
     "shell.execute_reply.started": "2025-01-23T16:46:39.700815Z"
    },
    "trusted": true
   },
   "outputs": [
    {
     "name": "stderr",
     "output_type": "stream",
     "text": [
      "Using the `WANDB_DISABLED` environment variable is deprecated and will be removed in v5. Use the --report_to flag to control the integrations used for logging result (for instance --report_to none).\n"
     ]
    }
   ],
   "source": [
    "training_args = TrainingArguments(\n",
    "    output_dir='./results/swe/robust-swedish-sentiment-mc-v1',\n",
    "    report_to=None,\n",
    "    evaluation_strategy=\"steps\",\n",
    "    save_total_limit = 1,\n",
    "    logging_strategy=\"epoch\",\n",
    "    load_best_model_at_end=True,\n",
    "    learning_rate=1e-5,\n",
    "    per_device_train_batch_size=8,\n",
    "    per_device_eval_batch_size=8,\n",
    "    num_train_epochs=100,\n",
    "    weight_decay=0.01,\n",
    "    metric_for_best_model = 'f1',\n",
    ")"
   ]
  },
  {
   "cell_type": "code",
   "execution_count": 69,
   "metadata": {
    "execution": {
     "iopub.execute_input": "2025-01-23T16:46:41.545287Z",
     "iopub.status.busy": "2025-01-23T16:46:41.544976Z",
     "iopub.status.idle": "2025-01-23T16:46:42.057295Z",
     "shell.execute_reply": "2025-01-23T16:46:42.056377Z",
     "shell.execute_reply.started": "2025-01-23T16:46:41.545257Z"
    },
    "trusted": true
   },
   "outputs": [],
   "source": [
    "trainer = Trainer(\n",
    "    model=model,\n",
    "    args=training_args,\n",
    "    train_dataset=train_dataset,\n",
    "    eval_dataset=dev_dataset,\n",
    "    tokenizer=tokenizer,\n",
    "    compute_metrics=compute_metrics,\n",
    "    callbacks = [EarlyStoppingCallback(early_stopping_patience=3)]\n",
    ")"
   ]
  },
  {
   "cell_type": "code",
   "execution_count": 70,
   "metadata": {
    "execution": {
     "iopub.execute_input": "2025-01-23T16:46:43.392461Z",
     "iopub.status.busy": "2025-01-23T16:46:43.392126Z",
     "iopub.status.idle": "2025-01-23T16:46:48.406865Z",
     "shell.execute_reply": "2025-01-23T16:46:48.405561Z",
     "shell.execute_reply.started": "2025-01-23T16:46:43.392430Z"
    },
    "trusted": true
   },
   "outputs": [
    {
     "data": {
      "text/html": [
       "\n",
       "    <div>\n",
       "      \n",
       "      <progress value='2' max='7500' style='width:300px; height:20px; vertical-align: middle;'></progress>\n",
       "      [   2/7500 : < :, Epoch 0.01/100]\n",
       "    </div>\n",
       "    <table border=\"1\" class=\"dataframe\">\n",
       "  <thead>\n",
       " <tr style=\"text-align: left;\">\n",
       "      <th>Step</th>\n",
       "      <th>Training Loss</th>\n",
       "      <th>Validation Loss</th>\n",
       "    </tr>\n",
       "  </thead>\n",
       "  <tbody>\n",
       "  </tbody>\n",
       "</table><p>"
      ],
      "text/plain": [
       "<IPython.core.display.HTML object>"
      ]
     },
     "metadata": {},
     "output_type": "display_data"
    },
    {
     "ename": "OutOfMemoryError",
     "evalue": "Caught OutOfMemoryError in replica 0 on device 0.\nOriginal Traceback (most recent call last):\n  File \"/usr/local/lib/python3.10/dist-packages/torch/nn/parallel/parallel_apply.py\", line 96, in _worker\n    output = module(*input, **kwargs)\n  File \"/usr/local/lib/python3.10/dist-packages/torch/nn/modules/module.py\", line 1736, in _wrapped_call_impl\n    return self._call_impl(*args, **kwargs)\n  File \"/usr/local/lib/python3.10/dist-packages/torch/nn/modules/module.py\", line 1747, in _call_impl\n    return forward_call(*args, **kwargs)\n  File \"/usr/local/lib/python3.10/dist-packages/transformers/models/megatron_bert/modeling_megatron_bert.py\", line 1500, in forward\n    outputs = self.bert(\n  File \"/usr/local/lib/python3.10/dist-packages/torch/nn/modules/module.py\", line 1736, in _wrapped_call_impl\n    return self._call_impl(*args, **kwargs)\n  File \"/usr/local/lib/python3.10/dist-packages/torch/nn/modules/module.py\", line 1747, in _call_impl\n    return forward_call(*args, **kwargs)\n  File \"/usr/local/lib/python3.10/dist-packages/transformers/models/megatron_bert/modeling_megatron_bert.py\", line 972, in forward\n    encoder_outputs = self.encoder(\n  File \"/usr/local/lib/python3.10/dist-packages/torch/nn/modules/module.py\", line 1736, in _wrapped_call_impl\n    return self._call_impl(*args, **kwargs)\n  File \"/usr/local/lib/python3.10/dist-packages/torch/nn/modules/module.py\", line 1747, in _call_impl\n    return forward_call(*args, **kwargs)\n  File \"/usr/local/lib/python3.10/dist-packages/transformers/models/megatron_bert/modeling_megatron_bert.py\", line 560, in forward\n    layer_outputs = layer_module(\n  File \"/usr/local/lib/python3.10/dist-packages/torch/nn/modules/module.py\", line 1736, in _wrapped_call_impl\n    return self._call_impl(*args, **kwargs)\n  File \"/usr/local/lib/python3.10/dist-packages/torch/nn/modules/module.py\", line 1747, in _call_impl\n    return forward_call(*args, **kwargs)\n  File \"/usr/local/lib/python3.10/dist-packages/transformers/models/megatron_bert/modeling_megatron_bert.py\", line 446, in forward\n    self_attention_outputs = self.attention(\n  File \"/usr/local/lib/python3.10/dist-packages/torch/nn/modules/module.py\", line 1736, in _wrapped_call_impl\n    return self._call_impl(*args, **kwargs)\n  File \"/usr/local/lib/python3.10/dist-packages/torch/nn/modules/module.py\", line 1747, in _call_impl\n    return forward_call(*args, **kwargs)\n  File \"/usr/local/lib/python3.10/dist-packages/transformers/models/megatron_bert/modeling_megatron_bert.py\", line 374, in forward\n    self_outputs = self.self(\n  File \"/usr/local/lib/python3.10/dist-packages/torch/nn/modules/module.py\", line 1736, in _wrapped_call_impl\n    return self._call_impl(*args, **kwargs)\n  File \"/usr/local/lib/python3.10/dist-packages/torch/nn/modules/module.py\", line 1747, in _call_impl\n    return forward_call(*args, **kwargs)\n  File \"/usr/local/lib/python3.10/dist-packages/transformers/models/megatron_bert/modeling_megatron_bert.py\", line 310, in forward\n    context_layer = torch.matmul(attention_probs, value_layer)\ntorch.OutOfMemoryError: CUDA out of memory. Tried to allocate 16.00 MiB. GPU 0 has a total capacity of 14.74 GiB of which 4.12 MiB is free. Process 2236 has 14.73 GiB memory in use. Of the allocated memory 14.39 GiB is allocated by PyTorch, and 150.44 MiB is reserved by PyTorch but unallocated. If reserved but unallocated memory is large try setting PYTORCH_CUDA_ALLOC_CONF=expandable_segments:True to avoid fragmentation.  See documentation for Memory Management  (https://pytorch.org/docs/stable/notes/cuda.html#environment-variables)\n",
     "output_type": "error",
     "traceback": [
      "\u001b[0;31m---------------------------------------------------------------------------\u001b[0m",
      "\u001b[0;31mOutOfMemoryError\u001b[0m                          Traceback (most recent call last)",
      "\u001b[0;32m<ipython-input-70-2f22817f729f>\u001b[0m in \u001b[0;36m<cell line: 1>\u001b[0;34m()\u001b[0m\n\u001b[1;32m      1\u001b[0m \u001b[0;32mwith\u001b[0m \u001b[0mmock\u001b[0m\u001b[0;34m.\u001b[0m\u001b[0mpatch\u001b[0m\u001b[0;34m(\u001b[0m\u001b[0;34m'wandb.init'\u001b[0m\u001b[0;34m,\u001b[0m \u001b[0mreturn_value\u001b[0m\u001b[0;34m=\u001b[0m\u001b[0mDummy\u001b[0m\u001b[0;34m(\u001b[0m\u001b[0;34m)\u001b[0m\u001b[0;34m)\u001b[0m\u001b[0;34m:\u001b[0m\u001b[0;34m\u001b[0m\u001b[0;34m\u001b[0m\u001b[0m\n\u001b[0;32m----> 2\u001b[0;31m     \u001b[0mtrainer\u001b[0m\u001b[0;34m.\u001b[0m\u001b[0mtrain\u001b[0m\u001b[0;34m(\u001b[0m\u001b[0;34m)\u001b[0m\u001b[0;34m\u001b[0m\u001b[0;34m\u001b[0m\u001b[0m\n\u001b[0m",
      "\u001b[0;32m/usr/local/lib/python3.10/dist-packages/transformers/trainer.py\u001b[0m in \u001b[0;36mtrain\u001b[0;34m(self, resume_from_checkpoint, trial, ignore_keys_for_eval, **kwargs)\u001b[0m\n\u001b[1;32m   2162\u001b[0m                 \u001b[0mhf_hub_utils\u001b[0m\u001b[0;34m.\u001b[0m\u001b[0menable_progress_bars\u001b[0m\u001b[0;34m(\u001b[0m\u001b[0;34m)\u001b[0m\u001b[0;34m\u001b[0m\u001b[0;34m\u001b[0m\u001b[0m\n\u001b[1;32m   2163\u001b[0m         \u001b[0;32melse\u001b[0m\u001b[0;34m:\u001b[0m\u001b[0;34m\u001b[0m\u001b[0;34m\u001b[0m\u001b[0m\n\u001b[0;32m-> 2164\u001b[0;31m             return inner_training_loop(\n\u001b[0m\u001b[1;32m   2165\u001b[0m                 \u001b[0margs\u001b[0m\u001b[0;34m=\u001b[0m\u001b[0margs\u001b[0m\u001b[0;34m,\u001b[0m\u001b[0;34m\u001b[0m\u001b[0;34m\u001b[0m\u001b[0m\n\u001b[1;32m   2166\u001b[0m                 \u001b[0mresume_from_checkpoint\u001b[0m\u001b[0;34m=\u001b[0m\u001b[0mresume_from_checkpoint\u001b[0m\u001b[0;34m,\u001b[0m\u001b[0;34m\u001b[0m\u001b[0;34m\u001b[0m\u001b[0m\n",
      "\u001b[0;32m/usr/local/lib/python3.10/dist-packages/transformers/trainer.py\u001b[0m in \u001b[0;36m_inner_training_loop\u001b[0;34m(self, batch_size, args, resume_from_checkpoint, trial, ignore_keys_for_eval)\u001b[0m\n\u001b[1;32m   2520\u001b[0m                     )\n\u001b[1;32m   2521\u001b[0m                     \u001b[0;32mwith\u001b[0m \u001b[0mcontext\u001b[0m\u001b[0;34m(\u001b[0m\u001b[0;34m)\u001b[0m\u001b[0;34m:\u001b[0m\u001b[0;34m\u001b[0m\u001b[0;34m\u001b[0m\u001b[0m\n\u001b[0;32m-> 2522\u001b[0;31m                         \u001b[0mtr_loss_step\u001b[0m \u001b[0;34m=\u001b[0m \u001b[0mself\u001b[0m\u001b[0;34m.\u001b[0m\u001b[0mtraining_step\u001b[0m\u001b[0;34m(\u001b[0m\u001b[0mmodel\u001b[0m\u001b[0;34m,\u001b[0m \u001b[0minputs\u001b[0m\u001b[0;34m,\u001b[0m \u001b[0mnum_items_in_batch\u001b[0m\u001b[0;34m)\u001b[0m\u001b[0;34m\u001b[0m\u001b[0;34m\u001b[0m\u001b[0m\n\u001b[0m\u001b[1;32m   2523\u001b[0m \u001b[0;34m\u001b[0m\u001b[0m\n\u001b[1;32m   2524\u001b[0m                     if (\n",
      "\u001b[0;32m/usr/local/lib/python3.10/dist-packages/transformers/trainer.py\u001b[0m in \u001b[0;36mtraining_step\u001b[0;34m(self, model, inputs, num_items_in_batch)\u001b[0m\n\u001b[1;32m   3653\u001b[0m                 \u001b[0mloss\u001b[0m \u001b[0;34m=\u001b[0m \u001b[0mself\u001b[0m\u001b[0;34m.\u001b[0m\u001b[0mcompute_loss\u001b[0m\u001b[0;34m(\u001b[0m\u001b[0mmodel\u001b[0m\u001b[0;34m,\u001b[0m \u001b[0minputs\u001b[0m\u001b[0;34m)\u001b[0m\u001b[0;34m\u001b[0m\u001b[0;34m\u001b[0m\u001b[0m\n\u001b[1;32m   3654\u001b[0m             \u001b[0;32melse\u001b[0m\u001b[0;34m:\u001b[0m\u001b[0;34m\u001b[0m\u001b[0;34m\u001b[0m\u001b[0m\n\u001b[0;32m-> 3655\u001b[0;31m                 \u001b[0mloss\u001b[0m \u001b[0;34m=\u001b[0m \u001b[0mself\u001b[0m\u001b[0;34m.\u001b[0m\u001b[0mcompute_loss\u001b[0m\u001b[0;34m(\u001b[0m\u001b[0mmodel\u001b[0m\u001b[0;34m,\u001b[0m \u001b[0minputs\u001b[0m\u001b[0;34m,\u001b[0m \u001b[0mnum_items_in_batch\u001b[0m\u001b[0;34m=\u001b[0m\u001b[0mnum_items_in_batch\u001b[0m\u001b[0;34m)\u001b[0m\u001b[0;34m\u001b[0m\u001b[0;34m\u001b[0m\u001b[0m\n\u001b[0m\u001b[1;32m   3656\u001b[0m \u001b[0;34m\u001b[0m\u001b[0m\n\u001b[1;32m   3657\u001b[0m         \u001b[0;32mdel\u001b[0m \u001b[0minputs\u001b[0m\u001b[0;34m\u001b[0m\u001b[0;34m\u001b[0m\u001b[0m\n",
      "\u001b[0;32m/usr/local/lib/python3.10/dist-packages/transformers/trainer.py\u001b[0m in \u001b[0;36mcompute_loss\u001b[0;34m(self, model, inputs, return_outputs, num_items_in_batch)\u001b[0m\n\u001b[1;32m   3707\u001b[0m                 \u001b[0mloss_kwargs\u001b[0m\u001b[0;34m[\u001b[0m\u001b[0;34m\"num_items_in_batch\"\u001b[0m\u001b[0;34m]\u001b[0m \u001b[0;34m=\u001b[0m \u001b[0mnum_items_in_batch\u001b[0m\u001b[0;34m\u001b[0m\u001b[0;34m\u001b[0m\u001b[0m\n\u001b[1;32m   3708\u001b[0m             \u001b[0minputs\u001b[0m \u001b[0;34m=\u001b[0m \u001b[0;34m{\u001b[0m\u001b[0;34m**\u001b[0m\u001b[0minputs\u001b[0m\u001b[0;34m,\u001b[0m \u001b[0;34m**\u001b[0m\u001b[0mloss_kwargs\u001b[0m\u001b[0;34m}\u001b[0m\u001b[0;34m\u001b[0m\u001b[0;34m\u001b[0m\u001b[0m\n\u001b[0;32m-> 3709\u001b[0;31m         \u001b[0moutputs\u001b[0m \u001b[0;34m=\u001b[0m \u001b[0mmodel\u001b[0m\u001b[0;34m(\u001b[0m\u001b[0;34m**\u001b[0m\u001b[0minputs\u001b[0m\u001b[0;34m)\u001b[0m\u001b[0;34m\u001b[0m\u001b[0;34m\u001b[0m\u001b[0m\n\u001b[0m\u001b[1;32m   3710\u001b[0m         \u001b[0;31m# Save past state if it exists\u001b[0m\u001b[0;34m\u001b[0m\u001b[0;34m\u001b[0m\u001b[0m\n\u001b[1;32m   3711\u001b[0m         \u001b[0;31m# TODO: this needs to be fixed and made cleaner later.\u001b[0m\u001b[0;34m\u001b[0m\u001b[0;34m\u001b[0m\u001b[0m\n",
      "\u001b[0;32m/usr/local/lib/python3.10/dist-packages/torch/nn/modules/module.py\u001b[0m in \u001b[0;36m_wrapped_call_impl\u001b[0;34m(self, *args, **kwargs)\u001b[0m\n\u001b[1;32m   1734\u001b[0m             \u001b[0;32mreturn\u001b[0m \u001b[0mself\u001b[0m\u001b[0;34m.\u001b[0m\u001b[0m_compiled_call_impl\u001b[0m\u001b[0;34m(\u001b[0m\u001b[0;34m*\u001b[0m\u001b[0margs\u001b[0m\u001b[0;34m,\u001b[0m \u001b[0;34m**\u001b[0m\u001b[0mkwargs\u001b[0m\u001b[0;34m)\u001b[0m  \u001b[0;31m# type: ignore[misc]\u001b[0m\u001b[0;34m\u001b[0m\u001b[0;34m\u001b[0m\u001b[0m\n\u001b[1;32m   1735\u001b[0m         \u001b[0;32melse\u001b[0m\u001b[0;34m:\u001b[0m\u001b[0;34m\u001b[0m\u001b[0;34m\u001b[0m\u001b[0m\n\u001b[0;32m-> 1736\u001b[0;31m             \u001b[0;32mreturn\u001b[0m \u001b[0mself\u001b[0m\u001b[0;34m.\u001b[0m\u001b[0m_call_impl\u001b[0m\u001b[0;34m(\u001b[0m\u001b[0;34m*\u001b[0m\u001b[0margs\u001b[0m\u001b[0;34m,\u001b[0m \u001b[0;34m**\u001b[0m\u001b[0mkwargs\u001b[0m\u001b[0;34m)\u001b[0m\u001b[0;34m\u001b[0m\u001b[0;34m\u001b[0m\u001b[0m\n\u001b[0m\u001b[1;32m   1737\u001b[0m \u001b[0;34m\u001b[0m\u001b[0m\n\u001b[1;32m   1738\u001b[0m     \u001b[0;31m# torchrec tests the code consistency with the following code\u001b[0m\u001b[0;34m\u001b[0m\u001b[0;34m\u001b[0m\u001b[0m\n",
      "\u001b[0;32m/usr/local/lib/python3.10/dist-packages/torch/nn/modules/module.py\u001b[0m in \u001b[0;36m_call_impl\u001b[0;34m(self, *args, **kwargs)\u001b[0m\n\u001b[1;32m   1745\u001b[0m                 \u001b[0;32mor\u001b[0m \u001b[0m_global_backward_pre_hooks\u001b[0m \u001b[0;32mor\u001b[0m \u001b[0m_global_backward_hooks\u001b[0m\u001b[0;34m\u001b[0m\u001b[0;34m\u001b[0m\u001b[0m\n\u001b[1;32m   1746\u001b[0m                 or _global_forward_hooks or _global_forward_pre_hooks):\n\u001b[0;32m-> 1747\u001b[0;31m             \u001b[0;32mreturn\u001b[0m \u001b[0mforward_call\u001b[0m\u001b[0;34m(\u001b[0m\u001b[0;34m*\u001b[0m\u001b[0margs\u001b[0m\u001b[0;34m,\u001b[0m \u001b[0;34m**\u001b[0m\u001b[0mkwargs\u001b[0m\u001b[0;34m)\u001b[0m\u001b[0;34m\u001b[0m\u001b[0;34m\u001b[0m\u001b[0m\n\u001b[0m\u001b[1;32m   1748\u001b[0m \u001b[0;34m\u001b[0m\u001b[0m\n\u001b[1;32m   1749\u001b[0m         \u001b[0mresult\u001b[0m \u001b[0;34m=\u001b[0m \u001b[0;32mNone\u001b[0m\u001b[0;34m\u001b[0m\u001b[0;34m\u001b[0m\u001b[0m\n",
      "\u001b[0;32m/usr/local/lib/python3.10/dist-packages/torch/nn/parallel/data_parallel.py\u001b[0m in \u001b[0;36mforward\u001b[0;34m(self, *inputs, **kwargs)\u001b[0m\n\u001b[1;32m    191\u001b[0m                 \u001b[0;32mreturn\u001b[0m \u001b[0mself\u001b[0m\u001b[0;34m.\u001b[0m\u001b[0mmodule\u001b[0m\u001b[0;34m(\u001b[0m\u001b[0;34m*\u001b[0m\u001b[0minputs\u001b[0m\u001b[0;34m[\u001b[0m\u001b[0;36m0\u001b[0m\u001b[0;34m]\u001b[0m\u001b[0;34m,\u001b[0m \u001b[0;34m**\u001b[0m\u001b[0mmodule_kwargs\u001b[0m\u001b[0;34m[\u001b[0m\u001b[0;36m0\u001b[0m\u001b[0;34m]\u001b[0m\u001b[0;34m)\u001b[0m\u001b[0;34m\u001b[0m\u001b[0;34m\u001b[0m\u001b[0m\n\u001b[1;32m    192\u001b[0m             \u001b[0mreplicas\u001b[0m \u001b[0;34m=\u001b[0m \u001b[0mself\u001b[0m\u001b[0;34m.\u001b[0m\u001b[0mreplicate\u001b[0m\u001b[0;34m(\u001b[0m\u001b[0mself\u001b[0m\u001b[0;34m.\u001b[0m\u001b[0mmodule\u001b[0m\u001b[0;34m,\u001b[0m \u001b[0mself\u001b[0m\u001b[0;34m.\u001b[0m\u001b[0mdevice_ids\u001b[0m\u001b[0;34m[\u001b[0m\u001b[0;34m:\u001b[0m \u001b[0mlen\u001b[0m\u001b[0;34m(\u001b[0m\u001b[0minputs\u001b[0m\u001b[0;34m)\u001b[0m\u001b[0;34m]\u001b[0m\u001b[0;34m)\u001b[0m\u001b[0;34m\u001b[0m\u001b[0;34m\u001b[0m\u001b[0m\n\u001b[0;32m--> 193\u001b[0;31m             \u001b[0moutputs\u001b[0m \u001b[0;34m=\u001b[0m \u001b[0mself\u001b[0m\u001b[0;34m.\u001b[0m\u001b[0mparallel_apply\u001b[0m\u001b[0;34m(\u001b[0m\u001b[0mreplicas\u001b[0m\u001b[0;34m,\u001b[0m \u001b[0minputs\u001b[0m\u001b[0;34m,\u001b[0m \u001b[0mmodule_kwargs\u001b[0m\u001b[0;34m)\u001b[0m\u001b[0;34m\u001b[0m\u001b[0;34m\u001b[0m\u001b[0m\n\u001b[0m\u001b[1;32m    194\u001b[0m             \u001b[0;32mreturn\u001b[0m \u001b[0mself\u001b[0m\u001b[0;34m.\u001b[0m\u001b[0mgather\u001b[0m\u001b[0;34m(\u001b[0m\u001b[0moutputs\u001b[0m\u001b[0;34m,\u001b[0m \u001b[0mself\u001b[0m\u001b[0;34m.\u001b[0m\u001b[0moutput_device\u001b[0m\u001b[0;34m)\u001b[0m\u001b[0;34m\u001b[0m\u001b[0;34m\u001b[0m\u001b[0m\n\u001b[1;32m    195\u001b[0m \u001b[0;34m\u001b[0m\u001b[0m\n",
      "\u001b[0;32m/usr/local/lib/python3.10/dist-packages/torch/nn/parallel/data_parallel.py\u001b[0m in \u001b[0;36mparallel_apply\u001b[0;34m(self, replicas, inputs, kwargs)\u001b[0m\n\u001b[1;32m    210\u001b[0m         \u001b[0mself\u001b[0m\u001b[0;34m,\u001b[0m \u001b[0mreplicas\u001b[0m\u001b[0;34m:\u001b[0m \u001b[0mSequence\u001b[0m\u001b[0;34m[\u001b[0m\u001b[0mT\u001b[0m\u001b[0;34m]\u001b[0m\u001b[0;34m,\u001b[0m \u001b[0minputs\u001b[0m\u001b[0;34m:\u001b[0m \u001b[0mSequence\u001b[0m\u001b[0;34m[\u001b[0m\u001b[0mAny\u001b[0m\u001b[0;34m]\u001b[0m\u001b[0;34m,\u001b[0m \u001b[0mkwargs\u001b[0m\u001b[0;34m:\u001b[0m \u001b[0mAny\u001b[0m\u001b[0;34m\u001b[0m\u001b[0;34m\u001b[0m\u001b[0m\n\u001b[1;32m    211\u001b[0m     ) -> List[Any]:\n\u001b[0;32m--> 212\u001b[0;31m         return parallel_apply(\n\u001b[0m\u001b[1;32m    213\u001b[0m             \u001b[0mreplicas\u001b[0m\u001b[0;34m,\u001b[0m \u001b[0minputs\u001b[0m\u001b[0;34m,\u001b[0m \u001b[0mkwargs\u001b[0m\u001b[0;34m,\u001b[0m \u001b[0mself\u001b[0m\u001b[0;34m.\u001b[0m\u001b[0mdevice_ids\u001b[0m\u001b[0;34m[\u001b[0m\u001b[0;34m:\u001b[0m \u001b[0mlen\u001b[0m\u001b[0;34m(\u001b[0m\u001b[0mreplicas\u001b[0m\u001b[0;34m)\u001b[0m\u001b[0;34m]\u001b[0m\u001b[0;34m\u001b[0m\u001b[0;34m\u001b[0m\u001b[0m\n\u001b[1;32m    214\u001b[0m         )\n",
      "\u001b[0;32m/usr/local/lib/python3.10/dist-packages/torch/nn/parallel/parallel_apply.py\u001b[0m in \u001b[0;36mparallel_apply\u001b[0;34m(modules, inputs, kwargs_tup, devices)\u001b[0m\n\u001b[1;32m    124\u001b[0m         \u001b[0moutput\u001b[0m \u001b[0;34m=\u001b[0m \u001b[0mresults\u001b[0m\u001b[0;34m[\u001b[0m\u001b[0mi\u001b[0m\u001b[0;34m]\u001b[0m\u001b[0;34m\u001b[0m\u001b[0;34m\u001b[0m\u001b[0m\n\u001b[1;32m    125\u001b[0m         \u001b[0;32mif\u001b[0m \u001b[0misinstance\u001b[0m\u001b[0;34m(\u001b[0m\u001b[0moutput\u001b[0m\u001b[0;34m,\u001b[0m \u001b[0mExceptionWrapper\u001b[0m\u001b[0;34m)\u001b[0m\u001b[0;34m:\u001b[0m\u001b[0;34m\u001b[0m\u001b[0;34m\u001b[0m\u001b[0m\n\u001b[0;32m--> 126\u001b[0;31m             \u001b[0moutput\u001b[0m\u001b[0;34m.\u001b[0m\u001b[0mreraise\u001b[0m\u001b[0;34m(\u001b[0m\u001b[0;34m)\u001b[0m\u001b[0;34m\u001b[0m\u001b[0;34m\u001b[0m\u001b[0m\n\u001b[0m\u001b[1;32m    127\u001b[0m         \u001b[0moutputs\u001b[0m\u001b[0;34m.\u001b[0m\u001b[0mappend\u001b[0m\u001b[0;34m(\u001b[0m\u001b[0moutput\u001b[0m\u001b[0;34m)\u001b[0m\u001b[0;34m\u001b[0m\u001b[0;34m\u001b[0m\u001b[0m\n\u001b[1;32m    128\u001b[0m     \u001b[0;32mreturn\u001b[0m \u001b[0moutputs\u001b[0m\u001b[0;34m\u001b[0m\u001b[0;34m\u001b[0m\u001b[0m\n",
      "\u001b[0;32m/usr/local/lib/python3.10/dist-packages/torch/_utils.py\u001b[0m in \u001b[0;36mreraise\u001b[0;34m(self)\u001b[0m\n\u001b[1;32m    713\u001b[0m             \u001b[0;31m# instantiate since we don't know how to\u001b[0m\u001b[0;34m\u001b[0m\u001b[0;34m\u001b[0m\u001b[0m\n\u001b[1;32m    714\u001b[0m             \u001b[0;32mraise\u001b[0m \u001b[0mRuntimeError\u001b[0m\u001b[0;34m(\u001b[0m\u001b[0mmsg\u001b[0m\u001b[0;34m)\u001b[0m \u001b[0;32mfrom\u001b[0m \u001b[0;32mNone\u001b[0m\u001b[0;34m\u001b[0m\u001b[0;34m\u001b[0m\u001b[0m\n\u001b[0;32m--> 715\u001b[0;31m         \u001b[0;32mraise\u001b[0m \u001b[0mexception\u001b[0m\u001b[0;34m\u001b[0m\u001b[0;34m\u001b[0m\u001b[0m\n\u001b[0m\u001b[1;32m    716\u001b[0m \u001b[0;34m\u001b[0m\u001b[0m\n\u001b[1;32m    717\u001b[0m \u001b[0;34m\u001b[0m\u001b[0m\n",
      "\u001b[0;31mOutOfMemoryError\u001b[0m: Caught OutOfMemoryError in replica 0 on device 0.\nOriginal Traceback (most recent call last):\n  File \"/usr/local/lib/python3.10/dist-packages/torch/nn/parallel/parallel_apply.py\", line 96, in _worker\n    output = module(*input, **kwargs)\n  File \"/usr/local/lib/python3.10/dist-packages/torch/nn/modules/module.py\", line 1736, in _wrapped_call_impl\n    return self._call_impl(*args, **kwargs)\n  File \"/usr/local/lib/python3.10/dist-packages/torch/nn/modules/module.py\", line 1747, in _call_impl\n    return forward_call(*args, **kwargs)\n  File \"/usr/local/lib/python3.10/dist-packages/transformers/models/megatron_bert/modeling_megatron_bert.py\", line 1500, in forward\n    outputs = self.bert(\n  File \"/usr/local/lib/python3.10/dist-packages/torch/nn/modules/module.py\", line 1736, in _wrapped_call_impl\n    return self._call_impl(*args, **kwargs)\n  File \"/usr/local/lib/python3.10/dist-packages/torch/nn/modules/module.py\", line 1747, in _call_impl\n    return forward_call(*args, **kwargs)\n  File \"/usr/local/lib/python3.10/dist-packages/transformers/models/megatron_bert/modeling_megatron_bert.py\", line 972, in forward\n    encoder_outputs = self.encoder(\n  File \"/usr/local/lib/python3.10/dist-packages/torch/nn/modules/module.py\", line 1736, in _wrapped_call_impl\n    return self._call_impl(*args, **kwargs)\n  File \"/usr/local/lib/python3.10/dist-packages/torch/nn/modules/module.py\", line 1747, in _call_impl\n    return forward_call(*args, **kwargs)\n  File \"/usr/local/lib/python3.10/dist-packages/transformers/models/megatron_bert/modeling_megatron_bert.py\", line 560, in forward\n    layer_outputs = layer_module(\n  File \"/usr/local/lib/python3.10/dist-packages/torch/nn/modules/module.py\", line 1736, in _wrapped_call_impl\n    return self._call_impl(*args, **kwargs)\n  File \"/usr/local/lib/python3.10/dist-packages/torch/nn/modules/module.py\", line 1747, in _call_impl\n    return forward_call(*args, **kwargs)\n  File \"/usr/local/lib/python3.10/dist-packages/transformers/models/megatron_bert/modeling_megatron_bert.py\", line 446, in forward\n    self_attention_outputs = self.attention(\n  File \"/usr/local/lib/python3.10/dist-packages/torch/nn/modules/module.py\", line 1736, in _wrapped_call_impl\n    return self._call_impl(*args, **kwargs)\n  File \"/usr/local/lib/python3.10/dist-packages/torch/nn/modules/module.py\", line 1747, in _call_impl\n    return forward_call(*args, **kwargs)\n  File \"/usr/local/lib/python3.10/dist-packages/transformers/models/megatron_bert/modeling_megatron_bert.py\", line 374, in forward\n    self_outputs = self.self(\n  File \"/usr/local/lib/python3.10/dist-packages/torch/nn/modules/module.py\", line 1736, in _wrapped_call_impl\n    return self._call_impl(*args, **kwargs)\n  File \"/usr/local/lib/python3.10/dist-packages/torch/nn/modules/module.py\", line 1747, in _call_impl\n    return forward_call(*args, **kwargs)\n  File \"/usr/local/lib/python3.10/dist-packages/transformers/models/megatron_bert/modeling_megatron_bert.py\", line 310, in forward\n    context_layer = torch.matmul(attention_probs, value_layer)\ntorch.OutOfMemoryError: CUDA out of memory. Tried to allocate 16.00 MiB. GPU 0 has a total capacity of 14.74 GiB of which 4.12 MiB is free. Process 2236 has 14.73 GiB memory in use. Of the allocated memory 14.39 GiB is allocated by PyTorch, and 150.44 MiB is reserved by PyTorch but unallocated. If reserved but unallocated memory is large try setting PYTORCH_CUDA_ALLOC_CONF=expandable_segments:True to avoid fragmentation.  See documentation for Memory Management  (https://pytorch.org/docs/stable/notes/cuda.html#environment-variables)\n"
     ]
    }
   ],
   "source": [
    "with mock.patch('wandb.init', return_value=Dummy()):\n",
    "    trainer.train()"
   ]
  }
 ],
 "metadata": {
  "kaggle": {
   "accelerator": "nvidiaTeslaT4",
   "dataSources": [
    {
     "datasetId": 6347818,
     "sourceId": 10498281,
     "sourceType": "datasetVersion"
    }
   ],
   "dockerImageVersionId": 30840,
   "isGpuEnabled": true,
   "isInternetEnabled": true,
   "language": "python",
   "sourceType": "notebook"
  },
  "kernelspec": {
   "display_name": "Python 3",
   "language": "python",
   "name": "python3"
  },
  "language_info": {
   "codemirror_mode": {
    "name": "ipython",
    "version": 3
   },
   "file_extension": ".py",
   "mimetype": "text/x-python",
   "name": "python",
   "nbconvert_exporter": "python",
   "pygments_lexer": "ipython3",
   "version": "3.10.12"
  }
 },
 "nbformat": 4,
 "nbformat_minor": 4
}
