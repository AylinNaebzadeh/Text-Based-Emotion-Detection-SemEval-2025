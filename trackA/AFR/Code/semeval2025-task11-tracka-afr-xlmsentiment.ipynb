{
 "cells": [
  {
   "cell_type": "code",
   "execution_count": 2,
   "metadata": {
    "_cell_guid": "b1076dfc-b9ad-4769-8c92-a6c4dae69d19",
    "_uuid": "8f2839f25d086af736a60e9eeb907d3b93b6e0e5",
    "execution": {
     "iopub.execute_input": "2025-01-19T07:59:48.380996Z",
     "iopub.status.busy": "2025-01-19T07:59:48.380654Z",
     "iopub.status.idle": "2025-01-19T07:59:48.451066Z",
     "shell.execute_reply": "2025-01-19T07:59:48.450197Z",
     "shell.execute_reply.started": "2025-01-19T07:59:48.380972Z"
    },
    "trusted": true
   },
   "outputs": [
    {
     "name": "stdout",
     "output_type": "stream",
     "text": [
      "/kaggle/input/semeval-2025-task-11-emotion/public_data_test/track_c/test/ind.csv\n",
      "/kaggle/input/semeval-2025-task-11-emotion/public_data_test/track_c/test/tat.csv\n",
      "/kaggle/input/semeval-2025-task-11-emotion/public_data_test/track_c/test/swe.csv\n",
      "/kaggle/input/semeval-2025-task-11-emotion/public_data_test/track_c/test/afr.csv\n",
      "/kaggle/input/semeval-2025-task-11-emotion/public_data_test/track_c/test/xho.csv\n",
      "/kaggle/input/semeval-2025-task-11-emotion/public_data_test/track_c/test/amh.csv\n",
      "/kaggle/input/semeval-2025-task-11-emotion/public_data_test/track_c/test/ptbr.csv\n",
      "/kaggle/input/semeval-2025-task-11-emotion/public_data_test/track_c/test/mar.csv\n",
      "/kaggle/input/semeval-2025-task-11-emotion/public_data_test/track_c/test/eng.csv\n",
      "/kaggle/input/semeval-2025-task-11-emotion/public_data_test/track_c/test/yor.csv\n",
      "/kaggle/input/semeval-2025-task-11-emotion/public_data_test/track_c/test/hau.csv\n",
      "/kaggle/input/semeval-2025-task-11-emotion/public_data_test/track_c/test/som.csv\n",
      "/kaggle/input/semeval-2025-task-11-emotion/public_data_test/track_c/test/ron.csv\n",
      "/kaggle/input/semeval-2025-task-11-emotion/public_data_test/track_c/test/zul.csv\n",
      "/kaggle/input/semeval-2025-task-11-emotion/public_data_test/track_c/test/sun.csv\n",
      "/kaggle/input/semeval-2025-task-11-emotion/public_data_test/track_c/test/arq.csv\n",
      "/kaggle/input/semeval-2025-task-11-emotion/public_data_test/track_c/test/hin.csv\n",
      "/kaggle/input/semeval-2025-task-11-emotion/public_data_test/track_c/test/ibo.csv\n",
      "/kaggle/input/semeval-2025-task-11-emotion/public_data_test/track_c/test/chn.csv\n",
      "/kaggle/input/semeval-2025-task-11-emotion/public_data_test/track_c/test/ukr.csv\n",
      "/kaggle/input/semeval-2025-task-11-emotion/public_data_test/track_c/test/esp.csv\n",
      "/kaggle/input/semeval-2025-task-11-emotion/public_data_test/track_c/test/orm.csv\n",
      "/kaggle/input/semeval-2025-task-11-emotion/public_data_test/track_c/test/vmw.csv\n",
      "/kaggle/input/semeval-2025-task-11-emotion/public_data_test/track_c/test/jav.csv\n",
      "/kaggle/input/semeval-2025-task-11-emotion/public_data_test/track_c/test/tir.csv\n",
      "/kaggle/input/semeval-2025-task-11-emotion/public_data_test/track_c/test/pcm.csv\n",
      "/kaggle/input/semeval-2025-task-11-emotion/public_data_test/track_c/test/rus.csv\n",
      "/kaggle/input/semeval-2025-task-11-emotion/public_data_test/track_c/test/swa.csv\n",
      "/kaggle/input/semeval-2025-task-11-emotion/public_data_test/track_c/test/deu.csv\n",
      "/kaggle/input/semeval-2025-task-11-emotion/public_data_test/track_c/test/ary.csv\n",
      "/kaggle/input/semeval-2025-task-11-emotion/public_data_test/track_c/test/kin.csv\n",
      "/kaggle/input/semeval-2025-task-11-emotion/public_data_test/track_c/test/ptmz.csv\n",
      "/kaggle/input/semeval-2025-task-11-emotion/public_data_test/track_c/dev/ind.csv\n",
      "/kaggle/input/semeval-2025-task-11-emotion/public_data_test/track_c/dev/tat.csv\n",
      "/kaggle/input/semeval-2025-task-11-emotion/public_data_test/track_c/dev/swe.csv\n",
      "/kaggle/input/semeval-2025-task-11-emotion/public_data_test/track_c/dev/afr.csv\n",
      "/kaggle/input/semeval-2025-task-11-emotion/public_data_test/track_c/dev/xho.csv\n",
      "/kaggle/input/semeval-2025-task-11-emotion/public_data_test/track_c/dev/amh.csv\n",
      "/kaggle/input/semeval-2025-task-11-emotion/public_data_test/track_c/dev/ptbr.csv\n",
      "/kaggle/input/semeval-2025-task-11-emotion/public_data_test/track_c/dev/mar.csv\n",
      "/kaggle/input/semeval-2025-task-11-emotion/public_data_test/track_c/dev/eng.csv\n",
      "/kaggle/input/semeval-2025-task-11-emotion/public_data_test/track_c/dev/yor.csv\n",
      "/kaggle/input/semeval-2025-task-11-emotion/public_data_test/track_c/dev/hau.csv\n",
      "/kaggle/input/semeval-2025-task-11-emotion/public_data_test/track_c/dev/som.csv\n",
      "/kaggle/input/semeval-2025-task-11-emotion/public_data_test/track_c/dev/ron.csv\n",
      "/kaggle/input/semeval-2025-task-11-emotion/public_data_test/track_c/dev/zul.csv\n",
      "/kaggle/input/semeval-2025-task-11-emotion/public_data_test/track_c/dev/sun.csv\n",
      "/kaggle/input/semeval-2025-task-11-emotion/public_data_test/track_c/dev/arq.csv\n",
      "/kaggle/input/semeval-2025-task-11-emotion/public_data_test/track_c/dev/hin.csv\n",
      "/kaggle/input/semeval-2025-task-11-emotion/public_data_test/track_c/dev/ibo.csv\n",
      "/kaggle/input/semeval-2025-task-11-emotion/public_data_test/track_c/dev/chn.csv\n",
      "/kaggle/input/semeval-2025-task-11-emotion/public_data_test/track_c/dev/ukr.csv\n",
      "/kaggle/input/semeval-2025-task-11-emotion/public_data_test/track_c/dev/esp.csv\n",
      "/kaggle/input/semeval-2025-task-11-emotion/public_data_test/track_c/dev/orm.csv\n",
      "/kaggle/input/semeval-2025-task-11-emotion/public_data_test/track_c/dev/vmw.csv\n",
      "/kaggle/input/semeval-2025-task-11-emotion/public_data_test/track_c/dev/jav.csv\n",
      "/kaggle/input/semeval-2025-task-11-emotion/public_data_test/track_c/dev/tir.csv\n",
      "/kaggle/input/semeval-2025-task-11-emotion/public_data_test/track_c/dev/pcm.csv\n",
      "/kaggle/input/semeval-2025-task-11-emotion/public_data_test/track_c/dev/rus.csv\n",
      "/kaggle/input/semeval-2025-task-11-emotion/public_data_test/track_c/dev/swa.csv\n",
      "/kaggle/input/semeval-2025-task-11-emotion/public_data_test/track_c/dev/deu.csv\n",
      "/kaggle/input/semeval-2025-task-11-emotion/public_data_test/track_c/dev/ary.csv\n",
      "/kaggle/input/semeval-2025-task-11-emotion/public_data_test/track_c/dev/kin.csv\n",
      "/kaggle/input/semeval-2025-task-11-emotion/public_data_test/track_c/dev/ptmz.csv\n",
      "/kaggle/input/semeval-2025-task-11-emotion/public_data_test/track_b/test/amh.csv\n",
      "/kaggle/input/semeval-2025-task-11-emotion/public_data_test/track_b/test/ptbr.csv\n",
      "/kaggle/input/semeval-2025-task-11-emotion/public_data_test/track_b/test/eng.csv\n",
      "/kaggle/input/semeval-2025-task-11-emotion/public_data_test/track_b/test/hau.csv\n",
      "/kaggle/input/semeval-2025-task-11-emotion/public_data_test/track_b/test/ron.csv\n",
      "/kaggle/input/semeval-2025-task-11-emotion/public_data_test/track_b/test/arq.csv\n",
      "/kaggle/input/semeval-2025-task-11-emotion/public_data_test/track_b/test/chn.csv\n",
      "/kaggle/input/semeval-2025-task-11-emotion/public_data_test/track_b/test/ukr.csv\n",
      "/kaggle/input/semeval-2025-task-11-emotion/public_data_test/track_b/test/esp.csv\n",
      "/kaggle/input/semeval-2025-task-11-emotion/public_data_test/track_b/test/rus.csv\n",
      "/kaggle/input/semeval-2025-task-11-emotion/public_data_test/track_b/test/deu.csv\n",
      "/kaggle/input/semeval-2025-task-11-emotion/public_data_test/track_b/train/amh.csv\n",
      "/kaggle/input/semeval-2025-task-11-emotion/public_data_test/track_b/train/ptbr.csv\n",
      "/kaggle/input/semeval-2025-task-11-emotion/public_data_test/track_b/train/eng.csv\n",
      "/kaggle/input/semeval-2025-task-11-emotion/public_data_test/track_b/train/hau.csv\n",
      "/kaggle/input/semeval-2025-task-11-emotion/public_data_test/track_b/train/ron.csv\n",
      "/kaggle/input/semeval-2025-task-11-emotion/public_data_test/track_b/train/arq.csv\n",
      "/kaggle/input/semeval-2025-task-11-emotion/public_data_test/track_b/train/chn.csv\n",
      "/kaggle/input/semeval-2025-task-11-emotion/public_data_test/track_b/train/ukr.csv\n",
      "/kaggle/input/semeval-2025-task-11-emotion/public_data_test/track_b/train/esp.csv\n",
      "/kaggle/input/semeval-2025-task-11-emotion/public_data_test/track_b/train/rus.csv\n",
      "/kaggle/input/semeval-2025-task-11-emotion/public_data_test/track_b/train/deu.csv\n",
      "/kaggle/input/semeval-2025-task-11-emotion/public_data_test/track_b/dev/amh.csv\n",
      "/kaggle/input/semeval-2025-task-11-emotion/public_data_test/track_b/dev/ptbr.csv\n",
      "/kaggle/input/semeval-2025-task-11-emotion/public_data_test/track_b/dev/eng.csv\n",
      "/kaggle/input/semeval-2025-task-11-emotion/public_data_test/track_b/dev/hau.csv\n",
      "/kaggle/input/semeval-2025-task-11-emotion/public_data_test/track_b/dev/ron.csv\n",
      "/kaggle/input/semeval-2025-task-11-emotion/public_data_test/track_b/dev/arq.csv\n",
      "/kaggle/input/semeval-2025-task-11-emotion/public_data_test/track_b/dev/chn.csv\n",
      "/kaggle/input/semeval-2025-task-11-emotion/public_data_test/track_b/dev/ukr.csv\n",
      "/kaggle/input/semeval-2025-task-11-emotion/public_data_test/track_b/dev/esp.csv\n",
      "/kaggle/input/semeval-2025-task-11-emotion/public_data_test/track_b/dev/rus.csv\n",
      "/kaggle/input/semeval-2025-task-11-emotion/public_data_test/track_b/dev/deu.csv\n",
      "/kaggle/input/semeval-2025-task-11-emotion/public_data_test/track_a/test/tat.csv\n",
      "/kaggle/input/semeval-2025-task-11-emotion/public_data_test/track_a/test/swe.csv\n",
      "/kaggle/input/semeval-2025-task-11-emotion/public_data_test/track_a/test/afr.csv\n",
      "/kaggle/input/semeval-2025-task-11-emotion/public_data_test/track_a/test/amh.csv\n",
      "/kaggle/input/semeval-2025-task-11-emotion/public_data_test/track_a/test/ptbr.csv\n",
      "/kaggle/input/semeval-2025-task-11-emotion/public_data_test/track_a/test/mar.csv\n",
      "/kaggle/input/semeval-2025-task-11-emotion/public_data_test/track_a/test/eng.csv\n",
      "/kaggle/input/semeval-2025-task-11-emotion/public_data_test/track_a/test/yor.csv\n",
      "/kaggle/input/semeval-2025-task-11-emotion/public_data_test/track_a/test/hau.csv\n",
      "/kaggle/input/semeval-2025-task-11-emotion/public_data_test/track_a/test/som.csv\n",
      "/kaggle/input/semeval-2025-task-11-emotion/public_data_test/track_a/test/ron.csv\n",
      "/kaggle/input/semeval-2025-task-11-emotion/public_data_test/track_a/test/sun.csv\n",
      "/kaggle/input/semeval-2025-task-11-emotion/public_data_test/track_a/test/arq.csv\n",
      "/kaggle/input/semeval-2025-task-11-emotion/public_data_test/track_a/test/hin.csv\n",
      "/kaggle/input/semeval-2025-task-11-emotion/public_data_test/track_a/test/ibo.csv\n",
      "/kaggle/input/semeval-2025-task-11-emotion/public_data_test/track_a/test/chn.csv\n",
      "/kaggle/input/semeval-2025-task-11-emotion/public_data_test/track_a/test/ukr.csv\n",
      "/kaggle/input/semeval-2025-task-11-emotion/public_data_test/track_a/test/esp.csv\n",
      "/kaggle/input/semeval-2025-task-11-emotion/public_data_test/track_a/test/orm.csv\n",
      "/kaggle/input/semeval-2025-task-11-emotion/public_data_test/track_a/test/vmw.csv\n",
      "/kaggle/input/semeval-2025-task-11-emotion/public_data_test/track_a/test/tir.csv\n",
      "/kaggle/input/semeval-2025-task-11-emotion/public_data_test/track_a/test/pcm.csv\n",
      "/kaggle/input/semeval-2025-task-11-emotion/public_data_test/track_a/test/rus.csv\n",
      "/kaggle/input/semeval-2025-task-11-emotion/public_data_test/track_a/test/swa.csv\n",
      "/kaggle/input/semeval-2025-task-11-emotion/public_data_test/track_a/test/deu.csv\n",
      "/kaggle/input/semeval-2025-task-11-emotion/public_data_test/track_a/test/ary.csv\n",
      "/kaggle/input/semeval-2025-task-11-emotion/public_data_test/track_a/test/kin.csv\n",
      "/kaggle/input/semeval-2025-task-11-emotion/public_data_test/track_a/test/ptmz.csv\n",
      "/kaggle/input/semeval-2025-task-11-emotion/public_data_test/track_a/train/tat.csv\n",
      "/kaggle/input/semeval-2025-task-11-emotion/public_data_test/track_a/train/swe.csv\n",
      "/kaggle/input/semeval-2025-task-11-emotion/public_data_test/track_a/train/afr.csv\n",
      "/kaggle/input/semeval-2025-task-11-emotion/public_data_test/track_a/train/amh.csv\n",
      "/kaggle/input/semeval-2025-task-11-emotion/public_data_test/track_a/train/ptbr.csv\n",
      "/kaggle/input/semeval-2025-task-11-emotion/public_data_test/track_a/train/mar.csv\n",
      "/kaggle/input/semeval-2025-task-11-emotion/public_data_test/track_a/train/eng.csv\n",
      "/kaggle/input/semeval-2025-task-11-emotion/public_data_test/track_a/train/yor.csv\n",
      "/kaggle/input/semeval-2025-task-11-emotion/public_data_test/track_a/train/hau.csv\n",
      "/kaggle/input/semeval-2025-task-11-emotion/public_data_test/track_a/train/som.csv\n",
      "/kaggle/input/semeval-2025-task-11-emotion/public_data_test/track_a/train/ron.csv\n",
      "/kaggle/input/semeval-2025-task-11-emotion/public_data_test/track_a/train/sun.csv\n",
      "/kaggle/input/semeval-2025-task-11-emotion/public_data_test/track_a/train/arq.csv\n",
      "/kaggle/input/semeval-2025-task-11-emotion/public_data_test/track_a/train/hin.csv\n",
      "/kaggle/input/semeval-2025-task-11-emotion/public_data_test/track_a/train/ibo.csv\n",
      "/kaggle/input/semeval-2025-task-11-emotion/public_data_test/track_a/train/chn.csv\n",
      "/kaggle/input/semeval-2025-task-11-emotion/public_data_test/track_a/train/ukr.csv\n",
      "/kaggle/input/semeval-2025-task-11-emotion/public_data_test/track_a/train/esp.csv\n",
      "/kaggle/input/semeval-2025-task-11-emotion/public_data_test/track_a/train/orm.csv\n",
      "/kaggle/input/semeval-2025-task-11-emotion/public_data_test/track_a/train/vmw.csv\n",
      "/kaggle/input/semeval-2025-task-11-emotion/public_data_test/track_a/train/tir.csv\n",
      "/kaggle/input/semeval-2025-task-11-emotion/public_data_test/track_a/train/pcm.csv\n",
      "/kaggle/input/semeval-2025-task-11-emotion/public_data_test/track_a/train/rus.csv\n",
      "/kaggle/input/semeval-2025-task-11-emotion/public_data_test/track_a/train/swa.csv\n",
      "/kaggle/input/semeval-2025-task-11-emotion/public_data_test/track_a/train/deu.csv\n",
      "/kaggle/input/semeval-2025-task-11-emotion/public_data_test/track_a/train/ary.csv\n",
      "/kaggle/input/semeval-2025-task-11-emotion/public_data_test/track_a/train/kin.csv\n",
      "/kaggle/input/semeval-2025-task-11-emotion/public_data_test/track_a/train/ptmz.csv\n",
      "/kaggle/input/semeval-2025-task-11-emotion/public_data_test/track_a/dev/tat.csv\n",
      "/kaggle/input/semeval-2025-task-11-emotion/public_data_test/track_a/dev/swe.csv\n",
      "/kaggle/input/semeval-2025-task-11-emotion/public_data_test/track_a/dev/afr.csv\n",
      "/kaggle/input/semeval-2025-task-11-emotion/public_data_test/track_a/dev/amh.csv\n",
      "/kaggle/input/semeval-2025-task-11-emotion/public_data_test/track_a/dev/ptbr.csv\n",
      "/kaggle/input/semeval-2025-task-11-emotion/public_data_test/track_a/dev/mar.csv\n",
      "/kaggle/input/semeval-2025-task-11-emotion/public_data_test/track_a/dev/eng.csv\n",
      "/kaggle/input/semeval-2025-task-11-emotion/public_data_test/track_a/dev/yor.csv\n",
      "/kaggle/input/semeval-2025-task-11-emotion/public_data_test/track_a/dev/hau.csv\n",
      "/kaggle/input/semeval-2025-task-11-emotion/public_data_test/track_a/dev/som.csv\n",
      "/kaggle/input/semeval-2025-task-11-emotion/public_data_test/track_a/dev/ron.csv\n",
      "/kaggle/input/semeval-2025-task-11-emotion/public_data_test/track_a/dev/sun.csv\n",
      "/kaggle/input/semeval-2025-task-11-emotion/public_data_test/track_a/dev/arq.csv\n",
      "/kaggle/input/semeval-2025-task-11-emotion/public_data_test/track_a/dev/hin.csv\n",
      "/kaggle/input/semeval-2025-task-11-emotion/public_data_test/track_a/dev/ibo.csv\n",
      "/kaggle/input/semeval-2025-task-11-emotion/public_data_test/track_a/dev/chn.csv\n",
      "/kaggle/input/semeval-2025-task-11-emotion/public_data_test/track_a/dev/ukr.csv\n",
      "/kaggle/input/semeval-2025-task-11-emotion/public_data_test/track_a/dev/esp.csv\n",
      "/kaggle/input/semeval-2025-task-11-emotion/public_data_test/track_a/dev/orm.csv\n",
      "/kaggle/input/semeval-2025-task-11-emotion/public_data_test/track_a/dev/vmw.csv\n",
      "/kaggle/input/semeval-2025-task-11-emotion/public_data_test/track_a/dev/tir.csv\n",
      "/kaggle/input/semeval-2025-task-11-emotion/public_data_test/track_a/dev/pcm.csv\n",
      "/kaggle/input/semeval-2025-task-11-emotion/public_data_test/track_a/dev/rus.csv\n",
      "/kaggle/input/semeval-2025-task-11-emotion/public_data_test/track_a/dev/swa.csv\n",
      "/kaggle/input/semeval-2025-task-11-emotion/public_data_test/track_a/dev/deu.csv\n",
      "/kaggle/input/semeval-2025-task-11-emotion/public_data_test/track_a/dev/ary.csv\n",
      "/kaggle/input/semeval-2025-task-11-emotion/public_data_test/track_a/dev/kin.csv\n",
      "/kaggle/input/semeval-2025-task-11-emotion/public_data_test/track_a/dev/ptmz.csv\n"
     ]
    }
   ],
   "source": [
    "# This Python 3 environment comes with many helpful analytics libraries installed\n",
    "# It is defined by the kaggle/python Docker image: https://github.com/kaggle/docker-python\n",
    "# For example, here's several helpful packages to load\n",
    "\n",
    "import numpy as np # linear algebra\n",
    "import pandas as pd # data processing, CSV file I/O (e.g. pd.read_csv)\n",
    "\n",
    "# Input data files are available in the read-only \"../input/\" directory\n",
    "# For example, running this (by clicking run or pressing Shift+Enter) will list all files under the input directory\n",
    "\n",
    "import os\n",
    "for dirname, _, filenames in os.walk('/kaggle/input'):\n",
    "    for filename in filenames:\n",
    "        print(os.path.join(dirname, filename))\n",
    "\n",
    "# You can write up to 20GB to the current directory (/kaggle/working/) that gets preserved as output when you create a version using \"Save & Run All\" \n",
    "# You can also write temporary files to /kaggle/temp/, but they won't be saved outside of the current session"
   ]
  },
  {
   "cell_type": "markdown",
   "metadata": {},
   "source": [
    "# Install Libraries and Modules"
   ]
  },
  {
   "cell_type": "code",
   "execution_count": 3,
   "metadata": {
    "execution": {
     "iopub.execute_input": "2025-01-19T07:59:52.686824Z",
     "iopub.status.busy": "2025-01-19T07:59:52.686518Z",
     "iopub.status.idle": "2025-01-19T07:59:52.690374Z",
     "shell.execute_reply": "2025-01-19T07:59:52.689517Z",
     "shell.execute_reply.started": "2025-01-19T07:59:52.686799Z"
    },
    "trusted": true
   },
   "outputs": [],
   "source": [
    "import warnings\n",
    "warnings.filterwarnings('ignore') "
   ]
  },
  {
   "cell_type": "code",
   "execution_count": 4,
   "metadata": {
    "execution": {
     "iopub.execute_input": "2025-01-19T07:59:53.907422Z",
     "iopub.status.busy": "2025-01-19T07:59:53.907150Z",
     "iopub.status.idle": "2025-01-19T08:00:04.567345Z",
     "shell.execute_reply": "2025-01-19T08:00:04.566286Z",
     "shell.execute_reply.started": "2025-01-19T07:59:53.907397Z"
    },
    "trusted": true
   },
   "outputs": [
    {
     "name": "stdout",
     "output_type": "stream",
     "text": [
      "Found existing installation: wandb 0.19.1\n",
      "Uninstalling wandb-0.19.1:\n",
      "  Successfully uninstalled wandb-0.19.1\n"
     ]
    }
   ],
   "source": [
    "!pip uninstall -y wandb"
   ]
  },
  {
   "cell_type": "code",
   "execution_count": 5,
   "metadata": {
    "execution": {
     "iopub.execute_input": "2025-01-19T08:00:04.569125Z",
     "iopub.status.busy": "2025-01-19T08:00:04.568816Z",
     "iopub.status.idle": "2025-01-19T08:00:10.632953Z",
     "shell.execute_reply": "2025-01-19T08:00:10.631725Z",
     "shell.execute_reply.started": "2025-01-19T08:00:04.569093Z"
    },
    "trusted": true
   },
   "outputs": [
    {
     "name": "stdout",
     "output_type": "stream",
     "text": [
      "Collecting wandb==0.17.5\n",
      "  Downloading wandb-0.17.5-py3-none-manylinux_2_5_x86_64.manylinux1_x86_64.manylinux_2_17_x86_64.manylinux2014_x86_64.whl.metadata (10 kB)\n",
      "Requirement already satisfied: click!=8.0.0,>=7.1 in /usr/local/lib/python3.10/dist-packages (from wandb==0.17.5) (8.1.7)\n",
      "Requirement already satisfied: docker-pycreds>=0.4.0 in /usr/local/lib/python3.10/dist-packages (from wandb==0.17.5) (0.4.0)\n",
      "Requirement already satisfied: gitpython!=3.1.29,>=1.0.0 in /usr/local/lib/python3.10/dist-packages (from wandb==0.17.5) (3.1.43)\n",
      "Requirement already satisfied: platformdirs in /usr/local/lib/python3.10/dist-packages (from wandb==0.17.5) (4.3.6)\n",
      "Requirement already satisfied: protobuf!=4.21.0,<6,>=3.19.0 in /usr/local/lib/python3.10/dist-packages (from wandb==0.17.5) (3.20.3)\n",
      "Requirement already satisfied: psutil>=5.0.0 in /usr/local/lib/python3.10/dist-packages (from wandb==0.17.5) (5.9.5)\n",
      "Requirement already satisfied: pyyaml in /usr/local/lib/python3.10/dist-packages (from wandb==0.17.5) (6.0.2)\n",
      "Requirement already satisfied: requests<3,>=2.0.0 in /usr/local/lib/python3.10/dist-packages (from wandb==0.17.5) (2.32.3)\n",
      "Requirement already satisfied: sentry-sdk>=1.0.0 in /usr/local/lib/python3.10/dist-packages (from wandb==0.17.5) (2.19.2)\n",
      "Requirement already satisfied: setproctitle in /usr/local/lib/python3.10/dist-packages (from wandb==0.17.5) (1.3.4)\n",
      "Requirement already satisfied: setuptools in /usr/local/lib/python3.10/dist-packages (from wandb==0.17.5) (75.1.0)\n",
      "Requirement already satisfied: six>=1.4.0 in /usr/local/lib/python3.10/dist-packages (from docker-pycreds>=0.4.0->wandb==0.17.5) (1.17.0)\n",
      "Requirement already satisfied: gitdb<5,>=4.0.1 in /usr/local/lib/python3.10/dist-packages (from gitpython!=3.1.29,>=1.0.0->wandb==0.17.5) (4.0.11)\n",
      "Requirement already satisfied: charset-normalizer<4,>=2 in /usr/local/lib/python3.10/dist-packages (from requests<3,>=2.0.0->wandb==0.17.5) (3.4.0)\n",
      "Requirement already satisfied: idna<4,>=2.5 in /usr/local/lib/python3.10/dist-packages (from requests<3,>=2.0.0->wandb==0.17.5) (3.10)\n",
      "Requirement already satisfied: urllib3<3,>=1.21.1 in /usr/local/lib/python3.10/dist-packages (from requests<3,>=2.0.0->wandb==0.17.5) (2.2.3)\n",
      "Requirement already satisfied: certifi>=2017.4.17 in /usr/local/lib/python3.10/dist-packages (from requests<3,>=2.0.0->wandb==0.17.5) (2024.12.14)\n",
      "Requirement already satisfied: smmap<6,>=3.0.1 in /usr/local/lib/python3.10/dist-packages (from gitdb<5,>=4.0.1->gitpython!=3.1.29,>=1.0.0->wandb==0.17.5) (5.0.1)\n",
      "Downloading wandb-0.17.5-py3-none-manylinux_2_5_x86_64.manylinux1_x86_64.manylinux_2_17_x86_64.manylinux2014_x86_64.whl (6.8 MB)\n",
      "\u001b[2K   \u001b[90m━━━━━━━━━━━━━━━━━━━━━━━━━━━━━━━━━━━━━━━━\u001b[0m \u001b[32m6.8/6.8 MB\u001b[0m \u001b[31m52.9 MB/s\u001b[0m eta \u001b[36m0:00:00\u001b[0m00:01\u001b[0m00:01\u001b[0m\n",
      "\u001b[?25hInstalling collected packages: wandb\n",
      "Successfully installed wandb-0.17.5\n"
     ]
    }
   ],
   "source": [
    "!pip install wandb==0.17.5 "
   ]
  },
  {
   "cell_type": "code",
   "execution_count": 6,
   "metadata": {
    "execution": {
     "iopub.execute_input": "2025-01-19T08:00:10.635089Z",
     "iopub.status.busy": "2025-01-19T08:00:10.634811Z",
     "iopub.status.idle": "2025-01-19T08:00:11.540744Z",
     "shell.execute_reply": "2025-01-19T08:00:11.539885Z",
     "shell.execute_reply.started": "2025-01-19T08:00:10.635063Z"
    },
    "trusted": true
   },
   "outputs": [],
   "source": [
    "import wandb"
   ]
  },
  {
   "cell_type": "code",
   "execution_count": 7,
   "metadata": {
    "execution": {
     "iopub.execute_input": "2025-01-19T08:00:11.542488Z",
     "iopub.status.busy": "2025-01-19T08:00:11.542159Z",
     "iopub.status.idle": "2025-01-19T08:00:13.356095Z",
     "shell.execute_reply": "2025-01-19T08:00:13.355236Z",
     "shell.execute_reply.started": "2025-01-19T08:00:11.542440Z"
    },
    "trusted": true
   },
   "outputs": [
    {
     "name": "stdout",
     "output_type": "stream",
     "text": [
      "W&B offline. Running your script from this directory will only write metadata locally. Use wandb disabled to completely turn off W&B.\n",
      "W&B disabled.\n"
     ]
    }
   ],
   "source": [
    "!wandb offline\n",
    "!wandb disabled"
   ]
  },
  {
   "cell_type": "code",
   "execution_count": 8,
   "metadata": {
    "execution": {
     "iopub.execute_input": "2025-01-19T08:00:13.357546Z",
     "iopub.status.busy": "2025-01-19T08:00:13.357208Z",
     "iopub.status.idle": "2025-01-19T08:00:13.361406Z",
     "shell.execute_reply": "2025-01-19T08:00:13.360804Z",
     "shell.execute_reply.started": "2025-01-19T08:00:13.357512Z"
    },
    "trusted": true
   },
   "outputs": [],
   "source": [
    "import os\n",
    "os.environ[\"WANDB_DISABLED\"] = \"true\""
   ]
  },
  {
   "cell_type": "code",
   "execution_count": 9,
   "metadata": {
    "execution": {
     "iopub.execute_input": "2025-01-19T08:00:13.362615Z",
     "iopub.status.busy": "2025-01-19T08:00:13.362308Z",
     "iopub.status.idle": "2025-01-19T08:00:17.249555Z",
     "shell.execute_reply": "2025-01-19T08:00:17.248403Z",
     "shell.execute_reply.started": "2025-01-19T08:00:13.362586Z"
    },
    "trusted": true
   },
   "outputs": [
    {
     "name": "stdout",
     "output_type": "stream",
     "text": [
      "Requirement already satisfied: datasets in /usr/local/lib/python3.10/dist-packages (3.2.0)\n",
      "Requirement already satisfied: transformers in /usr/local/lib/python3.10/dist-packages (4.47.0)\n",
      "Collecting evaluate\n",
      "  Downloading evaluate-0.4.3-py3-none-any.whl.metadata (9.2 kB)\n",
      "Requirement already satisfied: sentencepiece in /usr/local/lib/python3.10/dist-packages (0.2.0)\n",
      "Requirement already satisfied: accelerate in /usr/local/lib/python3.10/dist-packages (1.2.1)\n",
      "Requirement already satisfied: filelock in /usr/local/lib/python3.10/dist-packages (from datasets) (3.16.1)\n",
      "Requirement already satisfied: numpy>=1.17 in /usr/local/lib/python3.10/dist-packages (from datasets) (1.26.4)\n",
      "Requirement already satisfied: pyarrow>=15.0.0 in /usr/local/lib/python3.10/dist-packages (from datasets) (17.0.0)\n",
      "Requirement already satisfied: dill<0.3.9,>=0.3.0 in /usr/local/lib/python3.10/dist-packages (from datasets) (0.3.8)\n",
      "Requirement already satisfied: pandas in /usr/local/lib/python3.10/dist-packages (from datasets) (2.2.2)\n",
      "Requirement already satisfied: requests>=2.32.2 in /usr/local/lib/python3.10/dist-packages (from datasets) (2.32.3)\n",
      "Requirement already satisfied: tqdm>=4.66.3 in /usr/local/lib/python3.10/dist-packages (from datasets) (4.67.1)\n",
      "Requirement already satisfied: xxhash in /usr/local/lib/python3.10/dist-packages (from datasets) (3.5.0)\n",
      "Requirement already satisfied: multiprocess<0.70.17 in /usr/local/lib/python3.10/dist-packages (from datasets) (0.70.16)\n",
      "Requirement already satisfied: fsspec<=2024.9.0,>=2023.1.0 in /usr/local/lib/python3.10/dist-packages (from fsspec[http]<=2024.9.0,>=2023.1.0->datasets) (2024.9.0)\n",
      "Requirement already satisfied: aiohttp in /usr/local/lib/python3.10/dist-packages (from datasets) (3.11.10)\n",
      "Requirement already satisfied: huggingface-hub>=0.23.0 in /usr/local/lib/python3.10/dist-packages (from datasets) (0.27.0)\n",
      "Requirement already satisfied: packaging in /usr/local/lib/python3.10/dist-packages (from datasets) (24.2)\n",
      "Requirement already satisfied: pyyaml>=5.1 in /usr/local/lib/python3.10/dist-packages (from datasets) (6.0.2)\n",
      "Requirement already satisfied: regex!=2019.12.17 in /usr/local/lib/python3.10/dist-packages (from transformers) (2024.11.6)\n",
      "Requirement already satisfied: tokenizers<0.22,>=0.21 in /usr/local/lib/python3.10/dist-packages (from transformers) (0.21.0)\n",
      "Requirement already satisfied: safetensors>=0.4.1 in /usr/local/lib/python3.10/dist-packages (from transformers) (0.4.5)\n",
      "Requirement already satisfied: psutil in /usr/local/lib/python3.10/dist-packages (from accelerate) (5.9.5)\n",
      "Requirement already satisfied: torch>=1.10.0 in /usr/local/lib/python3.10/dist-packages (from accelerate) (2.5.1+cu121)\n",
      "Requirement already satisfied: aiohappyeyeballs>=2.3.0 in /usr/local/lib/python3.10/dist-packages (from aiohttp->datasets) (2.4.4)\n",
      "Requirement already satisfied: aiosignal>=1.1.2 in /usr/local/lib/python3.10/dist-packages (from aiohttp->datasets) (1.3.2)\n",
      "Requirement already satisfied: async-timeout<6.0,>=4.0 in /usr/local/lib/python3.10/dist-packages (from aiohttp->datasets) (4.0.3)\n",
      "Requirement already satisfied: attrs>=17.3.0 in /usr/local/lib/python3.10/dist-packages (from aiohttp->datasets) (24.3.0)\n",
      "Requirement already satisfied: frozenlist>=1.1.1 in /usr/local/lib/python3.10/dist-packages (from aiohttp->datasets) (1.5.0)\n",
      "Requirement already satisfied: multidict<7.0,>=4.5 in /usr/local/lib/python3.10/dist-packages (from aiohttp->datasets) (6.1.0)\n",
      "Requirement already satisfied: propcache>=0.2.0 in /usr/local/lib/python3.10/dist-packages (from aiohttp->datasets) (0.2.1)\n",
      "Requirement already satisfied: yarl<2.0,>=1.17.0 in /usr/local/lib/python3.10/dist-packages (from aiohttp->datasets) (1.18.3)\n",
      "Requirement already satisfied: typing-extensions>=3.7.4.3 in /usr/local/lib/python3.10/dist-packages (from huggingface-hub>=0.23.0->datasets) (4.12.2)\n",
      "Requirement already satisfied: mkl_fft in /usr/local/lib/python3.10/dist-packages (from numpy>=1.17->datasets) (1.3.8)\n",
      "Requirement already satisfied: mkl_random in /usr/local/lib/python3.10/dist-packages (from numpy>=1.17->datasets) (1.2.4)\n",
      "Requirement already satisfied: mkl_umath in /usr/local/lib/python3.10/dist-packages (from numpy>=1.17->datasets) (0.1.1)\n",
      "Requirement already satisfied: mkl in /usr/local/lib/python3.10/dist-packages (from numpy>=1.17->datasets) (2025.0.1)\n",
      "Requirement already satisfied: tbb4py in /usr/local/lib/python3.10/dist-packages (from numpy>=1.17->datasets) (2022.0.0)\n",
      "Requirement already satisfied: mkl-service in /usr/local/lib/python3.10/dist-packages (from numpy>=1.17->datasets) (2.4.1)\n",
      "Requirement already satisfied: charset-normalizer<4,>=2 in /usr/local/lib/python3.10/dist-packages (from requests>=2.32.2->datasets) (3.4.0)\n",
      "Requirement already satisfied: idna<4,>=2.5 in /usr/local/lib/python3.10/dist-packages (from requests>=2.32.2->datasets) (3.10)\n",
      "Requirement already satisfied: urllib3<3,>=1.21.1 in /usr/local/lib/python3.10/dist-packages (from requests>=2.32.2->datasets) (2.2.3)\n",
      "Requirement already satisfied: certifi>=2017.4.17 in /usr/local/lib/python3.10/dist-packages (from requests>=2.32.2->datasets) (2024.12.14)\n",
      "Requirement already satisfied: networkx in /usr/local/lib/python3.10/dist-packages (from torch>=1.10.0->accelerate) (3.4.2)\n",
      "Requirement already satisfied: jinja2 in /usr/local/lib/python3.10/dist-packages (from torch>=1.10.0->accelerate) (3.1.4)\n",
      "Requirement already satisfied: sympy==1.13.1 in /usr/local/lib/python3.10/dist-packages (from torch>=1.10.0->accelerate) (1.13.1)\n",
      "Requirement already satisfied: mpmath<1.4,>=1.1.0 in /usr/local/lib/python3.10/dist-packages (from sympy==1.13.1->torch>=1.10.0->accelerate) (1.3.0)\n",
      "Requirement already satisfied: python-dateutil>=2.8.2 in /usr/local/lib/python3.10/dist-packages (from pandas->datasets) (2.8.2)\n",
      "Requirement already satisfied: pytz>=2020.1 in /usr/local/lib/python3.10/dist-packages (from pandas->datasets) (2024.2)\n",
      "Requirement already satisfied: tzdata>=2022.7 in /usr/local/lib/python3.10/dist-packages (from pandas->datasets) (2024.2)\n",
      "Requirement already satisfied: six>=1.5 in /usr/local/lib/python3.10/dist-packages (from python-dateutil>=2.8.2->pandas->datasets) (1.17.0)\n",
      "Requirement already satisfied: MarkupSafe>=2.0 in /usr/local/lib/python3.10/dist-packages (from jinja2->torch>=1.10.0->accelerate) (3.0.2)\n",
      "Requirement already satisfied: intel-openmp>=2024 in /usr/local/lib/python3.10/dist-packages (from mkl->numpy>=1.17->datasets) (2024.2.0)\n",
      "Requirement already satisfied: tbb==2022.* in /usr/local/lib/python3.10/dist-packages (from mkl->numpy>=1.17->datasets) (2022.0.0)\n",
      "Requirement already satisfied: tcmlib==1.* in /usr/local/lib/python3.10/dist-packages (from tbb==2022.*->mkl->numpy>=1.17->datasets) (1.2.0)\n",
      "Requirement already satisfied: intel-cmplr-lib-rt in /usr/local/lib/python3.10/dist-packages (from mkl_umath->numpy>=1.17->datasets) (2024.2.0)\n",
      "Requirement already satisfied: intel-cmplr-lib-ur==2024.2.0 in /usr/local/lib/python3.10/dist-packages (from intel-openmp>=2024->mkl->numpy>=1.17->datasets) (2024.2.0)\n",
      "Downloading evaluate-0.4.3-py3-none-any.whl (84 kB)\n",
      "\u001b[2K   \u001b[90m━━━━━━━━━━━━━━━━━━━━━━━━━━━━━━━━━━━━━━━━\u001b[0m \u001b[32m84.0/84.0 kB\u001b[0m \u001b[31m3.4 MB/s\u001b[0m eta \u001b[36m0:00:00\u001b[0m\n",
      "\u001b[?25hInstalling collected packages: evaluate\n",
      "Successfully installed evaluate-0.4.3\n"
     ]
    }
   ],
   "source": [
    "!pip install datasets transformers evaluate sentencepiece accelerate"
   ]
  },
  {
   "cell_type": "code",
   "execution_count": 10,
   "metadata": {
    "execution": {
     "iopub.execute_input": "2025-01-19T08:00:17.251043Z",
     "iopub.status.busy": "2025-01-19T08:00:17.250722Z",
     "iopub.status.idle": "2025-01-19T08:00:38.397673Z",
     "shell.execute_reply": "2025-01-19T08:00:38.396945Z",
     "shell.execute_reply.started": "2025-01-19T08:00:17.251017Z"
    },
    "trusted": true
   },
   "outputs": [],
   "source": [
    "import matplotlib.pyplot as plt\n",
    "import seaborn as sns\n",
    "\n",
    "from datasets import Dataset\n",
    "from transformers import AutoTokenizer\n",
    "from transformers import AutoModelForSequenceClassification\n",
    "from transformers import TrainingArguments, Trainer\n",
    "\n",
    "import torch\n",
    "from sklearn.metrics import roc_auc_score\n",
    "from sklearn.metrics import roc_curve, auc\n",
    "from sklearn.metrics import confusion_matrix, ConfusionMatrixDisplay\n",
    "from sklearn.metrics import precision_recall_fscore_support, accuracy_score"
   ]
  },
  {
   "cell_type": "code",
   "execution_count": 11,
   "metadata": {
    "execution": {
     "iopub.execute_input": "2025-01-19T08:00:38.399805Z",
     "iopub.status.busy": "2025-01-19T08:00:38.399192Z",
     "iopub.status.idle": "2025-01-19T08:00:38.577010Z",
     "shell.execute_reply": "2025-01-19T08:00:38.576046Z",
     "shell.execute_reply.started": "2025-01-19T08:00:38.399780Z"
    },
    "trusted": true
   },
   "outputs": [],
   "source": [
    "train_afr = pd.read_csv(\"/kaggle/input/semeval-2025-task-11-emotion/public_data_test/track_a/train/afr.csv\")\n",
    "train_arq = pd.read_csv(\"/kaggle/input/semeval-2025-task-11-emotion/public_data_test/track_a/train/arq.csv\")\n",
    "train_hin = pd.read_csv(\"/kaggle/input/semeval-2025-task-11-emotion/public_data_test/track_a/train/hin.csv\")\n",
    "train_swe = pd.read_csv(\"/kaggle/input/semeval-2025-task-11-emotion/public_data_test/track_a/train/swe.csv\")\n",
    "\n",
    "\n",
    "dev_afr = pd.read_csv(\"/kaggle/input/semeval-2025-task-11-emotion/public_data_test/track_a/dev/afr.csv\")\n",
    "dev_arq = pd.read_csv(\"/kaggle/input/semeval-2025-task-11-emotion/public_data_test/track_a/dev/arq.csv\")\n",
    "dev_hin = pd.read_csv(\"/kaggle/input/semeval-2025-task-11-emotion/public_data_test/track_a/dev/hin.csv\")\n",
    "dev_swe = pd.read_csv(\"/kaggle/input/semeval-2025-task-11-emotion/public_data_test/track_a/dev/swe.csv\")\n",
    "\n",
    "\n",
    "test_afr = pd.read_csv(\"/kaggle/input/semeval-2025-task-11-emotion/public_data_test/track_a/test/afr.csv\")\n",
    "test_arq = pd.read_csv(\"/kaggle/input/semeval-2025-task-11-emotion/public_data_test/track_a/test/arq.csv\")\n",
    "test_hin = pd.read_csv(\"/kaggle/input/semeval-2025-task-11-emotion/public_data_test/track_a/test/hin.csv\")\n",
    "test_swe = pd.read_csv(\"/kaggle/input/semeval-2025-task-11-emotion/public_data_test/track_a/test/swe.csv\")"
   ]
  },
  {
   "cell_type": "markdown",
   "metadata": {},
   "source": [
    "# AFRIKAANS"
   ]
  },
  {
   "cell_type": "markdown",
   "metadata": {},
   "source": [
    "## Sources:\n",
    "- https://huggingface.co/cardiffnlp/twitter-xlm-roberta-base-sentiment"
   ]
  },
  {
   "cell_type": "code",
   "execution_count": 12,
   "metadata": {
    "execution": {
     "iopub.execute_input": "2025-01-19T08:18:35.224772Z",
     "iopub.status.busy": "2025-01-19T08:18:35.224380Z",
     "iopub.status.idle": "2025-01-19T08:18:35.244014Z",
     "shell.execute_reply": "2025-01-19T08:18:35.243245Z",
     "shell.execute_reply.started": "2025-01-19T08:18:35.224742Z"
    },
    "trusted": true
   },
   "outputs": [
    {
     "data": {
      "text/html": [
       "<div>\n",
       "<style scoped>\n",
       "    .dataframe tbody tr th:only-of-type {\n",
       "        vertical-align: middle;\n",
       "    }\n",
       "\n",
       "    .dataframe tbody tr th {\n",
       "        vertical-align: top;\n",
       "    }\n",
       "\n",
       "    .dataframe thead th {\n",
       "        text-align: right;\n",
       "    }\n",
       "</style>\n",
       "<table border=\"1\" class=\"dataframe\">\n",
       "  <thead>\n",
       "    <tr style=\"text-align: right;\">\n",
       "      <th></th>\n",
       "      <th>id</th>\n",
       "      <th>text</th>\n",
       "      <th>anger</th>\n",
       "      <th>disgust</th>\n",
       "      <th>fear</th>\n",
       "      <th>joy</th>\n",
       "      <th>sadness</th>\n",
       "    </tr>\n",
       "  </thead>\n",
       "  <tbody>\n",
       "    <tr>\n",
       "      <th>0</th>\n",
       "      <td>afr_train_track_a_00001</td>\n",
       "      <td>Die grondeienaars het die departement genader ...</td>\n",
       "      <td>0</td>\n",
       "      <td>0</td>\n",
       "      <td>0</td>\n",
       "      <td>0</td>\n",
       "      <td>0</td>\n",
       "    </tr>\n",
       "    <tr>\n",
       "      <th>1</th>\n",
       "      <td>afr_train_track_a_00002</td>\n",
       "      <td>Dit is verder 'n erkende feit dat daar menings...</td>\n",
       "      <td>0</td>\n",
       "      <td>0</td>\n",
       "      <td>0</td>\n",
       "      <td>0</td>\n",
       "      <td>0</td>\n",
       "    </tr>\n",
       "    <tr>\n",
       "      <th>2</th>\n",
       "      <td>afr_train_track_a_00003</td>\n",
       "      <td>Baie families in die Wes-Kaap is in rou gedomp...</td>\n",
       "      <td>0</td>\n",
       "      <td>0</td>\n",
       "      <td>0</td>\n",
       "      <td>0</td>\n",
       "      <td>1</td>\n",
       "    </tr>\n",
       "    <tr>\n",
       "      <th>3</th>\n",
       "      <td>afr_train_track_a_00004</td>\n",
       "      <td>Ons wil u deelmaak van die werk wat ons doen.</td>\n",
       "      <td>0</td>\n",
       "      <td>0</td>\n",
       "      <td>0</td>\n",
       "      <td>1</td>\n",
       "      <td>0</td>\n",
       "    </tr>\n",
       "    <tr>\n",
       "      <th>4</th>\n",
       "      <td>afr_train_track_a_00005</td>\n",
       "      <td>En dit onderstreep waarom NALN en NELM gesamen...</td>\n",
       "      <td>0</td>\n",
       "      <td>0</td>\n",
       "      <td>0</td>\n",
       "      <td>1</td>\n",
       "      <td>0</td>\n",
       "    </tr>\n",
       "  </tbody>\n",
       "</table>\n",
       "</div>"
      ],
      "text/plain": [
       "                        id                                               text  \\\n",
       "0  afr_train_track_a_00001  Die grondeienaars het die departement genader ...   \n",
       "1  afr_train_track_a_00002  Dit is verder 'n erkende feit dat daar menings...   \n",
       "2  afr_train_track_a_00003  Baie families in die Wes-Kaap is in rou gedomp...   \n",
       "3  afr_train_track_a_00004      Ons wil u deelmaak van die werk wat ons doen.   \n",
       "4  afr_train_track_a_00005  En dit onderstreep waarom NALN en NELM gesamen...   \n",
       "\n",
       "   anger  disgust  fear  joy  sadness  \n",
       "0      0        0     0    0        0  \n",
       "1      0        0     0    0        0  \n",
       "2      0        0     0    0        1  \n",
       "3      0        0     0    1        0  \n",
       "4      0        0     0    1        0  "
      ]
     },
     "execution_count": 12,
     "metadata": {},
     "output_type": "execute_result"
    }
   ],
   "source": [
    "train_afr.head()"
   ]
  },
  {
   "cell_type": "code",
   "execution_count": 5,
   "metadata": {
    "execution": {
     "iopub.execute_input": "2025-01-17T16:39:42.740170Z",
     "iopub.status.busy": "2025-01-17T16:39:42.739757Z",
     "iopub.status.idle": "2025-01-17T16:39:42.760438Z",
     "shell.execute_reply": "2025-01-17T16:39:42.759704Z",
     "shell.execute_reply.started": "2025-01-17T16:39:42.740137Z"
    },
    "trusted": true
   },
   "outputs": [
    {
     "name": "stdout",
     "output_type": "stream",
     "text": [
      "<class 'pandas.core.frame.DataFrame'>\n",
      "RangeIndex: 1222 entries, 0 to 1221\n",
      "Data columns (total 7 columns):\n",
      " #   Column   Non-Null Count  Dtype \n",
      "---  ------   --------------  ----- \n",
      " 0   id       1222 non-null   object\n",
      " 1   text     1222 non-null   object\n",
      " 2   anger    1222 non-null   int64 \n",
      " 3   disgust  1222 non-null   int64 \n",
      " 4   fear     1222 non-null   int64 \n",
      " 5   joy      1222 non-null   int64 \n",
      " 6   sadness  1222 non-null   int64 \n",
      "dtypes: int64(5), object(2)\n",
      "memory usage: 67.0+ KB\n"
     ]
    }
   ],
   "source": [
    "train_afr.info()"
   ]
  },
  {
   "cell_type": "code",
   "execution_count": 25,
   "metadata": {
    "execution": {
     "iopub.execute_input": "2025-01-17T17:04:36.261985Z",
     "iopub.status.busy": "2025-01-17T17:04:36.261663Z",
     "iopub.status.idle": "2025-01-17T17:04:36.270885Z",
     "shell.execute_reply": "2025-01-17T17:04:36.269990Z",
     "shell.execute_reply.started": "2025-01-17T17:04:36.261960Z"
    },
    "trusted": true
   },
   "outputs": [
    {
     "name": "stdout",
     "output_type": "stream",
     "text": [
      "<class 'pandas.core.frame.DataFrame'>\n",
      "RangeIndex: 98 entries, 0 to 97\n",
      "Data columns (total 7 columns):\n",
      " #   Column   Non-Null Count  Dtype \n",
      "---  ------   --------------  ----- \n",
      " 0   id       98 non-null     object\n",
      " 1   text     98 non-null     object\n",
      " 2   anger    98 non-null     int64 \n",
      " 3   disgust  98 non-null     int64 \n",
      " 4   fear     98 non-null     int64 \n",
      " 5   joy      98 non-null     int64 \n",
      " 6   sadness  98 non-null     int64 \n",
      "dtypes: int64(5), object(2)\n",
      "memory usage: 5.5+ KB\n"
     ]
    }
   ],
   "source": [
    "dev_afr.info()"
   ]
  },
  {
   "cell_type": "code",
   "execution_count": 17,
   "metadata": {
    "execution": {
     "iopub.execute_input": "2025-01-17T16:57:08.353146Z",
     "iopub.status.busy": "2025-01-17T16:57:08.352722Z",
     "iopub.status.idle": "2025-01-17T16:57:08.488184Z",
     "shell.execute_reply": "2025-01-17T16:57:08.487327Z",
     "shell.execute_reply.started": "2025-01-17T16:57:08.353109Z"
    },
    "trusted": true
   },
   "outputs": [
    {
     "data": {
      "text/plain": [
       "<Axes: >"
      ]
     },
     "execution_count": 17,
     "metadata": {},
     "output_type": "execute_result"
    },
    {
     "data": {
      "image/png": "[encoded data removed]",
      "text/plain": [
       "<Figure size 640x480 with 1 Axes>"
      ]
     },
     "metadata": {},
     "output_type": "display_data"
    }
   ],
   "source": [
    "attributes = ['anger', 'fear', 'joy', 'sadness', 'disgust']\n",
    "train_afr[attributes].sum().plot.bar()"
   ]
  },
  {
   "cell_type": "code",
   "execution_count": 18,
   "metadata": {
    "execution": {
     "iopub.execute_input": "2025-01-17T16:57:12.320803Z",
     "iopub.status.busy": "2025-01-17T16:57:12.320484Z",
     "iopub.status.idle": "2025-01-17T16:57:12.457269Z",
     "shell.execute_reply": "2025-01-17T16:57:12.456445Z",
     "shell.execute_reply.started": "2025-01-17T16:57:12.320775Z"
    },
    "trusted": true
   },
   "outputs": [
    {
     "data": {
      "text/plain": [
       "<Axes: >"
      ]
     },
     "execution_count": 18,
     "metadata": {},
     "output_type": "execute_result"
    },
    {
     "data": {
      "image/png": "[encoded data removed]",
      "text/plain": [
       "<Figure size 640x480 with 1 Axes>"
      ]
     },
     "metadata": {},
     "output_type": "display_data"
    }
   ],
   "source": [
    "dev_afr[attributes].sum().plot.bar()"
   ]
  },
  {
   "cell_type": "code",
   "execution_count": 33,
   "metadata": {
    "execution": {
     "iopub.execute_input": "2025-01-18T10:44:00.738556Z",
     "iopub.status.busy": "2025-01-18T10:44:00.738121Z",
     "iopub.status.idle": "2025-01-18T10:44:00.761937Z",
     "shell.execute_reply": "2025-01-18T10:44:00.761061Z",
     "shell.execute_reply.started": "2025-01-18T10:44:00.738517Z"
    },
    "trusted": true
   },
   "outputs": [
    {
     "name": "stdout",
     "output_type": "stream",
     "text": [
      "<class 'pandas.core.frame.DataFrame'>\n",
      "RangeIndex: 1065 entries, 0 to 1064\n",
      "Data columns (total 7 columns):\n",
      " #   Column   Non-Null Count  Dtype  \n",
      "---  ------   --------------  -----  \n",
      " 0   id       1065 non-null   object \n",
      " 1   text     1065 non-null   object \n",
      " 2   anger    0 non-null      float64\n",
      " 3   disgust  0 non-null      float64\n",
      " 4   fear     0 non-null      float64\n",
      " 5   joy      0 non-null      float64\n",
      " 6   sadness  0 non-null      float64\n",
      "dtypes: float64(5), object(2)\n",
      "memory usage: 58.4+ KB\n"
     ]
    }
   ],
   "source": [
    "test_afr.info()"
   ]
  },
  {
   "cell_type": "code",
   "execution_count": 34,
   "metadata": {
    "execution": {
     "iopub.execute_input": "2025-01-18T10:44:09.684398Z",
     "iopub.status.busy": "2025-01-18T10:44:09.684066Z",
     "iopub.status.idle": "2025-01-18T10:44:09.698708Z",
     "shell.execute_reply": "2025-01-18T10:44:09.697828Z",
     "shell.execute_reply.started": "2025-01-18T10:44:09.684343Z"
    },
    "trusted": true
   },
   "outputs": [
    {
     "name": "stderr",
     "output_type": "stream",
     "text": [
      "/usr/local/lib/python3.10/dist-packages/pandas/io/formats/format.py:1458: RuntimeWarning: invalid value encountered in greater\n",
      "  has_large_values = (abs_vals > 1e6).any()\n",
      "/usr/local/lib/python3.10/dist-packages/pandas/io/formats/format.py:1459: RuntimeWarning: invalid value encountered in less\n",
      "  has_small_values = ((abs_vals < 10 ** (-self.digits)) & (abs_vals > 0)).any()\n",
      "/usr/local/lib/python3.10/dist-packages/pandas/io/formats/format.py:1459: RuntimeWarning: invalid value encountered in greater\n",
      "  has_small_values = ((abs_vals < 10 ** (-self.digits)) & (abs_vals > 0)).any()\n"
     ]
    },
    {
     "data": {
      "text/html": [
       "<div>\n",
       "<style scoped>\n",
       "    .dataframe tbody tr th:only-of-type {\n",
       "        vertical-align: middle;\n",
       "    }\n",
       "\n",
       "    .dataframe tbody tr th {\n",
       "        vertical-align: top;\n",
       "    }\n",
       "\n",
       "    .dataframe thead th {\n",
       "        text-align: right;\n",
       "    }\n",
       "</style>\n",
       "<table border=\"1\" class=\"dataframe\">\n",
       "  <thead>\n",
       "    <tr style=\"text-align: right;\">\n",
       "      <th></th>\n",
       "      <th>id</th>\n",
       "      <th>text</th>\n",
       "      <th>anger</th>\n",
       "      <th>disgust</th>\n",
       "      <th>fear</th>\n",
       "      <th>joy</th>\n",
       "      <th>sadness</th>\n",
       "    </tr>\n",
       "  </thead>\n",
       "  <tbody>\n",
       "    <tr>\n",
       "      <th>0</th>\n",
       "      <td>afr_test_track_a_00001</td>\n",
       "      <td>As regering is ons daartoe verbind om ons deel...</td>\n",
       "      <td>NaN</td>\n",
       "      <td>NaN</td>\n",
       "      <td>NaN</td>\n",
       "      <td>NaN</td>\n",
       "      <td>NaN</td>\n",
       "    </tr>\n",
       "    <tr>\n",
       "      <th>1</th>\n",
       "      <td>afr_test_track_a_00002</td>\n",
       "      <td>Op die oomblik is die kwessie van voedselsekur...</td>\n",
       "      <td>NaN</td>\n",
       "      <td>NaN</td>\n",
       "      <td>NaN</td>\n",
       "      <td>NaN</td>\n",
       "      <td>NaN</td>\n",
       "    </tr>\n",
       "    <tr>\n",
       "      <th>2</th>\n",
       "      <td>afr_test_track_a_00003</td>\n",
       "      <td>Ek hoor dikwels mense sê hulle is gereed om be...</td>\n",
       "      <td>NaN</td>\n",
       "      <td>NaN</td>\n",
       "      <td>NaN</td>\n",
       "      <td>NaN</td>\n",
       "      <td>NaN</td>\n",
       "    </tr>\n",
       "    <tr>\n",
       "      <th>3</th>\n",
       "      <td>afr_test_track_a_00004</td>\n",
       "      <td>Hiervan bly kindermishandeling waarskynlik een...</td>\n",
       "      <td>NaN</td>\n",
       "      <td>NaN</td>\n",
       "      <td>NaN</td>\n",
       "      <td>NaN</td>\n",
       "      <td>NaN</td>\n",
       "    </tr>\n",
       "    <tr>\n",
       "      <th>4</th>\n",
       "      <td>afr_test_track_a_00005</td>\n",
       "      <td>So gaan ons ernstig kyk na die kwaliteit van o...</td>\n",
       "      <td>NaN</td>\n",
       "      <td>NaN</td>\n",
       "      <td>NaN</td>\n",
       "      <td>NaN</td>\n",
       "      <td>NaN</td>\n",
       "    </tr>\n",
       "  </tbody>\n",
       "</table>\n",
       "</div>"
      ],
      "text/plain": [
       "                       id                                               text  \\\n",
       "0  afr_test_track_a_00001  As regering is ons daartoe verbind om ons deel...   \n",
       "1  afr_test_track_a_00002  Op die oomblik is die kwessie van voedselsekur...   \n",
       "2  afr_test_track_a_00003  Ek hoor dikwels mense sê hulle is gereed om be...   \n",
       "3  afr_test_track_a_00004  Hiervan bly kindermishandeling waarskynlik een...   \n",
       "4  afr_test_track_a_00005  So gaan ons ernstig kyk na die kwaliteit van o...   \n",
       "\n",
       "   anger  disgust  fear  joy  sadness  \n",
       "0    NaN      NaN   NaN  NaN      NaN  \n",
       "1    NaN      NaN   NaN  NaN      NaN  \n",
       "2    NaN      NaN   NaN  NaN      NaN  \n",
       "3    NaN      NaN   NaN  NaN      NaN  \n",
       "4    NaN      NaN   NaN  NaN      NaN  "
      ]
     },
     "execution_count": 34,
     "metadata": {},
     "output_type": "execute_result"
    }
   ],
   "source": [
    "test_afr.head()"
   ]
  },
  {
   "cell_type": "markdown",
   "metadata": {},
   "source": [
    "https://huggingface.co/FacebookAI/xlm-roberta-base"
   ]
  },
  {
   "cell_type": "code",
   "execution_count": 13,
   "metadata": {
    "execution": {
     "iopub.execute_input": "2025-01-19T08:18:49.705719Z",
     "iopub.status.busy": "2025-01-19T08:18:49.705365Z",
     "iopub.status.idle": "2025-01-19T08:18:49.709787Z",
     "shell.execute_reply": "2025-01-19T08:18:49.708910Z",
     "shell.execute_reply.started": "2025-01-19T08:18:49.705692Z"
    },
    "trusted": true
   },
   "outputs": [],
   "source": [
    "emotion_labels = [\"anger\", \"disgust\", \"fear\", \"joy\", \"sadness\"]"
   ]
  },
  {
   "cell_type": "code",
   "execution_count": null,
   "metadata": {
    "execution": {
     "iopub.execute_input": "2025-01-19T08:19:58.975615Z",
     "iopub.status.busy": "2025-01-19T08:19:58.975216Z",
     "iopub.status.idle": "2025-01-19T08:20:05.180307Z",
     "shell.execute_reply": "2025-01-19T08:20:05.179297Z",
     "shell.execute_reply.started": "2025-01-19T08:19:58.975568Z"
    },
    "trusted": true
   },
   "outputs": [
    {
     "name": "stderr",
     "output_type": "stream",
     "text": [
      "Some weights of XLMRobertaForSequenceClassification were not initialized from the model checkpoint at cardiffnlp/twitter-xlm-roberta-base-sentiment and are newly initialized because the shapes did not match:\n",
      "- classifier.out_proj.weight: found shape torch.Size([3, 768]) in the checkpoint and torch.Size([5, 768]) in the model instantiated\n",
      "- classifier.out_proj.bias: found shape torch.Size([3]) in the checkpoint and torch.Size([5]) in the model instantiated\n",
      "You should probably TRAIN this model on a down-stream task to be able to use it for predictions and inference.\n"
     ]
    }
   ],
   "source": [
    "tokenizer = AutoTokenizer.from_pretrained('cardiffnlp/twitter-xlm-roberta-base-sentiment')\n",
    "model = AutoModelForSequenceClassification.from_pretrained('cardiffnlp/twitter-xlm-roberta-base-sentiment',\n",
    "                                                           problem_type=\"multi_label_classification\",\n",
    "                                                           ignore_mismatched_sizes=True,\n",
    "                                                           num_labels=len(emotion_labels))"
   ]
  },
  {
   "cell_type": "code",
   "execution_count": null,
   "metadata": {
    "execution": {
     "iopub.execute_input": "2025-01-19T08:20:18.113553Z",
     "iopub.status.busy": "2025-01-19T08:20:18.113148Z",
     "iopub.status.idle": "2025-01-19T08:20:18.118231Z",
     "shell.execute_reply": "2025-01-19T08:20:18.117243Z",
     "shell.execute_reply.started": "2025-01-19T08:20:18.113520Z"
    },
    "trusted": true
   },
   "outputs": [],
   "source": [
    "def tokenize(batch):\n",
    "    return tokenizer(batch['text'], padding=True, truncation=True, max_length=128)"
   ]
  },
  {
   "cell_type": "code",
   "execution_count": null,
   "metadata": {
    "execution": {
     "iopub.execute_input": "2025-01-19T08:20:19.444329Z",
     "iopub.status.busy": "2025-01-19T08:20:19.444044Z",
     "iopub.status.idle": "2025-01-19T08:20:19.448780Z",
     "shell.execute_reply": "2025-01-19T08:20:19.447958Z",
     "shell.execute_reply.started": "2025-01-19T08:20:19.444305Z"
    },
    "trusted": true
   },
   "outputs": [],
   "source": [
    "def encode_data(df, tokenizer):\n",
    "    encodings = tokenizer(list(df['text']), truncation=True, padding=True, max_length=128)\n",
    "    labels = df[['anger', 'disgust', 'fear', 'joy', 'sadness']].fillna(0).values\n",
    "    return encodings, labels"
   ]
  },
  {
   "cell_type": "code",
   "execution_count": 18,
   "metadata": {
    "execution": {
     "iopub.execute_input": "2025-01-19T08:20:21.769847Z",
     "iopub.status.busy": "2025-01-19T08:20:21.769511Z",
     "iopub.status.idle": "2025-01-19T08:20:21.842665Z",
     "shell.execute_reply": "2025-01-19T08:20:21.841782Z",
     "shell.execute_reply.started": "2025-01-19T08:20:21.769821Z"
    },
    "trusted": true
   },
   "outputs": [],
   "source": [
    "train_encodings, train_labels = encode_data(train_afr, tokenizer)\n",
    "dev_encodings, dev_labels = encode_data(dev_afr, tokenizer)"
   ]
  },
  {
   "cell_type": "code",
   "execution_count": null,
   "metadata": {
    "execution": {
     "iopub.execute_input": "2025-01-19T08:20:23.250743Z",
     "iopub.status.busy": "2025-01-19T08:20:23.250430Z",
     "iopub.status.idle": "2025-01-19T08:20:23.255514Z",
     "shell.execute_reply": "2025-01-19T08:20:23.254643Z",
     "shell.execute_reply.started": "2025-01-19T08:20:23.250719Z"
    },
    "trusted": true
   },
   "outputs": [],
   "source": [
    "class CustomDataset(torch.utils.data.Dataset):\n",
    "    def __init__(self, encodings, labels):\n",
    "        self.encodings = encodings\n",
    "        self.labels = torch.tensor(labels, dtype=torch.float)\n",
    "\n",
    "    def __len__(self):\n",
    "        return len(self.labels)\n",
    "\n",
    "    def __getitem__(self, idx):\n",
    "        item = {key: torch.tensor(val[idx]) for key, val in self.encodings.items()}\n",
    "        item['labels'] = self.labels[idx]\n",
    "        return item"
   ]
  },
  {
   "cell_type": "code",
   "execution_count": 20,
   "metadata": {
    "execution": {
     "iopub.execute_input": "2025-01-19T08:20:24.326898Z",
     "iopub.status.busy": "2025-01-19T08:20:24.326570Z",
     "iopub.status.idle": "2025-01-19T08:20:24.336827Z",
     "shell.execute_reply": "2025-01-19T08:20:24.335933Z",
     "shell.execute_reply.started": "2025-01-19T08:20:24.326869Z"
    },
    "trusted": true
   },
   "outputs": [],
   "source": [
    "train_dataset = CustomDataset(train_encodings, train_labels)\n",
    "dev_dataset = CustomDataset(dev_encodings, dev_labels)"
   ]
  },
  {
   "cell_type": "code",
   "execution_count": 21,
   "metadata": {
    "execution": {
     "iopub.execute_input": "2025-01-19T08:20:25.806283Z",
     "iopub.status.busy": "2025-01-19T08:20:25.805977Z",
     "iopub.status.idle": "2025-01-19T08:20:25.811969Z",
     "shell.execute_reply": "2025-01-19T08:20:25.811133Z",
     "shell.execute_reply.started": "2025-01-19T08:20:25.806259Z"
    },
    "trusted": true
   },
   "outputs": [
    {
     "data": {
      "text/plain": [
       "<__main__.CustomDataset at 0x792643da6320>"
      ]
     },
     "execution_count": 21,
     "metadata": {},
     "output_type": "execute_result"
    }
   ],
   "source": [
    "train_dataset"
   ]
  },
  {
   "cell_type": "code",
   "execution_count": null,
   "metadata": {
    "trusted": true
   },
   "outputs": [],
   "source": [
    "train_dataset.encodings"
   ]
  },
  {
   "cell_type": "code",
   "execution_count": null,
   "metadata": {
    "execution": {
     "iopub.execute_input": "2025-01-18T11:01:51.015343Z",
     "iopub.status.busy": "2025-01-18T11:01:51.015039Z",
     "iopub.status.idle": "2025-01-18T11:01:51.251695Z",
     "shell.execute_reply": "2025-01-18T11:01:51.251026Z",
     "shell.execute_reply.started": "2025-01-18T11:01:51.015300Z"
    },
    "trusted": true
   },
   "outputs": [],
   "source": [
    "def calculate_token_lengths(texts, tokenizer):\n",
    "    token_lengths = [len(tokenizer.encode(text, truncation=False)) for text in texts]\n",
    "    return token_lengths\n",
    "\n",
    "train_lengths = calculate_token_lengths(train_afr['text'], tokenizer)\n",
    "dev_lengths = calculate_token_lengths(dev_afr['text'], tokenizer)\n",
    "test_lengths = calculate_token_lengths(test_afr['text'], tokenizer)"
   ]
  },
  {
   "cell_type": "code",
   "execution_count": null,
   "metadata": {
    "execution": {
     "iopub.execute_input": "2025-01-18T11:02:55.317473Z",
     "iopub.status.busy": "2025-01-18T11:02:55.316820Z",
     "iopub.status.idle": "2025-01-18T11:02:55.702737Z",
     "shell.execute_reply": "2025-01-18T11:02:55.702001Z",
     "shell.execute_reply.started": "2025-01-18T11:02:55.317445Z"
    },
    "trusted": true
   },
   "outputs": [
    {
     "name": "stderr",
     "output_type": "stream",
     "text": [
      "/usr/local/lib/python3.10/dist-packages/seaborn/_oldcore.py:1119: FutureWarning: use_inf_as_na option is deprecated and will be removed in a future version. Convert inf values to NaN before operating instead.\n",
      "  with pd.option_context('mode.use_inf_as_na', True):\n"
     ]
    },
    {
     "data": {
      "image/png": "[encoded data removed]",
      "text/plain": [
       "<Figure size 1000x600 with 1 Axes>"
      ]
     },
     "metadata": {},
     "output_type": "display_data"
    }
   ],
   "source": [
    "all_lengths = train_lengths + dev_lengths + test_lengths\n",
    "\n",
    "plt.figure(figsize=(10, 6))\n",
    "sns.histplot(all_lengths, bins=50, kde=True, color='blue', alpha=0.7)\n",
    "plt.axvline(x=np.percentile(all_lengths, 90), color='red', linestyle='--', label='90th Percentile')\n",
    "plt.axvline(x=np.percentile(all_lengths, 95), color='green', linestyle='--', label='95th Percentile')\n",
    "plt.title('Token Length Distribution')\n",
    "plt.xlabel('Number of Tokens')\n",
    "plt.ylabel('Frequency')\n",
    "plt.legend()\n",
    "plt.show()"
   ]
  },
  {
   "cell_type": "code",
   "execution_count": null,
   "metadata": {
    "execution": {
     "iopub.execute_input": "2025-01-19T08:20:36.731029Z",
     "iopub.status.busy": "2025-01-19T08:20:36.730752Z",
     "iopub.status.idle": "2025-01-19T08:20:36.735791Z",
     "shell.execute_reply": "2025-01-19T08:20:36.734921Z",
     "shell.execute_reply.started": "2025-01-19T08:20:36.731007Z"
    },
    "trusted": true
   },
   "outputs": [],
   "source": [
    "def compute_metrics(pred, threshold=0.3):\n",
    "    logits, labels = pred\n",
    "    predictions = (torch.sigmoid(torch.tensor(logits)) > threshold).numpy()\n",
    "    labels = labels.astype(int)\n",
    "\n",
    "    precision, recall, f1, _ = precision_recall_fscore_support(labels, predictions, average=\"weighted\")\n",
    "    accuracy = accuracy_score(labels, predictions)\n",
    "\n",
    "    return {\n",
    "        'accuracy': accuracy,\n",
    "        'f1': np.mean(f1),\n",
    "        'precision': np.mean(precision),\n",
    "        'recall': np.mean(recall),\n",
    "    }\n"
   ]
  },
  {
   "cell_type": "code",
   "execution_count": null,
   "metadata": {
    "execution": {
     "iopub.execute_input": "2025-01-19T08:20:55.407335Z",
     "iopub.status.busy": "2025-01-19T08:20:55.407046Z",
     "iopub.status.idle": "2025-01-19T08:20:55.552541Z",
     "shell.execute_reply": "2025-01-19T08:20:55.551852Z",
     "shell.execute_reply.started": "2025-01-19T08:20:55.407311Z"
    },
    "trusted": true
   },
   "outputs": [
    {
     "name": "stderr",
     "output_type": "stream",
     "text": [
      "Using the `WANDB_DISABLED` environment variable is deprecated and will be removed in v5. Use the --report_to flag to control the integrations used for logging result (for instance --report_to none).\n"
     ]
    }
   ],
   "source": [
    "training_args = TrainingArguments(\n",
    "    output_dir='./results/afr/xlm-roberta-sentiment-v1',\n",
    "    report_to=None,\n",
    "    evaluation_strategy=\"steps\",\n",
    "    save_total_limit = 1,\n",
    "    logging_strategy=\"epoch\",\n",
    "    load_best_model_at_end=True,\n",
    "    learning_rate=1e-5,\n",
    "    per_device_train_batch_size=8,\n",
    "    per_device_eval_batch_size=8,\n",
    "    num_train_epochs=100,\n",
    "    weight_decay=0.01,\n",
    ")"
   ]
  },
  {
   "cell_type": "code",
   "execution_count": null,
   "metadata": {
    "execution": {
     "iopub.execute_input": "2025-01-19T08:20:58.853503Z",
     "iopub.status.busy": "2025-01-19T08:20:58.853160Z",
     "iopub.status.idle": "2025-01-19T08:20:59.545119Z",
     "shell.execute_reply": "2025-01-19T08:20:59.544177Z",
     "shell.execute_reply.started": "2025-01-19T08:20:58.853445Z"
    },
    "trusted": true
   },
   "outputs": [],
   "source": [
    "trainer = Trainer(\n",
    "    model=model,\n",
    "    args=training_args,\n",
    "    train_dataset=train_dataset,\n",
    "    eval_dataset=dev_dataset,\n",
    "    tokenizer=tokenizer,\n",
    "    compute_metrics=compute_metrics\n",
    ")"
   ]
  },
  {
   "cell_type": "code",
   "execution_count": 25,
   "metadata": {
    "execution": {
     "iopub.execute_input": "2025-01-19T08:21:00.187206Z",
     "iopub.status.busy": "2025-01-19T08:21:00.186933Z",
     "iopub.status.idle": "2025-01-19T08:21:00.191243Z",
     "shell.execute_reply": "2025-01-19T08:21:00.190570Z",
     "shell.execute_reply.started": "2025-01-19T08:21:00.187180Z"
    },
    "trusted": true
   },
   "outputs": [],
   "source": [
    "from unittest import mock\n",
    "from unittest.mock import Mock\n",
    "class Dummy:\n",
    "    def __enter__(self):\n",
    "        return Mock()\n",
    "\n",
    "    def __exit__(self, *args):\n",
    "        pass"
   ]
  },
  {
   "cell_type": "code",
   "execution_count": 26,
   "metadata": {
    "execution": {
     "iopub.execute_input": "2025-01-19T08:21:08.944705Z",
     "iopub.status.busy": "2025-01-19T08:21:08.944376Z",
     "iopub.status.idle": "2025-01-19T09:10:26.985229Z",
     "shell.execute_reply": "2025-01-19T09:10:26.984297Z",
     "shell.execute_reply.started": "2025-01-19T08:21:08.944677Z"
    },
    "trusted": true
   },
   "outputs": [
    {
     "data": {
      "text/html": [
       "\n",
       "    <div>\n",
       "      \n",
       "      <progress value='7700' max='7700' style='width:300px; height:20px; vertical-align: middle;'></progress>\n",
       "      [7700/7700 49:15, Epoch 100/100]\n",
       "    </div>\n",
       "    <table border=\"1\" class=\"dataframe\">\n",
       "  <thead>\n",
       " <tr style=\"text-align: left;\">\n",
       "      <th>Step</th>\n",
       "      <th>Training Loss</th>\n",
       "      <th>Validation Loss</th>\n",
       "      <th>Accuracy</th>\n",
       "      <th>F1</th>\n",
       "      <th>Precision</th>\n",
       "      <th>Recall</th>\n",
       "    </tr>\n",
       "  </thead>\n",
       "  <tbody>\n",
       "    <tr>\n",
       "      <td>500</td>\n",
       "      <td>0.192200</td>\n",
       "      <td>0.319620</td>\n",
       "      <td>0.530612</td>\n",
       "      <td>0.533464</td>\n",
       "      <td>0.538264</td>\n",
       "      <td>0.602740</td>\n",
       "    </tr>\n",
       "    <tr>\n",
       "      <td>1000</td>\n",
       "      <td>0.101400</td>\n",
       "      <td>0.360377</td>\n",
       "      <td>0.561224</td>\n",
       "      <td>0.574797</td>\n",
       "      <td>0.589293</td>\n",
       "      <td>0.602740</td>\n",
       "    </tr>\n",
       "    <tr>\n",
       "      <td>1500</td>\n",
       "      <td>0.039400</td>\n",
       "      <td>0.431214</td>\n",
       "      <td>0.520408</td>\n",
       "      <td>0.535523</td>\n",
       "      <td>0.544502</td>\n",
       "      <td>0.534247</td>\n",
       "    </tr>\n",
       "    <tr>\n",
       "      <td>2000</td>\n",
       "      <td>0.018000</td>\n",
       "      <td>0.496368</td>\n",
       "      <td>0.540816</td>\n",
       "      <td>0.490480</td>\n",
       "      <td>0.500481</td>\n",
       "      <td>0.493151</td>\n",
       "    </tr>\n",
       "    <tr>\n",
       "      <td>2500</td>\n",
       "      <td>0.011800</td>\n",
       "      <td>0.555080</td>\n",
       "      <td>0.500000</td>\n",
       "      <td>0.523249</td>\n",
       "      <td>0.508880</td>\n",
       "      <td>0.547945</td>\n",
       "    </tr>\n",
       "    <tr>\n",
       "      <td>3000</td>\n",
       "      <td>0.009000</td>\n",
       "      <td>0.548583</td>\n",
       "      <td>0.551020</td>\n",
       "      <td>0.557234</td>\n",
       "      <td>0.572713</td>\n",
       "      <td>0.561644</td>\n",
       "    </tr>\n",
       "    <tr>\n",
       "      <td>3500</td>\n",
       "      <td>0.005600</td>\n",
       "      <td>0.595116</td>\n",
       "      <td>0.510204</td>\n",
       "      <td>0.542813</td>\n",
       "      <td>0.514280</td>\n",
       "      <td>0.575342</td>\n",
       "    </tr>\n",
       "    <tr>\n",
       "      <td>4000</td>\n",
       "      <td>0.005100</td>\n",
       "      <td>0.593700</td>\n",
       "      <td>0.530612</td>\n",
       "      <td>0.530447</td>\n",
       "      <td>0.563900</td>\n",
       "      <td>0.534247</td>\n",
       "    </tr>\n",
       "    <tr>\n",
       "      <td>4500</td>\n",
       "      <td>0.002500</td>\n",
       "      <td>0.650238</td>\n",
       "      <td>0.520408</td>\n",
       "      <td>0.547104</td>\n",
       "      <td>0.541456</td>\n",
       "      <td>0.561644</td>\n",
       "    </tr>\n",
       "    <tr>\n",
       "      <td>5000</td>\n",
       "      <td>0.002400</td>\n",
       "      <td>0.647749</td>\n",
       "      <td>0.540816</td>\n",
       "      <td>0.526647</td>\n",
       "      <td>0.541926</td>\n",
       "      <td>0.520548</td>\n",
       "    </tr>\n",
       "    <tr>\n",
       "      <td>5500</td>\n",
       "      <td>0.003500</td>\n",
       "      <td>0.685076</td>\n",
       "      <td>0.520408</td>\n",
       "      <td>0.531963</td>\n",
       "      <td>0.520982</td>\n",
       "      <td>0.561644</td>\n",
       "    </tr>\n",
       "    <tr>\n",
       "      <td>6000</td>\n",
       "      <td>0.002000</td>\n",
       "      <td>0.702678</td>\n",
       "      <td>0.530612</td>\n",
       "      <td>0.534702</td>\n",
       "      <td>0.539960</td>\n",
       "      <td>0.547945</td>\n",
       "    </tr>\n",
       "    <tr>\n",
       "      <td>6500</td>\n",
       "      <td>0.001300</td>\n",
       "      <td>0.725743</td>\n",
       "      <td>0.500000</td>\n",
       "      <td>0.528671</td>\n",
       "      <td>0.513030</td>\n",
       "      <td>0.561644</td>\n",
       "    </tr>\n",
       "    <tr>\n",
       "      <td>7000</td>\n",
       "      <td>0.001200</td>\n",
       "      <td>0.703019</td>\n",
       "      <td>0.520408</td>\n",
       "      <td>0.551129</td>\n",
       "      <td>0.537057</td>\n",
       "      <td>0.575342</td>\n",
       "    </tr>\n",
       "    <tr>\n",
       "      <td>7500</td>\n",
       "      <td>0.001200</td>\n",
       "      <td>0.716124</td>\n",
       "      <td>0.510204</td>\n",
       "      <td>0.524396</td>\n",
       "      <td>0.519423</td>\n",
       "      <td>0.547945</td>\n",
       "    </tr>\n",
       "  </tbody>\n",
       "</table><p>"
      ],
      "text/plain": [
       "<IPython.core.display.HTML object>"
      ]
     },
     "metadata": {},
     "output_type": "display_data"
    }
   ],
   "source": [
    "with mock.patch('wandb.init', return_value=Dummy()):\n",
    "    trainer.train()"
   ]
  },
  {
   "cell_type": "code",
   "execution_count": null,
   "metadata": {
    "execution": {
     "iopub.execute_input": "2025-01-19T09:12:06.621025Z",
     "iopub.status.busy": "2025-01-19T09:12:06.620720Z",
     "iopub.status.idle": "2025-01-19T09:12:06.625141Z",
     "shell.execute_reply": "2025-01-19T09:12:06.624567Z",
     "shell.execute_reply.started": "2025-01-19T09:12:06.621002Z"
    },
    "trusted": true
   },
   "outputs": [],
   "source": [
    "def find_best_threshold(pred, thresholds):\n",
    "    best_threshold = 0.5\n",
    "    best_f1 = 0\n",
    "\n",
    "    for t in thresholds:\n",
    "        metrics = compute_metrics(pred, threshold=t)\n",
    "        print(f\"metrics: {metrics}\")\n",
    "        if metrics['f1'] > best_f1:\n",
    "            best_f1 = metrics['f1']\n",
    "            best_threshold = t\n",
    "\n",
    "    return best_threshold, best_f1"
   ]
  },
  {
   "cell_type": "code",
   "execution_count": null,
   "metadata": {
    "execution": {
     "iopub.execute_input": "2025-01-19T09:12:09.710680Z",
     "iopub.status.busy": "2025-01-19T09:12:09.710336Z",
     "iopub.status.idle": "2025-01-19T09:12:09.715658Z",
     "shell.execute_reply": "2025-01-19T09:12:09.714729Z",
     "shell.execute_reply.started": "2025-01-19T09:12:09.710641Z"
    },
    "trusted": true
   },
   "outputs": [],
   "source": [
    "def evaluate_on_validation_set(trainer, threshold_range=np.linspace(0.1, 0.9, 9)):\n",
    "    predictions, labels, _ = trainer.predict(dev_dataset) \n",
    "    pred = (predictions, labels)\n",
    "\n",
    "    best_threshold, best_f1 = find_best_threshold(pred, thresholds=threshold_range)\n",
    "    print(\"----------------------------------------------\")\n",
    "    print(f\"Best Threshold: {best_threshold}, Best F1-Score: {best_f1:.4f}\")\n",
    "    print(\"***********************************************\")\n",
    "    final_metrics = compute_metrics(pred, threshold=best_threshold)\n",
    "    print(f\"Metrics with Best Threshold: {final_metrics}\")\n",
    "\n",
    "    return best_threshold, final_metrics"
   ]
  },
  {
   "cell_type": "code",
   "execution_count": 32,
   "metadata": {
    "execution": {
     "iopub.execute_input": "2025-01-19T09:12:12.867260Z",
     "iopub.status.busy": "2025-01-19T09:12:12.866975Z",
     "iopub.status.idle": "2025-01-19T09:12:13.751967Z",
     "shell.execute_reply": "2025-01-19T09:12:13.751012Z",
     "shell.execute_reply.started": "2025-01-19T09:12:12.867238Z"
    },
    "trusted": true
   },
   "outputs": [
    {
     "data": {
      "text/html": [],
      "text/plain": [
       "<IPython.core.display.HTML object>"
      ]
     },
     "metadata": {},
     "output_type": "display_data"
    },
    {
     "name": "stdout",
     "output_type": "stream",
     "text": [
      "metrics: {'accuracy': 0.35714285714285715, 'f1': 0.5515821120684526, 'precision': 0.4954422984202615, 'recall': 0.7534246575342466}\n",
      "metrics: {'accuracy': 0.5102040816326531, 'f1': 0.5401858415557046, 'precision': 0.4716242661448141, 'recall': 0.6575342465753424}\n",
      "metrics: {'accuracy': 0.5306122448979592, 'f1': 0.5334637964774952, 'precision': 0.5382639620653319, 'recall': 0.6027397260273972}\n",
      "metrics: {'accuracy': 0.5306122448979592, 'f1': 0.49465484824066613, 'precision': 0.4767030099711117, 'recall': 0.547945205479452}\n",
      "metrics: {'accuracy': 0.5408163265306123, 'f1': 0.4766788409012421, 'precision': 0.48634485757773427, 'recall': 0.5068493150684932}\n",
      "metrics: {'accuracy': 0.5306122448979592, 'f1': 0.41867408725561617, 'precision': 0.42400521852576645, 'recall': 0.4383561643835616}\n",
      "metrics: {'accuracy': 0.5714285714285714, 'f1': 0.4078994515035418, 'precision': 0.4432736213558131, 'recall': 0.410958904109589}\n",
      "metrics: {'accuracy': 0.5612244897959183, 'f1': 0.35013698630136986, 'precision': 0.4178082191780822, 'recall': 0.3287671232876712}\n",
      "metrics: {'accuracy': 0.5408163265306123, 'f1': 0.25504358655043585, 'precision': 0.30494341870160807, 'recall': 0.2191780821917808}\n",
      "----------------------------------------------\n",
      "Best Threshold: 0.1, Best F1-Score: 0.5516\n",
      "***********************************************\n",
      "Metrics with Best Threshold: {'accuracy': 0.35714285714285715, 'f1': 0.5515821120684526, 'precision': 0.4954422984202615, 'recall': 0.7534246575342466}\n",
      "Optimal Threshold: 0.1\n",
      "Final Metrics: {'accuracy': 0.35714285714285715, 'f1': 0.5515821120684526, 'precision': 0.4954422984202615, 'recall': 0.7534246575342466}\n"
     ]
    }
   ],
   "source": [
    "best_threshold, final_metrics = evaluate_on_validation_set(trainer)\n",
    "print(f\"Optimal Threshold: {best_threshold}\")\n",
    "print(f\"Final Metrics: {final_metrics}\")"
   ]
  },
  {
   "cell_type": "code",
   "execution_count": null,
   "metadata": {
    "execution": {
     "iopub.execute_input": "2025-01-19T09:12:25.469332Z",
     "iopub.status.busy": "2025-01-19T09:12:25.469004Z",
     "iopub.status.idle": "2025-01-19T09:12:26.310238Z",
     "shell.execute_reply": "2025-01-19T09:12:26.309535Z",
     "shell.execute_reply.started": "2025-01-19T09:12:25.469302Z"
    },
    "trusted": true
   },
   "outputs": [
    {
     "data": {
      "text/html": [],
      "text/plain": [
       "<IPython.core.display.HTML object>"
      ]
     },
     "metadata": {},
     "output_type": "display_data"
    }
   ],
   "source": [
    "dev_results = trainer.predict(dev_dataset)\n",
    "\n",
    "predictions = (torch.sigmoid(torch.tensor(dev_results.predictions)) > 0.1).numpy()\n",
    "conf_matrix = confusion_matrix(dev_labels.ravel(), predictions.ravel())"
   ]
  },
  {
   "cell_type": "code",
   "execution_count": 34,
   "metadata": {
    "execution": {
     "iopub.execute_input": "2025-01-19T09:12:28.407254Z",
     "iopub.status.busy": "2025-01-19T09:12:28.406973Z",
     "iopub.status.idle": "2025-01-19T09:12:28.668016Z",
     "shell.execute_reply": "2025-01-19T09:12:28.667319Z",
     "shell.execute_reply.started": "2025-01-19T09:12:28.407230Z"
    },
    "trusted": true
   },
   "outputs": [
    {
     "data": {
      "image/png": "[encoded data removed]",
      "text/plain": [
       "<Figure size 640x480 with 2 Axes>"
      ]
     },
     "metadata": {},
     "output_type": "display_data"
    }
   ],
   "source": [
    "disp = ConfusionMatrixDisplay(confusion_matrix=conf_matrix)\n",
    "disp.plot(cmap=plt.cm.Blues)\n",
    "plt.title('Confusion Matrix')\n",
    "plt.show()"
   ]
  },
  {
   "cell_type": "code",
   "execution_count": null,
   "metadata": {
    "execution": {
     "iopub.execute_input": "2025-01-19T09:12:36.226223Z",
     "iopub.status.busy": "2025-01-19T09:12:36.225917Z",
     "iopub.status.idle": "2025-01-19T09:12:36.406156Z",
     "shell.execute_reply": "2025-01-19T09:12:36.405381Z",
     "shell.execute_reply.started": "2025-01-19T09:12:36.226199Z"
    },
    "trusted": true
   },
   "outputs": [
    {
     "data": {
      "image/png": "[encoded data removed]",
      "text/plain": [
       "<Figure size 640x480 with 1 Axes>"
      ]
     },
     "metadata": {},
     "output_type": "display_data"
    }
   ],
   "source": [
    "fpr, tpr, _ = roc_curve(dev_labels.ravel(), dev_results.predictions.ravel())\n",
    "roc_auc = auc(fpr, tpr)\n",
    "\n",
    "plt.figure()\n",
    "plt.plot(fpr, tpr, color='blue', lw=2, label=f'ROC curve (AUC = {roc_auc:.2f})')\n",
    "plt.plot([0, 1], [0, 1], color='gray', lw=2, linestyle='--')\n",
    "plt.xlabel('False Positive Rate')\n",
    "plt.ylabel('True Positive Rate')\n",
    "plt.title('Receiver Operating Characteristic')\n",
    "plt.legend(loc='lower right')\n",
    "plt.show()"
   ]
  },
  {
   "cell_type": "code",
   "execution_count": null,
   "metadata": {
    "execution": {
     "iopub.execute_input": "2025-01-19T09:12:40.845801Z",
     "iopub.status.busy": "2025-01-19T09:12:40.845520Z",
     "iopub.status.idle": "2025-01-19T09:12:40.855837Z",
     "shell.execute_reply": "2025-01-19T09:12:40.854955Z",
     "shell.execute_reply.started": "2025-01-19T09:12:40.845777Z"
    },
    "trusted": true
   },
   "outputs": [
    {
     "name": "stdout",
     "output_type": "stream",
     "text": [
      "Accuracy: 0.3571\n",
      "anger: Precision=0.2857, Recall=0.8000, F1=0.4211\n",
      "disgust: Precision=1.0000, Recall=0.2000, F1=0.3333\n",
      "fear: Precision=0.3000, Recall=0.5000, F1=0.3750\n",
      "joy: Precision=0.4493, Recall=0.9688, F1=0.6139\n",
      "sadness: Precision=0.6190, Recall=0.6842, F1=0.6500\n"
     ]
    }
   ],
   "source": [
    "precision, recall, f1, _ = precision_recall_fscore_support(\n",
    "    dev_labels, predictions, average=None\n",
    ")\n",
    "accuracy = accuracy_score(dev_labels, predictions)\n",
    "\n",
    "print(f'Accuracy: {accuracy:.4f}')\n",
    "for i, label in enumerate(['anger', 'disgust', 'fear', 'joy', 'sadness']):\n",
    "    print(f\"{label}: Precision={precision[i]:.4f}, Recall={recall[i]:.4f}, F1={f1[i]:.4f}\")"
   ]
  },
  {
   "cell_type": "code",
   "execution_count": null,
   "metadata": {
    "execution": {
     "iopub.execute_input": "2025-01-19T09:12:56.697119Z",
     "iopub.status.busy": "2025-01-19T09:12:56.696839Z",
     "iopub.status.idle": "2025-01-19T09:13:04.542831Z",
     "shell.execute_reply": "2025-01-19T09:13:04.541979Z",
     "shell.execute_reply.started": "2025-01-19T09:12:56.697097Z"
    },
    "trusted": true
   },
   "outputs": [
    {
     "data": {
      "text/html": [],
      "text/plain": [
       "<IPython.core.display.HTML object>"
      ]
     },
     "metadata": {},
     "output_type": "display_data"
    }
   ],
   "source": [
    "test_encodings = tokenizer(list(test_afr['text']), truncation=True, padding=True, max_length=128, return_tensors=\"pt\")\n",
    "test_dataset = CustomDataset(test_encodings, np.zeros((len(test_afr), 5))) \n",
    "test_results = trainer.predict(test_dataset)\n",
    "test_predictions = (torch.sigmoid(torch.tensor(test_results.predictions)) > 0.1).numpy()\n",
    "\n",
    "test_afr[['anger', 'disgust', 'fear', 'joy', 'sadness']] = test_predictions\n",
    "test_afr.to_csv('test_predictions_afr_xlm_roberta_sentiment_v1.csv', index=False)"
   ]
  }
 ],
 "metadata": {
  "kaggle": {
   "accelerator": "nvidiaTeslaT4",
   "dataSources": [
    {
     "datasetId": 6347818,
     "sourceId": 10498281,
     "sourceType": "datasetVersion"
    }
   ],
   "dockerImageVersionId": 30840,
   "isGpuEnabled": true,
   "isInternetEnabled": true,
   "language": "python",
   "sourceType": "notebook"
  },
  "kernelspec": {
   "display_name": "Python 3",
   "language": "python",
   "name": "python3"
  },
  "language_info": {
   "codemirror_mode": {
    "name": "ipython",
    "version": 3
   },
   "file_extension": ".py",
   "mimetype": "text/x-python",
   "name": "python",
   "nbconvert_exporter": "python",
   "pygments_lexer": "ipython3",
   "version": "3.10.12"
  }
 },
 "nbformat": 4,
 "nbformat_minor": 4
}
